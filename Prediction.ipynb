{
 "cells": [
  {
   "cell_type": "markdown",
   "id": "c1eeffd1",
   "metadata": {},
   "source": [
    "<div style=\"color:white;background-color:#1d1545;padding:3%;border-radius:50px 50px;font-size:1.4em;text-align:center\">Regression Modeling for AI Index Dataset</div>\n",
    "<div class=\"alert alert-block alert-info\"> 📌 <b>Purpose:</b> This notebook provides a detailed walkthrough of building and evaluating regression models to predict <b>total_score</b> from the <b>AI Index 2023</b> dataset. We explore multiple models, preprocess data, and visualize performance.</div>\n",
    "\n"
   ]
  },
  {
   "cell_type": "markdown",
   "id": "710eb769",
   "metadata": {},
   "source": [
    "<!-- Step 1 Header Box -->\n",
    "<div style=\"color:white;background-color:#4A90E2;padding:1.5%;border-radius:20px;font-size:1.3em;text-align:left\"><b>Step 1: Import Required Libraries</b></div>\n",
    "<div class=\"alert alert-block alert-info\"> 📌 <b>Purpose:</b> Import essential libraries for data handling, visualization, preprocessing, modeling, and evaluation.</div>\n"
   ]
  },
  {
   "cell_type": "code",
   "execution_count": 1,
   "id": "4bfc7802",
   "metadata": {},
   "outputs": [
    {
     "name": "stderr",
     "output_type": "stream",
     "text": [
      "/var/folders/_x/1j3rm6sd6cn3kd7qpmy3s_k40000gn/T/ipykernel_9074/1558356968.py:2: DeprecationWarning: \n",
      "Pyarrow will become a required dependency of pandas in the next major release of pandas (pandas 3.0),\n",
      "(to allow more performant data types, such as the Arrow string type, and better interoperability with other libraries)\n",
      "but was not found to be installed on your system.\n",
      "If this would cause problems for you,\n",
      "please provide us feedback at https://github.com/pandas-dev/pandas/issues/54466\n",
      "        \n",
      "  import pandas as pd\n"
     ]
    }
   ],
   "source": [
    "# Import libraries for data manipulation, modeling, preprocessing, and visualization\n",
    "import pandas as pd\n",
    "import numpy as np\n",
    "import matplotlib.pyplot as plt\n",
    "import seaborn as sns\n",
    "\n",
    "# Scikit-learn modules for machine learning pipeline\n",
    "from sklearn.model_selection import train_test_split\n",
    "from sklearn.preprocessing import StandardScaler, OneHotEncoder\n",
    "from sklearn.compose import ColumnTransformer\n",
    "from sklearn.pipeline import Pipeline\n",
    "from sklearn.linear_model import LinearRegression, Ridge, Lasso\n",
    "from sklearn.tree import DecisionTreeRegressor\n",
    "from sklearn.ensemble import RandomForestRegressor, GradientBoostingRegressor\n",
    "from sklearn.svm import SVR\n",
    "from sklearn.neural_network import MLPRegressor\n",
    "from sklearn.metrics import mean_squared_error, mean_absolute_error, r2_score"
   ]
  },
  {
   "cell_type": "markdown",
   "id": "0763edcd",
   "metadata": {},
   "source": [
    "<!-- Step 2 Header Box -->\n",
    "<div style=\"color:white;background-color:#4A90E2;padding:1.5%;border-radius:20px;font-size:1.3em;text-align:left\"><b>Step 2: Load and Preview the Dataset</b></div>\n",
    "<div class=\"alert alert-block alert-info\"> 📌 <b>Purpose:</b> Load the AI Index dataset and preview a few records to understand the structure and values.</div>\n"
   ]
  },
  {
   "cell_type": "code",
   "execution_count": 2,
   "id": "2f5f6f6a",
   "metadata": {},
   "outputs": [
    {
     "data": {
      "text/html": [
       "<div>\n",
       "<style scoped>\n",
       "    .dataframe tbody tr th:only-of-type {\n",
       "        vertical-align: middle;\n",
       "    }\n",
       "\n",
       "    .dataframe tbody tr th {\n",
       "        vertical-align: top;\n",
       "    }\n",
       "\n",
       "    .dataframe thead th {\n",
       "        text-align: right;\n",
       "    }\n",
       "</style>\n",
       "<table border=\"1\" class=\"dataframe\">\n",
       "  <thead>\n",
       "    <tr style=\"text-align: right;\">\n",
       "      <th></th>\n",
       "      <th>country</th>\n",
       "      <th>talent</th>\n",
       "      <th>infrastructure</th>\n",
       "      <th>operating_environment</th>\n",
       "      <th>research</th>\n",
       "      <th>development</th>\n",
       "      <th>government_strategy</th>\n",
       "      <th>commercial</th>\n",
       "      <th>total_score</th>\n",
       "      <th>region</th>\n",
       "      <th>cluster</th>\n",
       "      <th>income_group</th>\n",
       "      <th>political_regime</th>\n",
       "    </tr>\n",
       "  </thead>\n",
       "  <tbody>\n",
       "    <tr>\n",
       "      <th>0</th>\n",
       "      <td>United States Of America</td>\n",
       "      <td>100.00</td>\n",
       "      <td>61.794655</td>\n",
       "      <td>64.56</td>\n",
       "      <td>100.00</td>\n",
       "      <td>12.931864</td>\n",
       "      <td>77.39</td>\n",
       "      <td>100.00</td>\n",
       "      <td>100.000000</td>\n",
       "      <td>Americas</td>\n",
       "      <td>Power Players</td>\n",
       "      <td>High</td>\n",
       "      <td>Liberal Democracy</td>\n",
       "    </tr>\n",
       "    <tr>\n",
       "      <th>1</th>\n",
       "      <td>China</td>\n",
       "      <td>16.51</td>\n",
       "      <td>100.000000</td>\n",
       "      <td>91.57</td>\n",
       "      <td>71.42</td>\n",
       "      <td>79.970000</td>\n",
       "      <td>94.87</td>\n",
       "      <td>44.02</td>\n",
       "      <td>62.920000</td>\n",
       "      <td>Asia-Pacific</td>\n",
       "      <td>Power Players</td>\n",
       "      <td>Upper Middle</td>\n",
       "      <td>Closed Autocracy</td>\n",
       "    </tr>\n",
       "    <tr>\n",
       "      <th>2</th>\n",
       "      <td>United Kingdom</td>\n",
       "      <td>39.65</td>\n",
       "      <td>71.430000</td>\n",
       "      <td>74.65</td>\n",
       "      <td>36.50</td>\n",
       "      <td>25.030000</td>\n",
       "      <td>82.82</td>\n",
       "      <td>18.91</td>\n",
       "      <td>40.930000</td>\n",
       "      <td>Europe</td>\n",
       "      <td>Traditional Champions</td>\n",
       "      <td>High</td>\n",
       "      <td>Liberal Democracy</td>\n",
       "    </tr>\n",
       "    <tr>\n",
       "      <th>3</th>\n",
       "      <td>Canada</td>\n",
       "      <td>31.28</td>\n",
       "      <td>77.050000</td>\n",
       "      <td>93.94</td>\n",
       "      <td>30.67</td>\n",
       "      <td>25.780000</td>\n",
       "      <td>100.00</td>\n",
       "      <td>14.88</td>\n",
       "      <td>24.173175</td>\n",
       "      <td>Americas</td>\n",
       "      <td>Traditional Champions</td>\n",
       "      <td>High</td>\n",
       "      <td>Liberal Democracy</td>\n",
       "    </tr>\n",
       "    <tr>\n",
       "      <th>4</th>\n",
       "      <td>Israel</td>\n",
       "      <td>35.76</td>\n",
       "      <td>67.580000</td>\n",
       "      <td>82.44</td>\n",
       "      <td>32.63</td>\n",
       "      <td>27.960000</td>\n",
       "      <td>43.91</td>\n",
       "      <td>27.33</td>\n",
       "      <td>24.173175</td>\n",
       "      <td>Middle East</td>\n",
       "      <td>Rising Stars</td>\n",
       "      <td>High</td>\n",
       "      <td>Liberal Democracy</td>\n",
       "    </tr>\n",
       "  </tbody>\n",
       "</table>\n",
       "</div>"
      ],
      "text/plain": [
       "                    country  talent  infrastructure  operating_environment  \\\n",
       "0  United States Of America  100.00       61.794655                  64.56   \n",
       "1                     China   16.51      100.000000                  91.57   \n",
       "2            United Kingdom   39.65       71.430000                  74.65   \n",
       "3                    Canada   31.28       77.050000                  93.94   \n",
       "4                    Israel   35.76       67.580000                  82.44   \n",
       "\n",
       "   research  development  government_strategy  commercial  total_score  \\\n",
       "0    100.00    12.931864                77.39      100.00   100.000000   \n",
       "1     71.42    79.970000                94.87       44.02    62.920000   \n",
       "2     36.50    25.030000                82.82       18.91    40.930000   \n",
       "3     30.67    25.780000               100.00       14.88    24.173175   \n",
       "4     32.63    27.960000                43.91       27.33    24.173175   \n",
       "\n",
       "         region                cluster  income_group   political_regime  \n",
       "0      Americas          Power Players          High  Liberal Democracy  \n",
       "1  Asia-Pacific          Power Players  Upper Middle   Closed Autocracy  \n",
       "2        Europe  Traditional Champions          High  Liberal Democracy  \n",
       "3      Americas  Traditional Champions          High  Liberal Democracy  \n",
       "4   Middle East           Rising Stars          High  Liberal Democracy  "
      ]
     },
     "execution_count": 2,
     "metadata": {},
     "output_type": "execute_result"
    }
   ],
   "source": [
    "df = pd.read_csv(\"/Users/sukanya/Downloads/Data Science Project/AI_index_db.csv\")\n",
    "df.head()  # Display the first five rows to get an overview of the data"
   ]
  },
  {
   "cell_type": "markdown",
   "id": "ee37e5d3",
   "metadata": {},
   "source": [
    "<!-- Step 3 Header Box -->\n",
    "<div style=\"color:white;background-color:#4A90E2;padding:1.5%;border-radius:20px;font-size:1.3em;text-align:left\"><b>Step 3: Define Features and Target</b></div>\n",
    "<div class=\"alert alert-block alert-info\"> 📌 <b>Purpose:</b> Identify the input variables (features) and output variable (target) for modeling.</div>\n"
   ]
  },
  {
   "cell_type": "code",
   "execution_count": 3,
   "id": "4484fa96",
   "metadata": {},
   "outputs": [],
   "source": [
    "target = \"total_score\"\n",
    "numerical_features = ['talent', 'infrastructure', 'operating_environment', \n",
    "                      'research', 'development', 'government_strategy', 'commercial']\n",
    "categorical_features = ['region', 'cluster', 'income_group', 'political_regime']\n",
    "\n",
    "X = df[numerical_features + categorical_features]\n",
    "y = df[target]  # This is our prediction target"
   ]
  },
  {
   "cell_type": "markdown",
   "id": "2c82935b",
   "metadata": {},
   "source": [
    "<!-- Step 4 Header Box -->\n",
    "<div style=\"color:white;background-color:#4A90E2;padding:1.5%;border-radius:20px;font-size:1.3em;text-align:left\"><b>Step 4: Preprocess the Data</b></div>\n",
    "<div class=\"alert alert-block alert-info\"> 📌 <b>Purpose:</b> Prepare the data for machine learning by normalizing numerical values and encoding categorical variables.</div>\n"
   ]
  },
  {
   "cell_type": "code",
   "execution_count": 4,
   "id": "ccd974fb",
   "metadata": {},
   "outputs": [],
   "source": [
    "numeric_transformer = Pipeline(steps=[\n",
    "    (\"scaler\", StandardScaler())\n",
    "])\n",
    "\n",
    "categorical_transformer = Pipeline(steps=[\n",
    "    (\"encoder\", OneHotEncoder(handle_unknown=\"ignore\"))\n",
    "])\n",
    "\n",
    "# Combine both preprocessing steps using ColumnTransformer\n",
    "preprocessor = ColumnTransformer(\n",
    "    transformers=[\n",
    "        (\"num\", numeric_transformer, numerical_features),\n",
    "        (\"cat\", categorical_transformer, categorical_features)\n",
    "    ]\n",
    ")"
   ]
  },
  {
   "cell_type": "markdown",
   "id": "21ca6f60",
   "metadata": {},
   "source": [
    "<!-- Step 5 Header Box -->\n",
    "<div style=\"color:white;background-color:#4A90E2;padding:1.5%;border-radius:20px;font-size:1.3em;text-align:left\"><b>Step 5: Define Regression Models</b></div>\n",
    "<div class=\"alert alert-block alert-info\"> 📌 <b>Purpose:</b> Set up multiple regression models to evaluate and compare performance.</div>\n"
   ]
  },
  {
   "cell_type": "code",
   "execution_count": 5,
   "id": "902d4268",
   "metadata": {},
   "outputs": [],
   "source": [
    "models = {\n",
    "    \"Linear Regression\": LinearRegression(),\n",
    "    \"Decision Tree\": DecisionTreeRegressor(random_state=42),\n",
    "    \"Random Forest\": RandomForestRegressor(random_state=42),\n",
    "    \"Neural Network\": MLPRegressor(random_state=42, max_iter=1000)\n",
    "}"
   ]
  },
  {
   "cell_type": "markdown",
   "id": "a2bcfc18",
   "metadata": {},
   "source": [
    "<!-- Step 6 Header Box -->\n",
    "<div style=\"color:white;background-color:#4A90E2;padding:1.5%;border-radius:20px;font-size:1.3em;text-align:left\"><b>Step 6: Train-Test Split</b></div>\n",
    "<div class=\"alert alert-block alert-info\"> 📌 <b>Purpose:</b> Split the dataset into training and testing sets to evaluate model generalization.</div>"
   ]
  },
  {
   "cell_type": "code",
   "execution_count": 6,
   "id": "b19b0690",
   "metadata": {},
   "outputs": [],
   "source": [
    "X_train, X_test, y_train, y_test = train_test_split(\n",
    "    X, y, test_size=0.2, random_state=42)"
   ]
  },
  {
   "cell_type": "markdown",
   "id": "70b4b54b",
   "metadata": {},
   "source": [
    "<!-- Step 7 Header Box -->\n",
    "<div style=\"color:white;background-color:#4A90E2;padding:1.5%;border-radius:20px;font-size:1.3em;text-align:left\"><b>Step 7: Train and Evaluate Models</b></div>\n",
    "<div class=\"alert alert-block alert-info\"> 📌 <b>Purpose:</b> Train each model, make predictions, and evaluate using common regression metrics.</div>\n",
    "\n"
   ]
  },
  {
   "cell_type": "code",
   "execution_count": 11,
   "id": "ded6e387",
   "metadata": {},
   "outputs": [
    {
     "name": "stdout",
     "output_type": "stream",
     "text": [
      "╒═══════════════════╤═════════╤══════════╤══════════╕\n",
      "│ Model             │    RMSE │      MAE │       R2 │\n",
      "╞═══════════════════╪═════════╪══════════╪══════════╡\n",
      "│ Linear Regression │ 15.7027 │  8.93548 │ 0.742079 │\n",
      "├───────────────────┼─────────┼──────────┼──────────┤\n",
      "│ Neural Network    │ 17.5754 │  9.83127 │ 0.67689  │\n",
      "├───────────────────┼─────────┼──────────┼──────────┤\n",
      "│ Random Forest     │ 25.4267 │ 12.9096  │ 0.323732 │\n",
      "├───────────────────┼─────────┼──────────┼──────────┤\n",
      "│ Decision Tree     │ 27.4546 │ 13.7374  │ 0.211561 │\n",
      "╘═══════════════════╧═════════╧══════════╧══════════╛\n"
     ]
    },
    {
     "name": "stderr",
     "output_type": "stream",
     "text": [
      "/opt/homebrew/lib/python3.11/site-packages/sklearn/metrics/_regression.py:483: FutureWarning: 'squared' is deprecated in version 1.4 and will be removed in 1.6. To calculate the root mean squared error, use the function'root_mean_squared_error'.\n",
      "  warnings.warn(\n",
      "/opt/homebrew/lib/python3.11/site-packages/sklearn/metrics/_regression.py:483: FutureWarning: 'squared' is deprecated in version 1.4 and will be removed in 1.6. To calculate the root mean squared error, use the function'root_mean_squared_error'.\n",
      "  warnings.warn(\n",
      "/opt/homebrew/lib/python3.11/site-packages/sklearn/metrics/_regression.py:483: FutureWarning: 'squared' is deprecated in version 1.4 and will be removed in 1.6. To calculate the root mean squared error, use the function'root_mean_squared_error'.\n",
      "  warnings.warn(\n",
      "/opt/homebrew/lib/python3.11/site-packages/sklearn/neural_network/_multilayer_perceptron.py:691: ConvergenceWarning: Stochastic Optimizer: Maximum iterations (1000) reached and the optimization hasn't converged yet.\n",
      "  warnings.warn(\n",
      "/opt/homebrew/lib/python3.11/site-packages/sklearn/metrics/_regression.py:483: FutureWarning: 'squared' is deprecated in version 1.4 and will be removed in 1.6. To calculate the root mean squared error, use the function'root_mean_squared_error'.\n",
      "  warnings.warn(\n"
     ]
    }
   ],
   "source": [
    "results = []\n",
    "trained_models = {}\n",
    "\n",
    "for name, model in models.items():\n",
    "    pipe = Pipeline(steps=[\n",
    "        (\"preprocessor\", preprocessor),\n",
    "        (\"regressor\", model)\n",
    "    ])\n",
    "    pipe.fit(X_train, y_train)\n",
    "    y_pred = pipe.predict(X_test)\n",
    "\n",
    "    rmse = mean_squared_error(y_test, y_pred, squared=False)\n",
    "    mae = mean_absolute_error(y_test, y_pred)\n",
    "    r2 = r2_score(y_test, y_pred)\n",
    "\n",
    "    results.append({\"Model\": name, \"RMSE\": rmse, \"MAE\": mae, \"R2\": r2})\n",
    "    trained_models[name] = pipe\n",
    "\n",
    "# Create a DataFrame to rank and display the model metrics\n",
    "results_df = pd.DataFrame(results).sort_values(by=\"RMSE\")\n",
    "\n",
    "from tabulate import tabulate\n",
    "print(tabulate(results_df, headers='keys', tablefmt='fancy_grid', showindex=False))"
   ]
  },
  {
   "cell_type": "markdown",
   "id": "1458b84d",
   "metadata": {},
   "source": [
    "<!-- Step 8 Header Box -->\n",
    "<div style=\"color:white;background-color:#4A90E2;padding:1.5%;border-radius:20px;font-size:1.3em;text-align:left\"><b>Step 8: Visualize Model Performance</b></div>\n",
    "<div class=\"alert alert-block alert-info\"> 📌 <b>Purpose:</b> Compare model performance visually across RMSE, MAE, and R-squared metrics.</div>\n"
   ]
  },
  {
   "cell_type": "code",
   "execution_count": 9,
   "id": "7719fe1d",
   "metadata": {},
   "outputs": [
    {
     "data": {
      "image/png": "[encoded data removed]",
      "text/plain": [
       "<Figure size 1200x600 with 1 Axes>"
      ]
     },
     "metadata": {},
     "output_type": "display_data"
    }
   ],
   "source": [
    "plt.figure(figsize=(12, 6))\n",
    "sns.barplot(data=results_df.melt(id_vars=\"Model\", value_vars=[\"RMSE\", \"MAE\", \"R2\"]),\n",
    "            x=\"Model\", y=\"value\", hue=\"variable\")\n",
    "plt.title(\"Regression Model Performance Comparison\")\n",
    "plt.xticks(rotation=45)\n",
    "plt.ylabel(\"Score\")\n",
    "plt.tight_layout()\n",
    "plt.show()"
   ]
  },
  {
   "cell_type": "code",
   "execution_count": 12,
   "id": "e8780f1b",
   "metadata": {},
   "outputs": [
    {
     "name": "stderr",
     "output_type": "stream",
     "text": [
      "/var/folders/_x/1j3rm6sd6cn3kd7qpmy3s_k40000gn/T/ipykernel_9074/2217399617.py:3: FutureWarning: \n",
      "\n",
      "Passing `palette` without assigning `hue` is deprecated and will be removed in v0.14.0. Assign the `y` variable to `hue` and set `legend=False` for the same effect.\n",
      "\n",
      "  sns.barplot(data=results_df, x=\"RMSE\", y=\"Model\", ax=axs[0], palette=\"viridis\")\n",
      "/var/folders/_x/1j3rm6sd6cn3kd7qpmy3s_k40000gn/T/ipykernel_9074/2217399617.py:8: FutureWarning: \n",
      "\n",
      "Passing `palette` without assigning `hue` is deprecated and will be removed in v0.14.0. Assign the `y` variable to `hue` and set `legend=False` for the same effect.\n",
      "\n",
      "  sns.barplot(data=results_df, x=\"MAE\", y=\"Model\", ax=axs[1], palette=\"magma\")\n",
      "/var/folders/_x/1j3rm6sd6cn3kd7qpmy3s_k40000gn/T/ipykernel_9074/2217399617.py:13: FutureWarning: \n",
      "\n",
      "Passing `palette` without assigning `hue` is deprecated and will be removed in v0.14.0. Assign the `y` variable to `hue` and set `legend=False` for the same effect.\n",
      "\n",
      "  sns.barplot(data=results_df, x=\"R2\", y=\"Model\", ax=axs[2], palette=\"coolwarm\")\n"
     ]
    },
    {
     "data": {
      "image/png": "[encoded data removed]",
      "text/plain": [
       "<Figure size 2000x600 with 3 Axes>"
      ]
     },
     "metadata": {},
     "output_type": "display_data"
    }
   ],
   "source": [
    "fig, axs = plt.subplots(1, 3, figsize=(20, 6))\n",
    "\n",
    "sns.barplot(data=results_df, x=\"RMSE\", y=\"Model\", ax=axs[0], palette=\"viridis\")\n",
    "axs[0].set_title(\"Root Mean Squared Error (RMSE)\")\n",
    "axs[0].set_xlabel(\"RMSE\")\n",
    "axs[0].set_ylabel(\"Model\")\n",
    "\n",
    "sns.barplot(data=results_df, x=\"MAE\", y=\"Model\", ax=axs[1], palette=\"magma\")\n",
    "axs[1].set_title(\"Mean Absolute Error (MAE)\")\n",
    "axs[1].set_xlabel(\"MAE\")\n",
    "axs[1].set_ylabel(\"\")\n",
    "\n",
    "sns.barplot(data=results_df, x=\"R2\", y=\"Model\", ax=axs[2], palette=\"coolwarm\")\n",
    "axs[2].set_title(\"R-squared (R²)\")\n",
    "axs[2].set_xlabel(\"R²\")\n",
    "axs[2].set_ylabel(\"\")\n",
    "\n",
    "plt.tight_layout()\n",
    "plt.show()"
   ]
  },
  {
   "cell_type": "markdown",
   "id": "79d63b22",
   "metadata": {},
   "source": [
    "<!-- Step 9 Header Box -->\n",
    "<div style=\"color:white;background-color:#4A90E2;padding:1.5%;border-radius:20px;font-size:1.3em;text-align:left\"><b>Step 9: Test on New Sample Data</b></div>\n",
    "<div class=\"alert alert-block alert-info\"> 📌 <b>Purpose:</b> Use the best-trained model to make a prediction on new, unseen input data.</div>\n"
   ]
  },
  {
   "cell_type": "code",
   "execution_count": 10,
   "id": "8c5a9477",
   "metadata": {},
   "outputs": [
    {
     "name": "stdout",
     "output_type": "stream",
     "text": [
      "✅ Predicted total_score: 37.48\n"
     ]
    }
   ],
   "source": [
    "best_model = trained_models[\"Linear Regression\"]\n",
    "\n",
    "new_input = pd.DataFrame([{\n",
    "    \"talent\": 50,\n",
    "    \"infrastructure\": 60,\n",
    "    \"operating_environment\": 70,\n",
    "    \"research\": 40,\n",
    "    \"development\": 30,\n",
    "    \"government_strategy\": 80,\n",
    "    \"commercial\": 45,\n",
    "    \"region\": \"Europe\",\n",
    "    \"cluster\": \"Rising Stars\",\n",
    "    \"income_group\": \"High\",\n",
    "    \"political_regime\": \"Liberal Democracy\"\n",
    "}])\n",
    "\n",
    "predicted_score = best_model.predict(new_input)[0]\n",
    "print(f\"\\u2705 Predicted total_score: {predicted_score:.2f}\")"
   ]
  }
 ],
 "metadata": {
  "kernelspec": {
   "display_name": "Python 3",
   "language": "python",
   "name": "python3"
  },
  "language_info": {
   "codemirror_mode": {
    "name": "ipython",
    "version": 3
   },
   "file_extension": ".py",
   "mimetype": "text/x-python",
   "name": "python",
   "nbconvert_exporter": "python",
   "pygments_lexer": "ipython3",
   "version": "3.11.9"
  }
 },
 "nbformat": 4,
 "nbformat_minor": 5
}
