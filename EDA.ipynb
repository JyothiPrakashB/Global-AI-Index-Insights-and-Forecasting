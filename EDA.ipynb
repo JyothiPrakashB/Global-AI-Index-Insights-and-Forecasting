{
 "cells": [
  {
   "cell_type": "code",
   "execution_count": 31,
   "id": "39b1376c",
   "metadata": {
    "_kg_hide-input": true,
    "execution": {
     "iopub.execute_input": "2023-08-09T09:38:03.418049Z",
     "iopub.status.busy": "2023-08-09T09:38:03.417244Z",
     "iopub.status.idle": "2023-08-09T09:38:05.437233Z",
     "shell.execute_reply": "2023-08-09T09:38:05.436213Z"
    },
    "papermill": {
     "duration": 2.047274,
     "end_time": "2023-08-09T09:38:05.439391",
     "exception": false,
     "start_time": "2023-08-09T09:38:03.392117",
     "status": "completed"
    },
    "tags": []
   },
   "outputs": [
    {
     "data": {
      "text/html": [
       "<marquee>~ “AI is likely to have ... transformative effects across society and a whole wide range of industries, increasing economic productivity, accelerating scientific progress, and transforming military power.” – Paul Scharre</marquee>"
      ],
      "text/plain": [
       "<IPython.core.display.HTML object>"
      ]
     },
     "metadata": {},
     "output_type": "display_data"
    }
   ],
   "source": [
    "from IPython.display import HTML\n",
    "import time\n",
    "\n",
    "handle = display(HTML(\"\"\"<marquee>👌</marquee>\"\"\"), display_id='html_marquee1')\n",
    "time.sleep(2)\n",
    "handle = display(HTML(\"\"\"<marquee>~ “AI is likely to have ... transformative effects across society and a whole wide range of industries, increasing economic productivity, accelerating scientific progress, and transforming military power.” – Paul Scharre</marquee>\"\"\"), display_id='html_marquee1', update=True)"
   ]
  },
  {
   "cell_type": "markdown",
   "id": "a2448291",
   "metadata": {
    "papermill": {
     "duration": 0.023193,
     "end_time": "2023-08-09T09:38:05.486231",
     "exception": false,
     "start_time": "2023-08-09T09:38:05.463038",
     "status": "completed"
    },
    "tags": []
   },
   "source": [
    "# <div style=\"color:white;background-color:#1d1545;padding:3%;border-radius:50px 50px;font-size:1em;text-align:center\">Executive Summary</div>\n",
    "\n",
    "<div class=\"alert alert-block alert-info\"> 📌 <b>Summary</b>: This notebook is intended to \n",
    "<ul>\n",
    "    <li>Provide exhaustive and comprehensive EDA on AI Index dataset as of 2023</li>\n",
    "    <li>Discuss the data-driven insights and implications to the global AI trends </li>\n",
    "</ul></div>\n",
    "\n",
    "They key hightlights are below\n",
    "\n",
    "- Research, Development, Talent, and Commercial variables have the most tangible contribution to Total score of AI Index\n",
    "- Government Strategy and Infrastructure have less impact on the overall AI Index\n",
    "- Two power players (USA, China) largly outperform the rest of the countries in terms of AI Index metrics; at the same time, these countries demonstrate the different approach to building and developing their AI infrastructure/technologies/ecosystem, and the concurrency (or even soft 'war') between them will shape the global AI adoption landscape across the globe\n",
    "- The Power players (USA, China) lead the ranks in terms of the Total score in AI Index, although the gap between the total score of USA and China is significant per se\n",
    "- Some of the countries in Rasing stars cluster (Israel, Singapore, South Korea, The Netherlands) outperform some of the traditional champions (that is, Germany and France), in terms of the total score\n",
    "- The United States is the top country in the number of AI talents (an average score of all factors is 100)\n",
    "- India does not fit into the top ten list of the countries by *Total score*, although it holds the second position in terms of AI Talent score\n",
    "- The Top 5 countries with the highest AI implementation level are the United States, The Netherlands, Canada, China, and Great Britain. \n",
    "- Only 35% of analyzed countries have an AI implementation score higher than 50.\n",
    "- China’s Infrastructure Is Most Appropriate for AI\n",
    "- Saudi Arabia's Society Is Most Friendly to AI (highest Operating Environment scores)\n",
    "- The Top 5 countries with the highest level of innovation in AI are the United States, China, South Korea, Australia, and Switzerland.\n",
    "- However, only the first two ones from the point above have an innovation score higher than 50. It testifies to the low level of AI development among the countries (in comparison with the leader - the USA) despite the shreds of evidence of AI worldwide exponential growth.\n",
    "- US-based specialists generate more AI ideas\n",
    "- AI development in the USA is at the highest Level\n",
    "- Additionally, we can observe the interesting 'outlier' represented by South Korea. This country demonstrates quite a low value of AI Research while its AI Development index is within the top 5 list for the entire dataset. It can idicate the country to become a powerful hub for prototyping various AI-centric solutions, products, and hardware where the ideas/patents proposed by the specialists from other countries are being 'productized'/validated by the practical applications.\n",
    "- Almost 70% of the countries in the dataset are ready for AI evolution at the governmental level; their Government Strategy indicator score is higher than 50.\n",
    "- The Top 5 countries in the Government AI Strategy rate are Canada, China, Saudi Arabia, Spain, and France (it is 5 out of 6 countries with a score higher than 90).\n",
    "- The United States is leading in the commercialization of AI and has no direct competition in this field\n",
    "- Although the United States Government Strategy in AI is not even in the top-5 of the strongest ones, it is scoring high on AI Investment indicators and is ranking first. The following four countries are China, Israel, the United Kingdom, and Canada; their Investment level is far behind the USA.\n",
    "\n",
    "On a generic note, there are two power players are on the map - the United States and China; however, China is almost 40% weaker than the USA. The following two countries, the United Kingdom and Canada are traditional champions (according to Tortoise Media’s classification).\n",
    "\n",
    "However, Germany and France, the other two traditional champions, stand in four positions after Israel, Singapore, South Korea, and the Netherlands (classified as rising stars). The other rising stars are Australia, Irlandia, Finlandia, Denmark, Japan, and Spain. All the other countries (among the analyzed 62 countries) except Sri Lanka, Egypt, Kenia, Nigeria, and Pakistan are the waking-up players; the last are nascent AI market players.\n",
    "\n",
    "As mentioned in [Global AI Race: Dominant Players and Aspiring Challengers](https://intersog.com/blog/ai-dominant-players-and-aspiring-challengers/) \n",
    "<blockquote>\n",
    "    <div class=\"alert alert-block alert-info\"> ❕❗ Despite being a broadly defined and enigmatic field, artificial intelligence continues to be a topic of extensive public debate, media frenzy, and political disagreement. Many countries are now hastening the publication of their national strategies for artificial intelligence, with a view to either revising or updating the approaches they adopted in previous years.<br><br>\n",
    "\n",
    "The analysis demonstrates that de jure, the majority of countries are favorable to AI growth - AI infrastructure is at a high level, and government and operating environment are supportive of AI. However, the de facto situation differs - there is not enough AI talent and, as a result, not enough innovations and development for many countries; there is a deficit of investments and under-commercialization in the AI sphere.<br><br>\n",
    "\n",
    "The United States and China demonstrate the best technical, financial, and social environment for AI growth, although the USA is far ahead. While these countries do not face stiff competition from other countries, many countries still have huge potential in the AI field.<br><br>\n",
    "\n",
    "Talking about the prospects, AI is expected to continue to grow globally. In recent years, there has been a significant increase in investment, research, and development in AI, with many countries considering it a strategic priority.<br><br>\n",
    "\n",
    "AI has already demonstrated its potential to transform various sectors, including healthcare, finance, transportation, and education. With the ongoing advancements in AI technologies such as deep learning, reinforcement learning, and natural language processing, among others, the potential applications of AI are vast and ever-expanding. Therefore, it is likely that AI will continue to grow and have a significant impact on many aspects of our lives in the future.\n",
    "    </div>\n",
    "</blockquote>\n",
    "\n",
    "<div class=\"alert alert-block alert-info\"> 🔅 <b>Note:</b> This analysis highlights that the power players (USA and China) built their successes in AI based on the fundamentally different principles. The deeper research into USA vs. China should conducted separately at a later moment. </div>"
   ]
  },
  {
   "cell_type": "markdown",
   "id": "7bcc02e9",
   "metadata": {
    "papermill": {
     "duration": 0.022743,
     "end_time": "2023-08-09T09:38:05.532650",
     "exception": false,
     "start_time": "2023-08-09T09:38:05.509907",
     "status": "completed"
    },
    "tags": []
   },
   "source": [
    "# <div style=\"color:white;background-color:#1d1545;padding:3%;border-radius:50px 50px;font-size:1em;text-align:center\">About the Data</div>\n",
    "\n",
    "<div class=\"alert alert-block alert-info\"> 📌 <b>Note</b>: The text in this section is copied from the respective <a href=\"https://www.kaggle.com/datasets/katerynameleshenko/ai-index\" target=\"_blank\">Dataset Description Page</a>.</div>\n",
    "\n",
    "The Dataset **\"AI Global index\"** includes The Global AI Index itself and seven indicators affecting the Index on 62 countries, as well as general information about the countries (region, cluster, income group and political regime).\n",
    "\n",
    "The **Global AI Index** is the first index to benchmark nations on their level of investment, innovation and implementation of artificial intelligence.\n",
    "\n",
    "*Talent, Infrastructure and Operating Environment* are the factors of **AI Implementation** group of indicators, which represents the application of artificial intelligence by professionals in various sectors, such as businesses, governments, and communities.\n",
    "\n",
    "- **Talent** indicator focuses on the availability of skilled practitioners for the provision of artificial intelligence solutions.\n",
    "- **Infrastructure** indicator focuses on the reliability and scale of access infrastructure, from electricity and internet, to super computing capabilities.\n",
    "- **Operating Environment** indicator focuses on the regulatory context, and public opinion surrounding artificial intelligence.\n",
    "\n",
    "*Research and Development* are the factors of **Innovation** group of indicators, which reflects the progress made in technology and methodology, which signify the potential for artificial intelligence to evolve and improve.\n",
    "\n",
    "- **Research** indicator focuses on the extent of specialist research and researchers; investigating the amount of publications and citations in credible academic journals.\n",
    "- **Development** indicator focuses on the development of fundamental platforms and algorithms upon which innovative artificial intelligence projects rely.\n",
    "\n",
    "*Government Strategy and Commercial* are the factors of **Investment** group of indicators, which reflects financial and procedural commitments to artificial intelligence.\n",
    "\n",
    "- **Government Strateg**y indicator focuses on the depth of commitment from national government to artificial intelligence; investigating spending commitments and national strategies.\n",
    "- **Commercial indicator** focuses on the level of startup activity, investment and business initiatives based on artificial intelligence.\n",
    "\n",
    "All these seven indicators were calculated by [Tortoise Media](https://www.tortoisemedia.com/intelligence/global-ai/) via weighting and summarizing 143 other indicators.\n",
    "\n",
    "<div class=\"alert alert-block alert-info\"> ✅ <b>Nota Bene</b>: The data was used in the analytical research - <a href=\"https://intersog.com/blog/ai-dominant-players-and-aspiring-challengers/\" target=\"_blank\">Artificial Intelligence on the World Stage: Dominant Players and Aspiring Challengers</a>\n",
    "</div>"
   ]
  },
  {
   "cell_type": "code",
   "execution_count": 32,
   "id": "a32dbd35",
   "metadata": {
    "_kg_hide-input": true,
    "execution": {
     "iopub.execute_input": "2023-08-09T09:38:05.582301Z",
     "iopub.status.busy": "2023-08-09T09:38:05.581693Z",
     "iopub.status.idle": "2023-08-09T09:38:07.622683Z",
     "shell.execute_reply": "2023-08-09T09:38:07.621572Z"
    },
    "papermill": {
     "duration": 2.069397,
     "end_time": "2023-08-09T09:38:07.625092",
     "exception": false,
     "start_time": "2023-08-09T09:38:05.555695",
     "status": "completed"
    },
    "tags": []
   },
   "outputs": [],
   "source": [
    "import pandas as pd\n",
    "import numpy as np\n",
    "\n",
    "import matplotlib.pyplot as plt\n",
    "import matplotlib.cm as cm\n",
    "import seaborn as sns\n",
    "\n",
    "import plotly.graph_objects as go\n",
    "from plotly.subplots import make_subplots\n",
    "import plotly.express as px\n",
    "import plotly.offline"
   ]
  },
  {
   "cell_type": "markdown",
   "id": "b2bdfb6b",
   "metadata": {
    "papermill": {
     "duration": 0.024868,
     "end_time": "2023-08-09T09:38:07.674287",
     "exception": false,
     "start_time": "2023-08-09T09:38:07.649419",
     "status": "completed"
    },
    "tags": []
   },
   "source": [
    "# <div style=\"color:white;background-color:#1d1545;padding:3%;border-radius:50px 50px;font-size:1em;text-align:center\">Initial Data Inspection</div>"
   ]
  },
  {
   "cell_type": "code",
   "execution_count": 33,
   "id": "b3480c16",
   "metadata": {
    "_kg_hide-input": true,
    "execution": {
     "iopub.execute_input": "2023-08-09T09:38:07.726645Z",
     "iopub.status.busy": "2023-08-09T09:38:07.726031Z",
     "iopub.status.idle": "2023-08-09T09:38:07.780114Z",
     "shell.execute_reply": "2023-08-09T09:38:07.779018Z"
    },
    "papermill": {
     "duration": 0.084289,
     "end_time": "2023-08-09T09:38:07.782549",
     "exception": false,
     "start_time": "2023-08-09T09:38:07.698260",
     "status": "completed"
    },
    "tags": []
   },
   "outputs": [
    {
     "data": {
      "text/html": [
       "<div>\n",
       "<style scoped>\n",
       "    .dataframe tbody tr th:only-of-type {\n",
       "        vertical-align: middle;\n",
       "    }\n",
       "\n",
       "    .dataframe tbody tr th {\n",
       "        vertical-align: top;\n",
       "    }\n",
       "\n",
       "    .dataframe thead th {\n",
       "        text-align: right;\n",
       "    }\n",
       "</style>\n",
       "<table border=\"1\" class=\"dataframe\">\n",
       "  <thead>\n",
       "    <tr style=\"text-align: right;\">\n",
       "      <th></th>\n",
       "      <th>Country</th>\n",
       "      <th>Talent</th>\n",
       "      <th>Infrastructure</th>\n",
       "      <th>Operating Environment</th>\n",
       "      <th>Research</th>\n",
       "      <th>Development</th>\n",
       "      <th>Government Strategy</th>\n",
       "      <th>Commercial</th>\n",
       "      <th>Total score</th>\n",
       "      <th>Region</th>\n",
       "      <th>Cluster</th>\n",
       "      <th>Income group</th>\n",
       "      <th>Political regime</th>\n",
       "    </tr>\n",
       "  </thead>\n",
       "  <tbody>\n",
       "    <tr>\n",
       "      <th>0</th>\n",
       "      <td>United States of America</td>\n",
       "      <td>100.00</td>\n",
       "      <td>94.02</td>\n",
       "      <td>64.56</td>\n",
       "      <td>100.00</td>\n",
       "      <td>100.00</td>\n",
       "      <td>77.39</td>\n",
       "      <td>100.00</td>\n",
       "      <td>100.00</td>\n",
       "      <td>Americas</td>\n",
       "      <td>Power players</td>\n",
       "      <td>High</td>\n",
       "      <td>Liberal democracy</td>\n",
       "    </tr>\n",
       "    <tr>\n",
       "      <th>1</th>\n",
       "      <td>China</td>\n",
       "      <td>16.51</td>\n",
       "      <td>100.00</td>\n",
       "      <td>91.57</td>\n",
       "      <td>71.42</td>\n",
       "      <td>79.97</td>\n",
       "      <td>94.87</td>\n",
       "      <td>44.02</td>\n",
       "      <td>62.92</td>\n",
       "      <td>Asia-Pacific</td>\n",
       "      <td>Power players</td>\n",
       "      <td>Upper middle</td>\n",
       "      <td>Closed autocracy</td>\n",
       "    </tr>\n",
       "    <tr>\n",
       "      <th>2</th>\n",
       "      <td>United Kingdom</td>\n",
       "      <td>39.65</td>\n",
       "      <td>71.43</td>\n",
       "      <td>74.65</td>\n",
       "      <td>36.50</td>\n",
       "      <td>25.03</td>\n",
       "      <td>82.82</td>\n",
       "      <td>18.91</td>\n",
       "      <td>40.93</td>\n",
       "      <td>Europe</td>\n",
       "      <td>Traditional champions</td>\n",
       "      <td>High</td>\n",
       "      <td>Liberal democracy</td>\n",
       "    </tr>\n",
       "    <tr>\n",
       "      <th>3</th>\n",
       "      <td>Canada</td>\n",
       "      <td>31.28</td>\n",
       "      <td>77.05</td>\n",
       "      <td>93.94</td>\n",
       "      <td>30.67</td>\n",
       "      <td>25.78</td>\n",
       "      <td>100.00</td>\n",
       "      <td>14.88</td>\n",
       "      <td>40.19</td>\n",
       "      <td>Americas</td>\n",
       "      <td>Traditional champions</td>\n",
       "      <td>High</td>\n",
       "      <td>Liberal democracy</td>\n",
       "    </tr>\n",
       "    <tr>\n",
       "      <th>4</th>\n",
       "      <td>Israel</td>\n",
       "      <td>35.76</td>\n",
       "      <td>67.58</td>\n",
       "      <td>82.44</td>\n",
       "      <td>32.63</td>\n",
       "      <td>27.96</td>\n",
       "      <td>43.91</td>\n",
       "      <td>27.33</td>\n",
       "      <td>39.89</td>\n",
       "      <td>Middle East</td>\n",
       "      <td>Rising stars</td>\n",
       "      <td>High</td>\n",
       "      <td>Liberal democracy</td>\n",
       "    </tr>\n",
       "  </tbody>\n",
       "</table>\n",
       "</div>"
      ],
      "text/plain": [
       "                    Country  Talent  Infrastructure  Operating Environment  \\\n",
       "0  United States of America  100.00           94.02                  64.56   \n",
       "1                     China   16.51          100.00                  91.57   \n",
       "2            United Kingdom   39.65           71.43                  74.65   \n",
       "3                    Canada   31.28           77.05                  93.94   \n",
       "4                    Israel   35.76           67.58                  82.44   \n",
       "\n",
       "   Research  Development  Government Strategy  Commercial  Total score  \\\n",
       "0    100.00       100.00                77.39      100.00       100.00   \n",
       "1     71.42        79.97                94.87       44.02        62.92   \n",
       "2     36.50        25.03                82.82       18.91        40.93   \n",
       "3     30.67        25.78               100.00       14.88        40.19   \n",
       "4     32.63        27.96                43.91       27.33        39.89   \n",
       "\n",
       "         Region                Cluster  Income group   Political regime  \n",
       "0      Americas          Power players          High  Liberal democracy  \n",
       "1  Asia-Pacific          Power players  Upper middle   Closed autocracy  \n",
       "2        Europe  Traditional champions          High  Liberal democracy  \n",
       "3      Americas  Traditional champions          High  Liberal democracy  \n",
       "4   Middle East           Rising stars          High  Liberal democracy  "
      ]
     },
     "execution_count": 33,
     "metadata": {},
     "output_type": "execute_result"
    }
   ],
   "source": [
    "dataset_path = '/Users/sukanya/Downloads/Data Science Project/AI_index_db.csv'\n",
    "    \n",
    "df = pd.read_csv(dataset_path)\n",
    "df.head()"
   ]
  },
  {
   "cell_type": "markdown",
   "id": "5aa07248",
   "metadata": {
    "papermill": {
     "duration": 0.023214,
     "end_time": "2023-08-09T09:38:07.829542",
     "exception": false,
     "start_time": "2023-08-09T09:38:07.806328",
     "status": "completed"
    },
    "tags": []
   },
   "source": [
    "After the initial data inspection, we can confirm what [Global AI Race: Dominant Players and Aspiring Challengers](https://intersog.com/blog/ai-dominant-players-and-aspiring-challengers/) conveys on the dataset\n",
    "<blockquote>\n",
    "    <div class=\"alert alert-block alert-info\"> ✅ The Global AI Index (GAII) is an indicator created by Tortoise Media to rank countries based on the capacity for AI, specifically by measuring investment, innovation, and implementation levels. According to the previous and current values of the GAII, Tortoise Media divides countries into five clusters - power players, traditional champions, rising stars, waking-up players, and nascent players.<br><br>\n",
    "\n",
    "According to the GAII measured by Tortoise Media, two power players are on the map - the United States and China; however, China is almost 40% weaker than the USA. The following two countries, the United Kingdom and Canada are traditional champions (according to Tortoise Media’s classification).<br><br>\n",
    "\n",
    "However, Germany and France are the other two traditional champions, standing in four positions after Israel, Singapore, South Korea, and the Netherlands, classified as rising stars. The other rising stars are Australia, Irlandia, Finlandia, Denmark, Japan, and Spain. All the other countries (among the analyzed 62 countries) except Sri Lanka, Egypt, Kenia, Nigeria, and Pakistan are the waking-up players; the last are nascent AI market players.</div>\n",
    "</blockquote>"
   ]
  },
  {
   "cell_type": "code",
   "execution_count": 34,
   "id": "796d8e06",
   "metadata": {
    "_kg_hide-input": true,
    "execution": {
     "iopub.execute_input": "2023-08-09T09:38:07.879149Z",
     "iopub.status.busy": "2023-08-09T09:38:07.878223Z",
     "iopub.status.idle": "2023-08-09T09:38:07.904520Z",
     "shell.execute_reply": "2023-08-09T09:38:07.903280Z"
    },
    "papermill": {
     "duration": 0.05381,
     "end_time": "2023-08-09T09:38:07.907001",
     "exception": false,
     "start_time": "2023-08-09T09:38:07.853191",
     "status": "completed"
    },
    "tags": []
   },
   "outputs": [
    {
     "name": "stdout",
     "output_type": "stream",
     "text": [
      "<class 'pandas.core.frame.DataFrame'>\n",
      "RangeIndex: 62 entries, 0 to 61\n",
      "Data columns (total 13 columns):\n",
      " #   Column                 Non-Null Count  Dtype  \n",
      "---  ------                 --------------  -----  \n",
      " 0   Country                62 non-null     object \n",
      " 1   Talent                 62 non-null     float64\n",
      " 2   Infrastructure         62 non-null     float64\n",
      " 3   Operating Environment  62 non-null     float64\n",
      " 4   Research               62 non-null     float64\n",
      " 5   Development            62 non-null     float64\n",
      " 6   Government Strategy    62 non-null     float64\n",
      " 7   Commercial             62 non-null     float64\n",
      " 8   Total score            62 non-null     float64\n",
      " 9   Region                 62 non-null     object \n",
      " 10  Cluster                62 non-null     object \n",
      " 11  Income group           62 non-null     object \n",
      " 12  Political regime       62 non-null     object \n",
      "dtypes: float64(8), object(5)\n",
      "memory usage: 6.4+ KB\n"
     ]
    }
   ],
   "source": [
    "df.info()"
   ]
  },
  {
   "cell_type": "code",
   "execution_count": 35,
   "id": "30a3d80a",
   "metadata": {
    "_kg_hide-input": true,
    "execution": {
     "iopub.execute_input": "2023-08-09T09:38:07.957644Z",
     "iopub.status.busy": "2023-08-09T09:38:07.956933Z",
     "iopub.status.idle": "2023-08-09T09:38:07.991445Z",
     "shell.execute_reply": "2023-08-09T09:38:07.990337Z"
    },
    "papermill": {
     "duration": 0.062571,
     "end_time": "2023-08-09T09:38:07.993853",
     "exception": false,
     "start_time": "2023-08-09T09:38:07.931282",
     "status": "completed"
    },
    "tags": []
   },
   "outputs": [
    {
     "data": {
      "text/html": [
       "<div>\n",
       "<style scoped>\n",
       "    .dataframe tbody tr th:only-of-type {\n",
       "        vertical-align: middle;\n",
       "    }\n",
       "\n",
       "    .dataframe tbody tr th {\n",
       "        vertical-align: top;\n",
       "    }\n",
       "\n",
       "    .dataframe thead th {\n",
       "        text-align: right;\n",
       "    }\n",
       "</style>\n",
       "<table border=\"1\" class=\"dataframe\">\n",
       "  <thead>\n",
       "    <tr style=\"text-align: right;\">\n",
       "      <th></th>\n",
       "      <th>Talent</th>\n",
       "      <th>Infrastructure</th>\n",
       "      <th>Operating Environment</th>\n",
       "      <th>Research</th>\n",
       "      <th>Development</th>\n",
       "      <th>Government Strategy</th>\n",
       "      <th>Commercial</th>\n",
       "      <th>Total score</th>\n",
       "    </tr>\n",
       "  </thead>\n",
       "  <tbody>\n",
       "    <tr>\n",
       "      <th>count</th>\n",
       "      <td>62.000000</td>\n",
       "      <td>62.000000</td>\n",
       "      <td>62.000000</td>\n",
       "      <td>62.000000</td>\n",
       "      <td>62.000000</td>\n",
       "      <td>62.000000</td>\n",
       "      <td>62.000000</td>\n",
       "      <td>62.000000</td>\n",
       "    </tr>\n",
       "    <tr>\n",
       "      <th>mean</th>\n",
       "      <td>16.803065</td>\n",
       "      <td>63.503710</td>\n",
       "      <td>66.925484</td>\n",
       "      <td>16.610000</td>\n",
       "      <td>14.824677</td>\n",
       "      <td>57.865645</td>\n",
       "      <td>6.171935</td>\n",
       "      <td>23.914677</td>\n",
       "    </tr>\n",
       "    <tr>\n",
       "      <th>std</th>\n",
       "      <td>15.214963</td>\n",
       "      <td>20.217525</td>\n",
       "      <td>20.000424</td>\n",
       "      <td>17.413996</td>\n",
       "      <td>19.419279</td>\n",
       "      <td>26.252448</td>\n",
       "      <td>14.029632</td>\n",
       "      <td>15.123586</td>\n",
       "    </tr>\n",
       "    <tr>\n",
       "      <th>min</th>\n",
       "      <td>0.000000</td>\n",
       "      <td>0.000000</td>\n",
       "      <td>0.000000</td>\n",
       "      <td>0.000000</td>\n",
       "      <td>0.000000</td>\n",
       "      <td>0.000000</td>\n",
       "      <td>0.000000</td>\n",
       "      <td>0.000000</td>\n",
       "    </tr>\n",
       "    <tr>\n",
       "      <th>25%</th>\n",
       "      <td>7.365000</td>\n",
       "      <td>55.857500</td>\n",
       "      <td>58.107500</td>\n",
       "      <td>3.032500</td>\n",
       "      <td>1.202500</td>\n",
       "      <td>41.030000</td>\n",
       "      <td>0.697500</td>\n",
       "      <td>14.805000</td>\n",
       "    </tr>\n",
       "    <tr>\n",
       "      <th>50%</th>\n",
       "      <td>13.445000</td>\n",
       "      <td>65.230000</td>\n",
       "      <td>69.505000</td>\n",
       "      <td>12.930000</td>\n",
       "      <td>9.005000</td>\n",
       "      <td>63.930000</td>\n",
       "      <td>2.585000</td>\n",
       "      <td>23.220000</td>\n",
       "    </tr>\n",
       "    <tr>\n",
       "      <th>75%</th>\n",
       "      <td>24.567500</td>\n",
       "      <td>75.947500</td>\n",
       "      <td>80.500000</td>\n",
       "      <td>25.412500</td>\n",
       "      <td>19.980000</td>\n",
       "      <td>77.952500</td>\n",
       "      <td>5.307500</td>\n",
       "      <td>30.487500</td>\n",
       "    </tr>\n",
       "    <tr>\n",
       "      <th>max</th>\n",
       "      <td>100.000000</td>\n",
       "      <td>100.000000</td>\n",
       "      <td>100.000000</td>\n",
       "      <td>100.000000</td>\n",
       "      <td>100.000000</td>\n",
       "      <td>100.000000</td>\n",
       "      <td>100.000000</td>\n",
       "      <td>100.000000</td>\n",
       "    </tr>\n",
       "  </tbody>\n",
       "</table>\n",
       "</div>"
      ],
      "text/plain": [
       "           Talent  Infrastructure  Operating Environment    Research  \\\n",
       "count   62.000000       62.000000              62.000000   62.000000   \n",
       "mean    16.803065       63.503710              66.925484   16.610000   \n",
       "std     15.214963       20.217525              20.000424   17.413996   \n",
       "min      0.000000        0.000000               0.000000    0.000000   \n",
       "25%      7.365000       55.857500              58.107500    3.032500   \n",
       "50%     13.445000       65.230000              69.505000   12.930000   \n",
       "75%     24.567500       75.947500              80.500000   25.412500   \n",
       "max    100.000000      100.000000             100.000000  100.000000   \n",
       "\n",
       "       Development  Government Strategy  Commercial  Total score  \n",
       "count    62.000000            62.000000   62.000000    62.000000  \n",
       "mean     14.824677            57.865645    6.171935    23.914677  \n",
       "std      19.419279            26.252448   14.029632    15.123586  \n",
       "min       0.000000             0.000000    0.000000     0.000000  \n",
       "25%       1.202500            41.030000    0.697500    14.805000  \n",
       "50%       9.005000            63.930000    2.585000    23.220000  \n",
       "75%      19.980000            77.952500    5.307500    30.487500  \n",
       "max     100.000000           100.000000  100.000000   100.000000  "
      ]
     },
     "execution_count": 35,
     "metadata": {},
     "output_type": "execute_result"
    }
   ],
   "source": [
    "df.describe()"
   ]
  },
  {
   "cell_type": "markdown",
   "id": "e89ded7c",
   "metadata": {
    "papermill": {
     "duration": 0.024561,
     "end_time": "2023-08-09T09:38:08.042342",
     "exception": false,
     "start_time": "2023-08-09T09:38:08.017781",
     "status": "completed"
    },
    "tags": []
   },
   "source": [
    "We can see that\n",
    "\n",
    "- There are no missing values in the dataset , with 62 countries (records) presented there to describe their  AI potential as of 2023\n",
    "- There are 8 numeric and 4 categorical variables in the dataset\n",
    "- All numeric variables have their values in the range from 0 to 100\n",
    "- *Total score* variable can be considered to be the *target* variable whereas other variables can describe the various effects on it"
   ]
  },
  {
   "cell_type": "markdown",
   "id": "0f365a5b",
   "metadata": {
    "papermill": {
     "duration": 0.023559,
     "end_time": "2023-08-09T09:38:08.089867",
     "exception": false,
     "start_time": "2023-08-09T09:38:08.066308",
     "status": "completed"
    },
    "tags": []
   },
   "source": [
    "# <div style=\"color:white;background-color:#1d1545;padding:3%;border-radius:50px 50px;font-size:1em;text-align:center\">Express EDA of Numeric Variables</div>\n",
    "\n",
    "Let's quickly look at the numeric variables in our dataset.\n",
    "\n",
    "## <div style=\"font-size:20px;text-align:center;color:black;border-bottom:5px #0026d6 solid;padding-bottom:3%\">Univariate Analysis: Numerical variables</div>\n",
    "\n",
    "Let's look at the distribution of the numeric variables"
   ]
  },
  {
   "cell_type": "code",
   "execution_count": 36,
   "id": "f387d577",
   "metadata": {},
   "outputs": [],
   "source": [
    "import plotly.io as pio\n",
    "pio.renderers.default = 'browser'"
   ]
  },
  {
   "cell_type": "code",
   "execution_count": 37,
   "id": "ca84f61a",
   "metadata": {
    "_kg_hide-input": true,
    "execution": {
     "iopub.execute_input": "2023-08-09T09:38:08.141512Z",
     "iopub.status.busy": "2023-08-09T09:38:08.141071Z",
     "iopub.status.idle": "2023-08-09T09:38:09.676390Z",
     "shell.execute_reply": "2023-08-09T09:38:09.675352Z"
    },
    "papermill": {
     "duration": 1.565008,
     "end_time": "2023-08-09T09:38:09.678832",
     "exception": false,
     "start_time": "2023-08-09T09:38:08.113824",
     "status": "completed"
    },
    "tags": []
   },
   "outputs": [],
   "source": [
    "fig = make_subplots(rows=2, cols=4, subplot_titles=('<b>Distribution of Talent</b>',\n",
    "                                                    '<b>Distribution of Infrastructure</b>',\n",
    "                                                    '<b>Distribution of Operating Environment</b>',\n",
    "                                                    '<b>Distribution of Research</b>',\n",
    "                                                    '<b>Distribution of Development</b>',\n",
    "                                                    '<b>Distribution of Government Strategy</b>',\n",
    "                                                    '<b>Distribution of Commercial</b>',\n",
    "                                                    '<b>Distribution of Total score</b>'\n",
    "                                                   ))\n",
    "\n",
    "fig.add_trace(go.Histogram(x=df['Talent'], nbinsx=30), row=1, col=1)\n",
    "fig.add_trace(go.Histogram(x=df['Infrastructure']), row=1, col=2)\n",
    "fig.add_trace(go.Histogram(x=df['Operating Environment'], nbinsx=30), row=1, col=3)\n",
    "fig.add_trace(go.Histogram(x=df['Research'], nbinsx=30), row=1, col=4)\n",
    "\n",
    "fig.add_trace(go.Histogram(x=df['Development'], nbinsx=30), row=2, col=1)\n",
    "fig.add_trace(go.Histogram(x=df['Government Strategy']), row=2, col=2)\n",
    "fig.add_trace(go.Histogram(x=df['Commercial'], nbinsx=30), row=2, col=3)\n",
    "fig.add_trace(go.Histogram(x=df['Total score'], nbinsx=30), row=2, col=4)\n",
    "\n",
    "                                \n",
    "# Update visual layout\n",
    "fig.update_layout(\n",
    "    showlegend=False,\n",
    "    width=800,\n",
    "    height=500,\n",
    "    autosize=False,\n",
    "    margin=dict(t=15, b=0, l=5, r=5),\n",
    "    template=\"plotly_white\",\n",
    ")\n",
    "\n",
    "# update font size at the axes\n",
    "fig.update_coloraxes(colorbar_tickfont_size=10)\n",
    "# Update font in the titles: Apparently subplot titles are annotations (Subplot font size is hardcoded to 16pt · Issue #985)\n",
    "fig.update_annotations(font_size=10)\n",
    "# Reduce opacity\n",
    "fig.update_traces(opacity=0.75)\n",
    "\n",
    "fig.show()"
   ]
  },
  {
   "cell_type": "markdown",
   "id": "6e2f1707",
   "metadata": {
    "papermill": {
     "duration": 0.024,
     "end_time": "2023-08-09T09:38:09.727296",
     "exception": false,
     "start_time": "2023-08-09T09:38:09.703296",
     "status": "completed"
    },
    "tags": []
   },
   "source": [
    "We find that\n",
    "- Infrastructure and Operating Environment are skewened to the right a little\n",
    "- Other numeric variables are significantly left-skewed\n",
    "- The values of Talent, Research, Development, Commercial and Total score have clear outliers to the right side of the distribution (it is related to two countries in Power players cluster)"
   ]
  },
  {
   "cell_type": "markdown",
   "id": "ff3da654",
   "metadata": {
    "papermill": {
     "duration": 0.02435,
     "end_time": "2023-08-09T09:38:09.776046",
     "exception": false,
     "start_time": "2023-08-09T09:38:09.751696",
     "status": "completed"
    },
    "tags": []
   },
   "source": [
    "## <div style=\"font-size:20px;text-align:center;color:black;border-bottom:5px #0026d6 solid;padding-bottom:3%\">Multivariate Analysis: Correlation between numerical variables</div>"
   ]
  },
  {
   "cell_type": "code",
   "execution_count": 39,
   "id": "8ba750cd",
   "metadata": {
    "_kg_hide-input": true,
    "execution": {
     "iopub.execute_input": "2023-08-09T09:38:09.828378Z",
     "iopub.status.busy": "2023-08-09T09:38:09.827947Z",
     "iopub.status.idle": "2023-08-09T09:38:10.591385Z",
     "shell.execute_reply": "2023-08-09T09:38:10.590573Z"
    },
    "papermill": {
     "duration": 0.792754,
     "end_time": "2023-08-09T09:38:10.593716",
     "exception": false,
     "start_time": "2023-08-09T09:38:09.800962",
     "status": "completed"
    },
    "tags": []
   },
   "outputs": [
    {
     "data": {
      "text/plain": [
       "<Axes: >"
      ]
     },
     "execution_count": 39,
     "metadata": {},
     "output_type": "execute_result"
    },
    {
     "data": {
      "image/png": "[encoded data removed]",
      "text/plain": [
       "<Figure size 1100x900 with 2 Axes>"
      ]
     },
     "metadata": {},
     "output_type": "display_data"
    }
   ],
   "source": [
    "sns.set_theme(style=\"white\")\n",
    "\n",
    "# make a dataframe with only numberic variables, without 'Outcome'\n",
    "d = df.copy()\n",
    "\n",
    "# Compute the correlation matrix for numeric features\n",
    "# Select only numeric columns before computing correlation\n",
    "numeric_df = d.select_dtypes(include=['number'])\n",
    "corr = numeric_df.corr()\n",
    "\n",
    "# Generate a mask for the upper triangle\n",
    "mask = np.triu(np.ones_like(corr, dtype=bool))\n",
    "\n",
    "# Set up the matplotlib figure\n",
    "f, ax = plt.subplots(figsize=(11, 9))\n",
    "\n",
    "# Generate a custom diverging colormap\n",
    "cmap = sns.diverging_palette(230, 20, as_cmap=True)\n",
    "\n",
    "# Draw the heatmap with the mask and correct aspect ratio\n",
    "sns.heatmap(corr, mask=mask, cmap=cmap, vmax=.3, center=0, annot=True,\n",
    "            square=True, linewidths=.5, cbar_kws={\"shrink\": .5})"
   ]
  },
  {
   "cell_type": "markdown",
   "id": "21db878d",
   "metadata": {
    "papermill": {
     "duration": 0.02568,
     "end_time": "2023-08-09T09:38:10.645375",
     "exception": false,
     "start_time": "2023-08-09T09:38:10.619695",
     "status": "completed"
    },
    "tags": []
   },
   "source": [
    "We find that\n",
    "- Total score is highly correlated with Research (0.95), Development (0.87), Talent (0.86), and Commercial (0.86) variables\n",
    "- Total score displays mediuum correlations with Government Strategy  and Operating Environment variables (that is, the contribution of such variables to the Total score is less then the highly correlated variables)"
   ]
  },
  {
   "cell_type": "markdown",
   "id": "33cd8da3",
   "metadata": {
    "papermill": {
     "duration": 0.025345,
     "end_time": "2023-08-09T09:38:10.696408",
     "exception": false,
     "start_time": "2023-08-09T09:38:10.671063",
     "status": "completed"
    },
    "tags": []
   },
   "source": [
    "# <div style=\"color:white;background-color:#1d1545;padding:3%;border-radius:50px 50px;font-size:1em;text-align:center\">Express EDA of Categorical Variables</div>\n",
    "\n",
    "Let's briefly look at the categorical variables in the dataset.\n",
    "\n",
    "## <div style=\"font-size:20px;text-align:center;color:black;border-bottom:5px #0026d6 solid;padding-bottom:3%\">Univariate Analaysis: Categorical variables</div>"
   ]
  },
  {
   "cell_type": "code",
   "execution_count": 40,
   "id": "70052d8f",
   "metadata": {
    "_kg_hide-input": true,
    "execution": {
     "iopub.execute_input": "2023-08-09T09:38:10.750126Z",
     "iopub.status.busy": "2023-08-09T09:38:10.749251Z",
     "iopub.status.idle": "2023-08-09T09:38:10.879380Z",
     "shell.execute_reply": "2023-08-09T09:38:10.878613Z"
    },
    "papermill": {
     "duration": 0.159237,
     "end_time": "2023-08-09T09:38:10.881488",
     "exception": false,
     "start_time": "2023-08-09T09:38:10.722251",
     "status": "completed"
    },
    "tags": []
   },
   "outputs": [],
   "source": [
    "dfg = df['Region'].value_counts().reset_index()\n",
    "dfg.columns = ['Region', 'Quantity']\n",
    "fig = px.bar(dfg, x='Region', y='Quantity', \n",
    "             title='Number of Countries in Report by Region (Continent)',\n",
    "            color_discrete_sequence=px.colors.qualitative.Prism) \n",
    "fig.show()"
   ]
  },
  {
   "cell_type": "markdown",
   "id": "d138f9cb",
   "metadata": {
    "papermill": {
     "duration": 0.025799,
     "end_time": "2023-08-09T09:38:10.933796",
     "exception": false,
     "start_time": "2023-08-09T09:38:10.907997",
     "status": "completed"
    },
    "tags": []
   },
   "source": [
    "We find that the dataset contains the information about\n",
    "- *29* countries in *Europe*\n",
    "- *14* countrie in *Asia-Pacific* region\n",
    "- *8* countries in *Americas* region\n",
    "- *6* countries in the *Middle East*\n",
    "- *5* countries in *Africa*\n",
    "\n",
    "<div class=\"alert alert-block alert-info\"> 🔅 <b>Note</b>: The data in this dataset is presented for the countries that decided to start serious efforts to adopt AI technologies. Countries that, according to the experts in Tortoise Media, are not on the way to adapt AI technologies are not listed there.\n",
    "</div>"
   ]
  },
  {
   "cell_type": "code",
   "execution_count": null,
   "id": "a51a674a",
   "metadata": {
    "_kg_hide-input": true,
    "execution": {
     "iopub.execute_input": "2023-08-09T09:38:10.988152Z",
     "iopub.status.busy": "2023-08-09T09:38:10.987362Z",
     "iopub.status.idle": "2023-08-09T09:38:11.048198Z",
     "shell.execute_reply": "2023-08-09T09:38:11.047092Z"
    },
    "papermill": {
     "duration": 0.090679,
     "end_time": "2023-08-09T09:38:11.050657",
     "exception": false,
     "start_time": "2023-08-09T09:38:10.959978",
     "status": "completed"
    },
    "tags": []
   },
   "outputs": [
    {
     "data": {
      "text/html": [
       "<div>                            <div id=\"be389853-de9b-4fc4-8a94-6a957d669750\" class=\"plotly-graph-div\" style=\"height:525px; width:100%;\"></div>            <script type=\"text/javascript\">                require([\"plotly\"], function(Plotly) {                    window.PLOTLYENV=window.PLOTLYENV || {};                                    if (document.getElementById(\"be389853-de9b-4fc4-8a94-6a957d669750\")) {                    Plotly.newPlot(                        \"be389853-de9b-4fc4-8a94-6a957d669750\",                        [{\"alignmentgroup\":\"True\",\"hovertemplate\":\"Cluster=%{x}\\u003cbr\\u003eQuantity=%{y}\\u003cextra\\u003e\\u003c\\u002fextra\\u003e\",\"legendgroup\":\"\",\"marker\":{\"color\":\"rgb(95, 70, 144)\",\"pattern\":{\"shape\":\"\"}},\"name\":\"\",\"offsetgroup\":\"\",\"orientation\":\"v\",\"showlegend\":false,\"textposition\":\"auto\",\"x\":[\"Waking up\",\"Rising stars\",\"Nascent\",\"Traditional champions\",\"Power players\"],\"xaxis\":\"x\",\"y\":[40,11,5,4,2],\"yaxis\":\"y\",\"type\":\"bar\"}],                        {\"template\":{\"data\":{\"histogram2dcontour\":[{\"type\":\"histogram2dcontour\",\"colorbar\":{\"outlinewidth\":0,\"ticks\":\"\"},\"colorscale\":[[0.0,\"#0d0887\"],[0.1111111111111111,\"#46039f\"],[0.2222222222222222,\"#7201a8\"],[0.3333333333333333,\"#9c179e\"],[0.4444444444444444,\"#bd3786\"],[0.5555555555555556,\"#d8576b\"],[0.6666666666666666,\"#ed7953\"],[0.7777777777777778,\"#fb9f3a\"],[0.8888888888888888,\"#fdca26\"],[1.0,\"#f0f921\"]]}],\"choropleth\":[{\"type\":\"choropleth\",\"colorbar\":{\"outlinewidth\":0,\"ticks\":\"\"}}],\"histogram2d\":[{\"type\":\"histogram2d\",\"colorbar\":{\"outlinewidth\":0,\"ticks\":\"\"},\"colorscale\":[[0.0,\"#0d0887\"],[0.1111111111111111,\"#46039f\"],[0.2222222222222222,\"#7201a8\"],[0.3333333333333333,\"#9c179e\"],[0.4444444444444444,\"#bd3786\"],[0.5555555555555556,\"#d8576b\"],[0.6666666666666666,\"#ed7953\"],[0.7777777777777778,\"#fb9f3a\"],[0.8888888888888888,\"#fdca26\"],[1.0,\"#f0f921\"]]}],\"heatmap\":[{\"type\":\"heatmap\",\"colorbar\":{\"outlinewidth\":0,\"ticks\":\"\"},\"colorscale\":[[0.0,\"#0d0887\"],[0.1111111111111111,\"#46039f\"],[0.2222222222222222,\"#7201a8\"],[0.3333333333333333,\"#9c179e\"],[0.4444444444444444,\"#bd3786\"],[0.5555555555555556,\"#d8576b\"],[0.6666666666666666,\"#ed7953\"],[0.7777777777777778,\"#fb9f3a\"],[0.8888888888888888,\"#fdca26\"],[1.0,\"#f0f921\"]]}],\"heatmapgl\":[{\"type\":\"heatmapgl\",\"colorbar\":{\"outlinewidth\":0,\"ticks\":\"\"},\"colorscale\":[[0.0,\"#0d0887\"],[0.1111111111111111,\"#46039f\"],[0.2222222222222222,\"#7201a8\"],[0.3333333333333333,\"#9c179e\"],[0.4444444444444444,\"#bd3786\"],[0.5555555555555556,\"#d8576b\"],[0.6666666666666666,\"#ed7953\"],[0.7777777777777778,\"#fb9f3a\"],[0.8888888888888888,\"#fdca26\"],[1.0,\"#f0f921\"]]}],\"contourcarpet\":[{\"type\":\"contourcarpet\",\"colorbar\":{\"outlinewidth\":0,\"ticks\":\"\"}}],\"contour\":[{\"type\":\"contour\",\"colorbar\":{\"outlinewidth\":0,\"ticks\":\"\"},\"colorscale\":[[0.0,\"#0d0887\"],[0.1111111111111111,\"#46039f\"],[0.2222222222222222,\"#7201a8\"],[0.3333333333333333,\"#9c179e\"],[0.4444444444444444,\"#bd3786\"],[0.5555555555555556,\"#d8576b\"],[0.6666666666666666,\"#ed7953\"],[0.7777777777777778,\"#fb9f3a\"],[0.8888888888888888,\"#fdca26\"],[1.0,\"#f0f921\"]]}],\"surface\":[{\"type\":\"surface\",\"colorbar\":{\"outlinewidth\":0,\"ticks\":\"\"},\"colorscale\":[[0.0,\"#0d0887\"],[0.1111111111111111,\"#46039f\"],[0.2222222222222222,\"#7201a8\"],[0.3333333333333333,\"#9c179e\"],[0.4444444444444444,\"#bd3786\"],[0.5555555555555556,\"#d8576b\"],[0.6666666666666666,\"#ed7953\"],[0.7777777777777778,\"#fb9f3a\"],[0.8888888888888888,\"#fdca26\"],[1.0,\"#f0f921\"]]}],\"mesh3d\":[{\"type\":\"mesh3d\",\"colorbar\":{\"outlinewidth\":0,\"ticks\":\"\"}}],\"scatter\":[{\"fillpattern\":{\"fillmode\":\"overlay\",\"size\":10,\"solidity\":0.2},\"type\":\"scatter\"}],\"parcoords\":[{\"type\":\"parcoords\",\"line\":{\"colorbar\":{\"outlinewidth\":0,\"ticks\":\"\"}}}],\"scatterpolargl\":[{\"type\":\"scatterpolargl\",\"marker\":{\"colorbar\":{\"outlinewidth\":0,\"ticks\":\"\"}}}],\"bar\":[{\"error_x\":{\"color\":\"#2a3f5f\"},\"error_y\":{\"color\":\"#2a3f5f\"},\"marker\":{\"line\":{\"color\":\"#E5ECF6\",\"width\":0.5},\"pattern\":{\"fillmode\":\"overlay\",\"size\":10,\"solidity\":0.2}},\"type\":\"bar\"}],\"scattergeo\":[{\"type\":\"scattergeo\",\"marker\":{\"colorbar\":{\"outlinewidth\":0,\"ticks\":\"\"}}}],\"scatterpolar\":[{\"type\":\"scatterpolar\",\"marker\":{\"colorbar\":{\"outlinewidth\":0,\"ticks\":\"\"}}}],\"histogram\":[{\"marker\":{\"pattern\":{\"fillmode\":\"overlay\",\"size\":10,\"solidity\":0.2}},\"type\":\"histogram\"}],\"scattergl\":[{\"type\":\"scattergl\",\"marker\":{\"colorbar\":{\"outlinewidth\":0,\"ticks\":\"\"}}}],\"scatter3d\":[{\"type\":\"scatter3d\",\"line\":{\"colorbar\":{\"outlinewidth\":0,\"ticks\":\"\"}},\"marker\":{\"colorbar\":{\"outlinewidth\":0,\"ticks\":\"\"}}}],\"scattermapbox\":[{\"type\":\"scattermapbox\",\"marker\":{\"colorbar\":{\"outlinewidth\":0,\"ticks\":\"\"}}}],\"scatterternary\":[{\"type\":\"scatterternary\",\"marker\":{\"colorbar\":{\"outlinewidth\":0,\"ticks\":\"\"}}}],\"scattercarpet\":[{\"type\":\"scattercarpet\",\"marker\":{\"colorbar\":{\"outlinewidth\":0,\"ticks\":\"\"}}}],\"carpet\":[{\"aaxis\":{\"endlinecolor\":\"#2a3f5f\",\"gridcolor\":\"white\",\"linecolor\":\"white\",\"minorgridcolor\":\"white\",\"startlinecolor\":\"#2a3f5f\"},\"baxis\":{\"endlinecolor\":\"#2a3f5f\",\"gridcolor\":\"white\",\"linecolor\":\"white\",\"minorgridcolor\":\"white\",\"startlinecolor\":\"#2a3f5f\"},\"type\":\"carpet\"}],\"table\":[{\"cells\":{\"fill\":{\"color\":\"#EBF0F8\"},\"line\":{\"color\":\"white\"}},\"header\":{\"fill\":{\"color\":\"#C8D4E3\"},\"line\":{\"color\":\"white\"}},\"type\":\"table\"}],\"barpolar\":[{\"marker\":{\"line\":{\"color\":\"#E5ECF6\",\"width\":0.5},\"pattern\":{\"fillmode\":\"overlay\",\"size\":10,\"solidity\":0.2}},\"type\":\"barpolar\"}],\"pie\":[{\"automargin\":true,\"type\":\"pie\"}]},\"layout\":{\"autotypenumbers\":\"strict\",\"colorway\":[\"#636efa\",\"#EF553B\",\"#00cc96\",\"#ab63fa\",\"#FFA15A\",\"#19d3f3\",\"#FF6692\",\"#B6E880\",\"#FF97FF\",\"#FECB52\"],\"font\":{\"color\":\"#2a3f5f\"},\"hovermode\":\"closest\",\"hoverlabel\":{\"align\":\"left\"},\"paper_bgcolor\":\"white\",\"plot_bgcolor\":\"#E5ECF6\",\"polar\":{\"bgcolor\":\"#E5ECF6\",\"angularaxis\":{\"gridcolor\":\"white\",\"linecolor\":\"white\",\"ticks\":\"\"},\"radialaxis\":{\"gridcolor\":\"white\",\"linecolor\":\"white\",\"ticks\":\"\"}},\"ternary\":{\"bgcolor\":\"#E5ECF6\",\"aaxis\":{\"gridcolor\":\"white\",\"linecolor\":\"white\",\"ticks\":\"\"},\"baxis\":{\"gridcolor\":\"white\",\"linecolor\":\"white\",\"ticks\":\"\"},\"caxis\":{\"gridcolor\":\"white\",\"linecolor\":\"white\",\"ticks\":\"\"}},\"coloraxis\":{\"colorbar\":{\"outlinewidth\":0,\"ticks\":\"\"}},\"colorscale\":{\"sequential\":[[0.0,\"#0d0887\"],[0.1111111111111111,\"#46039f\"],[0.2222222222222222,\"#7201a8\"],[0.3333333333333333,\"#9c179e\"],[0.4444444444444444,\"#bd3786\"],[0.5555555555555556,\"#d8576b\"],[0.6666666666666666,\"#ed7953\"],[0.7777777777777778,\"#fb9f3a\"],[0.8888888888888888,\"#fdca26\"],[1.0,\"#f0f921\"]],\"sequentialminus\":[[0.0,\"#0d0887\"],[0.1111111111111111,\"#46039f\"],[0.2222222222222222,\"#7201a8\"],[0.3333333333333333,\"#9c179e\"],[0.4444444444444444,\"#bd3786\"],[0.5555555555555556,\"#d8576b\"],[0.6666666666666666,\"#ed7953\"],[0.7777777777777778,\"#fb9f3a\"],[0.8888888888888888,\"#fdca26\"],[1.0,\"#f0f921\"]],\"diverging\":[[0,\"#8e0152\"],[0.1,\"#c51b7d\"],[0.2,\"#de77ae\"],[0.3,\"#f1b6da\"],[0.4,\"#fde0ef\"],[0.5,\"#f7f7f7\"],[0.6,\"#e6f5d0\"],[0.7,\"#b8e186\"],[0.8,\"#7fbc41\"],[0.9,\"#4d9221\"],[1,\"#276419\"]]},\"xaxis\":{\"gridcolor\":\"white\",\"linecolor\":\"white\",\"ticks\":\"\",\"title\":{\"standoff\":15},\"zerolinecolor\":\"white\",\"automargin\":true,\"zerolinewidth\":2},\"yaxis\":{\"gridcolor\":\"white\",\"linecolor\":\"white\",\"ticks\":\"\",\"title\":{\"standoff\":15},\"zerolinecolor\":\"white\",\"automargin\":true,\"zerolinewidth\":2},\"scene\":{\"xaxis\":{\"backgroundcolor\":\"#E5ECF6\",\"gridcolor\":\"white\",\"linecolor\":\"white\",\"showbackground\":true,\"ticks\":\"\",\"zerolinecolor\":\"white\",\"gridwidth\":2},\"yaxis\":{\"backgroundcolor\":\"#E5ECF6\",\"gridcolor\":\"white\",\"linecolor\":\"white\",\"showbackground\":true,\"ticks\":\"\",\"zerolinecolor\":\"white\",\"gridwidth\":2},\"zaxis\":{\"backgroundcolor\":\"#E5ECF6\",\"gridcolor\":\"white\",\"linecolor\":\"white\",\"showbackground\":true,\"ticks\":\"\",\"zerolinecolor\":\"white\",\"gridwidth\":2}},\"shapedefaults\":{\"line\":{\"color\":\"#2a3f5f\"}},\"annotationdefaults\":{\"arrowcolor\":\"#2a3f5f\",\"arrowhead\":0,\"arrowwidth\":1},\"geo\":{\"bgcolor\":\"white\",\"landcolor\":\"#E5ECF6\",\"subunitcolor\":\"white\",\"showland\":true,\"showlakes\":true,\"lakecolor\":\"white\"},\"title\":{\"x\":0.05},\"mapbox\":{\"style\":\"light\"}}},\"xaxis\":{\"anchor\":\"y\",\"domain\":[0.0,1.0],\"title\":{\"text\":\"Cluster\"}},\"yaxis\":{\"anchor\":\"x\",\"domain\":[0.0,1.0],\"title\":{\"text\":\"Quantity\"}},\"legend\":{\"tracegroupgap\":0},\"title\":{\"text\":\"Number of Countries in Report by Cluster\"},\"barmode\":\"relative\"},                        {\"responsive\": true}                    ).then(function(){\n",
       "                            \n",
       "var gd = document.getElementById('be389853-de9b-4fc4-8a94-6a957d669750');\n",
       "var x = new MutationObserver(function (mutations, observer) {{\n",
       "        var display = window.getComputedStyle(gd).display;\n",
       "        if (!display || display === 'none') {{\n",
       "            console.log([gd, 'removed!']);\n",
       "            Plotly.purge(gd);\n",
       "            observer.disconnect();\n",
       "        }}\n",
       "}});\n",
       "\n",
       "// Listen for the removal of the full notebook cells\n",
       "var notebookContainer = gd.closest('#notebook-container');\n",
       "if (notebookContainer) {{\n",
       "    x.observe(notebookContainer, {childList: true});\n",
       "}}\n",
       "\n",
       "// Listen for the clearing of the current output cell\n",
       "var outputEl = gd.closest('.output');\n",
       "if (outputEl) {{\n",
       "    x.observe(outputEl, {childList: true});\n",
       "}}\n",
       "\n",
       "                        })                };                });            </script>        </div>"
      ]
     },
     "metadata": {},
     "output_type": "display_data"
    }
   ],
   "source": [
    "dfg = df['Cluster'].value_counts().reset_index()\n",
    "dfg.columns = ['Cluster', 'Quantity']\n",
    "fig = px.bar(dfg, x='Cluster', y='Quantity', \n",
    "             title='Number of Countries in Report by Cluster',\n",
    "            color_discrete_sequence=px.colors.qualitative.Prism) \n",
    "fig.show()"
   ]
  },
  {
   "cell_type": "markdown",
   "id": "aa62bcbe",
   "metadata": {
    "papermill": {
     "duration": 0.025882,
     "end_time": "2023-08-09T09:38:11.102880",
     "exception": false,
     "start_time": "2023-08-09T09:38:11.076998",
     "status": "completed"
    },
    "tags": []
   },
   "source": [
    "We find that \n",
    "\n",
    "- *Power players* cluster contains two leading nations in terms of adopting the AI on a serious scale (these are USA and China)\n",
    "- *Traditional champions* cluster unites 4 nations (UK, Canada, France, and Germany) that follow the  power players\n",
    "- *Rising stars* cluster aggregates 11 countries that are on a serious rise in terms of the AI development/commercializing progress\n",
    "- *Waking up* cluster comprises 40 countries that just started smooth progress in AI\n",
    "- *Nascent* cluster is a union of 5 countries that are at the very beginning of their way to adapt AI on the national level"
   ]
  },
  {
   "cell_type": "code",
   "execution_count": 41,
   "id": "668a4fb1",
   "metadata": {
    "_kg_hide-input": true,
    "execution": {
     "iopub.execute_input": "2023-08-09T09:38:11.157283Z",
     "iopub.status.busy": "2023-08-09T09:38:11.156915Z",
     "iopub.status.idle": "2023-08-09T09:38:11.217917Z",
     "shell.execute_reply": "2023-08-09T09:38:11.216849Z"
    },
    "papermill": {
     "duration": 0.090922,
     "end_time": "2023-08-09T09:38:11.220208",
     "exception": false,
     "start_time": "2023-08-09T09:38:11.129286",
     "status": "completed"
    },
    "tags": []
   },
   "outputs": [],
   "source": [
    "dfg = df['Income group'].value_counts().reset_index()\n",
    "dfg.columns = ['Income group', 'Quantity']\n",
    "fig = px.bar(dfg, x='Income group', y='Quantity', \n",
    "             title='Number of Countries in Report by Income groups',\n",
    "            color_discrete_sequence=px.colors.qualitative.Prism) \n",
    "fig.show()"
   ]
  },
  {
   "cell_type": "markdown",
   "id": "8dffea20",
   "metadata": {
    "papermill": {
     "duration": 0.026259,
     "end_time": "2023-08-09T09:38:11.273937",
     "exception": false,
     "start_time": "2023-08-09T09:38:11.247678",
     "status": "completed"
    },
    "tags": []
   },
   "source": [
    "We find that\n",
    "- There are *43* countries with *High* income level (out of 62 presented in the dataset)\n",
    "- There are *9* countries with *Upper middle* level of incomes\n",
    "- There are *8* countries with *Lower middle* level of incomes\n",
    "\n",
    "<div class=\"alert alert-block alert-info\"> 🔅 <b>Note</b>: As we can see, AI is expensive. Only countries with High- or Middle-level incomes can afford to participate in the AI races at the moment.\n",
    "</div>"
   ]
  },
  {
   "cell_type": "code",
   "execution_count": null,
   "id": "90cad1fc",
   "metadata": {
    "_kg_hide-input": true,
    "execution": {
     "iopub.execute_input": "2023-08-09T09:38:11.329462Z",
     "iopub.status.busy": "2023-08-09T09:38:11.328496Z",
     "iopub.status.idle": "2023-08-09T09:38:11.388696Z",
     "shell.execute_reply": "2023-08-09T09:38:11.387598Z"
    },
    "papermill": {
     "duration": 0.090249,
     "end_time": "2023-08-09T09:38:11.390920",
     "exception": false,
     "start_time": "2023-08-09T09:38:11.300671",
     "status": "completed"
    },
    "tags": []
   },
   "outputs": [
    {
     "data": {
      "text/html": [
       "<div>                            <div id=\"b4a36c8c-38b0-41c1-a722-14b0b3e59b9b\" class=\"plotly-graph-div\" style=\"height:525px; width:100%;\"></div>            <script type=\"text/javascript\">                require([\"plotly\"], function(Plotly) {                    window.PLOTLYENV=window.PLOTLYENV || {};                                    if (document.getElementById(\"b4a36c8c-38b0-41c1-a722-14b0b3e59b9b\")) {                    Plotly.newPlot(                        \"b4a36c8c-38b0-41c1-a722-14b0b3e59b9b\",                        [{\"alignmentgroup\":\"True\",\"hovertemplate\":\"Political regime=%{x}\\u003cbr\\u003eQuantity=%{y}\\u003cextra\\u003e\\u003c\\u002fextra\\u003e\",\"legendgroup\":\"\",\"marker\":{\"color\":\"rgb(95, 70, 144)\",\"pattern\":{\"shape\":\"\"}},\"name\":\"\",\"offsetgroup\":\"\",\"orientation\":\"v\",\"showlegend\":false,\"textposition\":\"auto\",\"x\":[\"Liberal democracy\",\"Electoral democracy\",\"Electoral autocracy\",\"Closed autocracy\"],\"xaxis\":\"x\",\"y\":[27,20,8,7],\"yaxis\":\"y\",\"type\":\"bar\"}],                        {\"template\":{\"data\":{\"histogram2dcontour\":[{\"type\":\"histogram2dcontour\",\"colorbar\":{\"outlinewidth\":0,\"ticks\":\"\"},\"colorscale\":[[0.0,\"#0d0887\"],[0.1111111111111111,\"#46039f\"],[0.2222222222222222,\"#7201a8\"],[0.3333333333333333,\"#9c179e\"],[0.4444444444444444,\"#bd3786\"],[0.5555555555555556,\"#d8576b\"],[0.6666666666666666,\"#ed7953\"],[0.7777777777777778,\"#fb9f3a\"],[0.8888888888888888,\"#fdca26\"],[1.0,\"#f0f921\"]]}],\"choropleth\":[{\"type\":\"choropleth\",\"colorbar\":{\"outlinewidth\":0,\"ticks\":\"\"}}],\"histogram2d\":[{\"type\":\"histogram2d\",\"colorbar\":{\"outlinewidth\":0,\"ticks\":\"\"},\"colorscale\":[[0.0,\"#0d0887\"],[0.1111111111111111,\"#46039f\"],[0.2222222222222222,\"#7201a8\"],[0.3333333333333333,\"#9c179e\"],[0.4444444444444444,\"#bd3786\"],[0.5555555555555556,\"#d8576b\"],[0.6666666666666666,\"#ed7953\"],[0.7777777777777778,\"#fb9f3a\"],[0.8888888888888888,\"#fdca26\"],[1.0,\"#f0f921\"]]}],\"heatmap\":[{\"type\":\"heatmap\",\"colorbar\":{\"outlinewidth\":0,\"ticks\":\"\"},\"colorscale\":[[0.0,\"#0d0887\"],[0.1111111111111111,\"#46039f\"],[0.2222222222222222,\"#7201a8\"],[0.3333333333333333,\"#9c179e\"],[0.4444444444444444,\"#bd3786\"],[0.5555555555555556,\"#d8576b\"],[0.6666666666666666,\"#ed7953\"],[0.7777777777777778,\"#fb9f3a\"],[0.8888888888888888,\"#fdca26\"],[1.0,\"#f0f921\"]]}],\"heatmapgl\":[{\"type\":\"heatmapgl\",\"colorbar\":{\"outlinewidth\":0,\"ticks\":\"\"},\"colorscale\":[[0.0,\"#0d0887\"],[0.1111111111111111,\"#46039f\"],[0.2222222222222222,\"#7201a8\"],[0.3333333333333333,\"#9c179e\"],[0.4444444444444444,\"#bd3786\"],[0.5555555555555556,\"#d8576b\"],[0.6666666666666666,\"#ed7953\"],[0.7777777777777778,\"#fb9f3a\"],[0.8888888888888888,\"#fdca26\"],[1.0,\"#f0f921\"]]}],\"contourcarpet\":[{\"type\":\"contourcarpet\",\"colorbar\":{\"outlinewidth\":0,\"ticks\":\"\"}}],\"contour\":[{\"type\":\"contour\",\"colorbar\":{\"outlinewidth\":0,\"ticks\":\"\"},\"colorscale\":[[0.0,\"#0d0887\"],[0.1111111111111111,\"#46039f\"],[0.2222222222222222,\"#7201a8\"],[0.3333333333333333,\"#9c179e\"],[0.4444444444444444,\"#bd3786\"],[0.5555555555555556,\"#d8576b\"],[0.6666666666666666,\"#ed7953\"],[0.7777777777777778,\"#fb9f3a\"],[0.8888888888888888,\"#fdca26\"],[1.0,\"#f0f921\"]]}],\"surface\":[{\"type\":\"surface\",\"colorbar\":{\"outlinewidth\":0,\"ticks\":\"\"},\"colorscale\":[[0.0,\"#0d0887\"],[0.1111111111111111,\"#46039f\"],[0.2222222222222222,\"#7201a8\"],[0.3333333333333333,\"#9c179e\"],[0.4444444444444444,\"#bd3786\"],[0.5555555555555556,\"#d8576b\"],[0.6666666666666666,\"#ed7953\"],[0.7777777777777778,\"#fb9f3a\"],[0.8888888888888888,\"#fdca26\"],[1.0,\"#f0f921\"]]}],\"mesh3d\":[{\"type\":\"mesh3d\",\"colorbar\":{\"outlinewidth\":0,\"ticks\":\"\"}}],\"scatter\":[{\"fillpattern\":{\"fillmode\":\"overlay\",\"size\":10,\"solidity\":0.2},\"type\":\"scatter\"}],\"parcoords\":[{\"type\":\"parcoords\",\"line\":{\"colorbar\":{\"outlinewidth\":0,\"ticks\":\"\"}}}],\"scatterpolargl\":[{\"type\":\"scatterpolargl\",\"marker\":{\"colorbar\":{\"outlinewidth\":0,\"ticks\":\"\"}}}],\"bar\":[{\"error_x\":{\"color\":\"#2a3f5f\"},\"error_y\":{\"color\":\"#2a3f5f\"},\"marker\":{\"line\":{\"color\":\"#E5ECF6\",\"width\":0.5},\"pattern\":{\"fillmode\":\"overlay\",\"size\":10,\"solidity\":0.2}},\"type\":\"bar\"}],\"scattergeo\":[{\"type\":\"scattergeo\",\"marker\":{\"colorbar\":{\"outlinewidth\":0,\"ticks\":\"\"}}}],\"scatterpolar\":[{\"type\":\"scatterpolar\",\"marker\":{\"colorbar\":{\"outlinewidth\":0,\"ticks\":\"\"}}}],\"histogram\":[{\"marker\":{\"pattern\":{\"fillmode\":\"overlay\",\"size\":10,\"solidity\":0.2}},\"type\":\"histogram\"}],\"scattergl\":[{\"type\":\"scattergl\",\"marker\":{\"colorbar\":{\"outlinewidth\":0,\"ticks\":\"\"}}}],\"scatter3d\":[{\"type\":\"scatter3d\",\"line\":{\"colorbar\":{\"outlinewidth\":0,\"ticks\":\"\"}},\"marker\":{\"colorbar\":{\"outlinewidth\":0,\"ticks\":\"\"}}}],\"scattermapbox\":[{\"type\":\"scattermapbox\",\"marker\":{\"colorbar\":{\"outlinewidth\":0,\"ticks\":\"\"}}}],\"scatterternary\":[{\"type\":\"scatterternary\",\"marker\":{\"colorbar\":{\"outlinewidth\":0,\"ticks\":\"\"}}}],\"scattercarpet\":[{\"type\":\"scattercarpet\",\"marker\":{\"colorbar\":{\"outlinewidth\":0,\"ticks\":\"\"}}}],\"carpet\":[{\"aaxis\":{\"endlinecolor\":\"#2a3f5f\",\"gridcolor\":\"white\",\"linecolor\":\"white\",\"minorgridcolor\":\"white\",\"startlinecolor\":\"#2a3f5f\"},\"baxis\":{\"endlinecolor\":\"#2a3f5f\",\"gridcolor\":\"white\",\"linecolor\":\"white\",\"minorgridcolor\":\"white\",\"startlinecolor\":\"#2a3f5f\"},\"type\":\"carpet\"}],\"table\":[{\"cells\":{\"fill\":{\"color\":\"#EBF0F8\"},\"line\":{\"color\":\"white\"}},\"header\":{\"fill\":{\"color\":\"#C8D4E3\"},\"line\":{\"color\":\"white\"}},\"type\":\"table\"}],\"barpolar\":[{\"marker\":{\"line\":{\"color\":\"#E5ECF6\",\"width\":0.5},\"pattern\":{\"fillmode\":\"overlay\",\"size\":10,\"solidity\":0.2}},\"type\":\"barpolar\"}],\"pie\":[{\"automargin\":true,\"type\":\"pie\"}]},\"layout\":{\"autotypenumbers\":\"strict\",\"colorway\":[\"#636efa\",\"#EF553B\",\"#00cc96\",\"#ab63fa\",\"#FFA15A\",\"#19d3f3\",\"#FF6692\",\"#B6E880\",\"#FF97FF\",\"#FECB52\"],\"font\":{\"color\":\"#2a3f5f\"},\"hovermode\":\"closest\",\"hoverlabel\":{\"align\":\"left\"},\"paper_bgcolor\":\"white\",\"plot_bgcolor\":\"#E5ECF6\",\"polar\":{\"bgcolor\":\"#E5ECF6\",\"angularaxis\":{\"gridcolor\":\"white\",\"linecolor\":\"white\",\"ticks\":\"\"},\"radialaxis\":{\"gridcolor\":\"white\",\"linecolor\":\"white\",\"ticks\":\"\"}},\"ternary\":{\"bgcolor\":\"#E5ECF6\",\"aaxis\":{\"gridcolor\":\"white\",\"linecolor\":\"white\",\"ticks\":\"\"},\"baxis\":{\"gridcolor\":\"white\",\"linecolor\":\"white\",\"ticks\":\"\"},\"caxis\":{\"gridcolor\":\"white\",\"linecolor\":\"white\",\"ticks\":\"\"}},\"coloraxis\":{\"colorbar\":{\"outlinewidth\":0,\"ticks\":\"\"}},\"colorscale\":{\"sequential\":[[0.0,\"#0d0887\"],[0.1111111111111111,\"#46039f\"],[0.2222222222222222,\"#7201a8\"],[0.3333333333333333,\"#9c179e\"],[0.4444444444444444,\"#bd3786\"],[0.5555555555555556,\"#d8576b\"],[0.6666666666666666,\"#ed7953\"],[0.7777777777777778,\"#fb9f3a\"],[0.8888888888888888,\"#fdca26\"],[1.0,\"#f0f921\"]],\"sequentialminus\":[[0.0,\"#0d0887\"],[0.1111111111111111,\"#46039f\"],[0.2222222222222222,\"#7201a8\"],[0.3333333333333333,\"#9c179e\"],[0.4444444444444444,\"#bd3786\"],[0.5555555555555556,\"#d8576b\"],[0.6666666666666666,\"#ed7953\"],[0.7777777777777778,\"#fb9f3a\"],[0.8888888888888888,\"#fdca26\"],[1.0,\"#f0f921\"]],\"diverging\":[[0,\"#8e0152\"],[0.1,\"#c51b7d\"],[0.2,\"#de77ae\"],[0.3,\"#f1b6da\"],[0.4,\"#fde0ef\"],[0.5,\"#f7f7f7\"],[0.6,\"#e6f5d0\"],[0.7,\"#b8e186\"],[0.8,\"#7fbc41\"],[0.9,\"#4d9221\"],[1,\"#276419\"]]},\"xaxis\":{\"gridcolor\":\"white\",\"linecolor\":\"white\",\"ticks\":\"\",\"title\":{\"standoff\":15},\"zerolinecolor\":\"white\",\"automargin\":true,\"zerolinewidth\":2},\"yaxis\":{\"gridcolor\":\"white\",\"linecolor\":\"white\",\"ticks\":\"\",\"title\":{\"standoff\":15},\"zerolinecolor\":\"white\",\"automargin\":true,\"zerolinewidth\":2},\"scene\":{\"xaxis\":{\"backgroundcolor\":\"#E5ECF6\",\"gridcolor\":\"white\",\"linecolor\":\"white\",\"showbackground\":true,\"ticks\":\"\",\"zerolinecolor\":\"white\",\"gridwidth\":2},\"yaxis\":{\"backgroundcolor\":\"#E5ECF6\",\"gridcolor\":\"white\",\"linecolor\":\"white\",\"showbackground\":true,\"ticks\":\"\",\"zerolinecolor\":\"white\",\"gridwidth\":2},\"zaxis\":{\"backgroundcolor\":\"#E5ECF6\",\"gridcolor\":\"white\",\"linecolor\":\"white\",\"showbackground\":true,\"ticks\":\"\",\"zerolinecolor\":\"white\",\"gridwidth\":2}},\"shapedefaults\":{\"line\":{\"color\":\"#2a3f5f\"}},\"annotationdefaults\":{\"arrowcolor\":\"#2a3f5f\",\"arrowhead\":0,\"arrowwidth\":1},\"geo\":{\"bgcolor\":\"white\",\"landcolor\":\"#E5ECF6\",\"subunitcolor\":\"white\",\"showland\":true,\"showlakes\":true,\"lakecolor\":\"white\"},\"title\":{\"x\":0.05},\"mapbox\":{\"style\":\"light\"}}},\"xaxis\":{\"anchor\":\"y\",\"domain\":[0.0,1.0],\"title\":{\"text\":\"Political regime\"}},\"yaxis\":{\"anchor\":\"x\",\"domain\":[0.0,1.0],\"title\":{\"text\":\"Quantity\"}},\"legend\":{\"tracegroupgap\":0},\"title\":{\"text\":\"Number of Countries in Report by Political regimes\"},\"barmode\":\"relative\"},                        {\"responsive\": true}                    ).then(function(){\n",
       "                            \n",
       "var gd = document.getElementById('b4a36c8c-38b0-41c1-a722-14b0b3e59b9b');\n",
       "var x = new MutationObserver(function (mutations, observer) {{\n",
       "        var display = window.getComputedStyle(gd).display;\n",
       "        if (!display || display === 'none') {{\n",
       "            console.log([gd, 'removed!']);\n",
       "            Plotly.purge(gd);\n",
       "            observer.disconnect();\n",
       "        }}\n",
       "}});\n",
       "\n",
       "// Listen for the removal of the full notebook cells\n",
       "var notebookContainer = gd.closest('#notebook-container');\n",
       "if (notebookContainer) {{\n",
       "    x.observe(notebookContainer, {childList: true});\n",
       "}}\n",
       "\n",
       "// Listen for the clearing of the current output cell\n",
       "var outputEl = gd.closest('.output');\n",
       "if (outputEl) {{\n",
       "    x.observe(outputEl, {childList: true});\n",
       "}}\n",
       "\n",
       "                        })                };                });            </script>        </div>"
      ]
     },
     "metadata": {},
     "output_type": "display_data"
    }
   ],
   "source": [
    "dfg = df['Political regime'].value_counts().reset_index()\n",
    "dfg.columns = ['Political regime', 'Quantity']\n",
    "fig = px.bar(dfg, x='Political regime', y='Quantity', \n",
    "             title='Number of Countries in Report by Political regimes',\n",
    "            color_discrete_sequence=px.colors.qualitative.Prism) \n",
    "fig.show()"
   ]
  },
  {
   "cell_type": "markdown",
   "id": "7fbd0f87",
   "metadata": {
    "papermill": {
     "duration": 0.026574,
     "end_time": "2023-08-09T09:38:11.445867",
     "exception": false,
     "start_time": "2023-08-09T09:38:11.419293",
     "status": "completed"
    },
    "tags": []
   },
   "source": [
    "We find that\n",
    "- *27* countries listed in the dataset operate under *Liberal democracy* regime\n",
    "- *20* countries listed in the dataset operate under *Electoral democracy* regime\n",
    "- *8* countries listed in the dataset operate under *Electoral autocracy* regime\n",
    "- *7* countries listed in the dataset operate under *Closed autocracy* regime"
   ]
  },
  {
   "cell_type": "markdown",
   "id": "a671acb1",
   "metadata": {
    "papermill": {
     "duration": 0.026551,
     "end_time": "2023-08-09T09:38:11.499756",
     "exception": false,
     "start_time": "2023-08-09T09:38:11.473205",
     "status": "completed"
    },
    "tags": []
   },
   "source": [
    "## <div style=\"font-size:20px;text-align:center;color:black;border-bottom:5px #0026d6 solid;padding-bottom:3%\">Multivariate Analaysis: Associations between categorical variables</div>\n",
    "\n",
    "Let's look at the associations between Region, Cluster, and Income groups first."
   ]
  },
  {
   "cell_type": "code",
   "execution_count": 42,
   "id": "c2bf78cc",
   "metadata": {
    "_kg_hide-input": true,
    "execution": {
     "iopub.execute_input": "2023-08-09T09:38:11.556000Z",
     "iopub.status.busy": "2023-08-09T09:38:11.554904Z",
     "iopub.status.idle": "2023-08-09T09:38:11.701027Z",
     "shell.execute_reply": "2023-08-09T09:38:11.699912Z"
    },
    "papermill": {
     "duration": 0.176755,
     "end_time": "2023-08-09T09:38:11.703308",
     "exception": false,
     "start_time": "2023-08-09T09:38:11.526553",
     "status": "completed"
    },
    "tags": []
   },
   "outputs": [],
   "source": [
    "agg_data = df[[\"Region\", \"Cluster\", \"Income group\"]].groupby([\"Region\", \"Cluster\", \"Income group\"]).size().reset_index(name=\"Count\")\n",
    "# define figure element\n",
    "fig = px.sunburst(\n",
    "    agg_data,\n",
    "    values='Count',\n",
    "    path=[\"Region\", \"Cluster\", \"Income group\"],\n",
    "    title=\"Number of countries by region, cluster, and income group\",\n",
    "    color=\"Region\",\n",
    "    height=800,\n",
    "    color_discrete_sequence=px.colors.qualitative.Pastel\n",
    ")\n",
    "# display the figure\n",
    "fig.show()"
   ]
  },
  {
   "cell_type": "markdown",
   "id": "412b0053",
   "metadata": {
    "papermill": {
     "duration": 0.027859,
     "end_time": "2023-08-09T09:38:11.758587",
     "exception": false,
     "start_time": "2023-08-09T09:38:11.730728",
     "status": "completed"
    },
    "tags": []
   },
   "source": [
    "We find that\n",
    "- the biggest group of the countries in the  dataset are European countries with High income level, fitting into Waking Up cluster\n",
    "- countries with High income level, fitting into Waking Up cluster, are the most numerous group in Aasia-Pacific and Middle East regions, too\n",
    "- the most 'crowdy' group in Americas is Waking Up, with Upper middle income level\n",
    "- Traditional champions and Raising star countries are all with High level of incomes\n",
    "- One of the Power players (USA) is with the High level of incomes, and another Power player (China) in Uppper middle income group"
   ]
  },
  {
   "cell_type": "markdown",
   "id": "59742a01",
   "metadata": {
    "papermill": {
     "duration": 0.027531,
     "end_time": "2023-08-09T09:38:11.813873",
     "exception": false,
     "start_time": "2023-08-09T09:38:11.786342",
     "status": "completed"
    },
    "tags": []
   },
   "source": [
    "Now, let's look at the separation of the countries in AI Index dataset by the income group and political regimes."
   ]
  },
  {
   "cell_type": "code",
   "execution_count": null,
   "id": "087b712c",
   "metadata": {
    "_kg_hide-input": true,
    "execution": {
     "iopub.execute_input": "2023-08-09T09:38:11.870558Z",
     "iopub.status.busy": "2023-08-09T09:38:11.870161Z",
     "iopub.status.idle": "2023-08-09T09:38:11.974981Z",
     "shell.execute_reply": "2023-08-09T09:38:11.973940Z"
    },
    "papermill": {
     "duration": 0.135827,
     "end_time": "2023-08-09T09:38:11.977288",
     "exception": false,
     "start_time": "2023-08-09T09:38:11.841461",
     "status": "completed"
    },
    "tags": []
   },
   "outputs": [
    {
     "data": {
      "text/html": [
       "<div>                            <div id=\"9a6a3e6b-b166-4a70-bd2b-19ab9019d4f7\" class=\"plotly-graph-div\" style=\"height:800px; width:100%;\"></div>            <script type=\"text/javascript\">                require([\"plotly\"], function(Plotly) {                    window.PLOTLYENV=window.PLOTLYENV || {};                                    if (document.getElementById(\"9a6a3e6b-b166-4a70-bd2b-19ab9019d4f7\")) {                    Plotly.newPlot(                        \"9a6a3e6b-b166-4a70-bd2b-19ab9019d4f7\",                        [{\"branchvalues\":\"total\",\"customdata\":[[\"Middle East\"],[\"Africa\"],[\"Asia-Pacific\"],[\"Asia-Pacific\"],[\"Europe\"],[\"Africa\"],[\"Africa\"],[\"Europe\"],[\"Europe\"],[\"Asia-Pacific\"],[\"Middle East\"],[\"Asia-Pacific\"],[\"Asia-Pacific\"],[\"Asia-Pacific\"],[\"Africa\"],[\"Americas\"],[\"Europe\"],[\"Americas\"],[\"Europe\"],[\"Asia-Pacific\"],[\"Middle East\"],[\"Americas\"],[\"Asia-Pacific\"],[\"Europe\"],[\"Middle East\"],[\"Africa\"],[\"Asia-Pacific\"],[\"Middle East\"],[\"Africa\"],[\"Americas\"],[\"Asia-Pacific\"],[\"Europe\"],[\"Africa\"],[\"Americas\"],[\"Asia-Pacific\"],[\"Europe\"],[\"Middle East\"]],\"domain\":{\"x\":[0.0,1.0],\"y\":[0.0,1.0]},\"hovertemplate\":\"labels=%{label}\\u003cbr\\u003eCount=%{value}\\u003cbr\\u003eparent=%{parent}\\u003cbr\\u003eid=%{id}\\u003cbr\\u003eRegion=%{customdata[0]}\\u003cextra\\u003e\\u003c\\u002fextra\\u003e\",\"ids\":[\"Middle East\\u002fHigh\\u002fClosed autocracy\",\"Africa\\u002fLower middle\\u002fClosed autocracy\",\"Asia-Pacific\\u002fLower middle\\u002fClosed autocracy\",\"Asia-Pacific\\u002fUpper middle\\u002fClosed autocracy\",\"Europe\\u002fHigh\\u002fElectoral autocracy\",\"Africa\\u002fLower middle\\u002fElectoral autocracy\",\"Africa\\u002fLower middle\\u002fElectoral democracy\",\"Europe\\u002fHigh\\u002fElectoral democracy\",\"Europe\\u002fUpper middle\\u002fElectoral autocracy\",\"Asia-Pacific\\u002fHigh\\u002fElectoral democracy\",\"Middle East\\u002fLower middle\\u002fElectoral autocracy\",\"Asia-Pacific\\u002fLower middle\\u002fElectoral autocracy\",\"Asia-Pacific\\u002fUpper middle\\u002fElectoral autocracy\",\"Asia-Pacific\\u002fLower middle\\u002fElectoral democracy\",\"Africa\\u002fUpper middle\\u002fElectoral democracy\",\"Americas\\u002fUpper middle\\u002fElectoral democracy\",\"Europe\\u002fUpper middle\\u002fElectoral democracy\",\"Americas\\u002fHigh\\u002fLiberal democracy\",\"Europe\\u002fHigh\\u002fLiberal democracy\",\"Asia-Pacific\\u002fHigh\\u002fLiberal democracy\",\"Middle East\\u002fHigh\\u002fLiberal democracy\",\"Americas\\u002fHigh\",\"Asia-Pacific\\u002fHigh\",\"Europe\\u002fHigh\",\"Middle East\\u002fHigh\",\"Africa\\u002fLower middle\",\"Asia-Pacific\\u002fLower middle\",\"Middle East\\u002fLower middle\",\"Africa\\u002fUpper middle\",\"Americas\\u002fUpper middle\",\"Asia-Pacific\\u002fUpper middle\",\"Europe\\u002fUpper middle\",\"Africa\",\"Americas\",\"Asia-Pacific\",\"Europe\",\"Middle East\"],\"labels\":[\"Closed autocracy\",\"Closed autocracy\",\"Closed autocracy\",\"Closed autocracy\",\"Electoral autocracy\",\"Electoral autocracy\",\"Electoral democracy\",\"Electoral democracy\",\"Electoral autocracy\",\"Electoral democracy\",\"Electoral autocracy\",\"Electoral autocracy\",\"Electoral autocracy\",\"Electoral democracy\",\"Electoral democracy\",\"Electoral democracy\",\"Electoral democracy\",\"Liberal democracy\",\"Liberal democracy\",\"Liberal democracy\",\"Liberal democracy\",\"High\",\"High\",\"High\",\"High\",\"Lower middle\",\"Lower middle\",\"Lower middle\",\"Upper middle\",\"Upper middle\",\"Upper middle\",\"Upper middle\",\"Africa\",\"Americas\",\"Asia-Pacific\",\"Europe\",\"Middle East\"],\"marker\":{\"colors\":[\"rgb(102, 197, 204)\",\"rgb(246, 207, 113)\",\"rgb(248, 156, 116)\",\"rgb(248, 156, 116)\",\"rgb(220, 176, 242)\",\"rgb(246, 207, 113)\",\"rgb(246, 207, 113)\",\"rgb(220, 176, 242)\",\"rgb(220, 176, 242)\",\"rgb(248, 156, 116)\",\"rgb(102, 197, 204)\",\"rgb(248, 156, 116)\",\"rgb(248, 156, 116)\",\"rgb(248, 156, 116)\",\"rgb(246, 207, 113)\",\"rgb(135, 197, 95)\",\"rgb(220, 176, 242)\",\"rgb(135, 197, 95)\",\"rgb(220, 176, 242)\",\"rgb(248, 156, 116)\",\"rgb(102, 197, 204)\",\"rgb(135, 197, 95)\",\"rgb(248, 156, 116)\",\"rgb(220, 176, 242)\",\"rgb(102, 197, 204)\",\"rgb(246, 207, 113)\",\"rgb(248, 156, 116)\",\"rgb(102, 197, 204)\",\"rgb(246, 207, 113)\",\"rgb(135, 197, 95)\",\"rgb(248, 156, 116)\",\"rgb(220, 176, 242)\",\"rgb(246, 207, 113)\",\"rgb(135, 197, 95)\",\"rgb(248, 156, 116)\",\"rgb(220, 176, 242)\",\"rgb(102, 197, 204)\"]},\"name\":\"\",\"parents\":[\"Middle East\\u002fHigh\",\"Africa\\u002fLower middle\",\"Asia-Pacific\\u002fLower middle\",\"Asia-Pacific\\u002fUpper middle\",\"Europe\\u002fHigh\",\"Africa\\u002fLower middle\",\"Africa\\u002fLower middle\",\"Europe\\u002fHigh\",\"Europe\\u002fUpper middle\",\"Asia-Pacific\\u002fHigh\",\"Middle East\\u002fLower middle\",\"Asia-Pacific\\u002fLower middle\",\"Asia-Pacific\\u002fUpper middle\",\"Asia-Pacific\\u002fLower middle\",\"Africa\\u002fUpper middle\",\"Americas\\u002fUpper middle\",\"Europe\\u002fUpper middle\",\"Americas\\u002fHigh\",\"Europe\\u002fHigh\",\"Asia-Pacific\\u002fHigh\",\"Middle East\\u002fHigh\",\"Americas\",\"Asia-Pacific\",\"Europe\",\"Middle East\",\"Africa\",\"Asia-Pacific\",\"Middle East\",\"Africa\",\"Americas\",\"Asia-Pacific\",\"Europe\",\"\",\"\",\"\",\"\",\"\"],\"values\":[4,1,1,1,1,2,1,9,1,2,1,2,1,2,1,4,1,4,17,5,1,4,7,27,5,4,5,1,1,4,2,2,5,8,14,29,6],\"type\":\"sunburst\"}],                        {\"template\":{\"data\":{\"histogram2dcontour\":[{\"type\":\"histogram2dcontour\",\"colorbar\":{\"outlinewidth\":0,\"ticks\":\"\"},\"colorscale\":[[0.0,\"#0d0887\"],[0.1111111111111111,\"#46039f\"],[0.2222222222222222,\"#7201a8\"],[0.3333333333333333,\"#9c179e\"],[0.4444444444444444,\"#bd3786\"],[0.5555555555555556,\"#d8576b\"],[0.6666666666666666,\"#ed7953\"],[0.7777777777777778,\"#fb9f3a\"],[0.8888888888888888,\"#fdca26\"],[1.0,\"#f0f921\"]]}],\"choropleth\":[{\"type\":\"choropleth\",\"colorbar\":{\"outlinewidth\":0,\"ticks\":\"\"}}],\"histogram2d\":[{\"type\":\"histogram2d\",\"colorbar\":{\"outlinewidth\":0,\"ticks\":\"\"},\"colorscale\":[[0.0,\"#0d0887\"],[0.1111111111111111,\"#46039f\"],[0.2222222222222222,\"#7201a8\"],[0.3333333333333333,\"#9c179e\"],[0.4444444444444444,\"#bd3786\"],[0.5555555555555556,\"#d8576b\"],[0.6666666666666666,\"#ed7953\"],[0.7777777777777778,\"#fb9f3a\"],[0.8888888888888888,\"#fdca26\"],[1.0,\"#f0f921\"]]}],\"heatmap\":[{\"type\":\"heatmap\",\"colorbar\":{\"outlinewidth\":0,\"ticks\":\"\"},\"colorscale\":[[0.0,\"#0d0887\"],[0.1111111111111111,\"#46039f\"],[0.2222222222222222,\"#7201a8\"],[0.3333333333333333,\"#9c179e\"],[0.4444444444444444,\"#bd3786\"],[0.5555555555555556,\"#d8576b\"],[0.6666666666666666,\"#ed7953\"],[0.7777777777777778,\"#fb9f3a\"],[0.8888888888888888,\"#fdca26\"],[1.0,\"#f0f921\"]]}],\"heatmapgl\":[{\"type\":\"heatmapgl\",\"colorbar\":{\"outlinewidth\":0,\"ticks\":\"\"},\"colorscale\":[[0.0,\"#0d0887\"],[0.1111111111111111,\"#46039f\"],[0.2222222222222222,\"#7201a8\"],[0.3333333333333333,\"#9c179e\"],[0.4444444444444444,\"#bd3786\"],[0.5555555555555556,\"#d8576b\"],[0.6666666666666666,\"#ed7953\"],[0.7777777777777778,\"#fb9f3a\"],[0.8888888888888888,\"#fdca26\"],[1.0,\"#f0f921\"]]}],\"contourcarpet\":[{\"type\":\"contourcarpet\",\"colorbar\":{\"outlinewidth\":0,\"ticks\":\"\"}}],\"contour\":[{\"type\":\"contour\",\"colorbar\":{\"outlinewidth\":0,\"ticks\":\"\"},\"colorscale\":[[0.0,\"#0d0887\"],[0.1111111111111111,\"#46039f\"],[0.2222222222222222,\"#7201a8\"],[0.3333333333333333,\"#9c179e\"],[0.4444444444444444,\"#bd3786\"],[0.5555555555555556,\"#d8576b\"],[0.6666666666666666,\"#ed7953\"],[0.7777777777777778,\"#fb9f3a\"],[0.8888888888888888,\"#fdca26\"],[1.0,\"#f0f921\"]]}],\"surface\":[{\"type\":\"surface\",\"colorbar\":{\"outlinewidth\":0,\"ticks\":\"\"},\"colorscale\":[[0.0,\"#0d0887\"],[0.1111111111111111,\"#46039f\"],[0.2222222222222222,\"#7201a8\"],[0.3333333333333333,\"#9c179e\"],[0.4444444444444444,\"#bd3786\"],[0.5555555555555556,\"#d8576b\"],[0.6666666666666666,\"#ed7953\"],[0.7777777777777778,\"#fb9f3a\"],[0.8888888888888888,\"#fdca26\"],[1.0,\"#f0f921\"]]}],\"mesh3d\":[{\"type\":\"mesh3d\",\"colorbar\":{\"outlinewidth\":0,\"ticks\":\"\"}}],\"scatter\":[{\"fillpattern\":{\"fillmode\":\"overlay\",\"size\":10,\"solidity\":0.2},\"type\":\"scatter\"}],\"parcoords\":[{\"type\":\"parcoords\",\"line\":{\"colorbar\":{\"outlinewidth\":0,\"ticks\":\"\"}}}],\"scatterpolargl\":[{\"type\":\"scatterpolargl\",\"marker\":{\"colorbar\":{\"outlinewidth\":0,\"ticks\":\"\"}}}],\"bar\":[{\"error_x\":{\"color\":\"#2a3f5f\"},\"error_y\":{\"color\":\"#2a3f5f\"},\"marker\":{\"line\":{\"color\":\"#E5ECF6\",\"width\":0.5},\"pattern\":{\"fillmode\":\"overlay\",\"size\":10,\"solidity\":0.2}},\"type\":\"bar\"}],\"scattergeo\":[{\"type\":\"scattergeo\",\"marker\":{\"colorbar\":{\"outlinewidth\":0,\"ticks\":\"\"}}}],\"scatterpolar\":[{\"type\":\"scatterpolar\",\"marker\":{\"colorbar\":{\"outlinewidth\":0,\"ticks\":\"\"}}}],\"histogram\":[{\"marker\":{\"pattern\":{\"fillmode\":\"overlay\",\"size\":10,\"solidity\":0.2}},\"type\":\"histogram\"}],\"scattergl\":[{\"type\":\"scattergl\",\"marker\":{\"colorbar\":{\"outlinewidth\":0,\"ticks\":\"\"}}}],\"scatter3d\":[{\"type\":\"scatter3d\",\"line\":{\"colorbar\":{\"outlinewidth\":0,\"ticks\":\"\"}},\"marker\":{\"colorbar\":{\"outlinewidth\":0,\"ticks\":\"\"}}}],\"scattermapbox\":[{\"type\":\"scattermapbox\",\"marker\":{\"colorbar\":{\"outlinewidth\":0,\"ticks\":\"\"}}}],\"scatterternary\":[{\"type\":\"scatterternary\",\"marker\":{\"colorbar\":{\"outlinewidth\":0,\"ticks\":\"\"}}}],\"scattercarpet\":[{\"type\":\"scattercarpet\",\"marker\":{\"colorbar\":{\"outlinewidth\":0,\"ticks\":\"\"}}}],\"carpet\":[{\"aaxis\":{\"endlinecolor\":\"#2a3f5f\",\"gridcolor\":\"white\",\"linecolor\":\"white\",\"minorgridcolor\":\"white\",\"startlinecolor\":\"#2a3f5f\"},\"baxis\":{\"endlinecolor\":\"#2a3f5f\",\"gridcolor\":\"white\",\"linecolor\":\"white\",\"minorgridcolor\":\"white\",\"startlinecolor\":\"#2a3f5f\"},\"type\":\"carpet\"}],\"table\":[{\"cells\":{\"fill\":{\"color\":\"#EBF0F8\"},\"line\":{\"color\":\"white\"}},\"header\":{\"fill\":{\"color\":\"#C8D4E3\"},\"line\":{\"color\":\"white\"}},\"type\":\"table\"}],\"barpolar\":[{\"marker\":{\"line\":{\"color\":\"#E5ECF6\",\"width\":0.5},\"pattern\":{\"fillmode\":\"overlay\",\"size\":10,\"solidity\":0.2}},\"type\":\"barpolar\"}],\"pie\":[{\"automargin\":true,\"type\":\"pie\"}]},\"layout\":{\"autotypenumbers\":\"strict\",\"colorway\":[\"#636efa\",\"#EF553B\",\"#00cc96\",\"#ab63fa\",\"#FFA15A\",\"#19d3f3\",\"#FF6692\",\"#B6E880\",\"#FF97FF\",\"#FECB52\"],\"font\":{\"color\":\"#2a3f5f\"},\"hovermode\":\"closest\",\"hoverlabel\":{\"align\":\"left\"},\"paper_bgcolor\":\"white\",\"plot_bgcolor\":\"#E5ECF6\",\"polar\":{\"bgcolor\":\"#E5ECF6\",\"angularaxis\":{\"gridcolor\":\"white\",\"linecolor\":\"white\",\"ticks\":\"\"},\"radialaxis\":{\"gridcolor\":\"white\",\"linecolor\":\"white\",\"ticks\":\"\"}},\"ternary\":{\"bgcolor\":\"#E5ECF6\",\"aaxis\":{\"gridcolor\":\"white\",\"linecolor\":\"white\",\"ticks\":\"\"},\"baxis\":{\"gridcolor\":\"white\",\"linecolor\":\"white\",\"ticks\":\"\"},\"caxis\":{\"gridcolor\":\"white\",\"linecolor\":\"white\",\"ticks\":\"\"}},\"coloraxis\":{\"colorbar\":{\"outlinewidth\":0,\"ticks\":\"\"}},\"colorscale\":{\"sequential\":[[0.0,\"#0d0887\"],[0.1111111111111111,\"#46039f\"],[0.2222222222222222,\"#7201a8\"],[0.3333333333333333,\"#9c179e\"],[0.4444444444444444,\"#bd3786\"],[0.5555555555555556,\"#d8576b\"],[0.6666666666666666,\"#ed7953\"],[0.7777777777777778,\"#fb9f3a\"],[0.8888888888888888,\"#fdca26\"],[1.0,\"#f0f921\"]],\"sequentialminus\":[[0.0,\"#0d0887\"],[0.1111111111111111,\"#46039f\"],[0.2222222222222222,\"#7201a8\"],[0.3333333333333333,\"#9c179e\"],[0.4444444444444444,\"#bd3786\"],[0.5555555555555556,\"#d8576b\"],[0.6666666666666666,\"#ed7953\"],[0.7777777777777778,\"#fb9f3a\"],[0.8888888888888888,\"#fdca26\"],[1.0,\"#f0f921\"]],\"diverging\":[[0,\"#8e0152\"],[0.1,\"#c51b7d\"],[0.2,\"#de77ae\"],[0.3,\"#f1b6da\"],[0.4,\"#fde0ef\"],[0.5,\"#f7f7f7\"],[0.6,\"#e6f5d0\"],[0.7,\"#b8e186\"],[0.8,\"#7fbc41\"],[0.9,\"#4d9221\"],[1,\"#276419\"]]},\"xaxis\":{\"gridcolor\":\"white\",\"linecolor\":\"white\",\"ticks\":\"\",\"title\":{\"standoff\":15},\"zerolinecolor\":\"white\",\"automargin\":true,\"zerolinewidth\":2},\"yaxis\":{\"gridcolor\":\"white\",\"linecolor\":\"white\",\"ticks\":\"\",\"title\":{\"standoff\":15},\"zerolinecolor\":\"white\",\"automargin\":true,\"zerolinewidth\":2},\"scene\":{\"xaxis\":{\"backgroundcolor\":\"#E5ECF6\",\"gridcolor\":\"white\",\"linecolor\":\"white\",\"showbackground\":true,\"ticks\":\"\",\"zerolinecolor\":\"white\",\"gridwidth\":2},\"yaxis\":{\"backgroundcolor\":\"#E5ECF6\",\"gridcolor\":\"white\",\"linecolor\":\"white\",\"showbackground\":true,\"ticks\":\"\",\"zerolinecolor\":\"white\",\"gridwidth\":2},\"zaxis\":{\"backgroundcolor\":\"#E5ECF6\",\"gridcolor\":\"white\",\"linecolor\":\"white\",\"showbackground\":true,\"ticks\":\"\",\"zerolinecolor\":\"white\",\"gridwidth\":2}},\"shapedefaults\":{\"line\":{\"color\":\"#2a3f5f\"}},\"annotationdefaults\":{\"arrowcolor\":\"#2a3f5f\",\"arrowhead\":0,\"arrowwidth\":1},\"geo\":{\"bgcolor\":\"white\",\"landcolor\":\"#E5ECF6\",\"subunitcolor\":\"white\",\"showland\":true,\"showlakes\":true,\"lakecolor\":\"white\"},\"title\":{\"x\":0.05},\"mapbox\":{\"style\":\"light\"}}},\"legend\":{\"tracegroupgap\":0},\"title\":{\"text\":\"Number of countries by region, income group, and political regime\"},\"sunburstcolorway\":[\"rgb(102, 197, 204)\",\"rgb(246, 207, 113)\",\"rgb(248, 156, 116)\",\"rgb(220, 176, 242)\",\"rgb(135, 197, 95)\",\"rgb(158, 185, 243)\",\"rgb(254, 136, 177)\",\"rgb(201, 219, 116)\",\"rgb(139, 224, 164)\",\"rgb(180, 151, 231)\",\"rgb(179, 179, 179)\"],\"height\":800},                        {\"responsive\": true}                    ).then(function(){\n",
       "                            \n",
       "var gd = document.getElementById('9a6a3e6b-b166-4a70-bd2b-19ab9019d4f7');\n",
       "var x = new MutationObserver(function (mutations, observer) {{\n",
       "        var display = window.getComputedStyle(gd).display;\n",
       "        if (!display || display === 'none') {{\n",
       "            console.log([gd, 'removed!']);\n",
       "            Plotly.purge(gd);\n",
       "            observer.disconnect();\n",
       "        }}\n",
       "}});\n",
       "\n",
       "// Listen for the removal of the full notebook cells\n",
       "var notebookContainer = gd.closest('#notebook-container');\n",
       "if (notebookContainer) {{\n",
       "    x.observe(notebookContainer, {childList: true});\n",
       "}}\n",
       "\n",
       "// Listen for the clearing of the current output cell\n",
       "var outputEl = gd.closest('.output');\n",
       "if (outputEl) {{\n",
       "    x.observe(outputEl, {childList: true});\n",
       "}}\n",
       "\n",
       "                        })                };                });            </script>        </div>"
      ]
     },
     "metadata": {},
     "output_type": "display_data"
    }
   ],
   "source": [
    "agg_data = df[[\"Region\", \"Income group\", \"Political regime\"]].groupby([\"Region\", \"Income group\", \"Political regime\"]).size().reset_index(name=\"Count\")\n",
    "# define figure element\n",
    "fig = px.sunburst(\n",
    "    agg_data,\n",
    "    values='Count',\n",
    "    path=[\"Region\", \"Income group\", \"Political regime\"],\n",
    "    title=\"Number of countries by region, income group, and political regime\",\n",
    "    color=\"Region\",\n",
    "    height=800,\n",
    "    color_discrete_sequence=px.colors.qualitative.Pastel\n",
    ")\n",
    "# display the figure\n",
    "fig.show()"
   ]
  },
  {
   "cell_type": "markdown",
   "id": "80bd3185",
   "metadata": {
    "papermill": {
     "duration": 0.027561,
     "end_time": "2023-08-09T09:38:12.032643",
     "exception": false,
     "start_time": "2023-08-09T09:38:12.005082",
     "status": "completed"
    },
    "tags": []
   },
   "source": [
    "We find that\n",
    "- the biggest groups in Europe and Asia-Pacific regions represent the countries with High income and either Liberal or Electoral democracy\n",
    "- the biggest group of countries in Americas contains the countries with High income level and Liberal democracy as a political regime\n",
    "- the biggest group of countries in Middle East contains the countries with High income level and Closed autocraty as a political regime\n",
    "\n",
    "Now, let's look at the associations between Region, Cluster, and Political regime."
   ]
  },
  {
   "cell_type": "code",
   "execution_count": 43,
   "id": "e2fd7370",
   "metadata": {
    "_kg_hide-input": true,
    "execution": {
     "iopub.execute_input": "2023-08-09T09:38:12.091259Z",
     "iopub.status.busy": "2023-08-09T09:38:12.090859Z",
     "iopub.status.idle": "2023-08-09T09:38:12.196256Z",
     "shell.execute_reply": "2023-08-09T09:38:12.195176Z"
    },
    "papermill": {
     "duration": 0.136267,
     "end_time": "2023-08-09T09:38:12.198386",
     "exception": false,
     "start_time": "2023-08-09T09:38:12.062119",
     "status": "completed"
    },
    "tags": []
   },
   "outputs": [],
   "source": [
    "agg_data = df[[\"Region\", \"Cluster\", \"Political regime\"]].groupby([\"Region\", \"Cluster\", \"Political regime\"]).size().reset_index(name=\"Count\")\n",
    "# define figure element\n",
    "fig = px.sunburst(\n",
    "    agg_data,\n",
    "    values='Count',\n",
    "    path=[\"Region\", \"Cluster\", \"Political regime\"],\n",
    "    title=\"Number of countries by region, cluster, and political regime\",\n",
    "    color=\"Region\",\n",
    "    height=800,\n",
    "    color_discrete_sequence=px.colors.qualitative.Pastel\n",
    ")\n",
    "# display the figure\n",
    "fig.show()"
   ]
  },
  {
   "cell_type": "markdown",
   "id": "8bd87bdb",
   "metadata": {
    "papermill": {
     "duration": 0.027403,
     "end_time": "2023-08-09T09:38:12.253693",
     "exception": false,
     "start_time": "2023-08-09T09:38:12.226290",
     "status": "completed"
    },
    "tags": []
   },
   "source": [
    "We find that\n",
    "\n",
    "- Rasing stars and Traditional champions operate under Liberal or Electoral democracy, in every region\n",
    "- One of the Power players (USA) operates under Liberal democracy,and another Power player (China) operates under Closed autocracy political regime"
   ]
  },
  {
   "cell_type": "markdown",
   "id": "2480db7b",
   "metadata": {
    "papermill": {
     "duration": 0.027336,
     "end_time": "2023-08-09T09:38:12.308683",
     "exception": false,
     "start_time": "2023-08-09T09:38:12.281347",
     "status": "completed"
    },
    "tags": []
   },
   "source": [
    "# <div style=\"color:white;background-color:#1d1545;padding:3%;border-radius:50px 50px;font-size:1em;text-align:center\">Deeper-Dive Insights</div>\n",
    "\n",
    "In the chapters below, we are going look deeper at the business-level and public administration insights drawn from the data in AI dataset.\n",
    "\n",
    "First of all, we are going to look at the relations between *Total score* and other variables in the dataset (see **Total Score Insights** chapter).\n",
    "\n",
    "Then we are going to outline the holistic insights on\n",
    "\n",
    "- AI Implementation\n",
    "- AI Research and Development\n",
    "- AI Governance and Commercial contexts\n",
    "\n",
    "In the series of the final chapters at the end of the notebook, we are going to perform bivariative and multivariate analysis for the rest of the numeric features in the dataset (besides *Total score*)"
   ]
  },
  {
   "cell_type": "markdown",
   "id": "c1568226",
   "metadata": {
    "papermill": {
     "duration": 0.027307,
     "end_time": "2023-08-09T09:38:12.363635",
     "exception": false,
     "start_time": "2023-08-09T09:38:12.336328",
     "status": "completed"
    },
    "tags": []
   },
   "source": [
    "# <div style=\"color:white;background-color:#1d1545;padding:3%;border-radius:50px 50px;font-size:1em;text-align:center\">Total Score Insights</div>"
   ]
  },
  {
   "cell_type": "code",
   "execution_count": 44,
   "id": "77e93427",
   "metadata": {
    "_kg_hide-input": true,
    "execution": {
     "iopub.execute_input": "2023-08-09T09:38:12.420655Z",
     "iopub.status.busy": "2023-08-09T09:38:12.420259Z",
     "iopub.status.idle": "2023-08-09T09:38:12.425851Z",
     "shell.execute_reply": "2023-08-09T09:38:12.424844Z"
    },
    "papermill": {
     "duration": 0.036839,
     "end_time": "2023-08-09T09:38:12.428079",
     "exception": false,
     "start_time": "2023-08-09T09:38:12.391240",
     "status": "completed"
    },
    "tags": []
   },
   "outputs": [],
   "source": [
    "total_df = df[['Country','Region', 'Cluster', 'Income group', 'Political regime', 'Total score']]"
   ]
  },
  {
   "cell_type": "markdown",
   "id": "d964876d",
   "metadata": {
    "papermill": {
     "duration": 0.027441,
     "end_time": "2023-08-09T09:38:12.484739",
     "exception": false,
     "start_time": "2023-08-09T09:38:12.457298",
     "status": "completed"
    },
    "tags": []
   },
   "source": [
    "## <div style=\"font-size:20px;text-align:center;color:black;border-bottom:5px #0026d6 solid;padding-bottom:3%\">Total Score: Geospacial View</div>"
   ]
  },
  {
   "cell_type": "code",
   "execution_count": 45,
   "id": "2d999c75",
   "metadata": {
    "_kg_hide-input": true,
    "execution": {
     "iopub.execute_input": "2023-08-09T09:38:12.542172Z",
     "iopub.status.busy": "2023-08-09T09:38:12.541813Z",
     "iopub.status.idle": "2023-08-09T09:38:12.696699Z",
     "shell.execute_reply": "2023-08-09T09:38:12.695512Z"
    },
    "papermill": {
     "duration": 0.186341,
     "end_time": "2023-08-09T09:38:12.698964",
     "exception": false,
     "start_time": "2023-08-09T09:38:12.512623",
     "status": "completed"
    },
    "tags": []
   },
   "outputs": [
    {
     "name": "stderr",
     "output_type": "stream",
     "text": [
      "/var/folders/_x/1j3rm6sd6cn3kd7qpmy3s_k40000gn/T/ipykernel_8509/489641289.py:14: SettingWithCopyWarning:\n",
      "\n",
      "\n",
      "A value is trying to be set on a copy of a slice from a DataFrame.\n",
      "Try using .loc[row_indexer,col_indexer] = value instead\n",
      "\n",
      "See the caveats in the documentation: https://pandas.pydata.org/pandas-docs/stable/user_guide/indexing.html#returning-a-view-versus-a-copy\n",
      "\n"
     ]
    }
   ],
   "source": [
    "# set the size of the geo bubble\n",
    "def set_score_size(value):\n",
    "    '''\n",
    "    Takes the numeric value of a parameter to visualize on a map (Plotly Geo-Scatter plot)\n",
    "    Returns a number to indicate the size of a bubble for a country which numeric attribute value \n",
    "    was supplied as an input\n",
    "    '''\n",
    "    result = np.log(1+value/1200)\n",
    "\n",
    "    if result < 0:\n",
    "        result = 0.001\n",
    "    return result\n",
    "\n",
    "total_df['Size'] = total_df.apply(lambda x: set_score_size(x['Total score']), axis=1)\n",
    "\n",
    "fig = px.scatter_geo(\n",
    "    total_df, locations=\"Country\", locationmode='country names', \n",
    "    color=\"Total score\", \n",
    "    size='Size', hover_name=\"Country\", \n",
    "    range_color= [0, 100], \n",
    "    projection=\"natural earth\",\n",
    "    title='AI Total Score Across the Globe', \n",
    "    color_continuous_scale=\"portland_r\")\n",
    "\n",
    "# Update visual layout\n",
    "fig.update_layout(\n",
    "    showlegend=True,\n",
    "    width=800,\n",
    "    height=400,\n",
    "    autosize=False,\n",
    "    margin=dict(t=40, b=0, l=5, r=5),\n",
    "    template=\"plotly_white\",\n",
    ")\n",
    "\n",
    "fig.show()"
   ]
  },
  {
   "cell_type": "code",
   "execution_count": 46,
   "id": "5449fb23",
   "metadata": {
    "_kg_hide-input": true,
    "execution": {
     "iopub.execute_input": "2023-08-09T09:38:12.757450Z",
     "iopub.status.busy": "2023-08-09T09:38:12.757060Z",
     "iopub.status.idle": "2023-08-09T09:38:12.830585Z",
     "shell.execute_reply": "2023-08-09T09:38:12.829202Z"
    },
    "papermill": {
     "duration": 0.106338,
     "end_time": "2023-08-09T09:38:12.833629",
     "exception": false,
     "start_time": "2023-08-09T09:38:12.727291",
     "status": "completed"
    },
    "tags": []
   },
   "outputs": [
    {
     "data": {
      "text/html": [
       "<style type=\"text/css\">\n",
       "#T_1b83b_row0_col1 {\n",
       "  background-color: #800000;\n",
       "  color: #f1f1f1;\n",
       "}\n",
       "#T_1b83b_row1_col1 {\n",
       "  background-color: #bdbdff;\n",
       "  color: #000000;\n",
       "}\n",
       "#T_1b83b_row2_col1 {\n",
       "  background-color: #000092;\n",
       "  color: #f1f1f1;\n",
       "}\n",
       "#T_1b83b_row3_col1 {\n",
       "  background-color: #00008a;\n",
       "  color: #f1f1f1;\n",
       "}\n",
       "#T_1b83b_row4_col1 {\n",
       "  background-color: #000087;\n",
       "  color: #f1f1f1;\n",
       "}\n",
       "#T_1b83b_row5_col1, #T_1b83b_row6_col1 {\n",
       "  background-color: #000079;\n",
       "  color: #f1f1f1;\n",
       "}\n",
       "#T_1b83b_row7_col1 {\n",
       "  background-color: #000060;\n",
       "  color: #f1f1f1;\n",
       "}\n",
       "#T_1b83b_row8_col1 {\n",
       "  background-color: #00005d;\n",
       "  color: #f1f1f1;\n",
       "}\n",
       "#T_1b83b_row9_col1 {\n",
       "  background-color: #00004c;\n",
       "  color: #f1f1f1;\n",
       "}\n",
       "</style>\n",
       "<table id=\"T_1b83b\">\n",
       "  <thead>\n",
       "    <tr>\n",
       "      <th class=\"blank level0\" >&nbsp;</th>\n",
       "      <th id=\"T_1b83b_level0_col0\" class=\"col_heading level0 col0\" >Country</th>\n",
       "      <th id=\"T_1b83b_level0_col1\" class=\"col_heading level0 col1\" >Total score</th>\n",
       "    </tr>\n",
       "  </thead>\n",
       "  <tbody>\n",
       "    <tr>\n",
       "      <th id=\"T_1b83b_level0_row0\" class=\"row_heading level0 row0\" >0</th>\n",
       "      <td id=\"T_1b83b_row0_col0\" class=\"data row0 col0\" >United States of America</td>\n",
       "      <td id=\"T_1b83b_row0_col1\" class=\"data row0 col1\" >100.000000</td>\n",
       "    </tr>\n",
       "    <tr>\n",
       "      <th id=\"T_1b83b_level0_row1\" class=\"row_heading level0 row1\" >1</th>\n",
       "      <td id=\"T_1b83b_row1_col0\" class=\"data row1 col0\" >China</td>\n",
       "      <td id=\"T_1b83b_row1_col1\" class=\"data row1 col1\" >62.920000</td>\n",
       "    </tr>\n",
       "    <tr>\n",
       "      <th id=\"T_1b83b_level0_row2\" class=\"row_heading level0 row2\" >2</th>\n",
       "      <td id=\"T_1b83b_row2_col0\" class=\"data row2 col0\" >United Kingdom</td>\n",
       "      <td id=\"T_1b83b_row2_col1\" class=\"data row2 col1\" >40.930000</td>\n",
       "    </tr>\n",
       "    <tr>\n",
       "      <th id=\"T_1b83b_level0_row3\" class=\"row_heading level0 row3\" >3</th>\n",
       "      <td id=\"T_1b83b_row3_col0\" class=\"data row3 col0\" >Canada</td>\n",
       "      <td id=\"T_1b83b_row3_col1\" class=\"data row3 col1\" >40.190000</td>\n",
       "    </tr>\n",
       "    <tr>\n",
       "      <th id=\"T_1b83b_level0_row4\" class=\"row_heading level0 row4\" >4</th>\n",
       "      <td id=\"T_1b83b_row4_col0\" class=\"data row4 col0\" >Israel</td>\n",
       "      <td id=\"T_1b83b_row4_col1\" class=\"data row4 col1\" >39.890000</td>\n",
       "    </tr>\n",
       "    <tr>\n",
       "      <th id=\"T_1b83b_level0_row5\" class=\"row_heading level0 row5\" >5</th>\n",
       "      <td id=\"T_1b83b_row5_col0\" class=\"data row5 col0\" >Singapore</td>\n",
       "      <td id=\"T_1b83b_row5_col1\" class=\"data row5 col1\" >38.670000</td>\n",
       "    </tr>\n",
       "    <tr>\n",
       "      <th id=\"T_1b83b_level0_row6\" class=\"row_heading level0 row6\" >6</th>\n",
       "      <td id=\"T_1b83b_row6_col0\" class=\"data row6 col0\" >South Korea</td>\n",
       "      <td id=\"T_1b83b_row6_col1\" class=\"data row6 col1\" >38.600000</td>\n",
       "    </tr>\n",
       "    <tr>\n",
       "      <th id=\"T_1b83b_level0_row7\" class=\"row_heading level0 row7\" >7</th>\n",
       "      <td id=\"T_1b83b_row7_col0\" class=\"data row7 col0\" >The Netherlands</td>\n",
       "      <td id=\"T_1b83b_row7_col1\" class=\"data row7 col1\" >36.350000</td>\n",
       "    </tr>\n",
       "    <tr>\n",
       "      <th id=\"T_1b83b_level0_row8\" class=\"row_heading level0 row8\" >8</th>\n",
       "      <td id=\"T_1b83b_row8_col0\" class=\"data row8 col0\" >Germany</td>\n",
       "      <td id=\"T_1b83b_row8_col1\" class=\"data row8 col1\" >36.040000</td>\n",
       "    </tr>\n",
       "    <tr>\n",
       "      <th id=\"T_1b83b_level0_row9\" class=\"row_heading level0 row9\" >9</th>\n",
       "      <td id=\"T_1b83b_row9_col0\" class=\"data row9 col0\" >France</td>\n",
       "      <td id=\"T_1b83b_row9_col1\" class=\"data row9 col1\" >34.420000</td>\n",
       "    </tr>\n",
       "  </tbody>\n",
       "</table>\n"
      ],
      "text/plain": [
       "<pandas.io.formats.style.Styler at 0x32fd4f9d0>"
      ]
     },
     "execution_count": 46,
     "metadata": {},
     "output_type": "execute_result"
    }
   ],
   "source": [
    "total_df.sort_values('Total score', \n",
    "                   ascending=False)[\n",
    "                        [ \n",
    "                          'Country',\n",
    "                          'Total score'\n",
    "                        ]\n",
    "][:10].style.background_gradient(cmap='seismic')"
   ]
  },
  {
   "cell_type": "markdown",
   "id": "1d96afdf",
   "metadata": {
    "papermill": {
     "duration": 0.028528,
     "end_time": "2023-08-09T09:38:12.893669",
     "exception": false,
     "start_time": "2023-08-09T09:38:12.865141",
     "status": "completed"
    },
    "tags": []
   },
   "source": [
    "We find that\n",
    "- the Power players (USA, China) lead the ranks , although the gap between the total score of USA and China is significant\n",
    "- some of the countries in Rasing stars cluster (Israel, Singapore, South Korea, The Netherlands) outperform some of the traditional  champions (that is, Germany and France), in terms of the total score\n",
    "- India does not fit into the top ten list of the countries by *Total score*, although it holds the second position in terms of AI Talent score"
   ]
  },
  {
   "cell_type": "markdown",
   "id": "df301dc3",
   "metadata": {
    "papermill": {
     "duration": 0.028753,
     "end_time": "2023-08-09T09:38:12.951207",
     "exception": false,
     "start_time": "2023-08-09T09:38:12.922454",
     "status": "completed"
    },
    "tags": []
   },
   "source": [
    "## <div style=\"font-size:20px;text-align:center;color:black;border-bottom:5px #0026d6 solid;padding-bottom:3%\">Total Score by Regions</div>"
   ]
  },
  {
   "cell_type": "code",
   "execution_count": 47,
   "id": "234d589d",
   "metadata": {
    "_kg_hide-input": true,
    "execution": {
     "iopub.execute_input": "2023-08-09T09:38:13.014331Z",
     "iopub.status.busy": "2023-08-09T09:38:13.013321Z",
     "iopub.status.idle": "2023-08-09T09:38:13.119175Z",
     "shell.execute_reply": "2023-08-09T09:38:13.117602Z"
    },
    "papermill": {
     "duration": 0.139359,
     "end_time": "2023-08-09T09:38:13.122038",
     "exception": false,
     "start_time": "2023-08-09T09:38:12.982679",
     "status": "completed"
    },
    "tags": []
   },
   "outputs": [],
   "source": [
    "fig = px.violin(total_df, y=\"Total score\", x=\"Region\", box=True, points=\"all\", title=\"Total score by Regions\", hover_data=total_df.columns)\n",
    "fig.show()"
   ]
  },
  {
   "cell_type": "code",
   "execution_count": 48,
   "id": "f3f6b83d",
   "metadata": {
    "_kg_hide-input": true,
    "execution": {
     "iopub.execute_input": "2023-08-09T09:38:13.195898Z",
     "iopub.status.busy": "2023-08-09T09:38:13.195192Z",
     "iopub.status.idle": "2023-08-09T09:38:13.306435Z",
     "shell.execute_reply": "2023-08-09T09:38:13.305378Z"
    },
    "papermill": {
     "duration": 0.143977,
     "end_time": "2023-08-09T09:38:13.308590",
     "exception": false,
     "start_time": "2023-08-09T09:38:13.164613",
     "status": "completed"
    },
    "tags": []
   },
   "outputs": [
    {
     "name": "stderr",
     "output_type": "stream",
     "text": [
      "/var/folders/_x/1j3rm6sd6cn3kd7qpmy3s_k40000gn/T/ipykernel_8509/557914263.py:17: SettingWithCopyWarning:\n",
      "\n",
      "\n",
      "A value is trying to be set on a copy of a slice from a DataFrame.\n",
      "Try using .loc[row_indexer,col_indexer] = value instead\n",
      "\n",
      "See the caveats in the documentation: https://pandas.pydata.org/pandas-docs/stable/user_guide/indexing.html#returning-a-view-versus-a-copy\n",
      "\n"
     ]
    }
   ],
   "source": [
    "# implement binning by Total Score categories\n",
    "\n",
    "def set_score_level(x):\n",
    "    res = \"N/A\"\n",
    "    if x >= 80:\n",
    "        res = \"1 - Very high\"\n",
    "    elif x >= 60 and x < 80:\n",
    "        res = \"2 - High\"\n",
    "    elif x >= 40 and x < 60:\n",
    "        res = \"3 - Moderate\"\n",
    "    elif x >= 20 and x < 40:\n",
    "        res = \"4 - Low\"\n",
    "    else:\n",
    "        res = \"5 - Very low\"\n",
    "    return res\n",
    "\n",
    "total_df[\"Score_level\"] = total_df[\"Total score\"].apply(set_score_level)\n",
    "\n",
    "agg_data = total_df.groupby(['Region', 'Score_level']).size().reset_index(name='Country_count')\n",
    "\n",
    "agg_data = agg_data.sort_values(by=[\"Score_level\", \"Country_count\"])\n",
    "\n",
    "fig = px.bar(\n",
    "    agg_data, \n",
    "    x='Region', \n",
    "    y='Country_count', \n",
    "    color='Score_level', \n",
    "    title=\"Countries by Region and Total Score level\", \n",
    "    color_discrete_sequence=px.colors.qualitative.Prism,\n",
    "    height=600)\n",
    "fig.show()"
   ]
  },
  {
   "cell_type": "markdown",
   "id": "a7d62862",
   "metadata": {
    "papermill": {
     "duration": 0.029071,
     "end_time": "2023-08-09T09:38:13.366927",
     "exception": false,
     "start_time": "2023-08-09T09:38:13.337856",
     "status": "completed"
    },
    "tags": []
   },
   "source": [
    "We find that\n",
    "\n",
    "- There is just one country with the Very high-level Total score (USA, in Americas region)\n",
    "- There is just one coutnry with the the High-level Total score (China, Asia-Pacific region)\n",
    "- There are just two countries with the moderate-level Total score (Canada, UK); however, they are less than 1-2 units above the bunch of traditional champions and raising star countries with the Total score of 38+ or 39+ (the latter countries classified as Low-level in terms of their Total score)\n",
    "- the distribution of Total score in Middle East and Africa shows these regions has more countries with lower Total score vs. Americas, Europe, and Asia-Pacific"
   ]
  },
  {
   "cell_type": "markdown",
   "id": "dc5f5d14",
   "metadata": {
    "papermill": {
     "duration": 0.02905,
     "end_time": "2023-08-09T09:38:13.425777",
     "exception": false,
     "start_time": "2023-08-09T09:38:13.396727",
     "status": "completed"
    },
    "tags": []
   },
   "source": [
    "## <div style=\"font-size:20px;text-align:center;color:black;border-bottom:5px #0026d6 solid;padding-bottom:3%\">Total Score by Clusters</div>"
   ]
  },
  {
   "cell_type": "code",
   "execution_count": 49,
   "id": "44081903",
   "metadata": {
    "_kg_hide-input": true,
    "execution": {
     "iopub.execute_input": "2023-08-09T09:38:13.486511Z",
     "iopub.status.busy": "2023-08-09T09:38:13.485288Z",
     "iopub.status.idle": "2023-08-09T09:38:13.545953Z",
     "shell.execute_reply": "2023-08-09T09:38:13.545132Z"
    },
    "papermill": {
     "duration": 0.093231,
     "end_time": "2023-08-09T09:38:13.548151",
     "exception": false,
     "start_time": "2023-08-09T09:38:13.454920",
     "status": "completed"
    },
    "tags": []
   },
   "outputs": [],
   "source": [
    "fig = px.violin(total_df, y=\"Total score\", x=\"Cluster\", box=True, points=\"all\", title=\"Total score by Clusters\", hover_data=total_df.columns)\n",
    "fig.show()"
   ]
  },
  {
   "cell_type": "code",
   "execution_count": 50,
   "id": "892e0f89",
   "metadata": {
    "_kg_hide-input": true,
    "execution": {
     "iopub.execute_input": "2023-08-09T09:38:13.609970Z",
     "iopub.status.busy": "2023-08-09T09:38:13.608846Z",
     "iopub.status.idle": "2023-08-09T09:38:13.687586Z",
     "shell.execute_reply": "2023-08-09T09:38:13.686387Z"
    },
    "papermill": {
     "duration": 0.112268,
     "end_time": "2023-08-09T09:38:13.690008",
     "exception": false,
     "start_time": "2023-08-09T09:38:13.577740",
     "status": "completed"
    },
    "tags": []
   },
   "outputs": [],
   "source": [
    "agg_data = total_df.groupby(['Cluster', 'Score_level']).size().reset_index(name='Country_count')\n",
    "\n",
    "agg_data = agg_data.sort_values(by=[\"Score_level\", \"Country_count\"])\n",
    "\n",
    "fig = px.bar(\n",
    "    agg_data, \n",
    "    x='Cluster', \n",
    "    y='Country_count', \n",
    "    color='Score_level', \n",
    "    title=\"Countries by Region and Total Score level\", \n",
    "    color_discrete_sequence=px.colors.qualitative.Prism,\n",
    "    height=600)\n",
    "fig.show()"
   ]
  },
  {
   "cell_type": "markdown",
   "id": "753621d1",
   "metadata": {
    "papermill": {
     "duration": 0.029947,
     "end_time": "2023-08-09T09:38:13.750025",
     "exception": false,
     "start_time": "2023-08-09T09:38:13.720078",
     "status": "completed"
    },
    "tags": []
   },
   "source": [
    "We find that\n",
    "\n",
    "- the average Total score is higher in Power players and Traditional champions clusters\n",
    "- some of the countries in Raising stars cluster are still scored higher then two of the traditional champions (Germany, France)"
   ]
  },
  {
   "cell_type": "markdown",
   "id": "3126ddf8",
   "metadata": {
    "papermill": {
     "duration": 0.02977,
     "end_time": "2023-08-09T09:38:13.809847",
     "exception": false,
     "start_time": "2023-08-09T09:38:13.780077",
     "status": "completed"
    },
    "tags": []
   },
   "source": [
    "## <div style=\"font-size:20px;text-align:center;color:black;border-bottom:5px #0026d6 solid;padding-bottom:3%\">Total score by Income groups</div>\n"
   ]
  },
  {
   "cell_type": "code",
   "execution_count": null,
   "id": "e52e7eec",
   "metadata": {
    "execution": {
     "iopub.execute_input": "2023-08-09T09:38:13.873540Z",
     "iopub.status.busy": "2023-08-09T09:38:13.873147Z",
     "iopub.status.idle": "2023-08-09T09:38:13.931870Z",
     "shell.execute_reply": "2023-08-09T09:38:13.930969Z"
    },
    "papermill": {
     "duration": 0.093778,
     "end_time": "2023-08-09T09:38:13.933898",
     "exception": false,
     "start_time": "2023-08-09T09:38:13.840120",
     "status": "completed"
    },
    "tags": []
   },
   "outputs": [
    {
     "data": {
      "text/html": [
       "<div>                            <div id=\"e1638f83-1726-49ef-901c-5a5705630b5d\" class=\"plotly-graph-div\" style=\"height:525px; width:100%;\"></div>            <script type=\"text/javascript\">                require([\"plotly\"], function(Plotly) {                    window.PLOTLYENV=window.PLOTLYENV || {};                                    if (document.getElementById(\"e1638f83-1726-49ef-901c-5a5705630b5d\")) {                    Plotly.newPlot(                        \"e1638f83-1726-49ef-901c-5a5705630b5d\",                        [{\"alignmentgroup\":\"True\",\"box\":{\"visible\":true},\"customdata\":[[\"United States of America\",\"Americas\",\"Power players\",\"Liberal democracy\",0.08004270767353636,\"1 - Very high\"],[\"China\",\"Asia-Pacific\",\"Power players\",\"Closed autocracy\",0.05110494331726797,\"2 - High\"],[\"United Kingdom\",\"Europe\",\"Traditional champions\",\"Liberal democracy\",0.03353954171353689,\"3 - Moderate\"],[\"Canada\",\"Americas\",\"Traditional champions\",\"Liberal democracy\",0.03294303689156765,\"3 - Moderate\"],[\"Israel\",\"Middle East\",\"Rising stars\",\"Liberal democracy\",0.03270110921063532,\"4 - Low\"],[\"Singapore\",\"Asia-Pacific\",\"Rising stars\",\"Electoral democracy\",0.03171666655156881,\"4 - Low\"],[\"South Korea\",\"Asia-Pacific\",\"Rising stars\",\"Liberal democracy\",0.03166015272786888,\"4 - Low\"],[\"The Netherlands\",\"Europe\",\"Rising stars\",\"Liberal democracy\",0.02984193367709198,\"4 - Low\"],[\"Germany\",\"Europe\",\"Traditional champions\",\"Liberal democracy\",0.029591164177438255,\"4 - Low\"],[\"France\",\"Europe\",\"Traditional champions\",\"Liberal democracy\",0.02827966734510486,\"4 - Low\"],[\"Australia\",\"Asia-Pacific\",\"Rising stars\",\"Liberal democracy\",0.027825910065048785,\"4 - Low\"],[\"Ireland\",\"Europe\",\"Rising stars\",\"Liberal democracy\",0.027161108062372746,\"4 - Low\"],[\"Finland\",\"Europe\",\"Rising stars\",\"Liberal democracy\",0.025797692821140618,\"4 - Low\"],[\"Denmark\",\"Europe\",\"Rising stars\",\"Liberal democracy\",0.025399679632715,\"4 - Low\"],[\"Luxembourg\",\"Europe\",\"Waking up\",\"Liberal democracy\",0.02528593247627117,\"4 - Low\"],[\"Japan\",\"Asia-Pacific\",\"Rising stars\",\"Liberal democracy\",0.02512341409102119,\"4 - Low\"],[\"India\",\"Asia-Pacific\",\"Waking up\",\"Electoral autocracy\",0.0249852526939086,\"4 - Low\"],[\"Switzerland\",\"Europe\",\"Rising stars\",\"Liberal democracy\",0.02489584396999586,\"4 - Low\"],[\"Sweden\",\"Europe\",\"Waking up\",\"Liberal democracy\",0.024570653934204705,\"4 - Low\"],[\"Hong Kong\",\"Asia-Pacific\",\"Waking up\",\"Electoral democracy\",0.02396877344624278,\"4 - Low\"],[\"Spain\",\"Europe\",\"Rising stars\",\"Liberal democracy\",0.022209858308273153,\"4 - Low\"],[\"Austria\",\"Europe\",\"Waking up\",\"Electoral democracy\",0.022160955364306293,\"4 - Low\"],[\"Estonia\",\"Europe\",\"Waking up\",\"Liberal democracy\",0.021924557415791676,\"4 - Low\"],[\"Taiwan\",\"Asia-Pacific\",\"Waking up\",\"Liberal democracy\",0.021263977304590204,\"4 - Low\"],[\"Norway\",\"Europe\",\"Waking up\",\"Liberal democracy\",0.021247661163030892,\"4 - Low\"],[\"Saudi Arabia\",\"Middle East\",\"Waking up\",\"Closed autocracy\",0.021108963210235265,\"4 - Low\"],[\"Belgium\",\"Europe\",\"Waking up\",\"Liberal democracy\",0.02104368692834911,\"4 - Low\"],[\"Poland\",\"Europe\",\"Waking up\",\"Electoral democracy\",0.02078253918252841,\"4 - Low\"],[\"Slovenia\",\"Europe\",\"Waking up\",\"Electoral democracy\",0.020774377216474148,\"4 - Low\"],[\"New Zealand\",\"Asia-Pacific\",\"Waking up\",\"Liberal democracy\",0.020521323220747956,\"4 - Low\"],[\"Italy\",\"Europe\",\"Waking up\",\"Liberal democracy\",0.020170206789383038,\"4 - Low\"],[\"Russia\",\"Europe\",\"Waking up\",\"Electoral autocracy\",0.018159120615909803,\"4 - Low\"],[\"Malta\",\"Europe\",\"Waking up\",\"Electoral democracy\",0.018044546830266715,\"4 - Low\"],[\"United Arab Emirates\",\"Middle East\",\"Waking up\",\"Closed autocracy\",0.017487858782226764,\"4 - Low\"],[\"Portugal\",\"Europe\",\"Waking up\",\"Electoral democracy\",0.017258544186166916,\"4 - Low\"],[\"Czech Republic\",\"Europe\",\"Waking up\",\"Electoral democracy\",0.016783368034345596,\"4 - Low\"],[\"Iceland\",\"Europe\",\"Waking up\",\"Liberal democracy\",0.016373552117916933,\"5 - Very low\"],[\"Lithuania\",\"Europe\",\"Waking up\",\"Electoral democracy\",0.016193179894750113,\"5 - Very low\"],[\"Brazil\",\"Americas\",\"Waking up\",\"Electoral democracy\",0.015619051733577739,\"5 - Very low\"],[\"Greece\",\"Europe\",\"Waking up\",\"Liberal democracy\",0.014338379041278998,\"5 - Very low\"],[\"Slovakia\",\"Europe\",\"Waking up\",\"Electoral democracy\",0.014264444013704473,\"5 - Very low\"],[\"Hungary\",\"Europe\",\"Waking up\",\"Electoral autocracy\",0.014067257211435489,\"5 - Very low\"],[\"Malaysia\",\"Asia-Pacific\",\"Waking up\",\"Electoral autocracy\",0.013787842665268687,\"5 - Very low\"],[\"Mexico\",\"Americas\",\"Waking up\",\"Electoral democracy\",0.012817503710614343,\"5 - Very low\"],[\"Chile\",\"Americas\",\"Waking up\",\"Liberal democracy\",0.012694088058884829,\"5 - Very low\"],[\"Argentina\",\"Americas\",\"Waking up\",\"Electoral democracy\",0.012620031356102198,\"5 - Very low\"],[\"Qatar\",\"Middle East\",\"Waking up\",\"Closed autocracy\",0.012142645446381765,\"5 - Very low\"],[\"Turkey\",\"Europe\",\"Waking up\",\"Electoral democracy\",0.011920336312265835,\"5 - Very low\"],[\"Colombia\",\"Americas\",\"Waking up\",\"Electoral democracy\",0.011475569725024169,\"5 - Very low\"],[\"Uruguay\",\"Americas\",\"Waking up\",\"Liberal democracy\",0.010997637022034545,\"5 - Very low\"],[\"Bahrain\",\"Middle East\",\"Waking up\",\"Closed autocracy\",0.009777048513917981,\"5 - Very low\"],[\"Vietnam\",\"Asia-Pacific\",\"Waking up\",\"Closed autocracy\",0.00963675033880201,\"5 - Very low\"],[\"Indonesia\",\"Asia-Pacific\",\"Waking up\",\"Electoral democracy\",0.00951294148300918,\"5 - Very low\"],[\"Tunisia\",\"Africa\",\"Waking up\",\"Electoral democracy\",0.008191359026288982,\"5 - Very low\"],[\"South Africa\",\"Africa\",\"Waking up\",\"Electoral democracy\",0.008059104667901825,\"5 - Very low\"],[\"Morocco\",\"Africa\",\"Waking up\",\"Closed autocracy\",0.007364482175550994,\"5 - Very low\"],[\"Armenia\",\"Europe\",\"Waking up\",\"Electoral democracy\",0.007050089612482101,\"5 - Very low\"],[\"Sri Lanka\",\"Asia-Pacific\",\"Nascent\",\"Electoral democracy\",0.005501505594606445,\"5 - Very low\"],[\"Egypt\",\"Middle East\",\"Nascent\",\"Electoral autocracy\",0.004016921357933999,\"5 - Very low\"],[\"Kenya\",\"Africa\",\"Nascent\",\"Electoral autocracy\",0.0019148322047716426,\"5 - Very low\"],[\"Nigeria\",\"Africa\",\"Nascent\",\"Electoral autocracy\",0.001149339256521468,\"5 - Very low\"],[\"Pakistan\",\"Asia-Pacific\",\"Nascent\",\"Electoral autocracy\",0.0,\"5 - Very low\"]],\"hovertemplate\":\"Income group=%{x}\\u003cbr\\u003eTotal score=%{y}\\u003cbr\\u003eCountry=%{customdata[0]}\\u003cbr\\u003eRegion=%{customdata[1]}\\u003cbr\\u003eCluster=%{customdata[2]}\\u003cbr\\u003ePolitical regime=%{customdata[3]}\\u003cbr\\u003eSize=%{customdata[4]}\\u003cbr\\u003eScore_level=%{customdata[5]}\\u003cextra\\u003e\\u003c\\u002fextra\\u003e\",\"legendgroup\":\"\",\"marker\":{\"color\":\"#636efa\"},\"name\":\"\",\"offsetgroup\":\"\",\"orientation\":\"v\",\"points\":\"all\",\"scalegroup\":\"True\",\"showlegend\":false,\"x\":[\"High\",\"Upper middle\",\"High\",\"High\",\"High\",\"High\",\"High\",\"High\",\"High\",\"High\",\"High\",\"High\",\"High\",\"High\",\"High\",\"High\",\"Lower middle\",\"High\",\"High\",\"High\",\"High\",\"High\",\"High\",\"High\",\"High\",\"High\",\"High\",\"High\",\"High\",\"High\",\"High\",\"Upper middle\",\"High\",\"High\",\"High\",\"High\",\"High\",\"High\",\"Upper middle\",\"High\",\"High\",\"High\",\"Upper middle\",\"Upper middle\",\"High\",\"Upper middle\",\"High\",\"High\",\"Upper middle\",\"High\",\"High\",\"Lower middle\",\"Lower middle\",\"Lower middle\",\"Upper middle\",\"Lower middle\",\"Upper middle\",\"Lower middle\",\"Lower middle\",\"Lower middle\",\"Lower middle\",\"Lower middle\"],\"x0\":\" \",\"xaxis\":\"x\",\"y\":[100.0,62.92,40.93,40.19,39.89,38.67,38.6,36.35,36.04,34.42,33.86,33.04,31.36,30.87,30.73,30.53,30.36,30.25,29.85,29.11,26.95,26.89,26.6,25.79,25.77,25.6,25.52,25.2,25.19,24.88,24.45,21.99,21.85,21.17,20.89,20.31,19.81,19.59,18.89,17.33,17.24,17.0,16.66,15.48,15.33,15.24,14.66,14.39,13.85,13.27,11.79,11.62,11.47,9.87,9.71,8.87,8.49,6.62,4.83,2.3,1.38,0.0],\"y0\":\" \",\"yaxis\":\"y\",\"type\":\"violin\"}],                        {\"template\":{\"data\":{\"histogram2dcontour\":[{\"type\":\"histogram2dcontour\",\"colorbar\":{\"outlinewidth\":0,\"ticks\":\"\"},\"colorscale\":[[0.0,\"#0d0887\"],[0.1111111111111111,\"#46039f\"],[0.2222222222222222,\"#7201a8\"],[0.3333333333333333,\"#9c179e\"],[0.4444444444444444,\"#bd3786\"],[0.5555555555555556,\"#d8576b\"],[0.6666666666666666,\"#ed7953\"],[0.7777777777777778,\"#fb9f3a\"],[0.8888888888888888,\"#fdca26\"],[1.0,\"#f0f921\"]]}],\"choropleth\":[{\"type\":\"choropleth\",\"colorbar\":{\"outlinewidth\":0,\"ticks\":\"\"}}],\"histogram2d\":[{\"type\":\"histogram2d\",\"colorbar\":{\"outlinewidth\":0,\"ticks\":\"\"},\"colorscale\":[[0.0,\"#0d0887\"],[0.1111111111111111,\"#46039f\"],[0.2222222222222222,\"#7201a8\"],[0.3333333333333333,\"#9c179e\"],[0.4444444444444444,\"#bd3786\"],[0.5555555555555556,\"#d8576b\"],[0.6666666666666666,\"#ed7953\"],[0.7777777777777778,\"#fb9f3a\"],[0.8888888888888888,\"#fdca26\"],[1.0,\"#f0f921\"]]}],\"heatmap\":[{\"type\":\"heatmap\",\"colorbar\":{\"outlinewidth\":0,\"ticks\":\"\"},\"colorscale\":[[0.0,\"#0d0887\"],[0.1111111111111111,\"#46039f\"],[0.2222222222222222,\"#7201a8\"],[0.3333333333333333,\"#9c179e\"],[0.4444444444444444,\"#bd3786\"],[0.5555555555555556,\"#d8576b\"],[0.6666666666666666,\"#ed7953\"],[0.7777777777777778,\"#fb9f3a\"],[0.8888888888888888,\"#fdca26\"],[1.0,\"#f0f921\"]]}],\"heatmapgl\":[{\"type\":\"heatmapgl\",\"colorbar\":{\"outlinewidth\":0,\"ticks\":\"\"},\"colorscale\":[[0.0,\"#0d0887\"],[0.1111111111111111,\"#46039f\"],[0.2222222222222222,\"#7201a8\"],[0.3333333333333333,\"#9c179e\"],[0.4444444444444444,\"#bd3786\"],[0.5555555555555556,\"#d8576b\"],[0.6666666666666666,\"#ed7953\"],[0.7777777777777778,\"#fb9f3a\"],[0.8888888888888888,\"#fdca26\"],[1.0,\"#f0f921\"]]}],\"contourcarpet\":[{\"type\":\"contourcarpet\",\"colorbar\":{\"outlinewidth\":0,\"ticks\":\"\"}}],\"contour\":[{\"type\":\"contour\",\"colorbar\":{\"outlinewidth\":0,\"ticks\":\"\"},\"colorscale\":[[0.0,\"#0d0887\"],[0.1111111111111111,\"#46039f\"],[0.2222222222222222,\"#7201a8\"],[0.3333333333333333,\"#9c179e\"],[0.4444444444444444,\"#bd3786\"],[0.5555555555555556,\"#d8576b\"],[0.6666666666666666,\"#ed7953\"],[0.7777777777777778,\"#fb9f3a\"],[0.8888888888888888,\"#fdca26\"],[1.0,\"#f0f921\"]]}],\"surface\":[{\"type\":\"surface\",\"colorbar\":{\"outlinewidth\":0,\"ticks\":\"\"},\"colorscale\":[[0.0,\"#0d0887\"],[0.1111111111111111,\"#46039f\"],[0.2222222222222222,\"#7201a8\"],[0.3333333333333333,\"#9c179e\"],[0.4444444444444444,\"#bd3786\"],[0.5555555555555556,\"#d8576b\"],[0.6666666666666666,\"#ed7953\"],[0.7777777777777778,\"#fb9f3a\"],[0.8888888888888888,\"#fdca26\"],[1.0,\"#f0f921\"]]}],\"mesh3d\":[{\"type\":\"mesh3d\",\"colorbar\":{\"outlinewidth\":0,\"ticks\":\"\"}}],\"scatter\":[{\"fillpattern\":{\"fillmode\":\"overlay\",\"size\":10,\"solidity\":0.2},\"type\":\"scatter\"}],\"parcoords\":[{\"type\":\"parcoords\",\"line\":{\"colorbar\":{\"outlinewidth\":0,\"ticks\":\"\"}}}],\"scatterpolargl\":[{\"type\":\"scatterpolargl\",\"marker\":{\"colorbar\":{\"outlinewidth\":0,\"ticks\":\"\"}}}],\"bar\":[{\"error_x\":{\"color\":\"#2a3f5f\"},\"error_y\":{\"color\":\"#2a3f5f\"},\"marker\":{\"line\":{\"color\":\"#E5ECF6\",\"width\":0.5},\"pattern\":{\"fillmode\":\"overlay\",\"size\":10,\"solidity\":0.2}},\"type\":\"bar\"}],\"scattergeo\":[{\"type\":\"scattergeo\",\"marker\":{\"colorbar\":{\"outlinewidth\":0,\"ticks\":\"\"}}}],\"scatterpolar\":[{\"type\":\"scatterpolar\",\"marker\":{\"colorbar\":{\"outlinewidth\":0,\"ticks\":\"\"}}}],\"histogram\":[{\"marker\":{\"pattern\":{\"fillmode\":\"overlay\",\"size\":10,\"solidity\":0.2}},\"type\":\"histogram\"}],\"scattergl\":[{\"type\":\"scattergl\",\"marker\":{\"colorbar\":{\"outlinewidth\":0,\"ticks\":\"\"}}}],\"scatter3d\":[{\"type\":\"scatter3d\",\"line\":{\"colorbar\":{\"outlinewidth\":0,\"ticks\":\"\"}},\"marker\":{\"colorbar\":{\"outlinewidth\":0,\"ticks\":\"\"}}}],\"scattermapbox\":[{\"type\":\"scattermapbox\",\"marker\":{\"colorbar\":{\"outlinewidth\":0,\"ticks\":\"\"}}}],\"scatterternary\":[{\"type\":\"scatterternary\",\"marker\":{\"colorbar\":{\"outlinewidth\":0,\"ticks\":\"\"}}}],\"scattercarpet\":[{\"type\":\"scattercarpet\",\"marker\":{\"colorbar\":{\"outlinewidth\":0,\"ticks\":\"\"}}}],\"carpet\":[{\"aaxis\":{\"endlinecolor\":\"#2a3f5f\",\"gridcolor\":\"white\",\"linecolor\":\"white\",\"minorgridcolor\":\"white\",\"startlinecolor\":\"#2a3f5f\"},\"baxis\":{\"endlinecolor\":\"#2a3f5f\",\"gridcolor\":\"white\",\"linecolor\":\"white\",\"minorgridcolor\":\"white\",\"startlinecolor\":\"#2a3f5f\"},\"type\":\"carpet\"}],\"table\":[{\"cells\":{\"fill\":{\"color\":\"#EBF0F8\"},\"line\":{\"color\":\"white\"}},\"header\":{\"fill\":{\"color\":\"#C8D4E3\"},\"line\":{\"color\":\"white\"}},\"type\":\"table\"}],\"barpolar\":[{\"marker\":{\"line\":{\"color\":\"#E5ECF6\",\"width\":0.5},\"pattern\":{\"fillmode\":\"overlay\",\"size\":10,\"solidity\":0.2}},\"type\":\"barpolar\"}],\"pie\":[{\"automargin\":true,\"type\":\"pie\"}]},\"layout\":{\"autotypenumbers\":\"strict\",\"colorway\":[\"#636efa\",\"#EF553B\",\"#00cc96\",\"#ab63fa\",\"#FFA15A\",\"#19d3f3\",\"#FF6692\",\"#B6E880\",\"#FF97FF\",\"#FECB52\"],\"font\":{\"color\":\"#2a3f5f\"},\"hovermode\":\"closest\",\"hoverlabel\":{\"align\":\"left\"},\"paper_bgcolor\":\"white\",\"plot_bgcolor\":\"#E5ECF6\",\"polar\":{\"bgcolor\":\"#E5ECF6\",\"angularaxis\":{\"gridcolor\":\"white\",\"linecolor\":\"white\",\"ticks\":\"\"},\"radialaxis\":{\"gridcolor\":\"white\",\"linecolor\":\"white\",\"ticks\":\"\"}},\"ternary\":{\"bgcolor\":\"#E5ECF6\",\"aaxis\":{\"gridcolor\":\"white\",\"linecolor\":\"white\",\"ticks\":\"\"},\"baxis\":{\"gridcolor\":\"white\",\"linecolor\":\"white\",\"ticks\":\"\"},\"caxis\":{\"gridcolor\":\"white\",\"linecolor\":\"white\",\"ticks\":\"\"}},\"coloraxis\":{\"colorbar\":{\"outlinewidth\":0,\"ticks\":\"\"}},\"colorscale\":{\"sequential\":[[0.0,\"#0d0887\"],[0.1111111111111111,\"#46039f\"],[0.2222222222222222,\"#7201a8\"],[0.3333333333333333,\"#9c179e\"],[0.4444444444444444,\"#bd3786\"],[0.5555555555555556,\"#d8576b\"],[0.6666666666666666,\"#ed7953\"],[0.7777777777777778,\"#fb9f3a\"],[0.8888888888888888,\"#fdca26\"],[1.0,\"#f0f921\"]],\"sequentialminus\":[[0.0,\"#0d0887\"],[0.1111111111111111,\"#46039f\"],[0.2222222222222222,\"#7201a8\"],[0.3333333333333333,\"#9c179e\"],[0.4444444444444444,\"#bd3786\"],[0.5555555555555556,\"#d8576b\"],[0.6666666666666666,\"#ed7953\"],[0.7777777777777778,\"#fb9f3a\"],[0.8888888888888888,\"#fdca26\"],[1.0,\"#f0f921\"]],\"diverging\":[[0,\"#8e0152\"],[0.1,\"#c51b7d\"],[0.2,\"#de77ae\"],[0.3,\"#f1b6da\"],[0.4,\"#fde0ef\"],[0.5,\"#f7f7f7\"],[0.6,\"#e6f5d0\"],[0.7,\"#b8e186\"],[0.8,\"#7fbc41\"],[0.9,\"#4d9221\"],[1,\"#276419\"]]},\"xaxis\":{\"gridcolor\":\"white\",\"linecolor\":\"white\",\"ticks\":\"\",\"title\":{\"standoff\":15},\"zerolinecolor\":\"white\",\"automargin\":true,\"zerolinewidth\":2},\"yaxis\":{\"gridcolor\":\"white\",\"linecolor\":\"white\",\"ticks\":\"\",\"title\":{\"standoff\":15},\"zerolinecolor\":\"white\",\"automargin\":true,\"zerolinewidth\":2},\"scene\":{\"xaxis\":{\"backgroundcolor\":\"#E5ECF6\",\"gridcolor\":\"white\",\"linecolor\":\"white\",\"showbackground\":true,\"ticks\":\"\",\"zerolinecolor\":\"white\",\"gridwidth\":2},\"yaxis\":{\"backgroundcolor\":\"#E5ECF6\",\"gridcolor\":\"white\",\"linecolor\":\"white\",\"showbackground\":true,\"ticks\":\"\",\"zerolinecolor\":\"white\",\"gridwidth\":2},\"zaxis\":{\"backgroundcolor\":\"#E5ECF6\",\"gridcolor\":\"white\",\"linecolor\":\"white\",\"showbackground\":true,\"ticks\":\"\",\"zerolinecolor\":\"white\",\"gridwidth\":2}},\"shapedefaults\":{\"line\":{\"color\":\"#2a3f5f\"}},\"annotationdefaults\":{\"arrowcolor\":\"#2a3f5f\",\"arrowhead\":0,\"arrowwidth\":1},\"geo\":{\"bgcolor\":\"white\",\"landcolor\":\"#E5ECF6\",\"subunitcolor\":\"white\",\"showland\":true,\"showlakes\":true,\"lakecolor\":\"white\"},\"title\":{\"x\":0.05},\"mapbox\":{\"style\":\"light\"}}},\"xaxis\":{\"anchor\":\"y\",\"domain\":[0.0,1.0],\"title\":{\"text\":\"Income group\"}},\"yaxis\":{\"anchor\":\"x\",\"domain\":[0.0,1.0],\"title\":{\"text\":\"Total score\"}},\"legend\":{\"tracegroupgap\":0},\"title\":{\"text\":\"Total score by Income group\"},\"violinmode\":\"group\"},                        {\"responsive\": true}                    ).then(function(){\n",
       "                            \n",
       "var gd = document.getElementById('e1638f83-1726-49ef-901c-5a5705630b5d');\n",
       "var x = new MutationObserver(function (mutations, observer) {{\n",
       "        var display = window.getComputedStyle(gd).display;\n",
       "        if (!display || display === 'none') {{\n",
       "            console.log([gd, 'removed!']);\n",
       "            Plotly.purge(gd);\n",
       "            observer.disconnect();\n",
       "        }}\n",
       "}});\n",
       "\n",
       "// Listen for the removal of the full notebook cells\n",
       "var notebookContainer = gd.closest('#notebook-container');\n",
       "if (notebookContainer) {{\n",
       "    x.observe(notebookContainer, {childList: true});\n",
       "}}\n",
       "\n",
       "// Listen for the clearing of the current output cell\n",
       "var outputEl = gd.closest('.output');\n",
       "if (outputEl) {{\n",
       "    x.observe(outputEl, {childList: true});\n",
       "}}\n",
       "\n",
       "                        })                };                });            </script>        </div>"
      ]
     },
     "metadata": {},
     "output_type": "display_data"
    }
   ],
   "source": [
    "g = px.violin(total_df, y=\"Total score\", x=\"Income group\", box=True, points=\"all\", title=\"Total score by Income group\", hover_data=total_df.columns)\n",
    "g.show()"
   ]
  },
  {
   "cell_type": "code",
   "execution_count": null,
   "id": "55fd5678",
   "metadata": {
    "execution": {
     "iopub.execute_input": "2023-08-09T09:38:13.996681Z",
     "iopub.status.busy": "2023-08-09T09:38:13.995994Z",
     "iopub.status.idle": "2023-08-09T09:38:14.075504Z",
     "shell.execute_reply": "2023-08-09T09:38:14.074473Z"
    },
    "papermill": {
     "duration": 0.113708,
     "end_time": "2023-08-09T09:38:14.077815",
     "exception": false,
     "start_time": "2023-08-09T09:38:13.964107",
     "status": "completed"
    },
    "tags": []
   },
   "outputs": [
    {
     "data": {
      "text/html": [
       "<div>                            <div id=\"1126d4fa-4404-42d4-91b4-e3a94fbd3d25\" class=\"plotly-graph-div\" style=\"height:600px; width:100%;\"></div>            <script type=\"text/javascript\">                require([\"plotly\"], function(Plotly) {                    window.PLOTLYENV=window.PLOTLYENV || {};                                    if (document.getElementById(\"1126d4fa-4404-42d4-91b4-e3a94fbd3d25\")) {                    Plotly.newPlot(                        \"1126d4fa-4404-42d4-91b4-e3a94fbd3d25\",                        [{\"alignmentgroup\":\"True\",\"hovertemplate\":\"Score_level=1 - Very high\\u003cbr\\u003eIncome group=%{x}\\u003cbr\\u003eCountry_count=%{y}\\u003cextra\\u003e\\u003c\\u002fextra\\u003e\",\"legendgroup\":\"1 - Very high\",\"marker\":{\"color\":\"rgb(95, 70, 144)\",\"pattern\":{\"shape\":\"\"}},\"name\":\"1 - Very high\",\"offsetgroup\":\"1 - Very high\",\"orientation\":\"v\",\"showlegend\":true,\"textposition\":\"auto\",\"x\":[\"High\"],\"xaxis\":\"x\",\"y\":[1],\"yaxis\":\"y\",\"type\":\"bar\"},{\"alignmentgroup\":\"True\",\"hovertemplate\":\"Score_level=2 - High\\u003cbr\\u003eIncome group=%{x}\\u003cbr\\u003eCountry_count=%{y}\\u003cextra\\u003e\\u003c\\u002fextra\\u003e\",\"legendgroup\":\"2 - High\",\"marker\":{\"color\":\"rgb(29, 105, 150)\",\"pattern\":{\"shape\":\"\"}},\"name\":\"2 - High\",\"offsetgroup\":\"2 - High\",\"orientation\":\"v\",\"showlegend\":true,\"textposition\":\"auto\",\"x\":[\"Upper middle\"],\"xaxis\":\"x\",\"y\":[1],\"yaxis\":\"y\",\"type\":\"bar\"},{\"alignmentgroup\":\"True\",\"hovertemplate\":\"Score_level=3 - Moderate\\u003cbr\\u003eIncome group=%{x}\\u003cbr\\u003eCountry_count=%{y}\\u003cextra\\u003e\\u003c\\u002fextra\\u003e\",\"legendgroup\":\"3 - Moderate\",\"marker\":{\"color\":\"rgb(56, 166, 165)\",\"pattern\":{\"shape\":\"\"}},\"name\":\"3 - Moderate\",\"offsetgroup\":\"3 - Moderate\",\"orientation\":\"v\",\"showlegend\":true,\"textposition\":\"auto\",\"x\":[\"High\"],\"xaxis\":\"x\",\"y\":[2],\"yaxis\":\"y\",\"type\":\"bar\"},{\"alignmentgroup\":\"True\",\"hovertemplate\":\"Score_level=4 - Low\\u003cbr\\u003eIncome group=%{x}\\u003cbr\\u003eCountry_count=%{y}\\u003cextra\\u003e\\u003c\\u002fextra\\u003e\",\"legendgroup\":\"4 - Low\",\"marker\":{\"color\":\"rgb(15, 133, 84)\",\"pattern\":{\"shape\":\"\"}},\"name\":\"4 - Low\",\"offsetgroup\":\"4 - Low\",\"orientation\":\"v\",\"showlegend\":true,\"textposition\":\"auto\",\"x\":[\"Lower middle\",\"Upper middle\",\"High\"],\"xaxis\":\"x\",\"y\":[1,1,30],\"yaxis\":\"y\",\"type\":\"bar\"},{\"alignmentgroup\":\"True\",\"hovertemplate\":\"Score_level=5 - Very low\\u003cbr\\u003eIncome group=%{x}\\u003cbr\\u003eCountry_count=%{y}\\u003cextra\\u003e\\u003c\\u002fextra\\u003e\",\"legendgroup\":\"5 - Very low\",\"marker\":{\"color\":\"rgb(115, 175, 72)\",\"pattern\":{\"shape\":\"\"}},\"name\":\"5 - Very low\",\"offsetgroup\":\"5 - Very low\",\"orientation\":\"v\",\"showlegend\":true,\"textposition\":\"auto\",\"x\":[\"Upper middle\",\"Lower middle\",\"High\"],\"xaxis\":\"x\",\"y\":[7,9,10],\"yaxis\":\"y\",\"type\":\"bar\"}],                        {\"template\":{\"data\":{\"histogram2dcontour\":[{\"type\":\"histogram2dcontour\",\"colorbar\":{\"outlinewidth\":0,\"ticks\":\"\"},\"colorscale\":[[0.0,\"#0d0887\"],[0.1111111111111111,\"#46039f\"],[0.2222222222222222,\"#7201a8\"],[0.3333333333333333,\"#9c179e\"],[0.4444444444444444,\"#bd3786\"],[0.5555555555555556,\"#d8576b\"],[0.6666666666666666,\"#ed7953\"],[0.7777777777777778,\"#fb9f3a\"],[0.8888888888888888,\"#fdca26\"],[1.0,\"#f0f921\"]]}],\"choropleth\":[{\"type\":\"choropleth\",\"colorbar\":{\"outlinewidth\":0,\"ticks\":\"\"}}],\"histogram2d\":[{\"type\":\"histogram2d\",\"colorbar\":{\"outlinewidth\":0,\"ticks\":\"\"},\"colorscale\":[[0.0,\"#0d0887\"],[0.1111111111111111,\"#46039f\"],[0.2222222222222222,\"#7201a8\"],[0.3333333333333333,\"#9c179e\"],[0.4444444444444444,\"#bd3786\"],[0.5555555555555556,\"#d8576b\"],[0.6666666666666666,\"#ed7953\"],[0.7777777777777778,\"#fb9f3a\"],[0.8888888888888888,\"#fdca26\"],[1.0,\"#f0f921\"]]}],\"heatmap\":[{\"type\":\"heatmap\",\"colorbar\":{\"outlinewidth\":0,\"ticks\":\"\"},\"colorscale\":[[0.0,\"#0d0887\"],[0.1111111111111111,\"#46039f\"],[0.2222222222222222,\"#7201a8\"],[0.3333333333333333,\"#9c179e\"],[0.4444444444444444,\"#bd3786\"],[0.5555555555555556,\"#d8576b\"],[0.6666666666666666,\"#ed7953\"],[0.7777777777777778,\"#fb9f3a\"],[0.8888888888888888,\"#fdca26\"],[1.0,\"#f0f921\"]]}],\"heatmapgl\":[{\"type\":\"heatmapgl\",\"colorbar\":{\"outlinewidth\":0,\"ticks\":\"\"},\"colorscale\":[[0.0,\"#0d0887\"],[0.1111111111111111,\"#46039f\"],[0.2222222222222222,\"#7201a8\"],[0.3333333333333333,\"#9c179e\"],[0.4444444444444444,\"#bd3786\"],[0.5555555555555556,\"#d8576b\"],[0.6666666666666666,\"#ed7953\"],[0.7777777777777778,\"#fb9f3a\"],[0.8888888888888888,\"#fdca26\"],[1.0,\"#f0f921\"]]}],\"contourcarpet\":[{\"type\":\"contourcarpet\",\"colorbar\":{\"outlinewidth\":0,\"ticks\":\"\"}}],\"contour\":[{\"type\":\"contour\",\"colorbar\":{\"outlinewidth\":0,\"ticks\":\"\"},\"colorscale\":[[0.0,\"#0d0887\"],[0.1111111111111111,\"#46039f\"],[0.2222222222222222,\"#7201a8\"],[0.3333333333333333,\"#9c179e\"],[0.4444444444444444,\"#bd3786\"],[0.5555555555555556,\"#d8576b\"],[0.6666666666666666,\"#ed7953\"],[0.7777777777777778,\"#fb9f3a\"],[0.8888888888888888,\"#fdca26\"],[1.0,\"#f0f921\"]]}],\"surface\":[{\"type\":\"surface\",\"colorbar\":{\"outlinewidth\":0,\"ticks\":\"\"},\"colorscale\":[[0.0,\"#0d0887\"],[0.1111111111111111,\"#46039f\"],[0.2222222222222222,\"#7201a8\"],[0.3333333333333333,\"#9c179e\"],[0.4444444444444444,\"#bd3786\"],[0.5555555555555556,\"#d8576b\"],[0.6666666666666666,\"#ed7953\"],[0.7777777777777778,\"#fb9f3a\"],[0.8888888888888888,\"#fdca26\"],[1.0,\"#f0f921\"]]}],\"mesh3d\":[{\"type\":\"mesh3d\",\"colorbar\":{\"outlinewidth\":0,\"ticks\":\"\"}}],\"scatter\":[{\"fillpattern\":{\"fillmode\":\"overlay\",\"size\":10,\"solidity\":0.2},\"type\":\"scatter\"}],\"parcoords\":[{\"type\":\"parcoords\",\"line\":{\"colorbar\":{\"outlinewidth\":0,\"ticks\":\"\"}}}],\"scatterpolargl\":[{\"type\":\"scatterpolargl\",\"marker\":{\"colorbar\":{\"outlinewidth\":0,\"ticks\":\"\"}}}],\"bar\":[{\"error_x\":{\"color\":\"#2a3f5f\"},\"error_y\":{\"color\":\"#2a3f5f\"},\"marker\":{\"line\":{\"color\":\"#E5ECF6\",\"width\":0.5},\"pattern\":{\"fillmode\":\"overlay\",\"size\":10,\"solidity\":0.2}},\"type\":\"bar\"}],\"scattergeo\":[{\"type\":\"scattergeo\",\"marker\":{\"colorbar\":{\"outlinewidth\":0,\"ticks\":\"\"}}}],\"scatterpolar\":[{\"type\":\"scatterpolar\",\"marker\":{\"colorbar\":{\"outlinewidth\":0,\"ticks\":\"\"}}}],\"histogram\":[{\"marker\":{\"pattern\":{\"fillmode\":\"overlay\",\"size\":10,\"solidity\":0.2}},\"type\":\"histogram\"}],\"scattergl\":[{\"type\":\"scattergl\",\"marker\":{\"colorbar\":{\"outlinewidth\":0,\"ticks\":\"\"}}}],\"scatter3d\":[{\"type\":\"scatter3d\",\"line\":{\"colorbar\":{\"outlinewidth\":0,\"ticks\":\"\"}},\"marker\":{\"colorbar\":{\"outlinewidth\":0,\"ticks\":\"\"}}}],\"scattermapbox\":[{\"type\":\"scattermapbox\",\"marker\":{\"colorbar\":{\"outlinewidth\":0,\"ticks\":\"\"}}}],\"scatterternary\":[{\"type\":\"scatterternary\",\"marker\":{\"colorbar\":{\"outlinewidth\":0,\"ticks\":\"\"}}}],\"scattercarpet\":[{\"type\":\"scattercarpet\",\"marker\":{\"colorbar\":{\"outlinewidth\":0,\"ticks\":\"\"}}}],\"carpet\":[{\"aaxis\":{\"endlinecolor\":\"#2a3f5f\",\"gridcolor\":\"white\",\"linecolor\":\"white\",\"minorgridcolor\":\"white\",\"startlinecolor\":\"#2a3f5f\"},\"baxis\":{\"endlinecolor\":\"#2a3f5f\",\"gridcolor\":\"white\",\"linecolor\":\"white\",\"minorgridcolor\":\"white\",\"startlinecolor\":\"#2a3f5f\"},\"type\":\"carpet\"}],\"table\":[{\"cells\":{\"fill\":{\"color\":\"#EBF0F8\"},\"line\":{\"color\":\"white\"}},\"header\":{\"fill\":{\"color\":\"#C8D4E3\"},\"line\":{\"color\":\"white\"}},\"type\":\"table\"}],\"barpolar\":[{\"marker\":{\"line\":{\"color\":\"#E5ECF6\",\"width\":0.5},\"pattern\":{\"fillmode\":\"overlay\",\"size\":10,\"solidity\":0.2}},\"type\":\"barpolar\"}],\"pie\":[{\"automargin\":true,\"type\":\"pie\"}]},\"layout\":{\"autotypenumbers\":\"strict\",\"colorway\":[\"#636efa\",\"#EF553B\",\"#00cc96\",\"#ab63fa\",\"#FFA15A\",\"#19d3f3\",\"#FF6692\",\"#B6E880\",\"#FF97FF\",\"#FECB52\"],\"font\":{\"color\":\"#2a3f5f\"},\"hovermode\":\"closest\",\"hoverlabel\":{\"align\":\"left\"},\"paper_bgcolor\":\"white\",\"plot_bgcolor\":\"#E5ECF6\",\"polar\":{\"bgcolor\":\"#E5ECF6\",\"angularaxis\":{\"gridcolor\":\"white\",\"linecolor\":\"white\",\"ticks\":\"\"},\"radialaxis\":{\"gridcolor\":\"white\",\"linecolor\":\"white\",\"ticks\":\"\"}},\"ternary\":{\"bgcolor\":\"#E5ECF6\",\"aaxis\":{\"gridcolor\":\"white\",\"linecolor\":\"white\",\"ticks\":\"\"},\"baxis\":{\"gridcolor\":\"white\",\"linecolor\":\"white\",\"ticks\":\"\"},\"caxis\":{\"gridcolor\":\"white\",\"linecolor\":\"white\",\"ticks\":\"\"}},\"coloraxis\":{\"colorbar\":{\"outlinewidth\":0,\"ticks\":\"\"}},\"colorscale\":{\"sequential\":[[0.0,\"#0d0887\"],[0.1111111111111111,\"#46039f\"],[0.2222222222222222,\"#7201a8\"],[0.3333333333333333,\"#9c179e\"],[0.4444444444444444,\"#bd3786\"],[0.5555555555555556,\"#d8576b\"],[0.6666666666666666,\"#ed7953\"],[0.7777777777777778,\"#fb9f3a\"],[0.8888888888888888,\"#fdca26\"],[1.0,\"#f0f921\"]],\"sequentialminus\":[[0.0,\"#0d0887\"],[0.1111111111111111,\"#46039f\"],[0.2222222222222222,\"#7201a8\"],[0.3333333333333333,\"#9c179e\"],[0.4444444444444444,\"#bd3786\"],[0.5555555555555556,\"#d8576b\"],[0.6666666666666666,\"#ed7953\"],[0.7777777777777778,\"#fb9f3a\"],[0.8888888888888888,\"#fdca26\"],[1.0,\"#f0f921\"]],\"diverging\":[[0,\"#8e0152\"],[0.1,\"#c51b7d\"],[0.2,\"#de77ae\"],[0.3,\"#f1b6da\"],[0.4,\"#fde0ef\"],[0.5,\"#f7f7f7\"],[0.6,\"#e6f5d0\"],[0.7,\"#b8e186\"],[0.8,\"#7fbc41\"],[0.9,\"#4d9221\"],[1,\"#276419\"]]},\"xaxis\":{\"gridcolor\":\"white\",\"linecolor\":\"white\",\"ticks\":\"\",\"title\":{\"standoff\":15},\"zerolinecolor\":\"white\",\"automargin\":true,\"zerolinewidth\":2},\"yaxis\":{\"gridcolor\":\"white\",\"linecolor\":\"white\",\"ticks\":\"\",\"title\":{\"standoff\":15},\"zerolinecolor\":\"white\",\"automargin\":true,\"zerolinewidth\":2},\"scene\":{\"xaxis\":{\"backgroundcolor\":\"#E5ECF6\",\"gridcolor\":\"white\",\"linecolor\":\"white\",\"showbackground\":true,\"ticks\":\"\",\"zerolinecolor\":\"white\",\"gridwidth\":2},\"yaxis\":{\"backgroundcolor\":\"#E5ECF6\",\"gridcolor\":\"white\",\"linecolor\":\"white\",\"showbackground\":true,\"ticks\":\"\",\"zerolinecolor\":\"white\",\"gridwidth\":2},\"zaxis\":{\"backgroundcolor\":\"#E5ECF6\",\"gridcolor\":\"white\",\"linecolor\":\"white\",\"showbackground\":true,\"ticks\":\"\",\"zerolinecolor\":\"white\",\"gridwidth\":2}},\"shapedefaults\":{\"line\":{\"color\":\"#2a3f5f\"}},\"annotationdefaults\":{\"arrowcolor\":\"#2a3f5f\",\"arrowhead\":0,\"arrowwidth\":1},\"geo\":{\"bgcolor\":\"white\",\"landcolor\":\"#E5ECF6\",\"subunitcolor\":\"white\",\"showland\":true,\"showlakes\":true,\"lakecolor\":\"white\"},\"title\":{\"x\":0.05},\"mapbox\":{\"style\":\"light\"}}},\"xaxis\":{\"anchor\":\"y\",\"domain\":[0.0,1.0],\"title\":{\"text\":\"Income group\"}},\"yaxis\":{\"anchor\":\"x\",\"domain\":[0.0,1.0],\"title\":{\"text\":\"Country_count\"}},\"legend\":{\"title\":{\"text\":\"Score_level\"},\"tracegroupgap\":0},\"title\":{\"text\":\"Countries by Income group and Total score level\"},\"barmode\":\"relative\",\"height\":600},                        {\"responsive\": true}                    ).then(function(){\n",
       "                            \n",
       "var gd = document.getElementById('1126d4fa-4404-42d4-91b4-e3a94fbd3d25');\n",
       "var x = new MutationObserver(function (mutations, observer) {{\n",
       "        var display = window.getComputedStyle(gd).display;\n",
       "        if (!display || display === 'none') {{\n",
       "            console.log([gd, 'removed!']);\n",
       "            Plotly.purge(gd);\n",
       "            observer.disconnect();\n",
       "        }}\n",
       "}});\n",
       "\n",
       "// Listen for the removal of the full notebook cells\n",
       "var notebookContainer = gd.closest('#notebook-container');\n",
       "if (notebookContainer) {{\n",
       "    x.observe(notebookContainer, {childList: true});\n",
       "}}\n",
       "\n",
       "// Listen for the clearing of the current output cell\n",
       "var outputEl = gd.closest('.output');\n",
       "if (outputEl) {{\n",
       "    x.observe(outputEl, {childList: true});\n",
       "}}\n",
       "\n",
       "                        })                };                });            </script>        </div>"
      ]
     },
     "metadata": {},
     "output_type": "display_data"
    }
   ],
   "source": [
    "agg_data = total_df.groupby(['Income group', 'Score_level']).size().reset_index(name='Country_count')\n",
    "\n",
    "agg_data = agg_data.sort_values(by=[\"Score_level\", \"Country_count\"])\n",
    "\n",
    "fig = px.bar(\n",
    "    agg_data, \n",
    "    x='Income group', \n",
    "    y='Country_count', \n",
    "    color='Score_level', \n",
    "    title=\"Countries by Income group and Total score level\", \n",
    "    color_discrete_sequence=px.colors.qualitative.Prism,\n",
    "    height=600)\n",
    "fig.show()"
   ]
  },
  {
   "cell_type": "markdown",
   "id": "54cb6914",
   "metadata": {
    "papermill": {
     "duration": 0.030375,
     "end_time": "2023-08-09T09:38:14.139480",
     "exception": false,
     "start_time": "2023-08-09T09:38:14.109105",
     "status": "completed"
    },
    "tags": []
   },
   "source": [
    "We find that\n",
    "\n",
    "- the overall trend is, the countries with High income level have higher average Total score vs. other income groups\n",
    "- there are notable outliers in every income group\n",
    "- USA, one of the Power players, stands out of the 'crowd' of the countries with the High income level\n",
    "- China, another Power player, severely outperforms the rest of the countries in Upper middle income group\n",
    "- India strongly outperforms the rest of the nations in Lower middle income group; actually, its score is higher then the score of all countries in Upper middle income group (except for China), and 75% of the countries in High income group"
   ]
  },
  {
   "cell_type": "markdown",
   "id": "dfc25ab9",
   "metadata": {
    "papermill": {
     "duration": 0.03042,
     "end_time": "2023-08-09T09:38:14.201024",
     "exception": false,
     "start_time": "2023-08-09T09:38:14.170604",
     "status": "completed"
    },
    "tags": []
   },
   "source": [
    "## <div style=\"font-size:20px;text-align:center;color:black;border-bottom:5px #0026d6 solid;padding-bottom:3%\">Total score by Political regime</div>\n"
   ]
  },
  {
   "cell_type": "code",
   "execution_count": null,
   "id": "182d759a",
   "metadata": {
    "execution": {
     "iopub.execute_input": "2023-08-09T09:38:14.264632Z",
     "iopub.status.busy": "2023-08-09T09:38:14.264215Z",
     "iopub.status.idle": "2023-08-09T09:38:14.326330Z",
     "shell.execute_reply": "2023-08-09T09:38:14.325227Z"
    },
    "papermill": {
     "duration": 0.096892,
     "end_time": "2023-08-09T09:38:14.328734",
     "exception": false,
     "start_time": "2023-08-09T09:38:14.231842",
     "status": "completed"
    },
    "tags": []
   },
   "outputs": [
    {
     "data": {
      "text/html": [
       "<div>                            <div id=\"c3f59127-a98d-487b-aec0-95ba24188aeb\" class=\"plotly-graph-div\" style=\"height:525px; width:100%;\"></div>            <script type=\"text/javascript\">                require([\"plotly\"], function(Plotly) {                    window.PLOTLYENV=window.PLOTLYENV || {};                                    if (document.getElementById(\"c3f59127-a98d-487b-aec0-95ba24188aeb\")) {                    Plotly.newPlot(                        \"c3f59127-a98d-487b-aec0-95ba24188aeb\",                        [{\"alignmentgroup\":\"True\",\"box\":{\"visible\":true},\"customdata\":[[\"United States of America\",\"Americas\",\"Power players\",\"High\",0.08004270767353636,\"1 - Very high\"],[\"China\",\"Asia-Pacific\",\"Power players\",\"Upper middle\",0.05110494331726797,\"2 - High\"],[\"United Kingdom\",\"Europe\",\"Traditional champions\",\"High\",0.03353954171353689,\"3 - Moderate\"],[\"Canada\",\"Americas\",\"Traditional champions\",\"High\",0.03294303689156765,\"3 - Moderate\"],[\"Israel\",\"Middle East\",\"Rising stars\",\"High\",0.03270110921063532,\"4 - Low\"],[\"Singapore\",\"Asia-Pacific\",\"Rising stars\",\"High\",0.03171666655156881,\"4 - Low\"],[\"South Korea\",\"Asia-Pacific\",\"Rising stars\",\"High\",0.03166015272786888,\"4 - Low\"],[\"The Netherlands\",\"Europe\",\"Rising stars\",\"High\",0.02984193367709198,\"4 - Low\"],[\"Germany\",\"Europe\",\"Traditional champions\",\"High\",0.029591164177438255,\"4 - Low\"],[\"France\",\"Europe\",\"Traditional champions\",\"High\",0.02827966734510486,\"4 - Low\"],[\"Australia\",\"Asia-Pacific\",\"Rising stars\",\"High\",0.027825910065048785,\"4 - Low\"],[\"Ireland\",\"Europe\",\"Rising stars\",\"High\",0.027161108062372746,\"4 - Low\"],[\"Finland\",\"Europe\",\"Rising stars\",\"High\",0.025797692821140618,\"4 - Low\"],[\"Denmark\",\"Europe\",\"Rising stars\",\"High\",0.025399679632715,\"4 - Low\"],[\"Luxembourg\",\"Europe\",\"Waking up\",\"High\",0.02528593247627117,\"4 - Low\"],[\"Japan\",\"Asia-Pacific\",\"Rising stars\",\"High\",0.02512341409102119,\"4 - Low\"],[\"India\",\"Asia-Pacific\",\"Waking up\",\"Lower middle\",0.0249852526939086,\"4 - Low\"],[\"Switzerland\",\"Europe\",\"Rising stars\",\"High\",0.02489584396999586,\"4 - Low\"],[\"Sweden\",\"Europe\",\"Waking up\",\"High\",0.024570653934204705,\"4 - Low\"],[\"Hong Kong\",\"Asia-Pacific\",\"Waking up\",\"High\",0.02396877344624278,\"4 - Low\"],[\"Spain\",\"Europe\",\"Rising stars\",\"High\",0.022209858308273153,\"4 - Low\"],[\"Austria\",\"Europe\",\"Waking up\",\"High\",0.022160955364306293,\"4 - Low\"],[\"Estonia\",\"Europe\",\"Waking up\",\"High\",0.021924557415791676,\"4 - Low\"],[\"Taiwan\",\"Asia-Pacific\",\"Waking up\",\"High\",0.021263977304590204,\"4 - Low\"],[\"Norway\",\"Europe\",\"Waking up\",\"High\",0.021247661163030892,\"4 - Low\"],[\"Saudi Arabia\",\"Middle East\",\"Waking up\",\"High\",0.021108963210235265,\"4 - Low\"],[\"Belgium\",\"Europe\",\"Waking up\",\"High\",0.02104368692834911,\"4 - Low\"],[\"Poland\",\"Europe\",\"Waking up\",\"High\",0.02078253918252841,\"4 - Low\"],[\"Slovenia\",\"Europe\",\"Waking up\",\"High\",0.020774377216474148,\"4 - Low\"],[\"New Zealand\",\"Asia-Pacific\",\"Waking up\",\"High\",0.020521323220747956,\"4 - Low\"],[\"Italy\",\"Europe\",\"Waking up\",\"High\",0.020170206789383038,\"4 - Low\"],[\"Russia\",\"Europe\",\"Waking up\",\"Upper middle\",0.018159120615909803,\"4 - Low\"],[\"Malta\",\"Europe\",\"Waking up\",\"High\",0.018044546830266715,\"4 - Low\"],[\"United Arab Emirates\",\"Middle East\",\"Waking up\",\"High\",0.017487858782226764,\"4 - Low\"],[\"Portugal\",\"Europe\",\"Waking up\",\"High\",0.017258544186166916,\"4 - Low\"],[\"Czech Republic\",\"Europe\",\"Waking up\",\"High\",0.016783368034345596,\"4 - Low\"],[\"Iceland\",\"Europe\",\"Waking up\",\"High\",0.016373552117916933,\"5 - Very low\"],[\"Lithuania\",\"Europe\",\"Waking up\",\"High\",0.016193179894750113,\"5 - Very low\"],[\"Brazil\",\"Americas\",\"Waking up\",\"Upper middle\",0.015619051733577739,\"5 - Very low\"],[\"Greece\",\"Europe\",\"Waking up\",\"High\",0.014338379041278998,\"5 - Very low\"],[\"Slovakia\",\"Europe\",\"Waking up\",\"High\",0.014264444013704473,\"5 - Very low\"],[\"Hungary\",\"Europe\",\"Waking up\",\"High\",0.014067257211435489,\"5 - Very low\"],[\"Malaysia\",\"Asia-Pacific\",\"Waking up\",\"Upper middle\",0.013787842665268687,\"5 - Very low\"],[\"Mexico\",\"Americas\",\"Waking up\",\"Upper middle\",0.012817503710614343,\"5 - Very low\"],[\"Chile\",\"Americas\",\"Waking up\",\"High\",0.012694088058884829,\"5 - Very low\"],[\"Argentina\",\"Americas\",\"Waking up\",\"Upper middle\",0.012620031356102198,\"5 - Very low\"],[\"Qatar\",\"Middle East\",\"Waking up\",\"High\",0.012142645446381765,\"5 - Very low\"],[\"Turkey\",\"Europe\",\"Waking up\",\"High\",0.011920336312265835,\"5 - Very low\"],[\"Colombia\",\"Americas\",\"Waking up\",\"Upper middle\",0.011475569725024169,\"5 - Very low\"],[\"Uruguay\",\"Americas\",\"Waking up\",\"High\",0.010997637022034545,\"5 - Very low\"],[\"Bahrain\",\"Middle East\",\"Waking up\",\"High\",0.009777048513917981,\"5 - Very low\"],[\"Vietnam\",\"Asia-Pacific\",\"Waking up\",\"Lower middle\",0.00963675033880201,\"5 - Very low\"],[\"Indonesia\",\"Asia-Pacific\",\"Waking up\",\"Lower middle\",0.00951294148300918,\"5 - Very low\"],[\"Tunisia\",\"Africa\",\"Waking up\",\"Lower middle\",0.008191359026288982,\"5 - Very low\"],[\"South Africa\",\"Africa\",\"Waking up\",\"Upper middle\",0.008059104667901825,\"5 - Very low\"],[\"Morocco\",\"Africa\",\"Waking up\",\"Lower middle\",0.007364482175550994,\"5 - Very low\"],[\"Armenia\",\"Europe\",\"Waking up\",\"Upper middle\",0.007050089612482101,\"5 - Very low\"],[\"Sri Lanka\",\"Asia-Pacific\",\"Nascent\",\"Lower middle\",0.005501505594606445,\"5 - Very low\"],[\"Egypt\",\"Middle East\",\"Nascent\",\"Lower middle\",0.004016921357933999,\"5 - Very low\"],[\"Kenya\",\"Africa\",\"Nascent\",\"Lower middle\",0.0019148322047716426,\"5 - Very low\"],[\"Nigeria\",\"Africa\",\"Nascent\",\"Lower middle\",0.001149339256521468,\"5 - Very low\"],[\"Pakistan\",\"Asia-Pacific\",\"Nascent\",\"Lower middle\",0.0,\"5 - Very low\"]],\"hovertemplate\":\"Political regime=%{x}\\u003cbr\\u003eTotal score=%{y}\\u003cbr\\u003eCountry=%{customdata[0]}\\u003cbr\\u003eRegion=%{customdata[1]}\\u003cbr\\u003eCluster=%{customdata[2]}\\u003cbr\\u003eIncome group=%{customdata[3]}\\u003cbr\\u003eSize=%{customdata[4]}\\u003cbr\\u003eScore_level=%{customdata[5]}\\u003cextra\\u003e\\u003c\\u002fextra\\u003e\",\"legendgroup\":\"\",\"marker\":{\"color\":\"#636efa\"},\"name\":\"\",\"offsetgroup\":\"\",\"orientation\":\"v\",\"points\":\"all\",\"scalegroup\":\"True\",\"showlegend\":false,\"x\":[\"Liberal democracy\",\"Closed autocracy\",\"Liberal democracy\",\"Liberal democracy\",\"Liberal democracy\",\"Electoral democracy\",\"Liberal democracy\",\"Liberal democracy\",\"Liberal democracy\",\"Liberal democracy\",\"Liberal democracy\",\"Liberal democracy\",\"Liberal democracy\",\"Liberal democracy\",\"Liberal democracy\",\"Liberal democracy\",\"Electoral autocracy\",\"Liberal democracy\",\"Liberal democracy\",\"Electoral democracy\",\"Liberal democracy\",\"Electoral democracy\",\"Liberal democracy\",\"Liberal democracy\",\"Liberal democracy\",\"Closed autocracy\",\"Liberal democracy\",\"Electoral democracy\",\"Electoral democracy\",\"Liberal democracy\",\"Liberal democracy\",\"Electoral autocracy\",\"Electoral democracy\",\"Closed autocracy\",\"Electoral democracy\",\"Electoral democracy\",\"Liberal democracy\",\"Electoral democracy\",\"Electoral democracy\",\"Liberal democracy\",\"Electoral democracy\",\"Electoral autocracy\",\"Electoral autocracy\",\"Electoral democracy\",\"Liberal democracy\",\"Electoral democracy\",\"Closed autocracy\",\"Electoral democracy\",\"Electoral democracy\",\"Liberal democracy\",\"Closed autocracy\",\"Closed autocracy\",\"Electoral democracy\",\"Electoral democracy\",\"Electoral democracy\",\"Closed autocracy\",\"Electoral democracy\",\"Electoral democracy\",\"Electoral autocracy\",\"Electoral autocracy\",\"Electoral autocracy\",\"Electoral autocracy\"],\"x0\":\" \",\"xaxis\":\"x\",\"y\":[100.0,62.92,40.93,40.19,39.89,38.67,38.6,36.35,36.04,34.42,33.86,33.04,31.36,30.87,30.73,30.53,30.36,30.25,29.85,29.11,26.95,26.89,26.6,25.79,25.77,25.6,25.52,25.2,25.19,24.88,24.45,21.99,21.85,21.17,20.89,20.31,19.81,19.59,18.89,17.33,17.24,17.0,16.66,15.48,15.33,15.24,14.66,14.39,13.85,13.27,11.79,11.62,11.47,9.87,9.71,8.87,8.49,6.62,4.83,2.3,1.38,0.0],\"y0\":\" \",\"yaxis\":\"y\",\"type\":\"violin\"}],                        {\"template\":{\"data\":{\"histogram2dcontour\":[{\"type\":\"histogram2dcontour\",\"colorbar\":{\"outlinewidth\":0,\"ticks\":\"\"},\"colorscale\":[[0.0,\"#0d0887\"],[0.1111111111111111,\"#46039f\"],[0.2222222222222222,\"#7201a8\"],[0.3333333333333333,\"#9c179e\"],[0.4444444444444444,\"#bd3786\"],[0.5555555555555556,\"#d8576b\"],[0.6666666666666666,\"#ed7953\"],[0.7777777777777778,\"#fb9f3a\"],[0.8888888888888888,\"#fdca26\"],[1.0,\"#f0f921\"]]}],\"choropleth\":[{\"type\":\"choropleth\",\"colorbar\":{\"outlinewidth\":0,\"ticks\":\"\"}}],\"histogram2d\":[{\"type\":\"histogram2d\",\"colorbar\":{\"outlinewidth\":0,\"ticks\":\"\"},\"colorscale\":[[0.0,\"#0d0887\"],[0.1111111111111111,\"#46039f\"],[0.2222222222222222,\"#7201a8\"],[0.3333333333333333,\"#9c179e\"],[0.4444444444444444,\"#bd3786\"],[0.5555555555555556,\"#d8576b\"],[0.6666666666666666,\"#ed7953\"],[0.7777777777777778,\"#fb9f3a\"],[0.8888888888888888,\"#fdca26\"],[1.0,\"#f0f921\"]]}],\"heatmap\":[{\"type\":\"heatmap\",\"colorbar\":{\"outlinewidth\":0,\"ticks\":\"\"},\"colorscale\":[[0.0,\"#0d0887\"],[0.1111111111111111,\"#46039f\"],[0.2222222222222222,\"#7201a8\"],[0.3333333333333333,\"#9c179e\"],[0.4444444444444444,\"#bd3786\"],[0.5555555555555556,\"#d8576b\"],[0.6666666666666666,\"#ed7953\"],[0.7777777777777778,\"#fb9f3a\"],[0.8888888888888888,\"#fdca26\"],[1.0,\"#f0f921\"]]}],\"heatmapgl\":[{\"type\":\"heatmapgl\",\"colorbar\":{\"outlinewidth\":0,\"ticks\":\"\"},\"colorscale\":[[0.0,\"#0d0887\"],[0.1111111111111111,\"#46039f\"],[0.2222222222222222,\"#7201a8\"],[0.3333333333333333,\"#9c179e\"],[0.4444444444444444,\"#bd3786\"],[0.5555555555555556,\"#d8576b\"],[0.6666666666666666,\"#ed7953\"],[0.7777777777777778,\"#fb9f3a\"],[0.8888888888888888,\"#fdca26\"],[1.0,\"#f0f921\"]]}],\"contourcarpet\":[{\"type\":\"contourcarpet\",\"colorbar\":{\"outlinewidth\":0,\"ticks\":\"\"}}],\"contour\":[{\"type\":\"contour\",\"colorbar\":{\"outlinewidth\":0,\"ticks\":\"\"},\"colorscale\":[[0.0,\"#0d0887\"],[0.1111111111111111,\"#46039f\"],[0.2222222222222222,\"#7201a8\"],[0.3333333333333333,\"#9c179e\"],[0.4444444444444444,\"#bd3786\"],[0.5555555555555556,\"#d8576b\"],[0.6666666666666666,\"#ed7953\"],[0.7777777777777778,\"#fb9f3a\"],[0.8888888888888888,\"#fdca26\"],[1.0,\"#f0f921\"]]}],\"surface\":[{\"type\":\"surface\",\"colorbar\":{\"outlinewidth\":0,\"ticks\":\"\"},\"colorscale\":[[0.0,\"#0d0887\"],[0.1111111111111111,\"#46039f\"],[0.2222222222222222,\"#7201a8\"],[0.3333333333333333,\"#9c179e\"],[0.4444444444444444,\"#bd3786\"],[0.5555555555555556,\"#d8576b\"],[0.6666666666666666,\"#ed7953\"],[0.7777777777777778,\"#fb9f3a\"],[0.8888888888888888,\"#fdca26\"],[1.0,\"#f0f921\"]]}],\"mesh3d\":[{\"type\":\"mesh3d\",\"colorbar\":{\"outlinewidth\":0,\"ticks\":\"\"}}],\"scatter\":[{\"fillpattern\":{\"fillmode\":\"overlay\",\"size\":10,\"solidity\":0.2},\"type\":\"scatter\"}],\"parcoords\":[{\"type\":\"parcoords\",\"line\":{\"colorbar\":{\"outlinewidth\":0,\"ticks\":\"\"}}}],\"scatterpolargl\":[{\"type\":\"scatterpolargl\",\"marker\":{\"colorbar\":{\"outlinewidth\":0,\"ticks\":\"\"}}}],\"bar\":[{\"error_x\":{\"color\":\"#2a3f5f\"},\"error_y\":{\"color\":\"#2a3f5f\"},\"marker\":{\"line\":{\"color\":\"#E5ECF6\",\"width\":0.5},\"pattern\":{\"fillmode\":\"overlay\",\"size\":10,\"solidity\":0.2}},\"type\":\"bar\"}],\"scattergeo\":[{\"type\":\"scattergeo\",\"marker\":{\"colorbar\":{\"outlinewidth\":0,\"ticks\":\"\"}}}],\"scatterpolar\":[{\"type\":\"scatterpolar\",\"marker\":{\"colorbar\":{\"outlinewidth\":0,\"ticks\":\"\"}}}],\"histogram\":[{\"marker\":{\"pattern\":{\"fillmode\":\"overlay\",\"size\":10,\"solidity\":0.2}},\"type\":\"histogram\"}],\"scattergl\":[{\"type\":\"scattergl\",\"marker\":{\"colorbar\":{\"outlinewidth\":0,\"ticks\":\"\"}}}],\"scatter3d\":[{\"type\":\"scatter3d\",\"line\":{\"colorbar\":{\"outlinewidth\":0,\"ticks\":\"\"}},\"marker\":{\"colorbar\":{\"outlinewidth\":0,\"ticks\":\"\"}}}],\"scattermapbox\":[{\"type\":\"scattermapbox\",\"marker\":{\"colorbar\":{\"outlinewidth\":0,\"ticks\":\"\"}}}],\"scatterternary\":[{\"type\":\"scatterternary\",\"marker\":{\"colorbar\":{\"outlinewidth\":0,\"ticks\":\"\"}}}],\"scattercarpet\":[{\"type\":\"scattercarpet\",\"marker\":{\"colorbar\":{\"outlinewidth\":0,\"ticks\":\"\"}}}],\"carpet\":[{\"aaxis\":{\"endlinecolor\":\"#2a3f5f\",\"gridcolor\":\"white\",\"linecolor\":\"white\",\"minorgridcolor\":\"white\",\"startlinecolor\":\"#2a3f5f\"},\"baxis\":{\"endlinecolor\":\"#2a3f5f\",\"gridcolor\":\"white\",\"linecolor\":\"white\",\"minorgridcolor\":\"white\",\"startlinecolor\":\"#2a3f5f\"},\"type\":\"carpet\"}],\"table\":[{\"cells\":{\"fill\":{\"color\":\"#EBF0F8\"},\"line\":{\"color\":\"white\"}},\"header\":{\"fill\":{\"color\":\"#C8D4E3\"},\"line\":{\"color\":\"white\"}},\"type\":\"table\"}],\"barpolar\":[{\"marker\":{\"line\":{\"color\":\"#E5ECF6\",\"width\":0.5},\"pattern\":{\"fillmode\":\"overlay\",\"size\":10,\"solidity\":0.2}},\"type\":\"barpolar\"}],\"pie\":[{\"automargin\":true,\"type\":\"pie\"}]},\"layout\":{\"autotypenumbers\":\"strict\",\"colorway\":[\"#636efa\",\"#EF553B\",\"#00cc96\",\"#ab63fa\",\"#FFA15A\",\"#19d3f3\",\"#FF6692\",\"#B6E880\",\"#FF97FF\",\"#FECB52\"],\"font\":{\"color\":\"#2a3f5f\"},\"hovermode\":\"closest\",\"hoverlabel\":{\"align\":\"left\"},\"paper_bgcolor\":\"white\",\"plot_bgcolor\":\"#E5ECF6\",\"polar\":{\"bgcolor\":\"#E5ECF6\",\"angularaxis\":{\"gridcolor\":\"white\",\"linecolor\":\"white\",\"ticks\":\"\"},\"radialaxis\":{\"gridcolor\":\"white\",\"linecolor\":\"white\",\"ticks\":\"\"}},\"ternary\":{\"bgcolor\":\"#E5ECF6\",\"aaxis\":{\"gridcolor\":\"white\",\"linecolor\":\"white\",\"ticks\":\"\"},\"baxis\":{\"gridcolor\":\"white\",\"linecolor\":\"white\",\"ticks\":\"\"},\"caxis\":{\"gridcolor\":\"white\",\"linecolor\":\"white\",\"ticks\":\"\"}},\"coloraxis\":{\"colorbar\":{\"outlinewidth\":0,\"ticks\":\"\"}},\"colorscale\":{\"sequential\":[[0.0,\"#0d0887\"],[0.1111111111111111,\"#46039f\"],[0.2222222222222222,\"#7201a8\"],[0.3333333333333333,\"#9c179e\"],[0.4444444444444444,\"#bd3786\"],[0.5555555555555556,\"#d8576b\"],[0.6666666666666666,\"#ed7953\"],[0.7777777777777778,\"#fb9f3a\"],[0.8888888888888888,\"#fdca26\"],[1.0,\"#f0f921\"]],\"sequentialminus\":[[0.0,\"#0d0887\"],[0.1111111111111111,\"#46039f\"],[0.2222222222222222,\"#7201a8\"],[0.3333333333333333,\"#9c179e\"],[0.4444444444444444,\"#bd3786\"],[0.5555555555555556,\"#d8576b\"],[0.6666666666666666,\"#ed7953\"],[0.7777777777777778,\"#fb9f3a\"],[0.8888888888888888,\"#fdca26\"],[1.0,\"#f0f921\"]],\"diverging\":[[0,\"#8e0152\"],[0.1,\"#c51b7d\"],[0.2,\"#de77ae\"],[0.3,\"#f1b6da\"],[0.4,\"#fde0ef\"],[0.5,\"#f7f7f7\"],[0.6,\"#e6f5d0\"],[0.7,\"#b8e186\"],[0.8,\"#7fbc41\"],[0.9,\"#4d9221\"],[1,\"#276419\"]]},\"xaxis\":{\"gridcolor\":\"white\",\"linecolor\":\"white\",\"ticks\":\"\",\"title\":{\"standoff\":15},\"zerolinecolor\":\"white\",\"automargin\":true,\"zerolinewidth\":2},\"yaxis\":{\"gridcolor\":\"white\",\"linecolor\":\"white\",\"ticks\":\"\",\"title\":{\"standoff\":15},\"zerolinecolor\":\"white\",\"automargin\":true,\"zerolinewidth\":2},\"scene\":{\"xaxis\":{\"backgroundcolor\":\"#E5ECF6\",\"gridcolor\":\"white\",\"linecolor\":\"white\",\"showbackground\":true,\"ticks\":\"\",\"zerolinecolor\":\"white\",\"gridwidth\":2},\"yaxis\":{\"backgroundcolor\":\"#E5ECF6\",\"gridcolor\":\"white\",\"linecolor\":\"white\",\"showbackground\":true,\"ticks\":\"\",\"zerolinecolor\":\"white\",\"gridwidth\":2},\"zaxis\":{\"backgroundcolor\":\"#E5ECF6\",\"gridcolor\":\"white\",\"linecolor\":\"white\",\"showbackground\":true,\"ticks\":\"\",\"zerolinecolor\":\"white\",\"gridwidth\":2}},\"shapedefaults\":{\"line\":{\"color\":\"#2a3f5f\"}},\"annotationdefaults\":{\"arrowcolor\":\"#2a3f5f\",\"arrowhead\":0,\"arrowwidth\":1},\"geo\":{\"bgcolor\":\"white\",\"landcolor\":\"#E5ECF6\",\"subunitcolor\":\"white\",\"showland\":true,\"showlakes\":true,\"lakecolor\":\"white\"},\"title\":{\"x\":0.05},\"mapbox\":{\"style\":\"light\"}}},\"xaxis\":{\"anchor\":\"y\",\"domain\":[0.0,1.0],\"title\":{\"text\":\"Political regime\"}},\"yaxis\":{\"anchor\":\"x\",\"domain\":[0.0,1.0],\"title\":{\"text\":\"Total score\"}},\"legend\":{\"tracegroupgap\":0},\"title\":{\"text\":\"Total score by Political regime\"},\"violinmode\":\"group\"},                        {\"responsive\": true}                    ).then(function(){\n",
       "                            \n",
       "var gd = document.getElementById('c3f59127-a98d-487b-aec0-95ba24188aeb');\n",
       "var x = new MutationObserver(function (mutations, observer) {{\n",
       "        var display = window.getComputedStyle(gd).display;\n",
       "        if (!display || display === 'none') {{\n",
       "            console.log([gd, 'removed!']);\n",
       "            Plotly.purge(gd);\n",
       "            observer.disconnect();\n",
       "        }}\n",
       "}});\n",
       "\n",
       "// Listen for the removal of the full notebook cells\n",
       "var notebookContainer = gd.closest('#notebook-container');\n",
       "if (notebookContainer) {{\n",
       "    x.observe(notebookContainer, {childList: true});\n",
       "}}\n",
       "\n",
       "// Listen for the clearing of the current output cell\n",
       "var outputEl = gd.closest('.output');\n",
       "if (outputEl) {{\n",
       "    x.observe(outputEl, {childList: true});\n",
       "}}\n",
       "\n",
       "                        })                };                });            </script>        </div>"
      ]
     },
     "metadata": {},
     "output_type": "display_data"
    }
   ],
   "source": [
    "g = px.violin(total_df, y=\"Total score\", x=\"Political regime\", box=True, points=\"all\", title=\"Total score by Political regime\", hover_data=total_df.columns)\n",
    "g.show()"
   ]
  },
  {
   "cell_type": "code",
   "execution_count": null,
   "id": "04d71219",
   "metadata": {
    "execution": {
     "iopub.execute_input": "2023-08-09T09:38:14.393411Z",
     "iopub.status.busy": "2023-08-09T09:38:14.392281Z",
     "iopub.status.idle": "2023-08-09T09:38:14.469534Z",
     "shell.execute_reply": "2023-08-09T09:38:14.468756Z"
    },
    "papermill": {
     "duration": 0.111596,
     "end_time": "2023-08-09T09:38:14.471468",
     "exception": false,
     "start_time": "2023-08-09T09:38:14.359872",
     "status": "completed"
    },
    "tags": []
   },
   "outputs": [
    {
     "data": {
      "text/html": [
       "<div>                            <div id=\"13df136f-afe1-472c-92aa-4d606766669f\" class=\"plotly-graph-div\" style=\"height:600px; width:100%;\"></div>            <script type=\"text/javascript\">                require([\"plotly\"], function(Plotly) {                    window.PLOTLYENV=window.PLOTLYENV || {};                                    if (document.getElementById(\"13df136f-afe1-472c-92aa-4d606766669f\")) {                    Plotly.newPlot(                        \"13df136f-afe1-472c-92aa-4d606766669f\",                        [{\"alignmentgroup\":\"True\",\"hovertemplate\":\"Score_level=1 - Very high\\u003cbr\\u003ePolitical regime=%{x}\\u003cbr\\u003eCountry_count=%{y}\\u003cextra\\u003e\\u003c\\u002fextra\\u003e\",\"legendgroup\":\"1 - Very high\",\"marker\":{\"color\":\"rgb(95, 70, 144)\",\"pattern\":{\"shape\":\"\"}},\"name\":\"1 - Very high\",\"offsetgroup\":\"1 - Very high\",\"orientation\":\"v\",\"showlegend\":true,\"textposition\":\"auto\",\"x\":[\"Liberal democracy\"],\"xaxis\":\"x\",\"y\":[1],\"yaxis\":\"y\",\"type\":\"bar\"},{\"alignmentgroup\":\"True\",\"hovertemplate\":\"Score_level=2 - High\\u003cbr\\u003ePolitical regime=%{x}\\u003cbr\\u003eCountry_count=%{y}\\u003cextra\\u003e\\u003c\\u002fextra\\u003e\",\"legendgroup\":\"2 - High\",\"marker\":{\"color\":\"rgb(29, 105, 150)\",\"pattern\":{\"shape\":\"\"}},\"name\":\"2 - High\",\"offsetgroup\":\"2 - High\",\"orientation\":\"v\",\"showlegend\":true,\"textposition\":\"auto\",\"x\":[\"Closed autocracy\"],\"xaxis\":\"x\",\"y\":[1],\"yaxis\":\"y\",\"type\":\"bar\"},{\"alignmentgroup\":\"True\",\"hovertemplate\":\"Score_level=3 - Moderate\\u003cbr\\u003ePolitical regime=%{x}\\u003cbr\\u003eCountry_count=%{y}\\u003cextra\\u003e\\u003c\\u002fextra\\u003e\",\"legendgroup\":\"3 - Moderate\",\"marker\":{\"color\":\"rgb(56, 166, 165)\",\"pattern\":{\"shape\":\"\"}},\"name\":\"3 - Moderate\",\"offsetgroup\":\"3 - Moderate\",\"orientation\":\"v\",\"showlegend\":true,\"textposition\":\"auto\",\"x\":[\"Liberal democracy\"],\"xaxis\":\"x\",\"y\":[2],\"yaxis\":\"y\",\"type\":\"bar\"},{\"alignmentgroup\":\"True\",\"hovertemplate\":\"Score_level=4 - Low\\u003cbr\\u003ePolitical regime=%{x}\\u003cbr\\u003eCountry_count=%{y}\\u003cextra\\u003e\\u003c\\u002fextra\\u003e\",\"legendgroup\":\"4 - Low\",\"marker\":{\"color\":\"rgb(15, 133, 84)\",\"pattern\":{\"shape\":\"\"}},\"name\":\"4 - Low\",\"offsetgroup\":\"4 - Low\",\"orientation\":\"v\",\"showlegend\":true,\"textposition\":\"auto\",\"x\":[\"Closed autocracy\",\"Electoral autocracy\",\"Electoral democracy\",\"Liberal democracy\"],\"xaxis\":\"x\",\"y\":[2,2,8,20],\"yaxis\":\"y\",\"type\":\"bar\"},{\"alignmentgroup\":\"True\",\"hovertemplate\":\"Score_level=5 - Very low\\u003cbr\\u003ePolitical regime=%{x}\\u003cbr\\u003eCountry_count=%{y}\\u003cextra\\u003e\\u003c\\u002fextra\\u003e\",\"legendgroup\":\"5 - Very low\",\"marker\":{\"color\":\"rgb(115, 175, 72)\",\"pattern\":{\"shape\":\"\"}},\"name\":\"5 - Very low\",\"offsetgroup\":\"5 - Very low\",\"orientation\":\"v\",\"showlegend\":true,\"textposition\":\"auto\",\"x\":[\"Closed autocracy\",\"Liberal democracy\",\"Electoral autocracy\",\"Electoral democracy\"],\"xaxis\":\"x\",\"y\":[4,4,6,12],\"yaxis\":\"y\",\"type\":\"bar\"}],                        {\"template\":{\"data\":{\"histogram2dcontour\":[{\"type\":\"histogram2dcontour\",\"colorbar\":{\"outlinewidth\":0,\"ticks\":\"\"},\"colorscale\":[[0.0,\"#0d0887\"],[0.1111111111111111,\"#46039f\"],[0.2222222222222222,\"#7201a8\"],[0.3333333333333333,\"#9c179e\"],[0.4444444444444444,\"#bd3786\"],[0.5555555555555556,\"#d8576b\"],[0.6666666666666666,\"#ed7953\"],[0.7777777777777778,\"#fb9f3a\"],[0.8888888888888888,\"#fdca26\"],[1.0,\"#f0f921\"]]}],\"choropleth\":[{\"type\":\"choropleth\",\"colorbar\":{\"outlinewidth\":0,\"ticks\":\"\"}}],\"histogram2d\":[{\"type\":\"histogram2d\",\"colorbar\":{\"outlinewidth\":0,\"ticks\":\"\"},\"colorscale\":[[0.0,\"#0d0887\"],[0.1111111111111111,\"#46039f\"],[0.2222222222222222,\"#7201a8\"],[0.3333333333333333,\"#9c179e\"],[0.4444444444444444,\"#bd3786\"],[0.5555555555555556,\"#d8576b\"],[0.6666666666666666,\"#ed7953\"],[0.7777777777777778,\"#fb9f3a\"],[0.8888888888888888,\"#fdca26\"],[1.0,\"#f0f921\"]]}],\"heatmap\":[{\"type\":\"heatmap\",\"colorbar\":{\"outlinewidth\":0,\"ticks\":\"\"},\"colorscale\":[[0.0,\"#0d0887\"],[0.1111111111111111,\"#46039f\"],[0.2222222222222222,\"#7201a8\"],[0.3333333333333333,\"#9c179e\"],[0.4444444444444444,\"#bd3786\"],[0.5555555555555556,\"#d8576b\"],[0.6666666666666666,\"#ed7953\"],[0.7777777777777778,\"#fb9f3a\"],[0.8888888888888888,\"#fdca26\"],[1.0,\"#f0f921\"]]}],\"heatmapgl\":[{\"type\":\"heatmapgl\",\"colorbar\":{\"outlinewidth\":0,\"ticks\":\"\"},\"colorscale\":[[0.0,\"#0d0887\"],[0.1111111111111111,\"#46039f\"],[0.2222222222222222,\"#7201a8\"],[0.3333333333333333,\"#9c179e\"],[0.4444444444444444,\"#bd3786\"],[0.5555555555555556,\"#d8576b\"],[0.6666666666666666,\"#ed7953\"],[0.7777777777777778,\"#fb9f3a\"],[0.8888888888888888,\"#fdca26\"],[1.0,\"#f0f921\"]]}],\"contourcarpet\":[{\"type\":\"contourcarpet\",\"colorbar\":{\"outlinewidth\":0,\"ticks\":\"\"}}],\"contour\":[{\"type\":\"contour\",\"colorbar\":{\"outlinewidth\":0,\"ticks\":\"\"},\"colorscale\":[[0.0,\"#0d0887\"],[0.1111111111111111,\"#46039f\"],[0.2222222222222222,\"#7201a8\"],[0.3333333333333333,\"#9c179e\"],[0.4444444444444444,\"#bd3786\"],[0.5555555555555556,\"#d8576b\"],[0.6666666666666666,\"#ed7953\"],[0.7777777777777778,\"#fb9f3a\"],[0.8888888888888888,\"#fdca26\"],[1.0,\"#f0f921\"]]}],\"surface\":[{\"type\":\"surface\",\"colorbar\":{\"outlinewidth\":0,\"ticks\":\"\"},\"colorscale\":[[0.0,\"#0d0887\"],[0.1111111111111111,\"#46039f\"],[0.2222222222222222,\"#7201a8\"],[0.3333333333333333,\"#9c179e\"],[0.4444444444444444,\"#bd3786\"],[0.5555555555555556,\"#d8576b\"],[0.6666666666666666,\"#ed7953\"],[0.7777777777777778,\"#fb9f3a\"],[0.8888888888888888,\"#fdca26\"],[1.0,\"#f0f921\"]]}],\"mesh3d\":[{\"type\":\"mesh3d\",\"colorbar\":{\"outlinewidth\":0,\"ticks\":\"\"}}],\"scatter\":[{\"fillpattern\":{\"fillmode\":\"overlay\",\"size\":10,\"solidity\":0.2},\"type\":\"scatter\"}],\"parcoords\":[{\"type\":\"parcoords\",\"line\":{\"colorbar\":{\"outlinewidth\":0,\"ticks\":\"\"}}}],\"scatterpolargl\":[{\"type\":\"scatterpolargl\",\"marker\":{\"colorbar\":{\"outlinewidth\":0,\"ticks\":\"\"}}}],\"bar\":[{\"error_x\":{\"color\":\"#2a3f5f\"},\"error_y\":{\"color\":\"#2a3f5f\"},\"marker\":{\"line\":{\"color\":\"#E5ECF6\",\"width\":0.5},\"pattern\":{\"fillmode\":\"overlay\",\"size\":10,\"solidity\":0.2}},\"type\":\"bar\"}],\"scattergeo\":[{\"type\":\"scattergeo\",\"marker\":{\"colorbar\":{\"outlinewidth\":0,\"ticks\":\"\"}}}],\"scatterpolar\":[{\"type\":\"scatterpolar\",\"marker\":{\"colorbar\":{\"outlinewidth\":0,\"ticks\":\"\"}}}],\"histogram\":[{\"marker\":{\"pattern\":{\"fillmode\":\"overlay\",\"size\":10,\"solidity\":0.2}},\"type\":\"histogram\"}],\"scattergl\":[{\"type\":\"scattergl\",\"marker\":{\"colorbar\":{\"outlinewidth\":0,\"ticks\":\"\"}}}],\"scatter3d\":[{\"type\":\"scatter3d\",\"line\":{\"colorbar\":{\"outlinewidth\":0,\"ticks\":\"\"}},\"marker\":{\"colorbar\":{\"outlinewidth\":0,\"ticks\":\"\"}}}],\"scattermapbox\":[{\"type\":\"scattermapbox\",\"marker\":{\"colorbar\":{\"outlinewidth\":0,\"ticks\":\"\"}}}],\"scatterternary\":[{\"type\":\"scatterternary\",\"marker\":{\"colorbar\":{\"outlinewidth\":0,\"ticks\":\"\"}}}],\"scattercarpet\":[{\"type\":\"scattercarpet\",\"marker\":{\"colorbar\":{\"outlinewidth\":0,\"ticks\":\"\"}}}],\"carpet\":[{\"aaxis\":{\"endlinecolor\":\"#2a3f5f\",\"gridcolor\":\"white\",\"linecolor\":\"white\",\"minorgridcolor\":\"white\",\"startlinecolor\":\"#2a3f5f\"},\"baxis\":{\"endlinecolor\":\"#2a3f5f\",\"gridcolor\":\"white\",\"linecolor\":\"white\",\"minorgridcolor\":\"white\",\"startlinecolor\":\"#2a3f5f\"},\"type\":\"carpet\"}],\"table\":[{\"cells\":{\"fill\":{\"color\":\"#EBF0F8\"},\"line\":{\"color\":\"white\"}},\"header\":{\"fill\":{\"color\":\"#C8D4E3\"},\"line\":{\"color\":\"white\"}},\"type\":\"table\"}],\"barpolar\":[{\"marker\":{\"line\":{\"color\":\"#E5ECF6\",\"width\":0.5},\"pattern\":{\"fillmode\":\"overlay\",\"size\":10,\"solidity\":0.2}},\"type\":\"barpolar\"}],\"pie\":[{\"automargin\":true,\"type\":\"pie\"}]},\"layout\":{\"autotypenumbers\":\"strict\",\"colorway\":[\"#636efa\",\"#EF553B\",\"#00cc96\",\"#ab63fa\",\"#FFA15A\",\"#19d3f3\",\"#FF6692\",\"#B6E880\",\"#FF97FF\",\"#FECB52\"],\"font\":{\"color\":\"#2a3f5f\"},\"hovermode\":\"closest\",\"hoverlabel\":{\"align\":\"left\"},\"paper_bgcolor\":\"white\",\"plot_bgcolor\":\"#E5ECF6\",\"polar\":{\"bgcolor\":\"#E5ECF6\",\"angularaxis\":{\"gridcolor\":\"white\",\"linecolor\":\"white\",\"ticks\":\"\"},\"radialaxis\":{\"gridcolor\":\"white\",\"linecolor\":\"white\",\"ticks\":\"\"}},\"ternary\":{\"bgcolor\":\"#E5ECF6\",\"aaxis\":{\"gridcolor\":\"white\",\"linecolor\":\"white\",\"ticks\":\"\"},\"baxis\":{\"gridcolor\":\"white\",\"linecolor\":\"white\",\"ticks\":\"\"},\"caxis\":{\"gridcolor\":\"white\",\"linecolor\":\"white\",\"ticks\":\"\"}},\"coloraxis\":{\"colorbar\":{\"outlinewidth\":0,\"ticks\":\"\"}},\"colorscale\":{\"sequential\":[[0.0,\"#0d0887\"],[0.1111111111111111,\"#46039f\"],[0.2222222222222222,\"#7201a8\"],[0.3333333333333333,\"#9c179e\"],[0.4444444444444444,\"#bd3786\"],[0.5555555555555556,\"#d8576b\"],[0.6666666666666666,\"#ed7953\"],[0.7777777777777778,\"#fb9f3a\"],[0.8888888888888888,\"#fdca26\"],[1.0,\"#f0f921\"]],\"sequentialminus\":[[0.0,\"#0d0887\"],[0.1111111111111111,\"#46039f\"],[0.2222222222222222,\"#7201a8\"],[0.3333333333333333,\"#9c179e\"],[0.4444444444444444,\"#bd3786\"],[0.5555555555555556,\"#d8576b\"],[0.6666666666666666,\"#ed7953\"],[0.7777777777777778,\"#fb9f3a\"],[0.8888888888888888,\"#fdca26\"],[1.0,\"#f0f921\"]],\"diverging\":[[0,\"#8e0152\"],[0.1,\"#c51b7d\"],[0.2,\"#de77ae\"],[0.3,\"#f1b6da\"],[0.4,\"#fde0ef\"],[0.5,\"#f7f7f7\"],[0.6,\"#e6f5d0\"],[0.7,\"#b8e186\"],[0.8,\"#7fbc41\"],[0.9,\"#4d9221\"],[1,\"#276419\"]]},\"xaxis\":{\"gridcolor\":\"white\",\"linecolor\":\"white\",\"ticks\":\"\",\"title\":{\"standoff\":15},\"zerolinecolor\":\"white\",\"automargin\":true,\"zerolinewidth\":2},\"yaxis\":{\"gridcolor\":\"white\",\"linecolor\":\"white\",\"ticks\":\"\",\"title\":{\"standoff\":15},\"zerolinecolor\":\"white\",\"automargin\":true,\"zerolinewidth\":2},\"scene\":{\"xaxis\":{\"backgroundcolor\":\"#E5ECF6\",\"gridcolor\":\"white\",\"linecolor\":\"white\",\"showbackground\":true,\"ticks\":\"\",\"zerolinecolor\":\"white\",\"gridwidth\":2},\"yaxis\":{\"backgroundcolor\":\"#E5ECF6\",\"gridcolor\":\"white\",\"linecolor\":\"white\",\"showbackground\":true,\"ticks\":\"\",\"zerolinecolor\":\"white\",\"gridwidth\":2},\"zaxis\":{\"backgroundcolor\":\"#E5ECF6\",\"gridcolor\":\"white\",\"linecolor\":\"white\",\"showbackground\":true,\"ticks\":\"\",\"zerolinecolor\":\"white\",\"gridwidth\":2}},\"shapedefaults\":{\"line\":{\"color\":\"#2a3f5f\"}},\"annotationdefaults\":{\"arrowcolor\":\"#2a3f5f\",\"arrowhead\":0,\"arrowwidth\":1},\"geo\":{\"bgcolor\":\"white\",\"landcolor\":\"#E5ECF6\",\"subunitcolor\":\"white\",\"showland\":true,\"showlakes\":true,\"lakecolor\":\"white\"},\"title\":{\"x\":0.05},\"mapbox\":{\"style\":\"light\"}}},\"xaxis\":{\"anchor\":\"y\",\"domain\":[0.0,1.0],\"title\":{\"text\":\"Political regime\"}},\"yaxis\":{\"anchor\":\"x\",\"domain\":[0.0,1.0],\"title\":{\"text\":\"Country_count\"}},\"legend\":{\"title\":{\"text\":\"Score_level\"},\"tracegroupgap\":0},\"title\":{\"text\":\"Countries by Political regime and Total score level\"},\"barmode\":\"relative\",\"height\":600},                        {\"responsive\": true}                    ).then(function(){\n",
       "                            \n",
       "var gd = document.getElementById('13df136f-afe1-472c-92aa-4d606766669f');\n",
       "var x = new MutationObserver(function (mutations, observer) {{\n",
       "        var display = window.getComputedStyle(gd).display;\n",
       "        if (!display || display === 'none') {{\n",
       "            console.log([gd, 'removed!']);\n",
       "            Plotly.purge(gd);\n",
       "            observer.disconnect();\n",
       "        }}\n",
       "}});\n",
       "\n",
       "// Listen for the removal of the full notebook cells\n",
       "var notebookContainer = gd.closest('#notebook-container');\n",
       "if (notebookContainer) {{\n",
       "    x.observe(notebookContainer, {childList: true});\n",
       "}}\n",
       "\n",
       "// Listen for the clearing of the current output cell\n",
       "var outputEl = gd.closest('.output');\n",
       "if (outputEl) {{\n",
       "    x.observe(outputEl, {childList: true});\n",
       "}}\n",
       "\n",
       "                        })                };                });            </script>        </div>"
      ]
     },
     "metadata": {},
     "output_type": "display_data"
    }
   ],
   "source": [
    "agg_data = total_df.groupby(['Political regime', 'Score_level']).size().reset_index(name='Country_count')\n",
    "\n",
    "agg_data = agg_data.sort_values(by=[\"Score_level\", \"Country_count\"])\n",
    "\n",
    "fig = px.bar(\n",
    "    agg_data, \n",
    "    x='Political regime', \n",
    "    y='Country_count', \n",
    "    color='Score_level', \n",
    "    title=\"Countries by Political regime and Total score level\", \n",
    "    color_discrete_sequence=px.colors.qualitative.Prism,\n",
    "    height=600)\n",
    "fig.show()"
   ]
  },
  {
   "cell_type": "markdown",
   "id": "e8cf9016",
   "metadata": {
    "papermill": {
     "duration": 0.031345,
     "end_time": "2023-08-09T09:38:14.534254",
     "exception": false,
     "start_time": "2023-08-09T09:38:14.502909",
     "status": "completed"
    },
    "tags": []
   },
   "source": [
    "We find that \n",
    "- There are much more countries with political regimes of Liberal democracy and Elecrotal democracy that ranked higher Total score in the list (the leading Power player, USA, is amoung them)\n",
    "- At the same time, we can see some of the  countries with autocratic regimes to be quite successful in AI, too (China, another Power player, is an example of that)"
   ]
  },
  {
   "cell_type": "markdown",
   "id": "d198b4d8",
   "metadata": {
    "papermill": {
     "duration": 0.03104,
     "end_time": "2023-08-09T09:38:14.596713",
     "exception": false,
     "start_time": "2023-08-09T09:38:14.565673",
     "status": "completed"
    },
    "tags": []
   },
   "source": [
    "# <div style=\"color:white;background-color:#1d1545;padding:3%;border-radius:50px 50px;font-size:1em;text-align:center\">Holistic View on AI Implementation</div>\n",
    "\n",
    "Implementation metrics represent the application of artificial intelligence by professionals in various sectors, such as businesses, governments, and communities. The implementation factors group may be divided into three smaller groups \n",
    "\n",
    "- Talent, \n",
    "- Infrastructure, and \n",
    "- Operating Environment. \n",
    "\n"
   ]
  },
  {
   "cell_type": "code",
   "execution_count": 51,
   "id": "4de5d5c5",
   "metadata": {
    "_kg_hide-input": true,
    "execution": {
     "iopub.execute_input": "2023-08-09T09:38:14.661516Z",
     "iopub.status.busy": "2023-08-09T09:38:14.660790Z",
     "iopub.status.idle": "2023-08-09T09:38:14.791786Z",
     "shell.execute_reply": "2023-08-09T09:38:14.790597Z"
    },
    "papermill": {
     "duration": 0.166505,
     "end_time": "2023-08-09T09:38:14.794270",
     "exception": false,
     "start_time": "2023-08-09T09:38:14.627765",
     "status": "completed"
    },
    "tags": []
   },
   "outputs": [],
   "source": [
    "fig = px.scatter_3d(df, x='Region', y='Talent', z='Infrastructure', color='Operating Environment', hover_name=\"Country\", \n",
    "                   title='Talent-Infrastructure-Operating Environment Inter-relations by Regions')\n",
    "# Update visual layout\n",
    "fig.update_layout(\n",
    "    showlegend=True,\n",
    "    width=800,\n",
    "    height=400,\n",
    "    autosize=False,\n",
    "    margin=dict(t=35, b=35, l=5, r=5),\n",
    "    template=\"plotly_white\",\n",
    ")\n",
    "fig.show()"
   ]
  },
  {
   "cell_type": "code",
   "execution_count": null,
   "id": "4d118e76",
   "metadata": {
    "_kg_hide-input": true,
    "execution": {
     "iopub.execute_input": "2023-08-09T09:38:14.864858Z",
     "iopub.status.busy": "2023-08-09T09:38:14.864116Z",
     "iopub.status.idle": "2023-08-09T09:38:14.947842Z",
     "shell.execute_reply": "2023-08-09T09:38:14.946822Z"
    },
    "papermill": {
     "duration": 0.119381,
     "end_time": "2023-08-09T09:38:14.950174",
     "exception": false,
     "start_time": "2023-08-09T09:38:14.830793",
     "status": "completed"
    },
    "tags": []
   },
   "outputs": [
    {
     "data": {
      "text/html": [
       "<div>                            <div id=\"b78af5c1-79d7-4330-8c0d-e77b900a166c\" class=\"plotly-graph-div\" style=\"height:400px; width:800px;\"></div>            <script type=\"text/javascript\">                require([\"plotly\"], function(Plotly) {                    window.PLOTLYENV=window.PLOTLYENV || {};                                    if (document.getElementById(\"b78af5c1-79d7-4330-8c0d-e77b900a166c\")) {                    Plotly.newPlot(                        \"b78af5c1-79d7-4330-8c0d-e77b900a166c\",                        [{\"hovertemplate\":\"\\u003cb\\u003e%{hovertext}\\u003c\\u002fb\\u003e\\u003cbr\\u003e\\u003cbr\\u003eCluster=%{x}\\u003cbr\\u003eTalent=%{y}\\u003cbr\\u003eInfrastructure=%{z}\\u003cbr\\u003eOperating Environment=%{marker.color}\\u003cextra\\u003e\\u003c\\u002fextra\\u003e\",\"hovertext\":[\"United States of America\",\"China\",\"United Kingdom\",\"Canada\",\"Israel\",\"Singapore\",\"South Korea\",\"The Netherlands\",\"Germany\",\"France\",\"Australia\",\"Ireland\",\"Finland\",\"Denmark\",\"Luxembourg\",\"Japan\",\"India\",\"Switzerland\",\"Sweden\",\"Hong Kong\",\"Spain\",\"Austria\",\"Estonia\",\"Taiwan\",\"Norway\",\"Saudi Arabia\",\"Belgium\",\"Poland\",\"Slovenia\",\"New Zealand\",\"Italy\",\"Russia\",\"Malta\",\"United Arab Emirates\",\"Portugal\",\"Czech Republic\",\"Iceland\",\"Lithuania\",\"Brazil\",\"Greece\",\"Slovakia\",\"Hungary\",\"Malaysia\",\"Mexico\",\"Chile\",\"Argentina\",\"Qatar\",\"Turkey\",\"Colombia\",\"Uruguay\",\"Bahrain\",\"Vietnam\",\"Indonesia\",\"Tunisia\",\"South Africa\",\"Morocco\",\"Armenia\",\"Sri Lanka\",\"Egypt\",\"Kenya\",\"Nigeria\",\"Pakistan\"],\"legendgroup\":\"\",\"marker\":{\"color\":[64.56,91.57,74.65,93.94,82.44,43.15,68.86,88.05,70.22,80.02,61.23,70.15,78.76,85.39,66.96,57.53,77.3,44.14,66.77,59.5,75.36,76.3,88.67,56.67,36.65,100.0,64.08,99.56,94.55,90.35,83.25,52.85,70.96,72.12,80.66,76.97,41.19,80.67,72.82,83.58,88.71,58.01,73.24,97.03,56.73,75.95,62.58,64.34,62.37,70.75,60.9,37.61,51.18,62.32,58.43,60.17,58.4,35.79,0.0,29.84,50.1,12.48],\"coloraxis\":\"coloraxis\",\"symbol\":\"circle\"},\"mode\":\"markers\",\"name\":\"\",\"scene\":\"scene\",\"showlegend\":false,\"x\":[\"Power players\",\"Power players\",\"Traditional champions\",\"Traditional champions\",\"Rising stars\",\"Rising stars\",\"Rising stars\",\"Rising stars\",\"Traditional champions\",\"Traditional champions\",\"Rising stars\",\"Rising stars\",\"Rising stars\",\"Rising stars\",\"Waking up\",\"Rising stars\",\"Waking up\",\"Rising stars\",\"Waking up\",\"Waking up\",\"Rising stars\",\"Waking up\",\"Waking up\",\"Waking up\",\"Waking up\",\"Waking up\",\"Waking up\",\"Waking up\",\"Waking up\",\"Waking up\",\"Waking up\",\"Waking up\",\"Waking up\",\"Waking up\",\"Waking up\",\"Waking up\",\"Waking up\",\"Waking up\",\"Waking up\",\"Waking up\",\"Waking up\",\"Waking up\",\"Waking up\",\"Waking up\",\"Waking up\",\"Waking up\",\"Waking up\",\"Waking up\",\"Waking up\",\"Waking up\",\"Waking up\",\"Waking up\",\"Waking up\",\"Waking up\",\"Waking up\",\"Waking up\",\"Waking up\",\"Nascent\",\"Nascent\",\"Nascent\",\"Nascent\",\"Nascent\"],\"y\":[100.0,16.51,39.65,31.28,35.76,39.38,14.54,33.83,27.63,28.32,25.43,29.93,24.99,27.07,21.66,15.18,45.27,25.63,28.21,17.56,17.61,16.97,18.74,12.34,27.61,4.49,15.17,14.21,13.02,23.3,11.09,12.46,15.87,2.65,13.43,11.11,18.45,14.3,13.46,7.62,8.55,10.34,10.44,1.72,10.56,8.4,0.0,8.49,4.97,7.28,4.99,6.34,5.51,8.94,4.61,3.36,6.69,6.27,1.11,0.75,2.74,8.0],\"z\":[94.02,100.0,71.43,77.05,67.58,84.3,85.23,81.99,77.22,77.15,63.43,89.5,71.6,74.08,94.88,84.58,33.91,78.43,75.19,96.11,73.32,64.49,63.65,77.86,76.2,70.8,65.1,70.96,72.06,69.78,64.76,62.59,67.12,79.16,64.2,64.26,72.45,63.19,62.61,55.44,65.36,69.17,62.04,41.85,61.97,56.15,67.97,40.74,54.8,58.77,60.39,55.76,47.52,38.59,45.73,44.88,37.84,34.64,38.84,14.11,0.0,2.43],\"type\":\"scatter3d\"}],                        {\"template\":{\"data\":{\"barpolar\":[{\"marker\":{\"line\":{\"color\":\"white\",\"width\":0.5},\"pattern\":{\"fillmode\":\"overlay\",\"size\":10,\"solidity\":0.2}},\"type\":\"barpolar\"}],\"bar\":[{\"error_x\":{\"color\":\"#2a3f5f\"},\"error_y\":{\"color\":\"#2a3f5f\"},\"marker\":{\"line\":{\"color\":\"white\",\"width\":0.5},\"pattern\":{\"fillmode\":\"overlay\",\"size\":10,\"solidity\":0.2}},\"type\":\"bar\"}],\"carpet\":[{\"aaxis\":{\"endlinecolor\":\"#2a3f5f\",\"gridcolor\":\"#C8D4E3\",\"linecolor\":\"#C8D4E3\",\"minorgridcolor\":\"#C8D4E3\",\"startlinecolor\":\"#2a3f5f\"},\"baxis\":{\"endlinecolor\":\"#2a3f5f\",\"gridcolor\":\"#C8D4E3\",\"linecolor\":\"#C8D4E3\",\"minorgridcolor\":\"#C8D4E3\",\"startlinecolor\":\"#2a3f5f\"},\"type\":\"carpet\"}],\"choropleth\":[{\"colorbar\":{\"outlinewidth\":0,\"ticks\":\"\"},\"type\":\"choropleth\"}],\"contourcarpet\":[{\"colorbar\":{\"outlinewidth\":0,\"ticks\":\"\"},\"type\":\"contourcarpet\"}],\"contour\":[{\"colorbar\":{\"outlinewidth\":0,\"ticks\":\"\"},\"colorscale\":[[0.0,\"#0d0887\"],[0.1111111111111111,\"#46039f\"],[0.2222222222222222,\"#7201a8\"],[0.3333333333333333,\"#9c179e\"],[0.4444444444444444,\"#bd3786\"],[0.5555555555555556,\"#d8576b\"],[0.6666666666666666,\"#ed7953\"],[0.7777777777777778,\"#fb9f3a\"],[0.8888888888888888,\"#fdca26\"],[1.0,\"#f0f921\"]],\"type\":\"contour\"}],\"heatmapgl\":[{\"colorbar\":{\"outlinewidth\":0,\"ticks\":\"\"},\"colorscale\":[[0.0,\"#0d0887\"],[0.1111111111111111,\"#46039f\"],[0.2222222222222222,\"#7201a8\"],[0.3333333333333333,\"#9c179e\"],[0.4444444444444444,\"#bd3786\"],[0.5555555555555556,\"#d8576b\"],[0.6666666666666666,\"#ed7953\"],[0.7777777777777778,\"#fb9f3a\"],[0.8888888888888888,\"#fdca26\"],[1.0,\"#f0f921\"]],\"type\":\"heatmapgl\"}],\"heatmap\":[{\"colorbar\":{\"outlinewidth\":0,\"ticks\":\"\"},\"colorscale\":[[0.0,\"#0d0887\"],[0.1111111111111111,\"#46039f\"],[0.2222222222222222,\"#7201a8\"],[0.3333333333333333,\"#9c179e\"],[0.4444444444444444,\"#bd3786\"],[0.5555555555555556,\"#d8576b\"],[0.6666666666666666,\"#ed7953\"],[0.7777777777777778,\"#fb9f3a\"],[0.8888888888888888,\"#fdca26\"],[1.0,\"#f0f921\"]],\"type\":\"heatmap\"}],\"histogram2dcontour\":[{\"colorbar\":{\"outlinewidth\":0,\"ticks\":\"\"},\"colorscale\":[[0.0,\"#0d0887\"],[0.1111111111111111,\"#46039f\"],[0.2222222222222222,\"#7201a8\"],[0.3333333333333333,\"#9c179e\"],[0.4444444444444444,\"#bd3786\"],[0.5555555555555556,\"#d8576b\"],[0.6666666666666666,\"#ed7953\"],[0.7777777777777778,\"#fb9f3a\"],[0.8888888888888888,\"#fdca26\"],[1.0,\"#f0f921\"]],\"type\":\"histogram2dcontour\"}],\"histogram2d\":[{\"colorbar\":{\"outlinewidth\":0,\"ticks\":\"\"},\"colorscale\":[[0.0,\"#0d0887\"],[0.1111111111111111,\"#46039f\"],[0.2222222222222222,\"#7201a8\"],[0.3333333333333333,\"#9c179e\"],[0.4444444444444444,\"#bd3786\"],[0.5555555555555556,\"#d8576b\"],[0.6666666666666666,\"#ed7953\"],[0.7777777777777778,\"#fb9f3a\"],[0.8888888888888888,\"#fdca26\"],[1.0,\"#f0f921\"]],\"type\":\"histogram2d\"}],\"histogram\":[{\"marker\":{\"pattern\":{\"fillmode\":\"overlay\",\"size\":10,\"solidity\":0.2}},\"type\":\"histogram\"}],\"mesh3d\":[{\"colorbar\":{\"outlinewidth\":0,\"ticks\":\"\"},\"type\":\"mesh3d\"}],\"parcoords\":[{\"line\":{\"colorbar\":{\"outlinewidth\":0,\"ticks\":\"\"}},\"type\":\"parcoords\"}],\"pie\":[{\"automargin\":true,\"type\":\"pie\"}],\"scatter3d\":[{\"line\":{\"colorbar\":{\"outlinewidth\":0,\"ticks\":\"\"}},\"marker\":{\"colorbar\":{\"outlinewidth\":0,\"ticks\":\"\"}},\"type\":\"scatter3d\"}],\"scattercarpet\":[{\"marker\":{\"colorbar\":{\"outlinewidth\":0,\"ticks\":\"\"}},\"type\":\"scattercarpet\"}],\"scattergeo\":[{\"marker\":{\"colorbar\":{\"outlinewidth\":0,\"ticks\":\"\"}},\"type\":\"scattergeo\"}],\"scattergl\":[{\"marker\":{\"colorbar\":{\"outlinewidth\":0,\"ticks\":\"\"}},\"type\":\"scattergl\"}],\"scattermapbox\":[{\"marker\":{\"colorbar\":{\"outlinewidth\":0,\"ticks\":\"\"}},\"type\":\"scattermapbox\"}],\"scatterpolargl\":[{\"marker\":{\"colorbar\":{\"outlinewidth\":0,\"ticks\":\"\"}},\"type\":\"scatterpolargl\"}],\"scatterpolar\":[{\"marker\":{\"colorbar\":{\"outlinewidth\":0,\"ticks\":\"\"}},\"type\":\"scatterpolar\"}],\"scatter\":[{\"fillpattern\":{\"fillmode\":\"overlay\",\"size\":10,\"solidity\":0.2},\"type\":\"scatter\"}],\"scatterternary\":[{\"marker\":{\"colorbar\":{\"outlinewidth\":0,\"ticks\":\"\"}},\"type\":\"scatterternary\"}],\"surface\":[{\"colorbar\":{\"outlinewidth\":0,\"ticks\":\"\"},\"colorscale\":[[0.0,\"#0d0887\"],[0.1111111111111111,\"#46039f\"],[0.2222222222222222,\"#7201a8\"],[0.3333333333333333,\"#9c179e\"],[0.4444444444444444,\"#bd3786\"],[0.5555555555555556,\"#d8576b\"],[0.6666666666666666,\"#ed7953\"],[0.7777777777777778,\"#fb9f3a\"],[0.8888888888888888,\"#fdca26\"],[1.0,\"#f0f921\"]],\"type\":\"surface\"}],\"table\":[{\"cells\":{\"fill\":{\"color\":\"#EBF0F8\"},\"line\":{\"color\":\"white\"}},\"header\":{\"fill\":{\"color\":\"#C8D4E3\"},\"line\":{\"color\":\"white\"}},\"type\":\"table\"}]},\"layout\":{\"annotationdefaults\":{\"arrowcolor\":\"#2a3f5f\",\"arrowhead\":0,\"arrowwidth\":1},\"autotypenumbers\":\"strict\",\"coloraxis\":{\"colorbar\":{\"outlinewidth\":0,\"ticks\":\"\"}},\"colorscale\":{\"diverging\":[[0,\"#8e0152\"],[0.1,\"#c51b7d\"],[0.2,\"#de77ae\"],[0.3,\"#f1b6da\"],[0.4,\"#fde0ef\"],[0.5,\"#f7f7f7\"],[0.6,\"#e6f5d0\"],[0.7,\"#b8e186\"],[0.8,\"#7fbc41\"],[0.9,\"#4d9221\"],[1,\"#276419\"]],\"sequential\":[[0.0,\"#0d0887\"],[0.1111111111111111,\"#46039f\"],[0.2222222222222222,\"#7201a8\"],[0.3333333333333333,\"#9c179e\"],[0.4444444444444444,\"#bd3786\"],[0.5555555555555556,\"#d8576b\"],[0.6666666666666666,\"#ed7953\"],[0.7777777777777778,\"#fb9f3a\"],[0.8888888888888888,\"#fdca26\"],[1.0,\"#f0f921\"]],\"sequentialminus\":[[0.0,\"#0d0887\"],[0.1111111111111111,\"#46039f\"],[0.2222222222222222,\"#7201a8\"],[0.3333333333333333,\"#9c179e\"],[0.4444444444444444,\"#bd3786\"],[0.5555555555555556,\"#d8576b\"],[0.6666666666666666,\"#ed7953\"],[0.7777777777777778,\"#fb9f3a\"],[0.8888888888888888,\"#fdca26\"],[1.0,\"#f0f921\"]]},\"colorway\":[\"#636efa\",\"#EF553B\",\"#00cc96\",\"#ab63fa\",\"#FFA15A\",\"#19d3f3\",\"#FF6692\",\"#B6E880\",\"#FF97FF\",\"#FECB52\"],\"font\":{\"color\":\"#2a3f5f\"},\"geo\":{\"bgcolor\":\"white\",\"lakecolor\":\"white\",\"landcolor\":\"white\",\"showlakes\":true,\"showland\":true,\"subunitcolor\":\"#C8D4E3\"},\"hoverlabel\":{\"align\":\"left\"},\"hovermode\":\"closest\",\"mapbox\":{\"style\":\"light\"},\"paper_bgcolor\":\"white\",\"plot_bgcolor\":\"white\",\"polar\":{\"angularaxis\":{\"gridcolor\":\"#EBF0F8\",\"linecolor\":\"#EBF0F8\",\"ticks\":\"\"},\"bgcolor\":\"white\",\"radialaxis\":{\"gridcolor\":\"#EBF0F8\",\"linecolor\":\"#EBF0F8\",\"ticks\":\"\"}},\"scene\":{\"xaxis\":{\"backgroundcolor\":\"white\",\"gridcolor\":\"#DFE8F3\",\"gridwidth\":2,\"linecolor\":\"#EBF0F8\",\"showbackground\":true,\"ticks\":\"\",\"zerolinecolor\":\"#EBF0F8\"},\"yaxis\":{\"backgroundcolor\":\"white\",\"gridcolor\":\"#DFE8F3\",\"gridwidth\":2,\"linecolor\":\"#EBF0F8\",\"showbackground\":true,\"ticks\":\"\",\"zerolinecolor\":\"#EBF0F8\"},\"zaxis\":{\"backgroundcolor\":\"white\",\"gridcolor\":\"#DFE8F3\",\"gridwidth\":2,\"linecolor\":\"#EBF0F8\",\"showbackground\":true,\"ticks\":\"\",\"zerolinecolor\":\"#EBF0F8\"}},\"shapedefaults\":{\"line\":{\"color\":\"#2a3f5f\"}},\"ternary\":{\"aaxis\":{\"gridcolor\":\"#DFE8F3\",\"linecolor\":\"#A2B1C6\",\"ticks\":\"\"},\"baxis\":{\"gridcolor\":\"#DFE8F3\",\"linecolor\":\"#A2B1C6\",\"ticks\":\"\"},\"bgcolor\":\"white\",\"caxis\":{\"gridcolor\":\"#DFE8F3\",\"linecolor\":\"#A2B1C6\",\"ticks\":\"\"}},\"title\":{\"x\":0.05},\"xaxis\":{\"automargin\":true,\"gridcolor\":\"#EBF0F8\",\"linecolor\":\"#EBF0F8\",\"ticks\":\"\",\"title\":{\"standoff\":15},\"zerolinecolor\":\"#EBF0F8\",\"zerolinewidth\":2},\"yaxis\":{\"automargin\":true,\"gridcolor\":\"#EBF0F8\",\"linecolor\":\"#EBF0F8\",\"ticks\":\"\",\"title\":{\"standoff\":15},\"zerolinecolor\":\"#EBF0F8\",\"zerolinewidth\":2}}},\"scene\":{\"domain\":{\"x\":[0.0,1.0],\"y\":[0.0,1.0]},\"xaxis\":{\"title\":{\"text\":\"Cluster\"}},\"yaxis\":{\"title\":{\"text\":\"Talent\"}},\"zaxis\":{\"title\":{\"text\":\"Infrastructure\"}}},\"coloraxis\":{\"colorbar\":{\"title\":{\"text\":\"Operating Environment\"}},\"colorscale\":[[0.0,\"#0d0887\"],[0.1111111111111111,\"#46039f\"],[0.2222222222222222,\"#7201a8\"],[0.3333333333333333,\"#9c179e\"],[0.4444444444444444,\"#bd3786\"],[0.5555555555555556,\"#d8576b\"],[0.6666666666666666,\"#ed7953\"],[0.7777777777777778,\"#fb9f3a\"],[0.8888888888888888,\"#fdca26\"],[1.0,\"#f0f921\"]]},\"legend\":{\"tracegroupgap\":0},\"title\":{\"text\":\"Talent-Infrastructure-Operating Environment Inter-relations by Clusters\"},\"margin\":{\"t\":35,\"b\":35,\"l\":5,\"r\":5},\"showlegend\":true,\"width\":800,\"height\":400,\"autosize\":false},                        {\"responsive\": true}                    ).then(function(){\n",
       "                            \n",
       "var gd = document.getElementById('b78af5c1-79d7-4330-8c0d-e77b900a166c');\n",
       "var x = new MutationObserver(function (mutations, observer) {{\n",
       "        var display = window.getComputedStyle(gd).display;\n",
       "        if (!display || display === 'none') {{\n",
       "            console.log([gd, 'removed!']);\n",
       "            Plotly.purge(gd);\n",
       "            observer.disconnect();\n",
       "        }}\n",
       "}});\n",
       "\n",
       "// Listen for the removal of the full notebook cells\n",
       "var notebookContainer = gd.closest('#notebook-container');\n",
       "if (notebookContainer) {{\n",
       "    x.observe(notebookContainer, {childList: true});\n",
       "}}\n",
       "\n",
       "// Listen for the clearing of the current output cell\n",
       "var outputEl = gd.closest('.output');\n",
       "if (outputEl) {{\n",
       "    x.observe(outputEl, {childList: true});\n",
       "}}\n",
       "\n",
       "                        })                };                });            </script>        </div>"
      ]
     },
     "metadata": {},
     "output_type": "display_data"
    }
   ],
   "source": [
    "fig = px.scatter_3d(df, x='Cluster', y='Talent', z='Infrastructure', color='Operating Environment', hover_name=\"Country\", \n",
    "                   title='Talent-Infrastructure-Operating Environment Inter-relations by Clusters')\n",
    "# Update visual layout\n",
    "fig.update_layout(\n",
    "    showlegend=True,\n",
    "    width=800,\n",
    "    height=400,\n",
    "    autosize=False,\n",
    "    margin=dict(t=35, b=35, l=5, r=5),\n",
    "    template=\"plotly_white\",\n",
    ")\n",
    "fig.show()"
   ]
  },
  {
   "cell_type": "code",
   "execution_count": null,
   "id": "405cb16c",
   "metadata": {
    "_kg_hide-input": true,
    "execution": {
     "iopub.execute_input": "2023-08-09T09:38:15.015746Z",
     "iopub.status.busy": "2023-08-09T09:38:15.015304Z",
     "iopub.status.idle": "2023-08-09T09:38:15.101524Z",
     "shell.execute_reply": "2023-08-09T09:38:15.100478Z"
    },
    "papermill": {
     "duration": 0.121954,
     "end_time": "2023-08-09T09:38:15.103893",
     "exception": false,
     "start_time": "2023-08-09T09:38:14.981939",
     "status": "completed"
    },
    "tags": []
   },
   "outputs": [
    {
     "data": {
      "text/html": [
       "<div>                            <div id=\"ab97a812-9734-4491-8ef7-e29c7dbf826d\" class=\"plotly-graph-div\" style=\"height:400px; width:800px;\"></div>            <script type=\"text/javascript\">                require([\"plotly\"], function(Plotly) {                    window.PLOTLYENV=window.PLOTLYENV || {};                                    if (document.getElementById(\"ab97a812-9734-4491-8ef7-e29c7dbf826d\")) {                    Plotly.newPlot(                        \"ab97a812-9734-4491-8ef7-e29c7dbf826d\",                        [{\"hovertemplate\":\"\\u003cb\\u003e%{hovertext}\\u003c\\u002fb\\u003e\\u003cbr\\u003e\\u003cbr\\u003eIncome group=%{x}\\u003cbr\\u003eTalent=%{y}\\u003cbr\\u003eInfrastructure=%{z}\\u003cbr\\u003eOperating Environment=%{marker.color}\\u003cextra\\u003e\\u003c\\u002fextra\\u003e\",\"hovertext\":[\"United States of America\",\"China\",\"United Kingdom\",\"Canada\",\"Israel\",\"Singapore\",\"South Korea\",\"The Netherlands\",\"Germany\",\"France\",\"Australia\",\"Ireland\",\"Finland\",\"Denmark\",\"Luxembourg\",\"Japan\",\"India\",\"Switzerland\",\"Sweden\",\"Hong Kong\",\"Spain\",\"Austria\",\"Estonia\",\"Taiwan\",\"Norway\",\"Saudi Arabia\",\"Belgium\",\"Poland\",\"Slovenia\",\"New Zealand\",\"Italy\",\"Russia\",\"Malta\",\"United Arab Emirates\",\"Portugal\",\"Czech Republic\",\"Iceland\",\"Lithuania\",\"Brazil\",\"Greece\",\"Slovakia\",\"Hungary\",\"Malaysia\",\"Mexico\",\"Chile\",\"Argentina\",\"Qatar\",\"Turkey\",\"Colombia\",\"Uruguay\",\"Bahrain\",\"Vietnam\",\"Indonesia\",\"Tunisia\",\"South Africa\",\"Morocco\",\"Armenia\",\"Sri Lanka\",\"Egypt\",\"Kenya\",\"Nigeria\",\"Pakistan\"],\"legendgroup\":\"\",\"marker\":{\"color\":[64.56,91.57,74.65,93.94,82.44,43.15,68.86,88.05,70.22,80.02,61.23,70.15,78.76,85.39,66.96,57.53,77.3,44.14,66.77,59.5,75.36,76.3,88.67,56.67,36.65,100.0,64.08,99.56,94.55,90.35,83.25,52.85,70.96,72.12,80.66,76.97,41.19,80.67,72.82,83.58,88.71,58.01,73.24,97.03,56.73,75.95,62.58,64.34,62.37,70.75,60.9,37.61,51.18,62.32,58.43,60.17,58.4,35.79,0.0,29.84,50.1,12.48],\"coloraxis\":\"coloraxis\",\"symbol\":\"circle\"},\"mode\":\"markers\",\"name\":\"\",\"scene\":\"scene\",\"showlegend\":false,\"x\":[\"High\",\"Upper middle\",\"High\",\"High\",\"High\",\"High\",\"High\",\"High\",\"High\",\"High\",\"High\",\"High\",\"High\",\"High\",\"High\",\"High\",\"Lower middle\",\"High\",\"High\",\"High\",\"High\",\"High\",\"High\",\"High\",\"High\",\"High\",\"High\",\"High\",\"High\",\"High\",\"High\",\"Upper middle\",\"High\",\"High\",\"High\",\"High\",\"High\",\"High\",\"Upper middle\",\"High\",\"High\",\"High\",\"Upper middle\",\"Upper middle\",\"High\",\"Upper middle\",\"High\",\"High\",\"Upper middle\",\"High\",\"High\",\"Lower middle\",\"Lower middle\",\"Lower middle\",\"Upper middle\",\"Lower middle\",\"Upper middle\",\"Lower middle\",\"Lower middle\",\"Lower middle\",\"Lower middle\",\"Lower middle\"],\"y\":[100.0,16.51,39.65,31.28,35.76,39.38,14.54,33.83,27.63,28.32,25.43,29.93,24.99,27.07,21.66,15.18,45.27,25.63,28.21,17.56,17.61,16.97,18.74,12.34,27.61,4.49,15.17,14.21,13.02,23.3,11.09,12.46,15.87,2.65,13.43,11.11,18.45,14.3,13.46,7.62,8.55,10.34,10.44,1.72,10.56,8.4,0.0,8.49,4.97,7.28,4.99,6.34,5.51,8.94,4.61,3.36,6.69,6.27,1.11,0.75,2.74,8.0],\"z\":[94.02,100.0,71.43,77.05,67.58,84.3,85.23,81.99,77.22,77.15,63.43,89.5,71.6,74.08,94.88,84.58,33.91,78.43,75.19,96.11,73.32,64.49,63.65,77.86,76.2,70.8,65.1,70.96,72.06,69.78,64.76,62.59,67.12,79.16,64.2,64.26,72.45,63.19,62.61,55.44,65.36,69.17,62.04,41.85,61.97,56.15,67.97,40.74,54.8,58.77,60.39,55.76,47.52,38.59,45.73,44.88,37.84,34.64,38.84,14.11,0.0,2.43],\"type\":\"scatter3d\"}],                        {\"template\":{\"data\":{\"barpolar\":[{\"marker\":{\"line\":{\"color\":\"white\",\"width\":0.5},\"pattern\":{\"fillmode\":\"overlay\",\"size\":10,\"solidity\":0.2}},\"type\":\"barpolar\"}],\"bar\":[{\"error_x\":{\"color\":\"#2a3f5f\"},\"error_y\":{\"color\":\"#2a3f5f\"},\"marker\":{\"line\":{\"color\":\"white\",\"width\":0.5},\"pattern\":{\"fillmode\":\"overlay\",\"size\":10,\"solidity\":0.2}},\"type\":\"bar\"}],\"carpet\":[{\"aaxis\":{\"endlinecolor\":\"#2a3f5f\",\"gridcolor\":\"#C8D4E3\",\"linecolor\":\"#C8D4E3\",\"minorgridcolor\":\"#C8D4E3\",\"startlinecolor\":\"#2a3f5f\"},\"baxis\":{\"endlinecolor\":\"#2a3f5f\",\"gridcolor\":\"#C8D4E3\",\"linecolor\":\"#C8D4E3\",\"minorgridcolor\":\"#C8D4E3\",\"startlinecolor\":\"#2a3f5f\"},\"type\":\"carpet\"}],\"choropleth\":[{\"colorbar\":{\"outlinewidth\":0,\"ticks\":\"\"},\"type\":\"choropleth\"}],\"contourcarpet\":[{\"colorbar\":{\"outlinewidth\":0,\"ticks\":\"\"},\"type\":\"contourcarpet\"}],\"contour\":[{\"colorbar\":{\"outlinewidth\":0,\"ticks\":\"\"},\"colorscale\":[[0.0,\"#0d0887\"],[0.1111111111111111,\"#46039f\"],[0.2222222222222222,\"#7201a8\"],[0.3333333333333333,\"#9c179e\"],[0.4444444444444444,\"#bd3786\"],[0.5555555555555556,\"#d8576b\"],[0.6666666666666666,\"#ed7953\"],[0.7777777777777778,\"#fb9f3a\"],[0.8888888888888888,\"#fdca26\"],[1.0,\"#f0f921\"]],\"type\":\"contour\"}],\"heatmapgl\":[{\"colorbar\":{\"outlinewidth\":0,\"ticks\":\"\"},\"colorscale\":[[0.0,\"#0d0887\"],[0.1111111111111111,\"#46039f\"],[0.2222222222222222,\"#7201a8\"],[0.3333333333333333,\"#9c179e\"],[0.4444444444444444,\"#bd3786\"],[0.5555555555555556,\"#d8576b\"],[0.6666666666666666,\"#ed7953\"],[0.7777777777777778,\"#fb9f3a\"],[0.8888888888888888,\"#fdca26\"],[1.0,\"#f0f921\"]],\"type\":\"heatmapgl\"}],\"heatmap\":[{\"colorbar\":{\"outlinewidth\":0,\"ticks\":\"\"},\"colorscale\":[[0.0,\"#0d0887\"],[0.1111111111111111,\"#46039f\"],[0.2222222222222222,\"#7201a8\"],[0.3333333333333333,\"#9c179e\"],[0.4444444444444444,\"#bd3786\"],[0.5555555555555556,\"#d8576b\"],[0.6666666666666666,\"#ed7953\"],[0.7777777777777778,\"#fb9f3a\"],[0.8888888888888888,\"#fdca26\"],[1.0,\"#f0f921\"]],\"type\":\"heatmap\"}],\"histogram2dcontour\":[{\"colorbar\":{\"outlinewidth\":0,\"ticks\":\"\"},\"colorscale\":[[0.0,\"#0d0887\"],[0.1111111111111111,\"#46039f\"],[0.2222222222222222,\"#7201a8\"],[0.3333333333333333,\"#9c179e\"],[0.4444444444444444,\"#bd3786\"],[0.5555555555555556,\"#d8576b\"],[0.6666666666666666,\"#ed7953\"],[0.7777777777777778,\"#fb9f3a\"],[0.8888888888888888,\"#fdca26\"],[1.0,\"#f0f921\"]],\"type\":\"histogram2dcontour\"}],\"histogram2d\":[{\"colorbar\":{\"outlinewidth\":0,\"ticks\":\"\"},\"colorscale\":[[0.0,\"#0d0887\"],[0.1111111111111111,\"#46039f\"],[0.2222222222222222,\"#7201a8\"],[0.3333333333333333,\"#9c179e\"],[0.4444444444444444,\"#bd3786\"],[0.5555555555555556,\"#d8576b\"],[0.6666666666666666,\"#ed7953\"],[0.7777777777777778,\"#fb9f3a\"],[0.8888888888888888,\"#fdca26\"],[1.0,\"#f0f921\"]],\"type\":\"histogram2d\"}],\"histogram\":[{\"marker\":{\"pattern\":{\"fillmode\":\"overlay\",\"size\":10,\"solidity\":0.2}},\"type\":\"histogram\"}],\"mesh3d\":[{\"colorbar\":{\"outlinewidth\":0,\"ticks\":\"\"},\"type\":\"mesh3d\"}],\"parcoords\":[{\"line\":{\"colorbar\":{\"outlinewidth\":0,\"ticks\":\"\"}},\"type\":\"parcoords\"}],\"pie\":[{\"automargin\":true,\"type\":\"pie\"}],\"scatter3d\":[{\"line\":{\"colorbar\":{\"outlinewidth\":0,\"ticks\":\"\"}},\"marker\":{\"colorbar\":{\"outlinewidth\":0,\"ticks\":\"\"}},\"type\":\"scatter3d\"}],\"scattercarpet\":[{\"marker\":{\"colorbar\":{\"outlinewidth\":0,\"ticks\":\"\"}},\"type\":\"scattercarpet\"}],\"scattergeo\":[{\"marker\":{\"colorbar\":{\"outlinewidth\":0,\"ticks\":\"\"}},\"type\":\"scattergeo\"}],\"scattergl\":[{\"marker\":{\"colorbar\":{\"outlinewidth\":0,\"ticks\":\"\"}},\"type\":\"scattergl\"}],\"scattermapbox\":[{\"marker\":{\"colorbar\":{\"outlinewidth\":0,\"ticks\":\"\"}},\"type\":\"scattermapbox\"}],\"scatterpolargl\":[{\"marker\":{\"colorbar\":{\"outlinewidth\":0,\"ticks\":\"\"}},\"type\":\"scatterpolargl\"}],\"scatterpolar\":[{\"marker\":{\"colorbar\":{\"outlinewidth\":0,\"ticks\":\"\"}},\"type\":\"scatterpolar\"}],\"scatter\":[{\"fillpattern\":{\"fillmode\":\"overlay\",\"size\":10,\"solidity\":0.2},\"type\":\"scatter\"}],\"scatterternary\":[{\"marker\":{\"colorbar\":{\"outlinewidth\":0,\"ticks\":\"\"}},\"type\":\"scatterternary\"}],\"surface\":[{\"colorbar\":{\"outlinewidth\":0,\"ticks\":\"\"},\"colorscale\":[[0.0,\"#0d0887\"],[0.1111111111111111,\"#46039f\"],[0.2222222222222222,\"#7201a8\"],[0.3333333333333333,\"#9c179e\"],[0.4444444444444444,\"#bd3786\"],[0.5555555555555556,\"#d8576b\"],[0.6666666666666666,\"#ed7953\"],[0.7777777777777778,\"#fb9f3a\"],[0.8888888888888888,\"#fdca26\"],[1.0,\"#f0f921\"]],\"type\":\"surface\"}],\"table\":[{\"cells\":{\"fill\":{\"color\":\"#EBF0F8\"},\"line\":{\"color\":\"white\"}},\"header\":{\"fill\":{\"color\":\"#C8D4E3\"},\"line\":{\"color\":\"white\"}},\"type\":\"table\"}]},\"layout\":{\"annotationdefaults\":{\"arrowcolor\":\"#2a3f5f\",\"arrowhead\":0,\"arrowwidth\":1},\"autotypenumbers\":\"strict\",\"coloraxis\":{\"colorbar\":{\"outlinewidth\":0,\"ticks\":\"\"}},\"colorscale\":{\"diverging\":[[0,\"#8e0152\"],[0.1,\"#c51b7d\"],[0.2,\"#de77ae\"],[0.3,\"#f1b6da\"],[0.4,\"#fde0ef\"],[0.5,\"#f7f7f7\"],[0.6,\"#e6f5d0\"],[0.7,\"#b8e186\"],[0.8,\"#7fbc41\"],[0.9,\"#4d9221\"],[1,\"#276419\"]],\"sequential\":[[0.0,\"#0d0887\"],[0.1111111111111111,\"#46039f\"],[0.2222222222222222,\"#7201a8\"],[0.3333333333333333,\"#9c179e\"],[0.4444444444444444,\"#bd3786\"],[0.5555555555555556,\"#d8576b\"],[0.6666666666666666,\"#ed7953\"],[0.7777777777777778,\"#fb9f3a\"],[0.8888888888888888,\"#fdca26\"],[1.0,\"#f0f921\"]],\"sequentialminus\":[[0.0,\"#0d0887\"],[0.1111111111111111,\"#46039f\"],[0.2222222222222222,\"#7201a8\"],[0.3333333333333333,\"#9c179e\"],[0.4444444444444444,\"#bd3786\"],[0.5555555555555556,\"#d8576b\"],[0.6666666666666666,\"#ed7953\"],[0.7777777777777778,\"#fb9f3a\"],[0.8888888888888888,\"#fdca26\"],[1.0,\"#f0f921\"]]},\"colorway\":[\"#636efa\",\"#EF553B\",\"#00cc96\",\"#ab63fa\",\"#FFA15A\",\"#19d3f3\",\"#FF6692\",\"#B6E880\",\"#FF97FF\",\"#FECB52\"],\"font\":{\"color\":\"#2a3f5f\"},\"geo\":{\"bgcolor\":\"white\",\"lakecolor\":\"white\",\"landcolor\":\"white\",\"showlakes\":true,\"showland\":true,\"subunitcolor\":\"#C8D4E3\"},\"hoverlabel\":{\"align\":\"left\"},\"hovermode\":\"closest\",\"mapbox\":{\"style\":\"light\"},\"paper_bgcolor\":\"white\",\"plot_bgcolor\":\"white\",\"polar\":{\"angularaxis\":{\"gridcolor\":\"#EBF0F8\",\"linecolor\":\"#EBF0F8\",\"ticks\":\"\"},\"bgcolor\":\"white\",\"radialaxis\":{\"gridcolor\":\"#EBF0F8\",\"linecolor\":\"#EBF0F8\",\"ticks\":\"\"}},\"scene\":{\"xaxis\":{\"backgroundcolor\":\"white\",\"gridcolor\":\"#DFE8F3\",\"gridwidth\":2,\"linecolor\":\"#EBF0F8\",\"showbackground\":true,\"ticks\":\"\",\"zerolinecolor\":\"#EBF0F8\"},\"yaxis\":{\"backgroundcolor\":\"white\",\"gridcolor\":\"#DFE8F3\",\"gridwidth\":2,\"linecolor\":\"#EBF0F8\",\"showbackground\":true,\"ticks\":\"\",\"zerolinecolor\":\"#EBF0F8\"},\"zaxis\":{\"backgroundcolor\":\"white\",\"gridcolor\":\"#DFE8F3\",\"gridwidth\":2,\"linecolor\":\"#EBF0F8\",\"showbackground\":true,\"ticks\":\"\",\"zerolinecolor\":\"#EBF0F8\"}},\"shapedefaults\":{\"line\":{\"color\":\"#2a3f5f\"}},\"ternary\":{\"aaxis\":{\"gridcolor\":\"#DFE8F3\",\"linecolor\":\"#A2B1C6\",\"ticks\":\"\"},\"baxis\":{\"gridcolor\":\"#DFE8F3\",\"linecolor\":\"#A2B1C6\",\"ticks\":\"\"},\"bgcolor\":\"white\",\"caxis\":{\"gridcolor\":\"#DFE8F3\",\"linecolor\":\"#A2B1C6\",\"ticks\":\"\"}},\"title\":{\"x\":0.05},\"xaxis\":{\"automargin\":true,\"gridcolor\":\"#EBF0F8\",\"linecolor\":\"#EBF0F8\",\"ticks\":\"\",\"title\":{\"standoff\":15},\"zerolinecolor\":\"#EBF0F8\",\"zerolinewidth\":2},\"yaxis\":{\"automargin\":true,\"gridcolor\":\"#EBF0F8\",\"linecolor\":\"#EBF0F8\",\"ticks\":\"\",\"title\":{\"standoff\":15},\"zerolinecolor\":\"#EBF0F8\",\"zerolinewidth\":2}}},\"scene\":{\"domain\":{\"x\":[0.0,1.0],\"y\":[0.0,1.0]},\"xaxis\":{\"title\":{\"text\":\"Income group\"}},\"yaxis\":{\"title\":{\"text\":\"Talent\"}},\"zaxis\":{\"title\":{\"text\":\"Infrastructure\"}}},\"coloraxis\":{\"colorbar\":{\"title\":{\"text\":\"Operating Environment\"}},\"colorscale\":[[0.0,\"#0d0887\"],[0.1111111111111111,\"#46039f\"],[0.2222222222222222,\"#7201a8\"],[0.3333333333333333,\"#9c179e\"],[0.4444444444444444,\"#bd3786\"],[0.5555555555555556,\"#d8576b\"],[0.6666666666666666,\"#ed7953\"],[0.7777777777777778,\"#fb9f3a\"],[0.8888888888888888,\"#fdca26\"],[1.0,\"#f0f921\"]]},\"legend\":{\"tracegroupgap\":0},\"title\":{\"text\":\"Talent-Infrastructure-Operating Environment Inter-relations by Income Groups\"},\"margin\":{\"t\":35,\"b\":35,\"l\":5,\"r\":5},\"showlegend\":true,\"width\":800,\"height\":400,\"autosize\":false},                        {\"responsive\": true}                    ).then(function(){\n",
       "                            \n",
       "var gd = document.getElementById('ab97a812-9734-4491-8ef7-e29c7dbf826d');\n",
       "var x = new MutationObserver(function (mutations, observer) {{\n",
       "        var display = window.getComputedStyle(gd).display;\n",
       "        if (!display || display === 'none') {{\n",
       "            console.log([gd, 'removed!']);\n",
       "            Plotly.purge(gd);\n",
       "            observer.disconnect();\n",
       "        }}\n",
       "}});\n",
       "\n",
       "// Listen for the removal of the full notebook cells\n",
       "var notebookContainer = gd.closest('#notebook-container');\n",
       "if (notebookContainer) {{\n",
       "    x.observe(notebookContainer, {childList: true});\n",
       "}}\n",
       "\n",
       "// Listen for the clearing of the current output cell\n",
       "var outputEl = gd.closest('.output');\n",
       "if (outputEl) {{\n",
       "    x.observe(outputEl, {childList: true});\n",
       "}}\n",
       "\n",
       "                        })                };                });            </script>        </div>"
      ]
     },
     "metadata": {},
     "output_type": "display_data"
    }
   ],
   "source": [
    "fig = px.scatter_3d(df, x='Income group', y='Talent', z='Infrastructure', color='Operating Environment', hover_name=\"Country\", \n",
    "                   title='Talent-Infrastructure-Operating Environment Inter-relations by Income Groups')\n",
    "# Update visual layout\n",
    "fig.update_layout(\n",
    "    showlegend=True,\n",
    "    width=800,\n",
    "    height=400,\n",
    "    autosize=False,\n",
    "    margin=dict(t=35, b=35, l=5, r=5),\n",
    "    template=\"plotly_white\",\n",
    ")\n",
    "fig.show()"
   ]
  },
  {
   "cell_type": "markdown",
   "id": "03d1991a",
   "metadata": {
    "papermill": {
     "duration": 0.031769,
     "end_time": "2023-08-09T09:38:15.168561",
     "exception": false,
     "start_time": "2023-08-09T09:38:15.136792",
     "status": "completed"
    },
    "tags": []
   },
   "source": [
    "\n",
    "After the analysis of the visualizations above, we can confirm what [Global AI Race: Dominant Players and Aspiring Challengers](https://intersog.com/blog/ai-dominant-players-and-aspiring-challengers/) conveys on the AI Implementation indicators\n",
    "<blockquote>\n",
    "    <div class=\"alert alert-block alert-info\"> ✅ <b>Americans Are Most Talented in AI</b>\n",
    "The talent factors group emphasizes the presence of proficient experts who can deliver artificial intelligence solutions. They include the absolute and relative numbers of AI engineers, Data Scientists, and Machine engineers, commits related to AI on GitHub, Kaggle ‘grandmasters’ and IT graduates, etc.<br><br>\n",
    "According to the provided dataset, the <b>United States</b> is the top country in the number of AI talents (an average score of all factors is 100). The following country with the lower score is India (a score of 45,3). The other three countries in the top-5 countries with skilled practitioners in AI are Great Britain, Singapore, and Israel, with almost equal scores (~40). The law scores of leaders and score median of 13.45 demonstrate an <b>unfavorable state</b> of the AI experts market for most countries.\n",
    "    </div>\n",
    "    <div class=\"alert alert-block alert-info\"> ✅ <b>China’s Infrastructure Is Most Appropriate for AI</b>\n",
    "        \n",
    "Infrastructure factors focus on the dependability and scalability of the access infrastructure, ranging from electricity and internet to supercomputing capabilities. These factors include the ratio of the total population with access to electricity,  the internet, the level of 5G implementation, etc.<br><br> \n",
    "\n",
    "As data say, China is better prepared for AI technologically (a score is 100). Hong Kong, Luxemburg, and the United States are just a little behind, with scores higher than 90. Ireland ends the top-5 rating with a score of 89.5. 80% of the analyzed countries have an Infrastructure indicators score higher than 50, while just one country has a total score of the Talent group indicators higher than 50. It illustrates the high global level of infrastructural capacity in comparison with the deficit of AI specialists.\n",
    "    </div>\n",
    "    <div class=\"alert alert-block alert-info\"> ✅ <b>Saudi Arabia's Society Is Most Friendly to AI</b> \n",
    "The Operating Environment group of factors concentrates on the regulatory environment and the public perception of artificial intelligence. The group consists of such factors as the level of data privacy legislation, gender diversity of AI professionals, the share of people who trust AI, etc.<br>\n",
    "\n",
    "Generally, the world society is optimistic about AI (85% of the analyzed countries have an Operating Environment group score higher than 50); the five most benevolent countries are Saudi Arabia (a score is 100), Poland, Mexico, Slovenia, and Canada.\n",
    "    </div>\n",
    "    <div class=\"alert alert-block alert-info\"> 🚩 <b>Generic note:</b> Under weights for each indicator group, justified by Tortoise Media in their <a href=\"https://www.tortoisemedia.com/wp-content/uploads/sites/3/2021/12/Global-AI-Index-Methodology-3.0-211201-v2.pdf\" target=\"_blank\">methodology report</a>, the Top 5 countries with the highest AI implementation level are the United States, The Netherlands, Canada, China, and Great Britain. Only 35% of analyzed countries have an implementation score higher than 50.\n",
    "    </div>\n",
    "</blockquote>"
   ]
  },
  {
   "cell_type": "markdown",
   "id": "bcbdc066",
   "metadata": {
    "papermill": {
     "duration": 0.032218,
     "end_time": "2023-08-09T09:38:15.232930",
     "exception": false,
     "start_time": "2023-08-09T09:38:15.200712",
     "status": "completed"
    },
    "tags": []
   },
   "source": [
    "# <div style=\"color:white;background-color:#1d1545;padding:3%;border-radius:50px 50px;font-size:1em;text-align:center\">Holistic View on AI Innovations</div>\n",
    "\n",
    "Innovation metrics reflect the progress made in technology and methodology, which signify the potential for artificial intelligence to evolve and improve. According to Tortoise Media, the innovation metrics are divided into two smaller groups\n",
    "\n",
    "- Research\n",
    "- Development"
   ]
  },
  {
   "cell_type": "code",
   "execution_count": null,
   "id": "98ee7d10",
   "metadata": {
    "_kg_hide-input": true,
    "execution": {
     "iopub.execute_input": "2023-08-09T09:38:15.299025Z",
     "iopub.status.busy": "2023-08-09T09:38:15.298642Z",
     "iopub.status.idle": "2023-08-09T09:38:15.383782Z",
     "shell.execute_reply": "2023-08-09T09:38:15.382705Z"
    },
    "papermill": {
     "duration": 0.120977,
     "end_time": "2023-08-09T09:38:15.386022",
     "exception": false,
     "start_time": "2023-08-09T09:38:15.265045",
     "status": "completed"
    },
    "tags": []
   },
   "outputs": [
    {
     "data": {
      "text/html": [
       "<div>                            <div id=\"f1769638-bfa5-4bea-8a59-41432ad702f8\" class=\"plotly-graph-div\" style=\"height:400px; width:800px;\"></div>            <script type=\"text/javascript\">                require([\"plotly\"], function(Plotly) {                    window.PLOTLYENV=window.PLOTLYENV || {};                                    if (document.getElementById(\"f1769638-bfa5-4bea-8a59-41432ad702f8\")) {                    Plotly.newPlot(                        \"f1769638-bfa5-4bea-8a59-41432ad702f8\",                        [{\"hovertemplate\":\"\\u003cb\\u003e%{hovertext}\\u003c\\u002fb\\u003e\\u003cbr\\u003e\\u003cbr\\u003eRegion=%{x}\\u003cbr\\u003eResearch=%{y}\\u003cbr\\u003eDevelopment=%{z}\\u003cbr\\u003eTotal score=%{marker.color}\\u003cextra\\u003e\\u003c\\u002fextra\\u003e\",\"hovertext\":[\"United States of America\",\"China\",\"United Kingdom\",\"Canada\",\"Israel\",\"Singapore\",\"South Korea\",\"The Netherlands\",\"Germany\",\"France\",\"Australia\",\"Ireland\",\"Finland\",\"Denmark\",\"Luxembourg\",\"Japan\",\"India\",\"Switzerland\",\"Sweden\",\"Hong Kong\",\"Spain\",\"Austria\",\"Estonia\",\"Taiwan\",\"Norway\",\"Saudi Arabia\",\"Belgium\",\"Poland\",\"Slovenia\",\"New Zealand\",\"Italy\",\"Russia\",\"Malta\",\"United Arab Emirates\",\"Portugal\",\"Czech Republic\",\"Iceland\",\"Lithuania\",\"Brazil\",\"Greece\",\"Slovakia\",\"Hungary\",\"Malaysia\",\"Mexico\",\"Chile\",\"Argentina\",\"Qatar\",\"Turkey\",\"Colombia\",\"Uruguay\",\"Bahrain\",\"Vietnam\",\"Indonesia\",\"Tunisia\",\"South Africa\",\"Morocco\",\"Armenia\",\"Sri Lanka\",\"Egypt\",\"Kenya\",\"Nigeria\",\"Pakistan\"],\"legendgroup\":\"\",\"marker\":{\"color\":[100.0,62.92,40.93,40.19,39.89,38.67,38.6,36.35,36.04,34.42,33.86,33.04,31.36,30.87,30.73,30.53,30.36,30.25,29.85,29.11,26.95,26.89,26.6,25.79,25.77,25.6,25.52,25.2,25.19,24.88,24.45,21.99,21.85,21.17,20.89,20.31,19.81,19.59,18.89,17.33,17.24,17.0,16.66,15.48,15.33,15.24,14.66,14.39,13.85,13.27,11.79,11.62,11.47,9.87,9.71,8.87,8.49,6.62,4.83,2.3,1.38,0.0],\"coloraxis\":\"coloraxis\",\"symbol\":\"circle\"},\"mode\":\"markers\",\"name\":\"\",\"scene\":\"scene\",\"showlegend\":false,\"x\":[\"Americas\",\"Asia-Pacific\",\"Europe\",\"Americas\",\"Middle East\",\"Asia-Pacific\",\"Asia-Pacific\",\"Europe\",\"Europe\",\"Europe\",\"Asia-Pacific\",\"Europe\",\"Europe\",\"Europe\",\"Europe\",\"Asia-Pacific\",\"Asia-Pacific\",\"Europe\",\"Europe\",\"Asia-Pacific\",\"Europe\",\"Europe\",\"Europe\",\"Asia-Pacific\",\"Europe\",\"Middle East\",\"Europe\",\"Europe\",\"Europe\",\"Asia-Pacific\",\"Europe\",\"Europe\",\"Europe\",\"Middle East\",\"Europe\",\"Europe\",\"Europe\",\"Europe\",\"Americas\",\"Europe\",\"Europe\",\"Europe\",\"Asia-Pacific\",\"Americas\",\"Americas\",\"Americas\",\"Middle East\",\"Europe\",\"Americas\",\"Americas\",\"Middle East\",\"Asia-Pacific\",\"Asia-Pacific\",\"Africa\",\"Africa\",\"Africa\",\"Europe\",\"Asia-Pacific\",\"Middle East\",\"Africa\",\"Africa\",\"Asia-Pacific\"],\"y\":[100.0,71.42,36.5,30.67,32.63,37.67,26.66,25.54,35.84,25.48,32.63,16.79,25.21,26.01,19.39,22.51,18.92,38.24,27.61,31.51,18.6,23.56,11.75,25.71,21.18,13.63,22.15,10.6,19.1,12.23,20.3,14.21,5.96,5.13,8.96,11.26,18.29,3.22,4.83,15.12,2.97,4.31,5.57,8.11,1.49,1.25,11.94,9.53,0.0,0.73,2.53,2.03,0.98,3.9,0.83,1.46,0.28,0.12,2.08,0.07,0.45,2.17],\"z\":[100.0,79.97,25.03,25.78,27.96,22.55,77.25,30.17,24.79,21.44,41.15,30.85,18.32,8.92,19.95,34.47,30.86,23.11,17.81,8.63,10.87,17.81,9.31,19.99,13.56,14.38,19.81,9.09,1.06,5.96,14.66,19.48,11.72,15.53,3.92,2.7,0.19,6.18,5.07,2.21,0.34,5.4,0.88,4.46,0.67,3.19,0.0,1.02,0.89,0.26,0.0,0.3,3.52,0.0,7.52,0.05,0.33,0.95,1.54,12.15,2.06,1.09],\"type\":\"scatter3d\"}],                        {\"template\":{\"data\":{\"barpolar\":[{\"marker\":{\"line\":{\"color\":\"white\",\"width\":0.5},\"pattern\":{\"fillmode\":\"overlay\",\"size\":10,\"solidity\":0.2}},\"type\":\"barpolar\"}],\"bar\":[{\"error_x\":{\"color\":\"#2a3f5f\"},\"error_y\":{\"color\":\"#2a3f5f\"},\"marker\":{\"line\":{\"color\":\"white\",\"width\":0.5},\"pattern\":{\"fillmode\":\"overlay\",\"size\":10,\"solidity\":0.2}},\"type\":\"bar\"}],\"carpet\":[{\"aaxis\":{\"endlinecolor\":\"#2a3f5f\",\"gridcolor\":\"#C8D4E3\",\"linecolor\":\"#C8D4E3\",\"minorgridcolor\":\"#C8D4E3\",\"startlinecolor\":\"#2a3f5f\"},\"baxis\":{\"endlinecolor\":\"#2a3f5f\",\"gridcolor\":\"#C8D4E3\",\"linecolor\":\"#C8D4E3\",\"minorgridcolor\":\"#C8D4E3\",\"startlinecolor\":\"#2a3f5f\"},\"type\":\"carpet\"}],\"choropleth\":[{\"colorbar\":{\"outlinewidth\":0,\"ticks\":\"\"},\"type\":\"choropleth\"}],\"contourcarpet\":[{\"colorbar\":{\"outlinewidth\":0,\"ticks\":\"\"},\"type\":\"contourcarpet\"}],\"contour\":[{\"colorbar\":{\"outlinewidth\":0,\"ticks\":\"\"},\"colorscale\":[[0.0,\"#0d0887\"],[0.1111111111111111,\"#46039f\"],[0.2222222222222222,\"#7201a8\"],[0.3333333333333333,\"#9c179e\"],[0.4444444444444444,\"#bd3786\"],[0.5555555555555556,\"#d8576b\"],[0.6666666666666666,\"#ed7953\"],[0.7777777777777778,\"#fb9f3a\"],[0.8888888888888888,\"#fdca26\"],[1.0,\"#f0f921\"]],\"type\":\"contour\"}],\"heatmapgl\":[{\"colorbar\":{\"outlinewidth\":0,\"ticks\":\"\"},\"colorscale\":[[0.0,\"#0d0887\"],[0.1111111111111111,\"#46039f\"],[0.2222222222222222,\"#7201a8\"],[0.3333333333333333,\"#9c179e\"],[0.4444444444444444,\"#bd3786\"],[0.5555555555555556,\"#d8576b\"],[0.6666666666666666,\"#ed7953\"],[0.7777777777777778,\"#fb9f3a\"],[0.8888888888888888,\"#fdca26\"],[1.0,\"#f0f921\"]],\"type\":\"heatmapgl\"}],\"heatmap\":[{\"colorbar\":{\"outlinewidth\":0,\"ticks\":\"\"},\"colorscale\":[[0.0,\"#0d0887\"],[0.1111111111111111,\"#46039f\"],[0.2222222222222222,\"#7201a8\"],[0.3333333333333333,\"#9c179e\"],[0.4444444444444444,\"#bd3786\"],[0.5555555555555556,\"#d8576b\"],[0.6666666666666666,\"#ed7953\"],[0.7777777777777778,\"#fb9f3a\"],[0.8888888888888888,\"#fdca26\"],[1.0,\"#f0f921\"]],\"type\":\"heatmap\"}],\"histogram2dcontour\":[{\"colorbar\":{\"outlinewidth\":0,\"ticks\":\"\"},\"colorscale\":[[0.0,\"#0d0887\"],[0.1111111111111111,\"#46039f\"],[0.2222222222222222,\"#7201a8\"],[0.3333333333333333,\"#9c179e\"],[0.4444444444444444,\"#bd3786\"],[0.5555555555555556,\"#d8576b\"],[0.6666666666666666,\"#ed7953\"],[0.7777777777777778,\"#fb9f3a\"],[0.8888888888888888,\"#fdca26\"],[1.0,\"#f0f921\"]],\"type\":\"histogram2dcontour\"}],\"histogram2d\":[{\"colorbar\":{\"outlinewidth\":0,\"ticks\":\"\"},\"colorscale\":[[0.0,\"#0d0887\"],[0.1111111111111111,\"#46039f\"],[0.2222222222222222,\"#7201a8\"],[0.3333333333333333,\"#9c179e\"],[0.4444444444444444,\"#bd3786\"],[0.5555555555555556,\"#d8576b\"],[0.6666666666666666,\"#ed7953\"],[0.7777777777777778,\"#fb9f3a\"],[0.8888888888888888,\"#fdca26\"],[1.0,\"#f0f921\"]],\"type\":\"histogram2d\"}],\"histogram\":[{\"marker\":{\"pattern\":{\"fillmode\":\"overlay\",\"size\":10,\"solidity\":0.2}},\"type\":\"histogram\"}],\"mesh3d\":[{\"colorbar\":{\"outlinewidth\":0,\"ticks\":\"\"},\"type\":\"mesh3d\"}],\"parcoords\":[{\"line\":{\"colorbar\":{\"outlinewidth\":0,\"ticks\":\"\"}},\"type\":\"parcoords\"}],\"pie\":[{\"automargin\":true,\"type\":\"pie\"}],\"scatter3d\":[{\"line\":{\"colorbar\":{\"outlinewidth\":0,\"ticks\":\"\"}},\"marker\":{\"colorbar\":{\"outlinewidth\":0,\"ticks\":\"\"}},\"type\":\"scatter3d\"}],\"scattercarpet\":[{\"marker\":{\"colorbar\":{\"outlinewidth\":0,\"ticks\":\"\"}},\"type\":\"scattercarpet\"}],\"scattergeo\":[{\"marker\":{\"colorbar\":{\"outlinewidth\":0,\"ticks\":\"\"}},\"type\":\"scattergeo\"}],\"scattergl\":[{\"marker\":{\"colorbar\":{\"outlinewidth\":0,\"ticks\":\"\"}},\"type\":\"scattergl\"}],\"scattermapbox\":[{\"marker\":{\"colorbar\":{\"outlinewidth\":0,\"ticks\":\"\"}},\"type\":\"scattermapbox\"}],\"scatterpolargl\":[{\"marker\":{\"colorbar\":{\"outlinewidth\":0,\"ticks\":\"\"}},\"type\":\"scatterpolargl\"}],\"scatterpolar\":[{\"marker\":{\"colorbar\":{\"outlinewidth\":0,\"ticks\":\"\"}},\"type\":\"scatterpolar\"}],\"scatter\":[{\"fillpattern\":{\"fillmode\":\"overlay\",\"size\":10,\"solidity\":0.2},\"type\":\"scatter\"}],\"scatterternary\":[{\"marker\":{\"colorbar\":{\"outlinewidth\":0,\"ticks\":\"\"}},\"type\":\"scatterternary\"}],\"surface\":[{\"colorbar\":{\"outlinewidth\":0,\"ticks\":\"\"},\"colorscale\":[[0.0,\"#0d0887\"],[0.1111111111111111,\"#46039f\"],[0.2222222222222222,\"#7201a8\"],[0.3333333333333333,\"#9c179e\"],[0.4444444444444444,\"#bd3786\"],[0.5555555555555556,\"#d8576b\"],[0.6666666666666666,\"#ed7953\"],[0.7777777777777778,\"#fb9f3a\"],[0.8888888888888888,\"#fdca26\"],[1.0,\"#f0f921\"]],\"type\":\"surface\"}],\"table\":[{\"cells\":{\"fill\":{\"color\":\"#EBF0F8\"},\"line\":{\"color\":\"white\"}},\"header\":{\"fill\":{\"color\":\"#C8D4E3\"},\"line\":{\"color\":\"white\"}},\"type\":\"table\"}]},\"layout\":{\"annotationdefaults\":{\"arrowcolor\":\"#2a3f5f\",\"arrowhead\":0,\"arrowwidth\":1},\"autotypenumbers\":\"strict\",\"coloraxis\":{\"colorbar\":{\"outlinewidth\":0,\"ticks\":\"\"}},\"colorscale\":{\"diverging\":[[0,\"#8e0152\"],[0.1,\"#c51b7d\"],[0.2,\"#de77ae\"],[0.3,\"#f1b6da\"],[0.4,\"#fde0ef\"],[0.5,\"#f7f7f7\"],[0.6,\"#e6f5d0\"],[0.7,\"#b8e186\"],[0.8,\"#7fbc41\"],[0.9,\"#4d9221\"],[1,\"#276419\"]],\"sequential\":[[0.0,\"#0d0887\"],[0.1111111111111111,\"#46039f\"],[0.2222222222222222,\"#7201a8\"],[0.3333333333333333,\"#9c179e\"],[0.4444444444444444,\"#bd3786\"],[0.5555555555555556,\"#d8576b\"],[0.6666666666666666,\"#ed7953\"],[0.7777777777777778,\"#fb9f3a\"],[0.8888888888888888,\"#fdca26\"],[1.0,\"#f0f921\"]],\"sequentialminus\":[[0.0,\"#0d0887\"],[0.1111111111111111,\"#46039f\"],[0.2222222222222222,\"#7201a8\"],[0.3333333333333333,\"#9c179e\"],[0.4444444444444444,\"#bd3786\"],[0.5555555555555556,\"#d8576b\"],[0.6666666666666666,\"#ed7953\"],[0.7777777777777778,\"#fb9f3a\"],[0.8888888888888888,\"#fdca26\"],[1.0,\"#f0f921\"]]},\"colorway\":[\"#636efa\",\"#EF553B\",\"#00cc96\",\"#ab63fa\",\"#FFA15A\",\"#19d3f3\",\"#FF6692\",\"#B6E880\",\"#FF97FF\",\"#FECB52\"],\"font\":{\"color\":\"#2a3f5f\"},\"geo\":{\"bgcolor\":\"white\",\"lakecolor\":\"white\",\"landcolor\":\"white\",\"showlakes\":true,\"showland\":true,\"subunitcolor\":\"#C8D4E3\"},\"hoverlabel\":{\"align\":\"left\"},\"hovermode\":\"closest\",\"mapbox\":{\"style\":\"light\"},\"paper_bgcolor\":\"white\",\"plot_bgcolor\":\"white\",\"polar\":{\"angularaxis\":{\"gridcolor\":\"#EBF0F8\",\"linecolor\":\"#EBF0F8\",\"ticks\":\"\"},\"bgcolor\":\"white\",\"radialaxis\":{\"gridcolor\":\"#EBF0F8\",\"linecolor\":\"#EBF0F8\",\"ticks\":\"\"}},\"scene\":{\"xaxis\":{\"backgroundcolor\":\"white\",\"gridcolor\":\"#DFE8F3\",\"gridwidth\":2,\"linecolor\":\"#EBF0F8\",\"showbackground\":true,\"ticks\":\"\",\"zerolinecolor\":\"#EBF0F8\"},\"yaxis\":{\"backgroundcolor\":\"white\",\"gridcolor\":\"#DFE8F3\",\"gridwidth\":2,\"linecolor\":\"#EBF0F8\",\"showbackground\":true,\"ticks\":\"\",\"zerolinecolor\":\"#EBF0F8\"},\"zaxis\":{\"backgroundcolor\":\"white\",\"gridcolor\":\"#DFE8F3\",\"gridwidth\":2,\"linecolor\":\"#EBF0F8\",\"showbackground\":true,\"ticks\":\"\",\"zerolinecolor\":\"#EBF0F8\"}},\"shapedefaults\":{\"line\":{\"color\":\"#2a3f5f\"}},\"ternary\":{\"aaxis\":{\"gridcolor\":\"#DFE8F3\",\"linecolor\":\"#A2B1C6\",\"ticks\":\"\"},\"baxis\":{\"gridcolor\":\"#DFE8F3\",\"linecolor\":\"#A2B1C6\",\"ticks\":\"\"},\"bgcolor\":\"white\",\"caxis\":{\"gridcolor\":\"#DFE8F3\",\"linecolor\":\"#A2B1C6\",\"ticks\":\"\"}},\"title\":{\"x\":0.05},\"xaxis\":{\"automargin\":true,\"gridcolor\":\"#EBF0F8\",\"linecolor\":\"#EBF0F8\",\"ticks\":\"\",\"title\":{\"standoff\":15},\"zerolinecolor\":\"#EBF0F8\",\"zerolinewidth\":2},\"yaxis\":{\"automargin\":true,\"gridcolor\":\"#EBF0F8\",\"linecolor\":\"#EBF0F8\",\"ticks\":\"\",\"title\":{\"standoff\":15},\"zerolinecolor\":\"#EBF0F8\",\"zerolinewidth\":2}}},\"scene\":{\"domain\":{\"x\":[0.0,1.0],\"y\":[0.0,1.0]},\"xaxis\":{\"title\":{\"text\":\"Region\"}},\"yaxis\":{\"title\":{\"text\":\"Research\"}},\"zaxis\":{\"title\":{\"text\":\"Development\"}}},\"coloraxis\":{\"colorbar\":{\"title\":{\"text\":\"Total score\"}},\"colorscale\":[[0.0,\"#0d0887\"],[0.1111111111111111,\"#46039f\"],[0.2222222222222222,\"#7201a8\"],[0.3333333333333333,\"#9c179e\"],[0.4444444444444444,\"#bd3786\"],[0.5555555555555556,\"#d8576b\"],[0.6666666666666666,\"#ed7953\"],[0.7777777777777778,\"#fb9f3a\"],[0.8888888888888888,\"#fdca26\"],[1.0,\"#f0f921\"]]},\"legend\":{\"tracegroupgap\":0},\"title\":{\"text\":\"R&D Inter-relations by Regions\"},\"margin\":{\"t\":35,\"b\":35,\"l\":5,\"r\":5},\"showlegend\":true,\"width\":800,\"height\":400,\"autosize\":false},                        {\"responsive\": true}                    ).then(function(){\n",
       "                            \n",
       "var gd = document.getElementById('f1769638-bfa5-4bea-8a59-41432ad702f8');\n",
       "var x = new MutationObserver(function (mutations, observer) {{\n",
       "        var display = window.getComputedStyle(gd).display;\n",
       "        if (!display || display === 'none') {{\n",
       "            console.log([gd, 'removed!']);\n",
       "            Plotly.purge(gd);\n",
       "            observer.disconnect();\n",
       "        }}\n",
       "}});\n",
       "\n",
       "// Listen for the removal of the full notebook cells\n",
       "var notebookContainer = gd.closest('#notebook-container');\n",
       "if (notebookContainer) {{\n",
       "    x.observe(notebookContainer, {childList: true});\n",
       "}}\n",
       "\n",
       "// Listen for the clearing of the current output cell\n",
       "var outputEl = gd.closest('.output');\n",
       "if (outputEl) {{\n",
       "    x.observe(outputEl, {childList: true});\n",
       "}}\n",
       "\n",
       "                        })                };                });            </script>        </div>"
      ]
     },
     "metadata": {},
     "output_type": "display_data"
    }
   ],
   "source": [
    "fig = px.scatter_3d(df, x='Region', y='Research', z='Development', color='Total score', hover_name=\"Country\", \n",
    "                   title='R&D Inter-relations by Regions')\n",
    "# Update visual layout\n",
    "fig.update_layout(\n",
    "    showlegend=True,\n",
    "    width=800,\n",
    "    height=400,\n",
    "    autosize=False,\n",
    "    margin=dict(t=35, b=35, l=5, r=5),\n",
    "    template=\"plotly_white\",\n",
    ")\n",
    "fig.show()"
   ]
  },
  {
   "cell_type": "code",
   "execution_count": null,
   "id": "6337c8d5",
   "metadata": {
    "_kg_hide-input": true,
    "execution": {
     "iopub.execute_input": "2023-08-09T09:38:15.453130Z",
     "iopub.status.busy": "2023-08-09T09:38:15.452744Z",
     "iopub.status.idle": "2023-08-09T09:38:15.537772Z",
     "shell.execute_reply": "2023-08-09T09:38:15.536587Z"
    },
    "papermill": {
     "duration": 0.121276,
     "end_time": "2023-08-09T09:38:15.540067",
     "exception": false,
     "start_time": "2023-08-09T09:38:15.418791",
     "status": "completed"
    },
    "tags": []
   },
   "outputs": [
    {
     "data": {
      "text/html": [
       "<div>                            <div id=\"a39f733b-201e-4bf2-8a9a-c855d9195ac9\" class=\"plotly-graph-div\" style=\"height:400px; width:800px;\"></div>            <script type=\"text/javascript\">                require([\"plotly\"], function(Plotly) {                    window.PLOTLYENV=window.PLOTLYENV || {};                                    if (document.getElementById(\"a39f733b-201e-4bf2-8a9a-c855d9195ac9\")) {                    Plotly.newPlot(                        \"a39f733b-201e-4bf2-8a9a-c855d9195ac9\",                        [{\"hovertemplate\":\"\\u003cb\\u003e%{hovertext}\\u003c\\u002fb\\u003e\\u003cbr\\u003e\\u003cbr\\u003eCluster=%{x}\\u003cbr\\u003eResearch=%{y}\\u003cbr\\u003eDevelopment=%{z}\\u003cbr\\u003eTotal score=%{marker.color}\\u003cextra\\u003e\\u003c\\u002fextra\\u003e\",\"hovertext\":[\"United States of America\",\"China\",\"United Kingdom\",\"Canada\",\"Israel\",\"Singapore\",\"South Korea\",\"The Netherlands\",\"Germany\",\"France\",\"Australia\",\"Ireland\",\"Finland\",\"Denmark\",\"Luxembourg\",\"Japan\",\"India\",\"Switzerland\",\"Sweden\",\"Hong Kong\",\"Spain\",\"Austria\",\"Estonia\",\"Taiwan\",\"Norway\",\"Saudi Arabia\",\"Belgium\",\"Poland\",\"Slovenia\",\"New Zealand\",\"Italy\",\"Russia\",\"Malta\",\"United Arab Emirates\",\"Portugal\",\"Czech Republic\",\"Iceland\",\"Lithuania\",\"Brazil\",\"Greece\",\"Slovakia\",\"Hungary\",\"Malaysia\",\"Mexico\",\"Chile\",\"Argentina\",\"Qatar\",\"Turkey\",\"Colombia\",\"Uruguay\",\"Bahrain\",\"Vietnam\",\"Indonesia\",\"Tunisia\",\"South Africa\",\"Morocco\",\"Armenia\",\"Sri Lanka\",\"Egypt\",\"Kenya\",\"Nigeria\",\"Pakistan\"],\"legendgroup\":\"\",\"marker\":{\"color\":[100.0,62.92,40.93,40.19,39.89,38.67,38.6,36.35,36.04,34.42,33.86,33.04,31.36,30.87,30.73,30.53,30.36,30.25,29.85,29.11,26.95,26.89,26.6,25.79,25.77,25.6,25.52,25.2,25.19,24.88,24.45,21.99,21.85,21.17,20.89,20.31,19.81,19.59,18.89,17.33,17.24,17.0,16.66,15.48,15.33,15.24,14.66,14.39,13.85,13.27,11.79,11.62,11.47,9.87,9.71,8.87,8.49,6.62,4.83,2.3,1.38,0.0],\"coloraxis\":\"coloraxis\",\"symbol\":\"circle\"},\"mode\":\"markers\",\"name\":\"\",\"scene\":\"scene\",\"showlegend\":false,\"x\":[\"Power players\",\"Power players\",\"Traditional champions\",\"Traditional champions\",\"Rising stars\",\"Rising stars\",\"Rising stars\",\"Rising stars\",\"Traditional champions\",\"Traditional champions\",\"Rising stars\",\"Rising stars\",\"Rising stars\",\"Rising stars\",\"Waking up\",\"Rising stars\",\"Waking up\",\"Rising stars\",\"Waking up\",\"Waking up\",\"Rising stars\",\"Waking up\",\"Waking up\",\"Waking up\",\"Waking up\",\"Waking up\",\"Waking up\",\"Waking up\",\"Waking up\",\"Waking up\",\"Waking up\",\"Waking up\",\"Waking up\",\"Waking up\",\"Waking up\",\"Waking up\",\"Waking up\",\"Waking up\",\"Waking up\",\"Waking up\",\"Waking up\",\"Waking up\",\"Waking up\",\"Waking up\",\"Waking up\",\"Waking up\",\"Waking up\",\"Waking up\",\"Waking up\",\"Waking up\",\"Waking up\",\"Waking up\",\"Waking up\",\"Waking up\",\"Waking up\",\"Waking up\",\"Waking up\",\"Nascent\",\"Nascent\",\"Nascent\",\"Nascent\",\"Nascent\"],\"y\":[100.0,71.42,36.5,30.67,32.63,37.67,26.66,25.54,35.84,25.48,32.63,16.79,25.21,26.01,19.39,22.51,18.92,38.24,27.61,31.51,18.6,23.56,11.75,25.71,21.18,13.63,22.15,10.6,19.1,12.23,20.3,14.21,5.96,5.13,8.96,11.26,18.29,3.22,4.83,15.12,2.97,4.31,5.57,8.11,1.49,1.25,11.94,9.53,0.0,0.73,2.53,2.03,0.98,3.9,0.83,1.46,0.28,0.12,2.08,0.07,0.45,2.17],\"z\":[100.0,79.97,25.03,25.78,27.96,22.55,77.25,30.17,24.79,21.44,41.15,30.85,18.32,8.92,19.95,34.47,30.86,23.11,17.81,8.63,10.87,17.81,9.31,19.99,13.56,14.38,19.81,9.09,1.06,5.96,14.66,19.48,11.72,15.53,3.92,2.7,0.19,6.18,5.07,2.21,0.34,5.4,0.88,4.46,0.67,3.19,0.0,1.02,0.89,0.26,0.0,0.3,3.52,0.0,7.52,0.05,0.33,0.95,1.54,12.15,2.06,1.09],\"type\":\"scatter3d\"}],                        {\"template\":{\"data\":{\"barpolar\":[{\"marker\":{\"line\":{\"color\":\"white\",\"width\":0.5},\"pattern\":{\"fillmode\":\"overlay\",\"size\":10,\"solidity\":0.2}},\"type\":\"barpolar\"}],\"bar\":[{\"error_x\":{\"color\":\"#2a3f5f\"},\"error_y\":{\"color\":\"#2a3f5f\"},\"marker\":{\"line\":{\"color\":\"white\",\"width\":0.5},\"pattern\":{\"fillmode\":\"overlay\",\"size\":10,\"solidity\":0.2}},\"type\":\"bar\"}],\"carpet\":[{\"aaxis\":{\"endlinecolor\":\"#2a3f5f\",\"gridcolor\":\"#C8D4E3\",\"linecolor\":\"#C8D4E3\",\"minorgridcolor\":\"#C8D4E3\",\"startlinecolor\":\"#2a3f5f\"},\"baxis\":{\"endlinecolor\":\"#2a3f5f\",\"gridcolor\":\"#C8D4E3\",\"linecolor\":\"#C8D4E3\",\"minorgridcolor\":\"#C8D4E3\",\"startlinecolor\":\"#2a3f5f\"},\"type\":\"carpet\"}],\"choropleth\":[{\"colorbar\":{\"outlinewidth\":0,\"ticks\":\"\"},\"type\":\"choropleth\"}],\"contourcarpet\":[{\"colorbar\":{\"outlinewidth\":0,\"ticks\":\"\"},\"type\":\"contourcarpet\"}],\"contour\":[{\"colorbar\":{\"outlinewidth\":0,\"ticks\":\"\"},\"colorscale\":[[0.0,\"#0d0887\"],[0.1111111111111111,\"#46039f\"],[0.2222222222222222,\"#7201a8\"],[0.3333333333333333,\"#9c179e\"],[0.4444444444444444,\"#bd3786\"],[0.5555555555555556,\"#d8576b\"],[0.6666666666666666,\"#ed7953\"],[0.7777777777777778,\"#fb9f3a\"],[0.8888888888888888,\"#fdca26\"],[1.0,\"#f0f921\"]],\"type\":\"contour\"}],\"heatmapgl\":[{\"colorbar\":{\"outlinewidth\":0,\"ticks\":\"\"},\"colorscale\":[[0.0,\"#0d0887\"],[0.1111111111111111,\"#46039f\"],[0.2222222222222222,\"#7201a8\"],[0.3333333333333333,\"#9c179e\"],[0.4444444444444444,\"#bd3786\"],[0.5555555555555556,\"#d8576b\"],[0.6666666666666666,\"#ed7953\"],[0.7777777777777778,\"#fb9f3a\"],[0.8888888888888888,\"#fdca26\"],[1.0,\"#f0f921\"]],\"type\":\"heatmapgl\"}],\"heatmap\":[{\"colorbar\":{\"outlinewidth\":0,\"ticks\":\"\"},\"colorscale\":[[0.0,\"#0d0887\"],[0.1111111111111111,\"#46039f\"],[0.2222222222222222,\"#7201a8\"],[0.3333333333333333,\"#9c179e\"],[0.4444444444444444,\"#bd3786\"],[0.5555555555555556,\"#d8576b\"],[0.6666666666666666,\"#ed7953\"],[0.7777777777777778,\"#fb9f3a\"],[0.8888888888888888,\"#fdca26\"],[1.0,\"#f0f921\"]],\"type\":\"heatmap\"}],\"histogram2dcontour\":[{\"colorbar\":{\"outlinewidth\":0,\"ticks\":\"\"},\"colorscale\":[[0.0,\"#0d0887\"],[0.1111111111111111,\"#46039f\"],[0.2222222222222222,\"#7201a8\"],[0.3333333333333333,\"#9c179e\"],[0.4444444444444444,\"#bd3786\"],[0.5555555555555556,\"#d8576b\"],[0.6666666666666666,\"#ed7953\"],[0.7777777777777778,\"#fb9f3a\"],[0.8888888888888888,\"#fdca26\"],[1.0,\"#f0f921\"]],\"type\":\"histogram2dcontour\"}],\"histogram2d\":[{\"colorbar\":{\"outlinewidth\":0,\"ticks\":\"\"},\"colorscale\":[[0.0,\"#0d0887\"],[0.1111111111111111,\"#46039f\"],[0.2222222222222222,\"#7201a8\"],[0.3333333333333333,\"#9c179e\"],[0.4444444444444444,\"#bd3786\"],[0.5555555555555556,\"#d8576b\"],[0.6666666666666666,\"#ed7953\"],[0.7777777777777778,\"#fb9f3a\"],[0.8888888888888888,\"#fdca26\"],[1.0,\"#f0f921\"]],\"type\":\"histogram2d\"}],\"histogram\":[{\"marker\":{\"pattern\":{\"fillmode\":\"overlay\",\"size\":10,\"solidity\":0.2}},\"type\":\"histogram\"}],\"mesh3d\":[{\"colorbar\":{\"outlinewidth\":0,\"ticks\":\"\"},\"type\":\"mesh3d\"}],\"parcoords\":[{\"line\":{\"colorbar\":{\"outlinewidth\":0,\"ticks\":\"\"}},\"type\":\"parcoords\"}],\"pie\":[{\"automargin\":true,\"type\":\"pie\"}],\"scatter3d\":[{\"line\":{\"colorbar\":{\"outlinewidth\":0,\"ticks\":\"\"}},\"marker\":{\"colorbar\":{\"outlinewidth\":0,\"ticks\":\"\"}},\"type\":\"scatter3d\"}],\"scattercarpet\":[{\"marker\":{\"colorbar\":{\"outlinewidth\":0,\"ticks\":\"\"}},\"type\":\"scattercarpet\"}],\"scattergeo\":[{\"marker\":{\"colorbar\":{\"outlinewidth\":0,\"ticks\":\"\"}},\"type\":\"scattergeo\"}],\"scattergl\":[{\"marker\":{\"colorbar\":{\"outlinewidth\":0,\"ticks\":\"\"}},\"type\":\"scattergl\"}],\"scattermapbox\":[{\"marker\":{\"colorbar\":{\"outlinewidth\":0,\"ticks\":\"\"}},\"type\":\"scattermapbox\"}],\"scatterpolargl\":[{\"marker\":{\"colorbar\":{\"outlinewidth\":0,\"ticks\":\"\"}},\"type\":\"scatterpolargl\"}],\"scatterpolar\":[{\"marker\":{\"colorbar\":{\"outlinewidth\":0,\"ticks\":\"\"}},\"type\":\"scatterpolar\"}],\"scatter\":[{\"fillpattern\":{\"fillmode\":\"overlay\",\"size\":10,\"solidity\":0.2},\"type\":\"scatter\"}],\"scatterternary\":[{\"marker\":{\"colorbar\":{\"outlinewidth\":0,\"ticks\":\"\"}},\"type\":\"scatterternary\"}],\"surface\":[{\"colorbar\":{\"outlinewidth\":0,\"ticks\":\"\"},\"colorscale\":[[0.0,\"#0d0887\"],[0.1111111111111111,\"#46039f\"],[0.2222222222222222,\"#7201a8\"],[0.3333333333333333,\"#9c179e\"],[0.4444444444444444,\"#bd3786\"],[0.5555555555555556,\"#d8576b\"],[0.6666666666666666,\"#ed7953\"],[0.7777777777777778,\"#fb9f3a\"],[0.8888888888888888,\"#fdca26\"],[1.0,\"#f0f921\"]],\"type\":\"surface\"}],\"table\":[{\"cells\":{\"fill\":{\"color\":\"#EBF0F8\"},\"line\":{\"color\":\"white\"}},\"header\":{\"fill\":{\"color\":\"#C8D4E3\"},\"line\":{\"color\":\"white\"}},\"type\":\"table\"}]},\"layout\":{\"annotationdefaults\":{\"arrowcolor\":\"#2a3f5f\",\"arrowhead\":0,\"arrowwidth\":1},\"autotypenumbers\":\"strict\",\"coloraxis\":{\"colorbar\":{\"outlinewidth\":0,\"ticks\":\"\"}},\"colorscale\":{\"diverging\":[[0,\"#8e0152\"],[0.1,\"#c51b7d\"],[0.2,\"#de77ae\"],[0.3,\"#f1b6da\"],[0.4,\"#fde0ef\"],[0.5,\"#f7f7f7\"],[0.6,\"#e6f5d0\"],[0.7,\"#b8e186\"],[0.8,\"#7fbc41\"],[0.9,\"#4d9221\"],[1,\"#276419\"]],\"sequential\":[[0.0,\"#0d0887\"],[0.1111111111111111,\"#46039f\"],[0.2222222222222222,\"#7201a8\"],[0.3333333333333333,\"#9c179e\"],[0.4444444444444444,\"#bd3786\"],[0.5555555555555556,\"#d8576b\"],[0.6666666666666666,\"#ed7953\"],[0.7777777777777778,\"#fb9f3a\"],[0.8888888888888888,\"#fdca26\"],[1.0,\"#f0f921\"]],\"sequentialminus\":[[0.0,\"#0d0887\"],[0.1111111111111111,\"#46039f\"],[0.2222222222222222,\"#7201a8\"],[0.3333333333333333,\"#9c179e\"],[0.4444444444444444,\"#bd3786\"],[0.5555555555555556,\"#d8576b\"],[0.6666666666666666,\"#ed7953\"],[0.7777777777777778,\"#fb9f3a\"],[0.8888888888888888,\"#fdca26\"],[1.0,\"#f0f921\"]]},\"colorway\":[\"#636efa\",\"#EF553B\",\"#00cc96\",\"#ab63fa\",\"#FFA15A\",\"#19d3f3\",\"#FF6692\",\"#B6E880\",\"#FF97FF\",\"#FECB52\"],\"font\":{\"color\":\"#2a3f5f\"},\"geo\":{\"bgcolor\":\"white\",\"lakecolor\":\"white\",\"landcolor\":\"white\",\"showlakes\":true,\"showland\":true,\"subunitcolor\":\"#C8D4E3\"},\"hoverlabel\":{\"align\":\"left\"},\"hovermode\":\"closest\",\"mapbox\":{\"style\":\"light\"},\"paper_bgcolor\":\"white\",\"plot_bgcolor\":\"white\",\"polar\":{\"angularaxis\":{\"gridcolor\":\"#EBF0F8\",\"linecolor\":\"#EBF0F8\",\"ticks\":\"\"},\"bgcolor\":\"white\",\"radialaxis\":{\"gridcolor\":\"#EBF0F8\",\"linecolor\":\"#EBF0F8\",\"ticks\":\"\"}},\"scene\":{\"xaxis\":{\"backgroundcolor\":\"white\",\"gridcolor\":\"#DFE8F3\",\"gridwidth\":2,\"linecolor\":\"#EBF0F8\",\"showbackground\":true,\"ticks\":\"\",\"zerolinecolor\":\"#EBF0F8\"},\"yaxis\":{\"backgroundcolor\":\"white\",\"gridcolor\":\"#DFE8F3\",\"gridwidth\":2,\"linecolor\":\"#EBF0F8\",\"showbackground\":true,\"ticks\":\"\",\"zerolinecolor\":\"#EBF0F8\"},\"zaxis\":{\"backgroundcolor\":\"white\",\"gridcolor\":\"#DFE8F3\",\"gridwidth\":2,\"linecolor\":\"#EBF0F8\",\"showbackground\":true,\"ticks\":\"\",\"zerolinecolor\":\"#EBF0F8\"}},\"shapedefaults\":{\"line\":{\"color\":\"#2a3f5f\"}},\"ternary\":{\"aaxis\":{\"gridcolor\":\"#DFE8F3\",\"linecolor\":\"#A2B1C6\",\"ticks\":\"\"},\"baxis\":{\"gridcolor\":\"#DFE8F3\",\"linecolor\":\"#A2B1C6\",\"ticks\":\"\"},\"bgcolor\":\"white\",\"caxis\":{\"gridcolor\":\"#DFE8F3\",\"linecolor\":\"#A2B1C6\",\"ticks\":\"\"}},\"title\":{\"x\":0.05},\"xaxis\":{\"automargin\":true,\"gridcolor\":\"#EBF0F8\",\"linecolor\":\"#EBF0F8\",\"ticks\":\"\",\"title\":{\"standoff\":15},\"zerolinecolor\":\"#EBF0F8\",\"zerolinewidth\":2},\"yaxis\":{\"automargin\":true,\"gridcolor\":\"#EBF0F8\",\"linecolor\":\"#EBF0F8\",\"ticks\":\"\",\"title\":{\"standoff\":15},\"zerolinecolor\":\"#EBF0F8\",\"zerolinewidth\":2}}},\"scene\":{\"domain\":{\"x\":[0.0,1.0],\"y\":[0.0,1.0]},\"xaxis\":{\"title\":{\"text\":\"Cluster\"}},\"yaxis\":{\"title\":{\"text\":\"Research\"}},\"zaxis\":{\"title\":{\"text\":\"Development\"}}},\"coloraxis\":{\"colorbar\":{\"title\":{\"text\":\"Total score\"}},\"colorscale\":[[0.0,\"#0d0887\"],[0.1111111111111111,\"#46039f\"],[0.2222222222222222,\"#7201a8\"],[0.3333333333333333,\"#9c179e\"],[0.4444444444444444,\"#bd3786\"],[0.5555555555555556,\"#d8576b\"],[0.6666666666666666,\"#ed7953\"],[0.7777777777777778,\"#fb9f3a\"],[0.8888888888888888,\"#fdca26\"],[1.0,\"#f0f921\"]]},\"legend\":{\"tracegroupgap\":0},\"title\":{\"text\":\"R&D Inter-relations by Clusters\"},\"margin\":{\"t\":35,\"b\":35,\"l\":5,\"r\":5},\"showlegend\":true,\"width\":800,\"height\":400,\"autosize\":false},                        {\"responsive\": true}                    ).then(function(){\n",
       "                            \n",
       "var gd = document.getElementById('a39f733b-201e-4bf2-8a9a-c855d9195ac9');\n",
       "var x = new MutationObserver(function (mutations, observer) {{\n",
       "        var display = window.getComputedStyle(gd).display;\n",
       "        if (!display || display === 'none') {{\n",
       "            console.log([gd, 'removed!']);\n",
       "            Plotly.purge(gd);\n",
       "            observer.disconnect();\n",
       "        }}\n",
       "}});\n",
       "\n",
       "// Listen for the removal of the full notebook cells\n",
       "var notebookContainer = gd.closest('#notebook-container');\n",
       "if (notebookContainer) {{\n",
       "    x.observe(notebookContainer, {childList: true});\n",
       "}}\n",
       "\n",
       "// Listen for the clearing of the current output cell\n",
       "var outputEl = gd.closest('.output');\n",
       "if (outputEl) {{\n",
       "    x.observe(outputEl, {childList: true});\n",
       "}}\n",
       "\n",
       "                        })                };                });            </script>        </div>"
      ]
     },
     "metadata": {},
     "output_type": "display_data"
    }
   ],
   "source": [
    "fig = px.scatter_3d(df, x='Cluster', y='Research', z='Development', color='Total score', hover_name=\"Country\", \n",
    "                   title='R&D Inter-relations by Clusters')\n",
    "# Update visual layout\n",
    "fig.update_layout(\n",
    "    showlegend=True,\n",
    "    width=800,\n",
    "    height=400,\n",
    "    autosize=False,\n",
    "    margin=dict(t=35, b=35, l=5, r=5),\n",
    "    template=\"plotly_white\",\n",
    ")\n",
    "fig.show()"
   ]
  },
  {
   "cell_type": "code",
   "execution_count": null,
   "id": "75af93f1",
   "metadata": {
    "_kg_hide-input": true,
    "execution": {
     "iopub.execute_input": "2023-08-09T09:38:15.607834Z",
     "iopub.status.busy": "2023-08-09T09:38:15.607442Z",
     "iopub.status.idle": "2023-08-09T09:38:15.694763Z",
     "shell.execute_reply": "2023-08-09T09:38:15.693629Z"
    },
    "papermill": {
     "duration": 0.123734,
     "end_time": "2023-08-09T09:38:15.696983",
     "exception": false,
     "start_time": "2023-08-09T09:38:15.573249",
     "status": "completed"
    },
    "tags": []
   },
   "outputs": [
    {
     "data": {
      "text/html": [
       "<div>                            <div id=\"bcda822a-5c45-4afe-8953-2aeb725df5d6\" class=\"plotly-graph-div\" style=\"height:400px; width:800px;\"></div>            <script type=\"text/javascript\">                require([\"plotly\"], function(Plotly) {                    window.PLOTLYENV=window.PLOTLYENV || {};                                    if (document.getElementById(\"bcda822a-5c45-4afe-8953-2aeb725df5d6\")) {                    Plotly.newPlot(                        \"bcda822a-5c45-4afe-8953-2aeb725df5d6\",                        [{\"hovertemplate\":\"\\u003cb\\u003e%{hovertext}\\u003c\\u002fb\\u003e\\u003cbr\\u003e\\u003cbr\\u003eIncome group=%{x}\\u003cbr\\u003eResearch=%{y}\\u003cbr\\u003eDevelopment=%{z}\\u003cbr\\u003eTotal score=%{marker.color}\\u003cextra\\u003e\\u003c\\u002fextra\\u003e\",\"hovertext\":[\"United States of America\",\"China\",\"United Kingdom\",\"Canada\",\"Israel\",\"Singapore\",\"South Korea\",\"The Netherlands\",\"Germany\",\"France\",\"Australia\",\"Ireland\",\"Finland\",\"Denmark\",\"Luxembourg\",\"Japan\",\"India\",\"Switzerland\",\"Sweden\",\"Hong Kong\",\"Spain\",\"Austria\",\"Estonia\",\"Taiwan\",\"Norway\",\"Saudi Arabia\",\"Belgium\",\"Poland\",\"Slovenia\",\"New Zealand\",\"Italy\",\"Russia\",\"Malta\",\"United Arab Emirates\",\"Portugal\",\"Czech Republic\",\"Iceland\",\"Lithuania\",\"Brazil\",\"Greece\",\"Slovakia\",\"Hungary\",\"Malaysia\",\"Mexico\",\"Chile\",\"Argentina\",\"Qatar\",\"Turkey\",\"Colombia\",\"Uruguay\",\"Bahrain\",\"Vietnam\",\"Indonesia\",\"Tunisia\",\"South Africa\",\"Morocco\",\"Armenia\",\"Sri Lanka\",\"Egypt\",\"Kenya\",\"Nigeria\",\"Pakistan\"],\"legendgroup\":\"\",\"marker\":{\"color\":[100.0,62.92,40.93,40.19,39.89,38.67,38.6,36.35,36.04,34.42,33.86,33.04,31.36,30.87,30.73,30.53,30.36,30.25,29.85,29.11,26.95,26.89,26.6,25.79,25.77,25.6,25.52,25.2,25.19,24.88,24.45,21.99,21.85,21.17,20.89,20.31,19.81,19.59,18.89,17.33,17.24,17.0,16.66,15.48,15.33,15.24,14.66,14.39,13.85,13.27,11.79,11.62,11.47,9.87,9.71,8.87,8.49,6.62,4.83,2.3,1.38,0.0],\"coloraxis\":\"coloraxis\",\"symbol\":\"circle\"},\"mode\":\"markers\",\"name\":\"\",\"scene\":\"scene\",\"showlegend\":false,\"x\":[\"High\",\"Upper middle\",\"High\",\"High\",\"High\",\"High\",\"High\",\"High\",\"High\",\"High\",\"High\",\"High\",\"High\",\"High\",\"High\",\"High\",\"Lower middle\",\"High\",\"High\",\"High\",\"High\",\"High\",\"High\",\"High\",\"High\",\"High\",\"High\",\"High\",\"High\",\"High\",\"High\",\"Upper middle\",\"High\",\"High\",\"High\",\"High\",\"High\",\"High\",\"Upper middle\",\"High\",\"High\",\"High\",\"Upper middle\",\"Upper middle\",\"High\",\"Upper middle\",\"High\",\"High\",\"Upper middle\",\"High\",\"High\",\"Lower middle\",\"Lower middle\",\"Lower middle\",\"Upper middle\",\"Lower middle\",\"Upper middle\",\"Lower middle\",\"Lower middle\",\"Lower middle\",\"Lower middle\",\"Lower middle\"],\"y\":[100.0,71.42,36.5,30.67,32.63,37.67,26.66,25.54,35.84,25.48,32.63,16.79,25.21,26.01,19.39,22.51,18.92,38.24,27.61,31.51,18.6,23.56,11.75,25.71,21.18,13.63,22.15,10.6,19.1,12.23,20.3,14.21,5.96,5.13,8.96,11.26,18.29,3.22,4.83,15.12,2.97,4.31,5.57,8.11,1.49,1.25,11.94,9.53,0.0,0.73,2.53,2.03,0.98,3.9,0.83,1.46,0.28,0.12,2.08,0.07,0.45,2.17],\"z\":[100.0,79.97,25.03,25.78,27.96,22.55,77.25,30.17,24.79,21.44,41.15,30.85,18.32,8.92,19.95,34.47,30.86,23.11,17.81,8.63,10.87,17.81,9.31,19.99,13.56,14.38,19.81,9.09,1.06,5.96,14.66,19.48,11.72,15.53,3.92,2.7,0.19,6.18,5.07,2.21,0.34,5.4,0.88,4.46,0.67,3.19,0.0,1.02,0.89,0.26,0.0,0.3,3.52,0.0,7.52,0.05,0.33,0.95,1.54,12.15,2.06,1.09],\"type\":\"scatter3d\"}],                        {\"template\":{\"data\":{\"barpolar\":[{\"marker\":{\"line\":{\"color\":\"white\",\"width\":0.5},\"pattern\":{\"fillmode\":\"overlay\",\"size\":10,\"solidity\":0.2}},\"type\":\"barpolar\"}],\"bar\":[{\"error_x\":{\"color\":\"#2a3f5f\"},\"error_y\":{\"color\":\"#2a3f5f\"},\"marker\":{\"line\":{\"color\":\"white\",\"width\":0.5},\"pattern\":{\"fillmode\":\"overlay\",\"size\":10,\"solidity\":0.2}},\"type\":\"bar\"}],\"carpet\":[{\"aaxis\":{\"endlinecolor\":\"#2a3f5f\",\"gridcolor\":\"#C8D4E3\",\"linecolor\":\"#C8D4E3\",\"minorgridcolor\":\"#C8D4E3\",\"startlinecolor\":\"#2a3f5f\"},\"baxis\":{\"endlinecolor\":\"#2a3f5f\",\"gridcolor\":\"#C8D4E3\",\"linecolor\":\"#C8D4E3\",\"minorgridcolor\":\"#C8D4E3\",\"startlinecolor\":\"#2a3f5f\"},\"type\":\"carpet\"}],\"choropleth\":[{\"colorbar\":{\"outlinewidth\":0,\"ticks\":\"\"},\"type\":\"choropleth\"}],\"contourcarpet\":[{\"colorbar\":{\"outlinewidth\":0,\"ticks\":\"\"},\"type\":\"contourcarpet\"}],\"contour\":[{\"colorbar\":{\"outlinewidth\":0,\"ticks\":\"\"},\"colorscale\":[[0.0,\"#0d0887\"],[0.1111111111111111,\"#46039f\"],[0.2222222222222222,\"#7201a8\"],[0.3333333333333333,\"#9c179e\"],[0.4444444444444444,\"#bd3786\"],[0.5555555555555556,\"#d8576b\"],[0.6666666666666666,\"#ed7953\"],[0.7777777777777778,\"#fb9f3a\"],[0.8888888888888888,\"#fdca26\"],[1.0,\"#f0f921\"]],\"type\":\"contour\"}],\"heatmapgl\":[{\"colorbar\":{\"outlinewidth\":0,\"ticks\":\"\"},\"colorscale\":[[0.0,\"#0d0887\"],[0.1111111111111111,\"#46039f\"],[0.2222222222222222,\"#7201a8\"],[0.3333333333333333,\"#9c179e\"],[0.4444444444444444,\"#bd3786\"],[0.5555555555555556,\"#d8576b\"],[0.6666666666666666,\"#ed7953\"],[0.7777777777777778,\"#fb9f3a\"],[0.8888888888888888,\"#fdca26\"],[1.0,\"#f0f921\"]],\"type\":\"heatmapgl\"}],\"heatmap\":[{\"colorbar\":{\"outlinewidth\":0,\"ticks\":\"\"},\"colorscale\":[[0.0,\"#0d0887\"],[0.1111111111111111,\"#46039f\"],[0.2222222222222222,\"#7201a8\"],[0.3333333333333333,\"#9c179e\"],[0.4444444444444444,\"#bd3786\"],[0.5555555555555556,\"#d8576b\"],[0.6666666666666666,\"#ed7953\"],[0.7777777777777778,\"#fb9f3a\"],[0.8888888888888888,\"#fdca26\"],[1.0,\"#f0f921\"]],\"type\":\"heatmap\"}],\"histogram2dcontour\":[{\"colorbar\":{\"outlinewidth\":0,\"ticks\":\"\"},\"colorscale\":[[0.0,\"#0d0887\"],[0.1111111111111111,\"#46039f\"],[0.2222222222222222,\"#7201a8\"],[0.3333333333333333,\"#9c179e\"],[0.4444444444444444,\"#bd3786\"],[0.5555555555555556,\"#d8576b\"],[0.6666666666666666,\"#ed7953\"],[0.7777777777777778,\"#fb9f3a\"],[0.8888888888888888,\"#fdca26\"],[1.0,\"#f0f921\"]],\"type\":\"histogram2dcontour\"}],\"histogram2d\":[{\"colorbar\":{\"outlinewidth\":0,\"ticks\":\"\"},\"colorscale\":[[0.0,\"#0d0887\"],[0.1111111111111111,\"#46039f\"],[0.2222222222222222,\"#7201a8\"],[0.3333333333333333,\"#9c179e\"],[0.4444444444444444,\"#bd3786\"],[0.5555555555555556,\"#d8576b\"],[0.6666666666666666,\"#ed7953\"],[0.7777777777777778,\"#fb9f3a\"],[0.8888888888888888,\"#fdca26\"],[1.0,\"#f0f921\"]],\"type\":\"histogram2d\"}],\"histogram\":[{\"marker\":{\"pattern\":{\"fillmode\":\"overlay\",\"size\":10,\"solidity\":0.2}},\"type\":\"histogram\"}],\"mesh3d\":[{\"colorbar\":{\"outlinewidth\":0,\"ticks\":\"\"},\"type\":\"mesh3d\"}],\"parcoords\":[{\"line\":{\"colorbar\":{\"outlinewidth\":0,\"ticks\":\"\"}},\"type\":\"parcoords\"}],\"pie\":[{\"automargin\":true,\"type\":\"pie\"}],\"scatter3d\":[{\"line\":{\"colorbar\":{\"outlinewidth\":0,\"ticks\":\"\"}},\"marker\":{\"colorbar\":{\"outlinewidth\":0,\"ticks\":\"\"}},\"type\":\"scatter3d\"}],\"scattercarpet\":[{\"marker\":{\"colorbar\":{\"outlinewidth\":0,\"ticks\":\"\"}},\"type\":\"scattercarpet\"}],\"scattergeo\":[{\"marker\":{\"colorbar\":{\"outlinewidth\":0,\"ticks\":\"\"}},\"type\":\"scattergeo\"}],\"scattergl\":[{\"marker\":{\"colorbar\":{\"outlinewidth\":0,\"ticks\":\"\"}},\"type\":\"scattergl\"}],\"scattermapbox\":[{\"marker\":{\"colorbar\":{\"outlinewidth\":0,\"ticks\":\"\"}},\"type\":\"scattermapbox\"}],\"scatterpolargl\":[{\"marker\":{\"colorbar\":{\"outlinewidth\":0,\"ticks\":\"\"}},\"type\":\"scatterpolargl\"}],\"scatterpolar\":[{\"marker\":{\"colorbar\":{\"outlinewidth\":0,\"ticks\":\"\"}},\"type\":\"scatterpolar\"}],\"scatter\":[{\"fillpattern\":{\"fillmode\":\"overlay\",\"size\":10,\"solidity\":0.2},\"type\":\"scatter\"}],\"scatterternary\":[{\"marker\":{\"colorbar\":{\"outlinewidth\":0,\"ticks\":\"\"}},\"type\":\"scatterternary\"}],\"surface\":[{\"colorbar\":{\"outlinewidth\":0,\"ticks\":\"\"},\"colorscale\":[[0.0,\"#0d0887\"],[0.1111111111111111,\"#46039f\"],[0.2222222222222222,\"#7201a8\"],[0.3333333333333333,\"#9c179e\"],[0.4444444444444444,\"#bd3786\"],[0.5555555555555556,\"#d8576b\"],[0.6666666666666666,\"#ed7953\"],[0.7777777777777778,\"#fb9f3a\"],[0.8888888888888888,\"#fdca26\"],[1.0,\"#f0f921\"]],\"type\":\"surface\"}],\"table\":[{\"cells\":{\"fill\":{\"color\":\"#EBF0F8\"},\"line\":{\"color\":\"white\"}},\"header\":{\"fill\":{\"color\":\"#C8D4E3\"},\"line\":{\"color\":\"white\"}},\"type\":\"table\"}]},\"layout\":{\"annotationdefaults\":{\"arrowcolor\":\"#2a3f5f\",\"arrowhead\":0,\"arrowwidth\":1},\"autotypenumbers\":\"strict\",\"coloraxis\":{\"colorbar\":{\"outlinewidth\":0,\"ticks\":\"\"}},\"colorscale\":{\"diverging\":[[0,\"#8e0152\"],[0.1,\"#c51b7d\"],[0.2,\"#de77ae\"],[0.3,\"#f1b6da\"],[0.4,\"#fde0ef\"],[0.5,\"#f7f7f7\"],[0.6,\"#e6f5d0\"],[0.7,\"#b8e186\"],[0.8,\"#7fbc41\"],[0.9,\"#4d9221\"],[1,\"#276419\"]],\"sequential\":[[0.0,\"#0d0887\"],[0.1111111111111111,\"#46039f\"],[0.2222222222222222,\"#7201a8\"],[0.3333333333333333,\"#9c179e\"],[0.4444444444444444,\"#bd3786\"],[0.5555555555555556,\"#d8576b\"],[0.6666666666666666,\"#ed7953\"],[0.7777777777777778,\"#fb9f3a\"],[0.8888888888888888,\"#fdca26\"],[1.0,\"#f0f921\"]],\"sequentialminus\":[[0.0,\"#0d0887\"],[0.1111111111111111,\"#46039f\"],[0.2222222222222222,\"#7201a8\"],[0.3333333333333333,\"#9c179e\"],[0.4444444444444444,\"#bd3786\"],[0.5555555555555556,\"#d8576b\"],[0.6666666666666666,\"#ed7953\"],[0.7777777777777778,\"#fb9f3a\"],[0.8888888888888888,\"#fdca26\"],[1.0,\"#f0f921\"]]},\"colorway\":[\"#636efa\",\"#EF553B\",\"#00cc96\",\"#ab63fa\",\"#FFA15A\",\"#19d3f3\",\"#FF6692\",\"#B6E880\",\"#FF97FF\",\"#FECB52\"],\"font\":{\"color\":\"#2a3f5f\"},\"geo\":{\"bgcolor\":\"white\",\"lakecolor\":\"white\",\"landcolor\":\"white\",\"showlakes\":true,\"showland\":true,\"subunitcolor\":\"#C8D4E3\"},\"hoverlabel\":{\"align\":\"left\"},\"hovermode\":\"closest\",\"mapbox\":{\"style\":\"light\"},\"paper_bgcolor\":\"white\",\"plot_bgcolor\":\"white\",\"polar\":{\"angularaxis\":{\"gridcolor\":\"#EBF0F8\",\"linecolor\":\"#EBF0F8\",\"ticks\":\"\"},\"bgcolor\":\"white\",\"radialaxis\":{\"gridcolor\":\"#EBF0F8\",\"linecolor\":\"#EBF0F8\",\"ticks\":\"\"}},\"scene\":{\"xaxis\":{\"backgroundcolor\":\"white\",\"gridcolor\":\"#DFE8F3\",\"gridwidth\":2,\"linecolor\":\"#EBF0F8\",\"showbackground\":true,\"ticks\":\"\",\"zerolinecolor\":\"#EBF0F8\"},\"yaxis\":{\"backgroundcolor\":\"white\",\"gridcolor\":\"#DFE8F3\",\"gridwidth\":2,\"linecolor\":\"#EBF0F8\",\"showbackground\":true,\"ticks\":\"\",\"zerolinecolor\":\"#EBF0F8\"},\"zaxis\":{\"backgroundcolor\":\"white\",\"gridcolor\":\"#DFE8F3\",\"gridwidth\":2,\"linecolor\":\"#EBF0F8\",\"showbackground\":true,\"ticks\":\"\",\"zerolinecolor\":\"#EBF0F8\"}},\"shapedefaults\":{\"line\":{\"color\":\"#2a3f5f\"}},\"ternary\":{\"aaxis\":{\"gridcolor\":\"#DFE8F3\",\"linecolor\":\"#A2B1C6\",\"ticks\":\"\"},\"baxis\":{\"gridcolor\":\"#DFE8F3\",\"linecolor\":\"#A2B1C6\",\"ticks\":\"\"},\"bgcolor\":\"white\",\"caxis\":{\"gridcolor\":\"#DFE8F3\",\"linecolor\":\"#A2B1C6\",\"ticks\":\"\"}},\"title\":{\"x\":0.05},\"xaxis\":{\"automargin\":true,\"gridcolor\":\"#EBF0F8\",\"linecolor\":\"#EBF0F8\",\"ticks\":\"\",\"title\":{\"standoff\":15},\"zerolinecolor\":\"#EBF0F8\",\"zerolinewidth\":2},\"yaxis\":{\"automargin\":true,\"gridcolor\":\"#EBF0F8\",\"linecolor\":\"#EBF0F8\",\"ticks\":\"\",\"title\":{\"standoff\":15},\"zerolinecolor\":\"#EBF0F8\",\"zerolinewidth\":2}}},\"scene\":{\"domain\":{\"x\":[0.0,1.0],\"y\":[0.0,1.0]},\"xaxis\":{\"title\":{\"text\":\"Income group\"}},\"yaxis\":{\"title\":{\"text\":\"Research\"}},\"zaxis\":{\"title\":{\"text\":\"Development\"}}},\"coloraxis\":{\"colorbar\":{\"title\":{\"text\":\"Total score\"}},\"colorscale\":[[0.0,\"#0d0887\"],[0.1111111111111111,\"#46039f\"],[0.2222222222222222,\"#7201a8\"],[0.3333333333333333,\"#9c179e\"],[0.4444444444444444,\"#bd3786\"],[0.5555555555555556,\"#d8576b\"],[0.6666666666666666,\"#ed7953\"],[0.7777777777777778,\"#fb9f3a\"],[0.8888888888888888,\"#fdca26\"],[1.0,\"#f0f921\"]]},\"legend\":{\"tracegroupgap\":0},\"title\":{\"text\":\"R&D Inter-relations by Income groups\"},\"margin\":{\"t\":35,\"b\":35,\"l\":5,\"r\":5},\"showlegend\":true,\"width\":800,\"height\":400,\"autosize\":false},                        {\"responsive\": true}                    ).then(function(){\n",
       "                            \n",
       "var gd = document.getElementById('bcda822a-5c45-4afe-8953-2aeb725df5d6');\n",
       "var x = new MutationObserver(function (mutations, observer) {{\n",
       "        var display = window.getComputedStyle(gd).display;\n",
       "        if (!display || display === 'none') {{\n",
       "            console.log([gd, 'removed!']);\n",
       "            Plotly.purge(gd);\n",
       "            observer.disconnect();\n",
       "        }}\n",
       "}});\n",
       "\n",
       "// Listen for the removal of the full notebook cells\n",
       "var notebookContainer = gd.closest('#notebook-container');\n",
       "if (notebookContainer) {{\n",
       "    x.observe(notebookContainer, {childList: true});\n",
       "}}\n",
       "\n",
       "// Listen for the clearing of the current output cell\n",
       "var outputEl = gd.closest('.output');\n",
       "if (outputEl) {{\n",
       "    x.observe(outputEl, {childList: true});\n",
       "}}\n",
       "\n",
       "                        })                };                });            </script>        </div>"
      ]
     },
     "metadata": {},
     "output_type": "display_data"
    }
   ],
   "source": [
    "fig = px.scatter_3d(df, x='Income group', y='Research', z='Development', color='Total score', hover_name=\"Country\", \n",
    "                   title='R&D Inter-relations by Income groups')\n",
    "# Update visual layout\n",
    "fig.update_layout(\n",
    "    showlegend=True,\n",
    "    width=800,\n",
    "    height=400,\n",
    "    autosize=False,\n",
    "    margin=dict(t=35, b=35, l=5, r=5),\n",
    "    template=\"plotly_white\",\n",
    ")\n",
    "fig.show()"
   ]
  },
  {
   "cell_type": "code",
   "execution_count": null,
   "id": "980547b7",
   "metadata": {
    "_kg_hide-input": true,
    "execution": {
     "iopub.execute_input": "2023-08-09T09:38:15.764901Z",
     "iopub.status.busy": "2023-08-09T09:38:15.764485Z",
     "iopub.status.idle": "2023-08-09T09:38:15.852842Z",
     "shell.execute_reply": "2023-08-09T09:38:15.851828Z"
    },
    "papermill": {
     "duration": 0.125199,
     "end_time": "2023-08-09T09:38:15.855157",
     "exception": false,
     "start_time": "2023-08-09T09:38:15.729958",
     "status": "completed"
    },
    "tags": []
   },
   "outputs": [
    {
     "data": {
      "text/html": [
       "<div>                            <div id=\"d9beccf1-9255-442f-9109-5a73e5f99805\" class=\"plotly-graph-div\" style=\"height:400px; width:800px;\"></div>            <script type=\"text/javascript\">                require([\"plotly\"], function(Plotly) {                    window.PLOTLYENV=window.PLOTLYENV || {};                                    if (document.getElementById(\"d9beccf1-9255-442f-9109-5a73e5f99805\")) {                    Plotly.newPlot(                        \"d9beccf1-9255-442f-9109-5a73e5f99805\",                        [{\"hovertemplate\":\"\\u003cb\\u003e%{hovertext}\\u003c\\u002fb\\u003e\\u003cbr\\u003e\\u003cbr\\u003ePolitical regime=%{x}\\u003cbr\\u003eResearch=%{y}\\u003cbr\\u003eDevelopment=%{z}\\u003cbr\\u003eTotal score=%{marker.color}\\u003cextra\\u003e\\u003c\\u002fextra\\u003e\",\"hovertext\":[\"United States of America\",\"China\",\"United Kingdom\",\"Canada\",\"Israel\",\"Singapore\",\"South Korea\",\"The Netherlands\",\"Germany\",\"France\",\"Australia\",\"Ireland\",\"Finland\",\"Denmark\",\"Luxembourg\",\"Japan\",\"India\",\"Switzerland\",\"Sweden\",\"Hong Kong\",\"Spain\",\"Austria\",\"Estonia\",\"Taiwan\",\"Norway\",\"Saudi Arabia\",\"Belgium\",\"Poland\",\"Slovenia\",\"New Zealand\",\"Italy\",\"Russia\",\"Malta\",\"United Arab Emirates\",\"Portugal\",\"Czech Republic\",\"Iceland\",\"Lithuania\",\"Brazil\",\"Greece\",\"Slovakia\",\"Hungary\",\"Malaysia\",\"Mexico\",\"Chile\",\"Argentina\",\"Qatar\",\"Turkey\",\"Colombia\",\"Uruguay\",\"Bahrain\",\"Vietnam\",\"Indonesia\",\"Tunisia\",\"South Africa\",\"Morocco\",\"Armenia\",\"Sri Lanka\",\"Egypt\",\"Kenya\",\"Nigeria\",\"Pakistan\"],\"legendgroup\":\"\",\"marker\":{\"color\":[100.0,62.92,40.93,40.19,39.89,38.67,38.6,36.35,36.04,34.42,33.86,33.04,31.36,30.87,30.73,30.53,30.36,30.25,29.85,29.11,26.95,26.89,26.6,25.79,25.77,25.6,25.52,25.2,25.19,24.88,24.45,21.99,21.85,21.17,20.89,20.31,19.81,19.59,18.89,17.33,17.24,17.0,16.66,15.48,15.33,15.24,14.66,14.39,13.85,13.27,11.79,11.62,11.47,9.87,9.71,8.87,8.49,6.62,4.83,2.3,1.38,0.0],\"coloraxis\":\"coloraxis\",\"symbol\":\"circle\"},\"mode\":\"markers\",\"name\":\"\",\"scene\":\"scene\",\"showlegend\":false,\"x\":[\"Liberal democracy\",\"Closed autocracy\",\"Liberal democracy\",\"Liberal democracy\",\"Liberal democracy\",\"Electoral democracy\",\"Liberal democracy\",\"Liberal democracy\",\"Liberal democracy\",\"Liberal democracy\",\"Liberal democracy\",\"Liberal democracy\",\"Liberal democracy\",\"Liberal democracy\",\"Liberal democracy\",\"Liberal democracy\",\"Electoral autocracy\",\"Liberal democracy\",\"Liberal democracy\",\"Electoral democracy\",\"Liberal democracy\",\"Electoral democracy\",\"Liberal democracy\",\"Liberal democracy\",\"Liberal democracy\",\"Closed autocracy\",\"Liberal democracy\",\"Electoral democracy\",\"Electoral democracy\",\"Liberal democracy\",\"Liberal democracy\",\"Electoral autocracy\",\"Electoral democracy\",\"Closed autocracy\",\"Electoral democracy\",\"Electoral democracy\",\"Liberal democracy\",\"Electoral democracy\",\"Electoral democracy\",\"Liberal democracy\",\"Electoral democracy\",\"Electoral autocracy\",\"Electoral autocracy\",\"Electoral democracy\",\"Liberal democracy\",\"Electoral democracy\",\"Closed autocracy\",\"Electoral democracy\",\"Electoral democracy\",\"Liberal democracy\",\"Closed autocracy\",\"Closed autocracy\",\"Electoral democracy\",\"Electoral democracy\",\"Electoral democracy\",\"Closed autocracy\",\"Electoral democracy\",\"Electoral democracy\",\"Electoral autocracy\",\"Electoral autocracy\",\"Electoral autocracy\",\"Electoral autocracy\"],\"y\":[100.0,71.42,36.5,30.67,32.63,37.67,26.66,25.54,35.84,25.48,32.63,16.79,25.21,26.01,19.39,22.51,18.92,38.24,27.61,31.51,18.6,23.56,11.75,25.71,21.18,13.63,22.15,10.6,19.1,12.23,20.3,14.21,5.96,5.13,8.96,11.26,18.29,3.22,4.83,15.12,2.97,4.31,5.57,8.11,1.49,1.25,11.94,9.53,0.0,0.73,2.53,2.03,0.98,3.9,0.83,1.46,0.28,0.12,2.08,0.07,0.45,2.17],\"z\":[100.0,79.97,25.03,25.78,27.96,22.55,77.25,30.17,24.79,21.44,41.15,30.85,18.32,8.92,19.95,34.47,30.86,23.11,17.81,8.63,10.87,17.81,9.31,19.99,13.56,14.38,19.81,9.09,1.06,5.96,14.66,19.48,11.72,15.53,3.92,2.7,0.19,6.18,5.07,2.21,0.34,5.4,0.88,4.46,0.67,3.19,0.0,1.02,0.89,0.26,0.0,0.3,3.52,0.0,7.52,0.05,0.33,0.95,1.54,12.15,2.06,1.09],\"type\":\"scatter3d\"}],                        {\"template\":{\"data\":{\"barpolar\":[{\"marker\":{\"line\":{\"color\":\"white\",\"width\":0.5},\"pattern\":{\"fillmode\":\"overlay\",\"size\":10,\"solidity\":0.2}},\"type\":\"barpolar\"}],\"bar\":[{\"error_x\":{\"color\":\"#2a3f5f\"},\"error_y\":{\"color\":\"#2a3f5f\"},\"marker\":{\"line\":{\"color\":\"white\",\"width\":0.5},\"pattern\":{\"fillmode\":\"overlay\",\"size\":10,\"solidity\":0.2}},\"type\":\"bar\"}],\"carpet\":[{\"aaxis\":{\"endlinecolor\":\"#2a3f5f\",\"gridcolor\":\"#C8D4E3\",\"linecolor\":\"#C8D4E3\",\"minorgridcolor\":\"#C8D4E3\",\"startlinecolor\":\"#2a3f5f\"},\"baxis\":{\"endlinecolor\":\"#2a3f5f\",\"gridcolor\":\"#C8D4E3\",\"linecolor\":\"#C8D4E3\",\"minorgridcolor\":\"#C8D4E3\",\"startlinecolor\":\"#2a3f5f\"},\"type\":\"carpet\"}],\"choropleth\":[{\"colorbar\":{\"outlinewidth\":0,\"ticks\":\"\"},\"type\":\"choropleth\"}],\"contourcarpet\":[{\"colorbar\":{\"outlinewidth\":0,\"ticks\":\"\"},\"type\":\"contourcarpet\"}],\"contour\":[{\"colorbar\":{\"outlinewidth\":0,\"ticks\":\"\"},\"colorscale\":[[0.0,\"#0d0887\"],[0.1111111111111111,\"#46039f\"],[0.2222222222222222,\"#7201a8\"],[0.3333333333333333,\"#9c179e\"],[0.4444444444444444,\"#bd3786\"],[0.5555555555555556,\"#d8576b\"],[0.6666666666666666,\"#ed7953\"],[0.7777777777777778,\"#fb9f3a\"],[0.8888888888888888,\"#fdca26\"],[1.0,\"#f0f921\"]],\"type\":\"contour\"}],\"heatmapgl\":[{\"colorbar\":{\"outlinewidth\":0,\"ticks\":\"\"},\"colorscale\":[[0.0,\"#0d0887\"],[0.1111111111111111,\"#46039f\"],[0.2222222222222222,\"#7201a8\"],[0.3333333333333333,\"#9c179e\"],[0.4444444444444444,\"#bd3786\"],[0.5555555555555556,\"#d8576b\"],[0.6666666666666666,\"#ed7953\"],[0.7777777777777778,\"#fb9f3a\"],[0.8888888888888888,\"#fdca26\"],[1.0,\"#f0f921\"]],\"type\":\"heatmapgl\"}],\"heatmap\":[{\"colorbar\":{\"outlinewidth\":0,\"ticks\":\"\"},\"colorscale\":[[0.0,\"#0d0887\"],[0.1111111111111111,\"#46039f\"],[0.2222222222222222,\"#7201a8\"],[0.3333333333333333,\"#9c179e\"],[0.4444444444444444,\"#bd3786\"],[0.5555555555555556,\"#d8576b\"],[0.6666666666666666,\"#ed7953\"],[0.7777777777777778,\"#fb9f3a\"],[0.8888888888888888,\"#fdca26\"],[1.0,\"#f0f921\"]],\"type\":\"heatmap\"}],\"histogram2dcontour\":[{\"colorbar\":{\"outlinewidth\":0,\"ticks\":\"\"},\"colorscale\":[[0.0,\"#0d0887\"],[0.1111111111111111,\"#46039f\"],[0.2222222222222222,\"#7201a8\"],[0.3333333333333333,\"#9c179e\"],[0.4444444444444444,\"#bd3786\"],[0.5555555555555556,\"#d8576b\"],[0.6666666666666666,\"#ed7953\"],[0.7777777777777778,\"#fb9f3a\"],[0.8888888888888888,\"#fdca26\"],[1.0,\"#f0f921\"]],\"type\":\"histogram2dcontour\"}],\"histogram2d\":[{\"colorbar\":{\"outlinewidth\":0,\"ticks\":\"\"},\"colorscale\":[[0.0,\"#0d0887\"],[0.1111111111111111,\"#46039f\"],[0.2222222222222222,\"#7201a8\"],[0.3333333333333333,\"#9c179e\"],[0.4444444444444444,\"#bd3786\"],[0.5555555555555556,\"#d8576b\"],[0.6666666666666666,\"#ed7953\"],[0.7777777777777778,\"#fb9f3a\"],[0.8888888888888888,\"#fdca26\"],[1.0,\"#f0f921\"]],\"type\":\"histogram2d\"}],\"histogram\":[{\"marker\":{\"pattern\":{\"fillmode\":\"overlay\",\"size\":10,\"solidity\":0.2}},\"type\":\"histogram\"}],\"mesh3d\":[{\"colorbar\":{\"outlinewidth\":0,\"ticks\":\"\"},\"type\":\"mesh3d\"}],\"parcoords\":[{\"line\":{\"colorbar\":{\"outlinewidth\":0,\"ticks\":\"\"}},\"type\":\"parcoords\"}],\"pie\":[{\"automargin\":true,\"type\":\"pie\"}],\"scatter3d\":[{\"line\":{\"colorbar\":{\"outlinewidth\":0,\"ticks\":\"\"}},\"marker\":{\"colorbar\":{\"outlinewidth\":0,\"ticks\":\"\"}},\"type\":\"scatter3d\"}],\"scattercarpet\":[{\"marker\":{\"colorbar\":{\"outlinewidth\":0,\"ticks\":\"\"}},\"type\":\"scattercarpet\"}],\"scattergeo\":[{\"marker\":{\"colorbar\":{\"outlinewidth\":0,\"ticks\":\"\"}},\"type\":\"scattergeo\"}],\"scattergl\":[{\"marker\":{\"colorbar\":{\"outlinewidth\":0,\"ticks\":\"\"}},\"type\":\"scattergl\"}],\"scattermapbox\":[{\"marker\":{\"colorbar\":{\"outlinewidth\":0,\"ticks\":\"\"}},\"type\":\"scattermapbox\"}],\"scatterpolargl\":[{\"marker\":{\"colorbar\":{\"outlinewidth\":0,\"ticks\":\"\"}},\"type\":\"scatterpolargl\"}],\"scatterpolar\":[{\"marker\":{\"colorbar\":{\"outlinewidth\":0,\"ticks\":\"\"}},\"type\":\"scatterpolar\"}],\"scatter\":[{\"fillpattern\":{\"fillmode\":\"overlay\",\"size\":10,\"solidity\":0.2},\"type\":\"scatter\"}],\"scatterternary\":[{\"marker\":{\"colorbar\":{\"outlinewidth\":0,\"ticks\":\"\"}},\"type\":\"scatterternary\"}],\"surface\":[{\"colorbar\":{\"outlinewidth\":0,\"ticks\":\"\"},\"colorscale\":[[0.0,\"#0d0887\"],[0.1111111111111111,\"#46039f\"],[0.2222222222222222,\"#7201a8\"],[0.3333333333333333,\"#9c179e\"],[0.4444444444444444,\"#bd3786\"],[0.5555555555555556,\"#d8576b\"],[0.6666666666666666,\"#ed7953\"],[0.7777777777777778,\"#fb9f3a\"],[0.8888888888888888,\"#fdca26\"],[1.0,\"#f0f921\"]],\"type\":\"surface\"}],\"table\":[{\"cells\":{\"fill\":{\"color\":\"#EBF0F8\"},\"line\":{\"color\":\"white\"}},\"header\":{\"fill\":{\"color\":\"#C8D4E3\"},\"line\":{\"color\":\"white\"}},\"type\":\"table\"}]},\"layout\":{\"annotationdefaults\":{\"arrowcolor\":\"#2a3f5f\",\"arrowhead\":0,\"arrowwidth\":1},\"autotypenumbers\":\"strict\",\"coloraxis\":{\"colorbar\":{\"outlinewidth\":0,\"ticks\":\"\"}},\"colorscale\":{\"diverging\":[[0,\"#8e0152\"],[0.1,\"#c51b7d\"],[0.2,\"#de77ae\"],[0.3,\"#f1b6da\"],[0.4,\"#fde0ef\"],[0.5,\"#f7f7f7\"],[0.6,\"#e6f5d0\"],[0.7,\"#b8e186\"],[0.8,\"#7fbc41\"],[0.9,\"#4d9221\"],[1,\"#276419\"]],\"sequential\":[[0.0,\"#0d0887\"],[0.1111111111111111,\"#46039f\"],[0.2222222222222222,\"#7201a8\"],[0.3333333333333333,\"#9c179e\"],[0.4444444444444444,\"#bd3786\"],[0.5555555555555556,\"#d8576b\"],[0.6666666666666666,\"#ed7953\"],[0.7777777777777778,\"#fb9f3a\"],[0.8888888888888888,\"#fdca26\"],[1.0,\"#f0f921\"]],\"sequentialminus\":[[0.0,\"#0d0887\"],[0.1111111111111111,\"#46039f\"],[0.2222222222222222,\"#7201a8\"],[0.3333333333333333,\"#9c179e\"],[0.4444444444444444,\"#bd3786\"],[0.5555555555555556,\"#d8576b\"],[0.6666666666666666,\"#ed7953\"],[0.7777777777777778,\"#fb9f3a\"],[0.8888888888888888,\"#fdca26\"],[1.0,\"#f0f921\"]]},\"colorway\":[\"#636efa\",\"#EF553B\",\"#00cc96\",\"#ab63fa\",\"#FFA15A\",\"#19d3f3\",\"#FF6692\",\"#B6E880\",\"#FF97FF\",\"#FECB52\"],\"font\":{\"color\":\"#2a3f5f\"},\"geo\":{\"bgcolor\":\"white\",\"lakecolor\":\"white\",\"landcolor\":\"white\",\"showlakes\":true,\"showland\":true,\"subunitcolor\":\"#C8D4E3\"},\"hoverlabel\":{\"align\":\"left\"},\"hovermode\":\"closest\",\"mapbox\":{\"style\":\"light\"},\"paper_bgcolor\":\"white\",\"plot_bgcolor\":\"white\",\"polar\":{\"angularaxis\":{\"gridcolor\":\"#EBF0F8\",\"linecolor\":\"#EBF0F8\",\"ticks\":\"\"},\"bgcolor\":\"white\",\"radialaxis\":{\"gridcolor\":\"#EBF0F8\",\"linecolor\":\"#EBF0F8\",\"ticks\":\"\"}},\"scene\":{\"xaxis\":{\"backgroundcolor\":\"white\",\"gridcolor\":\"#DFE8F3\",\"gridwidth\":2,\"linecolor\":\"#EBF0F8\",\"showbackground\":true,\"ticks\":\"\",\"zerolinecolor\":\"#EBF0F8\"},\"yaxis\":{\"backgroundcolor\":\"white\",\"gridcolor\":\"#DFE8F3\",\"gridwidth\":2,\"linecolor\":\"#EBF0F8\",\"showbackground\":true,\"ticks\":\"\",\"zerolinecolor\":\"#EBF0F8\"},\"zaxis\":{\"backgroundcolor\":\"white\",\"gridcolor\":\"#DFE8F3\",\"gridwidth\":2,\"linecolor\":\"#EBF0F8\",\"showbackground\":true,\"ticks\":\"\",\"zerolinecolor\":\"#EBF0F8\"}},\"shapedefaults\":{\"line\":{\"color\":\"#2a3f5f\"}},\"ternary\":{\"aaxis\":{\"gridcolor\":\"#DFE8F3\",\"linecolor\":\"#A2B1C6\",\"ticks\":\"\"},\"baxis\":{\"gridcolor\":\"#DFE8F3\",\"linecolor\":\"#A2B1C6\",\"ticks\":\"\"},\"bgcolor\":\"white\",\"caxis\":{\"gridcolor\":\"#DFE8F3\",\"linecolor\":\"#A2B1C6\",\"ticks\":\"\"}},\"title\":{\"x\":0.05},\"xaxis\":{\"automargin\":true,\"gridcolor\":\"#EBF0F8\",\"linecolor\":\"#EBF0F8\",\"ticks\":\"\",\"title\":{\"standoff\":15},\"zerolinecolor\":\"#EBF0F8\",\"zerolinewidth\":2},\"yaxis\":{\"automargin\":true,\"gridcolor\":\"#EBF0F8\",\"linecolor\":\"#EBF0F8\",\"ticks\":\"\",\"title\":{\"standoff\":15},\"zerolinecolor\":\"#EBF0F8\",\"zerolinewidth\":2}}},\"scene\":{\"domain\":{\"x\":[0.0,1.0],\"y\":[0.0,1.0]},\"xaxis\":{\"title\":{\"text\":\"Political regime\"}},\"yaxis\":{\"title\":{\"text\":\"Research\"}},\"zaxis\":{\"title\":{\"text\":\"Development\"}}},\"coloraxis\":{\"colorbar\":{\"title\":{\"text\":\"Total score\"}},\"colorscale\":[[0.0,\"#0d0887\"],[0.1111111111111111,\"#46039f\"],[0.2222222222222222,\"#7201a8\"],[0.3333333333333333,\"#9c179e\"],[0.4444444444444444,\"#bd3786\"],[0.5555555555555556,\"#d8576b\"],[0.6666666666666666,\"#ed7953\"],[0.7777777777777778,\"#fb9f3a\"],[0.8888888888888888,\"#fdca26\"],[1.0,\"#f0f921\"]]},\"legend\":{\"tracegroupgap\":0},\"title\":{\"text\":\"R&D Inter-relations by Political regimes\"},\"margin\":{\"t\":35,\"b\":35,\"l\":5,\"r\":5},\"showlegend\":true,\"width\":800,\"height\":400,\"autosize\":false},                        {\"responsive\": true}                    ).then(function(){\n",
       "                            \n",
       "var gd = document.getElementById('d9beccf1-9255-442f-9109-5a73e5f99805');\n",
       "var x = new MutationObserver(function (mutations, observer) {{\n",
       "        var display = window.getComputedStyle(gd).display;\n",
       "        if (!display || display === 'none') {{\n",
       "            console.log([gd, 'removed!']);\n",
       "            Plotly.purge(gd);\n",
       "            observer.disconnect();\n",
       "        }}\n",
       "}});\n",
       "\n",
       "// Listen for the removal of the full notebook cells\n",
       "var notebookContainer = gd.closest('#notebook-container');\n",
       "if (notebookContainer) {{\n",
       "    x.observe(notebookContainer, {childList: true});\n",
       "}}\n",
       "\n",
       "// Listen for the clearing of the current output cell\n",
       "var outputEl = gd.closest('.output');\n",
       "if (outputEl) {{\n",
       "    x.observe(outputEl, {childList: true});\n",
       "}}\n",
       "\n",
       "                        })                };                });            </script>        </div>"
      ]
     },
     "metadata": {},
     "output_type": "display_data"
    }
   ],
   "source": [
    "fig = px.scatter_3d(df, x='Political regime', y='Research', z='Development', color='Total score', hover_name=\"Country\", \n",
    "                   title='R&D Inter-relations by Political regimes')\n",
    "# Update visual layout\n",
    "fig.update_layout(\n",
    "    showlegend=True,\n",
    "    width=800,\n",
    "    height=400,\n",
    "    autosize=False,\n",
    "    margin=dict(t=35, b=35, l=5, r=5),\n",
    "    template=\"plotly_white\",\n",
    ")\n",
    "fig.show()"
   ]
  },
  {
   "cell_type": "markdown",
   "id": "63894750",
   "metadata": {
    "papermill": {
     "duration": 0.033366,
     "end_time": "2023-08-09T09:38:15.922182",
     "exception": false,
     "start_time": "2023-08-09T09:38:15.888816",
     "status": "completed"
    },
    "tags": []
   },
   "source": [
    "The charts above confirms what [Global AI Race: Dominant Players and Aspiring Challengers](https://intersog.com/blog/ai-dominant-players-and-aspiring-challengers/) conveys on the AI Innovation indicators\n",
    "\n",
    "<blockquote>\n",
    "    <div class=\"alert alert-block alert-info\"> ✅ <b>US Specialists Are Generating More AI Ideas.</b>\n",
    "The Research indicator analyzes the degree of specialization among researchers and their research activities, specifically focusing on quantifying the number of publications and citations in reputable scholarly journals. This complex indicator accounts for total spending on research and development, the absolute and relative number of AI-related articles, researchers, and universities with AI-related courses.<br><br>\n",
    "\n",
    "The global state of the AI Research indicator is unpleasant — only two countries have scored higher than 50, one of which is the United States (a score is 100). It’s not surprising since we have already found that the country has the most specialists related to AI. The second country is China (a score of 71,4); it has been investing heavily in AI and technology education in recent years to become a global leader in the AI sphere. The following three countries on the top-5 list are Switzerland, Singapore, and the United Kingdom. \n",
    "    </div>\n",
    "    <div class=\"alert alert-block alert-info\"> ✅ <b>AI Development in the USA Is at the Highest Level.</b> The group of Development indicators focuses on fundamental platforms and algorithms development upon which innovative artificial intelligence projects rely. It includes the absolute and relative number of software developers who are core creators of open-source \"AI packages,\" the number of commits to \"open-source AI packages,\" the number of patents relating to \"AI,\" etc.<br>\n",
    "\n",
    "Globally, only three countries are on a high level of development in the AI field; they are the USA (a score is 100), China (a score is 80), and South Korea (a score is 77,3). The score of other countries is lower than 50. To complete the top-5 list, - the last two countries are Australia and Japan.\n",
    "    </div>\n",
    "        <div class=\"alert alert-block alert-info\"> 🚩 <b>Generic note:</b> The Top 5 countries with the highest level of innovation in AI are the United States, China, South Korea, Australia, and Switzerland. However, only the first two have an innovation score higher than 50. It testifies to the low level of AI development among the countries (in comparison with the leader - the USA) despite the shreds of evidence of AI worldwide exponential growth. \n",
    "    </div>\n",
    "</blockquote>\n",
    "\n",
    "<div class=\"alert alert-block alert-info\"> 🔅 <b>Note</b>: Additionally, we can observe the interesting 'outlier' represented by <b>South Korea</b>. This country demonstrates quite a low value of AI Research while its AI Development index is within the top 5 list for the entire dataset. It can idicate the country to become a powerful hub for prototyping various AI-centric solutions, products, and hardware where the ideas/patents proposed by the specialists from other countries are being 'productized'/validated by the practical applications.\n",
    "</div>"
   ]
  },
  {
   "cell_type": "markdown",
   "id": "c7c35f93",
   "metadata": {
    "papermill": {
     "duration": 0.033392,
     "end_time": "2023-08-09T09:38:15.989356",
     "exception": false,
     "start_time": "2023-08-09T09:38:15.955964",
     "status": "completed"
    },
    "tags": []
   },
   "source": [
    "# <div style=\"color:white;background-color:#1d1545;padding:3%;border-radius:50px 50px;font-size:1em;text-align:center\">Holistic View on AI Investments</div>\n",
    "\n",
    "Investment metrics reflect financial and procedural commitments to artificial intelligence. Tortoise Media divides these metrics into two groups of indexes - Government Strategy and Commercial."
   ]
  },
  {
   "cell_type": "code",
   "execution_count": null,
   "id": "8b1d5d76",
   "metadata": {
    "_kg_hide-input": true,
    "execution": {
     "iopub.execute_input": "2023-08-09T09:38:16.059624Z",
     "iopub.status.busy": "2023-08-09T09:38:16.058562Z",
     "iopub.status.idle": "2023-08-09T09:38:16.147511Z",
     "shell.execute_reply": "2023-08-09T09:38:16.146506Z"
    },
    "papermill": {
     "duration": 0.126797,
     "end_time": "2023-08-09T09:38:16.149713",
     "exception": false,
     "start_time": "2023-08-09T09:38:16.022916",
     "status": "completed"
    },
    "tags": []
   },
   "outputs": [
    {
     "data": {
      "text/html": [
       "<div>                            <div id=\"c47544ad-f4d0-4e2f-86e5-24ceab3cc2ea\" class=\"plotly-graph-div\" style=\"height:400px; width:800px;\"></div>            <script type=\"text/javascript\">                require([\"plotly\"], function(Plotly) {                    window.PLOTLYENV=window.PLOTLYENV || {};                                    if (document.getElementById(\"c47544ad-f4d0-4e2f-86e5-24ceab3cc2ea\")) {                    Plotly.newPlot(                        \"c47544ad-f4d0-4e2f-86e5-24ceab3cc2ea\",                        [{\"hovertemplate\":\"\\u003cb\\u003e%{hovertext}\\u003c\\u002fb\\u003e\\u003cbr\\u003e\\u003cbr\\u003eRegion=%{x}\\u003cbr\\u003eGovernment Strategy=%{y}\\u003cbr\\u003eCommercial=%{z}\\u003cbr\\u003eTotal score=%{marker.color}\\u003cextra\\u003e\\u003c\\u002fextra\\u003e\",\"hovertext\":[\"United States of America\",\"China\",\"United Kingdom\",\"Canada\",\"Israel\",\"Singapore\",\"South Korea\",\"The Netherlands\",\"Germany\",\"France\",\"Australia\",\"Ireland\",\"Finland\",\"Denmark\",\"Luxembourg\",\"Japan\",\"India\",\"Switzerland\",\"Sweden\",\"Hong Kong\",\"Spain\",\"Austria\",\"Estonia\",\"Taiwan\",\"Norway\",\"Saudi Arabia\",\"Belgium\",\"Poland\",\"Slovenia\",\"New Zealand\",\"Italy\",\"Russia\",\"Malta\",\"United Arab Emirates\",\"Portugal\",\"Czech Republic\",\"Iceland\",\"Lithuania\",\"Brazil\",\"Greece\",\"Slovakia\",\"Hungary\",\"Malaysia\",\"Mexico\",\"Chile\",\"Argentina\",\"Qatar\",\"Turkey\",\"Colombia\",\"Uruguay\",\"Bahrain\",\"Vietnam\",\"Indonesia\",\"Tunisia\",\"South Africa\",\"Morocco\",\"Armenia\",\"Sri Lanka\",\"Egypt\",\"Kenya\",\"Nigeria\",\"Pakistan\"],\"legendgroup\":\"\",\"marker\":{\"color\":[100.0,62.92,40.93,40.19,39.89,38.67,38.6,36.35,36.04,34.42,33.86,33.04,31.36,30.87,30.73,30.53,30.36,30.25,29.85,29.11,26.95,26.89,26.6,25.79,25.77,25.6,25.52,25.2,25.19,24.88,24.45,21.99,21.85,21.17,20.89,20.31,19.81,19.59,18.89,17.33,17.24,17.0,16.66,15.48,15.33,15.24,14.66,14.39,13.85,13.27,11.79,11.62,11.47,9.87,9.71,8.87,8.49,6.62,4.83,2.3,1.38,0.0],\"coloraxis\":\"coloraxis\",\"symbol\":\"circle\"},\"mode\":\"markers\",\"name\":\"\",\"scene\":\"scene\",\"showlegend\":false,\"x\":[\"Americas\",\"Asia-Pacific\",\"Europe\",\"Americas\",\"Middle East\",\"Asia-Pacific\",\"Asia-Pacific\",\"Europe\",\"Europe\",\"Europe\",\"Asia-Pacific\",\"Europe\",\"Europe\",\"Europe\",\"Europe\",\"Asia-Pacific\",\"Asia-Pacific\",\"Europe\",\"Europe\",\"Asia-Pacific\",\"Europe\",\"Europe\",\"Europe\",\"Asia-Pacific\",\"Europe\",\"Middle East\",\"Europe\",\"Europe\",\"Europe\",\"Asia-Pacific\",\"Europe\",\"Europe\",\"Europe\",\"Middle East\",\"Europe\",\"Europe\",\"Europe\",\"Europe\",\"Americas\",\"Europe\",\"Europe\",\"Europe\",\"Asia-Pacific\",\"Americas\",\"Americas\",\"Americas\",\"Middle East\",\"Europe\",\"Americas\",\"Americas\",\"Middle East\",\"Asia-Pacific\",\"Asia-Pacific\",\"Africa\",\"Africa\",\"Africa\",\"Europe\",\"Asia-Pacific\",\"Middle East\",\"Africa\",\"Africa\",\"Asia-Pacific\"],\"y\":[77.39,94.87,82.82,100.0,43.91,79.82,87.5,62.35,84.65,91.2,82.11,69.44,85.99,74.23,66.69,71.96,58.83,12.18,40.35,33.29,91.28,72.14,72.08,55.97,59.05,91.63,63.58,78.14,80.38,47.62,61.43,90.4,70.49,81.38,70.69,70.29,22.15,64.28,67.72,22.15,43.07,55.01,47.6,54.21,60.5,54.94,33.49,67.45,85.29,30.92,17.72,68.86,59.99,12.18,0.0,15.9,14.4,35.57,68.72,7.75,7.75,13.92],\"z\":[100.0,44.02,18.91,14.88,27.33,15.07,5.41,4.97,8.29,7.65,6.72,3.94,4.64,3.46,4.68,7.31,7.39,7.76,4.51,5.3,3.08,3.08,12.51,2.53,3.95,4.73,5.31,2.25,0.61,2.49,2.64,1.38,4.3,3.22,2.05,1.75,5.74,1.77,1.36,0.92,0.67,1.08,0.63,0.78,2.95,0.34,0.0,0.95,0.5,0.43,0.24,0.31,0.91,0.15,2.03,0.1,1.37,0.09,0.31,0.31,0.33,0.27],\"type\":\"scatter3d\"}],                        {\"template\":{\"data\":{\"barpolar\":[{\"marker\":{\"line\":{\"color\":\"white\",\"width\":0.5},\"pattern\":{\"fillmode\":\"overlay\",\"size\":10,\"solidity\":0.2}},\"type\":\"barpolar\"}],\"bar\":[{\"error_x\":{\"color\":\"#2a3f5f\"},\"error_y\":{\"color\":\"#2a3f5f\"},\"marker\":{\"line\":{\"color\":\"white\",\"width\":0.5},\"pattern\":{\"fillmode\":\"overlay\",\"size\":10,\"solidity\":0.2}},\"type\":\"bar\"}],\"carpet\":[{\"aaxis\":{\"endlinecolor\":\"#2a3f5f\",\"gridcolor\":\"#C8D4E3\",\"linecolor\":\"#C8D4E3\",\"minorgridcolor\":\"#C8D4E3\",\"startlinecolor\":\"#2a3f5f\"},\"baxis\":{\"endlinecolor\":\"#2a3f5f\",\"gridcolor\":\"#C8D4E3\",\"linecolor\":\"#C8D4E3\",\"minorgridcolor\":\"#C8D4E3\",\"startlinecolor\":\"#2a3f5f\"},\"type\":\"carpet\"}],\"choropleth\":[{\"colorbar\":{\"outlinewidth\":0,\"ticks\":\"\"},\"type\":\"choropleth\"}],\"contourcarpet\":[{\"colorbar\":{\"outlinewidth\":0,\"ticks\":\"\"},\"type\":\"contourcarpet\"}],\"contour\":[{\"colorbar\":{\"outlinewidth\":0,\"ticks\":\"\"},\"colorscale\":[[0.0,\"#0d0887\"],[0.1111111111111111,\"#46039f\"],[0.2222222222222222,\"#7201a8\"],[0.3333333333333333,\"#9c179e\"],[0.4444444444444444,\"#bd3786\"],[0.5555555555555556,\"#d8576b\"],[0.6666666666666666,\"#ed7953\"],[0.7777777777777778,\"#fb9f3a\"],[0.8888888888888888,\"#fdca26\"],[1.0,\"#f0f921\"]],\"type\":\"contour\"}],\"heatmapgl\":[{\"colorbar\":{\"outlinewidth\":0,\"ticks\":\"\"},\"colorscale\":[[0.0,\"#0d0887\"],[0.1111111111111111,\"#46039f\"],[0.2222222222222222,\"#7201a8\"],[0.3333333333333333,\"#9c179e\"],[0.4444444444444444,\"#bd3786\"],[0.5555555555555556,\"#d8576b\"],[0.6666666666666666,\"#ed7953\"],[0.7777777777777778,\"#fb9f3a\"],[0.8888888888888888,\"#fdca26\"],[1.0,\"#f0f921\"]],\"type\":\"heatmapgl\"}],\"heatmap\":[{\"colorbar\":{\"outlinewidth\":0,\"ticks\":\"\"},\"colorscale\":[[0.0,\"#0d0887\"],[0.1111111111111111,\"#46039f\"],[0.2222222222222222,\"#7201a8\"],[0.3333333333333333,\"#9c179e\"],[0.4444444444444444,\"#bd3786\"],[0.5555555555555556,\"#d8576b\"],[0.6666666666666666,\"#ed7953\"],[0.7777777777777778,\"#fb9f3a\"],[0.8888888888888888,\"#fdca26\"],[1.0,\"#f0f921\"]],\"type\":\"heatmap\"}],\"histogram2dcontour\":[{\"colorbar\":{\"outlinewidth\":0,\"ticks\":\"\"},\"colorscale\":[[0.0,\"#0d0887\"],[0.1111111111111111,\"#46039f\"],[0.2222222222222222,\"#7201a8\"],[0.3333333333333333,\"#9c179e\"],[0.4444444444444444,\"#bd3786\"],[0.5555555555555556,\"#d8576b\"],[0.6666666666666666,\"#ed7953\"],[0.7777777777777778,\"#fb9f3a\"],[0.8888888888888888,\"#fdca26\"],[1.0,\"#f0f921\"]],\"type\":\"histogram2dcontour\"}],\"histogram2d\":[{\"colorbar\":{\"outlinewidth\":0,\"ticks\":\"\"},\"colorscale\":[[0.0,\"#0d0887\"],[0.1111111111111111,\"#46039f\"],[0.2222222222222222,\"#7201a8\"],[0.3333333333333333,\"#9c179e\"],[0.4444444444444444,\"#bd3786\"],[0.5555555555555556,\"#d8576b\"],[0.6666666666666666,\"#ed7953\"],[0.7777777777777778,\"#fb9f3a\"],[0.8888888888888888,\"#fdca26\"],[1.0,\"#f0f921\"]],\"type\":\"histogram2d\"}],\"histogram\":[{\"marker\":{\"pattern\":{\"fillmode\":\"overlay\",\"size\":10,\"solidity\":0.2}},\"type\":\"histogram\"}],\"mesh3d\":[{\"colorbar\":{\"outlinewidth\":0,\"ticks\":\"\"},\"type\":\"mesh3d\"}],\"parcoords\":[{\"line\":{\"colorbar\":{\"outlinewidth\":0,\"ticks\":\"\"}},\"type\":\"parcoords\"}],\"pie\":[{\"automargin\":true,\"type\":\"pie\"}],\"scatter3d\":[{\"line\":{\"colorbar\":{\"outlinewidth\":0,\"ticks\":\"\"}},\"marker\":{\"colorbar\":{\"outlinewidth\":0,\"ticks\":\"\"}},\"type\":\"scatter3d\"}],\"scattercarpet\":[{\"marker\":{\"colorbar\":{\"outlinewidth\":0,\"ticks\":\"\"}},\"type\":\"scattercarpet\"}],\"scattergeo\":[{\"marker\":{\"colorbar\":{\"outlinewidth\":0,\"ticks\":\"\"}},\"type\":\"scattergeo\"}],\"scattergl\":[{\"marker\":{\"colorbar\":{\"outlinewidth\":0,\"ticks\":\"\"}},\"type\":\"scattergl\"}],\"scattermapbox\":[{\"marker\":{\"colorbar\":{\"outlinewidth\":0,\"ticks\":\"\"}},\"type\":\"scattermapbox\"}],\"scatterpolargl\":[{\"marker\":{\"colorbar\":{\"outlinewidth\":0,\"ticks\":\"\"}},\"type\":\"scatterpolargl\"}],\"scatterpolar\":[{\"marker\":{\"colorbar\":{\"outlinewidth\":0,\"ticks\":\"\"}},\"type\":\"scatterpolar\"}],\"scatter\":[{\"fillpattern\":{\"fillmode\":\"overlay\",\"size\":10,\"solidity\":0.2},\"type\":\"scatter\"}],\"scatterternary\":[{\"marker\":{\"colorbar\":{\"outlinewidth\":0,\"ticks\":\"\"}},\"type\":\"scatterternary\"}],\"surface\":[{\"colorbar\":{\"outlinewidth\":0,\"ticks\":\"\"},\"colorscale\":[[0.0,\"#0d0887\"],[0.1111111111111111,\"#46039f\"],[0.2222222222222222,\"#7201a8\"],[0.3333333333333333,\"#9c179e\"],[0.4444444444444444,\"#bd3786\"],[0.5555555555555556,\"#d8576b\"],[0.6666666666666666,\"#ed7953\"],[0.7777777777777778,\"#fb9f3a\"],[0.8888888888888888,\"#fdca26\"],[1.0,\"#f0f921\"]],\"type\":\"surface\"}],\"table\":[{\"cells\":{\"fill\":{\"color\":\"#EBF0F8\"},\"line\":{\"color\":\"white\"}},\"header\":{\"fill\":{\"color\":\"#C8D4E3\"},\"line\":{\"color\":\"white\"}},\"type\":\"table\"}]},\"layout\":{\"annotationdefaults\":{\"arrowcolor\":\"#2a3f5f\",\"arrowhead\":0,\"arrowwidth\":1},\"autotypenumbers\":\"strict\",\"coloraxis\":{\"colorbar\":{\"outlinewidth\":0,\"ticks\":\"\"}},\"colorscale\":{\"diverging\":[[0,\"#8e0152\"],[0.1,\"#c51b7d\"],[0.2,\"#de77ae\"],[0.3,\"#f1b6da\"],[0.4,\"#fde0ef\"],[0.5,\"#f7f7f7\"],[0.6,\"#e6f5d0\"],[0.7,\"#b8e186\"],[0.8,\"#7fbc41\"],[0.9,\"#4d9221\"],[1,\"#276419\"]],\"sequential\":[[0.0,\"#0d0887\"],[0.1111111111111111,\"#46039f\"],[0.2222222222222222,\"#7201a8\"],[0.3333333333333333,\"#9c179e\"],[0.4444444444444444,\"#bd3786\"],[0.5555555555555556,\"#d8576b\"],[0.6666666666666666,\"#ed7953\"],[0.7777777777777778,\"#fb9f3a\"],[0.8888888888888888,\"#fdca26\"],[1.0,\"#f0f921\"]],\"sequentialminus\":[[0.0,\"#0d0887\"],[0.1111111111111111,\"#46039f\"],[0.2222222222222222,\"#7201a8\"],[0.3333333333333333,\"#9c179e\"],[0.4444444444444444,\"#bd3786\"],[0.5555555555555556,\"#d8576b\"],[0.6666666666666666,\"#ed7953\"],[0.7777777777777778,\"#fb9f3a\"],[0.8888888888888888,\"#fdca26\"],[1.0,\"#f0f921\"]]},\"colorway\":[\"#636efa\",\"#EF553B\",\"#00cc96\",\"#ab63fa\",\"#FFA15A\",\"#19d3f3\",\"#FF6692\",\"#B6E880\",\"#FF97FF\",\"#FECB52\"],\"font\":{\"color\":\"#2a3f5f\"},\"geo\":{\"bgcolor\":\"white\",\"lakecolor\":\"white\",\"landcolor\":\"white\",\"showlakes\":true,\"showland\":true,\"subunitcolor\":\"#C8D4E3\"},\"hoverlabel\":{\"align\":\"left\"},\"hovermode\":\"closest\",\"mapbox\":{\"style\":\"light\"},\"paper_bgcolor\":\"white\",\"plot_bgcolor\":\"white\",\"polar\":{\"angularaxis\":{\"gridcolor\":\"#EBF0F8\",\"linecolor\":\"#EBF0F8\",\"ticks\":\"\"},\"bgcolor\":\"white\",\"radialaxis\":{\"gridcolor\":\"#EBF0F8\",\"linecolor\":\"#EBF0F8\",\"ticks\":\"\"}},\"scene\":{\"xaxis\":{\"backgroundcolor\":\"white\",\"gridcolor\":\"#DFE8F3\",\"gridwidth\":2,\"linecolor\":\"#EBF0F8\",\"showbackground\":true,\"ticks\":\"\",\"zerolinecolor\":\"#EBF0F8\"},\"yaxis\":{\"backgroundcolor\":\"white\",\"gridcolor\":\"#DFE8F3\",\"gridwidth\":2,\"linecolor\":\"#EBF0F8\",\"showbackground\":true,\"ticks\":\"\",\"zerolinecolor\":\"#EBF0F8\"},\"zaxis\":{\"backgroundcolor\":\"white\",\"gridcolor\":\"#DFE8F3\",\"gridwidth\":2,\"linecolor\":\"#EBF0F8\",\"showbackground\":true,\"ticks\":\"\",\"zerolinecolor\":\"#EBF0F8\"}},\"shapedefaults\":{\"line\":{\"color\":\"#2a3f5f\"}},\"ternary\":{\"aaxis\":{\"gridcolor\":\"#DFE8F3\",\"linecolor\":\"#A2B1C6\",\"ticks\":\"\"},\"baxis\":{\"gridcolor\":\"#DFE8F3\",\"linecolor\":\"#A2B1C6\",\"ticks\":\"\"},\"bgcolor\":\"white\",\"caxis\":{\"gridcolor\":\"#DFE8F3\",\"linecolor\":\"#A2B1C6\",\"ticks\":\"\"}},\"title\":{\"x\":0.05},\"xaxis\":{\"automargin\":true,\"gridcolor\":\"#EBF0F8\",\"linecolor\":\"#EBF0F8\",\"ticks\":\"\",\"title\":{\"standoff\":15},\"zerolinecolor\":\"#EBF0F8\",\"zerolinewidth\":2},\"yaxis\":{\"automargin\":true,\"gridcolor\":\"#EBF0F8\",\"linecolor\":\"#EBF0F8\",\"ticks\":\"\",\"title\":{\"standoff\":15},\"zerolinecolor\":\"#EBF0F8\",\"zerolinewidth\":2}}},\"scene\":{\"domain\":{\"x\":[0.0,1.0],\"y\":[0.0,1.0]},\"xaxis\":{\"title\":{\"text\":\"Region\"}},\"yaxis\":{\"title\":{\"text\":\"Government Strategy\"}},\"zaxis\":{\"title\":{\"text\":\"Commercial\"}}},\"coloraxis\":{\"colorbar\":{\"title\":{\"text\":\"Total score\"}},\"colorscale\":[[0.0,\"#0d0887\"],[0.1111111111111111,\"#46039f\"],[0.2222222222222222,\"#7201a8\"],[0.3333333333333333,\"#9c179e\"],[0.4444444444444444,\"#bd3786\"],[0.5555555555555556,\"#d8576b\"],[0.6666666666666666,\"#ed7953\"],[0.7777777777777778,\"#fb9f3a\"],[0.8888888888888888,\"#fdca26\"],[1.0,\"#f0f921\"]]},\"legend\":{\"tracegroupgap\":0},\"title\":{\"text\":\"AI Investments by Regions\"},\"margin\":{\"t\":35,\"b\":35,\"l\":5,\"r\":5},\"showlegend\":true,\"width\":800,\"height\":400,\"autosize\":false},                        {\"responsive\": true}                    ).then(function(){\n",
       "                            \n",
       "var gd = document.getElementById('c47544ad-f4d0-4e2f-86e5-24ceab3cc2ea');\n",
       "var x = new MutationObserver(function (mutations, observer) {{\n",
       "        var display = window.getComputedStyle(gd).display;\n",
       "        if (!display || display === 'none') {{\n",
       "            console.log([gd, 'removed!']);\n",
       "            Plotly.purge(gd);\n",
       "            observer.disconnect();\n",
       "        }}\n",
       "}});\n",
       "\n",
       "// Listen for the removal of the full notebook cells\n",
       "var notebookContainer = gd.closest('#notebook-container');\n",
       "if (notebookContainer) {{\n",
       "    x.observe(notebookContainer, {childList: true});\n",
       "}}\n",
       "\n",
       "// Listen for the clearing of the current output cell\n",
       "var outputEl = gd.closest('.output');\n",
       "if (outputEl) {{\n",
       "    x.observe(outputEl, {childList: true});\n",
       "}}\n",
       "\n",
       "                        })                };                });            </script>        </div>"
      ]
     },
     "metadata": {},
     "output_type": "display_data"
    }
   ],
   "source": [
    "fig = px.scatter_3d(df, x='Region', y='Government Strategy', z='Commercial', color='Total score', hover_name=\"Country\", \n",
    "                   title='AI Investments by Regions')\n",
    "# Update visual layout\n",
    "fig.update_layout(\n",
    "    showlegend=True,\n",
    "    width=800,\n",
    "    height=400,\n",
    "    autosize=False,\n",
    "    margin=dict(t=35, b=35, l=5, r=5),\n",
    "    template=\"plotly_white\",\n",
    ")\n",
    "fig.show()"
   ]
  },
  {
   "cell_type": "code",
   "execution_count": null,
   "id": "8ce80d57",
   "metadata": {
    "_kg_hide-input": true,
    "execution": {
     "iopub.execute_input": "2023-08-09T09:38:16.220742Z",
     "iopub.status.busy": "2023-08-09T09:38:16.219948Z",
     "iopub.status.idle": "2023-08-09T09:38:16.303815Z",
     "shell.execute_reply": "2023-08-09T09:38:16.302728Z"
    },
    "papermill": {
     "duration": 0.121715,
     "end_time": "2023-08-09T09:38:16.306080",
     "exception": false,
     "start_time": "2023-08-09T09:38:16.184365",
     "status": "completed"
    },
    "tags": []
   },
   "outputs": [
    {
     "data": {
      "text/html": [
       "<div>                            <div id=\"8f5982f1-0753-466e-aac8-3456ba49e575\" class=\"plotly-graph-div\" style=\"height:400px; width:800px;\"></div>            <script type=\"text/javascript\">                require([\"plotly\"], function(Plotly) {                    window.PLOTLYENV=window.PLOTLYENV || {};                                    if (document.getElementById(\"8f5982f1-0753-466e-aac8-3456ba49e575\")) {                    Plotly.newPlot(                        \"8f5982f1-0753-466e-aac8-3456ba49e575\",                        [{\"hovertemplate\":\"\\u003cb\\u003e%{hovertext}\\u003c\\u002fb\\u003e\\u003cbr\\u003e\\u003cbr\\u003eCluster=%{x}\\u003cbr\\u003eGovernment Strategy=%{y}\\u003cbr\\u003eCommercial=%{z}\\u003cbr\\u003eTotal score=%{marker.color}\\u003cextra\\u003e\\u003c\\u002fextra\\u003e\",\"hovertext\":[\"United States of America\",\"China\",\"United Kingdom\",\"Canada\",\"Israel\",\"Singapore\",\"South Korea\",\"The Netherlands\",\"Germany\",\"France\",\"Australia\",\"Ireland\",\"Finland\",\"Denmark\",\"Luxembourg\",\"Japan\",\"India\",\"Switzerland\",\"Sweden\",\"Hong Kong\",\"Spain\",\"Austria\",\"Estonia\",\"Taiwan\",\"Norway\",\"Saudi Arabia\",\"Belgium\",\"Poland\",\"Slovenia\",\"New Zealand\",\"Italy\",\"Russia\",\"Malta\",\"United Arab Emirates\",\"Portugal\",\"Czech Republic\",\"Iceland\",\"Lithuania\",\"Brazil\",\"Greece\",\"Slovakia\",\"Hungary\",\"Malaysia\",\"Mexico\",\"Chile\",\"Argentina\",\"Qatar\",\"Turkey\",\"Colombia\",\"Uruguay\",\"Bahrain\",\"Vietnam\",\"Indonesia\",\"Tunisia\",\"South Africa\",\"Morocco\",\"Armenia\",\"Sri Lanka\",\"Egypt\",\"Kenya\",\"Nigeria\",\"Pakistan\"],\"legendgroup\":\"\",\"marker\":{\"color\":[100.0,62.92,40.93,40.19,39.89,38.67,38.6,36.35,36.04,34.42,33.86,33.04,31.36,30.87,30.73,30.53,30.36,30.25,29.85,29.11,26.95,26.89,26.6,25.79,25.77,25.6,25.52,25.2,25.19,24.88,24.45,21.99,21.85,21.17,20.89,20.31,19.81,19.59,18.89,17.33,17.24,17.0,16.66,15.48,15.33,15.24,14.66,14.39,13.85,13.27,11.79,11.62,11.47,9.87,9.71,8.87,8.49,6.62,4.83,2.3,1.38,0.0],\"coloraxis\":\"coloraxis\",\"symbol\":\"circle\"},\"mode\":\"markers\",\"name\":\"\",\"scene\":\"scene\",\"showlegend\":false,\"x\":[\"Power players\",\"Power players\",\"Traditional champions\",\"Traditional champions\",\"Rising stars\",\"Rising stars\",\"Rising stars\",\"Rising stars\",\"Traditional champions\",\"Traditional champions\",\"Rising stars\",\"Rising stars\",\"Rising stars\",\"Rising stars\",\"Waking up\",\"Rising stars\",\"Waking up\",\"Rising stars\",\"Waking up\",\"Waking up\",\"Rising stars\",\"Waking up\",\"Waking up\",\"Waking up\",\"Waking up\",\"Waking up\",\"Waking up\",\"Waking up\",\"Waking up\",\"Waking up\",\"Waking up\",\"Waking up\",\"Waking up\",\"Waking up\",\"Waking up\",\"Waking up\",\"Waking up\",\"Waking up\",\"Waking up\",\"Waking up\",\"Waking up\",\"Waking up\",\"Waking up\",\"Waking up\",\"Waking up\",\"Waking up\",\"Waking up\",\"Waking up\",\"Waking up\",\"Waking up\",\"Waking up\",\"Waking up\",\"Waking up\",\"Waking up\",\"Waking up\",\"Waking up\",\"Waking up\",\"Nascent\",\"Nascent\",\"Nascent\",\"Nascent\",\"Nascent\"],\"y\":[77.39,94.87,82.82,100.0,43.91,79.82,87.5,62.35,84.65,91.2,82.11,69.44,85.99,74.23,66.69,71.96,58.83,12.18,40.35,33.29,91.28,72.14,72.08,55.97,59.05,91.63,63.58,78.14,80.38,47.62,61.43,90.4,70.49,81.38,70.69,70.29,22.15,64.28,67.72,22.15,43.07,55.01,47.6,54.21,60.5,54.94,33.49,67.45,85.29,30.92,17.72,68.86,59.99,12.18,0.0,15.9,14.4,35.57,68.72,7.75,7.75,13.92],\"z\":[100.0,44.02,18.91,14.88,27.33,15.07,5.41,4.97,8.29,7.65,6.72,3.94,4.64,3.46,4.68,7.31,7.39,7.76,4.51,5.3,3.08,3.08,12.51,2.53,3.95,4.73,5.31,2.25,0.61,2.49,2.64,1.38,4.3,3.22,2.05,1.75,5.74,1.77,1.36,0.92,0.67,1.08,0.63,0.78,2.95,0.34,0.0,0.95,0.5,0.43,0.24,0.31,0.91,0.15,2.03,0.1,1.37,0.09,0.31,0.31,0.33,0.27],\"type\":\"scatter3d\"}],                        {\"template\":{\"data\":{\"barpolar\":[{\"marker\":{\"line\":{\"color\":\"white\",\"width\":0.5},\"pattern\":{\"fillmode\":\"overlay\",\"size\":10,\"solidity\":0.2}},\"type\":\"barpolar\"}],\"bar\":[{\"error_x\":{\"color\":\"#2a3f5f\"},\"error_y\":{\"color\":\"#2a3f5f\"},\"marker\":{\"line\":{\"color\":\"white\",\"width\":0.5},\"pattern\":{\"fillmode\":\"overlay\",\"size\":10,\"solidity\":0.2}},\"type\":\"bar\"}],\"carpet\":[{\"aaxis\":{\"endlinecolor\":\"#2a3f5f\",\"gridcolor\":\"#C8D4E3\",\"linecolor\":\"#C8D4E3\",\"minorgridcolor\":\"#C8D4E3\",\"startlinecolor\":\"#2a3f5f\"},\"baxis\":{\"endlinecolor\":\"#2a3f5f\",\"gridcolor\":\"#C8D4E3\",\"linecolor\":\"#C8D4E3\",\"minorgridcolor\":\"#C8D4E3\",\"startlinecolor\":\"#2a3f5f\"},\"type\":\"carpet\"}],\"choropleth\":[{\"colorbar\":{\"outlinewidth\":0,\"ticks\":\"\"},\"type\":\"choropleth\"}],\"contourcarpet\":[{\"colorbar\":{\"outlinewidth\":0,\"ticks\":\"\"},\"type\":\"contourcarpet\"}],\"contour\":[{\"colorbar\":{\"outlinewidth\":0,\"ticks\":\"\"},\"colorscale\":[[0.0,\"#0d0887\"],[0.1111111111111111,\"#46039f\"],[0.2222222222222222,\"#7201a8\"],[0.3333333333333333,\"#9c179e\"],[0.4444444444444444,\"#bd3786\"],[0.5555555555555556,\"#d8576b\"],[0.6666666666666666,\"#ed7953\"],[0.7777777777777778,\"#fb9f3a\"],[0.8888888888888888,\"#fdca26\"],[1.0,\"#f0f921\"]],\"type\":\"contour\"}],\"heatmapgl\":[{\"colorbar\":{\"outlinewidth\":0,\"ticks\":\"\"},\"colorscale\":[[0.0,\"#0d0887\"],[0.1111111111111111,\"#46039f\"],[0.2222222222222222,\"#7201a8\"],[0.3333333333333333,\"#9c179e\"],[0.4444444444444444,\"#bd3786\"],[0.5555555555555556,\"#d8576b\"],[0.6666666666666666,\"#ed7953\"],[0.7777777777777778,\"#fb9f3a\"],[0.8888888888888888,\"#fdca26\"],[1.0,\"#f0f921\"]],\"type\":\"heatmapgl\"}],\"heatmap\":[{\"colorbar\":{\"outlinewidth\":0,\"ticks\":\"\"},\"colorscale\":[[0.0,\"#0d0887\"],[0.1111111111111111,\"#46039f\"],[0.2222222222222222,\"#7201a8\"],[0.3333333333333333,\"#9c179e\"],[0.4444444444444444,\"#bd3786\"],[0.5555555555555556,\"#d8576b\"],[0.6666666666666666,\"#ed7953\"],[0.7777777777777778,\"#fb9f3a\"],[0.8888888888888888,\"#fdca26\"],[1.0,\"#f0f921\"]],\"type\":\"heatmap\"}],\"histogram2dcontour\":[{\"colorbar\":{\"outlinewidth\":0,\"ticks\":\"\"},\"colorscale\":[[0.0,\"#0d0887\"],[0.1111111111111111,\"#46039f\"],[0.2222222222222222,\"#7201a8\"],[0.3333333333333333,\"#9c179e\"],[0.4444444444444444,\"#bd3786\"],[0.5555555555555556,\"#d8576b\"],[0.6666666666666666,\"#ed7953\"],[0.7777777777777778,\"#fb9f3a\"],[0.8888888888888888,\"#fdca26\"],[1.0,\"#f0f921\"]],\"type\":\"histogram2dcontour\"}],\"histogram2d\":[{\"colorbar\":{\"outlinewidth\":0,\"ticks\":\"\"},\"colorscale\":[[0.0,\"#0d0887\"],[0.1111111111111111,\"#46039f\"],[0.2222222222222222,\"#7201a8\"],[0.3333333333333333,\"#9c179e\"],[0.4444444444444444,\"#bd3786\"],[0.5555555555555556,\"#d8576b\"],[0.6666666666666666,\"#ed7953\"],[0.7777777777777778,\"#fb9f3a\"],[0.8888888888888888,\"#fdca26\"],[1.0,\"#f0f921\"]],\"type\":\"histogram2d\"}],\"histogram\":[{\"marker\":{\"pattern\":{\"fillmode\":\"overlay\",\"size\":10,\"solidity\":0.2}},\"type\":\"histogram\"}],\"mesh3d\":[{\"colorbar\":{\"outlinewidth\":0,\"ticks\":\"\"},\"type\":\"mesh3d\"}],\"parcoords\":[{\"line\":{\"colorbar\":{\"outlinewidth\":0,\"ticks\":\"\"}},\"type\":\"parcoords\"}],\"pie\":[{\"automargin\":true,\"type\":\"pie\"}],\"scatter3d\":[{\"line\":{\"colorbar\":{\"outlinewidth\":0,\"ticks\":\"\"}},\"marker\":{\"colorbar\":{\"outlinewidth\":0,\"ticks\":\"\"}},\"type\":\"scatter3d\"}],\"scattercarpet\":[{\"marker\":{\"colorbar\":{\"outlinewidth\":0,\"ticks\":\"\"}},\"type\":\"scattercarpet\"}],\"scattergeo\":[{\"marker\":{\"colorbar\":{\"outlinewidth\":0,\"ticks\":\"\"}},\"type\":\"scattergeo\"}],\"scattergl\":[{\"marker\":{\"colorbar\":{\"outlinewidth\":0,\"ticks\":\"\"}},\"type\":\"scattergl\"}],\"scattermapbox\":[{\"marker\":{\"colorbar\":{\"outlinewidth\":0,\"ticks\":\"\"}},\"type\":\"scattermapbox\"}],\"scatterpolargl\":[{\"marker\":{\"colorbar\":{\"outlinewidth\":0,\"ticks\":\"\"}},\"type\":\"scatterpolargl\"}],\"scatterpolar\":[{\"marker\":{\"colorbar\":{\"outlinewidth\":0,\"ticks\":\"\"}},\"type\":\"scatterpolar\"}],\"scatter\":[{\"fillpattern\":{\"fillmode\":\"overlay\",\"size\":10,\"solidity\":0.2},\"type\":\"scatter\"}],\"scatterternary\":[{\"marker\":{\"colorbar\":{\"outlinewidth\":0,\"ticks\":\"\"}},\"type\":\"scatterternary\"}],\"surface\":[{\"colorbar\":{\"outlinewidth\":0,\"ticks\":\"\"},\"colorscale\":[[0.0,\"#0d0887\"],[0.1111111111111111,\"#46039f\"],[0.2222222222222222,\"#7201a8\"],[0.3333333333333333,\"#9c179e\"],[0.4444444444444444,\"#bd3786\"],[0.5555555555555556,\"#d8576b\"],[0.6666666666666666,\"#ed7953\"],[0.7777777777777778,\"#fb9f3a\"],[0.8888888888888888,\"#fdca26\"],[1.0,\"#f0f921\"]],\"type\":\"surface\"}],\"table\":[{\"cells\":{\"fill\":{\"color\":\"#EBF0F8\"},\"line\":{\"color\":\"white\"}},\"header\":{\"fill\":{\"color\":\"#C8D4E3\"},\"line\":{\"color\":\"white\"}},\"type\":\"table\"}]},\"layout\":{\"annotationdefaults\":{\"arrowcolor\":\"#2a3f5f\",\"arrowhead\":0,\"arrowwidth\":1},\"autotypenumbers\":\"strict\",\"coloraxis\":{\"colorbar\":{\"outlinewidth\":0,\"ticks\":\"\"}},\"colorscale\":{\"diverging\":[[0,\"#8e0152\"],[0.1,\"#c51b7d\"],[0.2,\"#de77ae\"],[0.3,\"#f1b6da\"],[0.4,\"#fde0ef\"],[0.5,\"#f7f7f7\"],[0.6,\"#e6f5d0\"],[0.7,\"#b8e186\"],[0.8,\"#7fbc41\"],[0.9,\"#4d9221\"],[1,\"#276419\"]],\"sequential\":[[0.0,\"#0d0887\"],[0.1111111111111111,\"#46039f\"],[0.2222222222222222,\"#7201a8\"],[0.3333333333333333,\"#9c179e\"],[0.4444444444444444,\"#bd3786\"],[0.5555555555555556,\"#d8576b\"],[0.6666666666666666,\"#ed7953\"],[0.7777777777777778,\"#fb9f3a\"],[0.8888888888888888,\"#fdca26\"],[1.0,\"#f0f921\"]],\"sequentialminus\":[[0.0,\"#0d0887\"],[0.1111111111111111,\"#46039f\"],[0.2222222222222222,\"#7201a8\"],[0.3333333333333333,\"#9c179e\"],[0.4444444444444444,\"#bd3786\"],[0.5555555555555556,\"#d8576b\"],[0.6666666666666666,\"#ed7953\"],[0.7777777777777778,\"#fb9f3a\"],[0.8888888888888888,\"#fdca26\"],[1.0,\"#f0f921\"]]},\"colorway\":[\"#636efa\",\"#EF553B\",\"#00cc96\",\"#ab63fa\",\"#FFA15A\",\"#19d3f3\",\"#FF6692\",\"#B6E880\",\"#FF97FF\",\"#FECB52\"],\"font\":{\"color\":\"#2a3f5f\"},\"geo\":{\"bgcolor\":\"white\",\"lakecolor\":\"white\",\"landcolor\":\"white\",\"showlakes\":true,\"showland\":true,\"subunitcolor\":\"#C8D4E3\"},\"hoverlabel\":{\"align\":\"left\"},\"hovermode\":\"closest\",\"mapbox\":{\"style\":\"light\"},\"paper_bgcolor\":\"white\",\"plot_bgcolor\":\"white\",\"polar\":{\"angularaxis\":{\"gridcolor\":\"#EBF0F8\",\"linecolor\":\"#EBF0F8\",\"ticks\":\"\"},\"bgcolor\":\"white\",\"radialaxis\":{\"gridcolor\":\"#EBF0F8\",\"linecolor\":\"#EBF0F8\",\"ticks\":\"\"}},\"scene\":{\"xaxis\":{\"backgroundcolor\":\"white\",\"gridcolor\":\"#DFE8F3\",\"gridwidth\":2,\"linecolor\":\"#EBF0F8\",\"showbackground\":true,\"ticks\":\"\",\"zerolinecolor\":\"#EBF0F8\"},\"yaxis\":{\"backgroundcolor\":\"white\",\"gridcolor\":\"#DFE8F3\",\"gridwidth\":2,\"linecolor\":\"#EBF0F8\",\"showbackground\":true,\"ticks\":\"\",\"zerolinecolor\":\"#EBF0F8\"},\"zaxis\":{\"backgroundcolor\":\"white\",\"gridcolor\":\"#DFE8F3\",\"gridwidth\":2,\"linecolor\":\"#EBF0F8\",\"showbackground\":true,\"ticks\":\"\",\"zerolinecolor\":\"#EBF0F8\"}},\"shapedefaults\":{\"line\":{\"color\":\"#2a3f5f\"}},\"ternary\":{\"aaxis\":{\"gridcolor\":\"#DFE8F3\",\"linecolor\":\"#A2B1C6\",\"ticks\":\"\"},\"baxis\":{\"gridcolor\":\"#DFE8F3\",\"linecolor\":\"#A2B1C6\",\"ticks\":\"\"},\"bgcolor\":\"white\",\"caxis\":{\"gridcolor\":\"#DFE8F3\",\"linecolor\":\"#A2B1C6\",\"ticks\":\"\"}},\"title\":{\"x\":0.05},\"xaxis\":{\"automargin\":true,\"gridcolor\":\"#EBF0F8\",\"linecolor\":\"#EBF0F8\",\"ticks\":\"\",\"title\":{\"standoff\":15},\"zerolinecolor\":\"#EBF0F8\",\"zerolinewidth\":2},\"yaxis\":{\"automargin\":true,\"gridcolor\":\"#EBF0F8\",\"linecolor\":\"#EBF0F8\",\"ticks\":\"\",\"title\":{\"standoff\":15},\"zerolinecolor\":\"#EBF0F8\",\"zerolinewidth\":2}}},\"scene\":{\"domain\":{\"x\":[0.0,1.0],\"y\":[0.0,1.0]},\"xaxis\":{\"title\":{\"text\":\"Cluster\"}},\"yaxis\":{\"title\":{\"text\":\"Government Strategy\"}},\"zaxis\":{\"title\":{\"text\":\"Commercial\"}}},\"coloraxis\":{\"colorbar\":{\"title\":{\"text\":\"Total score\"}},\"colorscale\":[[0.0,\"#0d0887\"],[0.1111111111111111,\"#46039f\"],[0.2222222222222222,\"#7201a8\"],[0.3333333333333333,\"#9c179e\"],[0.4444444444444444,\"#bd3786\"],[0.5555555555555556,\"#d8576b\"],[0.6666666666666666,\"#ed7953\"],[0.7777777777777778,\"#fb9f3a\"],[0.8888888888888888,\"#fdca26\"],[1.0,\"#f0f921\"]]},\"legend\":{\"tracegroupgap\":0},\"title\":{\"text\":\"AI Investments by Clusters\"},\"margin\":{\"t\":35,\"b\":35,\"l\":5,\"r\":5},\"showlegend\":true,\"width\":800,\"height\":400,\"autosize\":false},                        {\"responsive\": true}                    ).then(function(){\n",
       "                            \n",
       "var gd = document.getElementById('8f5982f1-0753-466e-aac8-3456ba49e575');\n",
       "var x = new MutationObserver(function (mutations, observer) {{\n",
       "        var display = window.getComputedStyle(gd).display;\n",
       "        if (!display || display === 'none') {{\n",
       "            console.log([gd, 'removed!']);\n",
       "            Plotly.purge(gd);\n",
       "            observer.disconnect();\n",
       "        }}\n",
       "}});\n",
       "\n",
       "// Listen for the removal of the full notebook cells\n",
       "var notebookContainer = gd.closest('#notebook-container');\n",
       "if (notebookContainer) {{\n",
       "    x.observe(notebookContainer, {childList: true});\n",
       "}}\n",
       "\n",
       "// Listen for the clearing of the current output cell\n",
       "var outputEl = gd.closest('.output');\n",
       "if (outputEl) {{\n",
       "    x.observe(outputEl, {childList: true});\n",
       "}}\n",
       "\n",
       "                        })                };                });            </script>        </div>"
      ]
     },
     "metadata": {},
     "output_type": "display_data"
    }
   ],
   "source": [
    "fig = px.scatter_3d(df, x='Cluster', y='Government Strategy', z='Commercial', color='Total score', hover_name=\"Country\", \n",
    "                   title='AI Investments by Clusters')\n",
    "# Update visual layout\n",
    "fig.update_layout(\n",
    "    showlegend=True,\n",
    "    width=800,\n",
    "    height=400,\n",
    "    autosize=False,\n",
    "    margin=dict(t=35, b=35, l=5, r=5),\n",
    "    template=\"plotly_white\",\n",
    ")\n",
    "fig.show()"
   ]
  },
  {
   "cell_type": "code",
   "execution_count": null,
   "id": "59f02786",
   "metadata": {
    "_kg_hide-input": true,
    "execution": {
     "iopub.execute_input": "2023-08-09T09:38:16.379790Z",
     "iopub.status.busy": "2023-08-09T09:38:16.379376Z",
     "iopub.status.idle": "2023-08-09T09:38:16.465859Z",
     "shell.execute_reply": "2023-08-09T09:38:16.464681Z"
    },
    "papermill": {
     "duration": 0.125782,
     "end_time": "2023-08-09T09:38:16.468355",
     "exception": false,
     "start_time": "2023-08-09T09:38:16.342573",
     "status": "completed"
    },
    "tags": []
   },
   "outputs": [
    {
     "data": {
      "text/html": [
       "<div>                            <div id=\"cf02a667-e93f-4e4c-aa8d-62e7a16ce441\" class=\"plotly-graph-div\" style=\"height:400px; width:800px;\"></div>            <script type=\"text/javascript\">                require([\"plotly\"], function(Plotly) {                    window.PLOTLYENV=window.PLOTLYENV || {};                                    if (document.getElementById(\"cf02a667-e93f-4e4c-aa8d-62e7a16ce441\")) {                    Plotly.newPlot(                        \"cf02a667-e93f-4e4c-aa8d-62e7a16ce441\",                        [{\"hovertemplate\":\"\\u003cb\\u003e%{hovertext}\\u003c\\u002fb\\u003e\\u003cbr\\u003e\\u003cbr\\u003eIncome group=%{x}\\u003cbr\\u003eGovernment Strategy=%{y}\\u003cbr\\u003eCommercial=%{z}\\u003cbr\\u003eTotal score=%{marker.color}\\u003cextra\\u003e\\u003c\\u002fextra\\u003e\",\"hovertext\":[\"United States of America\",\"China\",\"United Kingdom\",\"Canada\",\"Israel\",\"Singapore\",\"South Korea\",\"The Netherlands\",\"Germany\",\"France\",\"Australia\",\"Ireland\",\"Finland\",\"Denmark\",\"Luxembourg\",\"Japan\",\"India\",\"Switzerland\",\"Sweden\",\"Hong Kong\",\"Spain\",\"Austria\",\"Estonia\",\"Taiwan\",\"Norway\",\"Saudi Arabia\",\"Belgium\",\"Poland\",\"Slovenia\",\"New Zealand\",\"Italy\",\"Russia\",\"Malta\",\"United Arab Emirates\",\"Portugal\",\"Czech Republic\",\"Iceland\",\"Lithuania\",\"Brazil\",\"Greece\",\"Slovakia\",\"Hungary\",\"Malaysia\",\"Mexico\",\"Chile\",\"Argentina\",\"Qatar\",\"Turkey\",\"Colombia\",\"Uruguay\",\"Bahrain\",\"Vietnam\",\"Indonesia\",\"Tunisia\",\"South Africa\",\"Morocco\",\"Armenia\",\"Sri Lanka\",\"Egypt\",\"Kenya\",\"Nigeria\",\"Pakistan\"],\"legendgroup\":\"\",\"marker\":{\"color\":[100.0,62.92,40.93,40.19,39.89,38.67,38.6,36.35,36.04,34.42,33.86,33.04,31.36,30.87,30.73,30.53,30.36,30.25,29.85,29.11,26.95,26.89,26.6,25.79,25.77,25.6,25.52,25.2,25.19,24.88,24.45,21.99,21.85,21.17,20.89,20.31,19.81,19.59,18.89,17.33,17.24,17.0,16.66,15.48,15.33,15.24,14.66,14.39,13.85,13.27,11.79,11.62,11.47,9.87,9.71,8.87,8.49,6.62,4.83,2.3,1.38,0.0],\"coloraxis\":\"coloraxis\",\"symbol\":\"circle\"},\"mode\":\"markers\",\"name\":\"\",\"scene\":\"scene\",\"showlegend\":false,\"x\":[\"High\",\"Upper middle\",\"High\",\"High\",\"High\",\"High\",\"High\",\"High\",\"High\",\"High\",\"High\",\"High\",\"High\",\"High\",\"High\",\"High\",\"Lower middle\",\"High\",\"High\",\"High\",\"High\",\"High\",\"High\",\"High\",\"High\",\"High\",\"High\",\"High\",\"High\",\"High\",\"High\",\"Upper middle\",\"High\",\"High\",\"High\",\"High\",\"High\",\"High\",\"Upper middle\",\"High\",\"High\",\"High\",\"Upper middle\",\"Upper middle\",\"High\",\"Upper middle\",\"High\",\"High\",\"Upper middle\",\"High\",\"High\",\"Lower middle\",\"Lower middle\",\"Lower middle\",\"Upper middle\",\"Lower middle\",\"Upper middle\",\"Lower middle\",\"Lower middle\",\"Lower middle\",\"Lower middle\",\"Lower middle\"],\"y\":[77.39,94.87,82.82,100.0,43.91,79.82,87.5,62.35,84.65,91.2,82.11,69.44,85.99,74.23,66.69,71.96,58.83,12.18,40.35,33.29,91.28,72.14,72.08,55.97,59.05,91.63,63.58,78.14,80.38,47.62,61.43,90.4,70.49,81.38,70.69,70.29,22.15,64.28,67.72,22.15,43.07,55.01,47.6,54.21,60.5,54.94,33.49,67.45,85.29,30.92,17.72,68.86,59.99,12.18,0.0,15.9,14.4,35.57,68.72,7.75,7.75,13.92],\"z\":[100.0,44.02,18.91,14.88,27.33,15.07,5.41,4.97,8.29,7.65,6.72,3.94,4.64,3.46,4.68,7.31,7.39,7.76,4.51,5.3,3.08,3.08,12.51,2.53,3.95,4.73,5.31,2.25,0.61,2.49,2.64,1.38,4.3,3.22,2.05,1.75,5.74,1.77,1.36,0.92,0.67,1.08,0.63,0.78,2.95,0.34,0.0,0.95,0.5,0.43,0.24,0.31,0.91,0.15,2.03,0.1,1.37,0.09,0.31,0.31,0.33,0.27],\"type\":\"scatter3d\"}],                        {\"template\":{\"data\":{\"barpolar\":[{\"marker\":{\"line\":{\"color\":\"white\",\"width\":0.5},\"pattern\":{\"fillmode\":\"overlay\",\"size\":10,\"solidity\":0.2}},\"type\":\"barpolar\"}],\"bar\":[{\"error_x\":{\"color\":\"#2a3f5f\"},\"error_y\":{\"color\":\"#2a3f5f\"},\"marker\":{\"line\":{\"color\":\"white\",\"width\":0.5},\"pattern\":{\"fillmode\":\"overlay\",\"size\":10,\"solidity\":0.2}},\"type\":\"bar\"}],\"carpet\":[{\"aaxis\":{\"endlinecolor\":\"#2a3f5f\",\"gridcolor\":\"#C8D4E3\",\"linecolor\":\"#C8D4E3\",\"minorgridcolor\":\"#C8D4E3\",\"startlinecolor\":\"#2a3f5f\"},\"baxis\":{\"endlinecolor\":\"#2a3f5f\",\"gridcolor\":\"#C8D4E3\",\"linecolor\":\"#C8D4E3\",\"minorgridcolor\":\"#C8D4E3\",\"startlinecolor\":\"#2a3f5f\"},\"type\":\"carpet\"}],\"choropleth\":[{\"colorbar\":{\"outlinewidth\":0,\"ticks\":\"\"},\"type\":\"choropleth\"}],\"contourcarpet\":[{\"colorbar\":{\"outlinewidth\":0,\"ticks\":\"\"},\"type\":\"contourcarpet\"}],\"contour\":[{\"colorbar\":{\"outlinewidth\":0,\"ticks\":\"\"},\"colorscale\":[[0.0,\"#0d0887\"],[0.1111111111111111,\"#46039f\"],[0.2222222222222222,\"#7201a8\"],[0.3333333333333333,\"#9c179e\"],[0.4444444444444444,\"#bd3786\"],[0.5555555555555556,\"#d8576b\"],[0.6666666666666666,\"#ed7953\"],[0.7777777777777778,\"#fb9f3a\"],[0.8888888888888888,\"#fdca26\"],[1.0,\"#f0f921\"]],\"type\":\"contour\"}],\"heatmapgl\":[{\"colorbar\":{\"outlinewidth\":0,\"ticks\":\"\"},\"colorscale\":[[0.0,\"#0d0887\"],[0.1111111111111111,\"#46039f\"],[0.2222222222222222,\"#7201a8\"],[0.3333333333333333,\"#9c179e\"],[0.4444444444444444,\"#bd3786\"],[0.5555555555555556,\"#d8576b\"],[0.6666666666666666,\"#ed7953\"],[0.7777777777777778,\"#fb9f3a\"],[0.8888888888888888,\"#fdca26\"],[1.0,\"#f0f921\"]],\"type\":\"heatmapgl\"}],\"heatmap\":[{\"colorbar\":{\"outlinewidth\":0,\"ticks\":\"\"},\"colorscale\":[[0.0,\"#0d0887\"],[0.1111111111111111,\"#46039f\"],[0.2222222222222222,\"#7201a8\"],[0.3333333333333333,\"#9c179e\"],[0.4444444444444444,\"#bd3786\"],[0.5555555555555556,\"#d8576b\"],[0.6666666666666666,\"#ed7953\"],[0.7777777777777778,\"#fb9f3a\"],[0.8888888888888888,\"#fdca26\"],[1.0,\"#f0f921\"]],\"type\":\"heatmap\"}],\"histogram2dcontour\":[{\"colorbar\":{\"outlinewidth\":0,\"ticks\":\"\"},\"colorscale\":[[0.0,\"#0d0887\"],[0.1111111111111111,\"#46039f\"],[0.2222222222222222,\"#7201a8\"],[0.3333333333333333,\"#9c179e\"],[0.4444444444444444,\"#bd3786\"],[0.5555555555555556,\"#d8576b\"],[0.6666666666666666,\"#ed7953\"],[0.7777777777777778,\"#fb9f3a\"],[0.8888888888888888,\"#fdca26\"],[1.0,\"#f0f921\"]],\"type\":\"histogram2dcontour\"}],\"histogram2d\":[{\"colorbar\":{\"outlinewidth\":0,\"ticks\":\"\"},\"colorscale\":[[0.0,\"#0d0887\"],[0.1111111111111111,\"#46039f\"],[0.2222222222222222,\"#7201a8\"],[0.3333333333333333,\"#9c179e\"],[0.4444444444444444,\"#bd3786\"],[0.5555555555555556,\"#d8576b\"],[0.6666666666666666,\"#ed7953\"],[0.7777777777777778,\"#fb9f3a\"],[0.8888888888888888,\"#fdca26\"],[1.0,\"#f0f921\"]],\"type\":\"histogram2d\"}],\"histogram\":[{\"marker\":{\"pattern\":{\"fillmode\":\"overlay\",\"size\":10,\"solidity\":0.2}},\"type\":\"histogram\"}],\"mesh3d\":[{\"colorbar\":{\"outlinewidth\":0,\"ticks\":\"\"},\"type\":\"mesh3d\"}],\"parcoords\":[{\"line\":{\"colorbar\":{\"outlinewidth\":0,\"ticks\":\"\"}},\"type\":\"parcoords\"}],\"pie\":[{\"automargin\":true,\"type\":\"pie\"}],\"scatter3d\":[{\"line\":{\"colorbar\":{\"outlinewidth\":0,\"ticks\":\"\"}},\"marker\":{\"colorbar\":{\"outlinewidth\":0,\"ticks\":\"\"}},\"type\":\"scatter3d\"}],\"scattercarpet\":[{\"marker\":{\"colorbar\":{\"outlinewidth\":0,\"ticks\":\"\"}},\"type\":\"scattercarpet\"}],\"scattergeo\":[{\"marker\":{\"colorbar\":{\"outlinewidth\":0,\"ticks\":\"\"}},\"type\":\"scattergeo\"}],\"scattergl\":[{\"marker\":{\"colorbar\":{\"outlinewidth\":0,\"ticks\":\"\"}},\"type\":\"scattergl\"}],\"scattermapbox\":[{\"marker\":{\"colorbar\":{\"outlinewidth\":0,\"ticks\":\"\"}},\"type\":\"scattermapbox\"}],\"scatterpolargl\":[{\"marker\":{\"colorbar\":{\"outlinewidth\":0,\"ticks\":\"\"}},\"type\":\"scatterpolargl\"}],\"scatterpolar\":[{\"marker\":{\"colorbar\":{\"outlinewidth\":0,\"ticks\":\"\"}},\"type\":\"scatterpolar\"}],\"scatter\":[{\"fillpattern\":{\"fillmode\":\"overlay\",\"size\":10,\"solidity\":0.2},\"type\":\"scatter\"}],\"scatterternary\":[{\"marker\":{\"colorbar\":{\"outlinewidth\":0,\"ticks\":\"\"}},\"type\":\"scatterternary\"}],\"surface\":[{\"colorbar\":{\"outlinewidth\":0,\"ticks\":\"\"},\"colorscale\":[[0.0,\"#0d0887\"],[0.1111111111111111,\"#46039f\"],[0.2222222222222222,\"#7201a8\"],[0.3333333333333333,\"#9c179e\"],[0.4444444444444444,\"#bd3786\"],[0.5555555555555556,\"#d8576b\"],[0.6666666666666666,\"#ed7953\"],[0.7777777777777778,\"#fb9f3a\"],[0.8888888888888888,\"#fdca26\"],[1.0,\"#f0f921\"]],\"type\":\"surface\"}],\"table\":[{\"cells\":{\"fill\":{\"color\":\"#EBF0F8\"},\"line\":{\"color\":\"white\"}},\"header\":{\"fill\":{\"color\":\"#C8D4E3\"},\"line\":{\"color\":\"white\"}},\"type\":\"table\"}]},\"layout\":{\"annotationdefaults\":{\"arrowcolor\":\"#2a3f5f\",\"arrowhead\":0,\"arrowwidth\":1},\"autotypenumbers\":\"strict\",\"coloraxis\":{\"colorbar\":{\"outlinewidth\":0,\"ticks\":\"\"}},\"colorscale\":{\"diverging\":[[0,\"#8e0152\"],[0.1,\"#c51b7d\"],[0.2,\"#de77ae\"],[0.3,\"#f1b6da\"],[0.4,\"#fde0ef\"],[0.5,\"#f7f7f7\"],[0.6,\"#e6f5d0\"],[0.7,\"#b8e186\"],[0.8,\"#7fbc41\"],[0.9,\"#4d9221\"],[1,\"#276419\"]],\"sequential\":[[0.0,\"#0d0887\"],[0.1111111111111111,\"#46039f\"],[0.2222222222222222,\"#7201a8\"],[0.3333333333333333,\"#9c179e\"],[0.4444444444444444,\"#bd3786\"],[0.5555555555555556,\"#d8576b\"],[0.6666666666666666,\"#ed7953\"],[0.7777777777777778,\"#fb9f3a\"],[0.8888888888888888,\"#fdca26\"],[1.0,\"#f0f921\"]],\"sequentialminus\":[[0.0,\"#0d0887\"],[0.1111111111111111,\"#46039f\"],[0.2222222222222222,\"#7201a8\"],[0.3333333333333333,\"#9c179e\"],[0.4444444444444444,\"#bd3786\"],[0.5555555555555556,\"#d8576b\"],[0.6666666666666666,\"#ed7953\"],[0.7777777777777778,\"#fb9f3a\"],[0.8888888888888888,\"#fdca26\"],[1.0,\"#f0f921\"]]},\"colorway\":[\"#636efa\",\"#EF553B\",\"#00cc96\",\"#ab63fa\",\"#FFA15A\",\"#19d3f3\",\"#FF6692\",\"#B6E880\",\"#FF97FF\",\"#FECB52\"],\"font\":{\"color\":\"#2a3f5f\"},\"geo\":{\"bgcolor\":\"white\",\"lakecolor\":\"white\",\"landcolor\":\"white\",\"showlakes\":true,\"showland\":true,\"subunitcolor\":\"#C8D4E3\"},\"hoverlabel\":{\"align\":\"left\"},\"hovermode\":\"closest\",\"mapbox\":{\"style\":\"light\"},\"paper_bgcolor\":\"white\",\"plot_bgcolor\":\"white\",\"polar\":{\"angularaxis\":{\"gridcolor\":\"#EBF0F8\",\"linecolor\":\"#EBF0F8\",\"ticks\":\"\"},\"bgcolor\":\"white\",\"radialaxis\":{\"gridcolor\":\"#EBF0F8\",\"linecolor\":\"#EBF0F8\",\"ticks\":\"\"}},\"scene\":{\"xaxis\":{\"backgroundcolor\":\"white\",\"gridcolor\":\"#DFE8F3\",\"gridwidth\":2,\"linecolor\":\"#EBF0F8\",\"showbackground\":true,\"ticks\":\"\",\"zerolinecolor\":\"#EBF0F8\"},\"yaxis\":{\"backgroundcolor\":\"white\",\"gridcolor\":\"#DFE8F3\",\"gridwidth\":2,\"linecolor\":\"#EBF0F8\",\"showbackground\":true,\"ticks\":\"\",\"zerolinecolor\":\"#EBF0F8\"},\"zaxis\":{\"backgroundcolor\":\"white\",\"gridcolor\":\"#DFE8F3\",\"gridwidth\":2,\"linecolor\":\"#EBF0F8\",\"showbackground\":true,\"ticks\":\"\",\"zerolinecolor\":\"#EBF0F8\"}},\"shapedefaults\":{\"line\":{\"color\":\"#2a3f5f\"}},\"ternary\":{\"aaxis\":{\"gridcolor\":\"#DFE8F3\",\"linecolor\":\"#A2B1C6\",\"ticks\":\"\"},\"baxis\":{\"gridcolor\":\"#DFE8F3\",\"linecolor\":\"#A2B1C6\",\"ticks\":\"\"},\"bgcolor\":\"white\",\"caxis\":{\"gridcolor\":\"#DFE8F3\",\"linecolor\":\"#A2B1C6\",\"ticks\":\"\"}},\"title\":{\"x\":0.05},\"xaxis\":{\"automargin\":true,\"gridcolor\":\"#EBF0F8\",\"linecolor\":\"#EBF0F8\",\"ticks\":\"\",\"title\":{\"standoff\":15},\"zerolinecolor\":\"#EBF0F8\",\"zerolinewidth\":2},\"yaxis\":{\"automargin\":true,\"gridcolor\":\"#EBF0F8\",\"linecolor\":\"#EBF0F8\",\"ticks\":\"\",\"title\":{\"standoff\":15},\"zerolinecolor\":\"#EBF0F8\",\"zerolinewidth\":2}}},\"scene\":{\"domain\":{\"x\":[0.0,1.0],\"y\":[0.0,1.0]},\"xaxis\":{\"title\":{\"text\":\"Income group\"}},\"yaxis\":{\"title\":{\"text\":\"Government Strategy\"}},\"zaxis\":{\"title\":{\"text\":\"Commercial\"}}},\"coloraxis\":{\"colorbar\":{\"title\":{\"text\":\"Total score\"}},\"colorscale\":[[0.0,\"#0d0887\"],[0.1111111111111111,\"#46039f\"],[0.2222222222222222,\"#7201a8\"],[0.3333333333333333,\"#9c179e\"],[0.4444444444444444,\"#bd3786\"],[0.5555555555555556,\"#d8576b\"],[0.6666666666666666,\"#ed7953\"],[0.7777777777777778,\"#fb9f3a\"],[0.8888888888888888,\"#fdca26\"],[1.0,\"#f0f921\"]]},\"legend\":{\"tracegroupgap\":0},\"title\":{\"text\":\"AI Investments by Income groups\"},\"margin\":{\"t\":35,\"b\":35,\"l\":5,\"r\":5},\"showlegend\":true,\"width\":800,\"height\":400,\"autosize\":false},                        {\"responsive\": true}                    ).then(function(){\n",
       "                            \n",
       "var gd = document.getElementById('cf02a667-e93f-4e4c-aa8d-62e7a16ce441');\n",
       "var x = new MutationObserver(function (mutations, observer) {{\n",
       "        var display = window.getComputedStyle(gd).display;\n",
       "        if (!display || display === 'none') {{\n",
       "            console.log([gd, 'removed!']);\n",
       "            Plotly.purge(gd);\n",
       "            observer.disconnect();\n",
       "        }}\n",
       "}});\n",
       "\n",
       "// Listen for the removal of the full notebook cells\n",
       "var notebookContainer = gd.closest('#notebook-container');\n",
       "if (notebookContainer) {{\n",
       "    x.observe(notebookContainer, {childList: true});\n",
       "}}\n",
       "\n",
       "// Listen for the clearing of the current output cell\n",
       "var outputEl = gd.closest('.output');\n",
       "if (outputEl) {{\n",
       "    x.observe(outputEl, {childList: true});\n",
       "}}\n",
       "\n",
       "                        })                };                });            </script>        </div>"
      ]
     },
     "metadata": {},
     "output_type": "display_data"
    }
   ],
   "source": [
    "fig = px.scatter_3d(df, x='Income group', y='Government Strategy', z='Commercial', color='Total score', hover_name=\"Country\", \n",
    "                   title='AI Investments by Income groups')\n",
    "# Update visual layout\n",
    "fig.update_layout(\n",
    "    showlegend=True,\n",
    "    width=800,\n",
    "    height=400,\n",
    "    autosize=False,\n",
    "    margin=dict(t=35, b=35, l=5, r=5),\n",
    "    template=\"plotly_white\",\n",
    ")\n",
    "fig.show()"
   ]
  },
  {
   "cell_type": "code",
   "execution_count": null,
   "id": "c0c991dd",
   "metadata": {
    "_kg_hide-input": true,
    "execution": {
     "iopub.execute_input": "2023-08-09T09:38:16.540348Z",
     "iopub.status.busy": "2023-08-09T09:38:16.539210Z",
     "iopub.status.idle": "2023-08-09T09:38:16.624770Z",
     "shell.execute_reply": "2023-08-09T09:38:16.623514Z"
    },
    "papermill": {
     "duration": 0.123769,
     "end_time": "2023-08-09T09:38:16.627131",
     "exception": false,
     "start_time": "2023-08-09T09:38:16.503362",
     "status": "completed"
    },
    "tags": []
   },
   "outputs": [
    {
     "data": {
      "text/html": [
       "<div>                            <div id=\"a3a819ae-7601-433f-9dd8-ff52d5dff299\" class=\"plotly-graph-div\" style=\"height:400px; width:800px;\"></div>            <script type=\"text/javascript\">                require([\"plotly\"], function(Plotly) {                    window.PLOTLYENV=window.PLOTLYENV || {};                                    if (document.getElementById(\"a3a819ae-7601-433f-9dd8-ff52d5dff299\")) {                    Plotly.newPlot(                        \"a3a819ae-7601-433f-9dd8-ff52d5dff299\",                        [{\"hovertemplate\":\"\\u003cb\\u003e%{hovertext}\\u003c\\u002fb\\u003e\\u003cbr\\u003e\\u003cbr\\u003ePolitical regime=%{x}\\u003cbr\\u003eGovernment Strategy=%{y}\\u003cbr\\u003eCommercial=%{z}\\u003cbr\\u003eTotal score=%{marker.color}\\u003cextra\\u003e\\u003c\\u002fextra\\u003e\",\"hovertext\":[\"United States of America\",\"China\",\"United Kingdom\",\"Canada\",\"Israel\",\"Singapore\",\"South Korea\",\"The Netherlands\",\"Germany\",\"France\",\"Australia\",\"Ireland\",\"Finland\",\"Denmark\",\"Luxembourg\",\"Japan\",\"India\",\"Switzerland\",\"Sweden\",\"Hong Kong\",\"Spain\",\"Austria\",\"Estonia\",\"Taiwan\",\"Norway\",\"Saudi Arabia\",\"Belgium\",\"Poland\",\"Slovenia\",\"New Zealand\",\"Italy\",\"Russia\",\"Malta\",\"United Arab Emirates\",\"Portugal\",\"Czech Republic\",\"Iceland\",\"Lithuania\",\"Brazil\",\"Greece\",\"Slovakia\",\"Hungary\",\"Malaysia\",\"Mexico\",\"Chile\",\"Argentina\",\"Qatar\",\"Turkey\",\"Colombia\",\"Uruguay\",\"Bahrain\",\"Vietnam\",\"Indonesia\",\"Tunisia\",\"South Africa\",\"Morocco\",\"Armenia\",\"Sri Lanka\",\"Egypt\",\"Kenya\",\"Nigeria\",\"Pakistan\"],\"legendgroup\":\"\",\"marker\":{\"color\":[100.0,62.92,40.93,40.19,39.89,38.67,38.6,36.35,36.04,34.42,33.86,33.04,31.36,30.87,30.73,30.53,30.36,30.25,29.85,29.11,26.95,26.89,26.6,25.79,25.77,25.6,25.52,25.2,25.19,24.88,24.45,21.99,21.85,21.17,20.89,20.31,19.81,19.59,18.89,17.33,17.24,17.0,16.66,15.48,15.33,15.24,14.66,14.39,13.85,13.27,11.79,11.62,11.47,9.87,9.71,8.87,8.49,6.62,4.83,2.3,1.38,0.0],\"coloraxis\":\"coloraxis\",\"symbol\":\"circle\"},\"mode\":\"markers\",\"name\":\"\",\"scene\":\"scene\",\"showlegend\":false,\"x\":[\"Liberal democracy\",\"Closed autocracy\",\"Liberal democracy\",\"Liberal democracy\",\"Liberal democracy\",\"Electoral democracy\",\"Liberal democracy\",\"Liberal democracy\",\"Liberal democracy\",\"Liberal democracy\",\"Liberal democracy\",\"Liberal democracy\",\"Liberal democracy\",\"Liberal democracy\",\"Liberal democracy\",\"Liberal democracy\",\"Electoral autocracy\",\"Liberal democracy\",\"Liberal democracy\",\"Electoral democracy\",\"Liberal democracy\",\"Electoral democracy\",\"Liberal democracy\",\"Liberal democracy\",\"Liberal democracy\",\"Closed autocracy\",\"Liberal democracy\",\"Electoral democracy\",\"Electoral democracy\",\"Liberal democracy\",\"Liberal democracy\",\"Electoral autocracy\",\"Electoral democracy\",\"Closed autocracy\",\"Electoral democracy\",\"Electoral democracy\",\"Liberal democracy\",\"Electoral democracy\",\"Electoral democracy\",\"Liberal democracy\",\"Electoral democracy\",\"Electoral autocracy\",\"Electoral autocracy\",\"Electoral democracy\",\"Liberal democracy\",\"Electoral democracy\",\"Closed autocracy\",\"Electoral democracy\",\"Electoral democracy\",\"Liberal democracy\",\"Closed autocracy\",\"Closed autocracy\",\"Electoral democracy\",\"Electoral democracy\",\"Electoral democracy\",\"Closed autocracy\",\"Electoral democracy\",\"Electoral democracy\",\"Electoral autocracy\",\"Electoral autocracy\",\"Electoral autocracy\",\"Electoral autocracy\"],\"y\":[77.39,94.87,82.82,100.0,43.91,79.82,87.5,62.35,84.65,91.2,82.11,69.44,85.99,74.23,66.69,71.96,58.83,12.18,40.35,33.29,91.28,72.14,72.08,55.97,59.05,91.63,63.58,78.14,80.38,47.62,61.43,90.4,70.49,81.38,70.69,70.29,22.15,64.28,67.72,22.15,43.07,55.01,47.6,54.21,60.5,54.94,33.49,67.45,85.29,30.92,17.72,68.86,59.99,12.18,0.0,15.9,14.4,35.57,68.72,7.75,7.75,13.92],\"z\":[100.0,44.02,18.91,14.88,27.33,15.07,5.41,4.97,8.29,7.65,6.72,3.94,4.64,3.46,4.68,7.31,7.39,7.76,4.51,5.3,3.08,3.08,12.51,2.53,3.95,4.73,5.31,2.25,0.61,2.49,2.64,1.38,4.3,3.22,2.05,1.75,5.74,1.77,1.36,0.92,0.67,1.08,0.63,0.78,2.95,0.34,0.0,0.95,0.5,0.43,0.24,0.31,0.91,0.15,2.03,0.1,1.37,0.09,0.31,0.31,0.33,0.27],\"type\":\"scatter3d\"}],                        {\"template\":{\"data\":{\"barpolar\":[{\"marker\":{\"line\":{\"color\":\"white\",\"width\":0.5},\"pattern\":{\"fillmode\":\"overlay\",\"size\":10,\"solidity\":0.2}},\"type\":\"barpolar\"}],\"bar\":[{\"error_x\":{\"color\":\"#2a3f5f\"},\"error_y\":{\"color\":\"#2a3f5f\"},\"marker\":{\"line\":{\"color\":\"white\",\"width\":0.5},\"pattern\":{\"fillmode\":\"overlay\",\"size\":10,\"solidity\":0.2}},\"type\":\"bar\"}],\"carpet\":[{\"aaxis\":{\"endlinecolor\":\"#2a3f5f\",\"gridcolor\":\"#C8D4E3\",\"linecolor\":\"#C8D4E3\",\"minorgridcolor\":\"#C8D4E3\",\"startlinecolor\":\"#2a3f5f\"},\"baxis\":{\"endlinecolor\":\"#2a3f5f\",\"gridcolor\":\"#C8D4E3\",\"linecolor\":\"#C8D4E3\",\"minorgridcolor\":\"#C8D4E3\",\"startlinecolor\":\"#2a3f5f\"},\"type\":\"carpet\"}],\"choropleth\":[{\"colorbar\":{\"outlinewidth\":0,\"ticks\":\"\"},\"type\":\"choropleth\"}],\"contourcarpet\":[{\"colorbar\":{\"outlinewidth\":0,\"ticks\":\"\"},\"type\":\"contourcarpet\"}],\"contour\":[{\"colorbar\":{\"outlinewidth\":0,\"ticks\":\"\"},\"colorscale\":[[0.0,\"#0d0887\"],[0.1111111111111111,\"#46039f\"],[0.2222222222222222,\"#7201a8\"],[0.3333333333333333,\"#9c179e\"],[0.4444444444444444,\"#bd3786\"],[0.5555555555555556,\"#d8576b\"],[0.6666666666666666,\"#ed7953\"],[0.7777777777777778,\"#fb9f3a\"],[0.8888888888888888,\"#fdca26\"],[1.0,\"#f0f921\"]],\"type\":\"contour\"}],\"heatmapgl\":[{\"colorbar\":{\"outlinewidth\":0,\"ticks\":\"\"},\"colorscale\":[[0.0,\"#0d0887\"],[0.1111111111111111,\"#46039f\"],[0.2222222222222222,\"#7201a8\"],[0.3333333333333333,\"#9c179e\"],[0.4444444444444444,\"#bd3786\"],[0.5555555555555556,\"#d8576b\"],[0.6666666666666666,\"#ed7953\"],[0.7777777777777778,\"#fb9f3a\"],[0.8888888888888888,\"#fdca26\"],[1.0,\"#f0f921\"]],\"type\":\"heatmapgl\"}],\"heatmap\":[{\"colorbar\":{\"outlinewidth\":0,\"ticks\":\"\"},\"colorscale\":[[0.0,\"#0d0887\"],[0.1111111111111111,\"#46039f\"],[0.2222222222222222,\"#7201a8\"],[0.3333333333333333,\"#9c179e\"],[0.4444444444444444,\"#bd3786\"],[0.5555555555555556,\"#d8576b\"],[0.6666666666666666,\"#ed7953\"],[0.7777777777777778,\"#fb9f3a\"],[0.8888888888888888,\"#fdca26\"],[1.0,\"#f0f921\"]],\"type\":\"heatmap\"}],\"histogram2dcontour\":[{\"colorbar\":{\"outlinewidth\":0,\"ticks\":\"\"},\"colorscale\":[[0.0,\"#0d0887\"],[0.1111111111111111,\"#46039f\"],[0.2222222222222222,\"#7201a8\"],[0.3333333333333333,\"#9c179e\"],[0.4444444444444444,\"#bd3786\"],[0.5555555555555556,\"#d8576b\"],[0.6666666666666666,\"#ed7953\"],[0.7777777777777778,\"#fb9f3a\"],[0.8888888888888888,\"#fdca26\"],[1.0,\"#f0f921\"]],\"type\":\"histogram2dcontour\"}],\"histogram2d\":[{\"colorbar\":{\"outlinewidth\":0,\"ticks\":\"\"},\"colorscale\":[[0.0,\"#0d0887\"],[0.1111111111111111,\"#46039f\"],[0.2222222222222222,\"#7201a8\"],[0.3333333333333333,\"#9c179e\"],[0.4444444444444444,\"#bd3786\"],[0.5555555555555556,\"#d8576b\"],[0.6666666666666666,\"#ed7953\"],[0.7777777777777778,\"#fb9f3a\"],[0.8888888888888888,\"#fdca26\"],[1.0,\"#f0f921\"]],\"type\":\"histogram2d\"}],\"histogram\":[{\"marker\":{\"pattern\":{\"fillmode\":\"overlay\",\"size\":10,\"solidity\":0.2}},\"type\":\"histogram\"}],\"mesh3d\":[{\"colorbar\":{\"outlinewidth\":0,\"ticks\":\"\"},\"type\":\"mesh3d\"}],\"parcoords\":[{\"line\":{\"colorbar\":{\"outlinewidth\":0,\"ticks\":\"\"}},\"type\":\"parcoords\"}],\"pie\":[{\"automargin\":true,\"type\":\"pie\"}],\"scatter3d\":[{\"line\":{\"colorbar\":{\"outlinewidth\":0,\"ticks\":\"\"}},\"marker\":{\"colorbar\":{\"outlinewidth\":0,\"ticks\":\"\"}},\"type\":\"scatter3d\"}],\"scattercarpet\":[{\"marker\":{\"colorbar\":{\"outlinewidth\":0,\"ticks\":\"\"}},\"type\":\"scattercarpet\"}],\"scattergeo\":[{\"marker\":{\"colorbar\":{\"outlinewidth\":0,\"ticks\":\"\"}},\"type\":\"scattergeo\"}],\"scattergl\":[{\"marker\":{\"colorbar\":{\"outlinewidth\":0,\"ticks\":\"\"}},\"type\":\"scattergl\"}],\"scattermapbox\":[{\"marker\":{\"colorbar\":{\"outlinewidth\":0,\"ticks\":\"\"}},\"type\":\"scattermapbox\"}],\"scatterpolargl\":[{\"marker\":{\"colorbar\":{\"outlinewidth\":0,\"ticks\":\"\"}},\"type\":\"scatterpolargl\"}],\"scatterpolar\":[{\"marker\":{\"colorbar\":{\"outlinewidth\":0,\"ticks\":\"\"}},\"type\":\"scatterpolar\"}],\"scatter\":[{\"fillpattern\":{\"fillmode\":\"overlay\",\"size\":10,\"solidity\":0.2},\"type\":\"scatter\"}],\"scatterternary\":[{\"marker\":{\"colorbar\":{\"outlinewidth\":0,\"ticks\":\"\"}},\"type\":\"scatterternary\"}],\"surface\":[{\"colorbar\":{\"outlinewidth\":0,\"ticks\":\"\"},\"colorscale\":[[0.0,\"#0d0887\"],[0.1111111111111111,\"#46039f\"],[0.2222222222222222,\"#7201a8\"],[0.3333333333333333,\"#9c179e\"],[0.4444444444444444,\"#bd3786\"],[0.5555555555555556,\"#d8576b\"],[0.6666666666666666,\"#ed7953\"],[0.7777777777777778,\"#fb9f3a\"],[0.8888888888888888,\"#fdca26\"],[1.0,\"#f0f921\"]],\"type\":\"surface\"}],\"table\":[{\"cells\":{\"fill\":{\"color\":\"#EBF0F8\"},\"line\":{\"color\":\"white\"}},\"header\":{\"fill\":{\"color\":\"#C8D4E3\"},\"line\":{\"color\":\"white\"}},\"type\":\"table\"}]},\"layout\":{\"annotationdefaults\":{\"arrowcolor\":\"#2a3f5f\",\"arrowhead\":0,\"arrowwidth\":1},\"autotypenumbers\":\"strict\",\"coloraxis\":{\"colorbar\":{\"outlinewidth\":0,\"ticks\":\"\"}},\"colorscale\":{\"diverging\":[[0,\"#8e0152\"],[0.1,\"#c51b7d\"],[0.2,\"#de77ae\"],[0.3,\"#f1b6da\"],[0.4,\"#fde0ef\"],[0.5,\"#f7f7f7\"],[0.6,\"#e6f5d0\"],[0.7,\"#b8e186\"],[0.8,\"#7fbc41\"],[0.9,\"#4d9221\"],[1,\"#276419\"]],\"sequential\":[[0.0,\"#0d0887\"],[0.1111111111111111,\"#46039f\"],[0.2222222222222222,\"#7201a8\"],[0.3333333333333333,\"#9c179e\"],[0.4444444444444444,\"#bd3786\"],[0.5555555555555556,\"#d8576b\"],[0.6666666666666666,\"#ed7953\"],[0.7777777777777778,\"#fb9f3a\"],[0.8888888888888888,\"#fdca26\"],[1.0,\"#f0f921\"]],\"sequentialminus\":[[0.0,\"#0d0887\"],[0.1111111111111111,\"#46039f\"],[0.2222222222222222,\"#7201a8\"],[0.3333333333333333,\"#9c179e\"],[0.4444444444444444,\"#bd3786\"],[0.5555555555555556,\"#d8576b\"],[0.6666666666666666,\"#ed7953\"],[0.7777777777777778,\"#fb9f3a\"],[0.8888888888888888,\"#fdca26\"],[1.0,\"#f0f921\"]]},\"colorway\":[\"#636efa\",\"#EF553B\",\"#00cc96\",\"#ab63fa\",\"#FFA15A\",\"#19d3f3\",\"#FF6692\",\"#B6E880\",\"#FF97FF\",\"#FECB52\"],\"font\":{\"color\":\"#2a3f5f\"},\"geo\":{\"bgcolor\":\"white\",\"lakecolor\":\"white\",\"landcolor\":\"white\",\"showlakes\":true,\"showland\":true,\"subunitcolor\":\"#C8D4E3\"},\"hoverlabel\":{\"align\":\"left\"},\"hovermode\":\"closest\",\"mapbox\":{\"style\":\"light\"},\"paper_bgcolor\":\"white\",\"plot_bgcolor\":\"white\",\"polar\":{\"angularaxis\":{\"gridcolor\":\"#EBF0F8\",\"linecolor\":\"#EBF0F8\",\"ticks\":\"\"},\"bgcolor\":\"white\",\"radialaxis\":{\"gridcolor\":\"#EBF0F8\",\"linecolor\":\"#EBF0F8\",\"ticks\":\"\"}},\"scene\":{\"xaxis\":{\"backgroundcolor\":\"white\",\"gridcolor\":\"#DFE8F3\",\"gridwidth\":2,\"linecolor\":\"#EBF0F8\",\"showbackground\":true,\"ticks\":\"\",\"zerolinecolor\":\"#EBF0F8\"},\"yaxis\":{\"backgroundcolor\":\"white\",\"gridcolor\":\"#DFE8F3\",\"gridwidth\":2,\"linecolor\":\"#EBF0F8\",\"showbackground\":true,\"ticks\":\"\",\"zerolinecolor\":\"#EBF0F8\"},\"zaxis\":{\"backgroundcolor\":\"white\",\"gridcolor\":\"#DFE8F3\",\"gridwidth\":2,\"linecolor\":\"#EBF0F8\",\"showbackground\":true,\"ticks\":\"\",\"zerolinecolor\":\"#EBF0F8\"}},\"shapedefaults\":{\"line\":{\"color\":\"#2a3f5f\"}},\"ternary\":{\"aaxis\":{\"gridcolor\":\"#DFE8F3\",\"linecolor\":\"#A2B1C6\",\"ticks\":\"\"},\"baxis\":{\"gridcolor\":\"#DFE8F3\",\"linecolor\":\"#A2B1C6\",\"ticks\":\"\"},\"bgcolor\":\"white\",\"caxis\":{\"gridcolor\":\"#DFE8F3\",\"linecolor\":\"#A2B1C6\",\"ticks\":\"\"}},\"title\":{\"x\":0.05},\"xaxis\":{\"automargin\":true,\"gridcolor\":\"#EBF0F8\",\"linecolor\":\"#EBF0F8\",\"ticks\":\"\",\"title\":{\"standoff\":15},\"zerolinecolor\":\"#EBF0F8\",\"zerolinewidth\":2},\"yaxis\":{\"automargin\":true,\"gridcolor\":\"#EBF0F8\",\"linecolor\":\"#EBF0F8\",\"ticks\":\"\",\"title\":{\"standoff\":15},\"zerolinecolor\":\"#EBF0F8\",\"zerolinewidth\":2}}},\"scene\":{\"domain\":{\"x\":[0.0,1.0],\"y\":[0.0,1.0]},\"xaxis\":{\"title\":{\"text\":\"Political regime\"}},\"yaxis\":{\"title\":{\"text\":\"Government Strategy\"}},\"zaxis\":{\"title\":{\"text\":\"Commercial\"}}},\"coloraxis\":{\"colorbar\":{\"title\":{\"text\":\"Total score\"}},\"colorscale\":[[0.0,\"#0d0887\"],[0.1111111111111111,\"#46039f\"],[0.2222222222222222,\"#7201a8\"],[0.3333333333333333,\"#9c179e\"],[0.4444444444444444,\"#bd3786\"],[0.5555555555555556,\"#d8576b\"],[0.6666666666666666,\"#ed7953\"],[0.7777777777777778,\"#fb9f3a\"],[0.8888888888888888,\"#fdca26\"],[1.0,\"#f0f921\"]]},\"legend\":{\"tracegroupgap\":0},\"title\":{\"text\":\"AI Investments by Political regimes\"},\"margin\":{\"t\":35,\"b\":35,\"l\":5,\"r\":5},\"showlegend\":true,\"width\":800,\"height\":400,\"autosize\":false},                        {\"responsive\": true}                    ).then(function(){\n",
       "                            \n",
       "var gd = document.getElementById('a3a819ae-7601-433f-9dd8-ff52d5dff299');\n",
       "var x = new MutationObserver(function (mutations, observer) {{\n",
       "        var display = window.getComputedStyle(gd).display;\n",
       "        if (!display || display === 'none') {{\n",
       "            console.log([gd, 'removed!']);\n",
       "            Plotly.purge(gd);\n",
       "            observer.disconnect();\n",
       "        }}\n",
       "}});\n",
       "\n",
       "// Listen for the removal of the full notebook cells\n",
       "var notebookContainer = gd.closest('#notebook-container');\n",
       "if (notebookContainer) {{\n",
       "    x.observe(notebookContainer, {childList: true});\n",
       "}}\n",
       "\n",
       "// Listen for the clearing of the current output cell\n",
       "var outputEl = gd.closest('.output');\n",
       "if (outputEl) {{\n",
       "    x.observe(outputEl, {childList: true});\n",
       "}}\n",
       "\n",
       "                        })                };                });            </script>        </div>"
      ]
     },
     "metadata": {},
     "output_type": "display_data"
    }
   ],
   "source": [
    "fig = px.scatter_3d(df, x='Political regime', y='Government Strategy', z='Commercial', color='Total score', hover_name=\"Country\", \n",
    "                   title='AI Investments by Political regimes')\n",
    "# Update visual layout\n",
    "fig.update_layout(\n",
    "    showlegend=True,\n",
    "    width=800,\n",
    "    height=400,\n",
    "    autosize=False,\n",
    "    margin=dict(t=35, b=35, l=5, r=5),\n",
    "    template=\"plotly_white\",\n",
    ")\n",
    "fig.show()"
   ]
  },
  {
   "cell_type": "markdown",
   "id": "f7b9fa5d",
   "metadata": {
    "papermill": {
     "duration": 0.035003,
     "end_time": "2023-08-09T09:38:16.698268",
     "exception": false,
     "start_time": "2023-08-09T09:38:16.663265",
     "status": "completed"
    },
    "tags": []
   },
   "source": [
    "The charts above confirms what [Global AI Race: Dominant Players and Aspiring Challengers](https://intersog.com/blog/ai-dominant-players-and-aspiring-challengers/) conveys on the AI Investment indicators\n",
    "\n",
    "<blockquote>\n",
    "    <div class=\"alert alert-block alert-info\"> ✅ <b>The Canadian Government Is the Most Inclined Toward the AI Growth.</b> The Government Strategy indicator focuses on the extent of national commitment to artificial intelligence by examining both spending allocations and national-level plans. It factors in the amount of dedicated investment in AI by the government, the level of tax credit for research and development,  dedicated spending on AI, etc. <br><br>\n",
    "Almost 70% of the countries in the dataset are ready for AI evolution at the governmental level; their Government Strategy indicator score is higher than 50. The first five countries in the rate are Canada, China, Saudi Arabia, Spain, and France (it is 5 out of 6 countries with a score higher than 90).\n",
    "    </div>\n",
    "    <div class=\"alert alert-block alert-info\"> ✅ <b>The United States Is an Absolute Leader in the AI Commercialisation.</b> Commercial indicators evaluate the degree of startup engagement, investment, and business ventures that rely on artificial intelligence. These indicators include the absolute and relative numbers of AI companies and startups, their total and average funding, etc.<br><br>\n",
    "The United States is leading in the commercialization of AI and has no direct competition in this field. China is the closest country to the USA but is 66% behind. The three following countries are Israel, the United Kingdom, and Singapore; their commercial scores are lower than 30.<br><br>\n",
    "Although the United States Government Strategy in AI is not even in the top-5 of the strongest ones, it is scoring high on Investment indicators and is ranking first. The following four countries are China, Israel, the United Kingdom, and Canada; their Investment level is far behind the USA.\n",
    "    </div>\n",
    "</blockquote>"
   ]
  },
  {
   "cell_type": "markdown",
   "id": "8d7acd3c",
   "metadata": {
    "papermill": {
     "duration": 0.035054,
     "end_time": "2023-08-09T09:38:16.768571",
     "exception": false,
     "start_time": "2023-08-09T09:38:16.733517",
     "status": "completed"
    },
    "tags": []
   },
   "source": [
    "# <div style=\"color:white;background-color:#1d1545;padding:3%;border-radius:50px 50px;font-size:1em;text-align:center\">Talent Insights</div>"
   ]
  },
  {
   "cell_type": "code",
   "execution_count": null,
   "id": "de010500",
   "metadata": {
    "_kg_hide-input": true,
    "execution": {
     "iopub.execute_input": "2023-08-09T09:38:16.841478Z",
     "iopub.status.busy": "2023-08-09T09:38:16.841084Z",
     "iopub.status.idle": "2023-08-09T09:38:16.847086Z",
     "shell.execute_reply": "2023-08-09T09:38:16.846224Z"
    },
    "papermill": {
     "duration": 0.044692,
     "end_time": "2023-08-09T09:38:16.849178",
     "exception": false,
     "start_time": "2023-08-09T09:38:16.804486",
     "status": "completed"
    },
    "tags": []
   },
   "outputs": [],
   "source": [
    "talent_df = df[['Country','Region', 'Cluster', 'Income group', 'Political regime', 'Talent']]"
   ]
  },
  {
   "cell_type": "markdown",
   "id": "5bba5abc",
   "metadata": {
    "papermill": {
     "duration": 0.034769,
     "end_time": "2023-08-09T09:38:16.919002",
     "exception": false,
     "start_time": "2023-08-09T09:38:16.884233",
     "status": "completed"
    },
    "tags": []
   },
   "source": [
    "## <div style=\"font-size:20px;text-align:center;color:black;border-bottom:5px #0026d6 solid;padding-bottom:3%\">Talent: Geospacial view</div>"
   ]
  },
  {
   "cell_type": "code",
   "execution_count": null,
   "id": "5cfd4ee6",
   "metadata": {
    "_kg_hide-input": true,
    "execution": {
     "iopub.execute_input": "2023-08-09T09:38:16.992137Z",
     "iopub.status.busy": "2023-08-09T09:38:16.991066Z",
     "iopub.status.idle": "2023-08-09T09:38:17.081004Z",
     "shell.execute_reply": "2023-08-09T09:38:17.079751Z"
    },
    "papermill": {
     "duration": 0.129083,
     "end_time": "2023-08-09T09:38:17.083048",
     "exception": false,
     "start_time": "2023-08-09T09:38:16.953965",
     "status": "completed"
    },
    "tags": []
   },
   "outputs": [
    {
     "name": "stderr",
     "output_type": "stream",
     "text": [
      "/tmp/ipykernel_20/979989294.py:14: SettingWithCopyWarning:\n",
      "\n",
      "\n",
      "A value is trying to be set on a copy of a slice from a DataFrame.\n",
      "Try using .loc[row_indexer,col_indexer] = value instead\n",
      "\n",
      "See the caveats in the documentation: https://pandas.pydata.org/pandas-docs/stable/user_guide/indexing.html#returning-a-view-versus-a-copy\n",
      "\n"
     ]
    },
    {
     "data": {
      "text/html": [
       "<div>                            <div id=\"5e5e0dc5-59a7-435a-b5bf-1c0bc560bb3d\" class=\"plotly-graph-div\" style=\"height:400px; width:800px;\"></div>            <script type=\"text/javascript\">                require([\"plotly\"], function(Plotly) {                    window.PLOTLYENV=window.PLOTLYENV || {};                                    if (document.getElementById(\"5e5e0dc5-59a7-435a-b5bf-1c0bc560bb3d\")) {                    Plotly.newPlot(                        \"5e5e0dc5-59a7-435a-b5bf-1c0bc560bb3d\",                        [{\"geo\":\"geo\",\"hovertemplate\":\"\\u003cb\\u003e%{hovertext}\\u003c\\u002fb\\u003e\\u003cbr\\u003e\\u003cbr\\u003eSize=%{marker.size}\\u003cbr\\u003eCountry=%{location}\\u003cbr\\u003eTalent=%{marker.color}\\u003cextra\\u003e\\u003c\\u002fextra\\u003e\",\"hovertext\":[\"United States of America\",\"China\",\"United Kingdom\",\"Canada\",\"Israel\",\"Singapore\",\"South Korea\",\"The Netherlands\",\"Germany\",\"France\",\"Australia\",\"Ireland\",\"Finland\",\"Denmark\",\"Luxembourg\",\"Japan\",\"India\",\"Switzerland\",\"Sweden\",\"Hong Kong\",\"Spain\",\"Austria\",\"Estonia\",\"Taiwan\",\"Norway\",\"Saudi Arabia\",\"Belgium\",\"Poland\",\"Slovenia\",\"New Zealand\",\"Italy\",\"Russia\",\"Malta\",\"United Arab Emirates\",\"Portugal\",\"Czech Republic\",\"Iceland\",\"Lithuania\",\"Brazil\",\"Greece\",\"Slovakia\",\"Hungary\",\"Malaysia\",\"Mexico\",\"Chile\",\"Argentina\",\"Qatar\",\"Turkey\",\"Colombia\",\"Uruguay\",\"Bahrain\",\"Vietnam\",\"Indonesia\",\"Tunisia\",\"South Africa\",\"Morocco\",\"Armenia\",\"Sri Lanka\",\"Egypt\",\"Kenya\",\"Nigeria\",\"Pakistan\"],\"legendgroup\":\"\",\"locationmode\":\"country names\",\"locations\":[\"United States of America\",\"China\",\"United Kingdom\",\"Canada\",\"Israel\",\"Singapore\",\"South Korea\",\"The Netherlands\",\"Germany\",\"France\",\"Australia\",\"Ireland\",\"Finland\",\"Denmark\",\"Luxembourg\",\"Japan\",\"India\",\"Switzerland\",\"Sweden\",\"Hong Kong\",\"Spain\",\"Austria\",\"Estonia\",\"Taiwan\",\"Norway\",\"Saudi Arabia\",\"Belgium\",\"Poland\",\"Slovenia\",\"New Zealand\",\"Italy\",\"Russia\",\"Malta\",\"United Arab Emirates\",\"Portugal\",\"Czech Republic\",\"Iceland\",\"Lithuania\",\"Brazil\",\"Greece\",\"Slovakia\",\"Hungary\",\"Malaysia\",\"Mexico\",\"Chile\",\"Argentina\",\"Qatar\",\"Turkey\",\"Colombia\",\"Uruguay\",\"Bahrain\",\"Vietnam\",\"Indonesia\",\"Tunisia\",\"South Africa\",\"Morocco\",\"Armenia\",\"Sri Lanka\",\"Egypt\",\"Kenya\",\"Nigeria\",\"Pakistan\"],\"marker\":{\"color\":[100.0,16.51,39.65,31.28,35.76,39.38,14.54,33.83,27.63,28.32,25.43,29.93,24.99,27.07,21.66,15.18,45.27,25.63,28.21,17.56,17.61,16.97,18.74,12.34,27.61,4.49,15.17,14.21,13.02,23.3,11.09,12.46,15.87,2.65,13.43,11.11,18.45,14.3,13.46,7.62,8.55,10.34,10.44,1.72,10.56,8.4,0.0,8.49,4.97,7.28,4.99,6.34,5.51,8.94,4.61,3.36,6.69,6.27,1.11,0.75,2.74,8.0],\"coloraxis\":\"coloraxis\",\"size\":[0.08004270767353636,0.013664546717850347,0.03250752491616984,0.025732721895606936,0.02936460862990398,0.03228969778130862,0.012043847488125882,0.027801595827845835,0.022763924598551945,0.023325825303496757,0.020970246017648762,0.024635700401797904,0.020611123904110018,0.022307657022298002,0.017889032835739904,0.012570657173852176,0.03703081708024541,0.021133440717447098,0.023236268082478726,0.01452729928053743,0.014568364175396588,0.014042606126992008,0.015495981374097823,0.010230819565336509,0.022747632912199025,0.003734684044287988,0.012562427906462606,0.011772102761801004,0.010791561078198668,0.01923056827677898,0.009199223760338378,0.010329796800653195,0.013138313140227533,0.0022058985491622955,0.011129503342743189,0.009215737673310541,0.015258002388980792,0.011846222283681493,0.011154226342138676,0.006329923694869773,0.007099737115223016,0.008579755079448416,0.008662373078652587,0.0014323070916250995,0.00876150566857267,0.006975613736425138,0.0,0.007050089612482101,0.004133113573186406,0.006048338534203368,0.004149711359042041,0.005269425492775723,0.004581157123876318,0.007422385815638084,0.0038343063099467263,0.002796087302001188,0.005559517205232368,0.005211397050533033,0.0009245724511348847,0.000624804768842178,0.002280730489132159,0.006644542718668511],\"sizemode\":\"area\",\"sizeref\":0.00020010676918384089,\"symbol\":\"circle\"},\"mode\":\"markers\",\"name\":\"\",\"showlegend\":false,\"type\":\"scattergeo\"}],                        {\"template\":{\"data\":{\"barpolar\":[{\"marker\":{\"line\":{\"color\":\"white\",\"width\":0.5},\"pattern\":{\"fillmode\":\"overlay\",\"size\":10,\"solidity\":0.2}},\"type\":\"barpolar\"}],\"bar\":[{\"error_x\":{\"color\":\"#2a3f5f\"},\"error_y\":{\"color\":\"#2a3f5f\"},\"marker\":{\"line\":{\"color\":\"white\",\"width\":0.5},\"pattern\":{\"fillmode\":\"overlay\",\"size\":10,\"solidity\":0.2}},\"type\":\"bar\"}],\"carpet\":[{\"aaxis\":{\"endlinecolor\":\"#2a3f5f\",\"gridcolor\":\"#C8D4E3\",\"linecolor\":\"#C8D4E3\",\"minorgridcolor\":\"#C8D4E3\",\"startlinecolor\":\"#2a3f5f\"},\"baxis\":{\"endlinecolor\":\"#2a3f5f\",\"gridcolor\":\"#C8D4E3\",\"linecolor\":\"#C8D4E3\",\"minorgridcolor\":\"#C8D4E3\",\"startlinecolor\":\"#2a3f5f\"},\"type\":\"carpet\"}],\"choropleth\":[{\"colorbar\":{\"outlinewidth\":0,\"ticks\":\"\"},\"type\":\"choropleth\"}],\"contourcarpet\":[{\"colorbar\":{\"outlinewidth\":0,\"ticks\":\"\"},\"type\":\"contourcarpet\"}],\"contour\":[{\"colorbar\":{\"outlinewidth\":0,\"ticks\":\"\"},\"colorscale\":[[0.0,\"#0d0887\"],[0.1111111111111111,\"#46039f\"],[0.2222222222222222,\"#7201a8\"],[0.3333333333333333,\"#9c179e\"],[0.4444444444444444,\"#bd3786\"],[0.5555555555555556,\"#d8576b\"],[0.6666666666666666,\"#ed7953\"],[0.7777777777777778,\"#fb9f3a\"],[0.8888888888888888,\"#fdca26\"],[1.0,\"#f0f921\"]],\"type\":\"contour\"}],\"heatmapgl\":[{\"colorbar\":{\"outlinewidth\":0,\"ticks\":\"\"},\"colorscale\":[[0.0,\"#0d0887\"],[0.1111111111111111,\"#46039f\"],[0.2222222222222222,\"#7201a8\"],[0.3333333333333333,\"#9c179e\"],[0.4444444444444444,\"#bd3786\"],[0.5555555555555556,\"#d8576b\"],[0.6666666666666666,\"#ed7953\"],[0.7777777777777778,\"#fb9f3a\"],[0.8888888888888888,\"#fdca26\"],[1.0,\"#f0f921\"]],\"type\":\"heatmapgl\"}],\"heatmap\":[{\"colorbar\":{\"outlinewidth\":0,\"ticks\":\"\"},\"colorscale\":[[0.0,\"#0d0887\"],[0.1111111111111111,\"#46039f\"],[0.2222222222222222,\"#7201a8\"],[0.3333333333333333,\"#9c179e\"],[0.4444444444444444,\"#bd3786\"],[0.5555555555555556,\"#d8576b\"],[0.6666666666666666,\"#ed7953\"],[0.7777777777777778,\"#fb9f3a\"],[0.8888888888888888,\"#fdca26\"],[1.0,\"#f0f921\"]],\"type\":\"heatmap\"}],\"histogram2dcontour\":[{\"colorbar\":{\"outlinewidth\":0,\"ticks\":\"\"},\"colorscale\":[[0.0,\"#0d0887\"],[0.1111111111111111,\"#46039f\"],[0.2222222222222222,\"#7201a8\"],[0.3333333333333333,\"#9c179e\"],[0.4444444444444444,\"#bd3786\"],[0.5555555555555556,\"#d8576b\"],[0.6666666666666666,\"#ed7953\"],[0.7777777777777778,\"#fb9f3a\"],[0.8888888888888888,\"#fdca26\"],[1.0,\"#f0f921\"]],\"type\":\"histogram2dcontour\"}],\"histogram2d\":[{\"colorbar\":{\"outlinewidth\":0,\"ticks\":\"\"},\"colorscale\":[[0.0,\"#0d0887\"],[0.1111111111111111,\"#46039f\"],[0.2222222222222222,\"#7201a8\"],[0.3333333333333333,\"#9c179e\"],[0.4444444444444444,\"#bd3786\"],[0.5555555555555556,\"#d8576b\"],[0.6666666666666666,\"#ed7953\"],[0.7777777777777778,\"#fb9f3a\"],[0.8888888888888888,\"#fdca26\"],[1.0,\"#f0f921\"]],\"type\":\"histogram2d\"}],\"histogram\":[{\"marker\":{\"pattern\":{\"fillmode\":\"overlay\",\"size\":10,\"solidity\":0.2}},\"type\":\"histogram\"}],\"mesh3d\":[{\"colorbar\":{\"outlinewidth\":0,\"ticks\":\"\"},\"type\":\"mesh3d\"}],\"parcoords\":[{\"line\":{\"colorbar\":{\"outlinewidth\":0,\"ticks\":\"\"}},\"type\":\"parcoords\"}],\"pie\":[{\"automargin\":true,\"type\":\"pie\"}],\"scatter3d\":[{\"line\":{\"colorbar\":{\"outlinewidth\":0,\"ticks\":\"\"}},\"marker\":{\"colorbar\":{\"outlinewidth\":0,\"ticks\":\"\"}},\"type\":\"scatter3d\"}],\"scattercarpet\":[{\"marker\":{\"colorbar\":{\"outlinewidth\":0,\"ticks\":\"\"}},\"type\":\"scattercarpet\"}],\"scattergeo\":[{\"marker\":{\"colorbar\":{\"outlinewidth\":0,\"ticks\":\"\"}},\"type\":\"scattergeo\"}],\"scattergl\":[{\"marker\":{\"colorbar\":{\"outlinewidth\":0,\"ticks\":\"\"}},\"type\":\"scattergl\"}],\"scattermapbox\":[{\"marker\":{\"colorbar\":{\"outlinewidth\":0,\"ticks\":\"\"}},\"type\":\"scattermapbox\"}],\"scatterpolargl\":[{\"marker\":{\"colorbar\":{\"outlinewidth\":0,\"ticks\":\"\"}},\"type\":\"scatterpolargl\"}],\"scatterpolar\":[{\"marker\":{\"colorbar\":{\"outlinewidth\":0,\"ticks\":\"\"}},\"type\":\"scatterpolar\"}],\"scatter\":[{\"fillpattern\":{\"fillmode\":\"overlay\",\"size\":10,\"solidity\":0.2},\"type\":\"scatter\"}],\"scatterternary\":[{\"marker\":{\"colorbar\":{\"outlinewidth\":0,\"ticks\":\"\"}},\"type\":\"scatterternary\"}],\"surface\":[{\"colorbar\":{\"outlinewidth\":0,\"ticks\":\"\"},\"colorscale\":[[0.0,\"#0d0887\"],[0.1111111111111111,\"#46039f\"],[0.2222222222222222,\"#7201a8\"],[0.3333333333333333,\"#9c179e\"],[0.4444444444444444,\"#bd3786\"],[0.5555555555555556,\"#d8576b\"],[0.6666666666666666,\"#ed7953\"],[0.7777777777777778,\"#fb9f3a\"],[0.8888888888888888,\"#fdca26\"],[1.0,\"#f0f921\"]],\"type\":\"surface\"}],\"table\":[{\"cells\":{\"fill\":{\"color\":\"#EBF0F8\"},\"line\":{\"color\":\"white\"}},\"header\":{\"fill\":{\"color\":\"#C8D4E3\"},\"line\":{\"color\":\"white\"}},\"type\":\"table\"}]},\"layout\":{\"annotationdefaults\":{\"arrowcolor\":\"#2a3f5f\",\"arrowhead\":0,\"arrowwidth\":1},\"autotypenumbers\":\"strict\",\"coloraxis\":{\"colorbar\":{\"outlinewidth\":0,\"ticks\":\"\"}},\"colorscale\":{\"diverging\":[[0,\"#8e0152\"],[0.1,\"#c51b7d\"],[0.2,\"#de77ae\"],[0.3,\"#f1b6da\"],[0.4,\"#fde0ef\"],[0.5,\"#f7f7f7\"],[0.6,\"#e6f5d0\"],[0.7,\"#b8e186\"],[0.8,\"#7fbc41\"],[0.9,\"#4d9221\"],[1,\"#276419\"]],\"sequential\":[[0.0,\"#0d0887\"],[0.1111111111111111,\"#46039f\"],[0.2222222222222222,\"#7201a8\"],[0.3333333333333333,\"#9c179e\"],[0.4444444444444444,\"#bd3786\"],[0.5555555555555556,\"#d8576b\"],[0.6666666666666666,\"#ed7953\"],[0.7777777777777778,\"#fb9f3a\"],[0.8888888888888888,\"#fdca26\"],[1.0,\"#f0f921\"]],\"sequentialminus\":[[0.0,\"#0d0887\"],[0.1111111111111111,\"#46039f\"],[0.2222222222222222,\"#7201a8\"],[0.3333333333333333,\"#9c179e\"],[0.4444444444444444,\"#bd3786\"],[0.5555555555555556,\"#d8576b\"],[0.6666666666666666,\"#ed7953\"],[0.7777777777777778,\"#fb9f3a\"],[0.8888888888888888,\"#fdca26\"],[1.0,\"#f0f921\"]]},\"colorway\":[\"#636efa\",\"#EF553B\",\"#00cc96\",\"#ab63fa\",\"#FFA15A\",\"#19d3f3\",\"#FF6692\",\"#B6E880\",\"#FF97FF\",\"#FECB52\"],\"font\":{\"color\":\"#2a3f5f\"},\"geo\":{\"bgcolor\":\"white\",\"lakecolor\":\"white\",\"landcolor\":\"white\",\"showlakes\":true,\"showland\":true,\"subunitcolor\":\"#C8D4E3\"},\"hoverlabel\":{\"align\":\"left\"},\"hovermode\":\"closest\",\"mapbox\":{\"style\":\"light\"},\"paper_bgcolor\":\"white\",\"plot_bgcolor\":\"white\",\"polar\":{\"angularaxis\":{\"gridcolor\":\"#EBF0F8\",\"linecolor\":\"#EBF0F8\",\"ticks\":\"\"},\"bgcolor\":\"white\",\"radialaxis\":{\"gridcolor\":\"#EBF0F8\",\"linecolor\":\"#EBF0F8\",\"ticks\":\"\"}},\"scene\":{\"xaxis\":{\"backgroundcolor\":\"white\",\"gridcolor\":\"#DFE8F3\",\"gridwidth\":2,\"linecolor\":\"#EBF0F8\",\"showbackground\":true,\"ticks\":\"\",\"zerolinecolor\":\"#EBF0F8\"},\"yaxis\":{\"backgroundcolor\":\"white\",\"gridcolor\":\"#DFE8F3\",\"gridwidth\":2,\"linecolor\":\"#EBF0F8\",\"showbackground\":true,\"ticks\":\"\",\"zerolinecolor\":\"#EBF0F8\"},\"zaxis\":{\"backgroundcolor\":\"white\",\"gridcolor\":\"#DFE8F3\",\"gridwidth\":2,\"linecolor\":\"#EBF0F8\",\"showbackground\":true,\"ticks\":\"\",\"zerolinecolor\":\"#EBF0F8\"}},\"shapedefaults\":{\"line\":{\"color\":\"#2a3f5f\"}},\"ternary\":{\"aaxis\":{\"gridcolor\":\"#DFE8F3\",\"linecolor\":\"#A2B1C6\",\"ticks\":\"\"},\"baxis\":{\"gridcolor\":\"#DFE8F3\",\"linecolor\":\"#A2B1C6\",\"ticks\":\"\"},\"bgcolor\":\"white\",\"caxis\":{\"gridcolor\":\"#DFE8F3\",\"linecolor\":\"#A2B1C6\",\"ticks\":\"\"}},\"title\":{\"x\":0.05},\"xaxis\":{\"automargin\":true,\"gridcolor\":\"#EBF0F8\",\"linecolor\":\"#EBF0F8\",\"ticks\":\"\",\"title\":{\"standoff\":15},\"zerolinecolor\":\"#EBF0F8\",\"zerolinewidth\":2},\"yaxis\":{\"automargin\":true,\"gridcolor\":\"#EBF0F8\",\"linecolor\":\"#EBF0F8\",\"ticks\":\"\",\"title\":{\"standoff\":15},\"zerolinecolor\":\"#EBF0F8\",\"zerolinewidth\":2}}},\"geo\":{\"domain\":{\"x\":[0.0,1.0],\"y\":[0.0,1.0]},\"projection\":{\"type\":\"natural earth\"},\"center\":{}},\"coloraxis\":{\"colorbar\":{\"title\":{\"text\":\"Talent\"}},\"colorscale\":[[0.0,\"rgb(217,30,30)\"],[0.25,\"rgb(242,143,56)\"],[0.5,\"rgb(242,211,56)\"],[0.75,\"rgb(10,136,186)\"],[1.0,\"rgb(12,51,131)\"]],\"cmin\":0,\"cmax\":100},\"legend\":{\"tracegroupgap\":0,\"itemsizing\":\"constant\"},\"title\":{\"text\":\"AI Talent Across the Globe\"},\"margin\":{\"t\":40,\"b\":0,\"l\":5,\"r\":5},\"showlegend\":true,\"width\":800,\"height\":400,\"autosize\":false},                        {\"responsive\": true}                    ).then(function(){\n",
       "                            \n",
       "var gd = document.getElementById('5e5e0dc5-59a7-435a-b5bf-1c0bc560bb3d');\n",
       "var x = new MutationObserver(function (mutations, observer) {{\n",
       "        var display = window.getComputedStyle(gd).display;\n",
       "        if (!display || display === 'none') {{\n",
       "            console.log([gd, 'removed!']);\n",
       "            Plotly.purge(gd);\n",
       "            observer.disconnect();\n",
       "        }}\n",
       "}});\n",
       "\n",
       "// Listen for the removal of the full notebook cells\n",
       "var notebookContainer = gd.closest('#notebook-container');\n",
       "if (notebookContainer) {{\n",
       "    x.observe(notebookContainer, {childList: true});\n",
       "}}\n",
       "\n",
       "// Listen for the clearing of the current output cell\n",
       "var outputEl = gd.closest('.output');\n",
       "if (outputEl) {{\n",
       "    x.observe(outputEl, {childList: true});\n",
       "}}\n",
       "\n",
       "                        })                };                });            </script>        </div>"
      ]
     },
     "metadata": {},
     "output_type": "display_data"
    }
   ],
   "source": [
    "# set the size of the geo bubble\n",
    "def set_talent_size(value):\n",
    "    '''\n",
    "    Takes the numeric value of a parameter to visualize on a map (Plotly Geo-Scatter plot)\n",
    "    Returns a number to indicate the size of a bubble for a country which numeric attribute value \n",
    "    was supplied as an input\n",
    "    '''\n",
    "    result = np.log(1+value/1200)\n",
    "\n",
    "    if result < 0:\n",
    "        result = 0.001\n",
    "    return result\n",
    "\n",
    "talent_df['Size'] = talent_df.apply(lambda x: set_talent_size(x['Talent']), axis=1)\n",
    "\n",
    "fig = px.scatter_geo(\n",
    "    talent_df, locations=\"Country\", locationmode='country names', \n",
    "    color=\"Talent\", \n",
    "    size='Size', hover_name=\"Country\", \n",
    "    range_color= [0, 100], \n",
    "    projection=\"natural earth\",\n",
    "    title='AI Talent Across the Globe', \n",
    "    color_continuous_scale=\"portland_r\")\n",
    "\n",
    "# Update visual layout\n",
    "fig.update_layout(\n",
    "    showlegend=True,\n",
    "    width=800,\n",
    "    height=400,\n",
    "    autosize=False,\n",
    "    margin=dict(t=40, b=0, l=5, r=5),\n",
    "    template=\"plotly_white\",\n",
    ")\n",
    "\n",
    "fig.show()"
   ]
  },
  {
   "cell_type": "code",
   "execution_count": null,
   "id": "5756ef09",
   "metadata": {
    "_kg_hide-input": true,
    "execution": {
     "iopub.execute_input": "2023-08-09T09:38:17.156753Z",
     "iopub.status.busy": "2023-08-09T09:38:17.155570Z",
     "iopub.status.idle": "2023-08-09T09:38:17.171591Z",
     "shell.execute_reply": "2023-08-09T09:38:17.170481Z"
    },
    "papermill": {
     "duration": 0.05485,
     "end_time": "2023-08-09T09:38:17.173673",
     "exception": false,
     "start_time": "2023-08-09T09:38:17.118823",
     "status": "completed"
    },
    "tags": []
   },
   "outputs": [
    {
     "data": {
      "text/html": [
       "<style type=\"text/css\">\n",
       "#T_274ef_row0_col1 {\n",
       "  background-color: #800000;\n",
       "  color: #f1f1f1;\n",
       "}\n",
       "#T_274ef_row1_col1 {\n",
       "  background-color: #0000f4;\n",
       "  color: #f1f1f1;\n",
       "}\n",
       "#T_274ef_row2_col1 {\n",
       "  background-color: #0000bc;\n",
       "  color: #f1f1f1;\n",
       "}\n",
       "#T_274ef_row3_col1 {\n",
       "  background-color: #0000ba;\n",
       "  color: #f1f1f1;\n",
       "}\n",
       "#T_274ef_row4_col1 {\n",
       "  background-color: #000095;\n",
       "  color: #f1f1f1;\n",
       "}\n",
       "#T_274ef_row5_col1 {\n",
       "  background-color: #000084;\n",
       "  color: #f1f1f1;\n",
       "}\n",
       "#T_274ef_row6_col1 {\n",
       "  background-color: #000068;\n",
       "  color: #f1f1f1;\n",
       "}\n",
       "#T_274ef_row7_col1 {\n",
       "  background-color: #00005d;\n",
       "  color: #f1f1f1;\n",
       "}\n",
       "#T_274ef_row8_col1, #T_274ef_row9_col1 {\n",
       "  background-color: #00004c;\n",
       "  color: #f1f1f1;\n",
       "}\n",
       "</style>\n",
       "<table id=\"T_274ef\">\n",
       "  <thead>\n",
       "    <tr>\n",
       "      <th class=\"blank level0\" >&nbsp;</th>\n",
       "      <th id=\"T_274ef_level0_col0\" class=\"col_heading level0 col0\" >Country</th>\n",
       "      <th id=\"T_274ef_level0_col1\" class=\"col_heading level0 col1\" >Talent</th>\n",
       "    </tr>\n",
       "  </thead>\n",
       "  <tbody>\n",
       "    <tr>\n",
       "      <th id=\"T_274ef_level0_row0\" class=\"row_heading level0 row0\" >0</th>\n",
       "      <td id=\"T_274ef_row0_col0\" class=\"data row0 col0\" >United States of America</td>\n",
       "      <td id=\"T_274ef_row0_col1\" class=\"data row0 col1\" >100.000000</td>\n",
       "    </tr>\n",
       "    <tr>\n",
       "      <th id=\"T_274ef_level0_row1\" class=\"row_heading level0 row1\" >16</th>\n",
       "      <td id=\"T_274ef_row1_col0\" class=\"data row1 col0\" >India</td>\n",
       "      <td id=\"T_274ef_row1_col1\" class=\"data row1 col1\" >45.270000</td>\n",
       "    </tr>\n",
       "    <tr>\n",
       "      <th id=\"T_274ef_level0_row2\" class=\"row_heading level0 row2\" >2</th>\n",
       "      <td id=\"T_274ef_row2_col0\" class=\"data row2 col0\" >United Kingdom</td>\n",
       "      <td id=\"T_274ef_row2_col1\" class=\"data row2 col1\" >39.650000</td>\n",
       "    </tr>\n",
       "    <tr>\n",
       "      <th id=\"T_274ef_level0_row3\" class=\"row_heading level0 row3\" >5</th>\n",
       "      <td id=\"T_274ef_row3_col0\" class=\"data row3 col0\" >Singapore</td>\n",
       "      <td id=\"T_274ef_row3_col1\" class=\"data row3 col1\" >39.380000</td>\n",
       "    </tr>\n",
       "    <tr>\n",
       "      <th id=\"T_274ef_level0_row4\" class=\"row_heading level0 row4\" >4</th>\n",
       "      <td id=\"T_274ef_row4_col0\" class=\"data row4 col0\" >Israel</td>\n",
       "      <td id=\"T_274ef_row4_col1\" class=\"data row4 col1\" >35.760000</td>\n",
       "    </tr>\n",
       "    <tr>\n",
       "      <th id=\"T_274ef_level0_row5\" class=\"row_heading level0 row5\" >7</th>\n",
       "      <td id=\"T_274ef_row5_col0\" class=\"data row5 col0\" >The Netherlands</td>\n",
       "      <td id=\"T_274ef_row5_col1\" class=\"data row5 col1\" >33.830000</td>\n",
       "    </tr>\n",
       "    <tr>\n",
       "      <th id=\"T_274ef_level0_row6\" class=\"row_heading level0 row6\" >3</th>\n",
       "      <td id=\"T_274ef_row6_col0\" class=\"data row6 col0\" >Canada</td>\n",
       "      <td id=\"T_274ef_row6_col1\" class=\"data row6 col1\" >31.280000</td>\n",
       "    </tr>\n",
       "    <tr>\n",
       "      <th id=\"T_274ef_level0_row7\" class=\"row_heading level0 row7\" >11</th>\n",
       "      <td id=\"T_274ef_row7_col0\" class=\"data row7 col0\" >Ireland</td>\n",
       "      <td id=\"T_274ef_row7_col1\" class=\"data row7 col1\" >29.930000</td>\n",
       "    </tr>\n",
       "    <tr>\n",
       "      <th id=\"T_274ef_level0_row8\" class=\"row_heading level0 row8\" >9</th>\n",
       "      <td id=\"T_274ef_row8_col0\" class=\"data row8 col0\" >France</td>\n",
       "      <td id=\"T_274ef_row8_col1\" class=\"data row8 col1\" >28.320000</td>\n",
       "    </tr>\n",
       "    <tr>\n",
       "      <th id=\"T_274ef_level0_row9\" class=\"row_heading level0 row9\" >18</th>\n",
       "      <td id=\"T_274ef_row9_col0\" class=\"data row9 col0\" >Sweden</td>\n",
       "      <td id=\"T_274ef_row9_col1\" class=\"data row9 col1\" >28.210000</td>\n",
       "    </tr>\n",
       "  </tbody>\n",
       "</table>\n"
      ],
      "text/plain": [
       "<pandas.io.formats.style.Styler at 0x7e9ac2348370>"
      ]
     },
     "execution_count": 39,
     "metadata": {},
     "output_type": "execute_result"
    }
   ],
   "source": [
    "talent_df.sort_values('Talent', \n",
    "                   ascending=False)[\n",
    "                        [ \n",
    "                          'Country',\n",
    "                          'Talent'\n",
    "                        ]\n",
    "][:10].style.background_gradient(cmap='seismic')"
   ]
  },
  {
   "cell_type": "markdown",
   "id": "14e4eae0",
   "metadata": {
    "papermill": {
     "duration": 0.035786,
     "end_time": "2023-08-09T09:38:17.245500",
     "exception": false,
     "start_time": "2023-08-09T09:38:17.209714",
     "status": "completed"
    },
    "tags": []
   },
   "source": [
    "## <div style=\"font-size:20px;text-align:center;color:black;border-bottom:5px #0026d6 solid;padding-bottom:3%\">Talent By Regions</div>"
   ]
  },
  {
   "cell_type": "code",
   "execution_count": null,
   "id": "381a76b3",
   "metadata": {
    "_kg_hide-input": true,
    "execution": {
     "iopub.execute_input": "2023-08-09T09:38:17.320054Z",
     "iopub.status.busy": "2023-08-09T09:38:17.319302Z",
     "iopub.status.idle": "2023-08-09T09:38:17.379300Z",
     "shell.execute_reply": "2023-08-09T09:38:17.378104Z"
    },
    "papermill": {
     "duration": 0.099565,
     "end_time": "2023-08-09T09:38:17.381642",
     "exception": false,
     "start_time": "2023-08-09T09:38:17.282077",
     "status": "completed"
    },
    "tags": []
   },
   "outputs": [
    {
     "data": {
      "text/html": [
       "<div>                            <div id=\"9df7de8d-ff65-4da2-bec7-427aea65b59f\" class=\"plotly-graph-div\" style=\"height:525px; width:100%;\"></div>            <script type=\"text/javascript\">                require([\"plotly\"], function(Plotly) {                    window.PLOTLYENV=window.PLOTLYENV || {};                                    if (document.getElementById(\"9df7de8d-ff65-4da2-bec7-427aea65b59f\")) {                    Plotly.newPlot(                        \"9df7de8d-ff65-4da2-bec7-427aea65b59f\",                        [{\"alignmentgroup\":\"True\",\"box\":{\"visible\":true},\"customdata\":[[\"United States of America\",\"Power players\",\"High\",\"Liberal democracy\",0.08004270767353636],[\"China\",\"Power players\",\"Upper middle\",\"Closed autocracy\",0.013664546717850347],[\"United Kingdom\",\"Traditional champions\",\"High\",\"Liberal democracy\",0.03250752491616984],[\"Canada\",\"Traditional champions\",\"High\",\"Liberal democracy\",0.025732721895606936],[\"Israel\",\"Rising stars\",\"High\",\"Liberal democracy\",0.02936460862990398],[\"Singapore\",\"Rising stars\",\"High\",\"Electoral democracy\",0.03228969778130862],[\"South Korea\",\"Rising stars\",\"High\",\"Liberal democracy\",0.012043847488125882],[\"The Netherlands\",\"Rising stars\",\"High\",\"Liberal democracy\",0.027801595827845835],[\"Germany\",\"Traditional champions\",\"High\",\"Liberal democracy\",0.022763924598551945],[\"France\",\"Traditional champions\",\"High\",\"Liberal democracy\",0.023325825303496757],[\"Australia\",\"Rising stars\",\"High\",\"Liberal democracy\",0.020970246017648762],[\"Ireland\",\"Rising stars\",\"High\",\"Liberal democracy\",0.024635700401797904],[\"Finland\",\"Rising stars\",\"High\",\"Liberal democracy\",0.020611123904110018],[\"Denmark\",\"Rising stars\",\"High\",\"Liberal democracy\",0.022307657022298002],[\"Luxembourg\",\"Waking up\",\"High\",\"Liberal democracy\",0.017889032835739904],[\"Japan\",\"Rising stars\",\"High\",\"Liberal democracy\",0.012570657173852176],[\"India\",\"Waking up\",\"Lower middle\",\"Electoral autocracy\",0.03703081708024541],[\"Switzerland\",\"Rising stars\",\"High\",\"Liberal democracy\",0.021133440717447098],[\"Sweden\",\"Waking up\",\"High\",\"Liberal democracy\",0.023236268082478726],[\"Hong Kong\",\"Waking up\",\"High\",\"Electoral democracy\",0.01452729928053743],[\"Spain\",\"Rising stars\",\"High\",\"Liberal democracy\",0.014568364175396588],[\"Austria\",\"Waking up\",\"High\",\"Electoral democracy\",0.014042606126992008],[\"Estonia\",\"Waking up\",\"High\",\"Liberal democracy\",0.015495981374097823],[\"Taiwan\",\"Waking up\",\"High\",\"Liberal democracy\",0.010230819565336509],[\"Norway\",\"Waking up\",\"High\",\"Liberal democracy\",0.022747632912199025],[\"Saudi Arabia\",\"Waking up\",\"High\",\"Closed autocracy\",0.003734684044287988],[\"Belgium\",\"Waking up\",\"High\",\"Liberal democracy\",0.012562427906462606],[\"Poland\",\"Waking up\",\"High\",\"Electoral democracy\",0.011772102761801004],[\"Slovenia\",\"Waking up\",\"High\",\"Electoral democracy\",0.010791561078198668],[\"New Zealand\",\"Waking up\",\"High\",\"Liberal democracy\",0.01923056827677898],[\"Italy\",\"Waking up\",\"High\",\"Liberal democracy\",0.009199223760338378],[\"Russia\",\"Waking up\",\"Upper middle\",\"Electoral autocracy\",0.010329796800653195],[\"Malta\",\"Waking up\",\"High\",\"Electoral democracy\",0.013138313140227533],[\"United Arab Emirates\",\"Waking up\",\"High\",\"Closed autocracy\",0.0022058985491622955],[\"Portugal\",\"Waking up\",\"High\",\"Electoral democracy\",0.011129503342743189],[\"Czech Republic\",\"Waking up\",\"High\",\"Electoral democracy\",0.009215737673310541],[\"Iceland\",\"Waking up\",\"High\",\"Liberal democracy\",0.015258002388980792],[\"Lithuania\",\"Waking up\",\"High\",\"Electoral democracy\",0.011846222283681493],[\"Brazil\",\"Waking up\",\"Upper middle\",\"Electoral democracy\",0.011154226342138676],[\"Greece\",\"Waking up\",\"High\",\"Liberal democracy\",0.006329923694869773],[\"Slovakia\",\"Waking up\",\"High\",\"Electoral democracy\",0.007099737115223016],[\"Hungary\",\"Waking up\",\"High\",\"Electoral autocracy\",0.008579755079448416],[\"Malaysia\",\"Waking up\",\"Upper middle\",\"Electoral autocracy\",0.008662373078652587],[\"Mexico\",\"Waking up\",\"Upper middle\",\"Electoral democracy\",0.0014323070916250995],[\"Chile\",\"Waking up\",\"High\",\"Liberal democracy\",0.00876150566857267],[\"Argentina\",\"Waking up\",\"Upper middle\",\"Electoral democracy\",0.006975613736425138],[\"Qatar\",\"Waking up\",\"High\",\"Closed autocracy\",0.0],[\"Turkey\",\"Waking up\",\"High\",\"Electoral democracy\",0.007050089612482101],[\"Colombia\",\"Waking up\",\"Upper middle\",\"Electoral democracy\",0.004133113573186406],[\"Uruguay\",\"Waking up\",\"High\",\"Liberal democracy\",0.006048338534203368],[\"Bahrain\",\"Waking up\",\"High\",\"Closed autocracy\",0.004149711359042041],[\"Vietnam\",\"Waking up\",\"Lower middle\",\"Closed autocracy\",0.005269425492775723],[\"Indonesia\",\"Waking up\",\"Lower middle\",\"Electoral democracy\",0.004581157123876318],[\"Tunisia\",\"Waking up\",\"Lower middle\",\"Electoral democracy\",0.007422385815638084],[\"South Africa\",\"Waking up\",\"Upper middle\",\"Electoral democracy\",0.0038343063099467263],[\"Morocco\",\"Waking up\",\"Lower middle\",\"Closed autocracy\",0.002796087302001188],[\"Armenia\",\"Waking up\",\"Upper middle\",\"Electoral democracy\",0.005559517205232368],[\"Sri Lanka\",\"Nascent\",\"Lower middle\",\"Electoral democracy\",0.005211397050533033],[\"Egypt\",\"Nascent\",\"Lower middle\",\"Electoral autocracy\",0.0009245724511348847],[\"Kenya\",\"Nascent\",\"Lower middle\",\"Electoral autocracy\",0.000624804768842178],[\"Nigeria\",\"Nascent\",\"Lower middle\",\"Electoral autocracy\",0.002280730489132159],[\"Pakistan\",\"Nascent\",\"Lower middle\",\"Electoral autocracy\",0.006644542718668511]],\"hovertemplate\":\"Region=%{x}\\u003cbr\\u003eTalent=%{y}\\u003cbr\\u003eCountry=%{customdata[0]}\\u003cbr\\u003eCluster=%{customdata[1]}\\u003cbr\\u003eIncome group=%{customdata[2]}\\u003cbr\\u003ePolitical regime=%{customdata[3]}\\u003cbr\\u003eSize=%{customdata[4]}\\u003cextra\\u003e\\u003c\\u002fextra\\u003e\",\"legendgroup\":\"\",\"marker\":{\"color\":\"#636efa\"},\"name\":\"\",\"offsetgroup\":\"\",\"orientation\":\"v\",\"points\":\"all\",\"scalegroup\":\"True\",\"showlegend\":false,\"x\":[\"Americas\",\"Asia-Pacific\",\"Europe\",\"Americas\",\"Middle East\",\"Asia-Pacific\",\"Asia-Pacific\",\"Europe\",\"Europe\",\"Europe\",\"Asia-Pacific\",\"Europe\",\"Europe\",\"Europe\",\"Europe\",\"Asia-Pacific\",\"Asia-Pacific\",\"Europe\",\"Europe\",\"Asia-Pacific\",\"Europe\",\"Europe\",\"Europe\",\"Asia-Pacific\",\"Europe\",\"Middle East\",\"Europe\",\"Europe\",\"Europe\",\"Asia-Pacific\",\"Europe\",\"Europe\",\"Europe\",\"Middle East\",\"Europe\",\"Europe\",\"Europe\",\"Europe\",\"Americas\",\"Europe\",\"Europe\",\"Europe\",\"Asia-Pacific\",\"Americas\",\"Americas\",\"Americas\",\"Middle East\",\"Europe\",\"Americas\",\"Americas\",\"Middle East\",\"Asia-Pacific\",\"Asia-Pacific\",\"Africa\",\"Africa\",\"Africa\",\"Europe\",\"Asia-Pacific\",\"Middle East\",\"Africa\",\"Africa\",\"Asia-Pacific\"],\"x0\":\" \",\"xaxis\":\"x\",\"y\":[100.0,16.51,39.65,31.28,35.76,39.38,14.54,33.83,27.63,28.32,25.43,29.93,24.99,27.07,21.66,15.18,45.27,25.63,28.21,17.56,17.61,16.97,18.74,12.34,27.61,4.49,15.17,14.21,13.02,23.3,11.09,12.46,15.87,2.65,13.43,11.11,18.45,14.3,13.46,7.62,8.55,10.34,10.44,1.72,10.56,8.4,0.0,8.49,4.97,7.28,4.99,6.34,5.51,8.94,4.61,3.36,6.69,6.27,1.11,0.75,2.74,8.0],\"y0\":\" \",\"yaxis\":\"y\",\"type\":\"violin\"}],                        {\"template\":{\"data\":{\"histogram2dcontour\":[{\"type\":\"histogram2dcontour\",\"colorbar\":{\"outlinewidth\":0,\"ticks\":\"\"},\"colorscale\":[[0.0,\"#0d0887\"],[0.1111111111111111,\"#46039f\"],[0.2222222222222222,\"#7201a8\"],[0.3333333333333333,\"#9c179e\"],[0.4444444444444444,\"#bd3786\"],[0.5555555555555556,\"#d8576b\"],[0.6666666666666666,\"#ed7953\"],[0.7777777777777778,\"#fb9f3a\"],[0.8888888888888888,\"#fdca26\"],[1.0,\"#f0f921\"]]}],\"choropleth\":[{\"type\":\"choropleth\",\"colorbar\":{\"outlinewidth\":0,\"ticks\":\"\"}}],\"histogram2d\":[{\"type\":\"histogram2d\",\"colorbar\":{\"outlinewidth\":0,\"ticks\":\"\"},\"colorscale\":[[0.0,\"#0d0887\"],[0.1111111111111111,\"#46039f\"],[0.2222222222222222,\"#7201a8\"],[0.3333333333333333,\"#9c179e\"],[0.4444444444444444,\"#bd3786\"],[0.5555555555555556,\"#d8576b\"],[0.6666666666666666,\"#ed7953\"],[0.7777777777777778,\"#fb9f3a\"],[0.8888888888888888,\"#fdca26\"],[1.0,\"#f0f921\"]]}],\"heatmap\":[{\"type\":\"heatmap\",\"colorbar\":{\"outlinewidth\":0,\"ticks\":\"\"},\"colorscale\":[[0.0,\"#0d0887\"],[0.1111111111111111,\"#46039f\"],[0.2222222222222222,\"#7201a8\"],[0.3333333333333333,\"#9c179e\"],[0.4444444444444444,\"#bd3786\"],[0.5555555555555556,\"#d8576b\"],[0.6666666666666666,\"#ed7953\"],[0.7777777777777778,\"#fb9f3a\"],[0.8888888888888888,\"#fdca26\"],[1.0,\"#f0f921\"]]}],\"heatmapgl\":[{\"type\":\"heatmapgl\",\"colorbar\":{\"outlinewidth\":0,\"ticks\":\"\"},\"colorscale\":[[0.0,\"#0d0887\"],[0.1111111111111111,\"#46039f\"],[0.2222222222222222,\"#7201a8\"],[0.3333333333333333,\"#9c179e\"],[0.4444444444444444,\"#bd3786\"],[0.5555555555555556,\"#d8576b\"],[0.6666666666666666,\"#ed7953\"],[0.7777777777777778,\"#fb9f3a\"],[0.8888888888888888,\"#fdca26\"],[1.0,\"#f0f921\"]]}],\"contourcarpet\":[{\"type\":\"contourcarpet\",\"colorbar\":{\"outlinewidth\":0,\"ticks\":\"\"}}],\"contour\":[{\"type\":\"contour\",\"colorbar\":{\"outlinewidth\":0,\"ticks\":\"\"},\"colorscale\":[[0.0,\"#0d0887\"],[0.1111111111111111,\"#46039f\"],[0.2222222222222222,\"#7201a8\"],[0.3333333333333333,\"#9c179e\"],[0.4444444444444444,\"#bd3786\"],[0.5555555555555556,\"#d8576b\"],[0.6666666666666666,\"#ed7953\"],[0.7777777777777778,\"#fb9f3a\"],[0.8888888888888888,\"#fdca26\"],[1.0,\"#f0f921\"]]}],\"surface\":[{\"type\":\"surface\",\"colorbar\":{\"outlinewidth\":0,\"ticks\":\"\"},\"colorscale\":[[0.0,\"#0d0887\"],[0.1111111111111111,\"#46039f\"],[0.2222222222222222,\"#7201a8\"],[0.3333333333333333,\"#9c179e\"],[0.4444444444444444,\"#bd3786\"],[0.5555555555555556,\"#d8576b\"],[0.6666666666666666,\"#ed7953\"],[0.7777777777777778,\"#fb9f3a\"],[0.8888888888888888,\"#fdca26\"],[1.0,\"#f0f921\"]]}],\"mesh3d\":[{\"type\":\"mesh3d\",\"colorbar\":{\"outlinewidth\":0,\"ticks\":\"\"}}],\"scatter\":[{\"fillpattern\":{\"fillmode\":\"overlay\",\"size\":10,\"solidity\":0.2},\"type\":\"scatter\"}],\"parcoords\":[{\"type\":\"parcoords\",\"line\":{\"colorbar\":{\"outlinewidth\":0,\"ticks\":\"\"}}}],\"scatterpolargl\":[{\"type\":\"scatterpolargl\",\"marker\":{\"colorbar\":{\"outlinewidth\":0,\"ticks\":\"\"}}}],\"bar\":[{\"error_x\":{\"color\":\"#2a3f5f\"},\"error_y\":{\"color\":\"#2a3f5f\"},\"marker\":{\"line\":{\"color\":\"#E5ECF6\",\"width\":0.5},\"pattern\":{\"fillmode\":\"overlay\",\"size\":10,\"solidity\":0.2}},\"type\":\"bar\"}],\"scattergeo\":[{\"type\":\"scattergeo\",\"marker\":{\"colorbar\":{\"outlinewidth\":0,\"ticks\":\"\"}}}],\"scatterpolar\":[{\"type\":\"scatterpolar\",\"marker\":{\"colorbar\":{\"outlinewidth\":0,\"ticks\":\"\"}}}],\"histogram\":[{\"marker\":{\"pattern\":{\"fillmode\":\"overlay\",\"size\":10,\"solidity\":0.2}},\"type\":\"histogram\"}],\"scattergl\":[{\"type\":\"scattergl\",\"marker\":{\"colorbar\":{\"outlinewidth\":0,\"ticks\":\"\"}}}],\"scatter3d\":[{\"type\":\"scatter3d\",\"line\":{\"colorbar\":{\"outlinewidth\":0,\"ticks\":\"\"}},\"marker\":{\"colorbar\":{\"outlinewidth\":0,\"ticks\":\"\"}}}],\"scattermapbox\":[{\"type\":\"scattermapbox\",\"marker\":{\"colorbar\":{\"outlinewidth\":0,\"ticks\":\"\"}}}],\"scatterternary\":[{\"type\":\"scatterternary\",\"marker\":{\"colorbar\":{\"outlinewidth\":0,\"ticks\":\"\"}}}],\"scattercarpet\":[{\"type\":\"scattercarpet\",\"marker\":{\"colorbar\":{\"outlinewidth\":0,\"ticks\":\"\"}}}],\"carpet\":[{\"aaxis\":{\"endlinecolor\":\"#2a3f5f\",\"gridcolor\":\"white\",\"linecolor\":\"white\",\"minorgridcolor\":\"white\",\"startlinecolor\":\"#2a3f5f\"},\"baxis\":{\"endlinecolor\":\"#2a3f5f\",\"gridcolor\":\"white\",\"linecolor\":\"white\",\"minorgridcolor\":\"white\",\"startlinecolor\":\"#2a3f5f\"},\"type\":\"carpet\"}],\"table\":[{\"cells\":{\"fill\":{\"color\":\"#EBF0F8\"},\"line\":{\"color\":\"white\"}},\"header\":{\"fill\":{\"color\":\"#C8D4E3\"},\"line\":{\"color\":\"white\"}},\"type\":\"table\"}],\"barpolar\":[{\"marker\":{\"line\":{\"color\":\"#E5ECF6\",\"width\":0.5},\"pattern\":{\"fillmode\":\"overlay\",\"size\":10,\"solidity\":0.2}},\"type\":\"barpolar\"}],\"pie\":[{\"automargin\":true,\"type\":\"pie\"}]},\"layout\":{\"autotypenumbers\":\"strict\",\"colorway\":[\"#636efa\",\"#EF553B\",\"#00cc96\",\"#ab63fa\",\"#FFA15A\",\"#19d3f3\",\"#FF6692\",\"#B6E880\",\"#FF97FF\",\"#FECB52\"],\"font\":{\"color\":\"#2a3f5f\"},\"hovermode\":\"closest\",\"hoverlabel\":{\"align\":\"left\"},\"paper_bgcolor\":\"white\",\"plot_bgcolor\":\"#E5ECF6\",\"polar\":{\"bgcolor\":\"#E5ECF6\",\"angularaxis\":{\"gridcolor\":\"white\",\"linecolor\":\"white\",\"ticks\":\"\"},\"radialaxis\":{\"gridcolor\":\"white\",\"linecolor\":\"white\",\"ticks\":\"\"}},\"ternary\":{\"bgcolor\":\"#E5ECF6\",\"aaxis\":{\"gridcolor\":\"white\",\"linecolor\":\"white\",\"ticks\":\"\"},\"baxis\":{\"gridcolor\":\"white\",\"linecolor\":\"white\",\"ticks\":\"\"},\"caxis\":{\"gridcolor\":\"white\",\"linecolor\":\"white\",\"ticks\":\"\"}},\"coloraxis\":{\"colorbar\":{\"outlinewidth\":0,\"ticks\":\"\"}},\"colorscale\":{\"sequential\":[[0.0,\"#0d0887\"],[0.1111111111111111,\"#46039f\"],[0.2222222222222222,\"#7201a8\"],[0.3333333333333333,\"#9c179e\"],[0.4444444444444444,\"#bd3786\"],[0.5555555555555556,\"#d8576b\"],[0.6666666666666666,\"#ed7953\"],[0.7777777777777778,\"#fb9f3a\"],[0.8888888888888888,\"#fdca26\"],[1.0,\"#f0f921\"]],\"sequentialminus\":[[0.0,\"#0d0887\"],[0.1111111111111111,\"#46039f\"],[0.2222222222222222,\"#7201a8\"],[0.3333333333333333,\"#9c179e\"],[0.4444444444444444,\"#bd3786\"],[0.5555555555555556,\"#d8576b\"],[0.6666666666666666,\"#ed7953\"],[0.7777777777777778,\"#fb9f3a\"],[0.8888888888888888,\"#fdca26\"],[1.0,\"#f0f921\"]],\"diverging\":[[0,\"#8e0152\"],[0.1,\"#c51b7d\"],[0.2,\"#de77ae\"],[0.3,\"#f1b6da\"],[0.4,\"#fde0ef\"],[0.5,\"#f7f7f7\"],[0.6,\"#e6f5d0\"],[0.7,\"#b8e186\"],[0.8,\"#7fbc41\"],[0.9,\"#4d9221\"],[1,\"#276419\"]]},\"xaxis\":{\"gridcolor\":\"white\",\"linecolor\":\"white\",\"ticks\":\"\",\"title\":{\"standoff\":15},\"zerolinecolor\":\"white\",\"automargin\":true,\"zerolinewidth\":2},\"yaxis\":{\"gridcolor\":\"white\",\"linecolor\":\"white\",\"ticks\":\"\",\"title\":{\"standoff\":15},\"zerolinecolor\":\"white\",\"automargin\":true,\"zerolinewidth\":2},\"scene\":{\"xaxis\":{\"backgroundcolor\":\"#E5ECF6\",\"gridcolor\":\"white\",\"linecolor\":\"white\",\"showbackground\":true,\"ticks\":\"\",\"zerolinecolor\":\"white\",\"gridwidth\":2},\"yaxis\":{\"backgroundcolor\":\"#E5ECF6\",\"gridcolor\":\"white\",\"linecolor\":\"white\",\"showbackground\":true,\"ticks\":\"\",\"zerolinecolor\":\"white\",\"gridwidth\":2},\"zaxis\":{\"backgroundcolor\":\"#E5ECF6\",\"gridcolor\":\"white\",\"linecolor\":\"white\",\"showbackground\":true,\"ticks\":\"\",\"zerolinecolor\":\"white\",\"gridwidth\":2}},\"shapedefaults\":{\"line\":{\"color\":\"#2a3f5f\"}},\"annotationdefaults\":{\"arrowcolor\":\"#2a3f5f\",\"arrowhead\":0,\"arrowwidth\":1},\"geo\":{\"bgcolor\":\"white\",\"landcolor\":\"#E5ECF6\",\"subunitcolor\":\"white\",\"showland\":true,\"showlakes\":true,\"lakecolor\":\"white\"},\"title\":{\"x\":0.05},\"mapbox\":{\"style\":\"light\"}}},\"xaxis\":{\"anchor\":\"y\",\"domain\":[0.0,1.0],\"title\":{\"text\":\"Region\"}},\"yaxis\":{\"anchor\":\"x\",\"domain\":[0.0,1.0],\"title\":{\"text\":\"Talent\"}},\"legend\":{\"tracegroupgap\":0},\"title\":{\"text\":\"Talent by Regions\"},\"violinmode\":\"group\"},                        {\"responsive\": true}                    ).then(function(){\n",
       "                            \n",
       "var gd = document.getElementById('9df7de8d-ff65-4da2-bec7-427aea65b59f');\n",
       "var x = new MutationObserver(function (mutations, observer) {{\n",
       "        var display = window.getComputedStyle(gd).display;\n",
       "        if (!display || display === 'none') {{\n",
       "            console.log([gd, 'removed!']);\n",
       "            Plotly.purge(gd);\n",
       "            observer.disconnect();\n",
       "        }}\n",
       "}});\n",
       "\n",
       "// Listen for the removal of the full notebook cells\n",
       "var notebookContainer = gd.closest('#notebook-container');\n",
       "if (notebookContainer) {{\n",
       "    x.observe(notebookContainer, {childList: true});\n",
       "}}\n",
       "\n",
       "// Listen for the clearing of the current output cell\n",
       "var outputEl = gd.closest('.output');\n",
       "if (outputEl) {{\n",
       "    x.observe(outputEl, {childList: true});\n",
       "}}\n",
       "\n",
       "                        })                };                });            </script>        </div>"
      ]
     },
     "metadata": {},
     "output_type": "display_data"
    }
   ],
   "source": [
    "fig = px.violin(talent_df, y=\"Talent\", x=\"Region\", box=True, points=\"all\", title=\"Talent by Regions\", hover_data=talent_df.columns)\n",
    "fig.show()"
   ]
  },
  {
   "cell_type": "code",
   "execution_count": null,
   "id": "bb73da16",
   "metadata": {
    "_kg_hide-input": true,
    "execution": {
     "iopub.execute_input": "2023-08-09T09:38:17.456298Z",
     "iopub.status.busy": "2023-08-09T09:38:17.455672Z",
     "iopub.status.idle": "2023-08-09T09:38:17.533171Z",
     "shell.execute_reply": "2023-08-09T09:38:17.532102Z"
    },
    "papermill": {
     "duration": 0.117337,
     "end_time": "2023-08-09T09:38:17.535387",
     "exception": false,
     "start_time": "2023-08-09T09:38:17.418050",
     "status": "completed"
    },
    "tags": []
   },
   "outputs": [
    {
     "name": "stderr",
     "output_type": "stream",
     "text": [
      "/tmp/ipykernel_20/1177101600.py:17: SettingWithCopyWarning:\n",
      "\n",
      "\n",
      "A value is trying to be set on a copy of a slice from a DataFrame.\n",
      "Try using .loc[row_indexer,col_indexer] = value instead\n",
      "\n",
      "See the caveats in the documentation: https://pandas.pydata.org/pandas-docs/stable/user_guide/indexing.html#returning-a-view-versus-a-copy\n",
      "\n"
     ]
    },
    {
     "data": {
      "text/html": [
       "<div>                            <div id=\"7adc295c-ad3d-44d4-b684-38ff9d320a15\" class=\"plotly-graph-div\" style=\"height:600px; width:100%;\"></div>            <script type=\"text/javascript\">                require([\"plotly\"], function(Plotly) {                    window.PLOTLYENV=window.PLOTLYENV || {};                                    if (document.getElementById(\"7adc295c-ad3d-44d4-b684-38ff9d320a15\")) {                    Plotly.newPlot(                        \"7adc295c-ad3d-44d4-b684-38ff9d320a15\",                        [{\"alignmentgroup\":\"True\",\"hovertemplate\":\"Talent_level=1 - Very high\\u003cbr\\u003eRegion=%{x}\\u003cbr\\u003eCountry_count=%{y}\\u003cextra\\u003e\\u003c\\u002fextra\\u003e\",\"legendgroup\":\"1 - Very high\",\"marker\":{\"color\":\"rgb(95, 70, 144)\",\"pattern\":{\"shape\":\"\"}},\"name\":\"1 - Very high\",\"offsetgroup\":\"1 - Very high\",\"orientation\":\"v\",\"showlegend\":true,\"textposition\":\"auto\",\"x\":[\"Americas\"],\"xaxis\":\"x\",\"y\":[1],\"yaxis\":\"y\",\"type\":\"bar\"},{\"alignmentgroup\":\"True\",\"hovertemplate\":\"Talent_level=3 - Moderate\\u003cbr\\u003eRegion=%{x}\\u003cbr\\u003eCountry_count=%{y}\\u003cextra\\u003e\\u003c\\u002fextra\\u003e\",\"legendgroup\":\"3 - Moderate\",\"marker\":{\"color\":\"rgb(29, 105, 150)\",\"pattern\":{\"shape\":\"\"}},\"name\":\"3 - Moderate\",\"offsetgroup\":\"3 - Moderate\",\"orientation\":\"v\",\"showlegend\":true,\"textposition\":\"auto\",\"x\":[\"Asia-Pacific\"],\"xaxis\":\"x\",\"y\":[1],\"yaxis\":\"y\",\"type\":\"bar\"},{\"alignmentgroup\":\"True\",\"hovertemplate\":\"Talent_level=4 - Low\\u003cbr\\u003eRegion=%{x}\\u003cbr\\u003eCountry_count=%{y}\\u003cextra\\u003e\\u003c\\u002fextra\\u003e\",\"legendgroup\":\"4 - Low\",\"marker\":{\"color\":\"rgb(56, 166, 165)\",\"pattern\":{\"shape\":\"\"}},\"name\":\"4 - Low\",\"offsetgroup\":\"4 - Low\",\"orientation\":\"v\",\"showlegend\":true,\"textposition\":\"auto\",\"x\":[\"Americas\",\"Middle East\",\"Asia-Pacific\",\"Europe\"],\"xaxis\":\"x\",\"y\":[1,1,3,11],\"yaxis\":\"y\",\"type\":\"bar\"},{\"alignmentgroup\":\"True\",\"hovertemplate\":\"Talent_level=5 - Very low\\u003cbr\\u003eRegion=%{x}\\u003cbr\\u003eCountry_count=%{y}\\u003cextra\\u003e\\u003c\\u002fextra\\u003e\",\"legendgroup\":\"5 - Very low\",\"marker\":{\"color\":\"rgb(15, 133, 84)\",\"pattern\":{\"shape\":\"\"}},\"name\":\"5 - Very low\",\"offsetgroup\":\"5 - Very low\",\"orientation\":\"v\",\"showlegend\":true,\"textposition\":\"auto\",\"x\":[\"Africa\",\"Middle East\",\"Americas\",\"Asia-Pacific\",\"Europe\"],\"xaxis\":\"x\",\"y\":[5,5,6,10,18],\"yaxis\":\"y\",\"type\":\"bar\"}],                        {\"template\":{\"data\":{\"histogram2dcontour\":[{\"type\":\"histogram2dcontour\",\"colorbar\":{\"outlinewidth\":0,\"ticks\":\"\"},\"colorscale\":[[0.0,\"#0d0887\"],[0.1111111111111111,\"#46039f\"],[0.2222222222222222,\"#7201a8\"],[0.3333333333333333,\"#9c179e\"],[0.4444444444444444,\"#bd3786\"],[0.5555555555555556,\"#d8576b\"],[0.6666666666666666,\"#ed7953\"],[0.7777777777777778,\"#fb9f3a\"],[0.8888888888888888,\"#fdca26\"],[1.0,\"#f0f921\"]]}],\"choropleth\":[{\"type\":\"choropleth\",\"colorbar\":{\"outlinewidth\":0,\"ticks\":\"\"}}],\"histogram2d\":[{\"type\":\"histogram2d\",\"colorbar\":{\"outlinewidth\":0,\"ticks\":\"\"},\"colorscale\":[[0.0,\"#0d0887\"],[0.1111111111111111,\"#46039f\"],[0.2222222222222222,\"#7201a8\"],[0.3333333333333333,\"#9c179e\"],[0.4444444444444444,\"#bd3786\"],[0.5555555555555556,\"#d8576b\"],[0.6666666666666666,\"#ed7953\"],[0.7777777777777778,\"#fb9f3a\"],[0.8888888888888888,\"#fdca26\"],[1.0,\"#f0f921\"]]}],\"heatmap\":[{\"type\":\"heatmap\",\"colorbar\":{\"outlinewidth\":0,\"ticks\":\"\"},\"colorscale\":[[0.0,\"#0d0887\"],[0.1111111111111111,\"#46039f\"],[0.2222222222222222,\"#7201a8\"],[0.3333333333333333,\"#9c179e\"],[0.4444444444444444,\"#bd3786\"],[0.5555555555555556,\"#d8576b\"],[0.6666666666666666,\"#ed7953\"],[0.7777777777777778,\"#fb9f3a\"],[0.8888888888888888,\"#fdca26\"],[1.0,\"#f0f921\"]]}],\"heatmapgl\":[{\"type\":\"heatmapgl\",\"colorbar\":{\"outlinewidth\":0,\"ticks\":\"\"},\"colorscale\":[[0.0,\"#0d0887\"],[0.1111111111111111,\"#46039f\"],[0.2222222222222222,\"#7201a8\"],[0.3333333333333333,\"#9c179e\"],[0.4444444444444444,\"#bd3786\"],[0.5555555555555556,\"#d8576b\"],[0.6666666666666666,\"#ed7953\"],[0.7777777777777778,\"#fb9f3a\"],[0.8888888888888888,\"#fdca26\"],[1.0,\"#f0f921\"]]}],\"contourcarpet\":[{\"type\":\"contourcarpet\",\"colorbar\":{\"outlinewidth\":0,\"ticks\":\"\"}}],\"contour\":[{\"type\":\"contour\",\"colorbar\":{\"outlinewidth\":0,\"ticks\":\"\"},\"colorscale\":[[0.0,\"#0d0887\"],[0.1111111111111111,\"#46039f\"],[0.2222222222222222,\"#7201a8\"],[0.3333333333333333,\"#9c179e\"],[0.4444444444444444,\"#bd3786\"],[0.5555555555555556,\"#d8576b\"],[0.6666666666666666,\"#ed7953\"],[0.7777777777777778,\"#fb9f3a\"],[0.8888888888888888,\"#fdca26\"],[1.0,\"#f0f921\"]]}],\"surface\":[{\"type\":\"surface\",\"colorbar\":{\"outlinewidth\":0,\"ticks\":\"\"},\"colorscale\":[[0.0,\"#0d0887\"],[0.1111111111111111,\"#46039f\"],[0.2222222222222222,\"#7201a8\"],[0.3333333333333333,\"#9c179e\"],[0.4444444444444444,\"#bd3786\"],[0.5555555555555556,\"#d8576b\"],[0.6666666666666666,\"#ed7953\"],[0.7777777777777778,\"#fb9f3a\"],[0.8888888888888888,\"#fdca26\"],[1.0,\"#f0f921\"]]}],\"mesh3d\":[{\"type\":\"mesh3d\",\"colorbar\":{\"outlinewidth\":0,\"ticks\":\"\"}}],\"scatter\":[{\"fillpattern\":{\"fillmode\":\"overlay\",\"size\":10,\"solidity\":0.2},\"type\":\"scatter\"}],\"parcoords\":[{\"type\":\"parcoords\",\"line\":{\"colorbar\":{\"outlinewidth\":0,\"ticks\":\"\"}}}],\"scatterpolargl\":[{\"type\":\"scatterpolargl\",\"marker\":{\"colorbar\":{\"outlinewidth\":0,\"ticks\":\"\"}}}],\"bar\":[{\"error_x\":{\"color\":\"#2a3f5f\"},\"error_y\":{\"color\":\"#2a3f5f\"},\"marker\":{\"line\":{\"color\":\"#E5ECF6\",\"width\":0.5},\"pattern\":{\"fillmode\":\"overlay\",\"size\":10,\"solidity\":0.2}},\"type\":\"bar\"}],\"scattergeo\":[{\"type\":\"scattergeo\",\"marker\":{\"colorbar\":{\"outlinewidth\":0,\"ticks\":\"\"}}}],\"scatterpolar\":[{\"type\":\"scatterpolar\",\"marker\":{\"colorbar\":{\"outlinewidth\":0,\"ticks\":\"\"}}}],\"histogram\":[{\"marker\":{\"pattern\":{\"fillmode\":\"overlay\",\"size\":10,\"solidity\":0.2}},\"type\":\"histogram\"}],\"scattergl\":[{\"type\":\"scattergl\",\"marker\":{\"colorbar\":{\"outlinewidth\":0,\"ticks\":\"\"}}}],\"scatter3d\":[{\"type\":\"scatter3d\",\"line\":{\"colorbar\":{\"outlinewidth\":0,\"ticks\":\"\"}},\"marker\":{\"colorbar\":{\"outlinewidth\":0,\"ticks\":\"\"}}}],\"scattermapbox\":[{\"type\":\"scattermapbox\",\"marker\":{\"colorbar\":{\"outlinewidth\":0,\"ticks\":\"\"}}}],\"scatterternary\":[{\"type\":\"scatterternary\",\"marker\":{\"colorbar\":{\"outlinewidth\":0,\"ticks\":\"\"}}}],\"scattercarpet\":[{\"type\":\"scattercarpet\",\"marker\":{\"colorbar\":{\"outlinewidth\":0,\"ticks\":\"\"}}}],\"carpet\":[{\"aaxis\":{\"endlinecolor\":\"#2a3f5f\",\"gridcolor\":\"white\",\"linecolor\":\"white\",\"minorgridcolor\":\"white\",\"startlinecolor\":\"#2a3f5f\"},\"baxis\":{\"endlinecolor\":\"#2a3f5f\",\"gridcolor\":\"white\",\"linecolor\":\"white\",\"minorgridcolor\":\"white\",\"startlinecolor\":\"#2a3f5f\"},\"type\":\"carpet\"}],\"table\":[{\"cells\":{\"fill\":{\"color\":\"#EBF0F8\"},\"line\":{\"color\":\"white\"}},\"header\":{\"fill\":{\"color\":\"#C8D4E3\"},\"line\":{\"color\":\"white\"}},\"type\":\"table\"}],\"barpolar\":[{\"marker\":{\"line\":{\"color\":\"#E5ECF6\",\"width\":0.5},\"pattern\":{\"fillmode\":\"overlay\",\"size\":10,\"solidity\":0.2}},\"type\":\"barpolar\"}],\"pie\":[{\"automargin\":true,\"type\":\"pie\"}]},\"layout\":{\"autotypenumbers\":\"strict\",\"colorway\":[\"#636efa\",\"#EF553B\",\"#00cc96\",\"#ab63fa\",\"#FFA15A\",\"#19d3f3\",\"#FF6692\",\"#B6E880\",\"#FF97FF\",\"#FECB52\"],\"font\":{\"color\":\"#2a3f5f\"},\"hovermode\":\"closest\",\"hoverlabel\":{\"align\":\"left\"},\"paper_bgcolor\":\"white\",\"plot_bgcolor\":\"#E5ECF6\",\"polar\":{\"bgcolor\":\"#E5ECF6\",\"angularaxis\":{\"gridcolor\":\"white\",\"linecolor\":\"white\",\"ticks\":\"\"},\"radialaxis\":{\"gridcolor\":\"white\",\"linecolor\":\"white\",\"ticks\":\"\"}},\"ternary\":{\"bgcolor\":\"#E5ECF6\",\"aaxis\":{\"gridcolor\":\"white\",\"linecolor\":\"white\",\"ticks\":\"\"},\"baxis\":{\"gridcolor\":\"white\",\"linecolor\":\"white\",\"ticks\":\"\"},\"caxis\":{\"gridcolor\":\"white\",\"linecolor\":\"white\",\"ticks\":\"\"}},\"coloraxis\":{\"colorbar\":{\"outlinewidth\":0,\"ticks\":\"\"}},\"colorscale\":{\"sequential\":[[0.0,\"#0d0887\"],[0.1111111111111111,\"#46039f\"],[0.2222222222222222,\"#7201a8\"],[0.3333333333333333,\"#9c179e\"],[0.4444444444444444,\"#bd3786\"],[0.5555555555555556,\"#d8576b\"],[0.6666666666666666,\"#ed7953\"],[0.7777777777777778,\"#fb9f3a\"],[0.8888888888888888,\"#fdca26\"],[1.0,\"#f0f921\"]],\"sequentialminus\":[[0.0,\"#0d0887\"],[0.1111111111111111,\"#46039f\"],[0.2222222222222222,\"#7201a8\"],[0.3333333333333333,\"#9c179e\"],[0.4444444444444444,\"#bd3786\"],[0.5555555555555556,\"#d8576b\"],[0.6666666666666666,\"#ed7953\"],[0.7777777777777778,\"#fb9f3a\"],[0.8888888888888888,\"#fdca26\"],[1.0,\"#f0f921\"]],\"diverging\":[[0,\"#8e0152\"],[0.1,\"#c51b7d\"],[0.2,\"#de77ae\"],[0.3,\"#f1b6da\"],[0.4,\"#fde0ef\"],[0.5,\"#f7f7f7\"],[0.6,\"#e6f5d0\"],[0.7,\"#b8e186\"],[0.8,\"#7fbc41\"],[0.9,\"#4d9221\"],[1,\"#276419\"]]},\"xaxis\":{\"gridcolor\":\"white\",\"linecolor\":\"white\",\"ticks\":\"\",\"title\":{\"standoff\":15},\"zerolinecolor\":\"white\",\"automargin\":true,\"zerolinewidth\":2},\"yaxis\":{\"gridcolor\":\"white\",\"linecolor\":\"white\",\"ticks\":\"\",\"title\":{\"standoff\":15},\"zerolinecolor\":\"white\",\"automargin\":true,\"zerolinewidth\":2},\"scene\":{\"xaxis\":{\"backgroundcolor\":\"#E5ECF6\",\"gridcolor\":\"white\",\"linecolor\":\"white\",\"showbackground\":true,\"ticks\":\"\",\"zerolinecolor\":\"white\",\"gridwidth\":2},\"yaxis\":{\"backgroundcolor\":\"#E5ECF6\",\"gridcolor\":\"white\",\"linecolor\":\"white\",\"showbackground\":true,\"ticks\":\"\",\"zerolinecolor\":\"white\",\"gridwidth\":2},\"zaxis\":{\"backgroundcolor\":\"#E5ECF6\",\"gridcolor\":\"white\",\"linecolor\":\"white\",\"showbackground\":true,\"ticks\":\"\",\"zerolinecolor\":\"white\",\"gridwidth\":2}},\"shapedefaults\":{\"line\":{\"color\":\"#2a3f5f\"}},\"annotationdefaults\":{\"arrowcolor\":\"#2a3f5f\",\"arrowhead\":0,\"arrowwidth\":1},\"geo\":{\"bgcolor\":\"white\",\"landcolor\":\"#E5ECF6\",\"subunitcolor\":\"white\",\"showland\":true,\"showlakes\":true,\"lakecolor\":\"white\"},\"title\":{\"x\":0.05},\"mapbox\":{\"style\":\"light\"}}},\"xaxis\":{\"anchor\":\"y\",\"domain\":[0.0,1.0],\"title\":{\"text\":\"Region\"}},\"yaxis\":{\"anchor\":\"x\",\"domain\":[0.0,1.0],\"title\":{\"text\":\"Country_count\"}},\"legend\":{\"title\":{\"text\":\"Talent_level\"},\"tracegroupgap\":0},\"title\":{\"text\":\"Countries by Region and Talent level\"},\"barmode\":\"relative\",\"height\":600},                        {\"responsive\": true}                    ).then(function(){\n",
       "                            \n",
       "var gd = document.getElementById('7adc295c-ad3d-44d4-b684-38ff9d320a15');\n",
       "var x = new MutationObserver(function (mutations, observer) {{\n",
       "        var display = window.getComputedStyle(gd).display;\n",
       "        if (!display || display === 'none') {{\n",
       "            console.log([gd, 'removed!']);\n",
       "            Plotly.purge(gd);\n",
       "            observer.disconnect();\n",
       "        }}\n",
       "}});\n",
       "\n",
       "// Listen for the removal of the full notebook cells\n",
       "var notebookContainer = gd.closest('#notebook-container');\n",
       "if (notebookContainer) {{\n",
       "    x.observe(notebookContainer, {childList: true});\n",
       "}}\n",
       "\n",
       "// Listen for the clearing of the current output cell\n",
       "var outputEl = gd.closest('.output');\n",
       "if (outputEl) {{\n",
       "    x.observe(outputEl, {childList: true});\n",
       "}}\n",
       "\n",
       "                        })                };                });            </script>        </div>"
      ]
     },
     "metadata": {},
     "output_type": "display_data"
    }
   ],
   "source": [
    "# implement binning by Talent categories\n",
    "\n",
    "def set_talent_level(x):\n",
    "    res = \"N/A\"\n",
    "    if x >= 80:\n",
    "        res = \"1 - Very high\"\n",
    "    elif x >= 60 and x < 80:\n",
    "        res = \"2 - High\"\n",
    "    elif x >= 40 and x < 60:\n",
    "        res = \"3 - Moderate\"\n",
    "    elif x >= 20 and x < 40:\n",
    "        res = \"4 - Low\"\n",
    "    else:\n",
    "        res = \"5 - Very low\"\n",
    "    return res\n",
    "\n",
    "talent_df[\"Talent_level\"] = talent_df[\"Talent\"].apply(set_talent_level)\n",
    "\n",
    "agg_data = talent_df.groupby(['Region', 'Talent_level']).size().reset_index(name='Country_count')\n",
    "\n",
    "agg_data = agg_data.sort_values(by=[\"Talent_level\", \"Country_count\"])\n",
    "\n",
    "fig = px.bar(\n",
    "    agg_data, \n",
    "    x='Region', \n",
    "    y='Country_count', \n",
    "    color='Talent_level', \n",
    "    title=\"Countries by Region and Talent level\", \n",
    "    color_discrete_sequence=px.colors.qualitative.Prism,\n",
    "    height=600)\n",
    "fig.show()"
   ]
  },
  {
   "cell_type": "markdown",
   "id": "1200e44f",
   "metadata": {
    "papermill": {
     "duration": 0.036191,
     "end_time": "2023-08-09T09:38:17.608081",
     "exception": false,
     "start_time": "2023-08-09T09:38:17.571890",
     "status": "completed"
    },
    "tags": []
   },
   "source": [
    "## <div style=\"font-size:20px;text-align:center;color:black;border-bottom:5px #0026d6 solid;padding-bottom:3%\">Talent by Clusters</div>"
   ]
  },
  {
   "cell_type": "code",
   "execution_count": null,
   "id": "0889fb8d",
   "metadata": {
    "_kg_hide-input": true,
    "execution": {
     "iopub.execute_input": "2023-08-09T09:38:17.683362Z",
     "iopub.status.busy": "2023-08-09T09:38:17.682984Z",
     "iopub.status.idle": "2023-08-09T09:38:17.743295Z",
     "shell.execute_reply": "2023-08-09T09:38:17.742501Z"
    },
    "papermill": {
     "duration": 0.100684,
     "end_time": "2023-08-09T09:38:17.745305",
     "exception": false,
     "start_time": "2023-08-09T09:38:17.644621",
     "status": "completed"
    },
    "tags": []
   },
   "outputs": [
    {
     "data": {
      "text/html": [
       "<div>                            <div id=\"894d814c-742a-46f7-8fc7-721e4f857c37\" class=\"plotly-graph-div\" style=\"height:525px; width:100%;\"></div>            <script type=\"text/javascript\">                require([\"plotly\"], function(Plotly) {                    window.PLOTLYENV=window.PLOTLYENV || {};                                    if (document.getElementById(\"894d814c-742a-46f7-8fc7-721e4f857c37\")) {                    Plotly.newPlot(                        \"894d814c-742a-46f7-8fc7-721e4f857c37\",                        [{\"alignmentgroup\":\"True\",\"box\":{\"visible\":true},\"customdata\":[[\"United States of America\",\"Americas\",\"High\",\"Liberal democracy\",0.08004270767353636,\"1 - Very high\"],[\"China\",\"Asia-Pacific\",\"Upper middle\",\"Closed autocracy\",0.013664546717850347,\"5 - Very low\"],[\"United Kingdom\",\"Europe\",\"High\",\"Liberal democracy\",0.03250752491616984,\"4 - Low\"],[\"Canada\",\"Americas\",\"High\",\"Liberal democracy\",0.025732721895606936,\"4 - Low\"],[\"Israel\",\"Middle East\",\"High\",\"Liberal democracy\",0.02936460862990398,\"4 - Low\"],[\"Singapore\",\"Asia-Pacific\",\"High\",\"Electoral democracy\",0.03228969778130862,\"4 - Low\"],[\"South Korea\",\"Asia-Pacific\",\"High\",\"Liberal democracy\",0.012043847488125882,\"5 - Very low\"],[\"The Netherlands\",\"Europe\",\"High\",\"Liberal democracy\",0.027801595827845835,\"4 - Low\"],[\"Germany\",\"Europe\",\"High\",\"Liberal democracy\",0.022763924598551945,\"4 - Low\"],[\"France\",\"Europe\",\"High\",\"Liberal democracy\",0.023325825303496757,\"4 - Low\"],[\"Australia\",\"Asia-Pacific\",\"High\",\"Liberal democracy\",0.020970246017648762,\"4 - Low\"],[\"Ireland\",\"Europe\",\"High\",\"Liberal democracy\",0.024635700401797904,\"4 - Low\"],[\"Finland\",\"Europe\",\"High\",\"Liberal democracy\",0.020611123904110018,\"4 - Low\"],[\"Denmark\",\"Europe\",\"High\",\"Liberal democracy\",0.022307657022298002,\"4 - Low\"],[\"Luxembourg\",\"Europe\",\"High\",\"Liberal democracy\",0.017889032835739904,\"4 - Low\"],[\"Japan\",\"Asia-Pacific\",\"High\",\"Liberal democracy\",0.012570657173852176,\"5 - Very low\"],[\"India\",\"Asia-Pacific\",\"Lower middle\",\"Electoral autocracy\",0.03703081708024541,\"3 - Moderate\"],[\"Switzerland\",\"Europe\",\"High\",\"Liberal democracy\",0.021133440717447098,\"4 - Low\"],[\"Sweden\",\"Europe\",\"High\",\"Liberal democracy\",0.023236268082478726,\"4 - Low\"],[\"Hong Kong\",\"Asia-Pacific\",\"High\",\"Electoral democracy\",0.01452729928053743,\"5 - Very low\"],[\"Spain\",\"Europe\",\"High\",\"Liberal democracy\",0.014568364175396588,\"5 - Very low\"],[\"Austria\",\"Europe\",\"High\",\"Electoral democracy\",0.014042606126992008,\"5 - Very low\"],[\"Estonia\",\"Europe\",\"High\",\"Liberal democracy\",0.015495981374097823,\"5 - Very low\"],[\"Taiwan\",\"Asia-Pacific\",\"High\",\"Liberal democracy\",0.010230819565336509,\"5 - Very low\"],[\"Norway\",\"Europe\",\"High\",\"Liberal democracy\",0.022747632912199025,\"4 - Low\"],[\"Saudi Arabia\",\"Middle East\",\"High\",\"Closed autocracy\",0.003734684044287988,\"5 - Very low\"],[\"Belgium\",\"Europe\",\"High\",\"Liberal democracy\",0.012562427906462606,\"5 - Very low\"],[\"Poland\",\"Europe\",\"High\",\"Electoral democracy\",0.011772102761801004,\"5 - Very low\"],[\"Slovenia\",\"Europe\",\"High\",\"Electoral democracy\",0.010791561078198668,\"5 - Very low\"],[\"New Zealand\",\"Asia-Pacific\",\"High\",\"Liberal democracy\",0.01923056827677898,\"4 - Low\"],[\"Italy\",\"Europe\",\"High\",\"Liberal democracy\",0.009199223760338378,\"5 - Very low\"],[\"Russia\",\"Europe\",\"Upper middle\",\"Electoral autocracy\",0.010329796800653195,\"5 - Very low\"],[\"Malta\",\"Europe\",\"High\",\"Electoral democracy\",0.013138313140227533,\"5 - Very low\"],[\"United Arab Emirates\",\"Middle East\",\"High\",\"Closed autocracy\",0.0022058985491622955,\"5 - Very low\"],[\"Portugal\",\"Europe\",\"High\",\"Electoral democracy\",0.011129503342743189,\"5 - Very low\"],[\"Czech Republic\",\"Europe\",\"High\",\"Electoral democracy\",0.009215737673310541,\"5 - Very low\"],[\"Iceland\",\"Europe\",\"High\",\"Liberal democracy\",0.015258002388980792,\"5 - Very low\"],[\"Lithuania\",\"Europe\",\"High\",\"Electoral democracy\",0.011846222283681493,\"5 - Very low\"],[\"Brazil\",\"Americas\",\"Upper middle\",\"Electoral democracy\",0.011154226342138676,\"5 - Very low\"],[\"Greece\",\"Europe\",\"High\",\"Liberal democracy\",0.006329923694869773,\"5 - Very low\"],[\"Slovakia\",\"Europe\",\"High\",\"Electoral democracy\",0.007099737115223016,\"5 - Very low\"],[\"Hungary\",\"Europe\",\"High\",\"Electoral autocracy\",0.008579755079448416,\"5 - Very low\"],[\"Malaysia\",\"Asia-Pacific\",\"Upper middle\",\"Electoral autocracy\",0.008662373078652587,\"5 - Very low\"],[\"Mexico\",\"Americas\",\"Upper middle\",\"Electoral democracy\",0.0014323070916250995,\"5 - Very low\"],[\"Chile\",\"Americas\",\"High\",\"Liberal democracy\",0.00876150566857267,\"5 - Very low\"],[\"Argentina\",\"Americas\",\"Upper middle\",\"Electoral democracy\",0.006975613736425138,\"5 - Very low\"],[\"Qatar\",\"Middle East\",\"High\",\"Closed autocracy\",0.0,\"5 - Very low\"],[\"Turkey\",\"Europe\",\"High\",\"Electoral democracy\",0.007050089612482101,\"5 - Very low\"],[\"Colombia\",\"Americas\",\"Upper middle\",\"Electoral democracy\",0.004133113573186406,\"5 - Very low\"],[\"Uruguay\",\"Americas\",\"High\",\"Liberal democracy\",0.006048338534203368,\"5 - Very low\"],[\"Bahrain\",\"Middle East\",\"High\",\"Closed autocracy\",0.004149711359042041,\"5 - Very low\"],[\"Vietnam\",\"Asia-Pacific\",\"Lower middle\",\"Closed autocracy\",0.005269425492775723,\"5 - Very low\"],[\"Indonesia\",\"Asia-Pacific\",\"Lower middle\",\"Electoral democracy\",0.004581157123876318,\"5 - Very low\"],[\"Tunisia\",\"Africa\",\"Lower middle\",\"Electoral democracy\",0.007422385815638084,\"5 - Very low\"],[\"South Africa\",\"Africa\",\"Upper middle\",\"Electoral democracy\",0.0038343063099467263,\"5 - Very low\"],[\"Morocco\",\"Africa\",\"Lower middle\",\"Closed autocracy\",0.002796087302001188,\"5 - Very low\"],[\"Armenia\",\"Europe\",\"Upper middle\",\"Electoral democracy\",0.005559517205232368,\"5 - Very low\"],[\"Sri Lanka\",\"Asia-Pacific\",\"Lower middle\",\"Electoral democracy\",0.005211397050533033,\"5 - Very low\"],[\"Egypt\",\"Middle East\",\"Lower middle\",\"Electoral autocracy\",0.0009245724511348847,\"5 - Very low\"],[\"Kenya\",\"Africa\",\"Lower middle\",\"Electoral autocracy\",0.000624804768842178,\"5 - Very low\"],[\"Nigeria\",\"Africa\",\"Lower middle\",\"Electoral autocracy\",0.002280730489132159,\"5 - Very low\"],[\"Pakistan\",\"Asia-Pacific\",\"Lower middle\",\"Electoral autocracy\",0.006644542718668511,\"5 - Very low\"]],\"hovertemplate\":\"Cluster=%{x}\\u003cbr\\u003eTalent=%{y}\\u003cbr\\u003eCountry=%{customdata[0]}\\u003cbr\\u003eRegion=%{customdata[1]}\\u003cbr\\u003eIncome group=%{customdata[2]}\\u003cbr\\u003ePolitical regime=%{customdata[3]}\\u003cbr\\u003eSize=%{customdata[4]}\\u003cbr\\u003eTalent_level=%{customdata[5]}\\u003cextra\\u003e\\u003c\\u002fextra\\u003e\",\"legendgroup\":\"\",\"marker\":{\"color\":\"#636efa\"},\"name\":\"\",\"offsetgroup\":\"\",\"orientation\":\"v\",\"points\":\"all\",\"scalegroup\":\"True\",\"showlegend\":false,\"x\":[\"Power players\",\"Power players\",\"Traditional champions\",\"Traditional champions\",\"Rising stars\",\"Rising stars\",\"Rising stars\",\"Rising stars\",\"Traditional champions\",\"Traditional champions\",\"Rising stars\",\"Rising stars\",\"Rising stars\",\"Rising stars\",\"Waking up\",\"Rising stars\",\"Waking up\",\"Rising stars\",\"Waking up\",\"Waking up\",\"Rising stars\",\"Waking up\",\"Waking up\",\"Waking up\",\"Waking up\",\"Waking up\",\"Waking up\",\"Waking up\",\"Waking up\",\"Waking up\",\"Waking up\",\"Waking up\",\"Waking up\",\"Waking up\",\"Waking up\",\"Waking up\",\"Waking up\",\"Waking up\",\"Waking up\",\"Waking up\",\"Waking up\",\"Waking up\",\"Waking up\",\"Waking up\",\"Waking up\",\"Waking up\",\"Waking up\",\"Waking up\",\"Waking up\",\"Waking up\",\"Waking up\",\"Waking up\",\"Waking up\",\"Waking up\",\"Waking up\",\"Waking up\",\"Waking up\",\"Nascent\",\"Nascent\",\"Nascent\",\"Nascent\",\"Nascent\"],\"x0\":\" \",\"xaxis\":\"x\",\"y\":[100.0,16.51,39.65,31.28,35.76,39.38,14.54,33.83,27.63,28.32,25.43,29.93,24.99,27.07,21.66,15.18,45.27,25.63,28.21,17.56,17.61,16.97,18.74,12.34,27.61,4.49,15.17,14.21,13.02,23.3,11.09,12.46,15.87,2.65,13.43,11.11,18.45,14.3,13.46,7.62,8.55,10.34,10.44,1.72,10.56,8.4,0.0,8.49,4.97,7.28,4.99,6.34,5.51,8.94,4.61,3.36,6.69,6.27,1.11,0.75,2.74,8.0],\"y0\":\" \",\"yaxis\":\"y\",\"type\":\"violin\"}],                        {\"template\":{\"data\":{\"histogram2dcontour\":[{\"type\":\"histogram2dcontour\",\"colorbar\":{\"outlinewidth\":0,\"ticks\":\"\"},\"colorscale\":[[0.0,\"#0d0887\"],[0.1111111111111111,\"#46039f\"],[0.2222222222222222,\"#7201a8\"],[0.3333333333333333,\"#9c179e\"],[0.4444444444444444,\"#bd3786\"],[0.5555555555555556,\"#d8576b\"],[0.6666666666666666,\"#ed7953\"],[0.7777777777777778,\"#fb9f3a\"],[0.8888888888888888,\"#fdca26\"],[1.0,\"#f0f921\"]]}],\"choropleth\":[{\"type\":\"choropleth\",\"colorbar\":{\"outlinewidth\":0,\"ticks\":\"\"}}],\"histogram2d\":[{\"type\":\"histogram2d\",\"colorbar\":{\"outlinewidth\":0,\"ticks\":\"\"},\"colorscale\":[[0.0,\"#0d0887\"],[0.1111111111111111,\"#46039f\"],[0.2222222222222222,\"#7201a8\"],[0.3333333333333333,\"#9c179e\"],[0.4444444444444444,\"#bd3786\"],[0.5555555555555556,\"#d8576b\"],[0.6666666666666666,\"#ed7953\"],[0.7777777777777778,\"#fb9f3a\"],[0.8888888888888888,\"#fdca26\"],[1.0,\"#f0f921\"]]}],\"heatmap\":[{\"type\":\"heatmap\",\"colorbar\":{\"outlinewidth\":0,\"ticks\":\"\"},\"colorscale\":[[0.0,\"#0d0887\"],[0.1111111111111111,\"#46039f\"],[0.2222222222222222,\"#7201a8\"],[0.3333333333333333,\"#9c179e\"],[0.4444444444444444,\"#bd3786\"],[0.5555555555555556,\"#d8576b\"],[0.6666666666666666,\"#ed7953\"],[0.7777777777777778,\"#fb9f3a\"],[0.8888888888888888,\"#fdca26\"],[1.0,\"#f0f921\"]]}],\"heatmapgl\":[{\"type\":\"heatmapgl\",\"colorbar\":{\"outlinewidth\":0,\"ticks\":\"\"},\"colorscale\":[[0.0,\"#0d0887\"],[0.1111111111111111,\"#46039f\"],[0.2222222222222222,\"#7201a8\"],[0.3333333333333333,\"#9c179e\"],[0.4444444444444444,\"#bd3786\"],[0.5555555555555556,\"#d8576b\"],[0.6666666666666666,\"#ed7953\"],[0.7777777777777778,\"#fb9f3a\"],[0.8888888888888888,\"#fdca26\"],[1.0,\"#f0f921\"]]}],\"contourcarpet\":[{\"type\":\"contourcarpet\",\"colorbar\":{\"outlinewidth\":0,\"ticks\":\"\"}}],\"contour\":[{\"type\":\"contour\",\"colorbar\":{\"outlinewidth\":0,\"ticks\":\"\"},\"colorscale\":[[0.0,\"#0d0887\"],[0.1111111111111111,\"#46039f\"],[0.2222222222222222,\"#7201a8\"],[0.3333333333333333,\"#9c179e\"],[0.4444444444444444,\"#bd3786\"],[0.5555555555555556,\"#d8576b\"],[0.6666666666666666,\"#ed7953\"],[0.7777777777777778,\"#fb9f3a\"],[0.8888888888888888,\"#fdca26\"],[1.0,\"#f0f921\"]]}],\"surface\":[{\"type\":\"surface\",\"colorbar\":{\"outlinewidth\":0,\"ticks\":\"\"},\"colorscale\":[[0.0,\"#0d0887\"],[0.1111111111111111,\"#46039f\"],[0.2222222222222222,\"#7201a8\"],[0.3333333333333333,\"#9c179e\"],[0.4444444444444444,\"#bd3786\"],[0.5555555555555556,\"#d8576b\"],[0.6666666666666666,\"#ed7953\"],[0.7777777777777778,\"#fb9f3a\"],[0.8888888888888888,\"#fdca26\"],[1.0,\"#f0f921\"]]}],\"mesh3d\":[{\"type\":\"mesh3d\",\"colorbar\":{\"outlinewidth\":0,\"ticks\":\"\"}}],\"scatter\":[{\"fillpattern\":{\"fillmode\":\"overlay\",\"size\":10,\"solidity\":0.2},\"type\":\"scatter\"}],\"parcoords\":[{\"type\":\"parcoords\",\"line\":{\"colorbar\":{\"outlinewidth\":0,\"ticks\":\"\"}}}],\"scatterpolargl\":[{\"type\":\"scatterpolargl\",\"marker\":{\"colorbar\":{\"outlinewidth\":0,\"ticks\":\"\"}}}],\"bar\":[{\"error_x\":{\"color\":\"#2a3f5f\"},\"error_y\":{\"color\":\"#2a3f5f\"},\"marker\":{\"line\":{\"color\":\"#E5ECF6\",\"width\":0.5},\"pattern\":{\"fillmode\":\"overlay\",\"size\":10,\"solidity\":0.2}},\"type\":\"bar\"}],\"scattergeo\":[{\"type\":\"scattergeo\",\"marker\":{\"colorbar\":{\"outlinewidth\":0,\"ticks\":\"\"}}}],\"scatterpolar\":[{\"type\":\"scatterpolar\",\"marker\":{\"colorbar\":{\"outlinewidth\":0,\"ticks\":\"\"}}}],\"histogram\":[{\"marker\":{\"pattern\":{\"fillmode\":\"overlay\",\"size\":10,\"solidity\":0.2}},\"type\":\"histogram\"}],\"scattergl\":[{\"type\":\"scattergl\",\"marker\":{\"colorbar\":{\"outlinewidth\":0,\"ticks\":\"\"}}}],\"scatter3d\":[{\"type\":\"scatter3d\",\"line\":{\"colorbar\":{\"outlinewidth\":0,\"ticks\":\"\"}},\"marker\":{\"colorbar\":{\"outlinewidth\":0,\"ticks\":\"\"}}}],\"scattermapbox\":[{\"type\":\"scattermapbox\",\"marker\":{\"colorbar\":{\"outlinewidth\":0,\"ticks\":\"\"}}}],\"scatterternary\":[{\"type\":\"scatterternary\",\"marker\":{\"colorbar\":{\"outlinewidth\":0,\"ticks\":\"\"}}}],\"scattercarpet\":[{\"type\":\"scattercarpet\",\"marker\":{\"colorbar\":{\"outlinewidth\":0,\"ticks\":\"\"}}}],\"carpet\":[{\"aaxis\":{\"endlinecolor\":\"#2a3f5f\",\"gridcolor\":\"white\",\"linecolor\":\"white\",\"minorgridcolor\":\"white\",\"startlinecolor\":\"#2a3f5f\"},\"baxis\":{\"endlinecolor\":\"#2a3f5f\",\"gridcolor\":\"white\",\"linecolor\":\"white\",\"minorgridcolor\":\"white\",\"startlinecolor\":\"#2a3f5f\"},\"type\":\"carpet\"}],\"table\":[{\"cells\":{\"fill\":{\"color\":\"#EBF0F8\"},\"line\":{\"color\":\"white\"}},\"header\":{\"fill\":{\"color\":\"#C8D4E3\"},\"line\":{\"color\":\"white\"}},\"type\":\"table\"}],\"barpolar\":[{\"marker\":{\"line\":{\"color\":\"#E5ECF6\",\"width\":0.5},\"pattern\":{\"fillmode\":\"overlay\",\"size\":10,\"solidity\":0.2}},\"type\":\"barpolar\"}],\"pie\":[{\"automargin\":true,\"type\":\"pie\"}]},\"layout\":{\"autotypenumbers\":\"strict\",\"colorway\":[\"#636efa\",\"#EF553B\",\"#00cc96\",\"#ab63fa\",\"#FFA15A\",\"#19d3f3\",\"#FF6692\",\"#B6E880\",\"#FF97FF\",\"#FECB52\"],\"font\":{\"color\":\"#2a3f5f\"},\"hovermode\":\"closest\",\"hoverlabel\":{\"align\":\"left\"},\"paper_bgcolor\":\"white\",\"plot_bgcolor\":\"#E5ECF6\",\"polar\":{\"bgcolor\":\"#E5ECF6\",\"angularaxis\":{\"gridcolor\":\"white\",\"linecolor\":\"white\",\"ticks\":\"\"},\"radialaxis\":{\"gridcolor\":\"white\",\"linecolor\":\"white\",\"ticks\":\"\"}},\"ternary\":{\"bgcolor\":\"#E5ECF6\",\"aaxis\":{\"gridcolor\":\"white\",\"linecolor\":\"white\",\"ticks\":\"\"},\"baxis\":{\"gridcolor\":\"white\",\"linecolor\":\"white\",\"ticks\":\"\"},\"caxis\":{\"gridcolor\":\"white\",\"linecolor\":\"white\",\"ticks\":\"\"}},\"coloraxis\":{\"colorbar\":{\"outlinewidth\":0,\"ticks\":\"\"}},\"colorscale\":{\"sequential\":[[0.0,\"#0d0887\"],[0.1111111111111111,\"#46039f\"],[0.2222222222222222,\"#7201a8\"],[0.3333333333333333,\"#9c179e\"],[0.4444444444444444,\"#bd3786\"],[0.5555555555555556,\"#d8576b\"],[0.6666666666666666,\"#ed7953\"],[0.7777777777777778,\"#fb9f3a\"],[0.8888888888888888,\"#fdca26\"],[1.0,\"#f0f921\"]],\"sequentialminus\":[[0.0,\"#0d0887\"],[0.1111111111111111,\"#46039f\"],[0.2222222222222222,\"#7201a8\"],[0.3333333333333333,\"#9c179e\"],[0.4444444444444444,\"#bd3786\"],[0.5555555555555556,\"#d8576b\"],[0.6666666666666666,\"#ed7953\"],[0.7777777777777778,\"#fb9f3a\"],[0.8888888888888888,\"#fdca26\"],[1.0,\"#f0f921\"]],\"diverging\":[[0,\"#8e0152\"],[0.1,\"#c51b7d\"],[0.2,\"#de77ae\"],[0.3,\"#f1b6da\"],[0.4,\"#fde0ef\"],[0.5,\"#f7f7f7\"],[0.6,\"#e6f5d0\"],[0.7,\"#b8e186\"],[0.8,\"#7fbc41\"],[0.9,\"#4d9221\"],[1,\"#276419\"]]},\"xaxis\":{\"gridcolor\":\"white\",\"linecolor\":\"white\",\"ticks\":\"\",\"title\":{\"standoff\":15},\"zerolinecolor\":\"white\",\"automargin\":true,\"zerolinewidth\":2},\"yaxis\":{\"gridcolor\":\"white\",\"linecolor\":\"white\",\"ticks\":\"\",\"title\":{\"standoff\":15},\"zerolinecolor\":\"white\",\"automargin\":true,\"zerolinewidth\":2},\"scene\":{\"xaxis\":{\"backgroundcolor\":\"#E5ECF6\",\"gridcolor\":\"white\",\"linecolor\":\"white\",\"showbackground\":true,\"ticks\":\"\",\"zerolinecolor\":\"white\",\"gridwidth\":2},\"yaxis\":{\"backgroundcolor\":\"#E5ECF6\",\"gridcolor\":\"white\",\"linecolor\":\"white\",\"showbackground\":true,\"ticks\":\"\",\"zerolinecolor\":\"white\",\"gridwidth\":2},\"zaxis\":{\"backgroundcolor\":\"#E5ECF6\",\"gridcolor\":\"white\",\"linecolor\":\"white\",\"showbackground\":true,\"ticks\":\"\",\"zerolinecolor\":\"white\",\"gridwidth\":2}},\"shapedefaults\":{\"line\":{\"color\":\"#2a3f5f\"}},\"annotationdefaults\":{\"arrowcolor\":\"#2a3f5f\",\"arrowhead\":0,\"arrowwidth\":1},\"geo\":{\"bgcolor\":\"white\",\"landcolor\":\"#E5ECF6\",\"subunitcolor\":\"white\",\"showland\":true,\"showlakes\":true,\"lakecolor\":\"white\"},\"title\":{\"x\":0.05},\"mapbox\":{\"style\":\"light\"}}},\"xaxis\":{\"anchor\":\"y\",\"domain\":[0.0,1.0],\"title\":{\"text\":\"Cluster\"}},\"yaxis\":{\"anchor\":\"x\",\"domain\":[0.0,1.0],\"title\":{\"text\":\"Talent\"}},\"legend\":{\"tracegroupgap\":0},\"title\":{\"text\":\"Talent by Clusters\"},\"violinmode\":\"group\"},                        {\"responsive\": true}                    ).then(function(){\n",
       "                            \n",
       "var gd = document.getElementById('894d814c-742a-46f7-8fc7-721e4f857c37');\n",
       "var x = new MutationObserver(function (mutations, observer) {{\n",
       "        var display = window.getComputedStyle(gd).display;\n",
       "        if (!display || display === 'none') {{\n",
       "            console.log([gd, 'removed!']);\n",
       "            Plotly.purge(gd);\n",
       "            observer.disconnect();\n",
       "        }}\n",
       "}});\n",
       "\n",
       "// Listen for the removal of the full notebook cells\n",
       "var notebookContainer = gd.closest('#notebook-container');\n",
       "if (notebookContainer) {{\n",
       "    x.observe(notebookContainer, {childList: true});\n",
       "}}\n",
       "\n",
       "// Listen for the clearing of the current output cell\n",
       "var outputEl = gd.closest('.output');\n",
       "if (outputEl) {{\n",
       "    x.observe(outputEl, {childList: true});\n",
       "}}\n",
       "\n",
       "                        })                };                });            </script>        </div>"
      ]
     },
     "metadata": {},
     "output_type": "display_data"
    }
   ],
   "source": [
    "fig = px.violin(talent_df, y=\"Talent\", x=\"Cluster\", box=True, points=\"all\", title=\"Talent by Clusters\", hover_data=talent_df.columns)\n",
    "fig.show()"
   ]
  },
  {
   "cell_type": "code",
   "execution_count": null,
   "id": "985d3567",
   "metadata": {
    "_kg_hide-input": true,
    "execution": {
     "iopub.execute_input": "2023-08-09T09:38:17.821266Z",
     "iopub.status.busy": "2023-08-09T09:38:17.820380Z",
     "iopub.status.idle": "2023-08-09T09:38:17.897843Z",
     "shell.execute_reply": "2023-08-09T09:38:17.896398Z"
    },
    "papermill": {
     "duration": 0.118004,
     "end_time": "2023-08-09T09:38:17.900204",
     "exception": false,
     "start_time": "2023-08-09T09:38:17.782200",
     "status": "completed"
    },
    "tags": []
   },
   "outputs": [
    {
     "data": {
      "text/html": [
       "<div>                            <div id=\"bd006488-4f58-42e6-87c2-20cf1a67415c\" class=\"plotly-graph-div\" style=\"height:600px; width:100%;\"></div>            <script type=\"text/javascript\">                require([\"plotly\"], function(Plotly) {                    window.PLOTLYENV=window.PLOTLYENV || {};                                    if (document.getElementById(\"bd006488-4f58-42e6-87c2-20cf1a67415c\")) {                    Plotly.newPlot(                        \"bd006488-4f58-42e6-87c2-20cf1a67415c\",                        [{\"alignmentgroup\":\"True\",\"hovertemplate\":\"Talent_level=1 - Very high\\u003cbr\\u003eCluster=%{x}\\u003cbr\\u003eCountry_count=%{y}\\u003cextra\\u003e\\u003c\\u002fextra\\u003e\",\"legendgroup\":\"1 - Very high\",\"marker\":{\"color\":\"rgb(95, 70, 144)\",\"pattern\":{\"shape\":\"\"}},\"name\":\"1 - Very high\",\"offsetgroup\":\"1 - Very high\",\"orientation\":\"v\",\"showlegend\":true,\"textposition\":\"auto\",\"x\":[\"Power players\"],\"xaxis\":\"x\",\"y\":[1],\"yaxis\":\"y\",\"type\":\"bar\"},{\"alignmentgroup\":\"True\",\"hovertemplate\":\"Talent_level=3 - Moderate\\u003cbr\\u003eCluster=%{x}\\u003cbr\\u003eCountry_count=%{y}\\u003cextra\\u003e\\u003c\\u002fextra\\u003e\",\"legendgroup\":\"3 - Moderate\",\"marker\":{\"color\":\"rgb(29, 105, 150)\",\"pattern\":{\"shape\":\"\"}},\"name\":\"3 - Moderate\",\"offsetgroup\":\"3 - Moderate\",\"orientation\":\"v\",\"showlegend\":true,\"textposition\":\"auto\",\"x\":[\"Waking up\"],\"xaxis\":\"x\",\"y\":[1],\"yaxis\":\"y\",\"type\":\"bar\"},{\"alignmentgroup\":\"True\",\"hovertemplate\":\"Talent_level=4 - Low\\u003cbr\\u003eCluster=%{x}\\u003cbr\\u003eCountry_count=%{y}\\u003cextra\\u003e\\u003c\\u002fextra\\u003e\",\"legendgroup\":\"4 - Low\",\"marker\":{\"color\":\"rgb(56, 166, 165)\",\"pattern\":{\"shape\":\"\"}},\"name\":\"4 - Low\",\"offsetgroup\":\"4 - Low\",\"orientation\":\"v\",\"showlegend\":true,\"textposition\":\"auto\",\"x\":[\"Traditional champions\",\"Waking up\",\"Rising stars\"],\"xaxis\":\"x\",\"y\":[4,4,8],\"yaxis\":\"y\",\"type\":\"bar\"},{\"alignmentgroup\":\"True\",\"hovertemplate\":\"Talent_level=5 - Very low\\u003cbr\\u003eCluster=%{x}\\u003cbr\\u003eCountry_count=%{y}\\u003cextra\\u003e\\u003c\\u002fextra\\u003e\",\"legendgroup\":\"5 - Very low\",\"marker\":{\"color\":\"rgb(15, 133, 84)\",\"pattern\":{\"shape\":\"\"}},\"name\":\"5 - Very low\",\"offsetgroup\":\"5 - Very low\",\"orientation\":\"v\",\"showlegend\":true,\"textposition\":\"auto\",\"x\":[\"Power players\",\"Rising stars\",\"Nascent\",\"Waking up\"],\"xaxis\":\"x\",\"y\":[1,3,5,35],\"yaxis\":\"y\",\"type\":\"bar\"}],                        {\"template\":{\"data\":{\"histogram2dcontour\":[{\"type\":\"histogram2dcontour\",\"colorbar\":{\"outlinewidth\":0,\"ticks\":\"\"},\"colorscale\":[[0.0,\"#0d0887\"],[0.1111111111111111,\"#46039f\"],[0.2222222222222222,\"#7201a8\"],[0.3333333333333333,\"#9c179e\"],[0.4444444444444444,\"#bd3786\"],[0.5555555555555556,\"#d8576b\"],[0.6666666666666666,\"#ed7953\"],[0.7777777777777778,\"#fb9f3a\"],[0.8888888888888888,\"#fdca26\"],[1.0,\"#f0f921\"]]}],\"choropleth\":[{\"type\":\"choropleth\",\"colorbar\":{\"outlinewidth\":0,\"ticks\":\"\"}}],\"histogram2d\":[{\"type\":\"histogram2d\",\"colorbar\":{\"outlinewidth\":0,\"ticks\":\"\"},\"colorscale\":[[0.0,\"#0d0887\"],[0.1111111111111111,\"#46039f\"],[0.2222222222222222,\"#7201a8\"],[0.3333333333333333,\"#9c179e\"],[0.4444444444444444,\"#bd3786\"],[0.5555555555555556,\"#d8576b\"],[0.6666666666666666,\"#ed7953\"],[0.7777777777777778,\"#fb9f3a\"],[0.8888888888888888,\"#fdca26\"],[1.0,\"#f0f921\"]]}],\"heatmap\":[{\"type\":\"heatmap\",\"colorbar\":{\"outlinewidth\":0,\"ticks\":\"\"},\"colorscale\":[[0.0,\"#0d0887\"],[0.1111111111111111,\"#46039f\"],[0.2222222222222222,\"#7201a8\"],[0.3333333333333333,\"#9c179e\"],[0.4444444444444444,\"#bd3786\"],[0.5555555555555556,\"#d8576b\"],[0.6666666666666666,\"#ed7953\"],[0.7777777777777778,\"#fb9f3a\"],[0.8888888888888888,\"#fdca26\"],[1.0,\"#f0f921\"]]}],\"heatmapgl\":[{\"type\":\"heatmapgl\",\"colorbar\":{\"outlinewidth\":0,\"ticks\":\"\"},\"colorscale\":[[0.0,\"#0d0887\"],[0.1111111111111111,\"#46039f\"],[0.2222222222222222,\"#7201a8\"],[0.3333333333333333,\"#9c179e\"],[0.4444444444444444,\"#bd3786\"],[0.5555555555555556,\"#d8576b\"],[0.6666666666666666,\"#ed7953\"],[0.7777777777777778,\"#fb9f3a\"],[0.8888888888888888,\"#fdca26\"],[1.0,\"#f0f921\"]]}],\"contourcarpet\":[{\"type\":\"contourcarpet\",\"colorbar\":{\"outlinewidth\":0,\"ticks\":\"\"}}],\"contour\":[{\"type\":\"contour\",\"colorbar\":{\"outlinewidth\":0,\"ticks\":\"\"},\"colorscale\":[[0.0,\"#0d0887\"],[0.1111111111111111,\"#46039f\"],[0.2222222222222222,\"#7201a8\"],[0.3333333333333333,\"#9c179e\"],[0.4444444444444444,\"#bd3786\"],[0.5555555555555556,\"#d8576b\"],[0.6666666666666666,\"#ed7953\"],[0.7777777777777778,\"#fb9f3a\"],[0.8888888888888888,\"#fdca26\"],[1.0,\"#f0f921\"]]}],\"surface\":[{\"type\":\"surface\",\"colorbar\":{\"outlinewidth\":0,\"ticks\":\"\"},\"colorscale\":[[0.0,\"#0d0887\"],[0.1111111111111111,\"#46039f\"],[0.2222222222222222,\"#7201a8\"],[0.3333333333333333,\"#9c179e\"],[0.4444444444444444,\"#bd3786\"],[0.5555555555555556,\"#d8576b\"],[0.6666666666666666,\"#ed7953\"],[0.7777777777777778,\"#fb9f3a\"],[0.8888888888888888,\"#fdca26\"],[1.0,\"#f0f921\"]]}],\"mesh3d\":[{\"type\":\"mesh3d\",\"colorbar\":{\"outlinewidth\":0,\"ticks\":\"\"}}],\"scatter\":[{\"fillpattern\":{\"fillmode\":\"overlay\",\"size\":10,\"solidity\":0.2},\"type\":\"scatter\"}],\"parcoords\":[{\"type\":\"parcoords\",\"line\":{\"colorbar\":{\"outlinewidth\":0,\"ticks\":\"\"}}}],\"scatterpolargl\":[{\"type\":\"scatterpolargl\",\"marker\":{\"colorbar\":{\"outlinewidth\":0,\"ticks\":\"\"}}}],\"bar\":[{\"error_x\":{\"color\":\"#2a3f5f\"},\"error_y\":{\"color\":\"#2a3f5f\"},\"marker\":{\"line\":{\"color\":\"#E5ECF6\",\"width\":0.5},\"pattern\":{\"fillmode\":\"overlay\",\"size\":10,\"solidity\":0.2}},\"type\":\"bar\"}],\"scattergeo\":[{\"type\":\"scattergeo\",\"marker\":{\"colorbar\":{\"outlinewidth\":0,\"ticks\":\"\"}}}],\"scatterpolar\":[{\"type\":\"scatterpolar\",\"marker\":{\"colorbar\":{\"outlinewidth\":0,\"ticks\":\"\"}}}],\"histogram\":[{\"marker\":{\"pattern\":{\"fillmode\":\"overlay\",\"size\":10,\"solidity\":0.2}},\"type\":\"histogram\"}],\"scattergl\":[{\"type\":\"scattergl\",\"marker\":{\"colorbar\":{\"outlinewidth\":0,\"ticks\":\"\"}}}],\"scatter3d\":[{\"type\":\"scatter3d\",\"line\":{\"colorbar\":{\"outlinewidth\":0,\"ticks\":\"\"}},\"marker\":{\"colorbar\":{\"outlinewidth\":0,\"ticks\":\"\"}}}],\"scattermapbox\":[{\"type\":\"scattermapbox\",\"marker\":{\"colorbar\":{\"outlinewidth\":0,\"ticks\":\"\"}}}],\"scatterternary\":[{\"type\":\"scatterternary\",\"marker\":{\"colorbar\":{\"outlinewidth\":0,\"ticks\":\"\"}}}],\"scattercarpet\":[{\"type\":\"scattercarpet\",\"marker\":{\"colorbar\":{\"outlinewidth\":0,\"ticks\":\"\"}}}],\"carpet\":[{\"aaxis\":{\"endlinecolor\":\"#2a3f5f\",\"gridcolor\":\"white\",\"linecolor\":\"white\",\"minorgridcolor\":\"white\",\"startlinecolor\":\"#2a3f5f\"},\"baxis\":{\"endlinecolor\":\"#2a3f5f\",\"gridcolor\":\"white\",\"linecolor\":\"white\",\"minorgridcolor\":\"white\",\"startlinecolor\":\"#2a3f5f\"},\"type\":\"carpet\"}],\"table\":[{\"cells\":{\"fill\":{\"color\":\"#EBF0F8\"},\"line\":{\"color\":\"white\"}},\"header\":{\"fill\":{\"color\":\"#C8D4E3\"},\"line\":{\"color\":\"white\"}},\"type\":\"table\"}],\"barpolar\":[{\"marker\":{\"line\":{\"color\":\"#E5ECF6\",\"width\":0.5},\"pattern\":{\"fillmode\":\"overlay\",\"size\":10,\"solidity\":0.2}},\"type\":\"barpolar\"}],\"pie\":[{\"automargin\":true,\"type\":\"pie\"}]},\"layout\":{\"autotypenumbers\":\"strict\",\"colorway\":[\"#636efa\",\"#EF553B\",\"#00cc96\",\"#ab63fa\",\"#FFA15A\",\"#19d3f3\",\"#FF6692\",\"#B6E880\",\"#FF97FF\",\"#FECB52\"],\"font\":{\"color\":\"#2a3f5f\"},\"hovermode\":\"closest\",\"hoverlabel\":{\"align\":\"left\"},\"paper_bgcolor\":\"white\",\"plot_bgcolor\":\"#E5ECF6\",\"polar\":{\"bgcolor\":\"#E5ECF6\",\"angularaxis\":{\"gridcolor\":\"white\",\"linecolor\":\"white\",\"ticks\":\"\"},\"radialaxis\":{\"gridcolor\":\"white\",\"linecolor\":\"white\",\"ticks\":\"\"}},\"ternary\":{\"bgcolor\":\"#E5ECF6\",\"aaxis\":{\"gridcolor\":\"white\",\"linecolor\":\"white\",\"ticks\":\"\"},\"baxis\":{\"gridcolor\":\"white\",\"linecolor\":\"white\",\"ticks\":\"\"},\"caxis\":{\"gridcolor\":\"white\",\"linecolor\":\"white\",\"ticks\":\"\"}},\"coloraxis\":{\"colorbar\":{\"outlinewidth\":0,\"ticks\":\"\"}},\"colorscale\":{\"sequential\":[[0.0,\"#0d0887\"],[0.1111111111111111,\"#46039f\"],[0.2222222222222222,\"#7201a8\"],[0.3333333333333333,\"#9c179e\"],[0.4444444444444444,\"#bd3786\"],[0.5555555555555556,\"#d8576b\"],[0.6666666666666666,\"#ed7953\"],[0.7777777777777778,\"#fb9f3a\"],[0.8888888888888888,\"#fdca26\"],[1.0,\"#f0f921\"]],\"sequentialminus\":[[0.0,\"#0d0887\"],[0.1111111111111111,\"#46039f\"],[0.2222222222222222,\"#7201a8\"],[0.3333333333333333,\"#9c179e\"],[0.4444444444444444,\"#bd3786\"],[0.5555555555555556,\"#d8576b\"],[0.6666666666666666,\"#ed7953\"],[0.7777777777777778,\"#fb9f3a\"],[0.8888888888888888,\"#fdca26\"],[1.0,\"#f0f921\"]],\"diverging\":[[0,\"#8e0152\"],[0.1,\"#c51b7d\"],[0.2,\"#de77ae\"],[0.3,\"#f1b6da\"],[0.4,\"#fde0ef\"],[0.5,\"#f7f7f7\"],[0.6,\"#e6f5d0\"],[0.7,\"#b8e186\"],[0.8,\"#7fbc41\"],[0.9,\"#4d9221\"],[1,\"#276419\"]]},\"xaxis\":{\"gridcolor\":\"white\",\"linecolor\":\"white\",\"ticks\":\"\",\"title\":{\"standoff\":15},\"zerolinecolor\":\"white\",\"automargin\":true,\"zerolinewidth\":2},\"yaxis\":{\"gridcolor\":\"white\",\"linecolor\":\"white\",\"ticks\":\"\",\"title\":{\"standoff\":15},\"zerolinecolor\":\"white\",\"automargin\":true,\"zerolinewidth\":2},\"scene\":{\"xaxis\":{\"backgroundcolor\":\"#E5ECF6\",\"gridcolor\":\"white\",\"linecolor\":\"white\",\"showbackground\":true,\"ticks\":\"\",\"zerolinecolor\":\"white\",\"gridwidth\":2},\"yaxis\":{\"backgroundcolor\":\"#E5ECF6\",\"gridcolor\":\"white\",\"linecolor\":\"white\",\"showbackground\":true,\"ticks\":\"\",\"zerolinecolor\":\"white\",\"gridwidth\":2},\"zaxis\":{\"backgroundcolor\":\"#E5ECF6\",\"gridcolor\":\"white\",\"linecolor\":\"white\",\"showbackground\":true,\"ticks\":\"\",\"zerolinecolor\":\"white\",\"gridwidth\":2}},\"shapedefaults\":{\"line\":{\"color\":\"#2a3f5f\"}},\"annotationdefaults\":{\"arrowcolor\":\"#2a3f5f\",\"arrowhead\":0,\"arrowwidth\":1},\"geo\":{\"bgcolor\":\"white\",\"landcolor\":\"#E5ECF6\",\"subunitcolor\":\"white\",\"showland\":true,\"showlakes\":true,\"lakecolor\":\"white\"},\"title\":{\"x\":0.05},\"mapbox\":{\"style\":\"light\"}}},\"xaxis\":{\"anchor\":\"y\",\"domain\":[0.0,1.0],\"title\":{\"text\":\"Cluster\"}},\"yaxis\":{\"anchor\":\"x\",\"domain\":[0.0,1.0],\"title\":{\"text\":\"Country_count\"}},\"legend\":{\"title\":{\"text\":\"Talent_level\"},\"tracegroupgap\":0},\"title\":{\"text\":\"Countries by Cluster and Talent level\"},\"barmode\":\"relative\",\"height\":600},                        {\"responsive\": true}                    ).then(function(){\n",
       "                            \n",
       "var gd = document.getElementById('bd006488-4f58-42e6-87c2-20cf1a67415c');\n",
       "var x = new MutationObserver(function (mutations, observer) {{\n",
       "        var display = window.getComputedStyle(gd).display;\n",
       "        if (!display || display === 'none') {{\n",
       "            console.log([gd, 'removed!']);\n",
       "            Plotly.purge(gd);\n",
       "            observer.disconnect();\n",
       "        }}\n",
       "}});\n",
       "\n",
       "// Listen for the removal of the full notebook cells\n",
       "var notebookContainer = gd.closest('#notebook-container');\n",
       "if (notebookContainer) {{\n",
       "    x.observe(notebookContainer, {childList: true});\n",
       "}}\n",
       "\n",
       "// Listen for the clearing of the current output cell\n",
       "var outputEl = gd.closest('.output');\n",
       "if (outputEl) {{\n",
       "    x.observe(outputEl, {childList: true});\n",
       "}}\n",
       "\n",
       "                        })                };                });            </script>        </div>"
      ]
     },
     "metadata": {},
     "output_type": "display_data"
    }
   ],
   "source": [
    "agg_data = talent_df.groupby(['Cluster', 'Talent_level']).size().reset_index(name='Country_count')\n",
    "\n",
    "agg_data = agg_data.sort_values(by=[\"Talent_level\", \"Country_count\"])\n",
    "\n",
    "fig = px.bar(\n",
    "    agg_data, \n",
    "    x='Cluster', \n",
    "    y='Country_count', \n",
    "    color='Talent_level', \n",
    "    title=\"Countries by Cluster and Talent level\", \n",
    "    color_discrete_sequence=px.colors.qualitative.Prism,\n",
    "    height=600)\n",
    "fig.show()"
   ]
  },
  {
   "cell_type": "markdown",
   "id": "fe0ec4d2",
   "metadata": {
    "papermill": {
     "duration": 0.037992,
     "end_time": "2023-08-09T09:38:17.981099",
     "exception": false,
     "start_time": "2023-08-09T09:38:17.943107",
     "status": "completed"
    },
    "tags": []
   },
   "source": [
    "## <div style=\"font-size:20px;text-align:center;color:black;border-bottom:5px #0026d6 solid;padding-bottom:3%\">Talent by Income groups</div>"
   ]
  },
  {
   "cell_type": "code",
   "execution_count": null,
   "id": "b1c7cc4e",
   "metadata": {
    "_kg_hide-input": true,
    "execution": {
     "iopub.execute_input": "2023-08-09T09:38:18.058561Z",
     "iopub.status.busy": "2023-08-09T09:38:18.057617Z",
     "iopub.status.idle": "2023-08-09T09:38:18.121146Z",
     "shell.execute_reply": "2023-08-09T09:38:18.120162Z"
    },
    "papermill": {
     "duration": 0.104528,
     "end_time": "2023-08-09T09:38:18.123409",
     "exception": false,
     "start_time": "2023-08-09T09:38:18.018881",
     "status": "completed"
    },
    "tags": []
   },
   "outputs": [
    {
     "data": {
      "text/html": [
       "<div>                            <div id=\"841015b4-c42a-4233-a392-f9837e5c66b0\" class=\"plotly-graph-div\" style=\"height:525px; width:100%;\"></div>            <script type=\"text/javascript\">                require([\"plotly\"], function(Plotly) {                    window.PLOTLYENV=window.PLOTLYENV || {};                                    if (document.getElementById(\"841015b4-c42a-4233-a392-f9837e5c66b0\")) {                    Plotly.newPlot(                        \"841015b4-c42a-4233-a392-f9837e5c66b0\",                        [{\"alignmentgroup\":\"True\",\"box\":{\"visible\":true},\"customdata\":[[\"United States of America\",\"Americas\",\"Power players\",\"Liberal democracy\",0.08004270767353636,\"1 - Very high\"],[\"China\",\"Asia-Pacific\",\"Power players\",\"Closed autocracy\",0.013664546717850347,\"5 - Very low\"],[\"United Kingdom\",\"Europe\",\"Traditional champions\",\"Liberal democracy\",0.03250752491616984,\"4 - Low\"],[\"Canada\",\"Americas\",\"Traditional champions\",\"Liberal democracy\",0.025732721895606936,\"4 - Low\"],[\"Israel\",\"Middle East\",\"Rising stars\",\"Liberal democracy\",0.02936460862990398,\"4 - Low\"],[\"Singapore\",\"Asia-Pacific\",\"Rising stars\",\"Electoral democracy\",0.03228969778130862,\"4 - Low\"],[\"South Korea\",\"Asia-Pacific\",\"Rising stars\",\"Liberal democracy\",0.012043847488125882,\"5 - Very low\"],[\"The Netherlands\",\"Europe\",\"Rising stars\",\"Liberal democracy\",0.027801595827845835,\"4 - Low\"],[\"Germany\",\"Europe\",\"Traditional champions\",\"Liberal democracy\",0.022763924598551945,\"4 - Low\"],[\"France\",\"Europe\",\"Traditional champions\",\"Liberal democracy\",0.023325825303496757,\"4 - Low\"],[\"Australia\",\"Asia-Pacific\",\"Rising stars\",\"Liberal democracy\",0.020970246017648762,\"4 - Low\"],[\"Ireland\",\"Europe\",\"Rising stars\",\"Liberal democracy\",0.024635700401797904,\"4 - Low\"],[\"Finland\",\"Europe\",\"Rising stars\",\"Liberal democracy\",0.020611123904110018,\"4 - Low\"],[\"Denmark\",\"Europe\",\"Rising stars\",\"Liberal democracy\",0.022307657022298002,\"4 - Low\"],[\"Luxembourg\",\"Europe\",\"Waking up\",\"Liberal democracy\",0.017889032835739904,\"4 - Low\"],[\"Japan\",\"Asia-Pacific\",\"Rising stars\",\"Liberal democracy\",0.012570657173852176,\"5 - Very low\"],[\"India\",\"Asia-Pacific\",\"Waking up\",\"Electoral autocracy\",0.03703081708024541,\"3 - Moderate\"],[\"Switzerland\",\"Europe\",\"Rising stars\",\"Liberal democracy\",0.021133440717447098,\"4 - Low\"],[\"Sweden\",\"Europe\",\"Waking up\",\"Liberal democracy\",0.023236268082478726,\"4 - Low\"],[\"Hong Kong\",\"Asia-Pacific\",\"Waking up\",\"Electoral democracy\",0.01452729928053743,\"5 - Very low\"],[\"Spain\",\"Europe\",\"Rising stars\",\"Liberal democracy\",0.014568364175396588,\"5 - Very low\"],[\"Austria\",\"Europe\",\"Waking up\",\"Electoral democracy\",0.014042606126992008,\"5 - Very low\"],[\"Estonia\",\"Europe\",\"Waking up\",\"Liberal democracy\",0.015495981374097823,\"5 - Very low\"],[\"Taiwan\",\"Asia-Pacific\",\"Waking up\",\"Liberal democracy\",0.010230819565336509,\"5 - Very low\"],[\"Norway\",\"Europe\",\"Waking up\",\"Liberal democracy\",0.022747632912199025,\"4 - Low\"],[\"Saudi Arabia\",\"Middle East\",\"Waking up\",\"Closed autocracy\",0.003734684044287988,\"5 - Very low\"],[\"Belgium\",\"Europe\",\"Waking up\",\"Liberal democracy\",0.012562427906462606,\"5 - Very low\"],[\"Poland\",\"Europe\",\"Waking up\",\"Electoral democracy\",0.011772102761801004,\"5 - Very low\"],[\"Slovenia\",\"Europe\",\"Waking up\",\"Electoral democracy\",0.010791561078198668,\"5 - Very low\"],[\"New Zealand\",\"Asia-Pacific\",\"Waking up\",\"Liberal democracy\",0.01923056827677898,\"4 - Low\"],[\"Italy\",\"Europe\",\"Waking up\",\"Liberal democracy\",0.009199223760338378,\"5 - Very low\"],[\"Russia\",\"Europe\",\"Waking up\",\"Electoral autocracy\",0.010329796800653195,\"5 - Very low\"],[\"Malta\",\"Europe\",\"Waking up\",\"Electoral democracy\",0.013138313140227533,\"5 - Very low\"],[\"United Arab Emirates\",\"Middle East\",\"Waking up\",\"Closed autocracy\",0.0022058985491622955,\"5 - Very low\"],[\"Portugal\",\"Europe\",\"Waking up\",\"Electoral democracy\",0.011129503342743189,\"5 - Very low\"],[\"Czech Republic\",\"Europe\",\"Waking up\",\"Electoral democracy\",0.009215737673310541,\"5 - Very low\"],[\"Iceland\",\"Europe\",\"Waking up\",\"Liberal democracy\",0.015258002388980792,\"5 - Very low\"],[\"Lithuania\",\"Europe\",\"Waking up\",\"Electoral democracy\",0.011846222283681493,\"5 - Very low\"],[\"Brazil\",\"Americas\",\"Waking up\",\"Electoral democracy\",0.011154226342138676,\"5 - Very low\"],[\"Greece\",\"Europe\",\"Waking up\",\"Liberal democracy\",0.006329923694869773,\"5 - Very low\"],[\"Slovakia\",\"Europe\",\"Waking up\",\"Electoral democracy\",0.007099737115223016,\"5 - Very low\"],[\"Hungary\",\"Europe\",\"Waking up\",\"Electoral autocracy\",0.008579755079448416,\"5 - Very low\"],[\"Malaysia\",\"Asia-Pacific\",\"Waking up\",\"Electoral autocracy\",0.008662373078652587,\"5 - Very low\"],[\"Mexico\",\"Americas\",\"Waking up\",\"Electoral democracy\",0.0014323070916250995,\"5 - Very low\"],[\"Chile\",\"Americas\",\"Waking up\",\"Liberal democracy\",0.00876150566857267,\"5 - Very low\"],[\"Argentina\",\"Americas\",\"Waking up\",\"Electoral democracy\",0.006975613736425138,\"5 - Very low\"],[\"Qatar\",\"Middle East\",\"Waking up\",\"Closed autocracy\",0.0,\"5 - Very low\"],[\"Turkey\",\"Europe\",\"Waking up\",\"Electoral democracy\",0.007050089612482101,\"5 - Very low\"],[\"Colombia\",\"Americas\",\"Waking up\",\"Electoral democracy\",0.004133113573186406,\"5 - Very low\"],[\"Uruguay\",\"Americas\",\"Waking up\",\"Liberal democracy\",0.006048338534203368,\"5 - Very low\"],[\"Bahrain\",\"Middle East\",\"Waking up\",\"Closed autocracy\",0.004149711359042041,\"5 - Very low\"],[\"Vietnam\",\"Asia-Pacific\",\"Waking up\",\"Closed autocracy\",0.005269425492775723,\"5 - Very low\"],[\"Indonesia\",\"Asia-Pacific\",\"Waking up\",\"Electoral democracy\",0.004581157123876318,\"5 - Very low\"],[\"Tunisia\",\"Africa\",\"Waking up\",\"Electoral democracy\",0.007422385815638084,\"5 - Very low\"],[\"South Africa\",\"Africa\",\"Waking up\",\"Electoral democracy\",0.0038343063099467263,\"5 - Very low\"],[\"Morocco\",\"Africa\",\"Waking up\",\"Closed autocracy\",0.002796087302001188,\"5 - Very low\"],[\"Armenia\",\"Europe\",\"Waking up\",\"Electoral democracy\",0.005559517205232368,\"5 - Very low\"],[\"Sri Lanka\",\"Asia-Pacific\",\"Nascent\",\"Electoral democracy\",0.005211397050533033,\"5 - Very low\"],[\"Egypt\",\"Middle East\",\"Nascent\",\"Electoral autocracy\",0.0009245724511348847,\"5 - Very low\"],[\"Kenya\",\"Africa\",\"Nascent\",\"Electoral autocracy\",0.000624804768842178,\"5 - Very low\"],[\"Nigeria\",\"Africa\",\"Nascent\",\"Electoral autocracy\",0.002280730489132159,\"5 - Very low\"],[\"Pakistan\",\"Asia-Pacific\",\"Nascent\",\"Electoral autocracy\",0.006644542718668511,\"5 - Very low\"]],\"hovertemplate\":\"Income group=%{x}\\u003cbr\\u003eTalent=%{y}\\u003cbr\\u003eCountry=%{customdata[0]}\\u003cbr\\u003eRegion=%{customdata[1]}\\u003cbr\\u003eCluster=%{customdata[2]}\\u003cbr\\u003ePolitical regime=%{customdata[3]}\\u003cbr\\u003eSize=%{customdata[4]}\\u003cbr\\u003eTalent_level=%{customdata[5]}\\u003cextra\\u003e\\u003c\\u002fextra\\u003e\",\"legendgroup\":\"\",\"marker\":{\"color\":\"#636efa\"},\"name\":\"\",\"offsetgroup\":\"\",\"orientation\":\"v\",\"points\":\"all\",\"scalegroup\":\"True\",\"showlegend\":false,\"x\":[\"High\",\"Upper middle\",\"High\",\"High\",\"High\",\"High\",\"High\",\"High\",\"High\",\"High\",\"High\",\"High\",\"High\",\"High\",\"High\",\"High\",\"Lower middle\",\"High\",\"High\",\"High\",\"High\",\"High\",\"High\",\"High\",\"High\",\"High\",\"High\",\"High\",\"High\",\"High\",\"High\",\"Upper middle\",\"High\",\"High\",\"High\",\"High\",\"High\",\"High\",\"Upper middle\",\"High\",\"High\",\"High\",\"Upper middle\",\"Upper middle\",\"High\",\"Upper middle\",\"High\",\"High\",\"Upper middle\",\"High\",\"High\",\"Lower middle\",\"Lower middle\",\"Lower middle\",\"Upper middle\",\"Lower middle\",\"Upper middle\",\"Lower middle\",\"Lower middle\",\"Lower middle\",\"Lower middle\",\"Lower middle\"],\"x0\":\" \",\"xaxis\":\"x\",\"y\":[100.0,16.51,39.65,31.28,35.76,39.38,14.54,33.83,27.63,28.32,25.43,29.93,24.99,27.07,21.66,15.18,45.27,25.63,28.21,17.56,17.61,16.97,18.74,12.34,27.61,4.49,15.17,14.21,13.02,23.3,11.09,12.46,15.87,2.65,13.43,11.11,18.45,14.3,13.46,7.62,8.55,10.34,10.44,1.72,10.56,8.4,0.0,8.49,4.97,7.28,4.99,6.34,5.51,8.94,4.61,3.36,6.69,6.27,1.11,0.75,2.74,8.0],\"y0\":\" \",\"yaxis\":\"y\",\"type\":\"violin\"}],                        {\"template\":{\"data\":{\"histogram2dcontour\":[{\"type\":\"histogram2dcontour\",\"colorbar\":{\"outlinewidth\":0,\"ticks\":\"\"},\"colorscale\":[[0.0,\"#0d0887\"],[0.1111111111111111,\"#46039f\"],[0.2222222222222222,\"#7201a8\"],[0.3333333333333333,\"#9c179e\"],[0.4444444444444444,\"#bd3786\"],[0.5555555555555556,\"#d8576b\"],[0.6666666666666666,\"#ed7953\"],[0.7777777777777778,\"#fb9f3a\"],[0.8888888888888888,\"#fdca26\"],[1.0,\"#f0f921\"]]}],\"choropleth\":[{\"type\":\"choropleth\",\"colorbar\":{\"outlinewidth\":0,\"ticks\":\"\"}}],\"histogram2d\":[{\"type\":\"histogram2d\",\"colorbar\":{\"outlinewidth\":0,\"ticks\":\"\"},\"colorscale\":[[0.0,\"#0d0887\"],[0.1111111111111111,\"#46039f\"],[0.2222222222222222,\"#7201a8\"],[0.3333333333333333,\"#9c179e\"],[0.4444444444444444,\"#bd3786\"],[0.5555555555555556,\"#d8576b\"],[0.6666666666666666,\"#ed7953\"],[0.7777777777777778,\"#fb9f3a\"],[0.8888888888888888,\"#fdca26\"],[1.0,\"#f0f921\"]]}],\"heatmap\":[{\"type\":\"heatmap\",\"colorbar\":{\"outlinewidth\":0,\"ticks\":\"\"},\"colorscale\":[[0.0,\"#0d0887\"],[0.1111111111111111,\"#46039f\"],[0.2222222222222222,\"#7201a8\"],[0.3333333333333333,\"#9c179e\"],[0.4444444444444444,\"#bd3786\"],[0.5555555555555556,\"#d8576b\"],[0.6666666666666666,\"#ed7953\"],[0.7777777777777778,\"#fb9f3a\"],[0.8888888888888888,\"#fdca26\"],[1.0,\"#f0f921\"]]}],\"heatmapgl\":[{\"type\":\"heatmapgl\",\"colorbar\":{\"outlinewidth\":0,\"ticks\":\"\"},\"colorscale\":[[0.0,\"#0d0887\"],[0.1111111111111111,\"#46039f\"],[0.2222222222222222,\"#7201a8\"],[0.3333333333333333,\"#9c179e\"],[0.4444444444444444,\"#bd3786\"],[0.5555555555555556,\"#d8576b\"],[0.6666666666666666,\"#ed7953\"],[0.7777777777777778,\"#fb9f3a\"],[0.8888888888888888,\"#fdca26\"],[1.0,\"#f0f921\"]]}],\"contourcarpet\":[{\"type\":\"contourcarpet\",\"colorbar\":{\"outlinewidth\":0,\"ticks\":\"\"}}],\"contour\":[{\"type\":\"contour\",\"colorbar\":{\"outlinewidth\":0,\"ticks\":\"\"},\"colorscale\":[[0.0,\"#0d0887\"],[0.1111111111111111,\"#46039f\"],[0.2222222222222222,\"#7201a8\"],[0.3333333333333333,\"#9c179e\"],[0.4444444444444444,\"#bd3786\"],[0.5555555555555556,\"#d8576b\"],[0.6666666666666666,\"#ed7953\"],[0.7777777777777778,\"#fb9f3a\"],[0.8888888888888888,\"#fdca26\"],[1.0,\"#f0f921\"]]}],\"surface\":[{\"type\":\"surface\",\"colorbar\":{\"outlinewidth\":0,\"ticks\":\"\"},\"colorscale\":[[0.0,\"#0d0887\"],[0.1111111111111111,\"#46039f\"],[0.2222222222222222,\"#7201a8\"],[0.3333333333333333,\"#9c179e\"],[0.4444444444444444,\"#bd3786\"],[0.5555555555555556,\"#d8576b\"],[0.6666666666666666,\"#ed7953\"],[0.7777777777777778,\"#fb9f3a\"],[0.8888888888888888,\"#fdca26\"],[1.0,\"#f0f921\"]]}],\"mesh3d\":[{\"type\":\"mesh3d\",\"colorbar\":{\"outlinewidth\":0,\"ticks\":\"\"}}],\"scatter\":[{\"fillpattern\":{\"fillmode\":\"overlay\",\"size\":10,\"solidity\":0.2},\"type\":\"scatter\"}],\"parcoords\":[{\"type\":\"parcoords\",\"line\":{\"colorbar\":{\"outlinewidth\":0,\"ticks\":\"\"}}}],\"scatterpolargl\":[{\"type\":\"scatterpolargl\",\"marker\":{\"colorbar\":{\"outlinewidth\":0,\"ticks\":\"\"}}}],\"bar\":[{\"error_x\":{\"color\":\"#2a3f5f\"},\"error_y\":{\"color\":\"#2a3f5f\"},\"marker\":{\"line\":{\"color\":\"#E5ECF6\",\"width\":0.5},\"pattern\":{\"fillmode\":\"overlay\",\"size\":10,\"solidity\":0.2}},\"type\":\"bar\"}],\"scattergeo\":[{\"type\":\"scattergeo\",\"marker\":{\"colorbar\":{\"outlinewidth\":0,\"ticks\":\"\"}}}],\"scatterpolar\":[{\"type\":\"scatterpolar\",\"marker\":{\"colorbar\":{\"outlinewidth\":0,\"ticks\":\"\"}}}],\"histogram\":[{\"marker\":{\"pattern\":{\"fillmode\":\"overlay\",\"size\":10,\"solidity\":0.2}},\"type\":\"histogram\"}],\"scattergl\":[{\"type\":\"scattergl\",\"marker\":{\"colorbar\":{\"outlinewidth\":0,\"ticks\":\"\"}}}],\"scatter3d\":[{\"type\":\"scatter3d\",\"line\":{\"colorbar\":{\"outlinewidth\":0,\"ticks\":\"\"}},\"marker\":{\"colorbar\":{\"outlinewidth\":0,\"ticks\":\"\"}}}],\"scattermapbox\":[{\"type\":\"scattermapbox\",\"marker\":{\"colorbar\":{\"outlinewidth\":0,\"ticks\":\"\"}}}],\"scatterternary\":[{\"type\":\"scatterternary\",\"marker\":{\"colorbar\":{\"outlinewidth\":0,\"ticks\":\"\"}}}],\"scattercarpet\":[{\"type\":\"scattercarpet\",\"marker\":{\"colorbar\":{\"outlinewidth\":0,\"ticks\":\"\"}}}],\"carpet\":[{\"aaxis\":{\"endlinecolor\":\"#2a3f5f\",\"gridcolor\":\"white\",\"linecolor\":\"white\",\"minorgridcolor\":\"white\",\"startlinecolor\":\"#2a3f5f\"},\"baxis\":{\"endlinecolor\":\"#2a3f5f\",\"gridcolor\":\"white\",\"linecolor\":\"white\",\"minorgridcolor\":\"white\",\"startlinecolor\":\"#2a3f5f\"},\"type\":\"carpet\"}],\"table\":[{\"cells\":{\"fill\":{\"color\":\"#EBF0F8\"},\"line\":{\"color\":\"white\"}},\"header\":{\"fill\":{\"color\":\"#C8D4E3\"},\"line\":{\"color\":\"white\"}},\"type\":\"table\"}],\"barpolar\":[{\"marker\":{\"line\":{\"color\":\"#E5ECF6\",\"width\":0.5},\"pattern\":{\"fillmode\":\"overlay\",\"size\":10,\"solidity\":0.2}},\"type\":\"barpolar\"}],\"pie\":[{\"automargin\":true,\"type\":\"pie\"}]},\"layout\":{\"autotypenumbers\":\"strict\",\"colorway\":[\"#636efa\",\"#EF553B\",\"#00cc96\",\"#ab63fa\",\"#FFA15A\",\"#19d3f3\",\"#FF6692\",\"#B6E880\",\"#FF97FF\",\"#FECB52\"],\"font\":{\"color\":\"#2a3f5f\"},\"hovermode\":\"closest\",\"hoverlabel\":{\"align\":\"left\"},\"paper_bgcolor\":\"white\",\"plot_bgcolor\":\"#E5ECF6\",\"polar\":{\"bgcolor\":\"#E5ECF6\",\"angularaxis\":{\"gridcolor\":\"white\",\"linecolor\":\"white\",\"ticks\":\"\"},\"radialaxis\":{\"gridcolor\":\"white\",\"linecolor\":\"white\",\"ticks\":\"\"}},\"ternary\":{\"bgcolor\":\"#E5ECF6\",\"aaxis\":{\"gridcolor\":\"white\",\"linecolor\":\"white\",\"ticks\":\"\"},\"baxis\":{\"gridcolor\":\"white\",\"linecolor\":\"white\",\"ticks\":\"\"},\"caxis\":{\"gridcolor\":\"white\",\"linecolor\":\"white\",\"ticks\":\"\"}},\"coloraxis\":{\"colorbar\":{\"outlinewidth\":0,\"ticks\":\"\"}},\"colorscale\":{\"sequential\":[[0.0,\"#0d0887\"],[0.1111111111111111,\"#46039f\"],[0.2222222222222222,\"#7201a8\"],[0.3333333333333333,\"#9c179e\"],[0.4444444444444444,\"#bd3786\"],[0.5555555555555556,\"#d8576b\"],[0.6666666666666666,\"#ed7953\"],[0.7777777777777778,\"#fb9f3a\"],[0.8888888888888888,\"#fdca26\"],[1.0,\"#f0f921\"]],\"sequentialminus\":[[0.0,\"#0d0887\"],[0.1111111111111111,\"#46039f\"],[0.2222222222222222,\"#7201a8\"],[0.3333333333333333,\"#9c179e\"],[0.4444444444444444,\"#bd3786\"],[0.5555555555555556,\"#d8576b\"],[0.6666666666666666,\"#ed7953\"],[0.7777777777777778,\"#fb9f3a\"],[0.8888888888888888,\"#fdca26\"],[1.0,\"#f0f921\"]],\"diverging\":[[0,\"#8e0152\"],[0.1,\"#c51b7d\"],[0.2,\"#de77ae\"],[0.3,\"#f1b6da\"],[0.4,\"#fde0ef\"],[0.5,\"#f7f7f7\"],[0.6,\"#e6f5d0\"],[0.7,\"#b8e186\"],[0.8,\"#7fbc41\"],[0.9,\"#4d9221\"],[1,\"#276419\"]]},\"xaxis\":{\"gridcolor\":\"white\",\"linecolor\":\"white\",\"ticks\":\"\",\"title\":{\"standoff\":15},\"zerolinecolor\":\"white\",\"automargin\":true,\"zerolinewidth\":2},\"yaxis\":{\"gridcolor\":\"white\",\"linecolor\":\"white\",\"ticks\":\"\",\"title\":{\"standoff\":15},\"zerolinecolor\":\"white\",\"automargin\":true,\"zerolinewidth\":2},\"scene\":{\"xaxis\":{\"backgroundcolor\":\"#E5ECF6\",\"gridcolor\":\"white\",\"linecolor\":\"white\",\"showbackground\":true,\"ticks\":\"\",\"zerolinecolor\":\"white\",\"gridwidth\":2},\"yaxis\":{\"backgroundcolor\":\"#E5ECF6\",\"gridcolor\":\"white\",\"linecolor\":\"white\",\"showbackground\":true,\"ticks\":\"\",\"zerolinecolor\":\"white\",\"gridwidth\":2},\"zaxis\":{\"backgroundcolor\":\"#E5ECF6\",\"gridcolor\":\"white\",\"linecolor\":\"white\",\"showbackground\":true,\"ticks\":\"\",\"zerolinecolor\":\"white\",\"gridwidth\":2}},\"shapedefaults\":{\"line\":{\"color\":\"#2a3f5f\"}},\"annotationdefaults\":{\"arrowcolor\":\"#2a3f5f\",\"arrowhead\":0,\"arrowwidth\":1},\"geo\":{\"bgcolor\":\"white\",\"landcolor\":\"#E5ECF6\",\"subunitcolor\":\"white\",\"showland\":true,\"showlakes\":true,\"lakecolor\":\"white\"},\"title\":{\"x\":0.05},\"mapbox\":{\"style\":\"light\"}}},\"xaxis\":{\"anchor\":\"y\",\"domain\":[0.0,1.0],\"title\":{\"text\":\"Income group\"}},\"yaxis\":{\"anchor\":\"x\",\"domain\":[0.0,1.0],\"title\":{\"text\":\"Talent\"}},\"legend\":{\"tracegroupgap\":0},\"title\":{\"text\":\"Talent by Income group\"},\"violinmode\":\"group\"},                        {\"responsive\": true}                    ).then(function(){\n",
       "                            \n",
       "var gd = document.getElementById('841015b4-c42a-4233-a392-f9837e5c66b0');\n",
       "var x = new MutationObserver(function (mutations, observer) {{\n",
       "        var display = window.getComputedStyle(gd).display;\n",
       "        if (!display || display === 'none') {{\n",
       "            console.log([gd, 'removed!']);\n",
       "            Plotly.purge(gd);\n",
       "            observer.disconnect();\n",
       "        }}\n",
       "}});\n",
       "\n",
       "// Listen for the removal of the full notebook cells\n",
       "var notebookContainer = gd.closest('#notebook-container');\n",
       "if (notebookContainer) {{\n",
       "    x.observe(notebookContainer, {childList: true});\n",
       "}}\n",
       "\n",
       "// Listen for the clearing of the current output cell\n",
       "var outputEl = gd.closest('.output');\n",
       "if (outputEl) {{\n",
       "    x.observe(outputEl, {childList: true});\n",
       "}}\n",
       "\n",
       "                        })                };                });            </script>        </div>"
      ]
     },
     "metadata": {},
     "output_type": "display_data"
    }
   ],
   "source": [
    "g = px.violin(talent_df, y=\"Talent\", x=\"Income group\", box=True, points=\"all\", title=\"Talent by Income group\", hover_data=talent_df.columns)\n",
    "g.show()"
   ]
  },
  {
   "cell_type": "code",
   "execution_count": null,
   "id": "e90b6833",
   "metadata": {
    "_kg_hide-input": true,
    "execution": {
     "iopub.execute_input": "2023-08-09T09:38:18.203031Z",
     "iopub.status.busy": "2023-08-09T09:38:18.201943Z",
     "iopub.status.idle": "2023-08-09T09:38:18.276148Z",
     "shell.execute_reply": "2023-08-09T09:38:18.275105Z"
    },
    "papermill": {
     "duration": 0.116204,
     "end_time": "2023-08-09T09:38:18.278259",
     "exception": false,
     "start_time": "2023-08-09T09:38:18.162055",
     "status": "completed"
    },
    "tags": []
   },
   "outputs": [
    {
     "data": {
      "text/html": [
       "<div>                            <div id=\"f17961f7-2ca1-4874-a54b-4542c73b6802\" class=\"plotly-graph-div\" style=\"height:600px; width:100%;\"></div>            <script type=\"text/javascript\">                require([\"plotly\"], function(Plotly) {                    window.PLOTLYENV=window.PLOTLYENV || {};                                    if (document.getElementById(\"f17961f7-2ca1-4874-a54b-4542c73b6802\")) {                    Plotly.newPlot(                        \"f17961f7-2ca1-4874-a54b-4542c73b6802\",                        [{\"alignmentgroup\":\"True\",\"hovertemplate\":\"Talent_level=1 - Very high\\u003cbr\\u003eIncome group=%{x}\\u003cbr\\u003eCountry_count=%{y}\\u003cextra\\u003e\\u003c\\u002fextra\\u003e\",\"legendgroup\":\"1 - Very high\",\"marker\":{\"color\":\"rgb(95, 70, 144)\",\"pattern\":{\"shape\":\"\"}},\"name\":\"1 - Very high\",\"offsetgroup\":\"1 - Very high\",\"orientation\":\"v\",\"showlegend\":true,\"textposition\":\"auto\",\"x\":[\"High\"],\"xaxis\":\"x\",\"y\":[1],\"yaxis\":\"y\",\"type\":\"bar\"},{\"alignmentgroup\":\"True\",\"hovertemplate\":\"Talent_level=3 - Moderate\\u003cbr\\u003eIncome group=%{x}\\u003cbr\\u003eCountry_count=%{y}\\u003cextra\\u003e\\u003c\\u002fextra\\u003e\",\"legendgroup\":\"3 - Moderate\",\"marker\":{\"color\":\"rgb(29, 105, 150)\",\"pattern\":{\"shape\":\"\"}},\"name\":\"3 - Moderate\",\"offsetgroup\":\"3 - Moderate\",\"orientation\":\"v\",\"showlegend\":true,\"textposition\":\"auto\",\"x\":[\"Lower middle\"],\"xaxis\":\"x\",\"y\":[1],\"yaxis\":\"y\",\"type\":\"bar\"},{\"alignmentgroup\":\"True\",\"hovertemplate\":\"Talent_level=4 - Low\\u003cbr\\u003eIncome group=%{x}\\u003cbr\\u003eCountry_count=%{y}\\u003cextra\\u003e\\u003c\\u002fextra\\u003e\",\"legendgroup\":\"4 - Low\",\"marker\":{\"color\":\"rgb(56, 166, 165)\",\"pattern\":{\"shape\":\"\"}},\"name\":\"4 - Low\",\"offsetgroup\":\"4 - Low\",\"orientation\":\"v\",\"showlegend\":true,\"textposition\":\"auto\",\"x\":[\"High\"],\"xaxis\":\"x\",\"y\":[16],\"yaxis\":\"y\",\"type\":\"bar\"},{\"alignmentgroup\":\"True\",\"hovertemplate\":\"Talent_level=5 - Very low\\u003cbr\\u003eIncome group=%{x}\\u003cbr\\u003eCountry_count=%{y}\\u003cextra\\u003e\\u003c\\u002fextra\\u003e\",\"legendgroup\":\"5 - Very low\",\"marker\":{\"color\":\"rgb(15, 133, 84)\",\"pattern\":{\"shape\":\"\"}},\"name\":\"5 - Very low\",\"offsetgroup\":\"5 - Very low\",\"orientation\":\"v\",\"showlegend\":true,\"textposition\":\"auto\",\"x\":[\"Lower middle\",\"Upper middle\",\"High\"],\"xaxis\":\"x\",\"y\":[9,9,26],\"yaxis\":\"y\",\"type\":\"bar\"}],                        {\"template\":{\"data\":{\"histogram2dcontour\":[{\"type\":\"histogram2dcontour\",\"colorbar\":{\"outlinewidth\":0,\"ticks\":\"\"},\"colorscale\":[[0.0,\"#0d0887\"],[0.1111111111111111,\"#46039f\"],[0.2222222222222222,\"#7201a8\"],[0.3333333333333333,\"#9c179e\"],[0.4444444444444444,\"#bd3786\"],[0.5555555555555556,\"#d8576b\"],[0.6666666666666666,\"#ed7953\"],[0.7777777777777778,\"#fb9f3a\"],[0.8888888888888888,\"#fdca26\"],[1.0,\"#f0f921\"]]}],\"choropleth\":[{\"type\":\"choropleth\",\"colorbar\":{\"outlinewidth\":0,\"ticks\":\"\"}}],\"histogram2d\":[{\"type\":\"histogram2d\",\"colorbar\":{\"outlinewidth\":0,\"ticks\":\"\"},\"colorscale\":[[0.0,\"#0d0887\"],[0.1111111111111111,\"#46039f\"],[0.2222222222222222,\"#7201a8\"],[0.3333333333333333,\"#9c179e\"],[0.4444444444444444,\"#bd3786\"],[0.5555555555555556,\"#d8576b\"],[0.6666666666666666,\"#ed7953\"],[0.7777777777777778,\"#fb9f3a\"],[0.8888888888888888,\"#fdca26\"],[1.0,\"#f0f921\"]]}],\"heatmap\":[{\"type\":\"heatmap\",\"colorbar\":{\"outlinewidth\":0,\"ticks\":\"\"},\"colorscale\":[[0.0,\"#0d0887\"],[0.1111111111111111,\"#46039f\"],[0.2222222222222222,\"#7201a8\"],[0.3333333333333333,\"#9c179e\"],[0.4444444444444444,\"#bd3786\"],[0.5555555555555556,\"#d8576b\"],[0.6666666666666666,\"#ed7953\"],[0.7777777777777778,\"#fb9f3a\"],[0.8888888888888888,\"#fdca26\"],[1.0,\"#f0f921\"]]}],\"heatmapgl\":[{\"type\":\"heatmapgl\",\"colorbar\":{\"outlinewidth\":0,\"ticks\":\"\"},\"colorscale\":[[0.0,\"#0d0887\"],[0.1111111111111111,\"#46039f\"],[0.2222222222222222,\"#7201a8\"],[0.3333333333333333,\"#9c179e\"],[0.4444444444444444,\"#bd3786\"],[0.5555555555555556,\"#d8576b\"],[0.6666666666666666,\"#ed7953\"],[0.7777777777777778,\"#fb9f3a\"],[0.8888888888888888,\"#fdca26\"],[1.0,\"#f0f921\"]]}],\"contourcarpet\":[{\"type\":\"contourcarpet\",\"colorbar\":{\"outlinewidth\":0,\"ticks\":\"\"}}],\"contour\":[{\"type\":\"contour\",\"colorbar\":{\"outlinewidth\":0,\"ticks\":\"\"},\"colorscale\":[[0.0,\"#0d0887\"],[0.1111111111111111,\"#46039f\"],[0.2222222222222222,\"#7201a8\"],[0.3333333333333333,\"#9c179e\"],[0.4444444444444444,\"#bd3786\"],[0.5555555555555556,\"#d8576b\"],[0.6666666666666666,\"#ed7953\"],[0.7777777777777778,\"#fb9f3a\"],[0.8888888888888888,\"#fdca26\"],[1.0,\"#f0f921\"]]}],\"surface\":[{\"type\":\"surface\",\"colorbar\":{\"outlinewidth\":0,\"ticks\":\"\"},\"colorscale\":[[0.0,\"#0d0887\"],[0.1111111111111111,\"#46039f\"],[0.2222222222222222,\"#7201a8\"],[0.3333333333333333,\"#9c179e\"],[0.4444444444444444,\"#bd3786\"],[0.5555555555555556,\"#d8576b\"],[0.6666666666666666,\"#ed7953\"],[0.7777777777777778,\"#fb9f3a\"],[0.8888888888888888,\"#fdca26\"],[1.0,\"#f0f921\"]]}],\"mesh3d\":[{\"type\":\"mesh3d\",\"colorbar\":{\"outlinewidth\":0,\"ticks\":\"\"}}],\"scatter\":[{\"fillpattern\":{\"fillmode\":\"overlay\",\"size\":10,\"solidity\":0.2},\"type\":\"scatter\"}],\"parcoords\":[{\"type\":\"parcoords\",\"line\":{\"colorbar\":{\"outlinewidth\":0,\"ticks\":\"\"}}}],\"scatterpolargl\":[{\"type\":\"scatterpolargl\",\"marker\":{\"colorbar\":{\"outlinewidth\":0,\"ticks\":\"\"}}}],\"bar\":[{\"error_x\":{\"color\":\"#2a3f5f\"},\"error_y\":{\"color\":\"#2a3f5f\"},\"marker\":{\"line\":{\"color\":\"#E5ECF6\",\"width\":0.5},\"pattern\":{\"fillmode\":\"overlay\",\"size\":10,\"solidity\":0.2}},\"type\":\"bar\"}],\"scattergeo\":[{\"type\":\"scattergeo\",\"marker\":{\"colorbar\":{\"outlinewidth\":0,\"ticks\":\"\"}}}],\"scatterpolar\":[{\"type\":\"scatterpolar\",\"marker\":{\"colorbar\":{\"outlinewidth\":0,\"ticks\":\"\"}}}],\"histogram\":[{\"marker\":{\"pattern\":{\"fillmode\":\"overlay\",\"size\":10,\"solidity\":0.2}},\"type\":\"histogram\"}],\"scattergl\":[{\"type\":\"scattergl\",\"marker\":{\"colorbar\":{\"outlinewidth\":0,\"ticks\":\"\"}}}],\"scatter3d\":[{\"type\":\"scatter3d\",\"line\":{\"colorbar\":{\"outlinewidth\":0,\"ticks\":\"\"}},\"marker\":{\"colorbar\":{\"outlinewidth\":0,\"ticks\":\"\"}}}],\"scattermapbox\":[{\"type\":\"scattermapbox\",\"marker\":{\"colorbar\":{\"outlinewidth\":0,\"ticks\":\"\"}}}],\"scatterternary\":[{\"type\":\"scatterternary\",\"marker\":{\"colorbar\":{\"outlinewidth\":0,\"ticks\":\"\"}}}],\"scattercarpet\":[{\"type\":\"scattercarpet\",\"marker\":{\"colorbar\":{\"outlinewidth\":0,\"ticks\":\"\"}}}],\"carpet\":[{\"aaxis\":{\"endlinecolor\":\"#2a3f5f\",\"gridcolor\":\"white\",\"linecolor\":\"white\",\"minorgridcolor\":\"white\",\"startlinecolor\":\"#2a3f5f\"},\"baxis\":{\"endlinecolor\":\"#2a3f5f\",\"gridcolor\":\"white\",\"linecolor\":\"white\",\"minorgridcolor\":\"white\",\"startlinecolor\":\"#2a3f5f\"},\"type\":\"carpet\"}],\"table\":[{\"cells\":{\"fill\":{\"color\":\"#EBF0F8\"},\"line\":{\"color\":\"white\"}},\"header\":{\"fill\":{\"color\":\"#C8D4E3\"},\"line\":{\"color\":\"white\"}},\"type\":\"table\"}],\"barpolar\":[{\"marker\":{\"line\":{\"color\":\"#E5ECF6\",\"width\":0.5},\"pattern\":{\"fillmode\":\"overlay\",\"size\":10,\"solidity\":0.2}},\"type\":\"barpolar\"}],\"pie\":[{\"automargin\":true,\"type\":\"pie\"}]},\"layout\":{\"autotypenumbers\":\"strict\",\"colorway\":[\"#636efa\",\"#EF553B\",\"#00cc96\",\"#ab63fa\",\"#FFA15A\",\"#19d3f3\",\"#FF6692\",\"#B6E880\",\"#FF97FF\",\"#FECB52\"],\"font\":{\"color\":\"#2a3f5f\"},\"hovermode\":\"closest\",\"hoverlabel\":{\"align\":\"left\"},\"paper_bgcolor\":\"white\",\"plot_bgcolor\":\"#E5ECF6\",\"polar\":{\"bgcolor\":\"#E5ECF6\",\"angularaxis\":{\"gridcolor\":\"white\",\"linecolor\":\"white\",\"ticks\":\"\"},\"radialaxis\":{\"gridcolor\":\"white\",\"linecolor\":\"white\",\"ticks\":\"\"}},\"ternary\":{\"bgcolor\":\"#E5ECF6\",\"aaxis\":{\"gridcolor\":\"white\",\"linecolor\":\"white\",\"ticks\":\"\"},\"baxis\":{\"gridcolor\":\"white\",\"linecolor\":\"white\",\"ticks\":\"\"},\"caxis\":{\"gridcolor\":\"white\",\"linecolor\":\"white\",\"ticks\":\"\"}},\"coloraxis\":{\"colorbar\":{\"outlinewidth\":0,\"ticks\":\"\"}},\"colorscale\":{\"sequential\":[[0.0,\"#0d0887\"],[0.1111111111111111,\"#46039f\"],[0.2222222222222222,\"#7201a8\"],[0.3333333333333333,\"#9c179e\"],[0.4444444444444444,\"#bd3786\"],[0.5555555555555556,\"#d8576b\"],[0.6666666666666666,\"#ed7953\"],[0.7777777777777778,\"#fb9f3a\"],[0.8888888888888888,\"#fdca26\"],[1.0,\"#f0f921\"]],\"sequentialminus\":[[0.0,\"#0d0887\"],[0.1111111111111111,\"#46039f\"],[0.2222222222222222,\"#7201a8\"],[0.3333333333333333,\"#9c179e\"],[0.4444444444444444,\"#bd3786\"],[0.5555555555555556,\"#d8576b\"],[0.6666666666666666,\"#ed7953\"],[0.7777777777777778,\"#fb9f3a\"],[0.8888888888888888,\"#fdca26\"],[1.0,\"#f0f921\"]],\"diverging\":[[0,\"#8e0152\"],[0.1,\"#c51b7d\"],[0.2,\"#de77ae\"],[0.3,\"#f1b6da\"],[0.4,\"#fde0ef\"],[0.5,\"#f7f7f7\"],[0.6,\"#e6f5d0\"],[0.7,\"#b8e186\"],[0.8,\"#7fbc41\"],[0.9,\"#4d9221\"],[1,\"#276419\"]]},\"xaxis\":{\"gridcolor\":\"white\",\"linecolor\":\"white\",\"ticks\":\"\",\"title\":{\"standoff\":15},\"zerolinecolor\":\"white\",\"automargin\":true,\"zerolinewidth\":2},\"yaxis\":{\"gridcolor\":\"white\",\"linecolor\":\"white\",\"ticks\":\"\",\"title\":{\"standoff\":15},\"zerolinecolor\":\"white\",\"automargin\":true,\"zerolinewidth\":2},\"scene\":{\"xaxis\":{\"backgroundcolor\":\"#E5ECF6\",\"gridcolor\":\"white\",\"linecolor\":\"white\",\"showbackground\":true,\"ticks\":\"\",\"zerolinecolor\":\"white\",\"gridwidth\":2},\"yaxis\":{\"backgroundcolor\":\"#E5ECF6\",\"gridcolor\":\"white\",\"linecolor\":\"white\",\"showbackground\":true,\"ticks\":\"\",\"zerolinecolor\":\"white\",\"gridwidth\":2},\"zaxis\":{\"backgroundcolor\":\"#E5ECF6\",\"gridcolor\":\"white\",\"linecolor\":\"white\",\"showbackground\":true,\"ticks\":\"\",\"zerolinecolor\":\"white\",\"gridwidth\":2}},\"shapedefaults\":{\"line\":{\"color\":\"#2a3f5f\"}},\"annotationdefaults\":{\"arrowcolor\":\"#2a3f5f\",\"arrowhead\":0,\"arrowwidth\":1},\"geo\":{\"bgcolor\":\"white\",\"landcolor\":\"#E5ECF6\",\"subunitcolor\":\"white\",\"showland\":true,\"showlakes\":true,\"lakecolor\":\"white\"},\"title\":{\"x\":0.05},\"mapbox\":{\"style\":\"light\"}}},\"xaxis\":{\"anchor\":\"y\",\"domain\":[0.0,1.0],\"title\":{\"text\":\"Income group\"}},\"yaxis\":{\"anchor\":\"x\",\"domain\":[0.0,1.0],\"title\":{\"text\":\"Country_count\"}},\"legend\":{\"title\":{\"text\":\"Talent_level\"},\"tracegroupgap\":0},\"title\":{\"text\":\"Countries by Income group and Talent level\"},\"barmode\":\"relative\",\"height\":600},                        {\"responsive\": true}                    ).then(function(){\n",
       "                            \n",
       "var gd = document.getElementById('f17961f7-2ca1-4874-a54b-4542c73b6802');\n",
       "var x = new MutationObserver(function (mutations, observer) {{\n",
       "        var display = window.getComputedStyle(gd).display;\n",
       "        if (!display || display === 'none') {{\n",
       "            console.log([gd, 'removed!']);\n",
       "            Plotly.purge(gd);\n",
       "            observer.disconnect();\n",
       "        }}\n",
       "}});\n",
       "\n",
       "// Listen for the removal of the full notebook cells\n",
       "var notebookContainer = gd.closest('#notebook-container');\n",
       "if (notebookContainer) {{\n",
       "    x.observe(notebookContainer, {childList: true});\n",
       "}}\n",
       "\n",
       "// Listen for the clearing of the current output cell\n",
       "var outputEl = gd.closest('.output');\n",
       "if (outputEl) {{\n",
       "    x.observe(outputEl, {childList: true});\n",
       "}}\n",
       "\n",
       "                        })                };                });            </script>        </div>"
      ]
     },
     "metadata": {},
     "output_type": "display_data"
    }
   ],
   "source": [
    "agg_data = talent_df.groupby(['Income group', 'Talent_level']).size().reset_index(name='Country_count')\n",
    "\n",
    "agg_data = agg_data.sort_values(by=[\"Talent_level\", \"Country_count\"])\n",
    "\n",
    "fig = px.bar(\n",
    "    agg_data, \n",
    "    x='Income group', \n",
    "    y='Country_count', \n",
    "    color='Talent_level', \n",
    "    title=\"Countries by Income group and Talent level\", \n",
    "    color_discrete_sequence=px.colors.qualitative.Prism,\n",
    "    height=600)\n",
    "fig.show()"
   ]
  },
  {
   "cell_type": "markdown",
   "id": "e507efc6",
   "metadata": {
    "papermill": {
     "duration": 0.03759,
     "end_time": "2023-08-09T09:38:18.353654",
     "exception": false,
     "start_time": "2023-08-09T09:38:18.316064",
     "status": "completed"
    },
    "tags": []
   },
   "source": [
    "## <div style=\"font-size:20px;text-align:center;color:black;border-bottom:5px #0026d6 solid;padding-bottom:3%\">Talent by Political regimes</div>"
   ]
  },
  {
   "cell_type": "code",
   "execution_count": null,
   "id": "793d429e",
   "metadata": {
    "_kg_hide-input": true,
    "execution": {
     "iopub.execute_input": "2023-08-09T09:38:18.430919Z",
     "iopub.status.busy": "2023-08-09T09:38:18.430522Z",
     "iopub.status.idle": "2023-08-09T09:38:18.490953Z",
     "shell.execute_reply": "2023-08-09T09:38:18.489919Z"
    },
    "papermill": {
     "duration": 0.101721,
     "end_time": "2023-08-09T09:38:18.493313",
     "exception": false,
     "start_time": "2023-08-09T09:38:18.391592",
     "status": "completed"
    },
    "tags": []
   },
   "outputs": [
    {
     "data": {
      "text/html": [
       "<div>                            <div id=\"ad326155-3036-4f1d-887d-47a473de47c2\" class=\"plotly-graph-div\" style=\"height:525px; width:100%;\"></div>            <script type=\"text/javascript\">                require([\"plotly\"], function(Plotly) {                    window.PLOTLYENV=window.PLOTLYENV || {};                                    if (document.getElementById(\"ad326155-3036-4f1d-887d-47a473de47c2\")) {                    Plotly.newPlot(                        \"ad326155-3036-4f1d-887d-47a473de47c2\",                        [{\"alignmentgroup\":\"True\",\"box\":{\"visible\":true},\"customdata\":[[\"United States of America\",\"Americas\",\"Power players\",\"High\",0.08004270767353636,\"1 - Very high\"],[\"China\",\"Asia-Pacific\",\"Power players\",\"Upper middle\",0.013664546717850347,\"5 - Very low\"],[\"United Kingdom\",\"Europe\",\"Traditional champions\",\"High\",0.03250752491616984,\"4 - Low\"],[\"Canada\",\"Americas\",\"Traditional champions\",\"High\",0.025732721895606936,\"4 - Low\"],[\"Israel\",\"Middle East\",\"Rising stars\",\"High\",0.02936460862990398,\"4 - Low\"],[\"Singapore\",\"Asia-Pacific\",\"Rising stars\",\"High\",0.03228969778130862,\"4 - Low\"],[\"South Korea\",\"Asia-Pacific\",\"Rising stars\",\"High\",0.012043847488125882,\"5 - Very low\"],[\"The Netherlands\",\"Europe\",\"Rising stars\",\"High\",0.027801595827845835,\"4 - Low\"],[\"Germany\",\"Europe\",\"Traditional champions\",\"High\",0.022763924598551945,\"4 - Low\"],[\"France\",\"Europe\",\"Traditional champions\",\"High\",0.023325825303496757,\"4 - Low\"],[\"Australia\",\"Asia-Pacific\",\"Rising stars\",\"High\",0.020970246017648762,\"4 - Low\"],[\"Ireland\",\"Europe\",\"Rising stars\",\"High\",0.024635700401797904,\"4 - Low\"],[\"Finland\",\"Europe\",\"Rising stars\",\"High\",0.020611123904110018,\"4 - Low\"],[\"Denmark\",\"Europe\",\"Rising stars\",\"High\",0.022307657022298002,\"4 - Low\"],[\"Luxembourg\",\"Europe\",\"Waking up\",\"High\",0.017889032835739904,\"4 - Low\"],[\"Japan\",\"Asia-Pacific\",\"Rising stars\",\"High\",0.012570657173852176,\"5 - Very low\"],[\"India\",\"Asia-Pacific\",\"Waking up\",\"Lower middle\",0.03703081708024541,\"3 - Moderate\"],[\"Switzerland\",\"Europe\",\"Rising stars\",\"High\",0.021133440717447098,\"4 - Low\"],[\"Sweden\",\"Europe\",\"Waking up\",\"High\",0.023236268082478726,\"4 - Low\"],[\"Hong Kong\",\"Asia-Pacific\",\"Waking up\",\"High\",0.01452729928053743,\"5 - Very low\"],[\"Spain\",\"Europe\",\"Rising stars\",\"High\",0.014568364175396588,\"5 - Very low\"],[\"Austria\",\"Europe\",\"Waking up\",\"High\",0.014042606126992008,\"5 - Very low\"],[\"Estonia\",\"Europe\",\"Waking up\",\"High\",0.015495981374097823,\"5 - Very low\"],[\"Taiwan\",\"Asia-Pacific\",\"Waking up\",\"High\",0.010230819565336509,\"5 - Very low\"],[\"Norway\",\"Europe\",\"Waking up\",\"High\",0.022747632912199025,\"4 - Low\"],[\"Saudi Arabia\",\"Middle East\",\"Waking up\",\"High\",0.003734684044287988,\"5 - Very low\"],[\"Belgium\",\"Europe\",\"Waking up\",\"High\",0.012562427906462606,\"5 - Very low\"],[\"Poland\",\"Europe\",\"Waking up\",\"High\",0.011772102761801004,\"5 - Very low\"],[\"Slovenia\",\"Europe\",\"Waking up\",\"High\",0.010791561078198668,\"5 - Very low\"],[\"New Zealand\",\"Asia-Pacific\",\"Waking up\",\"High\",0.01923056827677898,\"4 - Low\"],[\"Italy\",\"Europe\",\"Waking up\",\"High\",0.009199223760338378,\"5 - Very low\"],[\"Russia\",\"Europe\",\"Waking up\",\"Upper middle\",0.010329796800653195,\"5 - Very low\"],[\"Malta\",\"Europe\",\"Waking up\",\"High\",0.013138313140227533,\"5 - Very low\"],[\"United Arab Emirates\",\"Middle East\",\"Waking up\",\"High\",0.0022058985491622955,\"5 - Very low\"],[\"Portugal\",\"Europe\",\"Waking up\",\"High\",0.011129503342743189,\"5 - Very low\"],[\"Czech Republic\",\"Europe\",\"Waking up\",\"High\",0.009215737673310541,\"5 - Very low\"],[\"Iceland\",\"Europe\",\"Waking up\",\"High\",0.015258002388980792,\"5 - Very low\"],[\"Lithuania\",\"Europe\",\"Waking up\",\"High\",0.011846222283681493,\"5 - Very low\"],[\"Brazil\",\"Americas\",\"Waking up\",\"Upper middle\",0.011154226342138676,\"5 - Very low\"],[\"Greece\",\"Europe\",\"Waking up\",\"High\",0.006329923694869773,\"5 - Very low\"],[\"Slovakia\",\"Europe\",\"Waking up\",\"High\",0.007099737115223016,\"5 - Very low\"],[\"Hungary\",\"Europe\",\"Waking up\",\"High\",0.008579755079448416,\"5 - Very low\"],[\"Malaysia\",\"Asia-Pacific\",\"Waking up\",\"Upper middle\",0.008662373078652587,\"5 - Very low\"],[\"Mexico\",\"Americas\",\"Waking up\",\"Upper middle\",0.0014323070916250995,\"5 - Very low\"],[\"Chile\",\"Americas\",\"Waking up\",\"High\",0.00876150566857267,\"5 - Very low\"],[\"Argentina\",\"Americas\",\"Waking up\",\"Upper middle\",0.006975613736425138,\"5 - Very low\"],[\"Qatar\",\"Middle East\",\"Waking up\",\"High\",0.0,\"5 - Very low\"],[\"Turkey\",\"Europe\",\"Waking up\",\"High\",0.007050089612482101,\"5 - Very low\"],[\"Colombia\",\"Americas\",\"Waking up\",\"Upper middle\",0.004133113573186406,\"5 - Very low\"],[\"Uruguay\",\"Americas\",\"Waking up\",\"High\",0.006048338534203368,\"5 - Very low\"],[\"Bahrain\",\"Middle East\",\"Waking up\",\"High\",0.004149711359042041,\"5 - Very low\"],[\"Vietnam\",\"Asia-Pacific\",\"Waking up\",\"Lower middle\",0.005269425492775723,\"5 - Very low\"],[\"Indonesia\",\"Asia-Pacific\",\"Waking up\",\"Lower middle\",0.004581157123876318,\"5 - Very low\"],[\"Tunisia\",\"Africa\",\"Waking up\",\"Lower middle\",0.007422385815638084,\"5 - Very low\"],[\"South Africa\",\"Africa\",\"Waking up\",\"Upper middle\",0.0038343063099467263,\"5 - Very low\"],[\"Morocco\",\"Africa\",\"Waking up\",\"Lower middle\",0.002796087302001188,\"5 - Very low\"],[\"Armenia\",\"Europe\",\"Waking up\",\"Upper middle\",0.005559517205232368,\"5 - Very low\"],[\"Sri Lanka\",\"Asia-Pacific\",\"Nascent\",\"Lower middle\",0.005211397050533033,\"5 - Very low\"],[\"Egypt\",\"Middle East\",\"Nascent\",\"Lower middle\",0.0009245724511348847,\"5 - Very low\"],[\"Kenya\",\"Africa\",\"Nascent\",\"Lower middle\",0.000624804768842178,\"5 - Very low\"],[\"Nigeria\",\"Africa\",\"Nascent\",\"Lower middle\",0.002280730489132159,\"5 - Very low\"],[\"Pakistan\",\"Asia-Pacific\",\"Nascent\",\"Lower middle\",0.006644542718668511,\"5 - Very low\"]],\"hovertemplate\":\"Political regime=%{x}\\u003cbr\\u003eTalent=%{y}\\u003cbr\\u003eCountry=%{customdata[0]}\\u003cbr\\u003eRegion=%{customdata[1]}\\u003cbr\\u003eCluster=%{customdata[2]}\\u003cbr\\u003eIncome group=%{customdata[3]}\\u003cbr\\u003eSize=%{customdata[4]}\\u003cbr\\u003eTalent_level=%{customdata[5]}\\u003cextra\\u003e\\u003c\\u002fextra\\u003e\",\"legendgroup\":\"\",\"marker\":{\"color\":\"#636efa\"},\"name\":\"\",\"offsetgroup\":\"\",\"orientation\":\"v\",\"points\":\"all\",\"scalegroup\":\"True\",\"showlegend\":false,\"x\":[\"Liberal democracy\",\"Closed autocracy\",\"Liberal democracy\",\"Liberal democracy\",\"Liberal democracy\",\"Electoral democracy\",\"Liberal democracy\",\"Liberal democracy\",\"Liberal democracy\",\"Liberal democracy\",\"Liberal democracy\",\"Liberal democracy\",\"Liberal democracy\",\"Liberal democracy\",\"Liberal democracy\",\"Liberal democracy\",\"Electoral autocracy\",\"Liberal democracy\",\"Liberal democracy\",\"Electoral democracy\",\"Liberal democracy\",\"Electoral democracy\",\"Liberal democracy\",\"Liberal democracy\",\"Liberal democracy\",\"Closed autocracy\",\"Liberal democracy\",\"Electoral democracy\",\"Electoral democracy\",\"Liberal democracy\",\"Liberal democracy\",\"Electoral autocracy\",\"Electoral democracy\",\"Closed autocracy\",\"Electoral democracy\",\"Electoral democracy\",\"Liberal democracy\",\"Electoral democracy\",\"Electoral democracy\",\"Liberal democracy\",\"Electoral democracy\",\"Electoral autocracy\",\"Electoral autocracy\",\"Electoral democracy\",\"Liberal democracy\",\"Electoral democracy\",\"Closed autocracy\",\"Electoral democracy\",\"Electoral democracy\",\"Liberal democracy\",\"Closed autocracy\",\"Closed autocracy\",\"Electoral democracy\",\"Electoral democracy\",\"Electoral democracy\",\"Closed autocracy\",\"Electoral democracy\",\"Electoral democracy\",\"Electoral autocracy\",\"Electoral autocracy\",\"Electoral autocracy\",\"Electoral autocracy\"],\"x0\":\" \",\"xaxis\":\"x\",\"y\":[100.0,16.51,39.65,31.28,35.76,39.38,14.54,33.83,27.63,28.32,25.43,29.93,24.99,27.07,21.66,15.18,45.27,25.63,28.21,17.56,17.61,16.97,18.74,12.34,27.61,4.49,15.17,14.21,13.02,23.3,11.09,12.46,15.87,2.65,13.43,11.11,18.45,14.3,13.46,7.62,8.55,10.34,10.44,1.72,10.56,8.4,0.0,8.49,4.97,7.28,4.99,6.34,5.51,8.94,4.61,3.36,6.69,6.27,1.11,0.75,2.74,8.0],\"y0\":\" \",\"yaxis\":\"y\",\"type\":\"violin\"}],                        {\"template\":{\"data\":{\"histogram2dcontour\":[{\"type\":\"histogram2dcontour\",\"colorbar\":{\"outlinewidth\":0,\"ticks\":\"\"},\"colorscale\":[[0.0,\"#0d0887\"],[0.1111111111111111,\"#46039f\"],[0.2222222222222222,\"#7201a8\"],[0.3333333333333333,\"#9c179e\"],[0.4444444444444444,\"#bd3786\"],[0.5555555555555556,\"#d8576b\"],[0.6666666666666666,\"#ed7953\"],[0.7777777777777778,\"#fb9f3a\"],[0.8888888888888888,\"#fdca26\"],[1.0,\"#f0f921\"]]}],\"choropleth\":[{\"type\":\"choropleth\",\"colorbar\":{\"outlinewidth\":0,\"ticks\":\"\"}}],\"histogram2d\":[{\"type\":\"histogram2d\",\"colorbar\":{\"outlinewidth\":0,\"ticks\":\"\"},\"colorscale\":[[0.0,\"#0d0887\"],[0.1111111111111111,\"#46039f\"],[0.2222222222222222,\"#7201a8\"],[0.3333333333333333,\"#9c179e\"],[0.4444444444444444,\"#bd3786\"],[0.5555555555555556,\"#d8576b\"],[0.6666666666666666,\"#ed7953\"],[0.7777777777777778,\"#fb9f3a\"],[0.8888888888888888,\"#fdca26\"],[1.0,\"#f0f921\"]]}],\"heatmap\":[{\"type\":\"heatmap\",\"colorbar\":{\"outlinewidth\":0,\"ticks\":\"\"},\"colorscale\":[[0.0,\"#0d0887\"],[0.1111111111111111,\"#46039f\"],[0.2222222222222222,\"#7201a8\"],[0.3333333333333333,\"#9c179e\"],[0.4444444444444444,\"#bd3786\"],[0.5555555555555556,\"#d8576b\"],[0.6666666666666666,\"#ed7953\"],[0.7777777777777778,\"#fb9f3a\"],[0.8888888888888888,\"#fdca26\"],[1.0,\"#f0f921\"]]}],\"heatmapgl\":[{\"type\":\"heatmapgl\",\"colorbar\":{\"outlinewidth\":0,\"ticks\":\"\"},\"colorscale\":[[0.0,\"#0d0887\"],[0.1111111111111111,\"#46039f\"],[0.2222222222222222,\"#7201a8\"],[0.3333333333333333,\"#9c179e\"],[0.4444444444444444,\"#bd3786\"],[0.5555555555555556,\"#d8576b\"],[0.6666666666666666,\"#ed7953\"],[0.7777777777777778,\"#fb9f3a\"],[0.8888888888888888,\"#fdca26\"],[1.0,\"#f0f921\"]]}],\"contourcarpet\":[{\"type\":\"contourcarpet\",\"colorbar\":{\"outlinewidth\":0,\"ticks\":\"\"}}],\"contour\":[{\"type\":\"contour\",\"colorbar\":{\"outlinewidth\":0,\"ticks\":\"\"},\"colorscale\":[[0.0,\"#0d0887\"],[0.1111111111111111,\"#46039f\"],[0.2222222222222222,\"#7201a8\"],[0.3333333333333333,\"#9c179e\"],[0.4444444444444444,\"#bd3786\"],[0.5555555555555556,\"#d8576b\"],[0.6666666666666666,\"#ed7953\"],[0.7777777777777778,\"#fb9f3a\"],[0.8888888888888888,\"#fdca26\"],[1.0,\"#f0f921\"]]}],\"surface\":[{\"type\":\"surface\",\"colorbar\":{\"outlinewidth\":0,\"ticks\":\"\"},\"colorscale\":[[0.0,\"#0d0887\"],[0.1111111111111111,\"#46039f\"],[0.2222222222222222,\"#7201a8\"],[0.3333333333333333,\"#9c179e\"],[0.4444444444444444,\"#bd3786\"],[0.5555555555555556,\"#d8576b\"],[0.6666666666666666,\"#ed7953\"],[0.7777777777777778,\"#fb9f3a\"],[0.8888888888888888,\"#fdca26\"],[1.0,\"#f0f921\"]]}],\"mesh3d\":[{\"type\":\"mesh3d\",\"colorbar\":{\"outlinewidth\":0,\"ticks\":\"\"}}],\"scatter\":[{\"fillpattern\":{\"fillmode\":\"overlay\",\"size\":10,\"solidity\":0.2},\"type\":\"scatter\"}],\"parcoords\":[{\"type\":\"parcoords\",\"line\":{\"colorbar\":{\"outlinewidth\":0,\"ticks\":\"\"}}}],\"scatterpolargl\":[{\"type\":\"scatterpolargl\",\"marker\":{\"colorbar\":{\"outlinewidth\":0,\"ticks\":\"\"}}}],\"bar\":[{\"error_x\":{\"color\":\"#2a3f5f\"},\"error_y\":{\"color\":\"#2a3f5f\"},\"marker\":{\"line\":{\"color\":\"#E5ECF6\",\"width\":0.5},\"pattern\":{\"fillmode\":\"overlay\",\"size\":10,\"solidity\":0.2}},\"type\":\"bar\"}],\"scattergeo\":[{\"type\":\"scattergeo\",\"marker\":{\"colorbar\":{\"outlinewidth\":0,\"ticks\":\"\"}}}],\"scatterpolar\":[{\"type\":\"scatterpolar\",\"marker\":{\"colorbar\":{\"outlinewidth\":0,\"ticks\":\"\"}}}],\"histogram\":[{\"marker\":{\"pattern\":{\"fillmode\":\"overlay\",\"size\":10,\"solidity\":0.2}},\"type\":\"histogram\"}],\"scattergl\":[{\"type\":\"scattergl\",\"marker\":{\"colorbar\":{\"outlinewidth\":0,\"ticks\":\"\"}}}],\"scatter3d\":[{\"type\":\"scatter3d\",\"line\":{\"colorbar\":{\"outlinewidth\":0,\"ticks\":\"\"}},\"marker\":{\"colorbar\":{\"outlinewidth\":0,\"ticks\":\"\"}}}],\"scattermapbox\":[{\"type\":\"scattermapbox\",\"marker\":{\"colorbar\":{\"outlinewidth\":0,\"ticks\":\"\"}}}],\"scatterternary\":[{\"type\":\"scatterternary\",\"marker\":{\"colorbar\":{\"outlinewidth\":0,\"ticks\":\"\"}}}],\"scattercarpet\":[{\"type\":\"scattercarpet\",\"marker\":{\"colorbar\":{\"outlinewidth\":0,\"ticks\":\"\"}}}],\"carpet\":[{\"aaxis\":{\"endlinecolor\":\"#2a3f5f\",\"gridcolor\":\"white\",\"linecolor\":\"white\",\"minorgridcolor\":\"white\",\"startlinecolor\":\"#2a3f5f\"},\"baxis\":{\"endlinecolor\":\"#2a3f5f\",\"gridcolor\":\"white\",\"linecolor\":\"white\",\"minorgridcolor\":\"white\",\"startlinecolor\":\"#2a3f5f\"},\"type\":\"carpet\"}],\"table\":[{\"cells\":{\"fill\":{\"color\":\"#EBF0F8\"},\"line\":{\"color\":\"white\"}},\"header\":{\"fill\":{\"color\":\"#C8D4E3\"},\"line\":{\"color\":\"white\"}},\"type\":\"table\"}],\"barpolar\":[{\"marker\":{\"line\":{\"color\":\"#E5ECF6\",\"width\":0.5},\"pattern\":{\"fillmode\":\"overlay\",\"size\":10,\"solidity\":0.2}},\"type\":\"barpolar\"}],\"pie\":[{\"automargin\":true,\"type\":\"pie\"}]},\"layout\":{\"autotypenumbers\":\"strict\",\"colorway\":[\"#636efa\",\"#EF553B\",\"#00cc96\",\"#ab63fa\",\"#FFA15A\",\"#19d3f3\",\"#FF6692\",\"#B6E880\",\"#FF97FF\",\"#FECB52\"],\"font\":{\"color\":\"#2a3f5f\"},\"hovermode\":\"closest\",\"hoverlabel\":{\"align\":\"left\"},\"paper_bgcolor\":\"white\",\"plot_bgcolor\":\"#E5ECF6\",\"polar\":{\"bgcolor\":\"#E5ECF6\",\"angularaxis\":{\"gridcolor\":\"white\",\"linecolor\":\"white\",\"ticks\":\"\"},\"radialaxis\":{\"gridcolor\":\"white\",\"linecolor\":\"white\",\"ticks\":\"\"}},\"ternary\":{\"bgcolor\":\"#E5ECF6\",\"aaxis\":{\"gridcolor\":\"white\",\"linecolor\":\"white\",\"ticks\":\"\"},\"baxis\":{\"gridcolor\":\"white\",\"linecolor\":\"white\",\"ticks\":\"\"},\"caxis\":{\"gridcolor\":\"white\",\"linecolor\":\"white\",\"ticks\":\"\"}},\"coloraxis\":{\"colorbar\":{\"outlinewidth\":0,\"ticks\":\"\"}},\"colorscale\":{\"sequential\":[[0.0,\"#0d0887\"],[0.1111111111111111,\"#46039f\"],[0.2222222222222222,\"#7201a8\"],[0.3333333333333333,\"#9c179e\"],[0.4444444444444444,\"#bd3786\"],[0.5555555555555556,\"#d8576b\"],[0.6666666666666666,\"#ed7953\"],[0.7777777777777778,\"#fb9f3a\"],[0.8888888888888888,\"#fdca26\"],[1.0,\"#f0f921\"]],\"sequentialminus\":[[0.0,\"#0d0887\"],[0.1111111111111111,\"#46039f\"],[0.2222222222222222,\"#7201a8\"],[0.3333333333333333,\"#9c179e\"],[0.4444444444444444,\"#bd3786\"],[0.5555555555555556,\"#d8576b\"],[0.6666666666666666,\"#ed7953\"],[0.7777777777777778,\"#fb9f3a\"],[0.8888888888888888,\"#fdca26\"],[1.0,\"#f0f921\"]],\"diverging\":[[0,\"#8e0152\"],[0.1,\"#c51b7d\"],[0.2,\"#de77ae\"],[0.3,\"#f1b6da\"],[0.4,\"#fde0ef\"],[0.5,\"#f7f7f7\"],[0.6,\"#e6f5d0\"],[0.7,\"#b8e186\"],[0.8,\"#7fbc41\"],[0.9,\"#4d9221\"],[1,\"#276419\"]]},\"xaxis\":{\"gridcolor\":\"white\",\"linecolor\":\"white\",\"ticks\":\"\",\"title\":{\"standoff\":15},\"zerolinecolor\":\"white\",\"automargin\":true,\"zerolinewidth\":2},\"yaxis\":{\"gridcolor\":\"white\",\"linecolor\":\"white\",\"ticks\":\"\",\"title\":{\"standoff\":15},\"zerolinecolor\":\"white\",\"automargin\":true,\"zerolinewidth\":2},\"scene\":{\"xaxis\":{\"backgroundcolor\":\"#E5ECF6\",\"gridcolor\":\"white\",\"linecolor\":\"white\",\"showbackground\":true,\"ticks\":\"\",\"zerolinecolor\":\"white\",\"gridwidth\":2},\"yaxis\":{\"backgroundcolor\":\"#E5ECF6\",\"gridcolor\":\"white\",\"linecolor\":\"white\",\"showbackground\":true,\"ticks\":\"\",\"zerolinecolor\":\"white\",\"gridwidth\":2},\"zaxis\":{\"backgroundcolor\":\"#E5ECF6\",\"gridcolor\":\"white\",\"linecolor\":\"white\",\"showbackground\":true,\"ticks\":\"\",\"zerolinecolor\":\"white\",\"gridwidth\":2}},\"shapedefaults\":{\"line\":{\"color\":\"#2a3f5f\"}},\"annotationdefaults\":{\"arrowcolor\":\"#2a3f5f\",\"arrowhead\":0,\"arrowwidth\":1},\"geo\":{\"bgcolor\":\"white\",\"landcolor\":\"#E5ECF6\",\"subunitcolor\":\"white\",\"showland\":true,\"showlakes\":true,\"lakecolor\":\"white\"},\"title\":{\"x\":0.05},\"mapbox\":{\"style\":\"light\"}}},\"xaxis\":{\"anchor\":\"y\",\"domain\":[0.0,1.0],\"title\":{\"text\":\"Political regime\"}},\"yaxis\":{\"anchor\":\"x\",\"domain\":[0.0,1.0],\"title\":{\"text\":\"Talent\"}},\"legend\":{\"tracegroupgap\":0},\"title\":{\"text\":\"Talent by Political regime\"},\"violinmode\":\"group\"},                        {\"responsive\": true}                    ).then(function(){\n",
       "                            \n",
       "var gd = document.getElementById('ad326155-3036-4f1d-887d-47a473de47c2');\n",
       "var x = new MutationObserver(function (mutations, observer) {{\n",
       "        var display = window.getComputedStyle(gd).display;\n",
       "        if (!display || display === 'none') {{\n",
       "            console.log([gd, 'removed!']);\n",
       "            Plotly.purge(gd);\n",
       "            observer.disconnect();\n",
       "        }}\n",
       "}});\n",
       "\n",
       "// Listen for the removal of the full notebook cells\n",
       "var notebookContainer = gd.closest('#notebook-container');\n",
       "if (notebookContainer) {{\n",
       "    x.observe(notebookContainer, {childList: true});\n",
       "}}\n",
       "\n",
       "// Listen for the clearing of the current output cell\n",
       "var outputEl = gd.closest('.output');\n",
       "if (outputEl) {{\n",
       "    x.observe(outputEl, {childList: true});\n",
       "}}\n",
       "\n",
       "                        })                };                });            </script>        </div>"
      ]
     },
     "metadata": {},
     "output_type": "display_data"
    }
   ],
   "source": [
    "fig = px.violin(talent_df, y=\"Talent\", x=\"Political regime\", box=True, points=\"all\", title=\"Talent by Political regime\", hover_data=talent_df.columns)\n",
    "fig.show()"
   ]
  },
  {
   "cell_type": "code",
   "execution_count": null,
   "id": "e022a939",
   "metadata": {
    "_kg_hide-input": true,
    "execution": {
     "iopub.execute_input": "2023-08-09T09:38:18.572038Z",
     "iopub.status.busy": "2023-08-09T09:38:18.571211Z",
     "iopub.status.idle": "2023-08-09T09:38:18.646504Z",
     "shell.execute_reply": "2023-08-09T09:38:18.645297Z"
    },
    "papermill": {
     "duration": 0.117135,
     "end_time": "2023-08-09T09:38:18.648779",
     "exception": false,
     "start_time": "2023-08-09T09:38:18.531644",
     "status": "completed"
    },
    "tags": []
   },
   "outputs": [
    {
     "data": {
      "text/html": [
       "<div>                            <div id=\"adf6209f-77c4-43e9-89ee-4decf577e559\" class=\"plotly-graph-div\" style=\"height:600px; width:100%;\"></div>            <script type=\"text/javascript\">                require([\"plotly\"], function(Plotly) {                    window.PLOTLYENV=window.PLOTLYENV || {};                                    if (document.getElementById(\"adf6209f-77c4-43e9-89ee-4decf577e559\")) {                    Plotly.newPlot(                        \"adf6209f-77c4-43e9-89ee-4decf577e559\",                        [{\"alignmentgroup\":\"True\",\"hovertemplate\":\"Talent_level=1 - Very high\\u003cbr\\u003ePolitical regime=%{x}\\u003cbr\\u003eCountry_count=%{y}\\u003cextra\\u003e\\u003c\\u002fextra\\u003e\",\"legendgroup\":\"1 - Very high\",\"marker\":{\"color\":\"rgb(95, 70, 144)\",\"pattern\":{\"shape\":\"\"}},\"name\":\"1 - Very high\",\"offsetgroup\":\"1 - Very high\",\"orientation\":\"v\",\"showlegend\":true,\"textposition\":\"auto\",\"x\":[\"Liberal democracy\"],\"xaxis\":\"x\",\"y\":[1],\"yaxis\":\"y\",\"type\":\"bar\"},{\"alignmentgroup\":\"True\",\"hovertemplate\":\"Talent_level=3 - Moderate\\u003cbr\\u003ePolitical regime=%{x}\\u003cbr\\u003eCountry_count=%{y}\\u003cextra\\u003e\\u003c\\u002fextra\\u003e\",\"legendgroup\":\"3 - Moderate\",\"marker\":{\"color\":\"rgb(29, 105, 150)\",\"pattern\":{\"shape\":\"\"}},\"name\":\"3 - Moderate\",\"offsetgroup\":\"3 - Moderate\",\"orientation\":\"v\",\"showlegend\":true,\"textposition\":\"auto\",\"x\":[\"Electoral autocracy\"],\"xaxis\":\"x\",\"y\":[1],\"yaxis\":\"y\",\"type\":\"bar\"},{\"alignmentgroup\":\"True\",\"hovertemplate\":\"Talent_level=4 - Low\\u003cbr\\u003ePolitical regime=%{x}\\u003cbr\\u003eCountry_count=%{y}\\u003cextra\\u003e\\u003c\\u002fextra\\u003e\",\"legendgroup\":\"4 - Low\",\"marker\":{\"color\":\"rgb(56, 166, 165)\",\"pattern\":{\"shape\":\"\"}},\"name\":\"4 - Low\",\"offsetgroup\":\"4 - Low\",\"orientation\":\"v\",\"showlegend\":true,\"textposition\":\"auto\",\"x\":[\"Electoral democracy\",\"Liberal democracy\"],\"xaxis\":\"x\",\"y\":[1,15],\"yaxis\":\"y\",\"type\":\"bar\"},{\"alignmentgroup\":\"True\",\"hovertemplate\":\"Talent_level=5 - Very low\\u003cbr\\u003ePolitical regime=%{x}\\u003cbr\\u003eCountry_count=%{y}\\u003cextra\\u003e\\u003c\\u002fextra\\u003e\",\"legendgroup\":\"5 - Very low\",\"marker\":{\"color\":\"rgb(15, 133, 84)\",\"pattern\":{\"shape\":\"\"}},\"name\":\"5 - Very low\",\"offsetgroup\":\"5 - Very low\",\"orientation\":\"v\",\"showlegend\":true,\"textposition\":\"auto\",\"x\":[\"Closed autocracy\",\"Electoral autocracy\",\"Liberal democracy\",\"Electoral democracy\"],\"xaxis\":\"x\",\"y\":[7,7,11,19],\"yaxis\":\"y\",\"type\":\"bar\"}],                        {\"template\":{\"data\":{\"histogram2dcontour\":[{\"type\":\"histogram2dcontour\",\"colorbar\":{\"outlinewidth\":0,\"ticks\":\"\"},\"colorscale\":[[0.0,\"#0d0887\"],[0.1111111111111111,\"#46039f\"],[0.2222222222222222,\"#7201a8\"],[0.3333333333333333,\"#9c179e\"],[0.4444444444444444,\"#bd3786\"],[0.5555555555555556,\"#d8576b\"],[0.6666666666666666,\"#ed7953\"],[0.7777777777777778,\"#fb9f3a\"],[0.8888888888888888,\"#fdca26\"],[1.0,\"#f0f921\"]]}],\"choropleth\":[{\"type\":\"choropleth\",\"colorbar\":{\"outlinewidth\":0,\"ticks\":\"\"}}],\"histogram2d\":[{\"type\":\"histogram2d\",\"colorbar\":{\"outlinewidth\":0,\"ticks\":\"\"},\"colorscale\":[[0.0,\"#0d0887\"],[0.1111111111111111,\"#46039f\"],[0.2222222222222222,\"#7201a8\"],[0.3333333333333333,\"#9c179e\"],[0.4444444444444444,\"#bd3786\"],[0.5555555555555556,\"#d8576b\"],[0.6666666666666666,\"#ed7953\"],[0.7777777777777778,\"#fb9f3a\"],[0.8888888888888888,\"#fdca26\"],[1.0,\"#f0f921\"]]}],\"heatmap\":[{\"type\":\"heatmap\",\"colorbar\":{\"outlinewidth\":0,\"ticks\":\"\"},\"colorscale\":[[0.0,\"#0d0887\"],[0.1111111111111111,\"#46039f\"],[0.2222222222222222,\"#7201a8\"],[0.3333333333333333,\"#9c179e\"],[0.4444444444444444,\"#bd3786\"],[0.5555555555555556,\"#d8576b\"],[0.6666666666666666,\"#ed7953\"],[0.7777777777777778,\"#fb9f3a\"],[0.8888888888888888,\"#fdca26\"],[1.0,\"#f0f921\"]]}],\"heatmapgl\":[{\"type\":\"heatmapgl\",\"colorbar\":{\"outlinewidth\":0,\"ticks\":\"\"},\"colorscale\":[[0.0,\"#0d0887\"],[0.1111111111111111,\"#46039f\"],[0.2222222222222222,\"#7201a8\"],[0.3333333333333333,\"#9c179e\"],[0.4444444444444444,\"#bd3786\"],[0.5555555555555556,\"#d8576b\"],[0.6666666666666666,\"#ed7953\"],[0.7777777777777778,\"#fb9f3a\"],[0.8888888888888888,\"#fdca26\"],[1.0,\"#f0f921\"]]}],\"contourcarpet\":[{\"type\":\"contourcarpet\",\"colorbar\":{\"outlinewidth\":0,\"ticks\":\"\"}}],\"contour\":[{\"type\":\"contour\",\"colorbar\":{\"outlinewidth\":0,\"ticks\":\"\"},\"colorscale\":[[0.0,\"#0d0887\"],[0.1111111111111111,\"#46039f\"],[0.2222222222222222,\"#7201a8\"],[0.3333333333333333,\"#9c179e\"],[0.4444444444444444,\"#bd3786\"],[0.5555555555555556,\"#d8576b\"],[0.6666666666666666,\"#ed7953\"],[0.7777777777777778,\"#fb9f3a\"],[0.8888888888888888,\"#fdca26\"],[1.0,\"#f0f921\"]]}],\"surface\":[{\"type\":\"surface\",\"colorbar\":{\"outlinewidth\":0,\"ticks\":\"\"},\"colorscale\":[[0.0,\"#0d0887\"],[0.1111111111111111,\"#46039f\"],[0.2222222222222222,\"#7201a8\"],[0.3333333333333333,\"#9c179e\"],[0.4444444444444444,\"#bd3786\"],[0.5555555555555556,\"#d8576b\"],[0.6666666666666666,\"#ed7953\"],[0.7777777777777778,\"#fb9f3a\"],[0.8888888888888888,\"#fdca26\"],[1.0,\"#f0f921\"]]}],\"mesh3d\":[{\"type\":\"mesh3d\",\"colorbar\":{\"outlinewidth\":0,\"ticks\":\"\"}}],\"scatter\":[{\"fillpattern\":{\"fillmode\":\"overlay\",\"size\":10,\"solidity\":0.2},\"type\":\"scatter\"}],\"parcoords\":[{\"type\":\"parcoords\",\"line\":{\"colorbar\":{\"outlinewidth\":0,\"ticks\":\"\"}}}],\"scatterpolargl\":[{\"type\":\"scatterpolargl\",\"marker\":{\"colorbar\":{\"outlinewidth\":0,\"ticks\":\"\"}}}],\"bar\":[{\"error_x\":{\"color\":\"#2a3f5f\"},\"error_y\":{\"color\":\"#2a3f5f\"},\"marker\":{\"line\":{\"color\":\"#E5ECF6\",\"width\":0.5},\"pattern\":{\"fillmode\":\"overlay\",\"size\":10,\"solidity\":0.2}},\"type\":\"bar\"}],\"scattergeo\":[{\"type\":\"scattergeo\",\"marker\":{\"colorbar\":{\"outlinewidth\":0,\"ticks\":\"\"}}}],\"scatterpolar\":[{\"type\":\"scatterpolar\",\"marker\":{\"colorbar\":{\"outlinewidth\":0,\"ticks\":\"\"}}}],\"histogram\":[{\"marker\":{\"pattern\":{\"fillmode\":\"overlay\",\"size\":10,\"solidity\":0.2}},\"type\":\"histogram\"}],\"scattergl\":[{\"type\":\"scattergl\",\"marker\":{\"colorbar\":{\"outlinewidth\":0,\"ticks\":\"\"}}}],\"scatter3d\":[{\"type\":\"scatter3d\",\"line\":{\"colorbar\":{\"outlinewidth\":0,\"ticks\":\"\"}},\"marker\":{\"colorbar\":{\"outlinewidth\":0,\"ticks\":\"\"}}}],\"scattermapbox\":[{\"type\":\"scattermapbox\",\"marker\":{\"colorbar\":{\"outlinewidth\":0,\"ticks\":\"\"}}}],\"scatterternary\":[{\"type\":\"scatterternary\",\"marker\":{\"colorbar\":{\"outlinewidth\":0,\"ticks\":\"\"}}}],\"scattercarpet\":[{\"type\":\"scattercarpet\",\"marker\":{\"colorbar\":{\"outlinewidth\":0,\"ticks\":\"\"}}}],\"carpet\":[{\"aaxis\":{\"endlinecolor\":\"#2a3f5f\",\"gridcolor\":\"white\",\"linecolor\":\"white\",\"minorgridcolor\":\"white\",\"startlinecolor\":\"#2a3f5f\"},\"baxis\":{\"endlinecolor\":\"#2a3f5f\",\"gridcolor\":\"white\",\"linecolor\":\"white\",\"minorgridcolor\":\"white\",\"startlinecolor\":\"#2a3f5f\"},\"type\":\"carpet\"}],\"table\":[{\"cells\":{\"fill\":{\"color\":\"#EBF0F8\"},\"line\":{\"color\":\"white\"}},\"header\":{\"fill\":{\"color\":\"#C8D4E3\"},\"line\":{\"color\":\"white\"}},\"type\":\"table\"}],\"barpolar\":[{\"marker\":{\"line\":{\"color\":\"#E5ECF6\",\"width\":0.5},\"pattern\":{\"fillmode\":\"overlay\",\"size\":10,\"solidity\":0.2}},\"type\":\"barpolar\"}],\"pie\":[{\"automargin\":true,\"type\":\"pie\"}]},\"layout\":{\"autotypenumbers\":\"strict\",\"colorway\":[\"#636efa\",\"#EF553B\",\"#00cc96\",\"#ab63fa\",\"#FFA15A\",\"#19d3f3\",\"#FF6692\",\"#B6E880\",\"#FF97FF\",\"#FECB52\"],\"font\":{\"color\":\"#2a3f5f\"},\"hovermode\":\"closest\",\"hoverlabel\":{\"align\":\"left\"},\"paper_bgcolor\":\"white\",\"plot_bgcolor\":\"#E5ECF6\",\"polar\":{\"bgcolor\":\"#E5ECF6\",\"angularaxis\":{\"gridcolor\":\"white\",\"linecolor\":\"white\",\"ticks\":\"\"},\"radialaxis\":{\"gridcolor\":\"white\",\"linecolor\":\"white\",\"ticks\":\"\"}},\"ternary\":{\"bgcolor\":\"#E5ECF6\",\"aaxis\":{\"gridcolor\":\"white\",\"linecolor\":\"white\",\"ticks\":\"\"},\"baxis\":{\"gridcolor\":\"white\",\"linecolor\":\"white\",\"ticks\":\"\"},\"caxis\":{\"gridcolor\":\"white\",\"linecolor\":\"white\",\"ticks\":\"\"}},\"coloraxis\":{\"colorbar\":{\"outlinewidth\":0,\"ticks\":\"\"}},\"colorscale\":{\"sequential\":[[0.0,\"#0d0887\"],[0.1111111111111111,\"#46039f\"],[0.2222222222222222,\"#7201a8\"],[0.3333333333333333,\"#9c179e\"],[0.4444444444444444,\"#bd3786\"],[0.5555555555555556,\"#d8576b\"],[0.6666666666666666,\"#ed7953\"],[0.7777777777777778,\"#fb9f3a\"],[0.8888888888888888,\"#fdca26\"],[1.0,\"#f0f921\"]],\"sequentialminus\":[[0.0,\"#0d0887\"],[0.1111111111111111,\"#46039f\"],[0.2222222222222222,\"#7201a8\"],[0.3333333333333333,\"#9c179e\"],[0.4444444444444444,\"#bd3786\"],[0.5555555555555556,\"#d8576b\"],[0.6666666666666666,\"#ed7953\"],[0.7777777777777778,\"#fb9f3a\"],[0.8888888888888888,\"#fdca26\"],[1.0,\"#f0f921\"]],\"diverging\":[[0,\"#8e0152\"],[0.1,\"#c51b7d\"],[0.2,\"#de77ae\"],[0.3,\"#f1b6da\"],[0.4,\"#fde0ef\"],[0.5,\"#f7f7f7\"],[0.6,\"#e6f5d0\"],[0.7,\"#b8e186\"],[0.8,\"#7fbc41\"],[0.9,\"#4d9221\"],[1,\"#276419\"]]},\"xaxis\":{\"gridcolor\":\"white\",\"linecolor\":\"white\",\"ticks\":\"\",\"title\":{\"standoff\":15},\"zerolinecolor\":\"white\",\"automargin\":true,\"zerolinewidth\":2},\"yaxis\":{\"gridcolor\":\"white\",\"linecolor\":\"white\",\"ticks\":\"\",\"title\":{\"standoff\":15},\"zerolinecolor\":\"white\",\"automargin\":true,\"zerolinewidth\":2},\"scene\":{\"xaxis\":{\"backgroundcolor\":\"#E5ECF6\",\"gridcolor\":\"white\",\"linecolor\":\"white\",\"showbackground\":true,\"ticks\":\"\",\"zerolinecolor\":\"white\",\"gridwidth\":2},\"yaxis\":{\"backgroundcolor\":\"#E5ECF6\",\"gridcolor\":\"white\",\"linecolor\":\"white\",\"showbackground\":true,\"ticks\":\"\",\"zerolinecolor\":\"white\",\"gridwidth\":2},\"zaxis\":{\"backgroundcolor\":\"#E5ECF6\",\"gridcolor\":\"white\",\"linecolor\":\"white\",\"showbackground\":true,\"ticks\":\"\",\"zerolinecolor\":\"white\",\"gridwidth\":2}},\"shapedefaults\":{\"line\":{\"color\":\"#2a3f5f\"}},\"annotationdefaults\":{\"arrowcolor\":\"#2a3f5f\",\"arrowhead\":0,\"arrowwidth\":1},\"geo\":{\"bgcolor\":\"white\",\"landcolor\":\"#E5ECF6\",\"subunitcolor\":\"white\",\"showland\":true,\"showlakes\":true,\"lakecolor\":\"white\"},\"title\":{\"x\":0.05},\"mapbox\":{\"style\":\"light\"}}},\"xaxis\":{\"anchor\":\"y\",\"domain\":[0.0,1.0],\"title\":{\"text\":\"Political regime\"}},\"yaxis\":{\"anchor\":\"x\",\"domain\":[0.0,1.0],\"title\":{\"text\":\"Country_count\"}},\"legend\":{\"title\":{\"text\":\"Talent_level\"},\"tracegroupgap\":0},\"title\":{\"text\":\"Countries by Political regime and Talent level\"},\"barmode\":\"relative\",\"height\":600},                        {\"responsive\": true}                    ).then(function(){\n",
       "                            \n",
       "var gd = document.getElementById('adf6209f-77c4-43e9-89ee-4decf577e559');\n",
       "var x = new MutationObserver(function (mutations, observer) {{\n",
       "        var display = window.getComputedStyle(gd).display;\n",
       "        if (!display || display === 'none') {{\n",
       "            console.log([gd, 'removed!']);\n",
       "            Plotly.purge(gd);\n",
       "            observer.disconnect();\n",
       "        }}\n",
       "}});\n",
       "\n",
       "// Listen for the removal of the full notebook cells\n",
       "var notebookContainer = gd.closest('#notebook-container');\n",
       "if (notebookContainer) {{\n",
       "    x.observe(notebookContainer, {childList: true});\n",
       "}}\n",
       "\n",
       "// Listen for the clearing of the current output cell\n",
       "var outputEl = gd.closest('.output');\n",
       "if (outputEl) {{\n",
       "    x.observe(outputEl, {childList: true});\n",
       "}}\n",
       "\n",
       "                        })                };                });            </script>        </div>"
      ]
     },
     "metadata": {},
     "output_type": "display_data"
    }
   ],
   "source": [
    "agg_data = talent_df.groupby(['Political regime', 'Talent_level']).size().reset_index(name='Country_count')\n",
    "\n",
    "agg_data = agg_data.sort_values(by=[\"Talent_level\", \"Country_count\"])\n",
    "\n",
    "fig = px.bar(\n",
    "    agg_data, \n",
    "    x='Political regime', \n",
    "    y='Country_count', \n",
    "    color='Talent_level', \n",
    "    title=\"Countries by Political regime and Talent level\", \n",
    "    color_discrete_sequence=px.colors.qualitative.Prism,\n",
    "    height=600)\n",
    "fig.show()"
   ]
  },
  {
   "cell_type": "markdown",
   "id": "af69fd82",
   "metadata": {
    "papermill": {
     "duration": 0.041065,
     "end_time": "2023-08-09T09:38:18.731932",
     "exception": false,
     "start_time": "2023-08-09T09:38:18.690867",
     "status": "completed"
    },
    "tags": []
   },
   "source": [
    "# <div style=\"color:white;background-color:#1d1545;padding:3%;border-radius:50px 50px;font-size:1em;text-align:center\">Infrastructure Insights</div>"
   ]
  },
  {
   "cell_type": "code",
   "execution_count": null,
   "id": "f6010683",
   "metadata": {
    "_kg_hide-input": true,
    "execution": {
     "iopub.execute_input": "2023-08-09T09:38:18.817615Z",
     "iopub.status.busy": "2023-08-09T09:38:18.816961Z",
     "iopub.status.idle": "2023-08-09T09:38:18.822392Z",
     "shell.execute_reply": "2023-08-09T09:38:18.821628Z"
    },
    "papermill": {
     "duration": 0.050701,
     "end_time": "2023-08-09T09:38:18.824306",
     "exception": false,
     "start_time": "2023-08-09T09:38:18.773605",
     "status": "completed"
    },
    "tags": []
   },
   "outputs": [],
   "source": [
    "infra_df = df[['Country','Region', 'Cluster', 'Income group', 'Political regime', 'Infrastructure']]"
   ]
  },
  {
   "cell_type": "markdown",
   "id": "77c88fa6",
   "metadata": {
    "papermill": {
     "duration": 0.040856,
     "end_time": "2023-08-09T09:38:18.906836",
     "exception": false,
     "start_time": "2023-08-09T09:38:18.865980",
     "status": "completed"
    },
    "tags": []
   },
   "source": [
    "## <div style=\"font-size:20px;text-align:center;color:black;border-bottom:5px #0026d6 solid;padding-bottom:3%\">Infrastructure by Regions</div>"
   ]
  },
  {
   "cell_type": "code",
   "execution_count": null,
   "id": "02fac92e",
   "metadata": {
    "_kg_hide-input": true,
    "execution": {
     "iopub.execute_input": "2023-08-09T09:38:18.991401Z",
     "iopub.status.busy": "2023-08-09T09:38:18.990699Z",
     "iopub.status.idle": "2023-08-09T09:38:19.048772Z",
     "shell.execute_reply": "2023-08-09T09:38:19.047651Z"
    },
    "papermill": {
     "duration": 0.103287,
     "end_time": "2023-08-09T09:38:19.051062",
     "exception": false,
     "start_time": "2023-08-09T09:38:18.947775",
     "status": "completed"
    },
    "tags": []
   },
   "outputs": [
    {
     "data": {
      "text/html": [
       "<div>                            <div id=\"3f2ea9f0-b831-4cd4-9ff9-ab64ccde37fa\" class=\"plotly-graph-div\" style=\"height:525px; width:100%;\"></div>            <script type=\"text/javascript\">                require([\"plotly\"], function(Plotly) {                    window.PLOTLYENV=window.PLOTLYENV || {};                                    if (document.getElementById(\"3f2ea9f0-b831-4cd4-9ff9-ab64ccde37fa\")) {                    Plotly.newPlot(                        \"3f2ea9f0-b831-4cd4-9ff9-ab64ccde37fa\",                        [{\"alignmentgroup\":\"True\",\"box\":{\"visible\":true},\"customdata\":[[\"United States of America\",\"Power players\",\"High\",\"Liberal democracy\"],[\"China\",\"Power players\",\"Upper middle\",\"Closed autocracy\"],[\"United Kingdom\",\"Traditional champions\",\"High\",\"Liberal democracy\"],[\"Canada\",\"Traditional champions\",\"High\",\"Liberal democracy\"],[\"Israel\",\"Rising stars\",\"High\",\"Liberal democracy\"],[\"Singapore\",\"Rising stars\",\"High\",\"Electoral democracy\"],[\"South Korea\",\"Rising stars\",\"High\",\"Liberal democracy\"],[\"The Netherlands\",\"Rising stars\",\"High\",\"Liberal democracy\"],[\"Germany\",\"Traditional champions\",\"High\",\"Liberal democracy\"],[\"France\",\"Traditional champions\",\"High\",\"Liberal democracy\"],[\"Australia\",\"Rising stars\",\"High\",\"Liberal democracy\"],[\"Ireland\",\"Rising stars\",\"High\",\"Liberal democracy\"],[\"Finland\",\"Rising stars\",\"High\",\"Liberal democracy\"],[\"Denmark\",\"Rising stars\",\"High\",\"Liberal democracy\"],[\"Luxembourg\",\"Waking up\",\"High\",\"Liberal democracy\"],[\"Japan\",\"Rising stars\",\"High\",\"Liberal democracy\"],[\"India\",\"Waking up\",\"Lower middle\",\"Electoral autocracy\"],[\"Switzerland\",\"Rising stars\",\"High\",\"Liberal democracy\"],[\"Sweden\",\"Waking up\",\"High\",\"Liberal democracy\"],[\"Hong Kong\",\"Waking up\",\"High\",\"Electoral democracy\"],[\"Spain\",\"Rising stars\",\"High\",\"Liberal democracy\"],[\"Austria\",\"Waking up\",\"High\",\"Electoral democracy\"],[\"Estonia\",\"Waking up\",\"High\",\"Liberal democracy\"],[\"Taiwan\",\"Waking up\",\"High\",\"Liberal democracy\"],[\"Norway\",\"Waking up\",\"High\",\"Liberal democracy\"],[\"Saudi Arabia\",\"Waking up\",\"High\",\"Closed autocracy\"],[\"Belgium\",\"Waking up\",\"High\",\"Liberal democracy\"],[\"Poland\",\"Waking up\",\"High\",\"Electoral democracy\"],[\"Slovenia\",\"Waking up\",\"High\",\"Electoral democracy\"],[\"New Zealand\",\"Waking up\",\"High\",\"Liberal democracy\"],[\"Italy\",\"Waking up\",\"High\",\"Liberal democracy\"],[\"Russia\",\"Waking up\",\"Upper middle\",\"Electoral autocracy\"],[\"Malta\",\"Waking up\",\"High\",\"Electoral democracy\"],[\"United Arab Emirates\",\"Waking up\",\"High\",\"Closed autocracy\"],[\"Portugal\",\"Waking up\",\"High\",\"Electoral democracy\"],[\"Czech Republic\",\"Waking up\",\"High\",\"Electoral democracy\"],[\"Iceland\",\"Waking up\",\"High\",\"Liberal democracy\"],[\"Lithuania\",\"Waking up\",\"High\",\"Electoral democracy\"],[\"Brazil\",\"Waking up\",\"Upper middle\",\"Electoral democracy\"],[\"Greece\",\"Waking up\",\"High\",\"Liberal democracy\"],[\"Slovakia\",\"Waking up\",\"High\",\"Electoral democracy\"],[\"Hungary\",\"Waking up\",\"High\",\"Electoral autocracy\"],[\"Malaysia\",\"Waking up\",\"Upper middle\",\"Electoral autocracy\"],[\"Mexico\",\"Waking up\",\"Upper middle\",\"Electoral democracy\"],[\"Chile\",\"Waking up\",\"High\",\"Liberal democracy\"],[\"Argentina\",\"Waking up\",\"Upper middle\",\"Electoral democracy\"],[\"Qatar\",\"Waking up\",\"High\",\"Closed autocracy\"],[\"Turkey\",\"Waking up\",\"High\",\"Electoral democracy\"],[\"Colombia\",\"Waking up\",\"Upper middle\",\"Electoral democracy\"],[\"Uruguay\",\"Waking up\",\"High\",\"Liberal democracy\"],[\"Bahrain\",\"Waking up\",\"High\",\"Closed autocracy\"],[\"Vietnam\",\"Waking up\",\"Lower middle\",\"Closed autocracy\"],[\"Indonesia\",\"Waking up\",\"Lower middle\",\"Electoral democracy\"],[\"Tunisia\",\"Waking up\",\"Lower middle\",\"Electoral democracy\"],[\"South Africa\",\"Waking up\",\"Upper middle\",\"Electoral democracy\"],[\"Morocco\",\"Waking up\",\"Lower middle\",\"Closed autocracy\"],[\"Armenia\",\"Waking up\",\"Upper middle\",\"Electoral democracy\"],[\"Sri Lanka\",\"Nascent\",\"Lower middle\",\"Electoral democracy\"],[\"Egypt\",\"Nascent\",\"Lower middle\",\"Electoral autocracy\"],[\"Kenya\",\"Nascent\",\"Lower middle\",\"Electoral autocracy\"],[\"Nigeria\",\"Nascent\",\"Lower middle\",\"Electoral autocracy\"],[\"Pakistan\",\"Nascent\",\"Lower middle\",\"Electoral autocracy\"]],\"hovertemplate\":\"Region=%{x}\\u003cbr\\u003eInfrastructure=%{y}\\u003cbr\\u003eCountry=%{customdata[0]}\\u003cbr\\u003eCluster=%{customdata[1]}\\u003cbr\\u003eIncome group=%{customdata[2]}\\u003cbr\\u003ePolitical regime=%{customdata[3]}\\u003cextra\\u003e\\u003c\\u002fextra\\u003e\",\"legendgroup\":\"\",\"marker\":{\"color\":\"#636efa\"},\"name\":\"\",\"offsetgroup\":\"\",\"orientation\":\"v\",\"points\":\"all\",\"scalegroup\":\"True\",\"showlegend\":false,\"x\":[\"Americas\",\"Asia-Pacific\",\"Europe\",\"Americas\",\"Middle East\",\"Asia-Pacific\",\"Asia-Pacific\",\"Europe\",\"Europe\",\"Europe\",\"Asia-Pacific\",\"Europe\",\"Europe\",\"Europe\",\"Europe\",\"Asia-Pacific\",\"Asia-Pacific\",\"Europe\",\"Europe\",\"Asia-Pacific\",\"Europe\",\"Europe\",\"Europe\",\"Asia-Pacific\",\"Europe\",\"Middle East\",\"Europe\",\"Europe\",\"Europe\",\"Asia-Pacific\",\"Europe\",\"Europe\",\"Europe\",\"Middle East\",\"Europe\",\"Europe\",\"Europe\",\"Europe\",\"Americas\",\"Europe\",\"Europe\",\"Europe\",\"Asia-Pacific\",\"Americas\",\"Americas\",\"Americas\",\"Middle East\",\"Europe\",\"Americas\",\"Americas\",\"Middle East\",\"Asia-Pacific\",\"Asia-Pacific\",\"Africa\",\"Africa\",\"Africa\",\"Europe\",\"Asia-Pacific\",\"Middle East\",\"Africa\",\"Africa\",\"Asia-Pacific\"],\"x0\":\" \",\"xaxis\":\"x\",\"y\":[94.02,100.0,71.43,77.05,67.58,84.3,85.23,81.99,77.22,77.15,63.43,89.5,71.6,74.08,94.88,84.58,33.91,78.43,75.19,96.11,73.32,64.49,63.65,77.86,76.2,70.8,65.1,70.96,72.06,69.78,64.76,62.59,67.12,79.16,64.2,64.26,72.45,63.19,62.61,55.44,65.36,69.17,62.04,41.85,61.97,56.15,67.97,40.74,54.8,58.77,60.39,55.76,47.52,38.59,45.73,44.88,37.84,34.64,38.84,14.11,0.0,2.43],\"y0\":\" \",\"yaxis\":\"y\",\"type\":\"violin\"}],                        {\"template\":{\"data\":{\"histogram2dcontour\":[{\"type\":\"histogram2dcontour\",\"colorbar\":{\"outlinewidth\":0,\"ticks\":\"\"},\"colorscale\":[[0.0,\"#0d0887\"],[0.1111111111111111,\"#46039f\"],[0.2222222222222222,\"#7201a8\"],[0.3333333333333333,\"#9c179e\"],[0.4444444444444444,\"#bd3786\"],[0.5555555555555556,\"#d8576b\"],[0.6666666666666666,\"#ed7953\"],[0.7777777777777778,\"#fb9f3a\"],[0.8888888888888888,\"#fdca26\"],[1.0,\"#f0f921\"]]}],\"choropleth\":[{\"type\":\"choropleth\",\"colorbar\":{\"outlinewidth\":0,\"ticks\":\"\"}}],\"histogram2d\":[{\"type\":\"histogram2d\",\"colorbar\":{\"outlinewidth\":0,\"ticks\":\"\"},\"colorscale\":[[0.0,\"#0d0887\"],[0.1111111111111111,\"#46039f\"],[0.2222222222222222,\"#7201a8\"],[0.3333333333333333,\"#9c179e\"],[0.4444444444444444,\"#bd3786\"],[0.5555555555555556,\"#d8576b\"],[0.6666666666666666,\"#ed7953\"],[0.7777777777777778,\"#fb9f3a\"],[0.8888888888888888,\"#fdca26\"],[1.0,\"#f0f921\"]]}],\"heatmap\":[{\"type\":\"heatmap\",\"colorbar\":{\"outlinewidth\":0,\"ticks\":\"\"},\"colorscale\":[[0.0,\"#0d0887\"],[0.1111111111111111,\"#46039f\"],[0.2222222222222222,\"#7201a8\"],[0.3333333333333333,\"#9c179e\"],[0.4444444444444444,\"#bd3786\"],[0.5555555555555556,\"#d8576b\"],[0.6666666666666666,\"#ed7953\"],[0.7777777777777778,\"#fb9f3a\"],[0.8888888888888888,\"#fdca26\"],[1.0,\"#f0f921\"]]}],\"heatmapgl\":[{\"type\":\"heatmapgl\",\"colorbar\":{\"outlinewidth\":0,\"ticks\":\"\"},\"colorscale\":[[0.0,\"#0d0887\"],[0.1111111111111111,\"#46039f\"],[0.2222222222222222,\"#7201a8\"],[0.3333333333333333,\"#9c179e\"],[0.4444444444444444,\"#bd3786\"],[0.5555555555555556,\"#d8576b\"],[0.6666666666666666,\"#ed7953\"],[0.7777777777777778,\"#fb9f3a\"],[0.8888888888888888,\"#fdca26\"],[1.0,\"#f0f921\"]]}],\"contourcarpet\":[{\"type\":\"contourcarpet\",\"colorbar\":{\"outlinewidth\":0,\"ticks\":\"\"}}],\"contour\":[{\"type\":\"contour\",\"colorbar\":{\"outlinewidth\":0,\"ticks\":\"\"},\"colorscale\":[[0.0,\"#0d0887\"],[0.1111111111111111,\"#46039f\"],[0.2222222222222222,\"#7201a8\"],[0.3333333333333333,\"#9c179e\"],[0.4444444444444444,\"#bd3786\"],[0.5555555555555556,\"#d8576b\"],[0.6666666666666666,\"#ed7953\"],[0.7777777777777778,\"#fb9f3a\"],[0.8888888888888888,\"#fdca26\"],[1.0,\"#f0f921\"]]}],\"surface\":[{\"type\":\"surface\",\"colorbar\":{\"outlinewidth\":0,\"ticks\":\"\"},\"colorscale\":[[0.0,\"#0d0887\"],[0.1111111111111111,\"#46039f\"],[0.2222222222222222,\"#7201a8\"],[0.3333333333333333,\"#9c179e\"],[0.4444444444444444,\"#bd3786\"],[0.5555555555555556,\"#d8576b\"],[0.6666666666666666,\"#ed7953\"],[0.7777777777777778,\"#fb9f3a\"],[0.8888888888888888,\"#fdca26\"],[1.0,\"#f0f921\"]]}],\"mesh3d\":[{\"type\":\"mesh3d\",\"colorbar\":{\"outlinewidth\":0,\"ticks\":\"\"}}],\"scatter\":[{\"fillpattern\":{\"fillmode\":\"overlay\",\"size\":10,\"solidity\":0.2},\"type\":\"scatter\"}],\"parcoords\":[{\"type\":\"parcoords\",\"line\":{\"colorbar\":{\"outlinewidth\":0,\"ticks\":\"\"}}}],\"scatterpolargl\":[{\"type\":\"scatterpolargl\",\"marker\":{\"colorbar\":{\"outlinewidth\":0,\"ticks\":\"\"}}}],\"bar\":[{\"error_x\":{\"color\":\"#2a3f5f\"},\"error_y\":{\"color\":\"#2a3f5f\"},\"marker\":{\"line\":{\"color\":\"#E5ECF6\",\"width\":0.5},\"pattern\":{\"fillmode\":\"overlay\",\"size\":10,\"solidity\":0.2}},\"type\":\"bar\"}],\"scattergeo\":[{\"type\":\"scattergeo\",\"marker\":{\"colorbar\":{\"outlinewidth\":0,\"ticks\":\"\"}}}],\"scatterpolar\":[{\"type\":\"scatterpolar\",\"marker\":{\"colorbar\":{\"outlinewidth\":0,\"ticks\":\"\"}}}],\"histogram\":[{\"marker\":{\"pattern\":{\"fillmode\":\"overlay\",\"size\":10,\"solidity\":0.2}},\"type\":\"histogram\"}],\"scattergl\":[{\"type\":\"scattergl\",\"marker\":{\"colorbar\":{\"outlinewidth\":0,\"ticks\":\"\"}}}],\"scatter3d\":[{\"type\":\"scatter3d\",\"line\":{\"colorbar\":{\"outlinewidth\":0,\"ticks\":\"\"}},\"marker\":{\"colorbar\":{\"outlinewidth\":0,\"ticks\":\"\"}}}],\"scattermapbox\":[{\"type\":\"scattermapbox\",\"marker\":{\"colorbar\":{\"outlinewidth\":0,\"ticks\":\"\"}}}],\"scatterternary\":[{\"type\":\"scatterternary\",\"marker\":{\"colorbar\":{\"outlinewidth\":0,\"ticks\":\"\"}}}],\"scattercarpet\":[{\"type\":\"scattercarpet\",\"marker\":{\"colorbar\":{\"outlinewidth\":0,\"ticks\":\"\"}}}],\"carpet\":[{\"aaxis\":{\"endlinecolor\":\"#2a3f5f\",\"gridcolor\":\"white\",\"linecolor\":\"white\",\"minorgridcolor\":\"white\",\"startlinecolor\":\"#2a3f5f\"},\"baxis\":{\"endlinecolor\":\"#2a3f5f\",\"gridcolor\":\"white\",\"linecolor\":\"white\",\"minorgridcolor\":\"white\",\"startlinecolor\":\"#2a3f5f\"},\"type\":\"carpet\"}],\"table\":[{\"cells\":{\"fill\":{\"color\":\"#EBF0F8\"},\"line\":{\"color\":\"white\"}},\"header\":{\"fill\":{\"color\":\"#C8D4E3\"},\"line\":{\"color\":\"white\"}},\"type\":\"table\"}],\"barpolar\":[{\"marker\":{\"line\":{\"color\":\"#E5ECF6\",\"width\":0.5},\"pattern\":{\"fillmode\":\"overlay\",\"size\":10,\"solidity\":0.2}},\"type\":\"barpolar\"}],\"pie\":[{\"automargin\":true,\"type\":\"pie\"}]},\"layout\":{\"autotypenumbers\":\"strict\",\"colorway\":[\"#636efa\",\"#EF553B\",\"#00cc96\",\"#ab63fa\",\"#FFA15A\",\"#19d3f3\",\"#FF6692\",\"#B6E880\",\"#FF97FF\",\"#FECB52\"],\"font\":{\"color\":\"#2a3f5f\"},\"hovermode\":\"closest\",\"hoverlabel\":{\"align\":\"left\"},\"paper_bgcolor\":\"white\",\"plot_bgcolor\":\"#E5ECF6\",\"polar\":{\"bgcolor\":\"#E5ECF6\",\"angularaxis\":{\"gridcolor\":\"white\",\"linecolor\":\"white\",\"ticks\":\"\"},\"radialaxis\":{\"gridcolor\":\"white\",\"linecolor\":\"white\",\"ticks\":\"\"}},\"ternary\":{\"bgcolor\":\"#E5ECF6\",\"aaxis\":{\"gridcolor\":\"white\",\"linecolor\":\"white\",\"ticks\":\"\"},\"baxis\":{\"gridcolor\":\"white\",\"linecolor\":\"white\",\"ticks\":\"\"},\"caxis\":{\"gridcolor\":\"white\",\"linecolor\":\"white\",\"ticks\":\"\"}},\"coloraxis\":{\"colorbar\":{\"outlinewidth\":0,\"ticks\":\"\"}},\"colorscale\":{\"sequential\":[[0.0,\"#0d0887\"],[0.1111111111111111,\"#46039f\"],[0.2222222222222222,\"#7201a8\"],[0.3333333333333333,\"#9c179e\"],[0.4444444444444444,\"#bd3786\"],[0.5555555555555556,\"#d8576b\"],[0.6666666666666666,\"#ed7953\"],[0.7777777777777778,\"#fb9f3a\"],[0.8888888888888888,\"#fdca26\"],[1.0,\"#f0f921\"]],\"sequentialminus\":[[0.0,\"#0d0887\"],[0.1111111111111111,\"#46039f\"],[0.2222222222222222,\"#7201a8\"],[0.3333333333333333,\"#9c179e\"],[0.4444444444444444,\"#bd3786\"],[0.5555555555555556,\"#d8576b\"],[0.6666666666666666,\"#ed7953\"],[0.7777777777777778,\"#fb9f3a\"],[0.8888888888888888,\"#fdca26\"],[1.0,\"#f0f921\"]],\"diverging\":[[0,\"#8e0152\"],[0.1,\"#c51b7d\"],[0.2,\"#de77ae\"],[0.3,\"#f1b6da\"],[0.4,\"#fde0ef\"],[0.5,\"#f7f7f7\"],[0.6,\"#e6f5d0\"],[0.7,\"#b8e186\"],[0.8,\"#7fbc41\"],[0.9,\"#4d9221\"],[1,\"#276419\"]]},\"xaxis\":{\"gridcolor\":\"white\",\"linecolor\":\"white\",\"ticks\":\"\",\"title\":{\"standoff\":15},\"zerolinecolor\":\"white\",\"automargin\":true,\"zerolinewidth\":2},\"yaxis\":{\"gridcolor\":\"white\",\"linecolor\":\"white\",\"ticks\":\"\",\"title\":{\"standoff\":15},\"zerolinecolor\":\"white\",\"automargin\":true,\"zerolinewidth\":2},\"scene\":{\"xaxis\":{\"backgroundcolor\":\"#E5ECF6\",\"gridcolor\":\"white\",\"linecolor\":\"white\",\"showbackground\":true,\"ticks\":\"\",\"zerolinecolor\":\"white\",\"gridwidth\":2},\"yaxis\":{\"backgroundcolor\":\"#E5ECF6\",\"gridcolor\":\"white\",\"linecolor\":\"white\",\"showbackground\":true,\"ticks\":\"\",\"zerolinecolor\":\"white\",\"gridwidth\":2},\"zaxis\":{\"backgroundcolor\":\"#E5ECF6\",\"gridcolor\":\"white\",\"linecolor\":\"white\",\"showbackground\":true,\"ticks\":\"\",\"zerolinecolor\":\"white\",\"gridwidth\":2}},\"shapedefaults\":{\"line\":{\"color\":\"#2a3f5f\"}},\"annotationdefaults\":{\"arrowcolor\":\"#2a3f5f\",\"arrowhead\":0,\"arrowwidth\":1},\"geo\":{\"bgcolor\":\"white\",\"landcolor\":\"#E5ECF6\",\"subunitcolor\":\"white\",\"showland\":true,\"showlakes\":true,\"lakecolor\":\"white\"},\"title\":{\"x\":0.05},\"mapbox\":{\"style\":\"light\"}}},\"xaxis\":{\"anchor\":\"y\",\"domain\":[0.0,1.0],\"title\":{\"text\":\"Region\"}},\"yaxis\":{\"anchor\":\"x\",\"domain\":[0.0,1.0],\"title\":{\"text\":\"Infrastructure\"}},\"legend\":{\"tracegroupgap\":0},\"title\":{\"text\":\"Infrastructure by Regions\"},\"violinmode\":\"group\"},                        {\"responsive\": true}                    ).then(function(){\n",
       "                            \n",
       "var gd = document.getElementById('3f2ea9f0-b831-4cd4-9ff9-ab64ccde37fa');\n",
       "var x = new MutationObserver(function (mutations, observer) {{\n",
       "        var display = window.getComputedStyle(gd).display;\n",
       "        if (!display || display === 'none') {{\n",
       "            console.log([gd, 'removed!']);\n",
       "            Plotly.purge(gd);\n",
       "            observer.disconnect();\n",
       "        }}\n",
       "}});\n",
       "\n",
       "// Listen for the removal of the full notebook cells\n",
       "var notebookContainer = gd.closest('#notebook-container');\n",
       "if (notebookContainer) {{\n",
       "    x.observe(notebookContainer, {childList: true});\n",
       "}}\n",
       "\n",
       "// Listen for the clearing of the current output cell\n",
       "var outputEl = gd.closest('.output');\n",
       "if (outputEl) {{\n",
       "    x.observe(outputEl, {childList: true});\n",
       "}}\n",
       "\n",
       "                        })                };                });            </script>        </div>"
      ]
     },
     "metadata": {},
     "output_type": "display_data"
    }
   ],
   "source": [
    "fig = px.violin(infra_df, \n",
    "                y=\"Infrastructure\", \n",
    "                x=\"Region\", \n",
    "                box=True, \n",
    "                points=\"all\", \n",
    "                title=\"Infrastructure by Regions\", \n",
    "                hover_data=infra_df.columns)\n",
    "fig.show()"
   ]
  },
  {
   "cell_type": "code",
   "execution_count": null,
   "id": "9692c8f2",
   "metadata": {
    "_kg_hide-input": true,
    "execution": {
     "iopub.execute_input": "2023-08-09T09:38:19.139089Z",
     "iopub.status.busy": "2023-08-09T09:38:19.138656Z",
     "iopub.status.idle": "2023-08-09T09:38:19.223648Z",
     "shell.execute_reply": "2023-08-09T09:38:19.222550Z"
    },
    "papermill": {
     "duration": 0.130429,
     "end_time": "2023-08-09T09:38:19.225792",
     "exception": false,
     "start_time": "2023-08-09T09:38:19.095363",
     "status": "completed"
    },
    "tags": []
   },
   "outputs": [
    {
     "name": "stderr",
     "output_type": "stream",
     "text": [
      "/tmp/ipykernel_20/3166983480.py:17: SettingWithCopyWarning:\n",
      "\n",
      "\n",
      "A value is trying to be set on a copy of a slice from a DataFrame.\n",
      "Try using .loc[row_indexer,col_indexer] = value instead\n",
      "\n",
      "See the caveats in the documentation: https://pandas.pydata.org/pandas-docs/stable/user_guide/indexing.html#returning-a-view-versus-a-copy\n",
      "\n"
     ]
    },
    {
     "data": {
      "text/html": [
       "<div>                            <div id=\"5a86fa02-3ad5-4c76-b329-858a22e83a02\" class=\"plotly-graph-div\" style=\"height:600px; width:100%;\"></div>            <script type=\"text/javascript\">                require([\"plotly\"], function(Plotly) {                    window.PLOTLYENV=window.PLOTLYENV || {};                                    if (document.getElementById(\"5a86fa02-3ad5-4c76-b329-858a22e83a02\")) {                    Plotly.newPlot(                        \"5a86fa02-3ad5-4c76-b329-858a22e83a02\",                        [{\"alignmentgroup\":\"True\",\"hovertemplate\":\"Infrastructure_level=1 - Very high\\u003cbr\\u003eRegion=%{x}\\u003cbr\\u003eCountry_count=%{y}\\u003cextra\\u003e\\u003c\\u002fextra\\u003e\",\"legendgroup\":\"1 - Very high\",\"marker\":{\"color\":\"rgb(95, 70, 144)\",\"pattern\":{\"shape\":\"\"}},\"name\":\"1 - Very high\",\"offsetgroup\":\"1 - Very high\",\"orientation\":\"v\",\"showlegend\":true,\"textposition\":\"auto\",\"x\":[\"Americas\",\"Europe\",\"Asia-Pacific\"],\"xaxis\":\"x\",\"y\":[1,3,5],\"yaxis\":\"y\",\"type\":\"bar\"},{\"alignmentgroup\":\"True\",\"hovertemplate\":\"Infrastructure_level=2 - High\\u003cbr\\u003eRegion=%{x}\\u003cbr\\u003eCountry_count=%{y}\\u003cextra\\u003e\\u003c\\u002fextra\\u003e\",\"legendgroup\":\"2 - High\",\"marker\":{\"color\":\"rgb(29, 105, 150)\",\"pattern\":{\"shape\":\"\"}},\"name\":\"2 - High\",\"offsetgroup\":\"2 - High\",\"orientation\":\"v\",\"showlegend\":true,\"textposition\":\"auto\",\"x\":[\"Americas\",\"Asia-Pacific\",\"Middle East\",\"Europe\"],\"xaxis\":\"x\",\"y\":[3,4,5,23],\"yaxis\":\"y\",\"type\":\"bar\"},{\"alignmentgroup\":\"True\",\"hovertemplate\":\"Infrastructure_level=3 - Moderate\\u003cbr\\u003eRegion=%{x}\\u003cbr\\u003eCountry_count=%{y}\\u003cextra\\u003e\\u003c\\u002fextra\\u003e\",\"legendgroup\":\"3 - Moderate\",\"marker\":{\"color\":\"rgb(56, 166, 165)\",\"pattern\":{\"shape\":\"\"}},\"name\":\"3 - Moderate\",\"offsetgroup\":\"3 - Moderate\",\"orientation\":\"v\",\"showlegend\":true,\"textposition\":\"auto\",\"x\":[\"Africa\",\"Asia-Pacific\",\"Europe\",\"Americas\"],\"xaxis\":\"x\",\"y\":[2,2,2,4],\"yaxis\":\"y\",\"type\":\"bar\"},{\"alignmentgroup\":\"True\",\"hovertemplate\":\"Infrastructure_level=4 - Low\\u003cbr\\u003eRegion=%{x}\\u003cbr\\u003eCountry_count=%{y}\\u003cextra\\u003e\\u003c\\u002fextra\\u003e\",\"legendgroup\":\"4 - Low\",\"marker\":{\"color\":\"rgb(15, 133, 84)\",\"pattern\":{\"shape\":\"\"}},\"name\":\"4 - Low\",\"offsetgroup\":\"4 - Low\",\"orientation\":\"v\",\"showlegend\":true,\"textposition\":\"auto\",\"x\":[\"Africa\",\"Europe\",\"Middle East\",\"Asia-Pacific\"],\"xaxis\":\"x\",\"y\":[1,1,1,2],\"yaxis\":\"y\",\"type\":\"bar\"},{\"alignmentgroup\":\"True\",\"hovertemplate\":\"Infrastructure_level=5 - Very low\\u003cbr\\u003eRegion=%{x}\\u003cbr\\u003eCountry_count=%{y}\\u003cextra\\u003e\\u003c\\u002fextra\\u003e\",\"legendgroup\":\"5 - Very low\",\"marker\":{\"color\":\"rgb(115, 175, 72)\",\"pattern\":{\"shape\":\"\"}},\"name\":\"5 - Very low\",\"offsetgroup\":\"5 - Very low\",\"orientation\":\"v\",\"showlegend\":true,\"textposition\":\"auto\",\"x\":[\"Asia-Pacific\",\"Africa\"],\"xaxis\":\"x\",\"y\":[1,2],\"yaxis\":\"y\",\"type\":\"bar\"}],                        {\"template\":{\"data\":{\"histogram2dcontour\":[{\"type\":\"histogram2dcontour\",\"colorbar\":{\"outlinewidth\":0,\"ticks\":\"\"},\"colorscale\":[[0.0,\"#0d0887\"],[0.1111111111111111,\"#46039f\"],[0.2222222222222222,\"#7201a8\"],[0.3333333333333333,\"#9c179e\"],[0.4444444444444444,\"#bd3786\"],[0.5555555555555556,\"#d8576b\"],[0.6666666666666666,\"#ed7953\"],[0.7777777777777778,\"#fb9f3a\"],[0.8888888888888888,\"#fdca26\"],[1.0,\"#f0f921\"]]}],\"choropleth\":[{\"type\":\"choropleth\",\"colorbar\":{\"outlinewidth\":0,\"ticks\":\"\"}}],\"histogram2d\":[{\"type\":\"histogram2d\",\"colorbar\":{\"outlinewidth\":0,\"ticks\":\"\"},\"colorscale\":[[0.0,\"#0d0887\"],[0.1111111111111111,\"#46039f\"],[0.2222222222222222,\"#7201a8\"],[0.3333333333333333,\"#9c179e\"],[0.4444444444444444,\"#bd3786\"],[0.5555555555555556,\"#d8576b\"],[0.6666666666666666,\"#ed7953\"],[0.7777777777777778,\"#fb9f3a\"],[0.8888888888888888,\"#fdca26\"],[1.0,\"#f0f921\"]]}],\"heatmap\":[{\"type\":\"heatmap\",\"colorbar\":{\"outlinewidth\":0,\"ticks\":\"\"},\"colorscale\":[[0.0,\"#0d0887\"],[0.1111111111111111,\"#46039f\"],[0.2222222222222222,\"#7201a8\"],[0.3333333333333333,\"#9c179e\"],[0.4444444444444444,\"#bd3786\"],[0.5555555555555556,\"#d8576b\"],[0.6666666666666666,\"#ed7953\"],[0.7777777777777778,\"#fb9f3a\"],[0.8888888888888888,\"#fdca26\"],[1.0,\"#f0f921\"]]}],\"heatmapgl\":[{\"type\":\"heatmapgl\",\"colorbar\":{\"outlinewidth\":0,\"ticks\":\"\"},\"colorscale\":[[0.0,\"#0d0887\"],[0.1111111111111111,\"#46039f\"],[0.2222222222222222,\"#7201a8\"],[0.3333333333333333,\"#9c179e\"],[0.4444444444444444,\"#bd3786\"],[0.5555555555555556,\"#d8576b\"],[0.6666666666666666,\"#ed7953\"],[0.7777777777777778,\"#fb9f3a\"],[0.8888888888888888,\"#fdca26\"],[1.0,\"#f0f921\"]]}],\"contourcarpet\":[{\"type\":\"contourcarpet\",\"colorbar\":{\"outlinewidth\":0,\"ticks\":\"\"}}],\"contour\":[{\"type\":\"contour\",\"colorbar\":{\"outlinewidth\":0,\"ticks\":\"\"},\"colorscale\":[[0.0,\"#0d0887\"],[0.1111111111111111,\"#46039f\"],[0.2222222222222222,\"#7201a8\"],[0.3333333333333333,\"#9c179e\"],[0.4444444444444444,\"#bd3786\"],[0.5555555555555556,\"#d8576b\"],[0.6666666666666666,\"#ed7953\"],[0.7777777777777778,\"#fb9f3a\"],[0.8888888888888888,\"#fdca26\"],[1.0,\"#f0f921\"]]}],\"surface\":[{\"type\":\"surface\",\"colorbar\":{\"outlinewidth\":0,\"ticks\":\"\"},\"colorscale\":[[0.0,\"#0d0887\"],[0.1111111111111111,\"#46039f\"],[0.2222222222222222,\"#7201a8\"],[0.3333333333333333,\"#9c179e\"],[0.4444444444444444,\"#bd3786\"],[0.5555555555555556,\"#d8576b\"],[0.6666666666666666,\"#ed7953\"],[0.7777777777777778,\"#fb9f3a\"],[0.8888888888888888,\"#fdca26\"],[1.0,\"#f0f921\"]]}],\"mesh3d\":[{\"type\":\"mesh3d\",\"colorbar\":{\"outlinewidth\":0,\"ticks\":\"\"}}],\"scatter\":[{\"fillpattern\":{\"fillmode\":\"overlay\",\"size\":10,\"solidity\":0.2},\"type\":\"scatter\"}],\"parcoords\":[{\"type\":\"parcoords\",\"line\":{\"colorbar\":{\"outlinewidth\":0,\"ticks\":\"\"}}}],\"scatterpolargl\":[{\"type\":\"scatterpolargl\",\"marker\":{\"colorbar\":{\"outlinewidth\":0,\"ticks\":\"\"}}}],\"bar\":[{\"error_x\":{\"color\":\"#2a3f5f\"},\"error_y\":{\"color\":\"#2a3f5f\"},\"marker\":{\"line\":{\"color\":\"#E5ECF6\",\"width\":0.5},\"pattern\":{\"fillmode\":\"overlay\",\"size\":10,\"solidity\":0.2}},\"type\":\"bar\"}],\"scattergeo\":[{\"type\":\"scattergeo\",\"marker\":{\"colorbar\":{\"outlinewidth\":0,\"ticks\":\"\"}}}],\"scatterpolar\":[{\"type\":\"scatterpolar\",\"marker\":{\"colorbar\":{\"outlinewidth\":0,\"ticks\":\"\"}}}],\"histogram\":[{\"marker\":{\"pattern\":{\"fillmode\":\"overlay\",\"size\":10,\"solidity\":0.2}},\"type\":\"histogram\"}],\"scattergl\":[{\"type\":\"scattergl\",\"marker\":{\"colorbar\":{\"outlinewidth\":0,\"ticks\":\"\"}}}],\"scatter3d\":[{\"type\":\"scatter3d\",\"line\":{\"colorbar\":{\"outlinewidth\":0,\"ticks\":\"\"}},\"marker\":{\"colorbar\":{\"outlinewidth\":0,\"ticks\":\"\"}}}],\"scattermapbox\":[{\"type\":\"scattermapbox\",\"marker\":{\"colorbar\":{\"outlinewidth\":0,\"ticks\":\"\"}}}],\"scatterternary\":[{\"type\":\"scatterternary\",\"marker\":{\"colorbar\":{\"outlinewidth\":0,\"ticks\":\"\"}}}],\"scattercarpet\":[{\"type\":\"scattercarpet\",\"marker\":{\"colorbar\":{\"outlinewidth\":0,\"ticks\":\"\"}}}],\"carpet\":[{\"aaxis\":{\"endlinecolor\":\"#2a3f5f\",\"gridcolor\":\"white\",\"linecolor\":\"white\",\"minorgridcolor\":\"white\",\"startlinecolor\":\"#2a3f5f\"},\"baxis\":{\"endlinecolor\":\"#2a3f5f\",\"gridcolor\":\"white\",\"linecolor\":\"white\",\"minorgridcolor\":\"white\",\"startlinecolor\":\"#2a3f5f\"},\"type\":\"carpet\"}],\"table\":[{\"cells\":{\"fill\":{\"color\":\"#EBF0F8\"},\"line\":{\"color\":\"white\"}},\"header\":{\"fill\":{\"color\":\"#C8D4E3\"},\"line\":{\"color\":\"white\"}},\"type\":\"table\"}],\"barpolar\":[{\"marker\":{\"line\":{\"color\":\"#E5ECF6\",\"width\":0.5},\"pattern\":{\"fillmode\":\"overlay\",\"size\":10,\"solidity\":0.2}},\"type\":\"barpolar\"}],\"pie\":[{\"automargin\":true,\"type\":\"pie\"}]},\"layout\":{\"autotypenumbers\":\"strict\",\"colorway\":[\"#636efa\",\"#EF553B\",\"#00cc96\",\"#ab63fa\",\"#FFA15A\",\"#19d3f3\",\"#FF6692\",\"#B6E880\",\"#FF97FF\",\"#FECB52\"],\"font\":{\"color\":\"#2a3f5f\"},\"hovermode\":\"closest\",\"hoverlabel\":{\"align\":\"left\"},\"paper_bgcolor\":\"white\",\"plot_bgcolor\":\"#E5ECF6\",\"polar\":{\"bgcolor\":\"#E5ECF6\",\"angularaxis\":{\"gridcolor\":\"white\",\"linecolor\":\"white\",\"ticks\":\"\"},\"radialaxis\":{\"gridcolor\":\"white\",\"linecolor\":\"white\",\"ticks\":\"\"}},\"ternary\":{\"bgcolor\":\"#E5ECF6\",\"aaxis\":{\"gridcolor\":\"white\",\"linecolor\":\"white\",\"ticks\":\"\"},\"baxis\":{\"gridcolor\":\"white\",\"linecolor\":\"white\",\"ticks\":\"\"},\"caxis\":{\"gridcolor\":\"white\",\"linecolor\":\"white\",\"ticks\":\"\"}},\"coloraxis\":{\"colorbar\":{\"outlinewidth\":0,\"ticks\":\"\"}},\"colorscale\":{\"sequential\":[[0.0,\"#0d0887\"],[0.1111111111111111,\"#46039f\"],[0.2222222222222222,\"#7201a8\"],[0.3333333333333333,\"#9c179e\"],[0.4444444444444444,\"#bd3786\"],[0.5555555555555556,\"#d8576b\"],[0.6666666666666666,\"#ed7953\"],[0.7777777777777778,\"#fb9f3a\"],[0.8888888888888888,\"#fdca26\"],[1.0,\"#f0f921\"]],\"sequentialminus\":[[0.0,\"#0d0887\"],[0.1111111111111111,\"#46039f\"],[0.2222222222222222,\"#7201a8\"],[0.3333333333333333,\"#9c179e\"],[0.4444444444444444,\"#bd3786\"],[0.5555555555555556,\"#d8576b\"],[0.6666666666666666,\"#ed7953\"],[0.7777777777777778,\"#fb9f3a\"],[0.8888888888888888,\"#fdca26\"],[1.0,\"#f0f921\"]],\"diverging\":[[0,\"#8e0152\"],[0.1,\"#c51b7d\"],[0.2,\"#de77ae\"],[0.3,\"#f1b6da\"],[0.4,\"#fde0ef\"],[0.5,\"#f7f7f7\"],[0.6,\"#e6f5d0\"],[0.7,\"#b8e186\"],[0.8,\"#7fbc41\"],[0.9,\"#4d9221\"],[1,\"#276419\"]]},\"xaxis\":{\"gridcolor\":\"white\",\"linecolor\":\"white\",\"ticks\":\"\",\"title\":{\"standoff\":15},\"zerolinecolor\":\"white\",\"automargin\":true,\"zerolinewidth\":2},\"yaxis\":{\"gridcolor\":\"white\",\"linecolor\":\"white\",\"ticks\":\"\",\"title\":{\"standoff\":15},\"zerolinecolor\":\"white\",\"automargin\":true,\"zerolinewidth\":2},\"scene\":{\"xaxis\":{\"backgroundcolor\":\"#E5ECF6\",\"gridcolor\":\"white\",\"linecolor\":\"white\",\"showbackground\":true,\"ticks\":\"\",\"zerolinecolor\":\"white\",\"gridwidth\":2},\"yaxis\":{\"backgroundcolor\":\"#E5ECF6\",\"gridcolor\":\"white\",\"linecolor\":\"white\",\"showbackground\":true,\"ticks\":\"\",\"zerolinecolor\":\"white\",\"gridwidth\":2},\"zaxis\":{\"backgroundcolor\":\"#E5ECF6\",\"gridcolor\":\"white\",\"linecolor\":\"white\",\"showbackground\":true,\"ticks\":\"\",\"zerolinecolor\":\"white\",\"gridwidth\":2}},\"shapedefaults\":{\"line\":{\"color\":\"#2a3f5f\"}},\"annotationdefaults\":{\"arrowcolor\":\"#2a3f5f\",\"arrowhead\":0,\"arrowwidth\":1},\"geo\":{\"bgcolor\":\"white\",\"landcolor\":\"#E5ECF6\",\"subunitcolor\":\"white\",\"showland\":true,\"showlakes\":true,\"lakecolor\":\"white\"},\"title\":{\"x\":0.05},\"mapbox\":{\"style\":\"light\"}}},\"xaxis\":{\"anchor\":\"y\",\"domain\":[0.0,1.0],\"title\":{\"text\":\"Region\"}},\"yaxis\":{\"anchor\":\"x\",\"domain\":[0.0,1.0],\"title\":{\"text\":\"Country_count\"}},\"legend\":{\"title\":{\"text\":\"Infrastructure_level\"},\"tracegroupgap\":0},\"title\":{\"text\":\"Countries by Region and Infrastructure level\"},\"barmode\":\"relative\",\"height\":600},                        {\"responsive\": true}                    ).then(function(){\n",
       "                            \n",
       "var gd = document.getElementById('5a86fa02-3ad5-4c76-b329-858a22e83a02');\n",
       "var x = new MutationObserver(function (mutations, observer) {{\n",
       "        var display = window.getComputedStyle(gd).display;\n",
       "        if (!display || display === 'none') {{\n",
       "            console.log([gd, 'removed!']);\n",
       "            Plotly.purge(gd);\n",
       "            observer.disconnect();\n",
       "        }}\n",
       "}});\n",
       "\n",
       "// Listen for the removal of the full notebook cells\n",
       "var notebookContainer = gd.closest('#notebook-container');\n",
       "if (notebookContainer) {{\n",
       "    x.observe(notebookContainer, {childList: true});\n",
       "}}\n",
       "\n",
       "// Listen for the clearing of the current output cell\n",
       "var outputEl = gd.closest('.output');\n",
       "if (outputEl) {{\n",
       "    x.observe(outputEl, {childList: true});\n",
       "}}\n",
       "\n",
       "                        })                };                });            </script>        </div>"
      ]
     },
     "metadata": {},
     "output_type": "display_data"
    }
   ],
   "source": [
    "# implement binning by Infrastructure categories\n",
    "\n",
    "def set_infrastructure_level(x):\n",
    "    res = \"N/A\"\n",
    "    if x >= 80:\n",
    "        res = \"1 - Very high\"\n",
    "    elif x >= 60 and x < 80:\n",
    "        res = \"2 - High\"\n",
    "    elif x >= 40 and x < 60:\n",
    "        res = \"3 - Moderate\"\n",
    "    elif x >= 20 and x < 40:\n",
    "        res = \"4 - Low\"\n",
    "    else:\n",
    "        res = \"5 - Very low\"\n",
    "    return res\n",
    "\n",
    "infra_df[\"Infrastructure_level\"] = infra_df[\"Infrastructure\"].apply(set_infrastructure_level)\n",
    "\n",
    "agg_data = infra_df.groupby(['Region', 'Infrastructure_level']).size().reset_index(name='Country_count')\n",
    "\n",
    "agg_data = agg_data.sort_values(by=[\"Infrastructure_level\", \"Country_count\"])\n",
    "\n",
    "fig = px.bar(\n",
    "    agg_data, \n",
    "    x='Region', \n",
    "    y='Country_count', \n",
    "    color='Infrastructure_level', \n",
    "    title=\"Countries by Region and Infrastructure level\", \n",
    "    color_discrete_sequence=px.colors.qualitative.Prism,\n",
    "    height=600)\n",
    "fig.show()"
   ]
  },
  {
   "cell_type": "markdown",
   "id": "8482f6d3",
   "metadata": {
    "papermill": {
     "duration": 0.041284,
     "end_time": "2023-08-09T09:38:19.308462",
     "exception": false,
     "start_time": "2023-08-09T09:38:19.267178",
     "status": "completed"
    },
    "tags": []
   },
   "source": [
    "## <div style=\"font-size:20px;text-align:center;color:black;border-bottom:5px #0026d6 solid;padding-bottom:3%\">Infrastructure by Clusters</div>"
   ]
  },
  {
   "cell_type": "code",
   "execution_count": null,
   "id": "3a2ae2b0",
   "metadata": {
    "_kg_hide-input": true,
    "execution": {
     "iopub.execute_input": "2023-08-09T09:38:19.393828Z",
     "iopub.status.busy": "2023-08-09T09:38:19.393397Z",
     "iopub.status.idle": "2023-08-09T09:38:19.455019Z",
     "shell.execute_reply": "2023-08-09T09:38:19.453969Z"
    },
    "papermill": {
     "duration": 0.106749,
     "end_time": "2023-08-09T09:38:19.456993",
     "exception": false,
     "start_time": "2023-08-09T09:38:19.350244",
     "status": "completed"
    },
    "tags": []
   },
   "outputs": [
    {
     "data": {
      "text/html": [
       "<div>                            <div id=\"44a1dc48-8f82-4c60-aab7-71cf5ba32462\" class=\"plotly-graph-div\" style=\"height:525px; width:100%;\"></div>            <script type=\"text/javascript\">                require([\"plotly\"], function(Plotly) {                    window.PLOTLYENV=window.PLOTLYENV || {};                                    if (document.getElementById(\"44a1dc48-8f82-4c60-aab7-71cf5ba32462\")) {                    Plotly.newPlot(                        \"44a1dc48-8f82-4c60-aab7-71cf5ba32462\",                        [{\"alignmentgroup\":\"True\",\"box\":{\"visible\":true},\"customdata\":[[\"United States of America\",\"Americas\",\"High\",\"Liberal democracy\",\"1 - Very high\"],[\"China\",\"Asia-Pacific\",\"Upper middle\",\"Closed autocracy\",\"1 - Very high\"],[\"United Kingdom\",\"Europe\",\"High\",\"Liberal democracy\",\"2 - High\"],[\"Canada\",\"Americas\",\"High\",\"Liberal democracy\",\"2 - High\"],[\"Israel\",\"Middle East\",\"High\",\"Liberal democracy\",\"2 - High\"],[\"Singapore\",\"Asia-Pacific\",\"High\",\"Electoral democracy\",\"1 - Very high\"],[\"South Korea\",\"Asia-Pacific\",\"High\",\"Liberal democracy\",\"1 - Very high\"],[\"The Netherlands\",\"Europe\",\"High\",\"Liberal democracy\",\"1 - Very high\"],[\"Germany\",\"Europe\",\"High\",\"Liberal democracy\",\"2 - High\"],[\"France\",\"Europe\",\"High\",\"Liberal democracy\",\"2 - High\"],[\"Australia\",\"Asia-Pacific\",\"High\",\"Liberal democracy\",\"2 - High\"],[\"Ireland\",\"Europe\",\"High\",\"Liberal democracy\",\"1 - Very high\"],[\"Finland\",\"Europe\",\"High\",\"Liberal democracy\",\"2 - High\"],[\"Denmark\",\"Europe\",\"High\",\"Liberal democracy\",\"2 - High\"],[\"Luxembourg\",\"Europe\",\"High\",\"Liberal democracy\",\"1 - Very high\"],[\"Japan\",\"Asia-Pacific\",\"High\",\"Liberal democracy\",\"1 - Very high\"],[\"India\",\"Asia-Pacific\",\"Lower middle\",\"Electoral autocracy\",\"4 - Low\"],[\"Switzerland\",\"Europe\",\"High\",\"Liberal democracy\",\"2 - High\"],[\"Sweden\",\"Europe\",\"High\",\"Liberal democracy\",\"2 - High\"],[\"Hong Kong\",\"Asia-Pacific\",\"High\",\"Electoral democracy\",\"1 - Very high\"],[\"Spain\",\"Europe\",\"High\",\"Liberal democracy\",\"2 - High\"],[\"Austria\",\"Europe\",\"High\",\"Electoral democracy\",\"2 - High\"],[\"Estonia\",\"Europe\",\"High\",\"Liberal democracy\",\"2 - High\"],[\"Taiwan\",\"Asia-Pacific\",\"High\",\"Liberal democracy\",\"2 - High\"],[\"Norway\",\"Europe\",\"High\",\"Liberal democracy\",\"2 - High\"],[\"Saudi Arabia\",\"Middle East\",\"High\",\"Closed autocracy\",\"2 - High\"],[\"Belgium\",\"Europe\",\"High\",\"Liberal democracy\",\"2 - High\"],[\"Poland\",\"Europe\",\"High\",\"Electoral democracy\",\"2 - High\"],[\"Slovenia\",\"Europe\",\"High\",\"Electoral democracy\",\"2 - High\"],[\"New Zealand\",\"Asia-Pacific\",\"High\",\"Liberal democracy\",\"2 - High\"],[\"Italy\",\"Europe\",\"High\",\"Liberal democracy\",\"2 - High\"],[\"Russia\",\"Europe\",\"Upper middle\",\"Electoral autocracy\",\"2 - High\"],[\"Malta\",\"Europe\",\"High\",\"Electoral democracy\",\"2 - High\"],[\"United Arab Emirates\",\"Middle East\",\"High\",\"Closed autocracy\",\"2 - High\"],[\"Portugal\",\"Europe\",\"High\",\"Electoral democracy\",\"2 - High\"],[\"Czech Republic\",\"Europe\",\"High\",\"Electoral democracy\",\"2 - High\"],[\"Iceland\",\"Europe\",\"High\",\"Liberal democracy\",\"2 - High\"],[\"Lithuania\",\"Europe\",\"High\",\"Electoral democracy\",\"2 - High\"],[\"Brazil\",\"Americas\",\"Upper middle\",\"Electoral democracy\",\"2 - High\"],[\"Greece\",\"Europe\",\"High\",\"Liberal democracy\",\"3 - Moderate\"],[\"Slovakia\",\"Europe\",\"High\",\"Electoral democracy\",\"2 - High\"],[\"Hungary\",\"Europe\",\"High\",\"Electoral autocracy\",\"2 - High\"],[\"Malaysia\",\"Asia-Pacific\",\"Upper middle\",\"Electoral autocracy\",\"2 - High\"],[\"Mexico\",\"Americas\",\"Upper middle\",\"Electoral democracy\",\"3 - Moderate\"],[\"Chile\",\"Americas\",\"High\",\"Liberal democracy\",\"2 - High\"],[\"Argentina\",\"Americas\",\"Upper middle\",\"Electoral democracy\",\"3 - Moderate\"],[\"Qatar\",\"Middle East\",\"High\",\"Closed autocracy\",\"2 - High\"],[\"Turkey\",\"Europe\",\"High\",\"Electoral democracy\",\"3 - Moderate\"],[\"Colombia\",\"Americas\",\"Upper middle\",\"Electoral democracy\",\"3 - Moderate\"],[\"Uruguay\",\"Americas\",\"High\",\"Liberal democracy\",\"3 - Moderate\"],[\"Bahrain\",\"Middle East\",\"High\",\"Closed autocracy\",\"2 - High\"],[\"Vietnam\",\"Asia-Pacific\",\"Lower middle\",\"Closed autocracy\",\"3 - Moderate\"],[\"Indonesia\",\"Asia-Pacific\",\"Lower middle\",\"Electoral democracy\",\"3 - Moderate\"],[\"Tunisia\",\"Africa\",\"Lower middle\",\"Electoral democracy\",\"4 - Low\"],[\"South Africa\",\"Africa\",\"Upper middle\",\"Electoral democracy\",\"3 - Moderate\"],[\"Morocco\",\"Africa\",\"Lower middle\",\"Closed autocracy\",\"3 - Moderate\"],[\"Armenia\",\"Europe\",\"Upper middle\",\"Electoral democracy\",\"4 - Low\"],[\"Sri Lanka\",\"Asia-Pacific\",\"Lower middle\",\"Electoral democracy\",\"4 - Low\"],[\"Egypt\",\"Middle East\",\"Lower middle\",\"Electoral autocracy\",\"4 - Low\"],[\"Kenya\",\"Africa\",\"Lower middle\",\"Electoral autocracy\",\"5 - Very low\"],[\"Nigeria\",\"Africa\",\"Lower middle\",\"Electoral autocracy\",\"5 - Very low\"],[\"Pakistan\",\"Asia-Pacific\",\"Lower middle\",\"Electoral autocracy\",\"5 - Very low\"]],\"hovertemplate\":\"Cluster=%{x}\\u003cbr\\u003eInfrastructure=%{y}\\u003cbr\\u003eCountry=%{customdata[0]}\\u003cbr\\u003eRegion=%{customdata[1]}\\u003cbr\\u003eIncome group=%{customdata[2]}\\u003cbr\\u003ePolitical regime=%{customdata[3]}\\u003cbr\\u003eInfrastructure_level=%{customdata[4]}\\u003cextra\\u003e\\u003c\\u002fextra\\u003e\",\"legendgroup\":\"\",\"marker\":{\"color\":\"#636efa\"},\"name\":\"\",\"offsetgroup\":\"\",\"orientation\":\"v\",\"points\":\"all\",\"scalegroup\":\"True\",\"showlegend\":false,\"x\":[\"Power players\",\"Power players\",\"Traditional champions\",\"Traditional champions\",\"Rising stars\",\"Rising stars\",\"Rising stars\",\"Rising stars\",\"Traditional champions\",\"Traditional champions\",\"Rising stars\",\"Rising stars\",\"Rising stars\",\"Rising stars\",\"Waking up\",\"Rising stars\",\"Waking up\",\"Rising stars\",\"Waking up\",\"Waking up\",\"Rising stars\",\"Waking up\",\"Waking up\",\"Waking up\",\"Waking up\",\"Waking up\",\"Waking up\",\"Waking up\",\"Waking up\",\"Waking up\",\"Waking up\",\"Waking up\",\"Waking up\",\"Waking up\",\"Waking up\",\"Waking up\",\"Waking up\",\"Waking up\",\"Waking up\",\"Waking up\",\"Waking up\",\"Waking up\",\"Waking up\",\"Waking up\",\"Waking up\",\"Waking up\",\"Waking up\",\"Waking up\",\"Waking up\",\"Waking up\",\"Waking up\",\"Waking up\",\"Waking up\",\"Waking up\",\"Waking up\",\"Waking up\",\"Waking up\",\"Nascent\",\"Nascent\",\"Nascent\",\"Nascent\",\"Nascent\"],\"x0\":\" \",\"xaxis\":\"x\",\"y\":[94.02,100.0,71.43,77.05,67.58,84.3,85.23,81.99,77.22,77.15,63.43,89.5,71.6,74.08,94.88,84.58,33.91,78.43,75.19,96.11,73.32,64.49,63.65,77.86,76.2,70.8,65.1,70.96,72.06,69.78,64.76,62.59,67.12,79.16,64.2,64.26,72.45,63.19,62.61,55.44,65.36,69.17,62.04,41.85,61.97,56.15,67.97,40.74,54.8,58.77,60.39,55.76,47.52,38.59,45.73,44.88,37.84,34.64,38.84,14.11,0.0,2.43],\"y0\":\" \",\"yaxis\":\"y\",\"type\":\"violin\"}],                        {\"template\":{\"data\":{\"histogram2dcontour\":[{\"type\":\"histogram2dcontour\",\"colorbar\":{\"outlinewidth\":0,\"ticks\":\"\"},\"colorscale\":[[0.0,\"#0d0887\"],[0.1111111111111111,\"#46039f\"],[0.2222222222222222,\"#7201a8\"],[0.3333333333333333,\"#9c179e\"],[0.4444444444444444,\"#bd3786\"],[0.5555555555555556,\"#d8576b\"],[0.6666666666666666,\"#ed7953\"],[0.7777777777777778,\"#fb9f3a\"],[0.8888888888888888,\"#fdca26\"],[1.0,\"#f0f921\"]]}],\"choropleth\":[{\"type\":\"choropleth\",\"colorbar\":{\"outlinewidth\":0,\"ticks\":\"\"}}],\"histogram2d\":[{\"type\":\"histogram2d\",\"colorbar\":{\"outlinewidth\":0,\"ticks\":\"\"},\"colorscale\":[[0.0,\"#0d0887\"],[0.1111111111111111,\"#46039f\"],[0.2222222222222222,\"#7201a8\"],[0.3333333333333333,\"#9c179e\"],[0.4444444444444444,\"#bd3786\"],[0.5555555555555556,\"#d8576b\"],[0.6666666666666666,\"#ed7953\"],[0.7777777777777778,\"#fb9f3a\"],[0.8888888888888888,\"#fdca26\"],[1.0,\"#f0f921\"]]}],\"heatmap\":[{\"type\":\"heatmap\",\"colorbar\":{\"outlinewidth\":0,\"ticks\":\"\"},\"colorscale\":[[0.0,\"#0d0887\"],[0.1111111111111111,\"#46039f\"],[0.2222222222222222,\"#7201a8\"],[0.3333333333333333,\"#9c179e\"],[0.4444444444444444,\"#bd3786\"],[0.5555555555555556,\"#d8576b\"],[0.6666666666666666,\"#ed7953\"],[0.7777777777777778,\"#fb9f3a\"],[0.8888888888888888,\"#fdca26\"],[1.0,\"#f0f921\"]]}],\"heatmapgl\":[{\"type\":\"heatmapgl\",\"colorbar\":{\"outlinewidth\":0,\"ticks\":\"\"},\"colorscale\":[[0.0,\"#0d0887\"],[0.1111111111111111,\"#46039f\"],[0.2222222222222222,\"#7201a8\"],[0.3333333333333333,\"#9c179e\"],[0.4444444444444444,\"#bd3786\"],[0.5555555555555556,\"#d8576b\"],[0.6666666666666666,\"#ed7953\"],[0.7777777777777778,\"#fb9f3a\"],[0.8888888888888888,\"#fdca26\"],[1.0,\"#f0f921\"]]}],\"contourcarpet\":[{\"type\":\"contourcarpet\",\"colorbar\":{\"outlinewidth\":0,\"ticks\":\"\"}}],\"contour\":[{\"type\":\"contour\",\"colorbar\":{\"outlinewidth\":0,\"ticks\":\"\"},\"colorscale\":[[0.0,\"#0d0887\"],[0.1111111111111111,\"#46039f\"],[0.2222222222222222,\"#7201a8\"],[0.3333333333333333,\"#9c179e\"],[0.4444444444444444,\"#bd3786\"],[0.5555555555555556,\"#d8576b\"],[0.6666666666666666,\"#ed7953\"],[0.7777777777777778,\"#fb9f3a\"],[0.8888888888888888,\"#fdca26\"],[1.0,\"#f0f921\"]]}],\"surface\":[{\"type\":\"surface\",\"colorbar\":{\"outlinewidth\":0,\"ticks\":\"\"},\"colorscale\":[[0.0,\"#0d0887\"],[0.1111111111111111,\"#46039f\"],[0.2222222222222222,\"#7201a8\"],[0.3333333333333333,\"#9c179e\"],[0.4444444444444444,\"#bd3786\"],[0.5555555555555556,\"#d8576b\"],[0.6666666666666666,\"#ed7953\"],[0.7777777777777778,\"#fb9f3a\"],[0.8888888888888888,\"#fdca26\"],[1.0,\"#f0f921\"]]}],\"mesh3d\":[{\"type\":\"mesh3d\",\"colorbar\":{\"outlinewidth\":0,\"ticks\":\"\"}}],\"scatter\":[{\"fillpattern\":{\"fillmode\":\"overlay\",\"size\":10,\"solidity\":0.2},\"type\":\"scatter\"}],\"parcoords\":[{\"type\":\"parcoords\",\"line\":{\"colorbar\":{\"outlinewidth\":0,\"ticks\":\"\"}}}],\"scatterpolargl\":[{\"type\":\"scatterpolargl\",\"marker\":{\"colorbar\":{\"outlinewidth\":0,\"ticks\":\"\"}}}],\"bar\":[{\"error_x\":{\"color\":\"#2a3f5f\"},\"error_y\":{\"color\":\"#2a3f5f\"},\"marker\":{\"line\":{\"color\":\"#E5ECF6\",\"width\":0.5},\"pattern\":{\"fillmode\":\"overlay\",\"size\":10,\"solidity\":0.2}},\"type\":\"bar\"}],\"scattergeo\":[{\"type\":\"scattergeo\",\"marker\":{\"colorbar\":{\"outlinewidth\":0,\"ticks\":\"\"}}}],\"scatterpolar\":[{\"type\":\"scatterpolar\",\"marker\":{\"colorbar\":{\"outlinewidth\":0,\"ticks\":\"\"}}}],\"histogram\":[{\"marker\":{\"pattern\":{\"fillmode\":\"overlay\",\"size\":10,\"solidity\":0.2}},\"type\":\"histogram\"}],\"scattergl\":[{\"type\":\"scattergl\",\"marker\":{\"colorbar\":{\"outlinewidth\":0,\"ticks\":\"\"}}}],\"scatter3d\":[{\"type\":\"scatter3d\",\"line\":{\"colorbar\":{\"outlinewidth\":0,\"ticks\":\"\"}},\"marker\":{\"colorbar\":{\"outlinewidth\":0,\"ticks\":\"\"}}}],\"scattermapbox\":[{\"type\":\"scattermapbox\",\"marker\":{\"colorbar\":{\"outlinewidth\":0,\"ticks\":\"\"}}}],\"scatterternary\":[{\"type\":\"scatterternary\",\"marker\":{\"colorbar\":{\"outlinewidth\":0,\"ticks\":\"\"}}}],\"scattercarpet\":[{\"type\":\"scattercarpet\",\"marker\":{\"colorbar\":{\"outlinewidth\":0,\"ticks\":\"\"}}}],\"carpet\":[{\"aaxis\":{\"endlinecolor\":\"#2a3f5f\",\"gridcolor\":\"white\",\"linecolor\":\"white\",\"minorgridcolor\":\"white\",\"startlinecolor\":\"#2a3f5f\"},\"baxis\":{\"endlinecolor\":\"#2a3f5f\",\"gridcolor\":\"white\",\"linecolor\":\"white\",\"minorgridcolor\":\"white\",\"startlinecolor\":\"#2a3f5f\"},\"type\":\"carpet\"}],\"table\":[{\"cells\":{\"fill\":{\"color\":\"#EBF0F8\"},\"line\":{\"color\":\"white\"}},\"header\":{\"fill\":{\"color\":\"#C8D4E3\"},\"line\":{\"color\":\"white\"}},\"type\":\"table\"}],\"barpolar\":[{\"marker\":{\"line\":{\"color\":\"#E5ECF6\",\"width\":0.5},\"pattern\":{\"fillmode\":\"overlay\",\"size\":10,\"solidity\":0.2}},\"type\":\"barpolar\"}],\"pie\":[{\"automargin\":true,\"type\":\"pie\"}]},\"layout\":{\"autotypenumbers\":\"strict\",\"colorway\":[\"#636efa\",\"#EF553B\",\"#00cc96\",\"#ab63fa\",\"#FFA15A\",\"#19d3f3\",\"#FF6692\",\"#B6E880\",\"#FF97FF\",\"#FECB52\"],\"font\":{\"color\":\"#2a3f5f\"},\"hovermode\":\"closest\",\"hoverlabel\":{\"align\":\"left\"},\"paper_bgcolor\":\"white\",\"plot_bgcolor\":\"#E5ECF6\",\"polar\":{\"bgcolor\":\"#E5ECF6\",\"angularaxis\":{\"gridcolor\":\"white\",\"linecolor\":\"white\",\"ticks\":\"\"},\"radialaxis\":{\"gridcolor\":\"white\",\"linecolor\":\"white\",\"ticks\":\"\"}},\"ternary\":{\"bgcolor\":\"#E5ECF6\",\"aaxis\":{\"gridcolor\":\"white\",\"linecolor\":\"white\",\"ticks\":\"\"},\"baxis\":{\"gridcolor\":\"white\",\"linecolor\":\"white\",\"ticks\":\"\"},\"caxis\":{\"gridcolor\":\"white\",\"linecolor\":\"white\",\"ticks\":\"\"}},\"coloraxis\":{\"colorbar\":{\"outlinewidth\":0,\"ticks\":\"\"}},\"colorscale\":{\"sequential\":[[0.0,\"#0d0887\"],[0.1111111111111111,\"#46039f\"],[0.2222222222222222,\"#7201a8\"],[0.3333333333333333,\"#9c179e\"],[0.4444444444444444,\"#bd3786\"],[0.5555555555555556,\"#d8576b\"],[0.6666666666666666,\"#ed7953\"],[0.7777777777777778,\"#fb9f3a\"],[0.8888888888888888,\"#fdca26\"],[1.0,\"#f0f921\"]],\"sequentialminus\":[[0.0,\"#0d0887\"],[0.1111111111111111,\"#46039f\"],[0.2222222222222222,\"#7201a8\"],[0.3333333333333333,\"#9c179e\"],[0.4444444444444444,\"#bd3786\"],[0.5555555555555556,\"#d8576b\"],[0.6666666666666666,\"#ed7953\"],[0.7777777777777778,\"#fb9f3a\"],[0.8888888888888888,\"#fdca26\"],[1.0,\"#f0f921\"]],\"diverging\":[[0,\"#8e0152\"],[0.1,\"#c51b7d\"],[0.2,\"#de77ae\"],[0.3,\"#f1b6da\"],[0.4,\"#fde0ef\"],[0.5,\"#f7f7f7\"],[0.6,\"#e6f5d0\"],[0.7,\"#b8e186\"],[0.8,\"#7fbc41\"],[0.9,\"#4d9221\"],[1,\"#276419\"]]},\"xaxis\":{\"gridcolor\":\"white\",\"linecolor\":\"white\",\"ticks\":\"\",\"title\":{\"standoff\":15},\"zerolinecolor\":\"white\",\"automargin\":true,\"zerolinewidth\":2},\"yaxis\":{\"gridcolor\":\"white\",\"linecolor\":\"white\",\"ticks\":\"\",\"title\":{\"standoff\":15},\"zerolinecolor\":\"white\",\"automargin\":true,\"zerolinewidth\":2},\"scene\":{\"xaxis\":{\"backgroundcolor\":\"#E5ECF6\",\"gridcolor\":\"white\",\"linecolor\":\"white\",\"showbackground\":true,\"ticks\":\"\",\"zerolinecolor\":\"white\",\"gridwidth\":2},\"yaxis\":{\"backgroundcolor\":\"#E5ECF6\",\"gridcolor\":\"white\",\"linecolor\":\"white\",\"showbackground\":true,\"ticks\":\"\",\"zerolinecolor\":\"white\",\"gridwidth\":2},\"zaxis\":{\"backgroundcolor\":\"#E5ECF6\",\"gridcolor\":\"white\",\"linecolor\":\"white\",\"showbackground\":true,\"ticks\":\"\",\"zerolinecolor\":\"white\",\"gridwidth\":2}},\"shapedefaults\":{\"line\":{\"color\":\"#2a3f5f\"}},\"annotationdefaults\":{\"arrowcolor\":\"#2a3f5f\",\"arrowhead\":0,\"arrowwidth\":1},\"geo\":{\"bgcolor\":\"white\",\"landcolor\":\"#E5ECF6\",\"subunitcolor\":\"white\",\"showland\":true,\"showlakes\":true,\"lakecolor\":\"white\"},\"title\":{\"x\":0.05},\"mapbox\":{\"style\":\"light\"}}},\"xaxis\":{\"anchor\":\"y\",\"domain\":[0.0,1.0],\"title\":{\"text\":\"Cluster\"}},\"yaxis\":{\"anchor\":\"x\",\"domain\":[0.0,1.0],\"title\":{\"text\":\"Infrastructure\"}},\"legend\":{\"tracegroupgap\":0},\"title\":{\"text\":\"Infrastructure by Clusters\"},\"violinmode\":\"group\"},                        {\"responsive\": true}                    ).then(function(){\n",
       "                            \n",
       "var gd = document.getElementById('44a1dc48-8f82-4c60-aab7-71cf5ba32462');\n",
       "var x = new MutationObserver(function (mutations, observer) {{\n",
       "        var display = window.getComputedStyle(gd).display;\n",
       "        if (!display || display === 'none') {{\n",
       "            console.log([gd, 'removed!']);\n",
       "            Plotly.purge(gd);\n",
       "            observer.disconnect();\n",
       "        }}\n",
       "}});\n",
       "\n",
       "// Listen for the removal of the full notebook cells\n",
       "var notebookContainer = gd.closest('#notebook-container');\n",
       "if (notebookContainer) {{\n",
       "    x.observe(notebookContainer, {childList: true});\n",
       "}}\n",
       "\n",
       "// Listen for the clearing of the current output cell\n",
       "var outputEl = gd.closest('.output');\n",
       "if (outputEl) {{\n",
       "    x.observe(outputEl, {childList: true});\n",
       "}}\n",
       "\n",
       "                        })                };                });            </script>        </div>"
      ]
     },
     "metadata": {},
     "output_type": "display_data"
    }
   ],
   "source": [
    "fig = px.violin(infra_df, \n",
    "                y=\"Infrastructure\", \n",
    "                x=\"Cluster\", \n",
    "                box=True, \n",
    "                points=\"all\", \n",
    "                title=\"Infrastructure by Clusters\", \n",
    "                hover_data=infra_df.columns)\n",
    "fig.show()"
   ]
  },
  {
   "cell_type": "code",
   "execution_count": null,
   "id": "c79ccc10",
   "metadata": {
    "_kg_hide-input": true,
    "execution": {
     "iopub.execute_input": "2023-08-09T09:38:19.543223Z",
     "iopub.status.busy": "2023-08-09T09:38:19.542821Z",
     "iopub.status.idle": "2023-08-09T09:38:19.623741Z",
     "shell.execute_reply": "2023-08-09T09:38:19.622760Z"
    },
    "papermill": {
     "duration": 0.125702,
     "end_time": "2023-08-09T09:38:19.625925",
     "exception": false,
     "start_time": "2023-08-09T09:38:19.500223",
     "status": "completed"
    },
    "tags": []
   },
   "outputs": [
    {
     "data": {
      "text/html": [
       "<div>                            <div id=\"fa8bcd70-bc7c-4bea-b980-ddf845b26d56\" class=\"plotly-graph-div\" style=\"height:600px; width:100%;\"></div>            <script type=\"text/javascript\">                require([\"plotly\"], function(Plotly) {                    window.PLOTLYENV=window.PLOTLYENV || {};                                    if (document.getElementById(\"fa8bcd70-bc7c-4bea-b980-ddf845b26d56\")) {                    Plotly.newPlot(                        \"fa8bcd70-bc7c-4bea-b980-ddf845b26d56\",                        [{\"alignmentgroup\":\"True\",\"hovertemplate\":\"Infrastructure_level=1 - Very high\\u003cbr\\u003eCluster=%{x}\\u003cbr\\u003eCountry_count=%{y}\\u003cextra\\u003e\\u003c\\u002fextra\\u003e\",\"legendgroup\":\"1 - Very high\",\"marker\":{\"color\":\"rgb(95, 70, 144)\",\"pattern\":{\"shape\":\"\"}},\"name\":\"1 - Very high\",\"offsetgroup\":\"1 - Very high\",\"orientation\":\"v\",\"showlegend\":true,\"textposition\":\"auto\",\"x\":[\"Power players\",\"Waking up\",\"Rising stars\"],\"xaxis\":\"x\",\"y\":[2,2,5],\"yaxis\":\"y\",\"type\":\"bar\"},{\"alignmentgroup\":\"True\",\"hovertemplate\":\"Infrastructure_level=2 - High\\u003cbr\\u003eCluster=%{x}\\u003cbr\\u003eCountry_count=%{y}\\u003cextra\\u003e\\u003c\\u002fextra\\u003e\",\"legendgroup\":\"2 - High\",\"marker\":{\"color\":\"rgb(29, 105, 150)\",\"pattern\":{\"shape\":\"\"}},\"name\":\"2 - High\",\"offsetgroup\":\"2 - High\",\"orientation\":\"v\",\"showlegend\":true,\"textposition\":\"auto\",\"x\":[\"Traditional champions\",\"Rising stars\",\"Waking up\"],\"xaxis\":\"x\",\"y\":[4,6,25],\"yaxis\":\"y\",\"type\":\"bar\"},{\"alignmentgroup\":\"True\",\"hovertemplate\":\"Infrastructure_level=3 - Moderate\\u003cbr\\u003eCluster=%{x}\\u003cbr\\u003eCountry_count=%{y}\\u003cextra\\u003e\\u003c\\u002fextra\\u003e\",\"legendgroup\":\"3 - Moderate\",\"marker\":{\"color\":\"rgb(56, 166, 165)\",\"pattern\":{\"shape\":\"\"}},\"name\":\"3 - Moderate\",\"offsetgroup\":\"3 - Moderate\",\"orientation\":\"v\",\"showlegend\":true,\"textposition\":\"auto\",\"x\":[\"Waking up\"],\"xaxis\":\"x\",\"y\":[10],\"yaxis\":\"y\",\"type\":\"bar\"},{\"alignmentgroup\":\"True\",\"hovertemplate\":\"Infrastructure_level=4 - Low\\u003cbr\\u003eCluster=%{x}\\u003cbr\\u003eCountry_count=%{y}\\u003cextra\\u003e\\u003c\\u002fextra\\u003e\",\"legendgroup\":\"4 - Low\",\"marker\":{\"color\":\"rgb(15, 133, 84)\",\"pattern\":{\"shape\":\"\"}},\"name\":\"4 - Low\",\"offsetgroup\":\"4 - Low\",\"orientation\":\"v\",\"showlegend\":true,\"textposition\":\"auto\",\"x\":[\"Nascent\",\"Waking up\"],\"xaxis\":\"x\",\"y\":[2,3],\"yaxis\":\"y\",\"type\":\"bar\"},{\"alignmentgroup\":\"True\",\"hovertemplate\":\"Infrastructure_level=5 - Very low\\u003cbr\\u003eCluster=%{x}\\u003cbr\\u003eCountry_count=%{y}\\u003cextra\\u003e\\u003c\\u002fextra\\u003e\",\"legendgroup\":\"5 - Very low\",\"marker\":{\"color\":\"rgb(115, 175, 72)\",\"pattern\":{\"shape\":\"\"}},\"name\":\"5 - Very low\",\"offsetgroup\":\"5 - Very low\",\"orientation\":\"v\",\"showlegend\":true,\"textposition\":\"auto\",\"x\":[\"Nascent\"],\"xaxis\":\"x\",\"y\":[3],\"yaxis\":\"y\",\"type\":\"bar\"}],                        {\"template\":{\"data\":{\"histogram2dcontour\":[{\"type\":\"histogram2dcontour\",\"colorbar\":{\"outlinewidth\":0,\"ticks\":\"\"},\"colorscale\":[[0.0,\"#0d0887\"],[0.1111111111111111,\"#46039f\"],[0.2222222222222222,\"#7201a8\"],[0.3333333333333333,\"#9c179e\"],[0.4444444444444444,\"#bd3786\"],[0.5555555555555556,\"#d8576b\"],[0.6666666666666666,\"#ed7953\"],[0.7777777777777778,\"#fb9f3a\"],[0.8888888888888888,\"#fdca26\"],[1.0,\"#f0f921\"]]}],\"choropleth\":[{\"type\":\"choropleth\",\"colorbar\":{\"outlinewidth\":0,\"ticks\":\"\"}}],\"histogram2d\":[{\"type\":\"histogram2d\",\"colorbar\":{\"outlinewidth\":0,\"ticks\":\"\"},\"colorscale\":[[0.0,\"#0d0887\"],[0.1111111111111111,\"#46039f\"],[0.2222222222222222,\"#7201a8\"],[0.3333333333333333,\"#9c179e\"],[0.4444444444444444,\"#bd3786\"],[0.5555555555555556,\"#d8576b\"],[0.6666666666666666,\"#ed7953\"],[0.7777777777777778,\"#fb9f3a\"],[0.8888888888888888,\"#fdca26\"],[1.0,\"#f0f921\"]]}],\"heatmap\":[{\"type\":\"heatmap\",\"colorbar\":{\"outlinewidth\":0,\"ticks\":\"\"},\"colorscale\":[[0.0,\"#0d0887\"],[0.1111111111111111,\"#46039f\"],[0.2222222222222222,\"#7201a8\"],[0.3333333333333333,\"#9c179e\"],[0.4444444444444444,\"#bd3786\"],[0.5555555555555556,\"#d8576b\"],[0.6666666666666666,\"#ed7953\"],[0.7777777777777778,\"#fb9f3a\"],[0.8888888888888888,\"#fdca26\"],[1.0,\"#f0f921\"]]}],\"heatmapgl\":[{\"type\":\"heatmapgl\",\"colorbar\":{\"outlinewidth\":0,\"ticks\":\"\"},\"colorscale\":[[0.0,\"#0d0887\"],[0.1111111111111111,\"#46039f\"],[0.2222222222222222,\"#7201a8\"],[0.3333333333333333,\"#9c179e\"],[0.4444444444444444,\"#bd3786\"],[0.5555555555555556,\"#d8576b\"],[0.6666666666666666,\"#ed7953\"],[0.7777777777777778,\"#fb9f3a\"],[0.8888888888888888,\"#fdca26\"],[1.0,\"#f0f921\"]]}],\"contourcarpet\":[{\"type\":\"contourcarpet\",\"colorbar\":{\"outlinewidth\":0,\"ticks\":\"\"}}],\"contour\":[{\"type\":\"contour\",\"colorbar\":{\"outlinewidth\":0,\"ticks\":\"\"},\"colorscale\":[[0.0,\"#0d0887\"],[0.1111111111111111,\"#46039f\"],[0.2222222222222222,\"#7201a8\"],[0.3333333333333333,\"#9c179e\"],[0.4444444444444444,\"#bd3786\"],[0.5555555555555556,\"#d8576b\"],[0.6666666666666666,\"#ed7953\"],[0.7777777777777778,\"#fb9f3a\"],[0.8888888888888888,\"#fdca26\"],[1.0,\"#f0f921\"]]}],\"surface\":[{\"type\":\"surface\",\"colorbar\":{\"outlinewidth\":0,\"ticks\":\"\"},\"colorscale\":[[0.0,\"#0d0887\"],[0.1111111111111111,\"#46039f\"],[0.2222222222222222,\"#7201a8\"],[0.3333333333333333,\"#9c179e\"],[0.4444444444444444,\"#bd3786\"],[0.5555555555555556,\"#d8576b\"],[0.6666666666666666,\"#ed7953\"],[0.7777777777777778,\"#fb9f3a\"],[0.8888888888888888,\"#fdca26\"],[1.0,\"#f0f921\"]]}],\"mesh3d\":[{\"type\":\"mesh3d\",\"colorbar\":{\"outlinewidth\":0,\"ticks\":\"\"}}],\"scatter\":[{\"fillpattern\":{\"fillmode\":\"overlay\",\"size\":10,\"solidity\":0.2},\"type\":\"scatter\"}],\"parcoords\":[{\"type\":\"parcoords\",\"line\":{\"colorbar\":{\"outlinewidth\":0,\"ticks\":\"\"}}}],\"scatterpolargl\":[{\"type\":\"scatterpolargl\",\"marker\":{\"colorbar\":{\"outlinewidth\":0,\"ticks\":\"\"}}}],\"bar\":[{\"error_x\":{\"color\":\"#2a3f5f\"},\"error_y\":{\"color\":\"#2a3f5f\"},\"marker\":{\"line\":{\"color\":\"#E5ECF6\",\"width\":0.5},\"pattern\":{\"fillmode\":\"overlay\",\"size\":10,\"solidity\":0.2}},\"type\":\"bar\"}],\"scattergeo\":[{\"type\":\"scattergeo\",\"marker\":{\"colorbar\":{\"outlinewidth\":0,\"ticks\":\"\"}}}],\"scatterpolar\":[{\"type\":\"scatterpolar\",\"marker\":{\"colorbar\":{\"outlinewidth\":0,\"ticks\":\"\"}}}],\"histogram\":[{\"marker\":{\"pattern\":{\"fillmode\":\"overlay\",\"size\":10,\"solidity\":0.2}},\"type\":\"histogram\"}],\"scattergl\":[{\"type\":\"scattergl\",\"marker\":{\"colorbar\":{\"outlinewidth\":0,\"ticks\":\"\"}}}],\"scatter3d\":[{\"type\":\"scatter3d\",\"line\":{\"colorbar\":{\"outlinewidth\":0,\"ticks\":\"\"}},\"marker\":{\"colorbar\":{\"outlinewidth\":0,\"ticks\":\"\"}}}],\"scattermapbox\":[{\"type\":\"scattermapbox\",\"marker\":{\"colorbar\":{\"outlinewidth\":0,\"ticks\":\"\"}}}],\"scatterternary\":[{\"type\":\"scatterternary\",\"marker\":{\"colorbar\":{\"outlinewidth\":0,\"ticks\":\"\"}}}],\"scattercarpet\":[{\"type\":\"scattercarpet\",\"marker\":{\"colorbar\":{\"outlinewidth\":0,\"ticks\":\"\"}}}],\"carpet\":[{\"aaxis\":{\"endlinecolor\":\"#2a3f5f\",\"gridcolor\":\"white\",\"linecolor\":\"white\",\"minorgridcolor\":\"white\",\"startlinecolor\":\"#2a3f5f\"},\"baxis\":{\"endlinecolor\":\"#2a3f5f\",\"gridcolor\":\"white\",\"linecolor\":\"white\",\"minorgridcolor\":\"white\",\"startlinecolor\":\"#2a3f5f\"},\"type\":\"carpet\"}],\"table\":[{\"cells\":{\"fill\":{\"color\":\"#EBF0F8\"},\"line\":{\"color\":\"white\"}},\"header\":{\"fill\":{\"color\":\"#C8D4E3\"},\"line\":{\"color\":\"white\"}},\"type\":\"table\"}],\"barpolar\":[{\"marker\":{\"line\":{\"color\":\"#E5ECF6\",\"width\":0.5},\"pattern\":{\"fillmode\":\"overlay\",\"size\":10,\"solidity\":0.2}},\"type\":\"barpolar\"}],\"pie\":[{\"automargin\":true,\"type\":\"pie\"}]},\"layout\":{\"autotypenumbers\":\"strict\",\"colorway\":[\"#636efa\",\"#EF553B\",\"#00cc96\",\"#ab63fa\",\"#FFA15A\",\"#19d3f3\",\"#FF6692\",\"#B6E880\",\"#FF97FF\",\"#FECB52\"],\"font\":{\"color\":\"#2a3f5f\"},\"hovermode\":\"closest\",\"hoverlabel\":{\"align\":\"left\"},\"paper_bgcolor\":\"white\",\"plot_bgcolor\":\"#E5ECF6\",\"polar\":{\"bgcolor\":\"#E5ECF6\",\"angularaxis\":{\"gridcolor\":\"white\",\"linecolor\":\"white\",\"ticks\":\"\"},\"radialaxis\":{\"gridcolor\":\"white\",\"linecolor\":\"white\",\"ticks\":\"\"}},\"ternary\":{\"bgcolor\":\"#E5ECF6\",\"aaxis\":{\"gridcolor\":\"white\",\"linecolor\":\"white\",\"ticks\":\"\"},\"baxis\":{\"gridcolor\":\"white\",\"linecolor\":\"white\",\"ticks\":\"\"},\"caxis\":{\"gridcolor\":\"white\",\"linecolor\":\"white\",\"ticks\":\"\"}},\"coloraxis\":{\"colorbar\":{\"outlinewidth\":0,\"ticks\":\"\"}},\"colorscale\":{\"sequential\":[[0.0,\"#0d0887\"],[0.1111111111111111,\"#46039f\"],[0.2222222222222222,\"#7201a8\"],[0.3333333333333333,\"#9c179e\"],[0.4444444444444444,\"#bd3786\"],[0.5555555555555556,\"#d8576b\"],[0.6666666666666666,\"#ed7953\"],[0.7777777777777778,\"#fb9f3a\"],[0.8888888888888888,\"#fdca26\"],[1.0,\"#f0f921\"]],\"sequentialminus\":[[0.0,\"#0d0887\"],[0.1111111111111111,\"#46039f\"],[0.2222222222222222,\"#7201a8\"],[0.3333333333333333,\"#9c179e\"],[0.4444444444444444,\"#bd3786\"],[0.5555555555555556,\"#d8576b\"],[0.6666666666666666,\"#ed7953\"],[0.7777777777777778,\"#fb9f3a\"],[0.8888888888888888,\"#fdca26\"],[1.0,\"#f0f921\"]],\"diverging\":[[0,\"#8e0152\"],[0.1,\"#c51b7d\"],[0.2,\"#de77ae\"],[0.3,\"#f1b6da\"],[0.4,\"#fde0ef\"],[0.5,\"#f7f7f7\"],[0.6,\"#e6f5d0\"],[0.7,\"#b8e186\"],[0.8,\"#7fbc41\"],[0.9,\"#4d9221\"],[1,\"#276419\"]]},\"xaxis\":{\"gridcolor\":\"white\",\"linecolor\":\"white\",\"ticks\":\"\",\"title\":{\"standoff\":15},\"zerolinecolor\":\"white\",\"automargin\":true,\"zerolinewidth\":2},\"yaxis\":{\"gridcolor\":\"white\",\"linecolor\":\"white\",\"ticks\":\"\",\"title\":{\"standoff\":15},\"zerolinecolor\":\"white\",\"automargin\":true,\"zerolinewidth\":2},\"scene\":{\"xaxis\":{\"backgroundcolor\":\"#E5ECF6\",\"gridcolor\":\"white\",\"linecolor\":\"white\",\"showbackground\":true,\"ticks\":\"\",\"zerolinecolor\":\"white\",\"gridwidth\":2},\"yaxis\":{\"backgroundcolor\":\"#E5ECF6\",\"gridcolor\":\"white\",\"linecolor\":\"white\",\"showbackground\":true,\"ticks\":\"\",\"zerolinecolor\":\"white\",\"gridwidth\":2},\"zaxis\":{\"backgroundcolor\":\"#E5ECF6\",\"gridcolor\":\"white\",\"linecolor\":\"white\",\"showbackground\":true,\"ticks\":\"\",\"zerolinecolor\":\"white\",\"gridwidth\":2}},\"shapedefaults\":{\"line\":{\"color\":\"#2a3f5f\"}},\"annotationdefaults\":{\"arrowcolor\":\"#2a3f5f\",\"arrowhead\":0,\"arrowwidth\":1},\"geo\":{\"bgcolor\":\"white\",\"landcolor\":\"#E5ECF6\",\"subunitcolor\":\"white\",\"showland\":true,\"showlakes\":true,\"lakecolor\":\"white\"},\"title\":{\"x\":0.05},\"mapbox\":{\"style\":\"light\"}}},\"xaxis\":{\"anchor\":\"y\",\"domain\":[0.0,1.0],\"title\":{\"text\":\"Cluster\"}},\"yaxis\":{\"anchor\":\"x\",\"domain\":[0.0,1.0],\"title\":{\"text\":\"Country_count\"}},\"legend\":{\"title\":{\"text\":\"Infrastructure_level\"},\"tracegroupgap\":0},\"title\":{\"text\":\"Countries by Cluster and Infrastructure level\"},\"barmode\":\"relative\",\"height\":600},                        {\"responsive\": true}                    ).then(function(){\n",
       "                            \n",
       "var gd = document.getElementById('fa8bcd70-bc7c-4bea-b980-ddf845b26d56');\n",
       "var x = new MutationObserver(function (mutations, observer) {{\n",
       "        var display = window.getComputedStyle(gd).display;\n",
       "        if (!display || display === 'none') {{\n",
       "            console.log([gd, 'removed!']);\n",
       "            Plotly.purge(gd);\n",
       "            observer.disconnect();\n",
       "        }}\n",
       "}});\n",
       "\n",
       "// Listen for the removal of the full notebook cells\n",
       "var notebookContainer = gd.closest('#notebook-container');\n",
       "if (notebookContainer) {{\n",
       "    x.observe(notebookContainer, {childList: true});\n",
       "}}\n",
       "\n",
       "// Listen for the clearing of the current output cell\n",
       "var outputEl = gd.closest('.output');\n",
       "if (outputEl) {{\n",
       "    x.observe(outputEl, {childList: true});\n",
       "}}\n",
       "\n",
       "                        })                };                });            </script>        </div>"
      ]
     },
     "metadata": {},
     "output_type": "display_data"
    }
   ],
   "source": [
    "agg_data = infra_df.groupby(['Cluster', 'Infrastructure_level']).size().reset_index(name='Country_count')\n",
    "\n",
    "agg_data = agg_data.sort_values(by=[\"Infrastructure_level\", \"Country_count\"])\n",
    "\n",
    "fig = px.bar(\n",
    "    agg_data, \n",
    "    x='Cluster', \n",
    "    y='Country_count', \n",
    "    color='Infrastructure_level', \n",
    "    title=\"Countries by Cluster and Infrastructure level\", \n",
    "    color_discrete_sequence=px.colors.qualitative.Prism,\n",
    "    height=600)\n",
    "fig.show()"
   ]
  },
  {
   "cell_type": "markdown",
   "id": "33a47e85",
   "metadata": {
    "papermill": {
     "duration": 0.042694,
     "end_time": "2023-08-09T09:38:19.710561",
     "exception": false,
     "start_time": "2023-08-09T09:38:19.667867",
     "status": "completed"
    },
    "tags": []
   },
   "source": [
    "## <div style=\"font-size:20px;text-align:center;color:black;border-bottom:5px #0026d6 solid;padding-bottom:3%\">Infrastructure by Income groups</div>"
   ]
  },
  {
   "cell_type": "code",
   "execution_count": null,
   "id": "c9226d1a",
   "metadata": {
    "_kg_hide-input": true,
    "execution": {
     "iopub.execute_input": "2023-08-09T09:38:19.796923Z",
     "iopub.status.busy": "2023-08-09T09:38:19.795865Z",
     "iopub.status.idle": "2023-08-09T09:38:19.858382Z",
     "shell.execute_reply": "2023-08-09T09:38:19.857317Z"
    },
    "papermill": {
     "duration": 0.108061,
     "end_time": "2023-08-09T09:38:19.860641",
     "exception": false,
     "start_time": "2023-08-09T09:38:19.752580",
     "status": "completed"
    },
    "tags": []
   },
   "outputs": [
    {
     "data": {
      "text/html": [
       "<div>                            <div id=\"b2bdeadf-0f5b-405f-8900-a27163cc379c\" class=\"plotly-graph-div\" style=\"height:525px; width:100%;\"></div>            <script type=\"text/javascript\">                require([\"plotly\"], function(Plotly) {                    window.PLOTLYENV=window.PLOTLYENV || {};                                    if (document.getElementById(\"b2bdeadf-0f5b-405f-8900-a27163cc379c\")) {                    Plotly.newPlot(                        \"b2bdeadf-0f5b-405f-8900-a27163cc379c\",                        [{\"alignmentgroup\":\"True\",\"box\":{\"visible\":true},\"customdata\":[[\"United States of America\",\"Americas\",\"Power players\",\"Liberal democracy\",\"1 - Very high\"],[\"China\",\"Asia-Pacific\",\"Power players\",\"Closed autocracy\",\"1 - Very high\"],[\"United Kingdom\",\"Europe\",\"Traditional champions\",\"Liberal democracy\",\"2 - High\"],[\"Canada\",\"Americas\",\"Traditional champions\",\"Liberal democracy\",\"2 - High\"],[\"Israel\",\"Middle East\",\"Rising stars\",\"Liberal democracy\",\"2 - High\"],[\"Singapore\",\"Asia-Pacific\",\"Rising stars\",\"Electoral democracy\",\"1 - Very high\"],[\"South Korea\",\"Asia-Pacific\",\"Rising stars\",\"Liberal democracy\",\"1 - Very high\"],[\"The Netherlands\",\"Europe\",\"Rising stars\",\"Liberal democracy\",\"1 - Very high\"],[\"Germany\",\"Europe\",\"Traditional champions\",\"Liberal democracy\",\"2 - High\"],[\"France\",\"Europe\",\"Traditional champions\",\"Liberal democracy\",\"2 - High\"],[\"Australia\",\"Asia-Pacific\",\"Rising stars\",\"Liberal democracy\",\"2 - High\"],[\"Ireland\",\"Europe\",\"Rising stars\",\"Liberal democracy\",\"1 - Very high\"],[\"Finland\",\"Europe\",\"Rising stars\",\"Liberal democracy\",\"2 - High\"],[\"Denmark\",\"Europe\",\"Rising stars\",\"Liberal democracy\",\"2 - High\"],[\"Luxembourg\",\"Europe\",\"Waking up\",\"Liberal democracy\",\"1 - Very high\"],[\"Japan\",\"Asia-Pacific\",\"Rising stars\",\"Liberal democracy\",\"1 - Very high\"],[\"India\",\"Asia-Pacific\",\"Waking up\",\"Electoral autocracy\",\"4 - Low\"],[\"Switzerland\",\"Europe\",\"Rising stars\",\"Liberal democracy\",\"2 - High\"],[\"Sweden\",\"Europe\",\"Waking up\",\"Liberal democracy\",\"2 - High\"],[\"Hong Kong\",\"Asia-Pacific\",\"Waking up\",\"Electoral democracy\",\"1 - Very high\"],[\"Spain\",\"Europe\",\"Rising stars\",\"Liberal democracy\",\"2 - High\"],[\"Austria\",\"Europe\",\"Waking up\",\"Electoral democracy\",\"2 - High\"],[\"Estonia\",\"Europe\",\"Waking up\",\"Liberal democracy\",\"2 - High\"],[\"Taiwan\",\"Asia-Pacific\",\"Waking up\",\"Liberal democracy\",\"2 - High\"],[\"Norway\",\"Europe\",\"Waking up\",\"Liberal democracy\",\"2 - High\"],[\"Saudi Arabia\",\"Middle East\",\"Waking up\",\"Closed autocracy\",\"2 - High\"],[\"Belgium\",\"Europe\",\"Waking up\",\"Liberal democracy\",\"2 - High\"],[\"Poland\",\"Europe\",\"Waking up\",\"Electoral democracy\",\"2 - High\"],[\"Slovenia\",\"Europe\",\"Waking up\",\"Electoral democracy\",\"2 - High\"],[\"New Zealand\",\"Asia-Pacific\",\"Waking up\",\"Liberal democracy\",\"2 - High\"],[\"Italy\",\"Europe\",\"Waking up\",\"Liberal democracy\",\"2 - High\"],[\"Russia\",\"Europe\",\"Waking up\",\"Electoral autocracy\",\"2 - High\"],[\"Malta\",\"Europe\",\"Waking up\",\"Electoral democracy\",\"2 - High\"],[\"United Arab Emirates\",\"Middle East\",\"Waking up\",\"Closed autocracy\",\"2 - High\"],[\"Portugal\",\"Europe\",\"Waking up\",\"Electoral democracy\",\"2 - High\"],[\"Czech Republic\",\"Europe\",\"Waking up\",\"Electoral democracy\",\"2 - High\"],[\"Iceland\",\"Europe\",\"Waking up\",\"Liberal democracy\",\"2 - High\"],[\"Lithuania\",\"Europe\",\"Waking up\",\"Electoral democracy\",\"2 - High\"],[\"Brazil\",\"Americas\",\"Waking up\",\"Electoral democracy\",\"2 - High\"],[\"Greece\",\"Europe\",\"Waking up\",\"Liberal democracy\",\"3 - Moderate\"],[\"Slovakia\",\"Europe\",\"Waking up\",\"Electoral democracy\",\"2 - High\"],[\"Hungary\",\"Europe\",\"Waking up\",\"Electoral autocracy\",\"2 - High\"],[\"Malaysia\",\"Asia-Pacific\",\"Waking up\",\"Electoral autocracy\",\"2 - High\"],[\"Mexico\",\"Americas\",\"Waking up\",\"Electoral democracy\",\"3 - Moderate\"],[\"Chile\",\"Americas\",\"Waking up\",\"Liberal democracy\",\"2 - High\"],[\"Argentina\",\"Americas\",\"Waking up\",\"Electoral democracy\",\"3 - Moderate\"],[\"Qatar\",\"Middle East\",\"Waking up\",\"Closed autocracy\",\"2 - High\"],[\"Turkey\",\"Europe\",\"Waking up\",\"Electoral democracy\",\"3 - Moderate\"],[\"Colombia\",\"Americas\",\"Waking up\",\"Electoral democracy\",\"3 - Moderate\"],[\"Uruguay\",\"Americas\",\"Waking up\",\"Liberal democracy\",\"3 - Moderate\"],[\"Bahrain\",\"Middle East\",\"Waking up\",\"Closed autocracy\",\"2 - High\"],[\"Vietnam\",\"Asia-Pacific\",\"Waking up\",\"Closed autocracy\",\"3 - Moderate\"],[\"Indonesia\",\"Asia-Pacific\",\"Waking up\",\"Electoral democracy\",\"3 - Moderate\"],[\"Tunisia\",\"Africa\",\"Waking up\",\"Electoral democracy\",\"4 - Low\"],[\"South Africa\",\"Africa\",\"Waking up\",\"Electoral democracy\",\"3 - Moderate\"],[\"Morocco\",\"Africa\",\"Waking up\",\"Closed autocracy\",\"3 - Moderate\"],[\"Armenia\",\"Europe\",\"Waking up\",\"Electoral democracy\",\"4 - Low\"],[\"Sri Lanka\",\"Asia-Pacific\",\"Nascent\",\"Electoral democracy\",\"4 - Low\"],[\"Egypt\",\"Middle East\",\"Nascent\",\"Electoral autocracy\",\"4 - Low\"],[\"Kenya\",\"Africa\",\"Nascent\",\"Electoral autocracy\",\"5 - Very low\"],[\"Nigeria\",\"Africa\",\"Nascent\",\"Electoral autocracy\",\"5 - Very low\"],[\"Pakistan\",\"Asia-Pacific\",\"Nascent\",\"Electoral autocracy\",\"5 - Very low\"]],\"hovertemplate\":\"Income group=%{x}\\u003cbr\\u003eInfrastructure=%{y}\\u003cbr\\u003eCountry=%{customdata[0]}\\u003cbr\\u003eRegion=%{customdata[1]}\\u003cbr\\u003eCluster=%{customdata[2]}\\u003cbr\\u003ePolitical regime=%{customdata[3]}\\u003cbr\\u003eInfrastructure_level=%{customdata[4]}\\u003cextra\\u003e\\u003c\\u002fextra\\u003e\",\"legendgroup\":\"\",\"marker\":{\"color\":\"#636efa\"},\"name\":\"\",\"offsetgroup\":\"\",\"orientation\":\"v\",\"points\":\"all\",\"scalegroup\":\"True\",\"showlegend\":false,\"x\":[\"High\",\"Upper middle\",\"High\",\"High\",\"High\",\"High\",\"High\",\"High\",\"High\",\"High\",\"High\",\"High\",\"High\",\"High\",\"High\",\"High\",\"Lower middle\",\"High\",\"High\",\"High\",\"High\",\"High\",\"High\",\"High\",\"High\",\"High\",\"High\",\"High\",\"High\",\"High\",\"High\",\"Upper middle\",\"High\",\"High\",\"High\",\"High\",\"High\",\"High\",\"Upper middle\",\"High\",\"High\",\"High\",\"Upper middle\",\"Upper middle\",\"High\",\"Upper middle\",\"High\",\"High\",\"Upper middle\",\"High\",\"High\",\"Lower middle\",\"Lower middle\",\"Lower middle\",\"Upper middle\",\"Lower middle\",\"Upper middle\",\"Lower middle\",\"Lower middle\",\"Lower middle\",\"Lower middle\",\"Lower middle\"],\"x0\":\" \",\"xaxis\":\"x\",\"y\":[94.02,100.0,71.43,77.05,67.58,84.3,85.23,81.99,77.22,77.15,63.43,89.5,71.6,74.08,94.88,84.58,33.91,78.43,75.19,96.11,73.32,64.49,63.65,77.86,76.2,70.8,65.1,70.96,72.06,69.78,64.76,62.59,67.12,79.16,64.2,64.26,72.45,63.19,62.61,55.44,65.36,69.17,62.04,41.85,61.97,56.15,67.97,40.74,54.8,58.77,60.39,55.76,47.52,38.59,45.73,44.88,37.84,34.64,38.84,14.11,0.0,2.43],\"y0\":\" \",\"yaxis\":\"y\",\"type\":\"violin\"}],                        {\"template\":{\"data\":{\"histogram2dcontour\":[{\"type\":\"histogram2dcontour\",\"colorbar\":{\"outlinewidth\":0,\"ticks\":\"\"},\"colorscale\":[[0.0,\"#0d0887\"],[0.1111111111111111,\"#46039f\"],[0.2222222222222222,\"#7201a8\"],[0.3333333333333333,\"#9c179e\"],[0.4444444444444444,\"#bd3786\"],[0.5555555555555556,\"#d8576b\"],[0.6666666666666666,\"#ed7953\"],[0.7777777777777778,\"#fb9f3a\"],[0.8888888888888888,\"#fdca26\"],[1.0,\"#f0f921\"]]}],\"choropleth\":[{\"type\":\"choropleth\",\"colorbar\":{\"outlinewidth\":0,\"ticks\":\"\"}}],\"histogram2d\":[{\"type\":\"histogram2d\",\"colorbar\":{\"outlinewidth\":0,\"ticks\":\"\"},\"colorscale\":[[0.0,\"#0d0887\"],[0.1111111111111111,\"#46039f\"],[0.2222222222222222,\"#7201a8\"],[0.3333333333333333,\"#9c179e\"],[0.4444444444444444,\"#bd3786\"],[0.5555555555555556,\"#d8576b\"],[0.6666666666666666,\"#ed7953\"],[0.7777777777777778,\"#fb9f3a\"],[0.8888888888888888,\"#fdca26\"],[1.0,\"#f0f921\"]]}],\"heatmap\":[{\"type\":\"heatmap\",\"colorbar\":{\"outlinewidth\":0,\"ticks\":\"\"},\"colorscale\":[[0.0,\"#0d0887\"],[0.1111111111111111,\"#46039f\"],[0.2222222222222222,\"#7201a8\"],[0.3333333333333333,\"#9c179e\"],[0.4444444444444444,\"#bd3786\"],[0.5555555555555556,\"#d8576b\"],[0.6666666666666666,\"#ed7953\"],[0.7777777777777778,\"#fb9f3a\"],[0.8888888888888888,\"#fdca26\"],[1.0,\"#f0f921\"]]}],\"heatmapgl\":[{\"type\":\"heatmapgl\",\"colorbar\":{\"outlinewidth\":0,\"ticks\":\"\"},\"colorscale\":[[0.0,\"#0d0887\"],[0.1111111111111111,\"#46039f\"],[0.2222222222222222,\"#7201a8\"],[0.3333333333333333,\"#9c179e\"],[0.4444444444444444,\"#bd3786\"],[0.5555555555555556,\"#d8576b\"],[0.6666666666666666,\"#ed7953\"],[0.7777777777777778,\"#fb9f3a\"],[0.8888888888888888,\"#fdca26\"],[1.0,\"#f0f921\"]]}],\"contourcarpet\":[{\"type\":\"contourcarpet\",\"colorbar\":{\"outlinewidth\":0,\"ticks\":\"\"}}],\"contour\":[{\"type\":\"contour\",\"colorbar\":{\"outlinewidth\":0,\"ticks\":\"\"},\"colorscale\":[[0.0,\"#0d0887\"],[0.1111111111111111,\"#46039f\"],[0.2222222222222222,\"#7201a8\"],[0.3333333333333333,\"#9c179e\"],[0.4444444444444444,\"#bd3786\"],[0.5555555555555556,\"#d8576b\"],[0.6666666666666666,\"#ed7953\"],[0.7777777777777778,\"#fb9f3a\"],[0.8888888888888888,\"#fdca26\"],[1.0,\"#f0f921\"]]}],\"surface\":[{\"type\":\"surface\",\"colorbar\":{\"outlinewidth\":0,\"ticks\":\"\"},\"colorscale\":[[0.0,\"#0d0887\"],[0.1111111111111111,\"#46039f\"],[0.2222222222222222,\"#7201a8\"],[0.3333333333333333,\"#9c179e\"],[0.4444444444444444,\"#bd3786\"],[0.5555555555555556,\"#d8576b\"],[0.6666666666666666,\"#ed7953\"],[0.7777777777777778,\"#fb9f3a\"],[0.8888888888888888,\"#fdca26\"],[1.0,\"#f0f921\"]]}],\"mesh3d\":[{\"type\":\"mesh3d\",\"colorbar\":{\"outlinewidth\":0,\"ticks\":\"\"}}],\"scatter\":[{\"fillpattern\":{\"fillmode\":\"overlay\",\"size\":10,\"solidity\":0.2},\"type\":\"scatter\"}],\"parcoords\":[{\"type\":\"parcoords\",\"line\":{\"colorbar\":{\"outlinewidth\":0,\"ticks\":\"\"}}}],\"scatterpolargl\":[{\"type\":\"scatterpolargl\",\"marker\":{\"colorbar\":{\"outlinewidth\":0,\"ticks\":\"\"}}}],\"bar\":[{\"error_x\":{\"color\":\"#2a3f5f\"},\"error_y\":{\"color\":\"#2a3f5f\"},\"marker\":{\"line\":{\"color\":\"#E5ECF6\",\"width\":0.5},\"pattern\":{\"fillmode\":\"overlay\",\"size\":10,\"solidity\":0.2}},\"type\":\"bar\"}],\"scattergeo\":[{\"type\":\"scattergeo\",\"marker\":{\"colorbar\":{\"outlinewidth\":0,\"ticks\":\"\"}}}],\"scatterpolar\":[{\"type\":\"scatterpolar\",\"marker\":{\"colorbar\":{\"outlinewidth\":0,\"ticks\":\"\"}}}],\"histogram\":[{\"marker\":{\"pattern\":{\"fillmode\":\"overlay\",\"size\":10,\"solidity\":0.2}},\"type\":\"histogram\"}],\"scattergl\":[{\"type\":\"scattergl\",\"marker\":{\"colorbar\":{\"outlinewidth\":0,\"ticks\":\"\"}}}],\"scatter3d\":[{\"type\":\"scatter3d\",\"line\":{\"colorbar\":{\"outlinewidth\":0,\"ticks\":\"\"}},\"marker\":{\"colorbar\":{\"outlinewidth\":0,\"ticks\":\"\"}}}],\"scattermapbox\":[{\"type\":\"scattermapbox\",\"marker\":{\"colorbar\":{\"outlinewidth\":0,\"ticks\":\"\"}}}],\"scatterternary\":[{\"type\":\"scatterternary\",\"marker\":{\"colorbar\":{\"outlinewidth\":0,\"ticks\":\"\"}}}],\"scattercarpet\":[{\"type\":\"scattercarpet\",\"marker\":{\"colorbar\":{\"outlinewidth\":0,\"ticks\":\"\"}}}],\"carpet\":[{\"aaxis\":{\"endlinecolor\":\"#2a3f5f\",\"gridcolor\":\"white\",\"linecolor\":\"white\",\"minorgridcolor\":\"white\",\"startlinecolor\":\"#2a3f5f\"},\"baxis\":{\"endlinecolor\":\"#2a3f5f\",\"gridcolor\":\"white\",\"linecolor\":\"white\",\"minorgridcolor\":\"white\",\"startlinecolor\":\"#2a3f5f\"},\"type\":\"carpet\"}],\"table\":[{\"cells\":{\"fill\":{\"color\":\"#EBF0F8\"},\"line\":{\"color\":\"white\"}},\"header\":{\"fill\":{\"color\":\"#C8D4E3\"},\"line\":{\"color\":\"white\"}},\"type\":\"table\"}],\"barpolar\":[{\"marker\":{\"line\":{\"color\":\"#E5ECF6\",\"width\":0.5},\"pattern\":{\"fillmode\":\"overlay\",\"size\":10,\"solidity\":0.2}},\"type\":\"barpolar\"}],\"pie\":[{\"automargin\":true,\"type\":\"pie\"}]},\"layout\":{\"autotypenumbers\":\"strict\",\"colorway\":[\"#636efa\",\"#EF553B\",\"#00cc96\",\"#ab63fa\",\"#FFA15A\",\"#19d3f3\",\"#FF6692\",\"#B6E880\",\"#FF97FF\",\"#FECB52\"],\"font\":{\"color\":\"#2a3f5f\"},\"hovermode\":\"closest\",\"hoverlabel\":{\"align\":\"left\"},\"paper_bgcolor\":\"white\",\"plot_bgcolor\":\"#E5ECF6\",\"polar\":{\"bgcolor\":\"#E5ECF6\",\"angularaxis\":{\"gridcolor\":\"white\",\"linecolor\":\"white\",\"ticks\":\"\"},\"radialaxis\":{\"gridcolor\":\"white\",\"linecolor\":\"white\",\"ticks\":\"\"}},\"ternary\":{\"bgcolor\":\"#E5ECF6\",\"aaxis\":{\"gridcolor\":\"white\",\"linecolor\":\"white\",\"ticks\":\"\"},\"baxis\":{\"gridcolor\":\"white\",\"linecolor\":\"white\",\"ticks\":\"\"},\"caxis\":{\"gridcolor\":\"white\",\"linecolor\":\"white\",\"ticks\":\"\"}},\"coloraxis\":{\"colorbar\":{\"outlinewidth\":0,\"ticks\":\"\"}},\"colorscale\":{\"sequential\":[[0.0,\"#0d0887\"],[0.1111111111111111,\"#46039f\"],[0.2222222222222222,\"#7201a8\"],[0.3333333333333333,\"#9c179e\"],[0.4444444444444444,\"#bd3786\"],[0.5555555555555556,\"#d8576b\"],[0.6666666666666666,\"#ed7953\"],[0.7777777777777778,\"#fb9f3a\"],[0.8888888888888888,\"#fdca26\"],[1.0,\"#f0f921\"]],\"sequentialminus\":[[0.0,\"#0d0887\"],[0.1111111111111111,\"#46039f\"],[0.2222222222222222,\"#7201a8\"],[0.3333333333333333,\"#9c179e\"],[0.4444444444444444,\"#bd3786\"],[0.5555555555555556,\"#d8576b\"],[0.6666666666666666,\"#ed7953\"],[0.7777777777777778,\"#fb9f3a\"],[0.8888888888888888,\"#fdca26\"],[1.0,\"#f0f921\"]],\"diverging\":[[0,\"#8e0152\"],[0.1,\"#c51b7d\"],[0.2,\"#de77ae\"],[0.3,\"#f1b6da\"],[0.4,\"#fde0ef\"],[0.5,\"#f7f7f7\"],[0.6,\"#e6f5d0\"],[0.7,\"#b8e186\"],[0.8,\"#7fbc41\"],[0.9,\"#4d9221\"],[1,\"#276419\"]]},\"xaxis\":{\"gridcolor\":\"white\",\"linecolor\":\"white\",\"ticks\":\"\",\"title\":{\"standoff\":15},\"zerolinecolor\":\"white\",\"automargin\":true,\"zerolinewidth\":2},\"yaxis\":{\"gridcolor\":\"white\",\"linecolor\":\"white\",\"ticks\":\"\",\"title\":{\"standoff\":15},\"zerolinecolor\":\"white\",\"automargin\":true,\"zerolinewidth\":2},\"scene\":{\"xaxis\":{\"backgroundcolor\":\"#E5ECF6\",\"gridcolor\":\"white\",\"linecolor\":\"white\",\"showbackground\":true,\"ticks\":\"\",\"zerolinecolor\":\"white\",\"gridwidth\":2},\"yaxis\":{\"backgroundcolor\":\"#E5ECF6\",\"gridcolor\":\"white\",\"linecolor\":\"white\",\"showbackground\":true,\"ticks\":\"\",\"zerolinecolor\":\"white\",\"gridwidth\":2},\"zaxis\":{\"backgroundcolor\":\"#E5ECF6\",\"gridcolor\":\"white\",\"linecolor\":\"white\",\"showbackground\":true,\"ticks\":\"\",\"zerolinecolor\":\"white\",\"gridwidth\":2}},\"shapedefaults\":{\"line\":{\"color\":\"#2a3f5f\"}},\"annotationdefaults\":{\"arrowcolor\":\"#2a3f5f\",\"arrowhead\":0,\"arrowwidth\":1},\"geo\":{\"bgcolor\":\"white\",\"landcolor\":\"#E5ECF6\",\"subunitcolor\":\"white\",\"showland\":true,\"showlakes\":true,\"lakecolor\":\"white\"},\"title\":{\"x\":0.05},\"mapbox\":{\"style\":\"light\"}}},\"xaxis\":{\"anchor\":\"y\",\"domain\":[0.0,1.0],\"title\":{\"text\":\"Income group\"}},\"yaxis\":{\"anchor\":\"x\",\"domain\":[0.0,1.0],\"title\":{\"text\":\"Infrastructure\"}},\"legend\":{\"tracegroupgap\":0},\"title\":{\"text\":\"Infrastructure by Income groups\"},\"violinmode\":\"group\"},                        {\"responsive\": true}                    ).then(function(){\n",
       "                            \n",
       "var gd = document.getElementById('b2bdeadf-0f5b-405f-8900-a27163cc379c');\n",
       "var x = new MutationObserver(function (mutations, observer) {{\n",
       "        var display = window.getComputedStyle(gd).display;\n",
       "        if (!display || display === 'none') {{\n",
       "            console.log([gd, 'removed!']);\n",
       "            Plotly.purge(gd);\n",
       "            observer.disconnect();\n",
       "        }}\n",
       "}});\n",
       "\n",
       "// Listen for the removal of the full notebook cells\n",
       "var notebookContainer = gd.closest('#notebook-container');\n",
       "if (notebookContainer) {{\n",
       "    x.observe(notebookContainer, {childList: true});\n",
       "}}\n",
       "\n",
       "// Listen for the clearing of the current output cell\n",
       "var outputEl = gd.closest('.output');\n",
       "if (outputEl) {{\n",
       "    x.observe(outputEl, {childList: true});\n",
       "}}\n",
       "\n",
       "                        })                };                });            </script>        </div>"
      ]
     },
     "metadata": {},
     "output_type": "display_data"
    }
   ],
   "source": [
    "fig = px.violin(infra_df, \n",
    "                y=\"Infrastructure\", \n",
    "                x=\"Income group\", \n",
    "                box=True, \n",
    "                points=\"all\", \n",
    "                title=\"Infrastructure by Income groups\", \n",
    "                hover_data=infra_df.columns)\n",
    "fig.show()"
   ]
  },
  {
   "cell_type": "code",
   "execution_count": null,
   "id": "8754d309",
   "metadata": {
    "_kg_hide-input": true,
    "execution": {
     "iopub.execute_input": "2023-08-09T09:38:19.947300Z",
     "iopub.status.busy": "2023-08-09T09:38:19.946943Z",
     "iopub.status.idle": "2023-08-09T09:38:20.026612Z",
     "shell.execute_reply": "2023-08-09T09:38:20.025506Z"
    },
    "papermill": {
     "duration": 0.125912,
     "end_time": "2023-08-09T09:38:20.028919",
     "exception": false,
     "start_time": "2023-08-09T09:38:19.903007",
     "status": "completed"
    },
    "tags": []
   },
   "outputs": [
    {
     "data": {
      "text/html": [
       "<div>                            <div id=\"c54c84f1-59d5-4018-9707-5408e972a89e\" class=\"plotly-graph-div\" style=\"height:600px; width:100%;\"></div>            <script type=\"text/javascript\">                require([\"plotly\"], function(Plotly) {                    window.PLOTLYENV=window.PLOTLYENV || {};                                    if (document.getElementById(\"c54c84f1-59d5-4018-9707-5408e972a89e\")) {                    Plotly.newPlot(                        \"c54c84f1-59d5-4018-9707-5408e972a89e\",                        [{\"alignmentgroup\":\"True\",\"hovertemplate\":\"Infrastructure_level=1 - Very high\\u003cbr\\u003eIncome group=%{x}\\u003cbr\\u003eCountry_count=%{y}\\u003cextra\\u003e\\u003c\\u002fextra\\u003e\",\"legendgroup\":\"1 - Very high\",\"marker\":{\"color\":\"rgb(95, 70, 144)\",\"pattern\":{\"shape\":\"\"}},\"name\":\"1 - Very high\",\"offsetgroup\":\"1 - Very high\",\"orientation\":\"v\",\"showlegend\":true,\"textposition\":\"auto\",\"x\":[\"Upper middle\",\"High\"],\"xaxis\":\"x\",\"y\":[1,8],\"yaxis\":\"y\",\"type\":\"bar\"},{\"alignmentgroup\":\"True\",\"hovertemplate\":\"Infrastructure_level=2 - High\\u003cbr\\u003eIncome group=%{x}\\u003cbr\\u003eCountry_count=%{y}\\u003cextra\\u003e\\u003c\\u002fextra\\u003e\",\"legendgroup\":\"2 - High\",\"marker\":{\"color\":\"rgb(29, 105, 150)\",\"pattern\":{\"shape\":\"\"}},\"name\":\"2 - High\",\"offsetgroup\":\"2 - High\",\"orientation\":\"v\",\"showlegend\":true,\"textposition\":\"auto\",\"x\":[\"Upper middle\",\"High\"],\"xaxis\":\"x\",\"y\":[3,32],\"yaxis\":\"y\",\"type\":\"bar\"},{\"alignmentgroup\":\"True\",\"hovertemplate\":\"Infrastructure_level=3 - Moderate\\u003cbr\\u003eIncome group=%{x}\\u003cbr\\u003eCountry_count=%{y}\\u003cextra\\u003e\\u003c\\u002fextra\\u003e\",\"legendgroup\":\"3 - Moderate\",\"marker\":{\"color\":\"rgb(56, 166, 165)\",\"pattern\":{\"shape\":\"\"}},\"name\":\"3 - Moderate\",\"offsetgroup\":\"3 - Moderate\",\"orientation\":\"v\",\"showlegend\":true,\"textposition\":\"auto\",\"x\":[\"High\",\"Lower middle\",\"Upper middle\"],\"xaxis\":\"x\",\"y\":[3,3,4],\"yaxis\":\"y\",\"type\":\"bar\"},{\"alignmentgroup\":\"True\",\"hovertemplate\":\"Infrastructure_level=4 - Low\\u003cbr\\u003eIncome group=%{x}\\u003cbr\\u003eCountry_count=%{y}\\u003cextra\\u003e\\u003c\\u002fextra\\u003e\",\"legendgroup\":\"4 - Low\",\"marker\":{\"color\":\"rgb(15, 133, 84)\",\"pattern\":{\"shape\":\"\"}},\"name\":\"4 - Low\",\"offsetgroup\":\"4 - Low\",\"orientation\":\"v\",\"showlegend\":true,\"textposition\":\"auto\",\"x\":[\"Upper middle\",\"Lower middle\"],\"xaxis\":\"x\",\"y\":[1,4],\"yaxis\":\"y\",\"type\":\"bar\"},{\"alignmentgroup\":\"True\",\"hovertemplate\":\"Infrastructure_level=5 - Very low\\u003cbr\\u003eIncome group=%{x}\\u003cbr\\u003eCountry_count=%{y}\\u003cextra\\u003e\\u003c\\u002fextra\\u003e\",\"legendgroup\":\"5 - Very low\",\"marker\":{\"color\":\"rgb(115, 175, 72)\",\"pattern\":{\"shape\":\"\"}},\"name\":\"5 - Very low\",\"offsetgroup\":\"5 - Very low\",\"orientation\":\"v\",\"showlegend\":true,\"textposition\":\"auto\",\"x\":[\"Lower middle\"],\"xaxis\":\"x\",\"y\":[3],\"yaxis\":\"y\",\"type\":\"bar\"}],                        {\"template\":{\"data\":{\"histogram2dcontour\":[{\"type\":\"histogram2dcontour\",\"colorbar\":{\"outlinewidth\":0,\"ticks\":\"\"},\"colorscale\":[[0.0,\"#0d0887\"],[0.1111111111111111,\"#46039f\"],[0.2222222222222222,\"#7201a8\"],[0.3333333333333333,\"#9c179e\"],[0.4444444444444444,\"#bd3786\"],[0.5555555555555556,\"#d8576b\"],[0.6666666666666666,\"#ed7953\"],[0.7777777777777778,\"#fb9f3a\"],[0.8888888888888888,\"#fdca26\"],[1.0,\"#f0f921\"]]}],\"choropleth\":[{\"type\":\"choropleth\",\"colorbar\":{\"outlinewidth\":0,\"ticks\":\"\"}}],\"histogram2d\":[{\"type\":\"histogram2d\",\"colorbar\":{\"outlinewidth\":0,\"ticks\":\"\"},\"colorscale\":[[0.0,\"#0d0887\"],[0.1111111111111111,\"#46039f\"],[0.2222222222222222,\"#7201a8\"],[0.3333333333333333,\"#9c179e\"],[0.4444444444444444,\"#bd3786\"],[0.5555555555555556,\"#d8576b\"],[0.6666666666666666,\"#ed7953\"],[0.7777777777777778,\"#fb9f3a\"],[0.8888888888888888,\"#fdca26\"],[1.0,\"#f0f921\"]]}],\"heatmap\":[{\"type\":\"heatmap\",\"colorbar\":{\"outlinewidth\":0,\"ticks\":\"\"},\"colorscale\":[[0.0,\"#0d0887\"],[0.1111111111111111,\"#46039f\"],[0.2222222222222222,\"#7201a8\"],[0.3333333333333333,\"#9c179e\"],[0.4444444444444444,\"#bd3786\"],[0.5555555555555556,\"#d8576b\"],[0.6666666666666666,\"#ed7953\"],[0.7777777777777778,\"#fb9f3a\"],[0.8888888888888888,\"#fdca26\"],[1.0,\"#f0f921\"]]}],\"heatmapgl\":[{\"type\":\"heatmapgl\",\"colorbar\":{\"outlinewidth\":0,\"ticks\":\"\"},\"colorscale\":[[0.0,\"#0d0887\"],[0.1111111111111111,\"#46039f\"],[0.2222222222222222,\"#7201a8\"],[0.3333333333333333,\"#9c179e\"],[0.4444444444444444,\"#bd3786\"],[0.5555555555555556,\"#d8576b\"],[0.6666666666666666,\"#ed7953\"],[0.7777777777777778,\"#fb9f3a\"],[0.8888888888888888,\"#fdca26\"],[1.0,\"#f0f921\"]]}],\"contourcarpet\":[{\"type\":\"contourcarpet\",\"colorbar\":{\"outlinewidth\":0,\"ticks\":\"\"}}],\"contour\":[{\"type\":\"contour\",\"colorbar\":{\"outlinewidth\":0,\"ticks\":\"\"},\"colorscale\":[[0.0,\"#0d0887\"],[0.1111111111111111,\"#46039f\"],[0.2222222222222222,\"#7201a8\"],[0.3333333333333333,\"#9c179e\"],[0.4444444444444444,\"#bd3786\"],[0.5555555555555556,\"#d8576b\"],[0.6666666666666666,\"#ed7953\"],[0.7777777777777778,\"#fb9f3a\"],[0.8888888888888888,\"#fdca26\"],[1.0,\"#f0f921\"]]}],\"surface\":[{\"type\":\"surface\",\"colorbar\":{\"outlinewidth\":0,\"ticks\":\"\"},\"colorscale\":[[0.0,\"#0d0887\"],[0.1111111111111111,\"#46039f\"],[0.2222222222222222,\"#7201a8\"],[0.3333333333333333,\"#9c179e\"],[0.4444444444444444,\"#bd3786\"],[0.5555555555555556,\"#d8576b\"],[0.6666666666666666,\"#ed7953\"],[0.7777777777777778,\"#fb9f3a\"],[0.8888888888888888,\"#fdca26\"],[1.0,\"#f0f921\"]]}],\"mesh3d\":[{\"type\":\"mesh3d\",\"colorbar\":{\"outlinewidth\":0,\"ticks\":\"\"}}],\"scatter\":[{\"fillpattern\":{\"fillmode\":\"overlay\",\"size\":10,\"solidity\":0.2},\"type\":\"scatter\"}],\"parcoords\":[{\"type\":\"parcoords\",\"line\":{\"colorbar\":{\"outlinewidth\":0,\"ticks\":\"\"}}}],\"scatterpolargl\":[{\"type\":\"scatterpolargl\",\"marker\":{\"colorbar\":{\"outlinewidth\":0,\"ticks\":\"\"}}}],\"bar\":[{\"error_x\":{\"color\":\"#2a3f5f\"},\"error_y\":{\"color\":\"#2a3f5f\"},\"marker\":{\"line\":{\"color\":\"#E5ECF6\",\"width\":0.5},\"pattern\":{\"fillmode\":\"overlay\",\"size\":10,\"solidity\":0.2}},\"type\":\"bar\"}],\"scattergeo\":[{\"type\":\"scattergeo\",\"marker\":{\"colorbar\":{\"outlinewidth\":0,\"ticks\":\"\"}}}],\"scatterpolar\":[{\"type\":\"scatterpolar\",\"marker\":{\"colorbar\":{\"outlinewidth\":0,\"ticks\":\"\"}}}],\"histogram\":[{\"marker\":{\"pattern\":{\"fillmode\":\"overlay\",\"size\":10,\"solidity\":0.2}},\"type\":\"histogram\"}],\"scattergl\":[{\"type\":\"scattergl\",\"marker\":{\"colorbar\":{\"outlinewidth\":0,\"ticks\":\"\"}}}],\"scatter3d\":[{\"type\":\"scatter3d\",\"line\":{\"colorbar\":{\"outlinewidth\":0,\"ticks\":\"\"}},\"marker\":{\"colorbar\":{\"outlinewidth\":0,\"ticks\":\"\"}}}],\"scattermapbox\":[{\"type\":\"scattermapbox\",\"marker\":{\"colorbar\":{\"outlinewidth\":0,\"ticks\":\"\"}}}],\"scatterternary\":[{\"type\":\"scatterternary\",\"marker\":{\"colorbar\":{\"outlinewidth\":0,\"ticks\":\"\"}}}],\"scattercarpet\":[{\"type\":\"scattercarpet\",\"marker\":{\"colorbar\":{\"outlinewidth\":0,\"ticks\":\"\"}}}],\"carpet\":[{\"aaxis\":{\"endlinecolor\":\"#2a3f5f\",\"gridcolor\":\"white\",\"linecolor\":\"white\",\"minorgridcolor\":\"white\",\"startlinecolor\":\"#2a3f5f\"},\"baxis\":{\"endlinecolor\":\"#2a3f5f\",\"gridcolor\":\"white\",\"linecolor\":\"white\",\"minorgridcolor\":\"white\",\"startlinecolor\":\"#2a3f5f\"},\"type\":\"carpet\"}],\"table\":[{\"cells\":{\"fill\":{\"color\":\"#EBF0F8\"},\"line\":{\"color\":\"white\"}},\"header\":{\"fill\":{\"color\":\"#C8D4E3\"},\"line\":{\"color\":\"white\"}},\"type\":\"table\"}],\"barpolar\":[{\"marker\":{\"line\":{\"color\":\"#E5ECF6\",\"width\":0.5},\"pattern\":{\"fillmode\":\"overlay\",\"size\":10,\"solidity\":0.2}},\"type\":\"barpolar\"}],\"pie\":[{\"automargin\":true,\"type\":\"pie\"}]},\"layout\":{\"autotypenumbers\":\"strict\",\"colorway\":[\"#636efa\",\"#EF553B\",\"#00cc96\",\"#ab63fa\",\"#FFA15A\",\"#19d3f3\",\"#FF6692\",\"#B6E880\",\"#FF97FF\",\"#FECB52\"],\"font\":{\"color\":\"#2a3f5f\"},\"hovermode\":\"closest\",\"hoverlabel\":{\"align\":\"left\"},\"paper_bgcolor\":\"white\",\"plot_bgcolor\":\"#E5ECF6\",\"polar\":{\"bgcolor\":\"#E5ECF6\",\"angularaxis\":{\"gridcolor\":\"white\",\"linecolor\":\"white\",\"ticks\":\"\"},\"radialaxis\":{\"gridcolor\":\"white\",\"linecolor\":\"white\",\"ticks\":\"\"}},\"ternary\":{\"bgcolor\":\"#E5ECF6\",\"aaxis\":{\"gridcolor\":\"white\",\"linecolor\":\"white\",\"ticks\":\"\"},\"baxis\":{\"gridcolor\":\"white\",\"linecolor\":\"white\",\"ticks\":\"\"},\"caxis\":{\"gridcolor\":\"white\",\"linecolor\":\"white\",\"ticks\":\"\"}},\"coloraxis\":{\"colorbar\":{\"outlinewidth\":0,\"ticks\":\"\"}},\"colorscale\":{\"sequential\":[[0.0,\"#0d0887\"],[0.1111111111111111,\"#46039f\"],[0.2222222222222222,\"#7201a8\"],[0.3333333333333333,\"#9c179e\"],[0.4444444444444444,\"#bd3786\"],[0.5555555555555556,\"#d8576b\"],[0.6666666666666666,\"#ed7953\"],[0.7777777777777778,\"#fb9f3a\"],[0.8888888888888888,\"#fdca26\"],[1.0,\"#f0f921\"]],\"sequentialminus\":[[0.0,\"#0d0887\"],[0.1111111111111111,\"#46039f\"],[0.2222222222222222,\"#7201a8\"],[0.3333333333333333,\"#9c179e\"],[0.4444444444444444,\"#bd3786\"],[0.5555555555555556,\"#d8576b\"],[0.6666666666666666,\"#ed7953\"],[0.7777777777777778,\"#fb9f3a\"],[0.8888888888888888,\"#fdca26\"],[1.0,\"#f0f921\"]],\"diverging\":[[0,\"#8e0152\"],[0.1,\"#c51b7d\"],[0.2,\"#de77ae\"],[0.3,\"#f1b6da\"],[0.4,\"#fde0ef\"],[0.5,\"#f7f7f7\"],[0.6,\"#e6f5d0\"],[0.7,\"#b8e186\"],[0.8,\"#7fbc41\"],[0.9,\"#4d9221\"],[1,\"#276419\"]]},\"xaxis\":{\"gridcolor\":\"white\",\"linecolor\":\"white\",\"ticks\":\"\",\"title\":{\"standoff\":15},\"zerolinecolor\":\"white\",\"automargin\":true,\"zerolinewidth\":2},\"yaxis\":{\"gridcolor\":\"white\",\"linecolor\":\"white\",\"ticks\":\"\",\"title\":{\"standoff\":15},\"zerolinecolor\":\"white\",\"automargin\":true,\"zerolinewidth\":2},\"scene\":{\"xaxis\":{\"backgroundcolor\":\"#E5ECF6\",\"gridcolor\":\"white\",\"linecolor\":\"white\",\"showbackground\":true,\"ticks\":\"\",\"zerolinecolor\":\"white\",\"gridwidth\":2},\"yaxis\":{\"backgroundcolor\":\"#E5ECF6\",\"gridcolor\":\"white\",\"linecolor\":\"white\",\"showbackground\":true,\"ticks\":\"\",\"zerolinecolor\":\"white\",\"gridwidth\":2},\"zaxis\":{\"backgroundcolor\":\"#E5ECF6\",\"gridcolor\":\"white\",\"linecolor\":\"white\",\"showbackground\":true,\"ticks\":\"\",\"zerolinecolor\":\"white\",\"gridwidth\":2}},\"shapedefaults\":{\"line\":{\"color\":\"#2a3f5f\"}},\"annotationdefaults\":{\"arrowcolor\":\"#2a3f5f\",\"arrowhead\":0,\"arrowwidth\":1},\"geo\":{\"bgcolor\":\"white\",\"landcolor\":\"#E5ECF6\",\"subunitcolor\":\"white\",\"showland\":true,\"showlakes\":true,\"lakecolor\":\"white\"},\"title\":{\"x\":0.05},\"mapbox\":{\"style\":\"light\"}}},\"xaxis\":{\"anchor\":\"y\",\"domain\":[0.0,1.0],\"title\":{\"text\":\"Income group\"}},\"yaxis\":{\"anchor\":\"x\",\"domain\":[0.0,1.0],\"title\":{\"text\":\"Country_count\"}},\"legend\":{\"title\":{\"text\":\"Infrastructure_level\"},\"tracegroupgap\":0},\"title\":{\"text\":\"Countries by Income group and Infrastructure level\"},\"barmode\":\"relative\",\"height\":600},                        {\"responsive\": true}                    ).then(function(){\n",
       "                            \n",
       "var gd = document.getElementById('c54c84f1-59d5-4018-9707-5408e972a89e');\n",
       "var x = new MutationObserver(function (mutations, observer) {{\n",
       "        var display = window.getComputedStyle(gd).display;\n",
       "        if (!display || display === 'none') {{\n",
       "            console.log([gd, 'removed!']);\n",
       "            Plotly.purge(gd);\n",
       "            observer.disconnect();\n",
       "        }}\n",
       "}});\n",
       "\n",
       "// Listen for the removal of the full notebook cells\n",
       "var notebookContainer = gd.closest('#notebook-container');\n",
       "if (notebookContainer) {{\n",
       "    x.observe(notebookContainer, {childList: true});\n",
       "}}\n",
       "\n",
       "// Listen for the clearing of the current output cell\n",
       "var outputEl = gd.closest('.output');\n",
       "if (outputEl) {{\n",
       "    x.observe(outputEl, {childList: true});\n",
       "}}\n",
       "\n",
       "                        })                };                });            </script>        </div>"
      ]
     },
     "metadata": {},
     "output_type": "display_data"
    }
   ],
   "source": [
    "agg_data = infra_df.groupby(['Income group', 'Infrastructure_level']).size().reset_index(name='Country_count')\n",
    "\n",
    "agg_data = agg_data.sort_values(by=[\"Infrastructure_level\", \"Country_count\"])\n",
    "\n",
    "fig = px.bar(\n",
    "    agg_data, \n",
    "    x='Income group', \n",
    "    y='Country_count', \n",
    "    color='Infrastructure_level', \n",
    "    title=\"Countries by Income group and Infrastructure level\", \n",
    "    color_discrete_sequence=px.colors.qualitative.Prism,\n",
    "    height=600)\n",
    "fig.show()"
   ]
  },
  {
   "cell_type": "markdown",
   "id": "88adb6ed",
   "metadata": {
    "papermill": {
     "duration": 0.042507,
     "end_time": "2023-08-09T09:38:20.114323",
     "exception": false,
     "start_time": "2023-08-09T09:38:20.071816",
     "status": "completed"
    },
    "tags": []
   },
   "source": [
    "## <div style=\"font-size:20px;text-align:center;color:black;border-bottom:5px #0026d6 solid;padding-bottom:3%\">Infrastructure by Political Regimes</div>"
   ]
  },
  {
   "cell_type": "code",
   "execution_count": null,
   "id": "ea28375c",
   "metadata": {
    "_kg_hide-input": true,
    "execution": {
     "iopub.execute_input": "2023-08-09T09:38:20.204299Z",
     "iopub.status.busy": "2023-08-09T09:38:20.203919Z",
     "iopub.status.idle": "2023-08-09T09:38:20.267162Z",
     "shell.execute_reply": "2023-08-09T09:38:20.266022Z"
    },
    "papermill": {
     "duration": 0.111324,
     "end_time": "2023-08-09T09:38:20.269844",
     "exception": false,
     "start_time": "2023-08-09T09:38:20.158520",
     "status": "completed"
    },
    "tags": []
   },
   "outputs": [
    {
     "data": {
      "text/html": [
       "<div>                            <div id=\"42c5396a-7a56-4fae-b8e6-2ebb2065e521\" class=\"plotly-graph-div\" style=\"height:525px; width:100%;\"></div>            <script type=\"text/javascript\">                require([\"plotly\"], function(Plotly) {                    window.PLOTLYENV=window.PLOTLYENV || {};                                    if (document.getElementById(\"42c5396a-7a56-4fae-b8e6-2ebb2065e521\")) {                    Plotly.newPlot(                        \"42c5396a-7a56-4fae-b8e6-2ebb2065e521\",                        [{\"alignmentgroup\":\"True\",\"box\":{\"visible\":true},\"customdata\":[[\"United States of America\",\"Americas\",\"Power players\",\"High\",\"1 - Very high\"],[\"China\",\"Asia-Pacific\",\"Power players\",\"Upper middle\",\"1 - Very high\"],[\"United Kingdom\",\"Europe\",\"Traditional champions\",\"High\",\"2 - High\"],[\"Canada\",\"Americas\",\"Traditional champions\",\"High\",\"2 - High\"],[\"Israel\",\"Middle East\",\"Rising stars\",\"High\",\"2 - High\"],[\"Singapore\",\"Asia-Pacific\",\"Rising stars\",\"High\",\"1 - Very high\"],[\"South Korea\",\"Asia-Pacific\",\"Rising stars\",\"High\",\"1 - Very high\"],[\"The Netherlands\",\"Europe\",\"Rising stars\",\"High\",\"1 - Very high\"],[\"Germany\",\"Europe\",\"Traditional champions\",\"High\",\"2 - High\"],[\"France\",\"Europe\",\"Traditional champions\",\"High\",\"2 - High\"],[\"Australia\",\"Asia-Pacific\",\"Rising stars\",\"High\",\"2 - High\"],[\"Ireland\",\"Europe\",\"Rising stars\",\"High\",\"1 - Very high\"],[\"Finland\",\"Europe\",\"Rising stars\",\"High\",\"2 - High\"],[\"Denmark\",\"Europe\",\"Rising stars\",\"High\",\"2 - High\"],[\"Luxembourg\",\"Europe\",\"Waking up\",\"High\",\"1 - Very high\"],[\"Japan\",\"Asia-Pacific\",\"Rising stars\",\"High\",\"1 - Very high\"],[\"India\",\"Asia-Pacific\",\"Waking up\",\"Lower middle\",\"4 - Low\"],[\"Switzerland\",\"Europe\",\"Rising stars\",\"High\",\"2 - High\"],[\"Sweden\",\"Europe\",\"Waking up\",\"High\",\"2 - High\"],[\"Hong Kong\",\"Asia-Pacific\",\"Waking up\",\"High\",\"1 - Very high\"],[\"Spain\",\"Europe\",\"Rising stars\",\"High\",\"2 - High\"],[\"Austria\",\"Europe\",\"Waking up\",\"High\",\"2 - High\"],[\"Estonia\",\"Europe\",\"Waking up\",\"High\",\"2 - High\"],[\"Taiwan\",\"Asia-Pacific\",\"Waking up\",\"High\",\"2 - High\"],[\"Norway\",\"Europe\",\"Waking up\",\"High\",\"2 - High\"],[\"Saudi Arabia\",\"Middle East\",\"Waking up\",\"High\",\"2 - High\"],[\"Belgium\",\"Europe\",\"Waking up\",\"High\",\"2 - High\"],[\"Poland\",\"Europe\",\"Waking up\",\"High\",\"2 - High\"],[\"Slovenia\",\"Europe\",\"Waking up\",\"High\",\"2 - High\"],[\"New Zealand\",\"Asia-Pacific\",\"Waking up\",\"High\",\"2 - High\"],[\"Italy\",\"Europe\",\"Waking up\",\"High\",\"2 - High\"],[\"Russia\",\"Europe\",\"Waking up\",\"Upper middle\",\"2 - High\"],[\"Malta\",\"Europe\",\"Waking up\",\"High\",\"2 - High\"],[\"United Arab Emirates\",\"Middle East\",\"Waking up\",\"High\",\"2 - High\"],[\"Portugal\",\"Europe\",\"Waking up\",\"High\",\"2 - High\"],[\"Czech Republic\",\"Europe\",\"Waking up\",\"High\",\"2 - High\"],[\"Iceland\",\"Europe\",\"Waking up\",\"High\",\"2 - High\"],[\"Lithuania\",\"Europe\",\"Waking up\",\"High\",\"2 - High\"],[\"Brazil\",\"Americas\",\"Waking up\",\"Upper middle\",\"2 - High\"],[\"Greece\",\"Europe\",\"Waking up\",\"High\",\"3 - Moderate\"],[\"Slovakia\",\"Europe\",\"Waking up\",\"High\",\"2 - High\"],[\"Hungary\",\"Europe\",\"Waking up\",\"High\",\"2 - High\"],[\"Malaysia\",\"Asia-Pacific\",\"Waking up\",\"Upper middle\",\"2 - High\"],[\"Mexico\",\"Americas\",\"Waking up\",\"Upper middle\",\"3 - Moderate\"],[\"Chile\",\"Americas\",\"Waking up\",\"High\",\"2 - High\"],[\"Argentina\",\"Americas\",\"Waking up\",\"Upper middle\",\"3 - Moderate\"],[\"Qatar\",\"Middle East\",\"Waking up\",\"High\",\"2 - High\"],[\"Turkey\",\"Europe\",\"Waking up\",\"High\",\"3 - Moderate\"],[\"Colombia\",\"Americas\",\"Waking up\",\"Upper middle\",\"3 - Moderate\"],[\"Uruguay\",\"Americas\",\"Waking up\",\"High\",\"3 - Moderate\"],[\"Bahrain\",\"Middle East\",\"Waking up\",\"High\",\"2 - High\"],[\"Vietnam\",\"Asia-Pacific\",\"Waking up\",\"Lower middle\",\"3 - Moderate\"],[\"Indonesia\",\"Asia-Pacific\",\"Waking up\",\"Lower middle\",\"3 - Moderate\"],[\"Tunisia\",\"Africa\",\"Waking up\",\"Lower middle\",\"4 - Low\"],[\"South Africa\",\"Africa\",\"Waking up\",\"Upper middle\",\"3 - Moderate\"],[\"Morocco\",\"Africa\",\"Waking up\",\"Lower middle\",\"3 - Moderate\"],[\"Armenia\",\"Europe\",\"Waking up\",\"Upper middle\",\"4 - Low\"],[\"Sri Lanka\",\"Asia-Pacific\",\"Nascent\",\"Lower middle\",\"4 - Low\"],[\"Egypt\",\"Middle East\",\"Nascent\",\"Lower middle\",\"4 - Low\"],[\"Kenya\",\"Africa\",\"Nascent\",\"Lower middle\",\"5 - Very low\"],[\"Nigeria\",\"Africa\",\"Nascent\",\"Lower middle\",\"5 - Very low\"],[\"Pakistan\",\"Asia-Pacific\",\"Nascent\",\"Lower middle\",\"5 - Very low\"]],\"hovertemplate\":\"Political regime=%{x}\\u003cbr\\u003eInfrastructure=%{y}\\u003cbr\\u003eCountry=%{customdata[0]}\\u003cbr\\u003eRegion=%{customdata[1]}\\u003cbr\\u003eCluster=%{customdata[2]}\\u003cbr\\u003eIncome group=%{customdata[3]}\\u003cbr\\u003eInfrastructure_level=%{customdata[4]}\\u003cextra\\u003e\\u003c\\u002fextra\\u003e\",\"legendgroup\":\"\",\"marker\":{\"color\":\"#636efa\"},\"name\":\"\",\"offsetgroup\":\"\",\"orientation\":\"v\",\"points\":\"all\",\"scalegroup\":\"True\",\"showlegend\":false,\"x\":[\"Liberal democracy\",\"Closed autocracy\",\"Liberal democracy\",\"Liberal democracy\",\"Liberal democracy\",\"Electoral democracy\",\"Liberal democracy\",\"Liberal democracy\",\"Liberal democracy\",\"Liberal democracy\",\"Liberal democracy\",\"Liberal democracy\",\"Liberal democracy\",\"Liberal democracy\",\"Liberal democracy\",\"Liberal democracy\",\"Electoral autocracy\",\"Liberal democracy\",\"Liberal democracy\",\"Electoral democracy\",\"Liberal democracy\",\"Electoral democracy\",\"Liberal democracy\",\"Liberal democracy\",\"Liberal democracy\",\"Closed autocracy\",\"Liberal democracy\",\"Electoral democracy\",\"Electoral democracy\",\"Liberal democracy\",\"Liberal democracy\",\"Electoral autocracy\",\"Electoral democracy\",\"Closed autocracy\",\"Electoral democracy\",\"Electoral democracy\",\"Liberal democracy\",\"Electoral democracy\",\"Electoral democracy\",\"Liberal democracy\",\"Electoral democracy\",\"Electoral autocracy\",\"Electoral autocracy\",\"Electoral democracy\",\"Liberal democracy\",\"Electoral democracy\",\"Closed autocracy\",\"Electoral democracy\",\"Electoral democracy\",\"Liberal democracy\",\"Closed autocracy\",\"Closed autocracy\",\"Electoral democracy\",\"Electoral democracy\",\"Electoral democracy\",\"Closed autocracy\",\"Electoral democracy\",\"Electoral democracy\",\"Electoral autocracy\",\"Electoral autocracy\",\"Electoral autocracy\",\"Electoral autocracy\"],\"x0\":\" \",\"xaxis\":\"x\",\"y\":[94.02,100.0,71.43,77.05,67.58,84.3,85.23,81.99,77.22,77.15,63.43,89.5,71.6,74.08,94.88,84.58,33.91,78.43,75.19,96.11,73.32,64.49,63.65,77.86,76.2,70.8,65.1,70.96,72.06,69.78,64.76,62.59,67.12,79.16,64.2,64.26,72.45,63.19,62.61,55.44,65.36,69.17,62.04,41.85,61.97,56.15,67.97,40.74,54.8,58.77,60.39,55.76,47.52,38.59,45.73,44.88,37.84,34.64,38.84,14.11,0.0,2.43],\"y0\":\" \",\"yaxis\":\"y\",\"type\":\"violin\"}],                        {\"template\":{\"data\":{\"histogram2dcontour\":[{\"type\":\"histogram2dcontour\",\"colorbar\":{\"outlinewidth\":0,\"ticks\":\"\"},\"colorscale\":[[0.0,\"#0d0887\"],[0.1111111111111111,\"#46039f\"],[0.2222222222222222,\"#7201a8\"],[0.3333333333333333,\"#9c179e\"],[0.4444444444444444,\"#bd3786\"],[0.5555555555555556,\"#d8576b\"],[0.6666666666666666,\"#ed7953\"],[0.7777777777777778,\"#fb9f3a\"],[0.8888888888888888,\"#fdca26\"],[1.0,\"#f0f921\"]]}],\"choropleth\":[{\"type\":\"choropleth\",\"colorbar\":{\"outlinewidth\":0,\"ticks\":\"\"}}],\"histogram2d\":[{\"type\":\"histogram2d\",\"colorbar\":{\"outlinewidth\":0,\"ticks\":\"\"},\"colorscale\":[[0.0,\"#0d0887\"],[0.1111111111111111,\"#46039f\"],[0.2222222222222222,\"#7201a8\"],[0.3333333333333333,\"#9c179e\"],[0.4444444444444444,\"#bd3786\"],[0.5555555555555556,\"#d8576b\"],[0.6666666666666666,\"#ed7953\"],[0.7777777777777778,\"#fb9f3a\"],[0.8888888888888888,\"#fdca26\"],[1.0,\"#f0f921\"]]}],\"heatmap\":[{\"type\":\"heatmap\",\"colorbar\":{\"outlinewidth\":0,\"ticks\":\"\"},\"colorscale\":[[0.0,\"#0d0887\"],[0.1111111111111111,\"#46039f\"],[0.2222222222222222,\"#7201a8\"],[0.3333333333333333,\"#9c179e\"],[0.4444444444444444,\"#bd3786\"],[0.5555555555555556,\"#d8576b\"],[0.6666666666666666,\"#ed7953\"],[0.7777777777777778,\"#fb9f3a\"],[0.8888888888888888,\"#fdca26\"],[1.0,\"#f0f921\"]]}],\"heatmapgl\":[{\"type\":\"heatmapgl\",\"colorbar\":{\"outlinewidth\":0,\"ticks\":\"\"},\"colorscale\":[[0.0,\"#0d0887\"],[0.1111111111111111,\"#46039f\"],[0.2222222222222222,\"#7201a8\"],[0.3333333333333333,\"#9c179e\"],[0.4444444444444444,\"#bd3786\"],[0.5555555555555556,\"#d8576b\"],[0.6666666666666666,\"#ed7953\"],[0.7777777777777778,\"#fb9f3a\"],[0.8888888888888888,\"#fdca26\"],[1.0,\"#f0f921\"]]}],\"contourcarpet\":[{\"type\":\"contourcarpet\",\"colorbar\":{\"outlinewidth\":0,\"ticks\":\"\"}}],\"contour\":[{\"type\":\"contour\",\"colorbar\":{\"outlinewidth\":0,\"ticks\":\"\"},\"colorscale\":[[0.0,\"#0d0887\"],[0.1111111111111111,\"#46039f\"],[0.2222222222222222,\"#7201a8\"],[0.3333333333333333,\"#9c179e\"],[0.4444444444444444,\"#bd3786\"],[0.5555555555555556,\"#d8576b\"],[0.6666666666666666,\"#ed7953\"],[0.7777777777777778,\"#fb9f3a\"],[0.8888888888888888,\"#fdca26\"],[1.0,\"#f0f921\"]]}],\"surface\":[{\"type\":\"surface\",\"colorbar\":{\"outlinewidth\":0,\"ticks\":\"\"},\"colorscale\":[[0.0,\"#0d0887\"],[0.1111111111111111,\"#46039f\"],[0.2222222222222222,\"#7201a8\"],[0.3333333333333333,\"#9c179e\"],[0.4444444444444444,\"#bd3786\"],[0.5555555555555556,\"#d8576b\"],[0.6666666666666666,\"#ed7953\"],[0.7777777777777778,\"#fb9f3a\"],[0.8888888888888888,\"#fdca26\"],[1.0,\"#f0f921\"]]}],\"mesh3d\":[{\"type\":\"mesh3d\",\"colorbar\":{\"outlinewidth\":0,\"ticks\":\"\"}}],\"scatter\":[{\"fillpattern\":{\"fillmode\":\"overlay\",\"size\":10,\"solidity\":0.2},\"type\":\"scatter\"}],\"parcoords\":[{\"type\":\"parcoords\",\"line\":{\"colorbar\":{\"outlinewidth\":0,\"ticks\":\"\"}}}],\"scatterpolargl\":[{\"type\":\"scatterpolargl\",\"marker\":{\"colorbar\":{\"outlinewidth\":0,\"ticks\":\"\"}}}],\"bar\":[{\"error_x\":{\"color\":\"#2a3f5f\"},\"error_y\":{\"color\":\"#2a3f5f\"},\"marker\":{\"line\":{\"color\":\"#E5ECF6\",\"width\":0.5},\"pattern\":{\"fillmode\":\"overlay\",\"size\":10,\"solidity\":0.2}},\"type\":\"bar\"}],\"scattergeo\":[{\"type\":\"scattergeo\",\"marker\":{\"colorbar\":{\"outlinewidth\":0,\"ticks\":\"\"}}}],\"scatterpolar\":[{\"type\":\"scatterpolar\",\"marker\":{\"colorbar\":{\"outlinewidth\":0,\"ticks\":\"\"}}}],\"histogram\":[{\"marker\":{\"pattern\":{\"fillmode\":\"overlay\",\"size\":10,\"solidity\":0.2}},\"type\":\"histogram\"}],\"scattergl\":[{\"type\":\"scattergl\",\"marker\":{\"colorbar\":{\"outlinewidth\":0,\"ticks\":\"\"}}}],\"scatter3d\":[{\"type\":\"scatter3d\",\"line\":{\"colorbar\":{\"outlinewidth\":0,\"ticks\":\"\"}},\"marker\":{\"colorbar\":{\"outlinewidth\":0,\"ticks\":\"\"}}}],\"scattermapbox\":[{\"type\":\"scattermapbox\",\"marker\":{\"colorbar\":{\"outlinewidth\":0,\"ticks\":\"\"}}}],\"scatterternary\":[{\"type\":\"scatterternary\",\"marker\":{\"colorbar\":{\"outlinewidth\":0,\"ticks\":\"\"}}}],\"scattercarpet\":[{\"type\":\"scattercarpet\",\"marker\":{\"colorbar\":{\"outlinewidth\":0,\"ticks\":\"\"}}}],\"carpet\":[{\"aaxis\":{\"endlinecolor\":\"#2a3f5f\",\"gridcolor\":\"white\",\"linecolor\":\"white\",\"minorgridcolor\":\"white\",\"startlinecolor\":\"#2a3f5f\"},\"baxis\":{\"endlinecolor\":\"#2a3f5f\",\"gridcolor\":\"white\",\"linecolor\":\"white\",\"minorgridcolor\":\"white\",\"startlinecolor\":\"#2a3f5f\"},\"type\":\"carpet\"}],\"table\":[{\"cells\":{\"fill\":{\"color\":\"#EBF0F8\"},\"line\":{\"color\":\"white\"}},\"header\":{\"fill\":{\"color\":\"#C8D4E3\"},\"line\":{\"color\":\"white\"}},\"type\":\"table\"}],\"barpolar\":[{\"marker\":{\"line\":{\"color\":\"#E5ECF6\",\"width\":0.5},\"pattern\":{\"fillmode\":\"overlay\",\"size\":10,\"solidity\":0.2}},\"type\":\"barpolar\"}],\"pie\":[{\"automargin\":true,\"type\":\"pie\"}]},\"layout\":{\"autotypenumbers\":\"strict\",\"colorway\":[\"#636efa\",\"#EF553B\",\"#00cc96\",\"#ab63fa\",\"#FFA15A\",\"#19d3f3\",\"#FF6692\",\"#B6E880\",\"#FF97FF\",\"#FECB52\"],\"font\":{\"color\":\"#2a3f5f\"},\"hovermode\":\"closest\",\"hoverlabel\":{\"align\":\"left\"},\"paper_bgcolor\":\"white\",\"plot_bgcolor\":\"#E5ECF6\",\"polar\":{\"bgcolor\":\"#E5ECF6\",\"angularaxis\":{\"gridcolor\":\"white\",\"linecolor\":\"white\",\"ticks\":\"\"},\"radialaxis\":{\"gridcolor\":\"white\",\"linecolor\":\"white\",\"ticks\":\"\"}},\"ternary\":{\"bgcolor\":\"#E5ECF6\",\"aaxis\":{\"gridcolor\":\"white\",\"linecolor\":\"white\",\"ticks\":\"\"},\"baxis\":{\"gridcolor\":\"white\",\"linecolor\":\"white\",\"ticks\":\"\"},\"caxis\":{\"gridcolor\":\"white\",\"linecolor\":\"white\",\"ticks\":\"\"}},\"coloraxis\":{\"colorbar\":{\"outlinewidth\":0,\"ticks\":\"\"}},\"colorscale\":{\"sequential\":[[0.0,\"#0d0887\"],[0.1111111111111111,\"#46039f\"],[0.2222222222222222,\"#7201a8\"],[0.3333333333333333,\"#9c179e\"],[0.4444444444444444,\"#bd3786\"],[0.5555555555555556,\"#d8576b\"],[0.6666666666666666,\"#ed7953\"],[0.7777777777777778,\"#fb9f3a\"],[0.8888888888888888,\"#fdca26\"],[1.0,\"#f0f921\"]],\"sequentialminus\":[[0.0,\"#0d0887\"],[0.1111111111111111,\"#46039f\"],[0.2222222222222222,\"#7201a8\"],[0.3333333333333333,\"#9c179e\"],[0.4444444444444444,\"#bd3786\"],[0.5555555555555556,\"#d8576b\"],[0.6666666666666666,\"#ed7953\"],[0.7777777777777778,\"#fb9f3a\"],[0.8888888888888888,\"#fdca26\"],[1.0,\"#f0f921\"]],\"diverging\":[[0,\"#8e0152\"],[0.1,\"#c51b7d\"],[0.2,\"#de77ae\"],[0.3,\"#f1b6da\"],[0.4,\"#fde0ef\"],[0.5,\"#f7f7f7\"],[0.6,\"#e6f5d0\"],[0.7,\"#b8e186\"],[0.8,\"#7fbc41\"],[0.9,\"#4d9221\"],[1,\"#276419\"]]},\"xaxis\":{\"gridcolor\":\"white\",\"linecolor\":\"white\",\"ticks\":\"\",\"title\":{\"standoff\":15},\"zerolinecolor\":\"white\",\"automargin\":true,\"zerolinewidth\":2},\"yaxis\":{\"gridcolor\":\"white\",\"linecolor\":\"white\",\"ticks\":\"\",\"title\":{\"standoff\":15},\"zerolinecolor\":\"white\",\"automargin\":true,\"zerolinewidth\":2},\"scene\":{\"xaxis\":{\"backgroundcolor\":\"#E5ECF6\",\"gridcolor\":\"white\",\"linecolor\":\"white\",\"showbackground\":true,\"ticks\":\"\",\"zerolinecolor\":\"white\",\"gridwidth\":2},\"yaxis\":{\"backgroundcolor\":\"#E5ECF6\",\"gridcolor\":\"white\",\"linecolor\":\"white\",\"showbackground\":true,\"ticks\":\"\",\"zerolinecolor\":\"white\",\"gridwidth\":2},\"zaxis\":{\"backgroundcolor\":\"#E5ECF6\",\"gridcolor\":\"white\",\"linecolor\":\"white\",\"showbackground\":true,\"ticks\":\"\",\"zerolinecolor\":\"white\",\"gridwidth\":2}},\"shapedefaults\":{\"line\":{\"color\":\"#2a3f5f\"}},\"annotationdefaults\":{\"arrowcolor\":\"#2a3f5f\",\"arrowhead\":0,\"arrowwidth\":1},\"geo\":{\"bgcolor\":\"white\",\"landcolor\":\"#E5ECF6\",\"subunitcolor\":\"white\",\"showland\":true,\"showlakes\":true,\"lakecolor\":\"white\"},\"title\":{\"x\":0.05},\"mapbox\":{\"style\":\"light\"}}},\"xaxis\":{\"anchor\":\"y\",\"domain\":[0.0,1.0],\"title\":{\"text\":\"Political regime\"}},\"yaxis\":{\"anchor\":\"x\",\"domain\":[0.0,1.0],\"title\":{\"text\":\"Infrastructure\"}},\"legend\":{\"tracegroupgap\":0},\"title\":{\"text\":\"Infrastructure by Political regimes\"},\"violinmode\":\"group\"},                        {\"responsive\": true}                    ).then(function(){\n",
       "                            \n",
       "var gd = document.getElementById('42c5396a-7a56-4fae-b8e6-2ebb2065e521');\n",
       "var x = new MutationObserver(function (mutations, observer) {{\n",
       "        var display = window.getComputedStyle(gd).display;\n",
       "        if (!display || display === 'none') {{\n",
       "            console.log([gd, 'removed!']);\n",
       "            Plotly.purge(gd);\n",
       "            observer.disconnect();\n",
       "        }}\n",
       "}});\n",
       "\n",
       "// Listen for the removal of the full notebook cells\n",
       "var notebookContainer = gd.closest('#notebook-container');\n",
       "if (notebookContainer) {{\n",
       "    x.observe(notebookContainer, {childList: true});\n",
       "}}\n",
       "\n",
       "// Listen for the clearing of the current output cell\n",
       "var outputEl = gd.closest('.output');\n",
       "if (outputEl) {{\n",
       "    x.observe(outputEl, {childList: true});\n",
       "}}\n",
       "\n",
       "                        })                };                });            </script>        </div>"
      ]
     },
     "metadata": {},
     "output_type": "display_data"
    }
   ],
   "source": [
    "fig = px.violin(infra_df, \n",
    "                y=\"Infrastructure\", \n",
    "                x=\"Political regime\", \n",
    "                box=True, \n",
    "                points=\"all\", \n",
    "                title=\"Infrastructure by Political regimes\", \n",
    "                hover_data=infra_df.columns)\n",
    "fig.show()"
   ]
  },
  {
   "cell_type": "code",
   "execution_count": null,
   "id": "82ca0951",
   "metadata": {
    "_kg_hide-input": true,
    "execution": {
     "iopub.execute_input": "2023-08-09T09:38:20.358100Z",
     "iopub.status.busy": "2023-08-09T09:38:20.357421Z",
     "iopub.status.idle": "2023-08-09T09:38:20.435511Z",
     "shell.execute_reply": "2023-08-09T09:38:20.434302Z"
    },
    "papermill": {
     "duration": 0.124892,
     "end_time": "2023-08-09T09:38:20.437832",
     "exception": false,
     "start_time": "2023-08-09T09:38:20.312940",
     "status": "completed"
    },
    "tags": []
   },
   "outputs": [
    {
     "data": {
      "text/html": [
       "<div>                            <div id=\"475f4acd-c8f6-4e7e-b3b7-1dbd5b10a728\" class=\"plotly-graph-div\" style=\"height:600px; width:100%;\"></div>            <script type=\"text/javascript\">                require([\"plotly\"], function(Plotly) {                    window.PLOTLYENV=window.PLOTLYENV || {};                                    if (document.getElementById(\"475f4acd-c8f6-4e7e-b3b7-1dbd5b10a728\")) {                    Plotly.newPlot(                        \"475f4acd-c8f6-4e7e-b3b7-1dbd5b10a728\",                        [{\"alignmentgroup\":\"True\",\"hovertemplate\":\"Infrastructure_level=1 - Very high\\u003cbr\\u003ePolitical regime=%{x}\\u003cbr\\u003eCountry_count=%{y}\\u003cextra\\u003e\\u003c\\u002fextra\\u003e\",\"legendgroup\":\"1 - Very high\",\"marker\":{\"color\":\"rgb(95, 70, 144)\",\"pattern\":{\"shape\":\"\"}},\"name\":\"1 - Very high\",\"offsetgroup\":\"1 - Very high\",\"orientation\":\"v\",\"showlegend\":true,\"textposition\":\"auto\",\"x\":[\"Closed autocracy\",\"Electoral democracy\",\"Liberal democracy\"],\"xaxis\":\"x\",\"y\":[1,2,6],\"yaxis\":\"y\",\"type\":\"bar\"},{\"alignmentgroup\":\"True\",\"hovertemplate\":\"Infrastructure_level=2 - High\\u003cbr\\u003ePolitical regime=%{x}\\u003cbr\\u003eCountry_count=%{y}\\u003cextra\\u003e\\u003c\\u002fextra\\u003e\",\"legendgroup\":\"2 - High\",\"marker\":{\"color\":\"rgb(29, 105, 150)\",\"pattern\":{\"shape\":\"\"}},\"name\":\"2 - High\",\"offsetgroup\":\"2 - High\",\"orientation\":\"v\",\"showlegend\":true,\"textposition\":\"auto\",\"x\":[\"Electoral autocracy\",\"Closed autocracy\",\"Electoral democracy\",\"Liberal democracy\"],\"xaxis\":\"x\",\"y\":[3,4,9,19],\"yaxis\":\"y\",\"type\":\"bar\"},{\"alignmentgroup\":\"True\",\"hovertemplate\":\"Infrastructure_level=3 - Moderate\\u003cbr\\u003ePolitical regime=%{x}\\u003cbr\\u003eCountry_count=%{y}\\u003cextra\\u003e\\u003c\\u002fextra\\u003e\",\"legendgroup\":\"3 - Moderate\",\"marker\":{\"color\":\"rgb(56, 166, 165)\",\"pattern\":{\"shape\":\"\"}},\"name\":\"3 - Moderate\",\"offsetgroup\":\"3 - Moderate\",\"orientation\":\"v\",\"showlegend\":true,\"textposition\":\"auto\",\"x\":[\"Closed autocracy\",\"Liberal democracy\",\"Electoral democracy\"],\"xaxis\":\"x\",\"y\":[2,2,6],\"yaxis\":\"y\",\"type\":\"bar\"},{\"alignmentgroup\":\"True\",\"hovertemplate\":\"Infrastructure_level=4 - Low\\u003cbr\\u003ePolitical regime=%{x}\\u003cbr\\u003eCountry_count=%{y}\\u003cextra\\u003e\\u003c\\u002fextra\\u003e\",\"legendgroup\":\"4 - Low\",\"marker\":{\"color\":\"rgb(15, 133, 84)\",\"pattern\":{\"shape\":\"\"}},\"name\":\"4 - Low\",\"offsetgroup\":\"4 - Low\",\"orientation\":\"v\",\"showlegend\":true,\"textposition\":\"auto\",\"x\":[\"Electoral autocracy\",\"Electoral democracy\"],\"xaxis\":\"x\",\"y\":[2,3],\"yaxis\":\"y\",\"type\":\"bar\"},{\"alignmentgroup\":\"True\",\"hovertemplate\":\"Infrastructure_level=5 - Very low\\u003cbr\\u003ePolitical regime=%{x}\\u003cbr\\u003eCountry_count=%{y}\\u003cextra\\u003e\\u003c\\u002fextra\\u003e\",\"legendgroup\":\"5 - Very low\",\"marker\":{\"color\":\"rgb(115, 175, 72)\",\"pattern\":{\"shape\":\"\"}},\"name\":\"5 - Very low\",\"offsetgroup\":\"5 - Very low\",\"orientation\":\"v\",\"showlegend\":true,\"textposition\":\"auto\",\"x\":[\"Electoral autocracy\"],\"xaxis\":\"x\",\"y\":[3],\"yaxis\":\"y\",\"type\":\"bar\"}],                        {\"template\":{\"data\":{\"histogram2dcontour\":[{\"type\":\"histogram2dcontour\",\"colorbar\":{\"outlinewidth\":0,\"ticks\":\"\"},\"colorscale\":[[0.0,\"#0d0887\"],[0.1111111111111111,\"#46039f\"],[0.2222222222222222,\"#7201a8\"],[0.3333333333333333,\"#9c179e\"],[0.4444444444444444,\"#bd3786\"],[0.5555555555555556,\"#d8576b\"],[0.6666666666666666,\"#ed7953\"],[0.7777777777777778,\"#fb9f3a\"],[0.8888888888888888,\"#fdca26\"],[1.0,\"#f0f921\"]]}],\"choropleth\":[{\"type\":\"choropleth\",\"colorbar\":{\"outlinewidth\":0,\"ticks\":\"\"}}],\"histogram2d\":[{\"type\":\"histogram2d\",\"colorbar\":{\"outlinewidth\":0,\"ticks\":\"\"},\"colorscale\":[[0.0,\"#0d0887\"],[0.1111111111111111,\"#46039f\"],[0.2222222222222222,\"#7201a8\"],[0.3333333333333333,\"#9c179e\"],[0.4444444444444444,\"#bd3786\"],[0.5555555555555556,\"#d8576b\"],[0.6666666666666666,\"#ed7953\"],[0.7777777777777778,\"#fb9f3a\"],[0.8888888888888888,\"#fdca26\"],[1.0,\"#f0f921\"]]}],\"heatmap\":[{\"type\":\"heatmap\",\"colorbar\":{\"outlinewidth\":0,\"ticks\":\"\"},\"colorscale\":[[0.0,\"#0d0887\"],[0.1111111111111111,\"#46039f\"],[0.2222222222222222,\"#7201a8\"],[0.3333333333333333,\"#9c179e\"],[0.4444444444444444,\"#bd3786\"],[0.5555555555555556,\"#d8576b\"],[0.6666666666666666,\"#ed7953\"],[0.7777777777777778,\"#fb9f3a\"],[0.8888888888888888,\"#fdca26\"],[1.0,\"#f0f921\"]]}],\"heatmapgl\":[{\"type\":\"heatmapgl\",\"colorbar\":{\"outlinewidth\":0,\"ticks\":\"\"},\"colorscale\":[[0.0,\"#0d0887\"],[0.1111111111111111,\"#46039f\"],[0.2222222222222222,\"#7201a8\"],[0.3333333333333333,\"#9c179e\"],[0.4444444444444444,\"#bd3786\"],[0.5555555555555556,\"#d8576b\"],[0.6666666666666666,\"#ed7953\"],[0.7777777777777778,\"#fb9f3a\"],[0.8888888888888888,\"#fdca26\"],[1.0,\"#f0f921\"]]}],\"contourcarpet\":[{\"type\":\"contourcarpet\",\"colorbar\":{\"outlinewidth\":0,\"ticks\":\"\"}}],\"contour\":[{\"type\":\"contour\",\"colorbar\":{\"outlinewidth\":0,\"ticks\":\"\"},\"colorscale\":[[0.0,\"#0d0887\"],[0.1111111111111111,\"#46039f\"],[0.2222222222222222,\"#7201a8\"],[0.3333333333333333,\"#9c179e\"],[0.4444444444444444,\"#bd3786\"],[0.5555555555555556,\"#d8576b\"],[0.6666666666666666,\"#ed7953\"],[0.7777777777777778,\"#fb9f3a\"],[0.8888888888888888,\"#fdca26\"],[1.0,\"#f0f921\"]]}],\"surface\":[{\"type\":\"surface\",\"colorbar\":{\"outlinewidth\":0,\"ticks\":\"\"},\"colorscale\":[[0.0,\"#0d0887\"],[0.1111111111111111,\"#46039f\"],[0.2222222222222222,\"#7201a8\"],[0.3333333333333333,\"#9c179e\"],[0.4444444444444444,\"#bd3786\"],[0.5555555555555556,\"#d8576b\"],[0.6666666666666666,\"#ed7953\"],[0.7777777777777778,\"#fb9f3a\"],[0.8888888888888888,\"#fdca26\"],[1.0,\"#f0f921\"]]}],\"mesh3d\":[{\"type\":\"mesh3d\",\"colorbar\":{\"outlinewidth\":0,\"ticks\":\"\"}}],\"scatter\":[{\"fillpattern\":{\"fillmode\":\"overlay\",\"size\":10,\"solidity\":0.2},\"type\":\"scatter\"}],\"parcoords\":[{\"type\":\"parcoords\",\"line\":{\"colorbar\":{\"outlinewidth\":0,\"ticks\":\"\"}}}],\"scatterpolargl\":[{\"type\":\"scatterpolargl\",\"marker\":{\"colorbar\":{\"outlinewidth\":0,\"ticks\":\"\"}}}],\"bar\":[{\"error_x\":{\"color\":\"#2a3f5f\"},\"error_y\":{\"color\":\"#2a3f5f\"},\"marker\":{\"line\":{\"color\":\"#E5ECF6\",\"width\":0.5},\"pattern\":{\"fillmode\":\"overlay\",\"size\":10,\"solidity\":0.2}},\"type\":\"bar\"}],\"scattergeo\":[{\"type\":\"scattergeo\",\"marker\":{\"colorbar\":{\"outlinewidth\":0,\"ticks\":\"\"}}}],\"scatterpolar\":[{\"type\":\"scatterpolar\",\"marker\":{\"colorbar\":{\"outlinewidth\":0,\"ticks\":\"\"}}}],\"histogram\":[{\"marker\":{\"pattern\":{\"fillmode\":\"overlay\",\"size\":10,\"solidity\":0.2}},\"type\":\"histogram\"}],\"scattergl\":[{\"type\":\"scattergl\",\"marker\":{\"colorbar\":{\"outlinewidth\":0,\"ticks\":\"\"}}}],\"scatter3d\":[{\"type\":\"scatter3d\",\"line\":{\"colorbar\":{\"outlinewidth\":0,\"ticks\":\"\"}},\"marker\":{\"colorbar\":{\"outlinewidth\":0,\"ticks\":\"\"}}}],\"scattermapbox\":[{\"type\":\"scattermapbox\",\"marker\":{\"colorbar\":{\"outlinewidth\":0,\"ticks\":\"\"}}}],\"scatterternary\":[{\"type\":\"scatterternary\",\"marker\":{\"colorbar\":{\"outlinewidth\":0,\"ticks\":\"\"}}}],\"scattercarpet\":[{\"type\":\"scattercarpet\",\"marker\":{\"colorbar\":{\"outlinewidth\":0,\"ticks\":\"\"}}}],\"carpet\":[{\"aaxis\":{\"endlinecolor\":\"#2a3f5f\",\"gridcolor\":\"white\",\"linecolor\":\"white\",\"minorgridcolor\":\"white\",\"startlinecolor\":\"#2a3f5f\"},\"baxis\":{\"endlinecolor\":\"#2a3f5f\",\"gridcolor\":\"white\",\"linecolor\":\"white\",\"minorgridcolor\":\"white\",\"startlinecolor\":\"#2a3f5f\"},\"type\":\"carpet\"}],\"table\":[{\"cells\":{\"fill\":{\"color\":\"#EBF0F8\"},\"line\":{\"color\":\"white\"}},\"header\":{\"fill\":{\"color\":\"#C8D4E3\"},\"line\":{\"color\":\"white\"}},\"type\":\"table\"}],\"barpolar\":[{\"marker\":{\"line\":{\"color\":\"#E5ECF6\",\"width\":0.5},\"pattern\":{\"fillmode\":\"overlay\",\"size\":10,\"solidity\":0.2}},\"type\":\"barpolar\"}],\"pie\":[{\"automargin\":true,\"type\":\"pie\"}]},\"layout\":{\"autotypenumbers\":\"strict\",\"colorway\":[\"#636efa\",\"#EF553B\",\"#00cc96\",\"#ab63fa\",\"#FFA15A\",\"#19d3f3\",\"#FF6692\",\"#B6E880\",\"#FF97FF\",\"#FECB52\"],\"font\":{\"color\":\"#2a3f5f\"},\"hovermode\":\"closest\",\"hoverlabel\":{\"align\":\"left\"},\"paper_bgcolor\":\"white\",\"plot_bgcolor\":\"#E5ECF6\",\"polar\":{\"bgcolor\":\"#E5ECF6\",\"angularaxis\":{\"gridcolor\":\"white\",\"linecolor\":\"white\",\"ticks\":\"\"},\"radialaxis\":{\"gridcolor\":\"white\",\"linecolor\":\"white\",\"ticks\":\"\"}},\"ternary\":{\"bgcolor\":\"#E5ECF6\",\"aaxis\":{\"gridcolor\":\"white\",\"linecolor\":\"white\",\"ticks\":\"\"},\"baxis\":{\"gridcolor\":\"white\",\"linecolor\":\"white\",\"ticks\":\"\"},\"caxis\":{\"gridcolor\":\"white\",\"linecolor\":\"white\",\"ticks\":\"\"}},\"coloraxis\":{\"colorbar\":{\"outlinewidth\":0,\"ticks\":\"\"}},\"colorscale\":{\"sequential\":[[0.0,\"#0d0887\"],[0.1111111111111111,\"#46039f\"],[0.2222222222222222,\"#7201a8\"],[0.3333333333333333,\"#9c179e\"],[0.4444444444444444,\"#bd3786\"],[0.5555555555555556,\"#d8576b\"],[0.6666666666666666,\"#ed7953\"],[0.7777777777777778,\"#fb9f3a\"],[0.8888888888888888,\"#fdca26\"],[1.0,\"#f0f921\"]],\"sequentialminus\":[[0.0,\"#0d0887\"],[0.1111111111111111,\"#46039f\"],[0.2222222222222222,\"#7201a8\"],[0.3333333333333333,\"#9c179e\"],[0.4444444444444444,\"#bd3786\"],[0.5555555555555556,\"#d8576b\"],[0.6666666666666666,\"#ed7953\"],[0.7777777777777778,\"#fb9f3a\"],[0.8888888888888888,\"#fdca26\"],[1.0,\"#f0f921\"]],\"diverging\":[[0,\"#8e0152\"],[0.1,\"#c51b7d\"],[0.2,\"#de77ae\"],[0.3,\"#f1b6da\"],[0.4,\"#fde0ef\"],[0.5,\"#f7f7f7\"],[0.6,\"#e6f5d0\"],[0.7,\"#b8e186\"],[0.8,\"#7fbc41\"],[0.9,\"#4d9221\"],[1,\"#276419\"]]},\"xaxis\":{\"gridcolor\":\"white\",\"linecolor\":\"white\",\"ticks\":\"\",\"title\":{\"standoff\":15},\"zerolinecolor\":\"white\",\"automargin\":true,\"zerolinewidth\":2},\"yaxis\":{\"gridcolor\":\"white\",\"linecolor\":\"white\",\"ticks\":\"\",\"title\":{\"standoff\":15},\"zerolinecolor\":\"white\",\"automargin\":true,\"zerolinewidth\":2},\"scene\":{\"xaxis\":{\"backgroundcolor\":\"#E5ECF6\",\"gridcolor\":\"white\",\"linecolor\":\"white\",\"showbackground\":true,\"ticks\":\"\",\"zerolinecolor\":\"white\",\"gridwidth\":2},\"yaxis\":{\"backgroundcolor\":\"#E5ECF6\",\"gridcolor\":\"white\",\"linecolor\":\"white\",\"showbackground\":true,\"ticks\":\"\",\"zerolinecolor\":\"white\",\"gridwidth\":2},\"zaxis\":{\"backgroundcolor\":\"#E5ECF6\",\"gridcolor\":\"white\",\"linecolor\":\"white\",\"showbackground\":true,\"ticks\":\"\",\"zerolinecolor\":\"white\",\"gridwidth\":2}},\"shapedefaults\":{\"line\":{\"color\":\"#2a3f5f\"}},\"annotationdefaults\":{\"arrowcolor\":\"#2a3f5f\",\"arrowhead\":0,\"arrowwidth\":1},\"geo\":{\"bgcolor\":\"white\",\"landcolor\":\"#E5ECF6\",\"subunitcolor\":\"white\",\"showland\":true,\"showlakes\":true,\"lakecolor\":\"white\"},\"title\":{\"x\":0.05},\"mapbox\":{\"style\":\"light\"}}},\"xaxis\":{\"anchor\":\"y\",\"domain\":[0.0,1.0],\"title\":{\"text\":\"Political regime\"}},\"yaxis\":{\"anchor\":\"x\",\"domain\":[0.0,1.0],\"title\":{\"text\":\"Country_count\"}},\"legend\":{\"title\":{\"text\":\"Infrastructure_level\"},\"tracegroupgap\":0},\"title\":{\"text\":\"Countries by Political regime and Infrastructure level\"},\"barmode\":\"relative\",\"height\":600},                        {\"responsive\": true}                    ).then(function(){\n",
       "                            \n",
       "var gd = document.getElementById('475f4acd-c8f6-4e7e-b3b7-1dbd5b10a728');\n",
       "var x = new MutationObserver(function (mutations, observer) {{\n",
       "        var display = window.getComputedStyle(gd).display;\n",
       "        if (!display || display === 'none') {{\n",
       "            console.log([gd, 'removed!']);\n",
       "            Plotly.purge(gd);\n",
       "            observer.disconnect();\n",
       "        }}\n",
       "}});\n",
       "\n",
       "// Listen for the removal of the full notebook cells\n",
       "var notebookContainer = gd.closest('#notebook-container');\n",
       "if (notebookContainer) {{\n",
       "    x.observe(notebookContainer, {childList: true});\n",
       "}}\n",
       "\n",
       "// Listen for the clearing of the current output cell\n",
       "var outputEl = gd.closest('.output');\n",
       "if (outputEl) {{\n",
       "    x.observe(outputEl, {childList: true});\n",
       "}}\n",
       "\n",
       "                        })                };                });            </script>        </div>"
      ]
     },
     "metadata": {},
     "output_type": "display_data"
    }
   ],
   "source": [
    "agg_data = infra_df.groupby(['Political regime', 'Infrastructure_level']).size().reset_index(name='Country_count')\n",
    "\n",
    "agg_data = agg_data.sort_values(by=[\"Infrastructure_level\", \"Country_count\"])\n",
    "\n",
    "fig = px.bar(\n",
    "    agg_data, \n",
    "    x='Political regime', \n",
    "    y='Country_count', \n",
    "    color='Infrastructure_level', \n",
    "    title=\"Countries by Political regime and Infrastructure level\", \n",
    "    color_discrete_sequence=px.colors.qualitative.Prism,\n",
    "    height=600)\n",
    "fig.show()"
   ]
  },
  {
   "cell_type": "markdown",
   "id": "5aade46c",
   "metadata": {
    "papermill": {
     "duration": 0.043916,
     "end_time": "2023-08-09T09:38:20.527173",
     "exception": false,
     "start_time": "2023-08-09T09:38:20.483257",
     "status": "completed"
    },
    "tags": []
   },
   "source": [
    "## <div style=\"font-size:20px;text-align:center;color:black;border-bottom:5px #0026d6 solid;padding-bottom:3%\">Infrastructure: Geospacial view</div>"
   ]
  },
  {
   "cell_type": "code",
   "execution_count": null,
   "id": "fb58aeb1",
   "metadata": {
    "_kg_hide-input": true,
    "execution": {
     "iopub.execute_input": "2023-08-09T09:38:20.617365Z",
     "iopub.status.busy": "2023-08-09T09:38:20.616944Z",
     "iopub.status.idle": "2023-08-09T09:38:20.706619Z",
     "shell.execute_reply": "2023-08-09T09:38:20.705576Z"
    },
    "papermill": {
     "duration": 0.137271,
     "end_time": "2023-08-09T09:38:20.708637",
     "exception": false,
     "start_time": "2023-08-09T09:38:20.571366",
     "status": "completed"
    },
    "tags": []
   },
   "outputs": [
    {
     "name": "stderr",
     "output_type": "stream",
     "text": [
      "/tmp/ipykernel_20/359325934.py:14: SettingWithCopyWarning:\n",
      "\n",
      "\n",
      "A value is trying to be set on a copy of a slice from a DataFrame.\n",
      "Try using .loc[row_indexer,col_indexer] = value instead\n",
      "\n",
      "See the caveats in the documentation: https://pandas.pydata.org/pandas-docs/stable/user_guide/indexing.html#returning-a-view-versus-a-copy\n",
      "\n"
     ]
    },
    {
     "data": {
      "text/html": [
       "<div>                            <div id=\"3333cfd4-16c3-4077-bd3a-805755c24011\" class=\"plotly-graph-div\" style=\"height:400px; width:800px;\"></div>            <script type=\"text/javascript\">                require([\"plotly\"], function(Plotly) {                    window.PLOTLYENV=window.PLOTLYENV || {};                                    if (document.getElementById(\"3333cfd4-16c3-4077-bd3a-805755c24011\")) {                    Plotly.newPlot(                        \"3333cfd4-16c3-4077-bd3a-805755c24011\",                        [{\"geo\":\"geo\",\"hovertemplate\":\"\\u003cb\\u003e%{hovertext}\\u003c\\u002fb\\u003e\\u003cbr\\u003e\\u003cbr\\u003eSize=%{marker.size}\\u003cbr\\u003eCountry=%{location}\\u003cbr\\u003eInfrastructure=%{marker.color}\\u003cextra\\u003e\\u003c\\u002fextra\\u003e\",\"hovertext\":[\"United States of America\",\"China\",\"United Kingdom\",\"Canada\",\"Israel\",\"Singapore\",\"South Korea\",\"The Netherlands\",\"Germany\",\"France\",\"Australia\",\"Ireland\",\"Finland\",\"Denmark\",\"Luxembourg\",\"Japan\",\"India\",\"Switzerland\",\"Sweden\",\"Hong Kong\",\"Spain\",\"Austria\",\"Estonia\",\"Taiwan\",\"Norway\",\"Saudi Arabia\",\"Belgium\",\"Poland\",\"Slovenia\",\"New Zealand\",\"Italy\",\"Russia\",\"Malta\",\"United Arab Emirates\",\"Portugal\",\"Czech Republic\",\"Iceland\",\"Lithuania\",\"Brazil\",\"Greece\",\"Slovakia\",\"Hungary\",\"Malaysia\",\"Mexico\",\"Chile\",\"Argentina\",\"Qatar\",\"Turkey\",\"Colombia\",\"Uruguay\",\"Bahrain\",\"Vietnam\",\"Indonesia\",\"Tunisia\",\"South Africa\",\"Morocco\",\"Armenia\",\"Sri Lanka\",\"Egypt\",\"Kenya\",\"Nigeria\",\"Pakistan\"],\"legendgroup\":\"\",\"locationmode\":\"country names\",\"locations\":[\"United States of America\",\"China\",\"United Kingdom\",\"Canada\",\"Israel\",\"Singapore\",\"South Korea\",\"The Netherlands\",\"Germany\",\"France\",\"Australia\",\"Ireland\",\"Finland\",\"Denmark\",\"Luxembourg\",\"Japan\",\"India\",\"Switzerland\",\"Sweden\",\"Hong Kong\",\"Spain\",\"Austria\",\"Estonia\",\"Taiwan\",\"Norway\",\"Saudi Arabia\",\"Belgium\",\"Poland\",\"Slovenia\",\"New Zealand\",\"Italy\",\"Russia\",\"Malta\",\"United Arab Emirates\",\"Portugal\",\"Czech Republic\",\"Iceland\",\"Lithuania\",\"Brazil\",\"Greece\",\"Slovakia\",\"Hungary\",\"Malaysia\",\"Mexico\",\"Chile\",\"Argentina\",\"Qatar\",\"Turkey\",\"Colombia\",\"Uruguay\",\"Bahrain\",\"Vietnam\",\"Indonesia\",\"Tunisia\",\"South Africa\",\"Morocco\",\"Armenia\",\"Sri Lanka\",\"Egypt\",\"Kenya\",\"Nigeria\",\"Pakistan\"],\"marker\":{\"color\":[94.02,100.0,71.43,77.05,67.58,84.3,85.23,81.99,77.22,77.15,63.43,89.5,71.6,74.08,94.88,84.58,33.91,78.43,75.19,96.11,73.32,64.49,63.65,77.86,76.2,70.8,65.1,70.96,72.06,69.78,64.76,62.59,67.12,79.16,64.2,64.26,72.45,63.19,62.61,55.44,65.36,69.17,62.04,41.85,61.97,56.15,67.97,40.74,54.8,58.77,60.39,55.76,47.52,38.59,45.73,44.88,37.84,34.64,38.84,14.11,0.0,2.43],\"coloraxis\":\"coloraxis\",\"size\":[0.07543209511585311,0.08004270767353636,0.057820694483700655,0.062231173757754554,0.05478801406830081,0.06789226604291837,0.06861613386357743,0.06609200136208856,0.06236428419654982,0.06230947616167825,0.051508687855378515,0.0719329895453079,0.05795439326055605,0.05990279273304312,0.07609646997130003,0.06811025987767032,0.027866432480028007,0.06331120579411871,0.060773630321959114,0.07704591407752821,0.05930610589740751,0.05234732203852157,0.05168280185300098,0.06286524699488484,0.06156535565815473,0.05732506661926935,0.052829613644532106,0.057450963635676346,0.058316076822835905,0.05652210032432553,0.05256082406562509,0.05084360996132945,0.05442505197807325,0.06388205571128583,0.05211795426210677,0.052165413980679434,0.05862261914576183,0.05131871073121912,0.05085945029080874,0.04516455195437366,0.053035109879141666,0.05604158671693895,0.050407902543845765,0.034280646476832884,0.05035243525170497,0.045729930872837804,0.0550956396352001,0.03338641901763339,0.04465464054043148,0.04781349690900521,0.049099640086343786,0.045419410190859835,0.038836023785198216,0.031652079063757436,0.03740014667095509,0.03671758293516286,0.031046368405325587,0.028457872816484295,0.03185390111390507,0.01168974129374354,0.0,0.002022952451224836],\"sizemode\":\"area\",\"sizeref\":0.00020010676918384089,\"symbol\":\"circle\"},\"mode\":\"markers\",\"name\":\"\",\"showlegend\":false,\"type\":\"scattergeo\"}],                        {\"template\":{\"data\":{\"barpolar\":[{\"marker\":{\"line\":{\"color\":\"white\",\"width\":0.5},\"pattern\":{\"fillmode\":\"overlay\",\"size\":10,\"solidity\":0.2}},\"type\":\"barpolar\"}],\"bar\":[{\"error_x\":{\"color\":\"#2a3f5f\"},\"error_y\":{\"color\":\"#2a3f5f\"},\"marker\":{\"line\":{\"color\":\"white\",\"width\":0.5},\"pattern\":{\"fillmode\":\"overlay\",\"size\":10,\"solidity\":0.2}},\"type\":\"bar\"}],\"carpet\":[{\"aaxis\":{\"endlinecolor\":\"#2a3f5f\",\"gridcolor\":\"#C8D4E3\",\"linecolor\":\"#C8D4E3\",\"minorgridcolor\":\"#C8D4E3\",\"startlinecolor\":\"#2a3f5f\"},\"baxis\":{\"endlinecolor\":\"#2a3f5f\",\"gridcolor\":\"#C8D4E3\",\"linecolor\":\"#C8D4E3\",\"minorgridcolor\":\"#C8D4E3\",\"startlinecolor\":\"#2a3f5f\"},\"type\":\"carpet\"}],\"choropleth\":[{\"colorbar\":{\"outlinewidth\":0,\"ticks\":\"\"},\"type\":\"choropleth\"}],\"contourcarpet\":[{\"colorbar\":{\"outlinewidth\":0,\"ticks\":\"\"},\"type\":\"contourcarpet\"}],\"contour\":[{\"colorbar\":{\"outlinewidth\":0,\"ticks\":\"\"},\"colorscale\":[[0.0,\"#0d0887\"],[0.1111111111111111,\"#46039f\"],[0.2222222222222222,\"#7201a8\"],[0.3333333333333333,\"#9c179e\"],[0.4444444444444444,\"#bd3786\"],[0.5555555555555556,\"#d8576b\"],[0.6666666666666666,\"#ed7953\"],[0.7777777777777778,\"#fb9f3a\"],[0.8888888888888888,\"#fdca26\"],[1.0,\"#f0f921\"]],\"type\":\"contour\"}],\"heatmapgl\":[{\"colorbar\":{\"outlinewidth\":0,\"ticks\":\"\"},\"colorscale\":[[0.0,\"#0d0887\"],[0.1111111111111111,\"#46039f\"],[0.2222222222222222,\"#7201a8\"],[0.3333333333333333,\"#9c179e\"],[0.4444444444444444,\"#bd3786\"],[0.5555555555555556,\"#d8576b\"],[0.6666666666666666,\"#ed7953\"],[0.7777777777777778,\"#fb9f3a\"],[0.8888888888888888,\"#fdca26\"],[1.0,\"#f0f921\"]],\"type\":\"heatmapgl\"}],\"heatmap\":[{\"colorbar\":{\"outlinewidth\":0,\"ticks\":\"\"},\"colorscale\":[[0.0,\"#0d0887\"],[0.1111111111111111,\"#46039f\"],[0.2222222222222222,\"#7201a8\"],[0.3333333333333333,\"#9c179e\"],[0.4444444444444444,\"#bd3786\"],[0.5555555555555556,\"#d8576b\"],[0.6666666666666666,\"#ed7953\"],[0.7777777777777778,\"#fb9f3a\"],[0.8888888888888888,\"#fdca26\"],[1.0,\"#f0f921\"]],\"type\":\"heatmap\"}],\"histogram2dcontour\":[{\"colorbar\":{\"outlinewidth\":0,\"ticks\":\"\"},\"colorscale\":[[0.0,\"#0d0887\"],[0.1111111111111111,\"#46039f\"],[0.2222222222222222,\"#7201a8\"],[0.3333333333333333,\"#9c179e\"],[0.4444444444444444,\"#bd3786\"],[0.5555555555555556,\"#d8576b\"],[0.6666666666666666,\"#ed7953\"],[0.7777777777777778,\"#fb9f3a\"],[0.8888888888888888,\"#fdca26\"],[1.0,\"#f0f921\"]],\"type\":\"histogram2dcontour\"}],\"histogram2d\":[{\"colorbar\":{\"outlinewidth\":0,\"ticks\":\"\"},\"colorscale\":[[0.0,\"#0d0887\"],[0.1111111111111111,\"#46039f\"],[0.2222222222222222,\"#7201a8\"],[0.3333333333333333,\"#9c179e\"],[0.4444444444444444,\"#bd3786\"],[0.5555555555555556,\"#d8576b\"],[0.6666666666666666,\"#ed7953\"],[0.7777777777777778,\"#fb9f3a\"],[0.8888888888888888,\"#fdca26\"],[1.0,\"#f0f921\"]],\"type\":\"histogram2d\"}],\"histogram\":[{\"marker\":{\"pattern\":{\"fillmode\":\"overlay\",\"size\":10,\"solidity\":0.2}},\"type\":\"histogram\"}],\"mesh3d\":[{\"colorbar\":{\"outlinewidth\":0,\"ticks\":\"\"},\"type\":\"mesh3d\"}],\"parcoords\":[{\"line\":{\"colorbar\":{\"outlinewidth\":0,\"ticks\":\"\"}},\"type\":\"parcoords\"}],\"pie\":[{\"automargin\":true,\"type\":\"pie\"}],\"scatter3d\":[{\"line\":{\"colorbar\":{\"outlinewidth\":0,\"ticks\":\"\"}},\"marker\":{\"colorbar\":{\"outlinewidth\":0,\"ticks\":\"\"}},\"type\":\"scatter3d\"}],\"scattercarpet\":[{\"marker\":{\"colorbar\":{\"outlinewidth\":0,\"ticks\":\"\"}},\"type\":\"scattercarpet\"}],\"scattergeo\":[{\"marker\":{\"colorbar\":{\"outlinewidth\":0,\"ticks\":\"\"}},\"type\":\"scattergeo\"}],\"scattergl\":[{\"marker\":{\"colorbar\":{\"outlinewidth\":0,\"ticks\":\"\"}},\"type\":\"scattergl\"}],\"scattermapbox\":[{\"marker\":{\"colorbar\":{\"outlinewidth\":0,\"ticks\":\"\"}},\"type\":\"scattermapbox\"}],\"scatterpolargl\":[{\"marker\":{\"colorbar\":{\"outlinewidth\":0,\"ticks\":\"\"}},\"type\":\"scatterpolargl\"}],\"scatterpolar\":[{\"marker\":{\"colorbar\":{\"outlinewidth\":0,\"ticks\":\"\"}},\"type\":\"scatterpolar\"}],\"scatter\":[{\"fillpattern\":{\"fillmode\":\"overlay\",\"size\":10,\"solidity\":0.2},\"type\":\"scatter\"}],\"scatterternary\":[{\"marker\":{\"colorbar\":{\"outlinewidth\":0,\"ticks\":\"\"}},\"type\":\"scatterternary\"}],\"surface\":[{\"colorbar\":{\"outlinewidth\":0,\"ticks\":\"\"},\"colorscale\":[[0.0,\"#0d0887\"],[0.1111111111111111,\"#46039f\"],[0.2222222222222222,\"#7201a8\"],[0.3333333333333333,\"#9c179e\"],[0.4444444444444444,\"#bd3786\"],[0.5555555555555556,\"#d8576b\"],[0.6666666666666666,\"#ed7953\"],[0.7777777777777778,\"#fb9f3a\"],[0.8888888888888888,\"#fdca26\"],[1.0,\"#f0f921\"]],\"type\":\"surface\"}],\"table\":[{\"cells\":{\"fill\":{\"color\":\"#EBF0F8\"},\"line\":{\"color\":\"white\"}},\"header\":{\"fill\":{\"color\":\"#C8D4E3\"},\"line\":{\"color\":\"white\"}},\"type\":\"table\"}]},\"layout\":{\"annotationdefaults\":{\"arrowcolor\":\"#2a3f5f\",\"arrowhead\":0,\"arrowwidth\":1},\"autotypenumbers\":\"strict\",\"coloraxis\":{\"colorbar\":{\"outlinewidth\":0,\"ticks\":\"\"}},\"colorscale\":{\"diverging\":[[0,\"#8e0152\"],[0.1,\"#c51b7d\"],[0.2,\"#de77ae\"],[0.3,\"#f1b6da\"],[0.4,\"#fde0ef\"],[0.5,\"#f7f7f7\"],[0.6,\"#e6f5d0\"],[0.7,\"#b8e186\"],[0.8,\"#7fbc41\"],[0.9,\"#4d9221\"],[1,\"#276419\"]],\"sequential\":[[0.0,\"#0d0887\"],[0.1111111111111111,\"#46039f\"],[0.2222222222222222,\"#7201a8\"],[0.3333333333333333,\"#9c179e\"],[0.4444444444444444,\"#bd3786\"],[0.5555555555555556,\"#d8576b\"],[0.6666666666666666,\"#ed7953\"],[0.7777777777777778,\"#fb9f3a\"],[0.8888888888888888,\"#fdca26\"],[1.0,\"#f0f921\"]],\"sequentialminus\":[[0.0,\"#0d0887\"],[0.1111111111111111,\"#46039f\"],[0.2222222222222222,\"#7201a8\"],[0.3333333333333333,\"#9c179e\"],[0.4444444444444444,\"#bd3786\"],[0.5555555555555556,\"#d8576b\"],[0.6666666666666666,\"#ed7953\"],[0.7777777777777778,\"#fb9f3a\"],[0.8888888888888888,\"#fdca26\"],[1.0,\"#f0f921\"]]},\"colorway\":[\"#636efa\",\"#EF553B\",\"#00cc96\",\"#ab63fa\",\"#FFA15A\",\"#19d3f3\",\"#FF6692\",\"#B6E880\",\"#FF97FF\",\"#FECB52\"],\"font\":{\"color\":\"#2a3f5f\"},\"geo\":{\"bgcolor\":\"white\",\"lakecolor\":\"white\",\"landcolor\":\"white\",\"showlakes\":true,\"showland\":true,\"subunitcolor\":\"#C8D4E3\"},\"hoverlabel\":{\"align\":\"left\"},\"hovermode\":\"closest\",\"mapbox\":{\"style\":\"light\"},\"paper_bgcolor\":\"white\",\"plot_bgcolor\":\"white\",\"polar\":{\"angularaxis\":{\"gridcolor\":\"#EBF0F8\",\"linecolor\":\"#EBF0F8\",\"ticks\":\"\"},\"bgcolor\":\"white\",\"radialaxis\":{\"gridcolor\":\"#EBF0F8\",\"linecolor\":\"#EBF0F8\",\"ticks\":\"\"}},\"scene\":{\"xaxis\":{\"backgroundcolor\":\"white\",\"gridcolor\":\"#DFE8F3\",\"gridwidth\":2,\"linecolor\":\"#EBF0F8\",\"showbackground\":true,\"ticks\":\"\",\"zerolinecolor\":\"#EBF0F8\"},\"yaxis\":{\"backgroundcolor\":\"white\",\"gridcolor\":\"#DFE8F3\",\"gridwidth\":2,\"linecolor\":\"#EBF0F8\",\"showbackground\":true,\"ticks\":\"\",\"zerolinecolor\":\"#EBF0F8\"},\"zaxis\":{\"backgroundcolor\":\"white\",\"gridcolor\":\"#DFE8F3\",\"gridwidth\":2,\"linecolor\":\"#EBF0F8\",\"showbackground\":true,\"ticks\":\"\",\"zerolinecolor\":\"#EBF0F8\"}},\"shapedefaults\":{\"line\":{\"color\":\"#2a3f5f\"}},\"ternary\":{\"aaxis\":{\"gridcolor\":\"#DFE8F3\",\"linecolor\":\"#A2B1C6\",\"ticks\":\"\"},\"baxis\":{\"gridcolor\":\"#DFE8F3\",\"linecolor\":\"#A2B1C6\",\"ticks\":\"\"},\"bgcolor\":\"white\",\"caxis\":{\"gridcolor\":\"#DFE8F3\",\"linecolor\":\"#A2B1C6\",\"ticks\":\"\"}},\"title\":{\"x\":0.05},\"xaxis\":{\"automargin\":true,\"gridcolor\":\"#EBF0F8\",\"linecolor\":\"#EBF0F8\",\"ticks\":\"\",\"title\":{\"standoff\":15},\"zerolinecolor\":\"#EBF0F8\",\"zerolinewidth\":2},\"yaxis\":{\"automargin\":true,\"gridcolor\":\"#EBF0F8\",\"linecolor\":\"#EBF0F8\",\"ticks\":\"\",\"title\":{\"standoff\":15},\"zerolinecolor\":\"#EBF0F8\",\"zerolinewidth\":2}}},\"geo\":{\"domain\":{\"x\":[0.0,1.0],\"y\":[0.0,1.0]},\"projection\":{\"type\":\"natural earth\"},\"center\":{}},\"coloraxis\":{\"colorbar\":{\"title\":{\"text\":\"Infrastructure\"}},\"colorscale\":[[0.0,\"rgb(217,30,30)\"],[0.25,\"rgb(242,143,56)\"],[0.5,\"rgb(242,211,56)\"],[0.75,\"rgb(10,136,186)\"],[1.0,\"rgb(12,51,131)\"]],\"cmin\":0,\"cmax\":100},\"legend\":{\"tracegroupgap\":0,\"itemsizing\":\"constant\"},\"title\":{\"text\":\"AI Infrastructure Across the Globe\"},\"margin\":{\"t\":40,\"b\":0,\"l\":5,\"r\":5},\"showlegend\":true,\"width\":800,\"height\":400,\"autosize\":false},                        {\"responsive\": true}                    ).then(function(){\n",
       "                            \n",
       "var gd = document.getElementById('3333cfd4-16c3-4077-bd3a-805755c24011');\n",
       "var x = new MutationObserver(function (mutations, observer) {{\n",
       "        var display = window.getComputedStyle(gd).display;\n",
       "        if (!display || display === 'none') {{\n",
       "            console.log([gd, 'removed!']);\n",
       "            Plotly.purge(gd);\n",
       "            observer.disconnect();\n",
       "        }}\n",
       "}});\n",
       "\n",
       "// Listen for the removal of the full notebook cells\n",
       "var notebookContainer = gd.closest('#notebook-container');\n",
       "if (notebookContainer) {{\n",
       "    x.observe(notebookContainer, {childList: true});\n",
       "}}\n",
       "\n",
       "// Listen for the clearing of the current output cell\n",
       "var outputEl = gd.closest('.output');\n",
       "if (outputEl) {{\n",
       "    x.observe(outputEl, {childList: true});\n",
       "}}\n",
       "\n",
       "                        })                };                });            </script>        </div>"
      ]
     },
     "metadata": {},
     "output_type": "display_data"
    }
   ],
   "source": [
    "# set the size of the geo bubble\n",
    "def set_infrastructure_size(value):\n",
    "    '''\n",
    "    Takes the numeric value of a parameter to visualize on a map (Plotly Geo-Scatter plot)\n",
    "    Returns a number to indicate the size of a bubble for a country which numeric attribute value \n",
    "    was supplied as an input\n",
    "    '''\n",
    "    result = np.log(1+value/1200)\n",
    "\n",
    "    if result < 0:\n",
    "        result = 0.001\n",
    "    return result\n",
    "\n",
    "infra_df['Size'] = infra_df.apply(lambda x: set_infrastructure_size(x['Infrastructure']), axis=1)\n",
    "\n",
    "fig = px.scatter_geo(\n",
    "    infra_df, locations=\"Country\", locationmode='country names', \n",
    "    color=\"Infrastructure\", \n",
    "    size='Size', hover_name=\"Country\", \n",
    "    range_color= [0, 100], \n",
    "    projection=\"natural earth\",\n",
    "    title='AI Infrastructure Across the Globe', \n",
    "    color_continuous_scale=\"portland_r\")\n",
    "\n",
    "# Update visual layout\n",
    "fig.update_layout(\n",
    "    showlegend=True,\n",
    "    width=800,\n",
    "    height=400,\n",
    "    autosize=False,\n",
    "    margin=dict(t=40, b=0, l=5, r=5),\n",
    "    template=\"plotly_white\",\n",
    ")\n",
    "\n",
    "fig.show()"
   ]
  },
  {
   "cell_type": "code",
   "execution_count": null,
   "id": "3cf471e2",
   "metadata": {
    "_kg_hide-input": true,
    "execution": {
     "iopub.execute_input": "2023-08-09T09:38:20.799611Z",
     "iopub.status.busy": "2023-08-09T09:38:20.799204Z",
     "iopub.status.idle": "2023-08-09T09:38:20.815700Z",
     "shell.execute_reply": "2023-08-09T09:38:20.814675Z"
    },
    "papermill": {
     "duration": 0.065199,
     "end_time": "2023-08-09T09:38:20.818026",
     "exception": false,
     "start_time": "2023-08-09T09:38:20.752827",
     "status": "completed"
    },
    "tags": []
   },
   "outputs": [
    {
     "data": {
      "text/html": [
       "<style type=\"text/css\">\n",
       "#T_b6561_row0_col1 {\n",
       "  background-color: #800000;\n",
       "  color: #f1f1f1;\n",
       "}\n",
       "#T_b6561_row1_col1 {\n",
       "  background-color: #de0000;\n",
       "  color: #f1f1f1;\n",
       "}\n",
       "#T_b6561_row2_col1 {\n",
       "  background-color: #fc0000;\n",
       "  color: #f1f1f1;\n",
       "}\n",
       "#T_b6561_row3_col1 {\n",
       "  background-color: #ff2525;\n",
       "  color: #f1f1f1;\n",
       "}\n",
       "#T_b6561_row4_col1 {\n",
       "  background-color: #fdfdff;\n",
       "  color: #000000;\n",
       "}\n",
       "#T_b6561_row5_col1 {\n",
       "  background-color: #2929ff;\n",
       "  color: #f1f1f1;\n",
       "}\n",
       "#T_b6561_row6_col1 {\n",
       "  background-color: #0909ff;\n",
       "  color: #f1f1f1;\n",
       "}\n",
       "#T_b6561_row7_col1 {\n",
       "  background-color: #0000fd;\n",
       "  color: #f1f1f1;\n",
       "}\n",
       "#T_b6561_row8_col1 {\n",
       "  background-color: #0000ac;\n",
       "  color: #f1f1f1;\n",
       "}\n",
       "#T_b6561_row9_col1 {\n",
       "  background-color: #00004c;\n",
       "  color: #f1f1f1;\n",
       "}\n",
       "</style>\n",
       "<table id=\"T_b6561\">\n",
       "  <thead>\n",
       "    <tr>\n",
       "      <th class=\"blank level0\" >&nbsp;</th>\n",
       "      <th id=\"T_b6561_level0_col0\" class=\"col_heading level0 col0\" >Country</th>\n",
       "      <th id=\"T_b6561_level0_col1\" class=\"col_heading level0 col1\" >Infrastructure</th>\n",
       "    </tr>\n",
       "  </thead>\n",
       "  <tbody>\n",
       "    <tr>\n",
       "      <th id=\"T_b6561_level0_row0\" class=\"row_heading level0 row0\" >1</th>\n",
       "      <td id=\"T_b6561_row0_col0\" class=\"data row0 col0\" >China</td>\n",
       "      <td id=\"T_b6561_row0_col1\" class=\"data row0 col1\" >100.000000</td>\n",
       "    </tr>\n",
       "    <tr>\n",
       "      <th id=\"T_b6561_level0_row1\" class=\"row_heading level0 row1\" >19</th>\n",
       "      <td id=\"T_b6561_row1_col0\" class=\"data row1 col0\" >Hong Kong</td>\n",
       "      <td id=\"T_b6561_row1_col1\" class=\"data row1 col1\" >96.110000</td>\n",
       "    </tr>\n",
       "    <tr>\n",
       "      <th id=\"T_b6561_level0_row2\" class=\"row_heading level0 row2\" >14</th>\n",
       "      <td id=\"T_b6561_row2_col0\" class=\"data row2 col0\" >Luxembourg</td>\n",
       "      <td id=\"T_b6561_row2_col1\" class=\"data row2 col1\" >94.880000</td>\n",
       "    </tr>\n",
       "    <tr>\n",
       "      <th id=\"T_b6561_level0_row3\" class=\"row_heading level0 row3\" >0</th>\n",
       "      <td id=\"T_b6561_row3_col0\" class=\"data row3 col0\" >United States of America</td>\n",
       "      <td id=\"T_b6561_row3_col1\" class=\"data row3 col1\" >94.020000</td>\n",
       "    </tr>\n",
       "    <tr>\n",
       "      <th id=\"T_b6561_level0_row4\" class=\"row_heading level0 row4\" >11</th>\n",
       "      <td id=\"T_b6561_row4_col0\" class=\"data row4 col0\" >Ireland</td>\n",
       "      <td id=\"T_b6561_row4_col1\" class=\"data row4 col1\" >89.500000</td>\n",
       "    </tr>\n",
       "    <tr>\n",
       "      <th id=\"T_b6561_level0_row5\" class=\"row_heading level0 row5\" >6</th>\n",
       "      <td id=\"T_b6561_row5_col0\" class=\"data row5 col0\" >South Korea</td>\n",
       "      <td id=\"T_b6561_row5_col1\" class=\"data row5 col1\" >85.230000</td>\n",
       "    </tr>\n",
       "    <tr>\n",
       "      <th id=\"T_b6561_level0_row6\" class=\"row_heading level0 row6\" >15</th>\n",
       "      <td id=\"T_b6561_row6_col0\" class=\"data row6 col0\" >Japan</td>\n",
       "      <td id=\"T_b6561_row6_col1\" class=\"data row6 col1\" >84.580000</td>\n",
       "    </tr>\n",
       "    <tr>\n",
       "      <th id=\"T_b6561_level0_row7\" class=\"row_heading level0 row7\" >5</th>\n",
       "      <td id=\"T_b6561_row7_col0\" class=\"data row7 col0\" >Singapore</td>\n",
       "      <td id=\"T_b6561_row7_col1\" class=\"data row7 col1\" >84.300000</td>\n",
       "    </tr>\n",
       "    <tr>\n",
       "      <th id=\"T_b6561_level0_row8\" class=\"row_heading level0 row8\" >7</th>\n",
       "      <td id=\"T_b6561_row8_col0\" class=\"data row8 col0\" >The Netherlands</td>\n",
       "      <td id=\"T_b6561_row8_col1\" class=\"data row8 col1\" >81.990000</td>\n",
       "    </tr>\n",
       "    <tr>\n",
       "      <th id=\"T_b6561_level0_row9\" class=\"row_heading level0 row9\" >33</th>\n",
       "      <td id=\"T_b6561_row9_col0\" class=\"data row9 col0\" >United Arab Emirates</td>\n",
       "      <td id=\"T_b6561_row9_col1\" class=\"data row9 col1\" >79.160000</td>\n",
       "    </tr>\n",
       "  </tbody>\n",
       "</table>\n"
      ],
      "text/plain": [
       "<pandas.io.formats.style.Styler at 0x7e9ac22e39a0>"
      ]
     },
     "execution_count": 58,
     "metadata": {},
     "output_type": "execute_result"
    }
   ],
   "source": [
    "infra_df.sort_values('Infrastructure', \n",
    "                   ascending=False)[\n",
    "                        [ \n",
    "                          'Country',\n",
    "                          'Infrastructure'\n",
    "                        ]\n",
    "][:10].style.background_gradient(cmap='seismic')"
   ]
  },
  {
   "cell_type": "markdown",
   "id": "df35487c",
   "metadata": {
    "papermill": {
     "duration": 0.044418,
     "end_time": "2023-08-09T09:38:20.907143",
     "exception": false,
     "start_time": "2023-08-09T09:38:20.862725",
     "status": "completed"
    },
    "tags": []
   },
   "source": [
    "# <div style=\"color:white;background-color:#1d1545;padding:3%;border-radius:50px 50px;font-size:1em;text-align:center\">Operating Environment Insights</div>"
   ]
  },
  {
   "cell_type": "code",
   "execution_count": null,
   "id": "724c35b9",
   "metadata": {
    "_kg_hide-input": true,
    "execution": {
     "iopub.execute_input": "2023-08-09T09:38:20.997619Z",
     "iopub.status.busy": "2023-08-09T09:38:20.997206Z",
     "iopub.status.idle": "2023-08-09T09:38:21.003681Z",
     "shell.execute_reply": "2023-08-09T09:38:21.002575Z"
    },
    "papermill": {
     "duration": 0.05462,
     "end_time": "2023-08-09T09:38:21.006024",
     "exception": false,
     "start_time": "2023-08-09T09:38:20.951404",
     "status": "completed"
    },
    "tags": []
   },
   "outputs": [],
   "source": [
    "ops_df = df[['Country','Region', 'Cluster', 'Income group', 'Political regime', 'Operating Environment']]"
   ]
  },
  {
   "cell_type": "markdown",
   "id": "77062cdb",
   "metadata": {
    "papermill": {
     "duration": 0.046046,
     "end_time": "2023-08-09T09:38:21.097300",
     "exception": false,
     "start_time": "2023-08-09T09:38:21.051254",
     "status": "completed"
    },
    "tags": []
   },
   "source": [
    "## <div style=\"font-size:20px;text-align:center;color:black;border-bottom:5px #0026d6 solid;padding-bottom:3%\">Operating Environment by Regions</div>"
   ]
  },
  {
   "cell_type": "code",
   "execution_count": null,
   "id": "a3624583",
   "metadata": {
    "_kg_hide-input": true,
    "execution": {
     "iopub.execute_input": "2023-08-09T09:38:21.188829Z",
     "iopub.status.busy": "2023-08-09T09:38:21.188384Z",
     "iopub.status.idle": "2023-08-09T09:38:21.249057Z",
     "shell.execute_reply": "2023-08-09T09:38:21.247980Z"
    },
    "papermill": {
     "duration": 0.109866,
     "end_time": "2023-08-09T09:38:21.251395",
     "exception": false,
     "start_time": "2023-08-09T09:38:21.141529",
     "status": "completed"
    },
    "tags": []
   },
   "outputs": [
    {
     "data": {
      "text/html": [
       "<div>                            <div id=\"518f705a-6a16-43f8-9bc8-672fa762a37c\" class=\"plotly-graph-div\" style=\"height:525px; width:100%;\"></div>            <script type=\"text/javascript\">                require([\"plotly\"], function(Plotly) {                    window.PLOTLYENV=window.PLOTLYENV || {};                                    if (document.getElementById(\"518f705a-6a16-43f8-9bc8-672fa762a37c\")) {                    Plotly.newPlot(                        \"518f705a-6a16-43f8-9bc8-672fa762a37c\",                        [{\"alignmentgroup\":\"True\",\"box\":{\"visible\":true},\"customdata\":[[\"United States of America\",\"Power players\",\"High\",\"Liberal democracy\"],[\"China\",\"Power players\",\"Upper middle\",\"Closed autocracy\"],[\"United Kingdom\",\"Traditional champions\",\"High\",\"Liberal democracy\"],[\"Canada\",\"Traditional champions\",\"High\",\"Liberal democracy\"],[\"Israel\",\"Rising stars\",\"High\",\"Liberal democracy\"],[\"Singapore\",\"Rising stars\",\"High\",\"Electoral democracy\"],[\"South Korea\",\"Rising stars\",\"High\",\"Liberal democracy\"],[\"The Netherlands\",\"Rising stars\",\"High\",\"Liberal democracy\"],[\"Germany\",\"Traditional champions\",\"High\",\"Liberal democracy\"],[\"France\",\"Traditional champions\",\"High\",\"Liberal democracy\"],[\"Australia\",\"Rising stars\",\"High\",\"Liberal democracy\"],[\"Ireland\",\"Rising stars\",\"High\",\"Liberal democracy\"],[\"Finland\",\"Rising stars\",\"High\",\"Liberal democracy\"],[\"Denmark\",\"Rising stars\",\"High\",\"Liberal democracy\"],[\"Luxembourg\",\"Waking up\",\"High\",\"Liberal democracy\"],[\"Japan\",\"Rising stars\",\"High\",\"Liberal democracy\"],[\"India\",\"Waking up\",\"Lower middle\",\"Electoral autocracy\"],[\"Switzerland\",\"Rising stars\",\"High\",\"Liberal democracy\"],[\"Sweden\",\"Waking up\",\"High\",\"Liberal democracy\"],[\"Hong Kong\",\"Waking up\",\"High\",\"Electoral democracy\"],[\"Spain\",\"Rising stars\",\"High\",\"Liberal democracy\"],[\"Austria\",\"Waking up\",\"High\",\"Electoral democracy\"],[\"Estonia\",\"Waking up\",\"High\",\"Liberal democracy\"],[\"Taiwan\",\"Waking up\",\"High\",\"Liberal democracy\"],[\"Norway\",\"Waking up\",\"High\",\"Liberal democracy\"],[\"Saudi Arabia\",\"Waking up\",\"High\",\"Closed autocracy\"],[\"Belgium\",\"Waking up\",\"High\",\"Liberal democracy\"],[\"Poland\",\"Waking up\",\"High\",\"Electoral democracy\"],[\"Slovenia\",\"Waking up\",\"High\",\"Electoral democracy\"],[\"New Zealand\",\"Waking up\",\"High\",\"Liberal democracy\"],[\"Italy\",\"Waking up\",\"High\",\"Liberal democracy\"],[\"Russia\",\"Waking up\",\"Upper middle\",\"Electoral autocracy\"],[\"Malta\",\"Waking up\",\"High\",\"Electoral democracy\"],[\"United Arab Emirates\",\"Waking up\",\"High\",\"Closed autocracy\"],[\"Portugal\",\"Waking up\",\"High\",\"Electoral democracy\"],[\"Czech Republic\",\"Waking up\",\"High\",\"Electoral democracy\"],[\"Iceland\",\"Waking up\",\"High\",\"Liberal democracy\"],[\"Lithuania\",\"Waking up\",\"High\",\"Electoral democracy\"],[\"Brazil\",\"Waking up\",\"Upper middle\",\"Electoral democracy\"],[\"Greece\",\"Waking up\",\"High\",\"Liberal democracy\"],[\"Slovakia\",\"Waking up\",\"High\",\"Electoral democracy\"],[\"Hungary\",\"Waking up\",\"High\",\"Electoral autocracy\"],[\"Malaysia\",\"Waking up\",\"Upper middle\",\"Electoral autocracy\"],[\"Mexico\",\"Waking up\",\"Upper middle\",\"Electoral democracy\"],[\"Chile\",\"Waking up\",\"High\",\"Liberal democracy\"],[\"Argentina\",\"Waking up\",\"Upper middle\",\"Electoral democracy\"],[\"Qatar\",\"Waking up\",\"High\",\"Closed autocracy\"],[\"Turkey\",\"Waking up\",\"High\",\"Electoral democracy\"],[\"Colombia\",\"Waking up\",\"Upper middle\",\"Electoral democracy\"],[\"Uruguay\",\"Waking up\",\"High\",\"Liberal democracy\"],[\"Bahrain\",\"Waking up\",\"High\",\"Closed autocracy\"],[\"Vietnam\",\"Waking up\",\"Lower middle\",\"Closed autocracy\"],[\"Indonesia\",\"Waking up\",\"Lower middle\",\"Electoral democracy\"],[\"Tunisia\",\"Waking up\",\"Lower middle\",\"Electoral democracy\"],[\"South Africa\",\"Waking up\",\"Upper middle\",\"Electoral democracy\"],[\"Morocco\",\"Waking up\",\"Lower middle\",\"Closed autocracy\"],[\"Armenia\",\"Waking up\",\"Upper middle\",\"Electoral democracy\"],[\"Sri Lanka\",\"Nascent\",\"Lower middle\",\"Electoral democracy\"],[\"Egypt\",\"Nascent\",\"Lower middle\",\"Electoral autocracy\"],[\"Kenya\",\"Nascent\",\"Lower middle\",\"Electoral autocracy\"],[\"Nigeria\",\"Nascent\",\"Lower middle\",\"Electoral autocracy\"],[\"Pakistan\",\"Nascent\",\"Lower middle\",\"Electoral autocracy\"]],\"hovertemplate\":\"Region=%{x}\\u003cbr\\u003eOperating Environment=%{y}\\u003cbr\\u003eCountry=%{customdata[0]}\\u003cbr\\u003eCluster=%{customdata[1]}\\u003cbr\\u003eIncome group=%{customdata[2]}\\u003cbr\\u003ePolitical regime=%{customdata[3]}\\u003cextra\\u003e\\u003c\\u002fextra\\u003e\",\"legendgroup\":\"\",\"marker\":{\"color\":\"#636efa\"},\"name\":\"\",\"offsetgroup\":\"\",\"orientation\":\"v\",\"points\":\"all\",\"scalegroup\":\"True\",\"showlegend\":false,\"x\":[\"Americas\",\"Asia-Pacific\",\"Europe\",\"Americas\",\"Middle East\",\"Asia-Pacific\",\"Asia-Pacific\",\"Europe\",\"Europe\",\"Europe\",\"Asia-Pacific\",\"Europe\",\"Europe\",\"Europe\",\"Europe\",\"Asia-Pacific\",\"Asia-Pacific\",\"Europe\",\"Europe\",\"Asia-Pacific\",\"Europe\",\"Europe\",\"Europe\",\"Asia-Pacific\",\"Europe\",\"Middle East\",\"Europe\",\"Europe\",\"Europe\",\"Asia-Pacific\",\"Europe\",\"Europe\",\"Europe\",\"Middle East\",\"Europe\",\"Europe\",\"Europe\",\"Europe\",\"Americas\",\"Europe\",\"Europe\",\"Europe\",\"Asia-Pacific\",\"Americas\",\"Americas\",\"Americas\",\"Middle East\",\"Europe\",\"Americas\",\"Americas\",\"Middle East\",\"Asia-Pacific\",\"Asia-Pacific\",\"Africa\",\"Africa\",\"Africa\",\"Europe\",\"Asia-Pacific\",\"Middle East\",\"Africa\",\"Africa\",\"Asia-Pacific\"],\"x0\":\" \",\"xaxis\":\"x\",\"y\":[64.56,91.57,74.65,93.94,82.44,43.15,68.86,88.05,70.22,80.02,61.23,70.15,78.76,85.39,66.96,57.53,77.3,44.14,66.77,59.5,75.36,76.3,88.67,56.67,36.65,100.0,64.08,99.56,94.55,90.35,83.25,52.85,70.96,72.12,80.66,76.97,41.19,80.67,72.82,83.58,88.71,58.01,73.24,97.03,56.73,75.95,62.58,64.34,62.37,70.75,60.9,37.61,51.18,62.32,58.43,60.17,58.4,35.79,0.0,29.84,50.1,12.48],\"y0\":\" \",\"yaxis\":\"y\",\"type\":\"violin\"}],                        {\"template\":{\"data\":{\"histogram2dcontour\":[{\"type\":\"histogram2dcontour\",\"colorbar\":{\"outlinewidth\":0,\"ticks\":\"\"},\"colorscale\":[[0.0,\"#0d0887\"],[0.1111111111111111,\"#46039f\"],[0.2222222222222222,\"#7201a8\"],[0.3333333333333333,\"#9c179e\"],[0.4444444444444444,\"#bd3786\"],[0.5555555555555556,\"#d8576b\"],[0.6666666666666666,\"#ed7953\"],[0.7777777777777778,\"#fb9f3a\"],[0.8888888888888888,\"#fdca26\"],[1.0,\"#f0f921\"]]}],\"choropleth\":[{\"type\":\"choropleth\",\"colorbar\":{\"outlinewidth\":0,\"ticks\":\"\"}}],\"histogram2d\":[{\"type\":\"histogram2d\",\"colorbar\":{\"outlinewidth\":0,\"ticks\":\"\"},\"colorscale\":[[0.0,\"#0d0887\"],[0.1111111111111111,\"#46039f\"],[0.2222222222222222,\"#7201a8\"],[0.3333333333333333,\"#9c179e\"],[0.4444444444444444,\"#bd3786\"],[0.5555555555555556,\"#d8576b\"],[0.6666666666666666,\"#ed7953\"],[0.7777777777777778,\"#fb9f3a\"],[0.8888888888888888,\"#fdca26\"],[1.0,\"#f0f921\"]]}],\"heatmap\":[{\"type\":\"heatmap\",\"colorbar\":{\"outlinewidth\":0,\"ticks\":\"\"},\"colorscale\":[[0.0,\"#0d0887\"],[0.1111111111111111,\"#46039f\"],[0.2222222222222222,\"#7201a8\"],[0.3333333333333333,\"#9c179e\"],[0.4444444444444444,\"#bd3786\"],[0.5555555555555556,\"#d8576b\"],[0.6666666666666666,\"#ed7953\"],[0.7777777777777778,\"#fb9f3a\"],[0.8888888888888888,\"#fdca26\"],[1.0,\"#f0f921\"]]}],\"heatmapgl\":[{\"type\":\"heatmapgl\",\"colorbar\":{\"outlinewidth\":0,\"ticks\":\"\"},\"colorscale\":[[0.0,\"#0d0887\"],[0.1111111111111111,\"#46039f\"],[0.2222222222222222,\"#7201a8\"],[0.3333333333333333,\"#9c179e\"],[0.4444444444444444,\"#bd3786\"],[0.5555555555555556,\"#d8576b\"],[0.6666666666666666,\"#ed7953\"],[0.7777777777777778,\"#fb9f3a\"],[0.8888888888888888,\"#fdca26\"],[1.0,\"#f0f921\"]]}],\"contourcarpet\":[{\"type\":\"contourcarpet\",\"colorbar\":{\"outlinewidth\":0,\"ticks\":\"\"}}],\"contour\":[{\"type\":\"contour\",\"colorbar\":{\"outlinewidth\":0,\"ticks\":\"\"},\"colorscale\":[[0.0,\"#0d0887\"],[0.1111111111111111,\"#46039f\"],[0.2222222222222222,\"#7201a8\"],[0.3333333333333333,\"#9c179e\"],[0.4444444444444444,\"#bd3786\"],[0.5555555555555556,\"#d8576b\"],[0.6666666666666666,\"#ed7953\"],[0.7777777777777778,\"#fb9f3a\"],[0.8888888888888888,\"#fdca26\"],[1.0,\"#f0f921\"]]}],\"surface\":[{\"type\":\"surface\",\"colorbar\":{\"outlinewidth\":0,\"ticks\":\"\"},\"colorscale\":[[0.0,\"#0d0887\"],[0.1111111111111111,\"#46039f\"],[0.2222222222222222,\"#7201a8\"],[0.3333333333333333,\"#9c179e\"],[0.4444444444444444,\"#bd3786\"],[0.5555555555555556,\"#d8576b\"],[0.6666666666666666,\"#ed7953\"],[0.7777777777777778,\"#fb9f3a\"],[0.8888888888888888,\"#fdca26\"],[1.0,\"#f0f921\"]]}],\"mesh3d\":[{\"type\":\"mesh3d\",\"colorbar\":{\"outlinewidth\":0,\"ticks\":\"\"}}],\"scatter\":[{\"fillpattern\":{\"fillmode\":\"overlay\",\"size\":10,\"solidity\":0.2},\"type\":\"scatter\"}],\"parcoords\":[{\"type\":\"parcoords\",\"line\":{\"colorbar\":{\"outlinewidth\":0,\"ticks\":\"\"}}}],\"scatterpolargl\":[{\"type\":\"scatterpolargl\",\"marker\":{\"colorbar\":{\"outlinewidth\":0,\"ticks\":\"\"}}}],\"bar\":[{\"error_x\":{\"color\":\"#2a3f5f\"},\"error_y\":{\"color\":\"#2a3f5f\"},\"marker\":{\"line\":{\"color\":\"#E5ECF6\",\"width\":0.5},\"pattern\":{\"fillmode\":\"overlay\",\"size\":10,\"solidity\":0.2}},\"type\":\"bar\"}],\"scattergeo\":[{\"type\":\"scattergeo\",\"marker\":{\"colorbar\":{\"outlinewidth\":0,\"ticks\":\"\"}}}],\"scatterpolar\":[{\"type\":\"scatterpolar\",\"marker\":{\"colorbar\":{\"outlinewidth\":0,\"ticks\":\"\"}}}],\"histogram\":[{\"marker\":{\"pattern\":{\"fillmode\":\"overlay\",\"size\":10,\"solidity\":0.2}},\"type\":\"histogram\"}],\"scattergl\":[{\"type\":\"scattergl\",\"marker\":{\"colorbar\":{\"outlinewidth\":0,\"ticks\":\"\"}}}],\"scatter3d\":[{\"type\":\"scatter3d\",\"line\":{\"colorbar\":{\"outlinewidth\":0,\"ticks\":\"\"}},\"marker\":{\"colorbar\":{\"outlinewidth\":0,\"ticks\":\"\"}}}],\"scattermapbox\":[{\"type\":\"scattermapbox\",\"marker\":{\"colorbar\":{\"outlinewidth\":0,\"ticks\":\"\"}}}],\"scatterternary\":[{\"type\":\"scatterternary\",\"marker\":{\"colorbar\":{\"outlinewidth\":0,\"ticks\":\"\"}}}],\"scattercarpet\":[{\"type\":\"scattercarpet\",\"marker\":{\"colorbar\":{\"outlinewidth\":0,\"ticks\":\"\"}}}],\"carpet\":[{\"aaxis\":{\"endlinecolor\":\"#2a3f5f\",\"gridcolor\":\"white\",\"linecolor\":\"white\",\"minorgridcolor\":\"white\",\"startlinecolor\":\"#2a3f5f\"},\"baxis\":{\"endlinecolor\":\"#2a3f5f\",\"gridcolor\":\"white\",\"linecolor\":\"white\",\"minorgridcolor\":\"white\",\"startlinecolor\":\"#2a3f5f\"},\"type\":\"carpet\"}],\"table\":[{\"cells\":{\"fill\":{\"color\":\"#EBF0F8\"},\"line\":{\"color\":\"white\"}},\"header\":{\"fill\":{\"color\":\"#C8D4E3\"},\"line\":{\"color\":\"white\"}},\"type\":\"table\"}],\"barpolar\":[{\"marker\":{\"line\":{\"color\":\"#E5ECF6\",\"width\":0.5},\"pattern\":{\"fillmode\":\"overlay\",\"size\":10,\"solidity\":0.2}},\"type\":\"barpolar\"}],\"pie\":[{\"automargin\":true,\"type\":\"pie\"}]},\"layout\":{\"autotypenumbers\":\"strict\",\"colorway\":[\"#636efa\",\"#EF553B\",\"#00cc96\",\"#ab63fa\",\"#FFA15A\",\"#19d3f3\",\"#FF6692\",\"#B6E880\",\"#FF97FF\",\"#FECB52\"],\"font\":{\"color\":\"#2a3f5f\"},\"hovermode\":\"closest\",\"hoverlabel\":{\"align\":\"left\"},\"paper_bgcolor\":\"white\",\"plot_bgcolor\":\"#E5ECF6\",\"polar\":{\"bgcolor\":\"#E5ECF6\",\"angularaxis\":{\"gridcolor\":\"white\",\"linecolor\":\"white\",\"ticks\":\"\"},\"radialaxis\":{\"gridcolor\":\"white\",\"linecolor\":\"white\",\"ticks\":\"\"}},\"ternary\":{\"bgcolor\":\"#E5ECF6\",\"aaxis\":{\"gridcolor\":\"white\",\"linecolor\":\"white\",\"ticks\":\"\"},\"baxis\":{\"gridcolor\":\"white\",\"linecolor\":\"white\",\"ticks\":\"\"},\"caxis\":{\"gridcolor\":\"white\",\"linecolor\":\"white\",\"ticks\":\"\"}},\"coloraxis\":{\"colorbar\":{\"outlinewidth\":0,\"ticks\":\"\"}},\"colorscale\":{\"sequential\":[[0.0,\"#0d0887\"],[0.1111111111111111,\"#46039f\"],[0.2222222222222222,\"#7201a8\"],[0.3333333333333333,\"#9c179e\"],[0.4444444444444444,\"#bd3786\"],[0.5555555555555556,\"#d8576b\"],[0.6666666666666666,\"#ed7953\"],[0.7777777777777778,\"#fb9f3a\"],[0.8888888888888888,\"#fdca26\"],[1.0,\"#f0f921\"]],\"sequentialminus\":[[0.0,\"#0d0887\"],[0.1111111111111111,\"#46039f\"],[0.2222222222222222,\"#7201a8\"],[0.3333333333333333,\"#9c179e\"],[0.4444444444444444,\"#bd3786\"],[0.5555555555555556,\"#d8576b\"],[0.6666666666666666,\"#ed7953\"],[0.7777777777777778,\"#fb9f3a\"],[0.8888888888888888,\"#fdca26\"],[1.0,\"#f0f921\"]],\"diverging\":[[0,\"#8e0152\"],[0.1,\"#c51b7d\"],[0.2,\"#de77ae\"],[0.3,\"#f1b6da\"],[0.4,\"#fde0ef\"],[0.5,\"#f7f7f7\"],[0.6,\"#e6f5d0\"],[0.7,\"#b8e186\"],[0.8,\"#7fbc41\"],[0.9,\"#4d9221\"],[1,\"#276419\"]]},\"xaxis\":{\"gridcolor\":\"white\",\"linecolor\":\"white\",\"ticks\":\"\",\"title\":{\"standoff\":15},\"zerolinecolor\":\"white\",\"automargin\":true,\"zerolinewidth\":2},\"yaxis\":{\"gridcolor\":\"white\",\"linecolor\":\"white\",\"ticks\":\"\",\"title\":{\"standoff\":15},\"zerolinecolor\":\"white\",\"automargin\":true,\"zerolinewidth\":2},\"scene\":{\"xaxis\":{\"backgroundcolor\":\"#E5ECF6\",\"gridcolor\":\"white\",\"linecolor\":\"white\",\"showbackground\":true,\"ticks\":\"\",\"zerolinecolor\":\"white\",\"gridwidth\":2},\"yaxis\":{\"backgroundcolor\":\"#E5ECF6\",\"gridcolor\":\"white\",\"linecolor\":\"white\",\"showbackground\":true,\"ticks\":\"\",\"zerolinecolor\":\"white\",\"gridwidth\":2},\"zaxis\":{\"backgroundcolor\":\"#E5ECF6\",\"gridcolor\":\"white\",\"linecolor\":\"white\",\"showbackground\":true,\"ticks\":\"\",\"zerolinecolor\":\"white\",\"gridwidth\":2}},\"shapedefaults\":{\"line\":{\"color\":\"#2a3f5f\"}},\"annotationdefaults\":{\"arrowcolor\":\"#2a3f5f\",\"arrowhead\":0,\"arrowwidth\":1},\"geo\":{\"bgcolor\":\"white\",\"landcolor\":\"#E5ECF6\",\"subunitcolor\":\"white\",\"showland\":true,\"showlakes\":true,\"lakecolor\":\"white\"},\"title\":{\"x\":0.05},\"mapbox\":{\"style\":\"light\"}}},\"xaxis\":{\"anchor\":\"y\",\"domain\":[0.0,1.0],\"title\":{\"text\":\"Region\"}},\"yaxis\":{\"anchor\":\"x\",\"domain\":[0.0,1.0],\"title\":{\"text\":\"Operating Environment\"}},\"legend\":{\"tracegroupgap\":0},\"title\":{\"text\":\"Operating Environment by Regions\"},\"violinmode\":\"group\"},                        {\"responsive\": true}                    ).then(function(){\n",
       "                            \n",
       "var gd = document.getElementById('518f705a-6a16-43f8-9bc8-672fa762a37c');\n",
       "var x = new MutationObserver(function (mutations, observer) {{\n",
       "        var display = window.getComputedStyle(gd).display;\n",
       "        if (!display || display === 'none') {{\n",
       "            console.log([gd, 'removed!']);\n",
       "            Plotly.purge(gd);\n",
       "            observer.disconnect();\n",
       "        }}\n",
       "}});\n",
       "\n",
       "// Listen for the removal of the full notebook cells\n",
       "var notebookContainer = gd.closest('#notebook-container');\n",
       "if (notebookContainer) {{\n",
       "    x.observe(notebookContainer, {childList: true});\n",
       "}}\n",
       "\n",
       "// Listen for the clearing of the current output cell\n",
       "var outputEl = gd.closest('.output');\n",
       "if (outputEl) {{\n",
       "    x.observe(outputEl, {childList: true});\n",
       "}}\n",
       "\n",
       "                        })                };                });            </script>        </div>"
      ]
     },
     "metadata": {},
     "output_type": "display_data"
    }
   ],
   "source": [
    "fig = px.violin(ops_df, \n",
    "                y=\"Operating Environment\", \n",
    "                x=\"Region\", \n",
    "                box=True, \n",
    "                points=\"all\", \n",
    "                title=\"Operating Environment by Regions\", \n",
    "                hover_data=ops_df.columns)\n",
    "fig.show()"
   ]
  },
  {
   "cell_type": "code",
   "execution_count": null,
   "id": "167ab218",
   "metadata": {
    "_kg_hide-input": true,
    "execution": {
     "iopub.execute_input": "2023-08-09T09:38:21.342599Z",
     "iopub.status.busy": "2023-08-09T09:38:21.342181Z",
     "iopub.status.idle": "2023-08-09T09:38:21.424492Z",
     "shell.execute_reply": "2023-08-09T09:38:21.423474Z"
    },
    "papermill": {
     "duration": 0.130046,
     "end_time": "2023-08-09T09:38:21.426536",
     "exception": false,
     "start_time": "2023-08-09T09:38:21.296490",
     "status": "completed"
    },
    "tags": []
   },
   "outputs": [
    {
     "name": "stderr",
     "output_type": "stream",
     "text": [
      "/tmp/ipykernel_20/3807259875.py:17: SettingWithCopyWarning:\n",
      "\n",
      "\n",
      "A value is trying to be set on a copy of a slice from a DataFrame.\n",
      "Try using .loc[row_indexer,col_indexer] = value instead\n",
      "\n",
      "See the caveats in the documentation: https://pandas.pydata.org/pandas-docs/stable/user_guide/indexing.html#returning-a-view-versus-a-copy\n",
      "\n"
     ]
    },
    {
     "data": {
      "text/html": [
       "<div>                            <div id=\"42694d09-bc3d-491b-9f14-9308bf616265\" class=\"plotly-graph-div\" style=\"height:600px; width:100%;\"></div>            <script type=\"text/javascript\">                require([\"plotly\"], function(Plotly) {                    window.PLOTLYENV=window.PLOTLYENV || {};                                    if (document.getElementById(\"42694d09-bc3d-491b-9f14-9308bf616265\")) {                    Plotly.newPlot(                        \"42694d09-bc3d-491b-9f14-9308bf616265\",                        [{\"alignmentgroup\":\"True\",\"hovertemplate\":\"Ops_Environment_level=1 - Very high\\u003cbr\\u003eRegion=%{x}\\u003cbr\\u003eCountry_count=%{y}\\u003cextra\\u003e\\u003c\\u002fextra\\u003e\",\"legendgroup\":\"1 - Very high\",\"marker\":{\"color\":\"rgb(95, 70, 144)\",\"pattern\":{\"shape\":\"\"}},\"name\":\"1 - Very high\",\"offsetgroup\":\"1 - Very high\",\"orientation\":\"v\",\"showlegend\":true,\"textposition\":\"auto\",\"x\":[\"Americas\",\"Asia-Pacific\",\"Middle East\",\"Europe\"],\"xaxis\":\"x\",\"y\":[2,2,2,11],\"yaxis\":\"y\",\"type\":\"bar\"},{\"alignmentgroup\":\"True\",\"hovertemplate\":\"Ops_Environment_level=2 - High\\u003cbr\\u003eRegion=%{x}\\u003cbr\\u003eCountry_count=%{y}\\u003cextra\\u003e\\u003c\\u002fextra\\u003e\",\"legendgroup\":\"2 - High\",\"marker\":{\"color\":\"rgb(29, 105, 150)\",\"pattern\":{\"shape\":\"\"}},\"name\":\"2 - High\",\"offsetgroup\":\"2 - High\",\"orientation\":\"v\",\"showlegend\":true,\"textposition\":\"auto\",\"x\":[\"Africa\",\"Middle East\",\"Asia-Pacific\",\"Americas\",\"Europe\"],\"xaxis\":\"x\",\"y\":[2,3,4,5,12],\"yaxis\":\"y\",\"type\":\"bar\"},{\"alignmentgroup\":\"True\",\"hovertemplate\":\"Ops_Environment_level=3 - Moderate\\u003cbr\\u003eRegion=%{x}\\u003cbr\\u003eCountry_count=%{y}\\u003cextra\\u003e\\u003c\\u002fextra\\u003e\",\"legendgroup\":\"3 - Moderate\",\"marker\":{\"color\":\"rgb(56, 166, 165)\",\"pattern\":{\"shape\":\"\"}},\"name\":\"3 - Moderate\",\"offsetgroup\":\"3 - Moderate\",\"orientation\":\"v\",\"showlegend\":true,\"textposition\":\"auto\",\"x\":[\"Americas\",\"Africa\",\"Asia-Pacific\",\"Europe\"],\"xaxis\":\"x\",\"y\":[1,2,5,5],\"yaxis\":\"y\",\"type\":\"bar\"},{\"alignmentgroup\":\"True\",\"hovertemplate\":\"Ops_Environment_level=4 - Low\\u003cbr\\u003eRegion=%{x}\\u003cbr\\u003eCountry_count=%{y}\\u003cextra\\u003e\\u003c\\u002fextra\\u003e\",\"legendgroup\":\"4 - Low\",\"marker\":{\"color\":\"rgb(15, 133, 84)\",\"pattern\":{\"shape\":\"\"}},\"name\":\"4 - Low\",\"offsetgroup\":\"4 - Low\",\"orientation\":\"v\",\"showlegend\":true,\"textposition\":\"auto\",\"x\":[\"Africa\",\"Europe\",\"Asia-Pacific\"],\"xaxis\":\"x\",\"y\":[1,1,2],\"yaxis\":\"y\",\"type\":\"bar\"},{\"alignmentgroup\":\"True\",\"hovertemplate\":\"Ops_Environment_level=5 - Very low\\u003cbr\\u003eRegion=%{x}\\u003cbr\\u003eCountry_count=%{y}\\u003cextra\\u003e\\u003c\\u002fextra\\u003e\",\"legendgroup\":\"5 - Very low\",\"marker\":{\"color\":\"rgb(115, 175, 72)\",\"pattern\":{\"shape\":\"\"}},\"name\":\"5 - Very low\",\"offsetgroup\":\"5 - Very low\",\"orientation\":\"v\",\"showlegend\":true,\"textposition\":\"auto\",\"x\":[\"Asia-Pacific\",\"Middle East\"],\"xaxis\":\"x\",\"y\":[1,1],\"yaxis\":\"y\",\"type\":\"bar\"}],                        {\"template\":{\"data\":{\"histogram2dcontour\":[{\"type\":\"histogram2dcontour\",\"colorbar\":{\"outlinewidth\":0,\"ticks\":\"\"},\"colorscale\":[[0.0,\"#0d0887\"],[0.1111111111111111,\"#46039f\"],[0.2222222222222222,\"#7201a8\"],[0.3333333333333333,\"#9c179e\"],[0.4444444444444444,\"#bd3786\"],[0.5555555555555556,\"#d8576b\"],[0.6666666666666666,\"#ed7953\"],[0.7777777777777778,\"#fb9f3a\"],[0.8888888888888888,\"#fdca26\"],[1.0,\"#f0f921\"]]}],\"choropleth\":[{\"type\":\"choropleth\",\"colorbar\":{\"outlinewidth\":0,\"ticks\":\"\"}}],\"histogram2d\":[{\"type\":\"histogram2d\",\"colorbar\":{\"outlinewidth\":0,\"ticks\":\"\"},\"colorscale\":[[0.0,\"#0d0887\"],[0.1111111111111111,\"#46039f\"],[0.2222222222222222,\"#7201a8\"],[0.3333333333333333,\"#9c179e\"],[0.4444444444444444,\"#bd3786\"],[0.5555555555555556,\"#d8576b\"],[0.6666666666666666,\"#ed7953\"],[0.7777777777777778,\"#fb9f3a\"],[0.8888888888888888,\"#fdca26\"],[1.0,\"#f0f921\"]]}],\"heatmap\":[{\"type\":\"heatmap\",\"colorbar\":{\"outlinewidth\":0,\"ticks\":\"\"},\"colorscale\":[[0.0,\"#0d0887\"],[0.1111111111111111,\"#46039f\"],[0.2222222222222222,\"#7201a8\"],[0.3333333333333333,\"#9c179e\"],[0.4444444444444444,\"#bd3786\"],[0.5555555555555556,\"#d8576b\"],[0.6666666666666666,\"#ed7953\"],[0.7777777777777778,\"#fb9f3a\"],[0.8888888888888888,\"#fdca26\"],[1.0,\"#f0f921\"]]}],\"heatmapgl\":[{\"type\":\"heatmapgl\",\"colorbar\":{\"outlinewidth\":0,\"ticks\":\"\"},\"colorscale\":[[0.0,\"#0d0887\"],[0.1111111111111111,\"#46039f\"],[0.2222222222222222,\"#7201a8\"],[0.3333333333333333,\"#9c179e\"],[0.4444444444444444,\"#bd3786\"],[0.5555555555555556,\"#d8576b\"],[0.6666666666666666,\"#ed7953\"],[0.7777777777777778,\"#fb9f3a\"],[0.8888888888888888,\"#fdca26\"],[1.0,\"#f0f921\"]]}],\"contourcarpet\":[{\"type\":\"contourcarpet\",\"colorbar\":{\"outlinewidth\":0,\"ticks\":\"\"}}],\"contour\":[{\"type\":\"contour\",\"colorbar\":{\"outlinewidth\":0,\"ticks\":\"\"},\"colorscale\":[[0.0,\"#0d0887\"],[0.1111111111111111,\"#46039f\"],[0.2222222222222222,\"#7201a8\"],[0.3333333333333333,\"#9c179e\"],[0.4444444444444444,\"#bd3786\"],[0.5555555555555556,\"#d8576b\"],[0.6666666666666666,\"#ed7953\"],[0.7777777777777778,\"#fb9f3a\"],[0.8888888888888888,\"#fdca26\"],[1.0,\"#f0f921\"]]}],\"surface\":[{\"type\":\"surface\",\"colorbar\":{\"outlinewidth\":0,\"ticks\":\"\"},\"colorscale\":[[0.0,\"#0d0887\"],[0.1111111111111111,\"#46039f\"],[0.2222222222222222,\"#7201a8\"],[0.3333333333333333,\"#9c179e\"],[0.4444444444444444,\"#bd3786\"],[0.5555555555555556,\"#d8576b\"],[0.6666666666666666,\"#ed7953\"],[0.7777777777777778,\"#fb9f3a\"],[0.8888888888888888,\"#fdca26\"],[1.0,\"#f0f921\"]]}],\"mesh3d\":[{\"type\":\"mesh3d\",\"colorbar\":{\"outlinewidth\":0,\"ticks\":\"\"}}],\"scatter\":[{\"fillpattern\":{\"fillmode\":\"overlay\",\"size\":10,\"solidity\":0.2},\"type\":\"scatter\"}],\"parcoords\":[{\"type\":\"parcoords\",\"line\":{\"colorbar\":{\"outlinewidth\":0,\"ticks\":\"\"}}}],\"scatterpolargl\":[{\"type\":\"scatterpolargl\",\"marker\":{\"colorbar\":{\"outlinewidth\":0,\"ticks\":\"\"}}}],\"bar\":[{\"error_x\":{\"color\":\"#2a3f5f\"},\"error_y\":{\"color\":\"#2a3f5f\"},\"marker\":{\"line\":{\"color\":\"#E5ECF6\",\"width\":0.5},\"pattern\":{\"fillmode\":\"overlay\",\"size\":10,\"solidity\":0.2}},\"type\":\"bar\"}],\"scattergeo\":[{\"type\":\"scattergeo\",\"marker\":{\"colorbar\":{\"outlinewidth\":0,\"ticks\":\"\"}}}],\"scatterpolar\":[{\"type\":\"scatterpolar\",\"marker\":{\"colorbar\":{\"outlinewidth\":0,\"ticks\":\"\"}}}],\"histogram\":[{\"marker\":{\"pattern\":{\"fillmode\":\"overlay\",\"size\":10,\"solidity\":0.2}},\"type\":\"histogram\"}],\"scattergl\":[{\"type\":\"scattergl\",\"marker\":{\"colorbar\":{\"outlinewidth\":0,\"ticks\":\"\"}}}],\"scatter3d\":[{\"type\":\"scatter3d\",\"line\":{\"colorbar\":{\"outlinewidth\":0,\"ticks\":\"\"}},\"marker\":{\"colorbar\":{\"outlinewidth\":0,\"ticks\":\"\"}}}],\"scattermapbox\":[{\"type\":\"scattermapbox\",\"marker\":{\"colorbar\":{\"outlinewidth\":0,\"ticks\":\"\"}}}],\"scatterternary\":[{\"type\":\"scatterternary\",\"marker\":{\"colorbar\":{\"outlinewidth\":0,\"ticks\":\"\"}}}],\"scattercarpet\":[{\"type\":\"scattercarpet\",\"marker\":{\"colorbar\":{\"outlinewidth\":0,\"ticks\":\"\"}}}],\"carpet\":[{\"aaxis\":{\"endlinecolor\":\"#2a3f5f\",\"gridcolor\":\"white\",\"linecolor\":\"white\",\"minorgridcolor\":\"white\",\"startlinecolor\":\"#2a3f5f\"},\"baxis\":{\"endlinecolor\":\"#2a3f5f\",\"gridcolor\":\"white\",\"linecolor\":\"white\",\"minorgridcolor\":\"white\",\"startlinecolor\":\"#2a3f5f\"},\"type\":\"carpet\"}],\"table\":[{\"cells\":{\"fill\":{\"color\":\"#EBF0F8\"},\"line\":{\"color\":\"white\"}},\"header\":{\"fill\":{\"color\":\"#C8D4E3\"},\"line\":{\"color\":\"white\"}},\"type\":\"table\"}],\"barpolar\":[{\"marker\":{\"line\":{\"color\":\"#E5ECF6\",\"width\":0.5},\"pattern\":{\"fillmode\":\"overlay\",\"size\":10,\"solidity\":0.2}},\"type\":\"barpolar\"}],\"pie\":[{\"automargin\":true,\"type\":\"pie\"}]},\"layout\":{\"autotypenumbers\":\"strict\",\"colorway\":[\"#636efa\",\"#EF553B\",\"#00cc96\",\"#ab63fa\",\"#FFA15A\",\"#19d3f3\",\"#FF6692\",\"#B6E880\",\"#FF97FF\",\"#FECB52\"],\"font\":{\"color\":\"#2a3f5f\"},\"hovermode\":\"closest\",\"hoverlabel\":{\"align\":\"left\"},\"paper_bgcolor\":\"white\",\"plot_bgcolor\":\"#E5ECF6\",\"polar\":{\"bgcolor\":\"#E5ECF6\",\"angularaxis\":{\"gridcolor\":\"white\",\"linecolor\":\"white\",\"ticks\":\"\"},\"radialaxis\":{\"gridcolor\":\"white\",\"linecolor\":\"white\",\"ticks\":\"\"}},\"ternary\":{\"bgcolor\":\"#E5ECF6\",\"aaxis\":{\"gridcolor\":\"white\",\"linecolor\":\"white\",\"ticks\":\"\"},\"baxis\":{\"gridcolor\":\"white\",\"linecolor\":\"white\",\"ticks\":\"\"},\"caxis\":{\"gridcolor\":\"white\",\"linecolor\":\"white\",\"ticks\":\"\"}},\"coloraxis\":{\"colorbar\":{\"outlinewidth\":0,\"ticks\":\"\"}},\"colorscale\":{\"sequential\":[[0.0,\"#0d0887\"],[0.1111111111111111,\"#46039f\"],[0.2222222222222222,\"#7201a8\"],[0.3333333333333333,\"#9c179e\"],[0.4444444444444444,\"#bd3786\"],[0.5555555555555556,\"#d8576b\"],[0.6666666666666666,\"#ed7953\"],[0.7777777777777778,\"#fb9f3a\"],[0.8888888888888888,\"#fdca26\"],[1.0,\"#f0f921\"]],\"sequentialminus\":[[0.0,\"#0d0887\"],[0.1111111111111111,\"#46039f\"],[0.2222222222222222,\"#7201a8\"],[0.3333333333333333,\"#9c179e\"],[0.4444444444444444,\"#bd3786\"],[0.5555555555555556,\"#d8576b\"],[0.6666666666666666,\"#ed7953\"],[0.7777777777777778,\"#fb9f3a\"],[0.8888888888888888,\"#fdca26\"],[1.0,\"#f0f921\"]],\"diverging\":[[0,\"#8e0152\"],[0.1,\"#c51b7d\"],[0.2,\"#de77ae\"],[0.3,\"#f1b6da\"],[0.4,\"#fde0ef\"],[0.5,\"#f7f7f7\"],[0.6,\"#e6f5d0\"],[0.7,\"#b8e186\"],[0.8,\"#7fbc41\"],[0.9,\"#4d9221\"],[1,\"#276419\"]]},\"xaxis\":{\"gridcolor\":\"white\",\"linecolor\":\"white\",\"ticks\":\"\",\"title\":{\"standoff\":15},\"zerolinecolor\":\"white\",\"automargin\":true,\"zerolinewidth\":2},\"yaxis\":{\"gridcolor\":\"white\",\"linecolor\":\"white\",\"ticks\":\"\",\"title\":{\"standoff\":15},\"zerolinecolor\":\"white\",\"automargin\":true,\"zerolinewidth\":2},\"scene\":{\"xaxis\":{\"backgroundcolor\":\"#E5ECF6\",\"gridcolor\":\"white\",\"linecolor\":\"white\",\"showbackground\":true,\"ticks\":\"\",\"zerolinecolor\":\"white\",\"gridwidth\":2},\"yaxis\":{\"backgroundcolor\":\"#E5ECF6\",\"gridcolor\":\"white\",\"linecolor\":\"white\",\"showbackground\":true,\"ticks\":\"\",\"zerolinecolor\":\"white\",\"gridwidth\":2},\"zaxis\":{\"backgroundcolor\":\"#E5ECF6\",\"gridcolor\":\"white\",\"linecolor\":\"white\",\"showbackground\":true,\"ticks\":\"\",\"zerolinecolor\":\"white\",\"gridwidth\":2}},\"shapedefaults\":{\"line\":{\"color\":\"#2a3f5f\"}},\"annotationdefaults\":{\"arrowcolor\":\"#2a3f5f\",\"arrowhead\":0,\"arrowwidth\":1},\"geo\":{\"bgcolor\":\"white\",\"landcolor\":\"#E5ECF6\",\"subunitcolor\":\"white\",\"showland\":true,\"showlakes\":true,\"lakecolor\":\"white\"},\"title\":{\"x\":0.05},\"mapbox\":{\"style\":\"light\"}}},\"xaxis\":{\"anchor\":\"y\",\"domain\":[0.0,1.0],\"title\":{\"text\":\"Region\"}},\"yaxis\":{\"anchor\":\"x\",\"domain\":[0.0,1.0],\"title\":{\"text\":\"Country_count\"}},\"legend\":{\"title\":{\"text\":\"Ops_Environment_level\"},\"tracegroupgap\":0},\"title\":{\"text\":\"Countries by Region and Operating Environment level\"},\"barmode\":\"relative\",\"height\":600},                        {\"responsive\": true}                    ).then(function(){\n",
       "                            \n",
       "var gd = document.getElementById('42694d09-bc3d-491b-9f14-9308bf616265');\n",
       "var x = new MutationObserver(function (mutations, observer) {{\n",
       "        var display = window.getComputedStyle(gd).display;\n",
       "        if (!display || display === 'none') {{\n",
       "            console.log([gd, 'removed!']);\n",
       "            Plotly.purge(gd);\n",
       "            observer.disconnect();\n",
       "        }}\n",
       "}});\n",
       "\n",
       "// Listen for the removal of the full notebook cells\n",
       "var notebookContainer = gd.closest('#notebook-container');\n",
       "if (notebookContainer) {{\n",
       "    x.observe(notebookContainer, {childList: true});\n",
       "}}\n",
       "\n",
       "// Listen for the clearing of the current output cell\n",
       "var outputEl = gd.closest('.output');\n",
       "if (outputEl) {{\n",
       "    x.observe(outputEl, {childList: true});\n",
       "}}\n",
       "\n",
       "                        })                };                });            </script>        </div>"
      ]
     },
     "metadata": {},
     "output_type": "display_data"
    }
   ],
   "source": [
    "# implement binning by Operating Environment categories\n",
    "\n",
    "def set_ops_level(x):\n",
    "    res = \"N/A\"\n",
    "    if x >= 80:\n",
    "        res = \"1 - Very high\"\n",
    "    elif x >= 60 and x < 80:\n",
    "        res = \"2 - High\"\n",
    "    elif x >= 40 and x < 60:\n",
    "        res = \"3 - Moderate\"\n",
    "    elif x >= 20 and x < 40:\n",
    "        res = \"4 - Low\"\n",
    "    else:\n",
    "        res = \"5 - Very low\"\n",
    "    return res\n",
    "\n",
    "ops_df[\"Ops_Environment_level\"] = ops_df[\"Operating Environment\"].apply(set_ops_level)\n",
    "\n",
    "agg_data = ops_df.groupby(['Region', 'Ops_Environment_level']).size().reset_index(name='Country_count')\n",
    "\n",
    "agg_data = agg_data.sort_values(by=[\"Ops_Environment_level\", \"Country_count\"])\n",
    "\n",
    "fig = px.bar(\n",
    "    agg_data, \n",
    "    x='Region', \n",
    "    y='Country_count', \n",
    "    color='Ops_Environment_level', \n",
    "    title=\"Countries by Region and Operating Environment level\", \n",
    "    color_discrete_sequence=px.colors.qualitative.Prism,\n",
    "    height=600)\n",
    "fig.show()"
   ]
  },
  {
   "cell_type": "markdown",
   "id": "6cae26f3",
   "metadata": {
    "papermill": {
     "duration": 0.045047,
     "end_time": "2023-08-09T09:38:21.517226",
     "exception": false,
     "start_time": "2023-08-09T09:38:21.472179",
     "status": "completed"
    },
    "tags": []
   },
   "source": [
    "## <div style=\"font-size:20px;text-align:center;color:black;border-bottom:5px #0026d6 solid;padding-bottom:3%\">Operating Environment by Clusters</div>"
   ]
  },
  {
   "cell_type": "code",
   "execution_count": null,
   "id": "412697f5",
   "metadata": {
    "_kg_hide-input": true,
    "execution": {
     "iopub.execute_input": "2023-08-09T09:38:21.609248Z",
     "iopub.status.busy": "2023-08-09T09:38:21.608844Z",
     "iopub.status.idle": "2023-08-09T09:38:21.669242Z",
     "shell.execute_reply": "2023-08-09T09:38:21.668209Z"
    },
    "papermill": {
     "duration": 0.109225,
     "end_time": "2023-08-09T09:38:21.671503",
     "exception": false,
     "start_time": "2023-08-09T09:38:21.562278",
     "status": "completed"
    },
    "tags": []
   },
   "outputs": [
    {
     "data": {
      "text/html": [
       "<div>                            <div id=\"be5095fa-d315-4067-8200-249cb462db19\" class=\"plotly-graph-div\" style=\"height:525px; width:100%;\"></div>            <script type=\"text/javascript\">                require([\"plotly\"], function(Plotly) {                    window.PLOTLYENV=window.PLOTLYENV || {};                                    if (document.getElementById(\"be5095fa-d315-4067-8200-249cb462db19\")) {                    Plotly.newPlot(                        \"be5095fa-d315-4067-8200-249cb462db19\",                        [{\"alignmentgroup\":\"True\",\"box\":{\"visible\":true},\"customdata\":[[\"United States of America\",\"Americas\",\"High\",\"Liberal democracy\",\"2 - High\"],[\"China\",\"Asia-Pacific\",\"Upper middle\",\"Closed autocracy\",\"1 - Very high\"],[\"United Kingdom\",\"Europe\",\"High\",\"Liberal democracy\",\"2 - High\"],[\"Canada\",\"Americas\",\"High\",\"Liberal democracy\",\"1 - Very high\"],[\"Israel\",\"Middle East\",\"High\",\"Liberal democracy\",\"1 - Very high\"],[\"Singapore\",\"Asia-Pacific\",\"High\",\"Electoral democracy\",\"3 - Moderate\"],[\"South Korea\",\"Asia-Pacific\",\"High\",\"Liberal democracy\",\"2 - High\"],[\"The Netherlands\",\"Europe\",\"High\",\"Liberal democracy\",\"1 - Very high\"],[\"Germany\",\"Europe\",\"High\",\"Liberal democracy\",\"2 - High\"],[\"France\",\"Europe\",\"High\",\"Liberal democracy\",\"1 - Very high\"],[\"Australia\",\"Asia-Pacific\",\"High\",\"Liberal democracy\",\"2 - High\"],[\"Ireland\",\"Europe\",\"High\",\"Liberal democracy\",\"2 - High\"],[\"Finland\",\"Europe\",\"High\",\"Liberal democracy\",\"2 - High\"],[\"Denmark\",\"Europe\",\"High\",\"Liberal democracy\",\"1 - Very high\"],[\"Luxembourg\",\"Europe\",\"High\",\"Liberal democracy\",\"2 - High\"],[\"Japan\",\"Asia-Pacific\",\"High\",\"Liberal democracy\",\"3 - Moderate\"],[\"India\",\"Asia-Pacific\",\"Lower middle\",\"Electoral autocracy\",\"2 - High\"],[\"Switzerland\",\"Europe\",\"High\",\"Liberal democracy\",\"3 - Moderate\"],[\"Sweden\",\"Europe\",\"High\",\"Liberal democracy\",\"2 - High\"],[\"Hong Kong\",\"Asia-Pacific\",\"High\",\"Electoral democracy\",\"3 - Moderate\"],[\"Spain\",\"Europe\",\"High\",\"Liberal democracy\",\"2 - High\"],[\"Austria\",\"Europe\",\"High\",\"Electoral democracy\",\"2 - High\"],[\"Estonia\",\"Europe\",\"High\",\"Liberal democracy\",\"1 - Very high\"],[\"Taiwan\",\"Asia-Pacific\",\"High\",\"Liberal democracy\",\"3 - Moderate\"],[\"Norway\",\"Europe\",\"High\",\"Liberal democracy\",\"4 - Low\"],[\"Saudi Arabia\",\"Middle East\",\"High\",\"Closed autocracy\",\"1 - Very high\"],[\"Belgium\",\"Europe\",\"High\",\"Liberal democracy\",\"2 - High\"],[\"Poland\",\"Europe\",\"High\",\"Electoral democracy\",\"1 - Very high\"],[\"Slovenia\",\"Europe\",\"High\",\"Electoral democracy\",\"1 - Very high\"],[\"New Zealand\",\"Asia-Pacific\",\"High\",\"Liberal democracy\",\"1 - Very high\"],[\"Italy\",\"Europe\",\"High\",\"Liberal democracy\",\"1 - Very high\"],[\"Russia\",\"Europe\",\"Upper middle\",\"Electoral autocracy\",\"3 - Moderate\"],[\"Malta\",\"Europe\",\"High\",\"Electoral democracy\",\"2 - High\"],[\"United Arab Emirates\",\"Middle East\",\"High\",\"Closed autocracy\",\"2 - High\"],[\"Portugal\",\"Europe\",\"High\",\"Electoral democracy\",\"1 - Very high\"],[\"Czech Republic\",\"Europe\",\"High\",\"Electoral democracy\",\"2 - High\"],[\"Iceland\",\"Europe\",\"High\",\"Liberal democracy\",\"3 - Moderate\"],[\"Lithuania\",\"Europe\",\"High\",\"Electoral democracy\",\"1 - Very high\"],[\"Brazil\",\"Americas\",\"Upper middle\",\"Electoral democracy\",\"2 - High\"],[\"Greece\",\"Europe\",\"High\",\"Liberal democracy\",\"1 - Very high\"],[\"Slovakia\",\"Europe\",\"High\",\"Electoral democracy\",\"1 - Very high\"],[\"Hungary\",\"Europe\",\"High\",\"Electoral autocracy\",\"3 - Moderate\"],[\"Malaysia\",\"Asia-Pacific\",\"Upper middle\",\"Electoral autocracy\",\"2 - High\"],[\"Mexico\",\"Americas\",\"Upper middle\",\"Electoral democracy\",\"1 - Very high\"],[\"Chile\",\"Americas\",\"High\",\"Liberal democracy\",\"3 - Moderate\"],[\"Argentina\",\"Americas\",\"Upper middle\",\"Electoral democracy\",\"2 - High\"],[\"Qatar\",\"Middle East\",\"High\",\"Closed autocracy\",\"2 - High\"],[\"Turkey\",\"Europe\",\"High\",\"Electoral democracy\",\"2 - High\"],[\"Colombia\",\"Americas\",\"Upper middle\",\"Electoral democracy\",\"2 - High\"],[\"Uruguay\",\"Americas\",\"High\",\"Liberal democracy\",\"2 - High\"],[\"Bahrain\",\"Middle East\",\"High\",\"Closed autocracy\",\"2 - High\"],[\"Vietnam\",\"Asia-Pacific\",\"Lower middle\",\"Closed autocracy\",\"4 - Low\"],[\"Indonesia\",\"Asia-Pacific\",\"Lower middle\",\"Electoral democracy\",\"3 - Moderate\"],[\"Tunisia\",\"Africa\",\"Lower middle\",\"Electoral democracy\",\"2 - High\"],[\"South Africa\",\"Africa\",\"Upper middle\",\"Electoral democracy\",\"3 - Moderate\"],[\"Morocco\",\"Africa\",\"Lower middle\",\"Closed autocracy\",\"2 - High\"],[\"Armenia\",\"Europe\",\"Upper middle\",\"Electoral democracy\",\"3 - Moderate\"],[\"Sri Lanka\",\"Asia-Pacific\",\"Lower middle\",\"Electoral democracy\",\"4 - Low\"],[\"Egypt\",\"Middle East\",\"Lower middle\",\"Electoral autocracy\",\"5 - Very low\"],[\"Kenya\",\"Africa\",\"Lower middle\",\"Electoral autocracy\",\"4 - Low\"],[\"Nigeria\",\"Africa\",\"Lower middle\",\"Electoral autocracy\",\"3 - Moderate\"],[\"Pakistan\",\"Asia-Pacific\",\"Lower middle\",\"Electoral autocracy\",\"5 - Very low\"]],\"hovertemplate\":\"Cluster=%{x}\\u003cbr\\u003eOperating Environment=%{y}\\u003cbr\\u003eCountry=%{customdata[0]}\\u003cbr\\u003eRegion=%{customdata[1]}\\u003cbr\\u003eIncome group=%{customdata[2]}\\u003cbr\\u003ePolitical regime=%{customdata[3]}\\u003cbr\\u003eOps_Environment_level=%{customdata[4]}\\u003cextra\\u003e\\u003c\\u002fextra\\u003e\",\"legendgroup\":\"\",\"marker\":{\"color\":\"#636efa\"},\"name\":\"\",\"offsetgroup\":\"\",\"orientation\":\"v\",\"points\":\"all\",\"scalegroup\":\"True\",\"showlegend\":false,\"x\":[\"Power players\",\"Power players\",\"Traditional champions\",\"Traditional champions\",\"Rising stars\",\"Rising stars\",\"Rising stars\",\"Rising stars\",\"Traditional champions\",\"Traditional champions\",\"Rising stars\",\"Rising stars\",\"Rising stars\",\"Rising stars\",\"Waking up\",\"Rising stars\",\"Waking up\",\"Rising stars\",\"Waking up\",\"Waking up\",\"Rising stars\",\"Waking up\",\"Waking up\",\"Waking up\",\"Waking up\",\"Waking up\",\"Waking up\",\"Waking up\",\"Waking up\",\"Waking up\",\"Waking up\",\"Waking up\",\"Waking up\",\"Waking up\",\"Waking up\",\"Waking up\",\"Waking up\",\"Waking up\",\"Waking up\",\"Waking up\",\"Waking up\",\"Waking up\",\"Waking up\",\"Waking up\",\"Waking up\",\"Waking up\",\"Waking up\",\"Waking up\",\"Waking up\",\"Waking up\",\"Waking up\",\"Waking up\",\"Waking up\",\"Waking up\",\"Waking up\",\"Waking up\",\"Waking up\",\"Nascent\",\"Nascent\",\"Nascent\",\"Nascent\",\"Nascent\"],\"x0\":\" \",\"xaxis\":\"x\",\"y\":[64.56,91.57,74.65,93.94,82.44,43.15,68.86,88.05,70.22,80.02,61.23,70.15,78.76,85.39,66.96,57.53,77.3,44.14,66.77,59.5,75.36,76.3,88.67,56.67,36.65,100.0,64.08,99.56,94.55,90.35,83.25,52.85,70.96,72.12,80.66,76.97,41.19,80.67,72.82,83.58,88.71,58.01,73.24,97.03,56.73,75.95,62.58,64.34,62.37,70.75,60.9,37.61,51.18,62.32,58.43,60.17,58.4,35.79,0.0,29.84,50.1,12.48],\"y0\":\" \",\"yaxis\":\"y\",\"type\":\"violin\"}],                        {\"template\":{\"data\":{\"histogram2dcontour\":[{\"type\":\"histogram2dcontour\",\"colorbar\":{\"outlinewidth\":0,\"ticks\":\"\"},\"colorscale\":[[0.0,\"#0d0887\"],[0.1111111111111111,\"#46039f\"],[0.2222222222222222,\"#7201a8\"],[0.3333333333333333,\"#9c179e\"],[0.4444444444444444,\"#bd3786\"],[0.5555555555555556,\"#d8576b\"],[0.6666666666666666,\"#ed7953\"],[0.7777777777777778,\"#fb9f3a\"],[0.8888888888888888,\"#fdca26\"],[1.0,\"#f0f921\"]]}],\"choropleth\":[{\"type\":\"choropleth\",\"colorbar\":{\"outlinewidth\":0,\"ticks\":\"\"}}],\"histogram2d\":[{\"type\":\"histogram2d\",\"colorbar\":{\"outlinewidth\":0,\"ticks\":\"\"},\"colorscale\":[[0.0,\"#0d0887\"],[0.1111111111111111,\"#46039f\"],[0.2222222222222222,\"#7201a8\"],[0.3333333333333333,\"#9c179e\"],[0.4444444444444444,\"#bd3786\"],[0.5555555555555556,\"#d8576b\"],[0.6666666666666666,\"#ed7953\"],[0.7777777777777778,\"#fb9f3a\"],[0.8888888888888888,\"#fdca26\"],[1.0,\"#f0f921\"]]}],\"heatmap\":[{\"type\":\"heatmap\",\"colorbar\":{\"outlinewidth\":0,\"ticks\":\"\"},\"colorscale\":[[0.0,\"#0d0887\"],[0.1111111111111111,\"#46039f\"],[0.2222222222222222,\"#7201a8\"],[0.3333333333333333,\"#9c179e\"],[0.4444444444444444,\"#bd3786\"],[0.5555555555555556,\"#d8576b\"],[0.6666666666666666,\"#ed7953\"],[0.7777777777777778,\"#fb9f3a\"],[0.8888888888888888,\"#fdca26\"],[1.0,\"#f0f921\"]]}],\"heatmapgl\":[{\"type\":\"heatmapgl\",\"colorbar\":{\"outlinewidth\":0,\"ticks\":\"\"},\"colorscale\":[[0.0,\"#0d0887\"],[0.1111111111111111,\"#46039f\"],[0.2222222222222222,\"#7201a8\"],[0.3333333333333333,\"#9c179e\"],[0.4444444444444444,\"#bd3786\"],[0.5555555555555556,\"#d8576b\"],[0.6666666666666666,\"#ed7953\"],[0.7777777777777778,\"#fb9f3a\"],[0.8888888888888888,\"#fdca26\"],[1.0,\"#f0f921\"]]}],\"contourcarpet\":[{\"type\":\"contourcarpet\",\"colorbar\":{\"outlinewidth\":0,\"ticks\":\"\"}}],\"contour\":[{\"type\":\"contour\",\"colorbar\":{\"outlinewidth\":0,\"ticks\":\"\"},\"colorscale\":[[0.0,\"#0d0887\"],[0.1111111111111111,\"#46039f\"],[0.2222222222222222,\"#7201a8\"],[0.3333333333333333,\"#9c179e\"],[0.4444444444444444,\"#bd3786\"],[0.5555555555555556,\"#d8576b\"],[0.6666666666666666,\"#ed7953\"],[0.7777777777777778,\"#fb9f3a\"],[0.8888888888888888,\"#fdca26\"],[1.0,\"#f0f921\"]]}],\"surface\":[{\"type\":\"surface\",\"colorbar\":{\"outlinewidth\":0,\"ticks\":\"\"},\"colorscale\":[[0.0,\"#0d0887\"],[0.1111111111111111,\"#46039f\"],[0.2222222222222222,\"#7201a8\"],[0.3333333333333333,\"#9c179e\"],[0.4444444444444444,\"#bd3786\"],[0.5555555555555556,\"#d8576b\"],[0.6666666666666666,\"#ed7953\"],[0.7777777777777778,\"#fb9f3a\"],[0.8888888888888888,\"#fdca26\"],[1.0,\"#f0f921\"]]}],\"mesh3d\":[{\"type\":\"mesh3d\",\"colorbar\":{\"outlinewidth\":0,\"ticks\":\"\"}}],\"scatter\":[{\"fillpattern\":{\"fillmode\":\"overlay\",\"size\":10,\"solidity\":0.2},\"type\":\"scatter\"}],\"parcoords\":[{\"type\":\"parcoords\",\"line\":{\"colorbar\":{\"outlinewidth\":0,\"ticks\":\"\"}}}],\"scatterpolargl\":[{\"type\":\"scatterpolargl\",\"marker\":{\"colorbar\":{\"outlinewidth\":0,\"ticks\":\"\"}}}],\"bar\":[{\"error_x\":{\"color\":\"#2a3f5f\"},\"error_y\":{\"color\":\"#2a3f5f\"},\"marker\":{\"line\":{\"color\":\"#E5ECF6\",\"width\":0.5},\"pattern\":{\"fillmode\":\"overlay\",\"size\":10,\"solidity\":0.2}},\"type\":\"bar\"}],\"scattergeo\":[{\"type\":\"scattergeo\",\"marker\":{\"colorbar\":{\"outlinewidth\":0,\"ticks\":\"\"}}}],\"scatterpolar\":[{\"type\":\"scatterpolar\",\"marker\":{\"colorbar\":{\"outlinewidth\":0,\"ticks\":\"\"}}}],\"histogram\":[{\"marker\":{\"pattern\":{\"fillmode\":\"overlay\",\"size\":10,\"solidity\":0.2}},\"type\":\"histogram\"}],\"scattergl\":[{\"type\":\"scattergl\",\"marker\":{\"colorbar\":{\"outlinewidth\":0,\"ticks\":\"\"}}}],\"scatter3d\":[{\"type\":\"scatter3d\",\"line\":{\"colorbar\":{\"outlinewidth\":0,\"ticks\":\"\"}},\"marker\":{\"colorbar\":{\"outlinewidth\":0,\"ticks\":\"\"}}}],\"scattermapbox\":[{\"type\":\"scattermapbox\",\"marker\":{\"colorbar\":{\"outlinewidth\":0,\"ticks\":\"\"}}}],\"scatterternary\":[{\"type\":\"scatterternary\",\"marker\":{\"colorbar\":{\"outlinewidth\":0,\"ticks\":\"\"}}}],\"scattercarpet\":[{\"type\":\"scattercarpet\",\"marker\":{\"colorbar\":{\"outlinewidth\":0,\"ticks\":\"\"}}}],\"carpet\":[{\"aaxis\":{\"endlinecolor\":\"#2a3f5f\",\"gridcolor\":\"white\",\"linecolor\":\"white\",\"minorgridcolor\":\"white\",\"startlinecolor\":\"#2a3f5f\"},\"baxis\":{\"endlinecolor\":\"#2a3f5f\",\"gridcolor\":\"white\",\"linecolor\":\"white\",\"minorgridcolor\":\"white\",\"startlinecolor\":\"#2a3f5f\"},\"type\":\"carpet\"}],\"table\":[{\"cells\":{\"fill\":{\"color\":\"#EBF0F8\"},\"line\":{\"color\":\"white\"}},\"header\":{\"fill\":{\"color\":\"#C8D4E3\"},\"line\":{\"color\":\"white\"}},\"type\":\"table\"}],\"barpolar\":[{\"marker\":{\"line\":{\"color\":\"#E5ECF6\",\"width\":0.5},\"pattern\":{\"fillmode\":\"overlay\",\"size\":10,\"solidity\":0.2}},\"type\":\"barpolar\"}],\"pie\":[{\"automargin\":true,\"type\":\"pie\"}]},\"layout\":{\"autotypenumbers\":\"strict\",\"colorway\":[\"#636efa\",\"#EF553B\",\"#00cc96\",\"#ab63fa\",\"#FFA15A\",\"#19d3f3\",\"#FF6692\",\"#B6E880\",\"#FF97FF\",\"#FECB52\"],\"font\":{\"color\":\"#2a3f5f\"},\"hovermode\":\"closest\",\"hoverlabel\":{\"align\":\"left\"},\"paper_bgcolor\":\"white\",\"plot_bgcolor\":\"#E5ECF6\",\"polar\":{\"bgcolor\":\"#E5ECF6\",\"angularaxis\":{\"gridcolor\":\"white\",\"linecolor\":\"white\",\"ticks\":\"\"},\"radialaxis\":{\"gridcolor\":\"white\",\"linecolor\":\"white\",\"ticks\":\"\"}},\"ternary\":{\"bgcolor\":\"#E5ECF6\",\"aaxis\":{\"gridcolor\":\"white\",\"linecolor\":\"white\",\"ticks\":\"\"},\"baxis\":{\"gridcolor\":\"white\",\"linecolor\":\"white\",\"ticks\":\"\"},\"caxis\":{\"gridcolor\":\"white\",\"linecolor\":\"white\",\"ticks\":\"\"}},\"coloraxis\":{\"colorbar\":{\"outlinewidth\":0,\"ticks\":\"\"}},\"colorscale\":{\"sequential\":[[0.0,\"#0d0887\"],[0.1111111111111111,\"#46039f\"],[0.2222222222222222,\"#7201a8\"],[0.3333333333333333,\"#9c179e\"],[0.4444444444444444,\"#bd3786\"],[0.5555555555555556,\"#d8576b\"],[0.6666666666666666,\"#ed7953\"],[0.7777777777777778,\"#fb9f3a\"],[0.8888888888888888,\"#fdca26\"],[1.0,\"#f0f921\"]],\"sequentialminus\":[[0.0,\"#0d0887\"],[0.1111111111111111,\"#46039f\"],[0.2222222222222222,\"#7201a8\"],[0.3333333333333333,\"#9c179e\"],[0.4444444444444444,\"#bd3786\"],[0.5555555555555556,\"#d8576b\"],[0.6666666666666666,\"#ed7953\"],[0.7777777777777778,\"#fb9f3a\"],[0.8888888888888888,\"#fdca26\"],[1.0,\"#f0f921\"]],\"diverging\":[[0,\"#8e0152\"],[0.1,\"#c51b7d\"],[0.2,\"#de77ae\"],[0.3,\"#f1b6da\"],[0.4,\"#fde0ef\"],[0.5,\"#f7f7f7\"],[0.6,\"#e6f5d0\"],[0.7,\"#b8e186\"],[0.8,\"#7fbc41\"],[0.9,\"#4d9221\"],[1,\"#276419\"]]},\"xaxis\":{\"gridcolor\":\"white\",\"linecolor\":\"white\",\"ticks\":\"\",\"title\":{\"standoff\":15},\"zerolinecolor\":\"white\",\"automargin\":true,\"zerolinewidth\":2},\"yaxis\":{\"gridcolor\":\"white\",\"linecolor\":\"white\",\"ticks\":\"\",\"title\":{\"standoff\":15},\"zerolinecolor\":\"white\",\"automargin\":true,\"zerolinewidth\":2},\"scene\":{\"xaxis\":{\"backgroundcolor\":\"#E5ECF6\",\"gridcolor\":\"white\",\"linecolor\":\"white\",\"showbackground\":true,\"ticks\":\"\",\"zerolinecolor\":\"white\",\"gridwidth\":2},\"yaxis\":{\"backgroundcolor\":\"#E5ECF6\",\"gridcolor\":\"white\",\"linecolor\":\"white\",\"showbackground\":true,\"ticks\":\"\",\"zerolinecolor\":\"white\",\"gridwidth\":2},\"zaxis\":{\"backgroundcolor\":\"#E5ECF6\",\"gridcolor\":\"white\",\"linecolor\":\"white\",\"showbackground\":true,\"ticks\":\"\",\"zerolinecolor\":\"white\",\"gridwidth\":2}},\"shapedefaults\":{\"line\":{\"color\":\"#2a3f5f\"}},\"annotationdefaults\":{\"arrowcolor\":\"#2a3f5f\",\"arrowhead\":0,\"arrowwidth\":1},\"geo\":{\"bgcolor\":\"white\",\"landcolor\":\"#E5ECF6\",\"subunitcolor\":\"white\",\"showland\":true,\"showlakes\":true,\"lakecolor\":\"white\"},\"title\":{\"x\":0.05},\"mapbox\":{\"style\":\"light\"}}},\"xaxis\":{\"anchor\":\"y\",\"domain\":[0.0,1.0],\"title\":{\"text\":\"Cluster\"}},\"yaxis\":{\"anchor\":\"x\",\"domain\":[0.0,1.0],\"title\":{\"text\":\"Operating Environment\"}},\"legend\":{\"tracegroupgap\":0},\"title\":{\"text\":\"Operating Environment by Clusters\"},\"violinmode\":\"group\"},                        {\"responsive\": true}                    ).then(function(){\n",
       "                            \n",
       "var gd = document.getElementById('be5095fa-d315-4067-8200-249cb462db19');\n",
       "var x = new MutationObserver(function (mutations, observer) {{\n",
       "        var display = window.getComputedStyle(gd).display;\n",
       "        if (!display || display === 'none') {{\n",
       "            console.log([gd, 'removed!']);\n",
       "            Plotly.purge(gd);\n",
       "            observer.disconnect();\n",
       "        }}\n",
       "}});\n",
       "\n",
       "// Listen for the removal of the full notebook cells\n",
       "var notebookContainer = gd.closest('#notebook-container');\n",
       "if (notebookContainer) {{\n",
       "    x.observe(notebookContainer, {childList: true});\n",
       "}}\n",
       "\n",
       "// Listen for the clearing of the current output cell\n",
       "var outputEl = gd.closest('.output');\n",
       "if (outputEl) {{\n",
       "    x.observe(outputEl, {childList: true});\n",
       "}}\n",
       "\n",
       "                        })                };                });            </script>        </div>"
      ]
     },
     "metadata": {},
     "output_type": "display_data"
    }
   ],
   "source": [
    "fig = px.violin(ops_df, \n",
    "                y=\"Operating Environment\", \n",
    "                x=\"Cluster\", \n",
    "                box=True, \n",
    "                points=\"all\", \n",
    "                title=\"Operating Environment by Clusters\", \n",
    "                hover_data=ops_df.columns)\n",
    "fig.show()"
   ]
  },
  {
   "cell_type": "code",
   "execution_count": null,
   "id": "ffbf5f5f",
   "metadata": {
    "_kg_hide-input": true,
    "execution": {
     "iopub.execute_input": "2023-08-09T09:38:21.766263Z",
     "iopub.status.busy": "2023-08-09T09:38:21.765185Z",
     "iopub.status.idle": "2023-08-09T09:38:21.845205Z",
     "shell.execute_reply": "2023-08-09T09:38:21.844159Z"
    },
    "papermill": {
     "duration": 0.129801,
     "end_time": "2023-08-09T09:38:21.847546",
     "exception": false,
     "start_time": "2023-08-09T09:38:21.717745",
     "status": "completed"
    },
    "tags": []
   },
   "outputs": [
    {
     "data": {
      "text/html": [
       "<div>                            <div id=\"f5e0b483-27aa-459a-a803-41abfb56476c\" class=\"plotly-graph-div\" style=\"height:600px; width:100%;\"></div>            <script type=\"text/javascript\">                require([\"plotly\"], function(Plotly) {                    window.PLOTLYENV=window.PLOTLYENV || {};                                    if (document.getElementById(\"f5e0b483-27aa-459a-a803-41abfb56476c\")) {                    Plotly.newPlot(                        \"f5e0b483-27aa-459a-a803-41abfb56476c\",                        [{\"alignmentgroup\":\"True\",\"hovertemplate\":\"Ops_Environment_level=1 - Very high\\u003cbr\\u003eCluster=%{x}\\u003cbr\\u003eCountry_count=%{y}\\u003cextra\\u003e\\u003c\\u002fextra\\u003e\",\"legendgroup\":\"1 - Very high\",\"marker\":{\"color\":\"rgb(95, 70, 144)\",\"pattern\":{\"shape\":\"\"}},\"name\":\"1 - Very high\",\"offsetgroup\":\"1 - Very high\",\"orientation\":\"v\",\"showlegend\":true,\"textposition\":\"auto\",\"x\":[\"Power players\",\"Traditional champions\",\"Rising stars\",\"Waking up\"],\"xaxis\":\"x\",\"y\":[1,2,3,11],\"yaxis\":\"y\",\"type\":\"bar\"},{\"alignmentgroup\":\"True\",\"hovertemplate\":\"Ops_Environment_level=2 - High\\u003cbr\\u003eCluster=%{x}\\u003cbr\\u003eCountry_count=%{y}\\u003cextra\\u003e\\u003c\\u002fextra\\u003e\",\"legendgroup\":\"2 - High\",\"marker\":{\"color\":\"rgb(29, 105, 150)\",\"pattern\":{\"shape\":\"\"}},\"name\":\"2 - High\",\"offsetgroup\":\"2 - High\",\"orientation\":\"v\",\"showlegend\":true,\"textposition\":\"auto\",\"x\":[\"Power players\",\"Traditional champions\",\"Rising stars\",\"Waking up\"],\"xaxis\":\"x\",\"y\":[1,2,5,18],\"yaxis\":\"y\",\"type\":\"bar\"},{\"alignmentgroup\":\"True\",\"hovertemplate\":\"Ops_Environment_level=3 - Moderate\\u003cbr\\u003eCluster=%{x}\\u003cbr\\u003eCountry_count=%{y}\\u003cextra\\u003e\\u003c\\u002fextra\\u003e\",\"legendgroup\":\"3 - Moderate\",\"marker\":{\"color\":\"rgb(56, 166, 165)\",\"pattern\":{\"shape\":\"\"}},\"name\":\"3 - Moderate\",\"offsetgroup\":\"3 - Moderate\",\"orientation\":\"v\",\"showlegend\":true,\"textposition\":\"auto\",\"x\":[\"Nascent\",\"Rising stars\",\"Waking up\"],\"xaxis\":\"x\",\"y\":[1,3,9],\"yaxis\":\"y\",\"type\":\"bar\"},{\"alignmentgroup\":\"True\",\"hovertemplate\":\"Ops_Environment_level=4 - Low\\u003cbr\\u003eCluster=%{x}\\u003cbr\\u003eCountry_count=%{y}\\u003cextra\\u003e\\u003c\\u002fextra\\u003e\",\"legendgroup\":\"4 - Low\",\"marker\":{\"color\":\"rgb(15, 133, 84)\",\"pattern\":{\"shape\":\"\"}},\"name\":\"4 - Low\",\"offsetgroup\":\"4 - Low\",\"orientation\":\"v\",\"showlegend\":true,\"textposition\":\"auto\",\"x\":[\"Nascent\",\"Waking up\"],\"xaxis\":\"x\",\"y\":[2,2],\"yaxis\":\"y\",\"type\":\"bar\"},{\"alignmentgroup\":\"True\",\"hovertemplate\":\"Ops_Environment_level=5 - Very low\\u003cbr\\u003eCluster=%{x}\\u003cbr\\u003eCountry_count=%{y}\\u003cextra\\u003e\\u003c\\u002fextra\\u003e\",\"legendgroup\":\"5 - Very low\",\"marker\":{\"color\":\"rgb(115, 175, 72)\",\"pattern\":{\"shape\":\"\"}},\"name\":\"5 - Very low\",\"offsetgroup\":\"5 - Very low\",\"orientation\":\"v\",\"showlegend\":true,\"textposition\":\"auto\",\"x\":[\"Nascent\"],\"xaxis\":\"x\",\"y\":[2],\"yaxis\":\"y\",\"type\":\"bar\"}],                        {\"template\":{\"data\":{\"histogram2dcontour\":[{\"type\":\"histogram2dcontour\",\"colorbar\":{\"outlinewidth\":0,\"ticks\":\"\"},\"colorscale\":[[0.0,\"#0d0887\"],[0.1111111111111111,\"#46039f\"],[0.2222222222222222,\"#7201a8\"],[0.3333333333333333,\"#9c179e\"],[0.4444444444444444,\"#bd3786\"],[0.5555555555555556,\"#d8576b\"],[0.6666666666666666,\"#ed7953\"],[0.7777777777777778,\"#fb9f3a\"],[0.8888888888888888,\"#fdca26\"],[1.0,\"#f0f921\"]]}],\"choropleth\":[{\"type\":\"choropleth\",\"colorbar\":{\"outlinewidth\":0,\"ticks\":\"\"}}],\"histogram2d\":[{\"type\":\"histogram2d\",\"colorbar\":{\"outlinewidth\":0,\"ticks\":\"\"},\"colorscale\":[[0.0,\"#0d0887\"],[0.1111111111111111,\"#46039f\"],[0.2222222222222222,\"#7201a8\"],[0.3333333333333333,\"#9c179e\"],[0.4444444444444444,\"#bd3786\"],[0.5555555555555556,\"#d8576b\"],[0.6666666666666666,\"#ed7953\"],[0.7777777777777778,\"#fb9f3a\"],[0.8888888888888888,\"#fdca26\"],[1.0,\"#f0f921\"]]}],\"heatmap\":[{\"type\":\"heatmap\",\"colorbar\":{\"outlinewidth\":0,\"ticks\":\"\"},\"colorscale\":[[0.0,\"#0d0887\"],[0.1111111111111111,\"#46039f\"],[0.2222222222222222,\"#7201a8\"],[0.3333333333333333,\"#9c179e\"],[0.4444444444444444,\"#bd3786\"],[0.5555555555555556,\"#d8576b\"],[0.6666666666666666,\"#ed7953\"],[0.7777777777777778,\"#fb9f3a\"],[0.8888888888888888,\"#fdca26\"],[1.0,\"#f0f921\"]]}],\"heatmapgl\":[{\"type\":\"heatmapgl\",\"colorbar\":{\"outlinewidth\":0,\"ticks\":\"\"},\"colorscale\":[[0.0,\"#0d0887\"],[0.1111111111111111,\"#46039f\"],[0.2222222222222222,\"#7201a8\"],[0.3333333333333333,\"#9c179e\"],[0.4444444444444444,\"#bd3786\"],[0.5555555555555556,\"#d8576b\"],[0.6666666666666666,\"#ed7953\"],[0.7777777777777778,\"#fb9f3a\"],[0.8888888888888888,\"#fdca26\"],[1.0,\"#f0f921\"]]}],\"contourcarpet\":[{\"type\":\"contourcarpet\",\"colorbar\":{\"outlinewidth\":0,\"ticks\":\"\"}}],\"contour\":[{\"type\":\"contour\",\"colorbar\":{\"outlinewidth\":0,\"ticks\":\"\"},\"colorscale\":[[0.0,\"#0d0887\"],[0.1111111111111111,\"#46039f\"],[0.2222222222222222,\"#7201a8\"],[0.3333333333333333,\"#9c179e\"],[0.4444444444444444,\"#bd3786\"],[0.5555555555555556,\"#d8576b\"],[0.6666666666666666,\"#ed7953\"],[0.7777777777777778,\"#fb9f3a\"],[0.8888888888888888,\"#fdca26\"],[1.0,\"#f0f921\"]]}],\"surface\":[{\"type\":\"surface\",\"colorbar\":{\"outlinewidth\":0,\"ticks\":\"\"},\"colorscale\":[[0.0,\"#0d0887\"],[0.1111111111111111,\"#46039f\"],[0.2222222222222222,\"#7201a8\"],[0.3333333333333333,\"#9c179e\"],[0.4444444444444444,\"#bd3786\"],[0.5555555555555556,\"#d8576b\"],[0.6666666666666666,\"#ed7953\"],[0.7777777777777778,\"#fb9f3a\"],[0.8888888888888888,\"#fdca26\"],[1.0,\"#f0f921\"]]}],\"mesh3d\":[{\"type\":\"mesh3d\",\"colorbar\":{\"outlinewidth\":0,\"ticks\":\"\"}}],\"scatter\":[{\"fillpattern\":{\"fillmode\":\"overlay\",\"size\":10,\"solidity\":0.2},\"type\":\"scatter\"}],\"parcoords\":[{\"type\":\"parcoords\",\"line\":{\"colorbar\":{\"outlinewidth\":0,\"ticks\":\"\"}}}],\"scatterpolargl\":[{\"type\":\"scatterpolargl\",\"marker\":{\"colorbar\":{\"outlinewidth\":0,\"ticks\":\"\"}}}],\"bar\":[{\"error_x\":{\"color\":\"#2a3f5f\"},\"error_y\":{\"color\":\"#2a3f5f\"},\"marker\":{\"line\":{\"color\":\"#E5ECF6\",\"width\":0.5},\"pattern\":{\"fillmode\":\"overlay\",\"size\":10,\"solidity\":0.2}},\"type\":\"bar\"}],\"scattergeo\":[{\"type\":\"scattergeo\",\"marker\":{\"colorbar\":{\"outlinewidth\":0,\"ticks\":\"\"}}}],\"scatterpolar\":[{\"type\":\"scatterpolar\",\"marker\":{\"colorbar\":{\"outlinewidth\":0,\"ticks\":\"\"}}}],\"histogram\":[{\"marker\":{\"pattern\":{\"fillmode\":\"overlay\",\"size\":10,\"solidity\":0.2}},\"type\":\"histogram\"}],\"scattergl\":[{\"type\":\"scattergl\",\"marker\":{\"colorbar\":{\"outlinewidth\":0,\"ticks\":\"\"}}}],\"scatter3d\":[{\"type\":\"scatter3d\",\"line\":{\"colorbar\":{\"outlinewidth\":0,\"ticks\":\"\"}},\"marker\":{\"colorbar\":{\"outlinewidth\":0,\"ticks\":\"\"}}}],\"scattermapbox\":[{\"type\":\"scattermapbox\",\"marker\":{\"colorbar\":{\"outlinewidth\":0,\"ticks\":\"\"}}}],\"scatterternary\":[{\"type\":\"scatterternary\",\"marker\":{\"colorbar\":{\"outlinewidth\":0,\"ticks\":\"\"}}}],\"scattercarpet\":[{\"type\":\"scattercarpet\",\"marker\":{\"colorbar\":{\"outlinewidth\":0,\"ticks\":\"\"}}}],\"carpet\":[{\"aaxis\":{\"endlinecolor\":\"#2a3f5f\",\"gridcolor\":\"white\",\"linecolor\":\"white\",\"minorgridcolor\":\"white\",\"startlinecolor\":\"#2a3f5f\"},\"baxis\":{\"endlinecolor\":\"#2a3f5f\",\"gridcolor\":\"white\",\"linecolor\":\"white\",\"minorgridcolor\":\"white\",\"startlinecolor\":\"#2a3f5f\"},\"type\":\"carpet\"}],\"table\":[{\"cells\":{\"fill\":{\"color\":\"#EBF0F8\"},\"line\":{\"color\":\"white\"}},\"header\":{\"fill\":{\"color\":\"#C8D4E3\"},\"line\":{\"color\":\"white\"}},\"type\":\"table\"}],\"barpolar\":[{\"marker\":{\"line\":{\"color\":\"#E5ECF6\",\"width\":0.5},\"pattern\":{\"fillmode\":\"overlay\",\"size\":10,\"solidity\":0.2}},\"type\":\"barpolar\"}],\"pie\":[{\"automargin\":true,\"type\":\"pie\"}]},\"layout\":{\"autotypenumbers\":\"strict\",\"colorway\":[\"#636efa\",\"#EF553B\",\"#00cc96\",\"#ab63fa\",\"#FFA15A\",\"#19d3f3\",\"#FF6692\",\"#B6E880\",\"#FF97FF\",\"#FECB52\"],\"font\":{\"color\":\"#2a3f5f\"},\"hovermode\":\"closest\",\"hoverlabel\":{\"align\":\"left\"},\"paper_bgcolor\":\"white\",\"plot_bgcolor\":\"#E5ECF6\",\"polar\":{\"bgcolor\":\"#E5ECF6\",\"angularaxis\":{\"gridcolor\":\"white\",\"linecolor\":\"white\",\"ticks\":\"\"},\"radialaxis\":{\"gridcolor\":\"white\",\"linecolor\":\"white\",\"ticks\":\"\"}},\"ternary\":{\"bgcolor\":\"#E5ECF6\",\"aaxis\":{\"gridcolor\":\"white\",\"linecolor\":\"white\",\"ticks\":\"\"},\"baxis\":{\"gridcolor\":\"white\",\"linecolor\":\"white\",\"ticks\":\"\"},\"caxis\":{\"gridcolor\":\"white\",\"linecolor\":\"white\",\"ticks\":\"\"}},\"coloraxis\":{\"colorbar\":{\"outlinewidth\":0,\"ticks\":\"\"}},\"colorscale\":{\"sequential\":[[0.0,\"#0d0887\"],[0.1111111111111111,\"#46039f\"],[0.2222222222222222,\"#7201a8\"],[0.3333333333333333,\"#9c179e\"],[0.4444444444444444,\"#bd3786\"],[0.5555555555555556,\"#d8576b\"],[0.6666666666666666,\"#ed7953\"],[0.7777777777777778,\"#fb9f3a\"],[0.8888888888888888,\"#fdca26\"],[1.0,\"#f0f921\"]],\"sequentialminus\":[[0.0,\"#0d0887\"],[0.1111111111111111,\"#46039f\"],[0.2222222222222222,\"#7201a8\"],[0.3333333333333333,\"#9c179e\"],[0.4444444444444444,\"#bd3786\"],[0.5555555555555556,\"#d8576b\"],[0.6666666666666666,\"#ed7953\"],[0.7777777777777778,\"#fb9f3a\"],[0.8888888888888888,\"#fdca26\"],[1.0,\"#f0f921\"]],\"diverging\":[[0,\"#8e0152\"],[0.1,\"#c51b7d\"],[0.2,\"#de77ae\"],[0.3,\"#f1b6da\"],[0.4,\"#fde0ef\"],[0.5,\"#f7f7f7\"],[0.6,\"#e6f5d0\"],[0.7,\"#b8e186\"],[0.8,\"#7fbc41\"],[0.9,\"#4d9221\"],[1,\"#276419\"]]},\"xaxis\":{\"gridcolor\":\"white\",\"linecolor\":\"white\",\"ticks\":\"\",\"title\":{\"standoff\":15},\"zerolinecolor\":\"white\",\"automargin\":true,\"zerolinewidth\":2},\"yaxis\":{\"gridcolor\":\"white\",\"linecolor\":\"white\",\"ticks\":\"\",\"title\":{\"standoff\":15},\"zerolinecolor\":\"white\",\"automargin\":true,\"zerolinewidth\":2},\"scene\":{\"xaxis\":{\"backgroundcolor\":\"#E5ECF6\",\"gridcolor\":\"white\",\"linecolor\":\"white\",\"showbackground\":true,\"ticks\":\"\",\"zerolinecolor\":\"white\",\"gridwidth\":2},\"yaxis\":{\"backgroundcolor\":\"#E5ECF6\",\"gridcolor\":\"white\",\"linecolor\":\"white\",\"showbackground\":true,\"ticks\":\"\",\"zerolinecolor\":\"white\",\"gridwidth\":2},\"zaxis\":{\"backgroundcolor\":\"#E5ECF6\",\"gridcolor\":\"white\",\"linecolor\":\"white\",\"showbackground\":true,\"ticks\":\"\",\"zerolinecolor\":\"white\",\"gridwidth\":2}},\"shapedefaults\":{\"line\":{\"color\":\"#2a3f5f\"}},\"annotationdefaults\":{\"arrowcolor\":\"#2a3f5f\",\"arrowhead\":0,\"arrowwidth\":1},\"geo\":{\"bgcolor\":\"white\",\"landcolor\":\"#E5ECF6\",\"subunitcolor\":\"white\",\"showland\":true,\"showlakes\":true,\"lakecolor\":\"white\"},\"title\":{\"x\":0.05},\"mapbox\":{\"style\":\"light\"}}},\"xaxis\":{\"anchor\":\"y\",\"domain\":[0.0,1.0],\"title\":{\"text\":\"Cluster\"}},\"yaxis\":{\"anchor\":\"x\",\"domain\":[0.0,1.0],\"title\":{\"text\":\"Country_count\"}},\"legend\":{\"title\":{\"text\":\"Ops_Environment_level\"},\"tracegroupgap\":0},\"title\":{\"text\":\"Countries by Cluster and Operating Environment level\"},\"barmode\":\"relative\",\"height\":600},                        {\"responsive\": true}                    ).then(function(){\n",
       "                            \n",
       "var gd = document.getElementById('f5e0b483-27aa-459a-a803-41abfb56476c');\n",
       "var x = new MutationObserver(function (mutations, observer) {{\n",
       "        var display = window.getComputedStyle(gd).display;\n",
       "        if (!display || display === 'none') {{\n",
       "            console.log([gd, 'removed!']);\n",
       "            Plotly.purge(gd);\n",
       "            observer.disconnect();\n",
       "        }}\n",
       "}});\n",
       "\n",
       "// Listen for the removal of the full notebook cells\n",
       "var notebookContainer = gd.closest('#notebook-container');\n",
       "if (notebookContainer) {{\n",
       "    x.observe(notebookContainer, {childList: true});\n",
       "}}\n",
       "\n",
       "// Listen for the clearing of the current output cell\n",
       "var outputEl = gd.closest('.output');\n",
       "if (outputEl) {{\n",
       "    x.observe(outputEl, {childList: true});\n",
       "}}\n",
       "\n",
       "                        })                };                });            </script>        </div>"
      ]
     },
     "metadata": {},
     "output_type": "display_data"
    }
   ],
   "source": [
    "agg_data = ops_df.groupby(['Cluster', 'Ops_Environment_level']).size().reset_index(name='Country_count')\n",
    "\n",
    "agg_data = agg_data.sort_values(by=[\"Ops_Environment_level\", \"Country_count\"])\n",
    "\n",
    "fig = px.bar(\n",
    "    agg_data, \n",
    "    x='Cluster', \n",
    "    y='Country_count', \n",
    "    color='Ops_Environment_level', \n",
    "    title=\"Countries by Cluster and Operating Environment level\", \n",
    "    color_discrete_sequence=px.colors.qualitative.Prism,\n",
    "    height=600)\n",
    "fig.show()"
   ]
  },
  {
   "cell_type": "markdown",
   "id": "6b313876",
   "metadata": {
    "papermill": {
     "duration": 0.04553,
     "end_time": "2023-08-09T09:38:21.939515",
     "exception": false,
     "start_time": "2023-08-09T09:38:21.893985",
     "status": "completed"
    },
    "tags": []
   },
   "source": [
    "## <div style=\"font-size:20px;text-align:center;color:black;border-bottom:5px #0026d6 solid;padding-bottom:3%\">Operating Environment by Income Groups</div>"
   ]
  },
  {
   "cell_type": "code",
   "execution_count": null,
   "id": "3d6f6b4c",
   "metadata": {
    "_kg_hide-input": true,
    "execution": {
     "iopub.execute_input": "2023-08-09T09:38:22.032787Z",
     "iopub.status.busy": "2023-08-09T09:38:22.032366Z",
     "iopub.status.idle": "2023-08-09T09:38:22.095114Z",
     "shell.execute_reply": "2023-08-09T09:38:22.094001Z"
    },
    "papermill": {
     "duration": 0.11196,
     "end_time": "2023-08-09T09:38:22.097363",
     "exception": false,
     "start_time": "2023-08-09T09:38:21.985403",
     "status": "completed"
    },
    "tags": []
   },
   "outputs": [
    {
     "data": {
      "text/html": [
       "<div>                            <div id=\"11f560f1-b6be-4fc0-bb01-d95a61c777b5\" class=\"plotly-graph-div\" style=\"height:525px; width:100%;\"></div>            <script type=\"text/javascript\">                require([\"plotly\"], function(Plotly) {                    window.PLOTLYENV=window.PLOTLYENV || {};                                    if (document.getElementById(\"11f560f1-b6be-4fc0-bb01-d95a61c777b5\")) {                    Plotly.newPlot(                        \"11f560f1-b6be-4fc0-bb01-d95a61c777b5\",                        [{\"alignmentgroup\":\"True\",\"box\":{\"visible\":true},\"customdata\":[[\"United States of America\",\"Americas\",\"Power players\",\"Liberal democracy\",\"2 - High\"],[\"China\",\"Asia-Pacific\",\"Power players\",\"Closed autocracy\",\"1 - Very high\"],[\"United Kingdom\",\"Europe\",\"Traditional champions\",\"Liberal democracy\",\"2 - High\"],[\"Canada\",\"Americas\",\"Traditional champions\",\"Liberal democracy\",\"1 - Very high\"],[\"Israel\",\"Middle East\",\"Rising stars\",\"Liberal democracy\",\"1 - Very high\"],[\"Singapore\",\"Asia-Pacific\",\"Rising stars\",\"Electoral democracy\",\"3 - Moderate\"],[\"South Korea\",\"Asia-Pacific\",\"Rising stars\",\"Liberal democracy\",\"2 - High\"],[\"The Netherlands\",\"Europe\",\"Rising stars\",\"Liberal democracy\",\"1 - Very high\"],[\"Germany\",\"Europe\",\"Traditional champions\",\"Liberal democracy\",\"2 - High\"],[\"France\",\"Europe\",\"Traditional champions\",\"Liberal democracy\",\"1 - Very high\"],[\"Australia\",\"Asia-Pacific\",\"Rising stars\",\"Liberal democracy\",\"2 - High\"],[\"Ireland\",\"Europe\",\"Rising stars\",\"Liberal democracy\",\"2 - High\"],[\"Finland\",\"Europe\",\"Rising stars\",\"Liberal democracy\",\"2 - High\"],[\"Denmark\",\"Europe\",\"Rising stars\",\"Liberal democracy\",\"1 - Very high\"],[\"Luxembourg\",\"Europe\",\"Waking up\",\"Liberal democracy\",\"2 - High\"],[\"Japan\",\"Asia-Pacific\",\"Rising stars\",\"Liberal democracy\",\"3 - Moderate\"],[\"India\",\"Asia-Pacific\",\"Waking up\",\"Electoral autocracy\",\"2 - High\"],[\"Switzerland\",\"Europe\",\"Rising stars\",\"Liberal democracy\",\"3 - Moderate\"],[\"Sweden\",\"Europe\",\"Waking up\",\"Liberal democracy\",\"2 - High\"],[\"Hong Kong\",\"Asia-Pacific\",\"Waking up\",\"Electoral democracy\",\"3 - Moderate\"],[\"Spain\",\"Europe\",\"Rising stars\",\"Liberal democracy\",\"2 - High\"],[\"Austria\",\"Europe\",\"Waking up\",\"Electoral democracy\",\"2 - High\"],[\"Estonia\",\"Europe\",\"Waking up\",\"Liberal democracy\",\"1 - Very high\"],[\"Taiwan\",\"Asia-Pacific\",\"Waking up\",\"Liberal democracy\",\"3 - Moderate\"],[\"Norway\",\"Europe\",\"Waking up\",\"Liberal democracy\",\"4 - Low\"],[\"Saudi Arabia\",\"Middle East\",\"Waking up\",\"Closed autocracy\",\"1 - Very high\"],[\"Belgium\",\"Europe\",\"Waking up\",\"Liberal democracy\",\"2 - High\"],[\"Poland\",\"Europe\",\"Waking up\",\"Electoral democracy\",\"1 - Very high\"],[\"Slovenia\",\"Europe\",\"Waking up\",\"Electoral democracy\",\"1 - Very high\"],[\"New Zealand\",\"Asia-Pacific\",\"Waking up\",\"Liberal democracy\",\"1 - Very high\"],[\"Italy\",\"Europe\",\"Waking up\",\"Liberal democracy\",\"1 - Very high\"],[\"Russia\",\"Europe\",\"Waking up\",\"Electoral autocracy\",\"3 - Moderate\"],[\"Malta\",\"Europe\",\"Waking up\",\"Electoral democracy\",\"2 - High\"],[\"United Arab Emirates\",\"Middle East\",\"Waking up\",\"Closed autocracy\",\"2 - High\"],[\"Portugal\",\"Europe\",\"Waking up\",\"Electoral democracy\",\"1 - Very high\"],[\"Czech Republic\",\"Europe\",\"Waking up\",\"Electoral democracy\",\"2 - High\"],[\"Iceland\",\"Europe\",\"Waking up\",\"Liberal democracy\",\"3 - Moderate\"],[\"Lithuania\",\"Europe\",\"Waking up\",\"Electoral democracy\",\"1 - Very high\"],[\"Brazil\",\"Americas\",\"Waking up\",\"Electoral democracy\",\"2 - High\"],[\"Greece\",\"Europe\",\"Waking up\",\"Liberal democracy\",\"1 - Very high\"],[\"Slovakia\",\"Europe\",\"Waking up\",\"Electoral democracy\",\"1 - Very high\"],[\"Hungary\",\"Europe\",\"Waking up\",\"Electoral autocracy\",\"3 - Moderate\"],[\"Malaysia\",\"Asia-Pacific\",\"Waking up\",\"Electoral autocracy\",\"2 - High\"],[\"Mexico\",\"Americas\",\"Waking up\",\"Electoral democracy\",\"1 - Very high\"],[\"Chile\",\"Americas\",\"Waking up\",\"Liberal democracy\",\"3 - Moderate\"],[\"Argentina\",\"Americas\",\"Waking up\",\"Electoral democracy\",\"2 - High\"],[\"Qatar\",\"Middle East\",\"Waking up\",\"Closed autocracy\",\"2 - High\"],[\"Turkey\",\"Europe\",\"Waking up\",\"Electoral democracy\",\"2 - High\"],[\"Colombia\",\"Americas\",\"Waking up\",\"Electoral democracy\",\"2 - High\"],[\"Uruguay\",\"Americas\",\"Waking up\",\"Liberal democracy\",\"2 - High\"],[\"Bahrain\",\"Middle East\",\"Waking up\",\"Closed autocracy\",\"2 - High\"],[\"Vietnam\",\"Asia-Pacific\",\"Waking up\",\"Closed autocracy\",\"4 - Low\"],[\"Indonesia\",\"Asia-Pacific\",\"Waking up\",\"Electoral democracy\",\"3 - Moderate\"],[\"Tunisia\",\"Africa\",\"Waking up\",\"Electoral democracy\",\"2 - High\"],[\"South Africa\",\"Africa\",\"Waking up\",\"Electoral democracy\",\"3 - Moderate\"],[\"Morocco\",\"Africa\",\"Waking up\",\"Closed autocracy\",\"2 - High\"],[\"Armenia\",\"Europe\",\"Waking up\",\"Electoral democracy\",\"3 - Moderate\"],[\"Sri Lanka\",\"Asia-Pacific\",\"Nascent\",\"Electoral democracy\",\"4 - Low\"],[\"Egypt\",\"Middle East\",\"Nascent\",\"Electoral autocracy\",\"5 - Very low\"],[\"Kenya\",\"Africa\",\"Nascent\",\"Electoral autocracy\",\"4 - Low\"],[\"Nigeria\",\"Africa\",\"Nascent\",\"Electoral autocracy\",\"3 - Moderate\"],[\"Pakistan\",\"Asia-Pacific\",\"Nascent\",\"Electoral autocracy\",\"5 - Very low\"]],\"hovertemplate\":\"Income group=%{x}\\u003cbr\\u003eOperating Environment=%{y}\\u003cbr\\u003eCountry=%{customdata[0]}\\u003cbr\\u003eRegion=%{customdata[1]}\\u003cbr\\u003eCluster=%{customdata[2]}\\u003cbr\\u003ePolitical regime=%{customdata[3]}\\u003cbr\\u003eOps_Environment_level=%{customdata[4]}\\u003cextra\\u003e\\u003c\\u002fextra\\u003e\",\"legendgroup\":\"\",\"marker\":{\"color\":\"#636efa\"},\"name\":\"\",\"offsetgroup\":\"\",\"orientation\":\"v\",\"points\":\"all\",\"scalegroup\":\"True\",\"showlegend\":false,\"x\":[\"High\",\"Upper middle\",\"High\",\"High\",\"High\",\"High\",\"High\",\"High\",\"High\",\"High\",\"High\",\"High\",\"High\",\"High\",\"High\",\"High\",\"Lower middle\",\"High\",\"High\",\"High\",\"High\",\"High\",\"High\",\"High\",\"High\",\"High\",\"High\",\"High\",\"High\",\"High\",\"High\",\"Upper middle\",\"High\",\"High\",\"High\",\"High\",\"High\",\"High\",\"Upper middle\",\"High\",\"High\",\"High\",\"Upper middle\",\"Upper middle\",\"High\",\"Upper middle\",\"High\",\"High\",\"Upper middle\",\"High\",\"High\",\"Lower middle\",\"Lower middle\",\"Lower middle\",\"Upper middle\",\"Lower middle\",\"Upper middle\",\"Lower middle\",\"Lower middle\",\"Lower middle\",\"Lower middle\",\"Lower middle\"],\"x0\":\" \",\"xaxis\":\"x\",\"y\":[64.56,91.57,74.65,93.94,82.44,43.15,68.86,88.05,70.22,80.02,61.23,70.15,78.76,85.39,66.96,57.53,77.3,44.14,66.77,59.5,75.36,76.3,88.67,56.67,36.65,100.0,64.08,99.56,94.55,90.35,83.25,52.85,70.96,72.12,80.66,76.97,41.19,80.67,72.82,83.58,88.71,58.01,73.24,97.03,56.73,75.95,62.58,64.34,62.37,70.75,60.9,37.61,51.18,62.32,58.43,60.17,58.4,35.79,0.0,29.84,50.1,12.48],\"y0\":\" \",\"yaxis\":\"y\",\"type\":\"violin\"}],                        {\"template\":{\"data\":{\"histogram2dcontour\":[{\"type\":\"histogram2dcontour\",\"colorbar\":{\"outlinewidth\":0,\"ticks\":\"\"},\"colorscale\":[[0.0,\"#0d0887\"],[0.1111111111111111,\"#46039f\"],[0.2222222222222222,\"#7201a8\"],[0.3333333333333333,\"#9c179e\"],[0.4444444444444444,\"#bd3786\"],[0.5555555555555556,\"#d8576b\"],[0.6666666666666666,\"#ed7953\"],[0.7777777777777778,\"#fb9f3a\"],[0.8888888888888888,\"#fdca26\"],[1.0,\"#f0f921\"]]}],\"choropleth\":[{\"type\":\"choropleth\",\"colorbar\":{\"outlinewidth\":0,\"ticks\":\"\"}}],\"histogram2d\":[{\"type\":\"histogram2d\",\"colorbar\":{\"outlinewidth\":0,\"ticks\":\"\"},\"colorscale\":[[0.0,\"#0d0887\"],[0.1111111111111111,\"#46039f\"],[0.2222222222222222,\"#7201a8\"],[0.3333333333333333,\"#9c179e\"],[0.4444444444444444,\"#bd3786\"],[0.5555555555555556,\"#d8576b\"],[0.6666666666666666,\"#ed7953\"],[0.7777777777777778,\"#fb9f3a\"],[0.8888888888888888,\"#fdca26\"],[1.0,\"#f0f921\"]]}],\"heatmap\":[{\"type\":\"heatmap\",\"colorbar\":{\"outlinewidth\":0,\"ticks\":\"\"},\"colorscale\":[[0.0,\"#0d0887\"],[0.1111111111111111,\"#46039f\"],[0.2222222222222222,\"#7201a8\"],[0.3333333333333333,\"#9c179e\"],[0.4444444444444444,\"#bd3786\"],[0.5555555555555556,\"#d8576b\"],[0.6666666666666666,\"#ed7953\"],[0.7777777777777778,\"#fb9f3a\"],[0.8888888888888888,\"#fdca26\"],[1.0,\"#f0f921\"]]}],\"heatmapgl\":[{\"type\":\"heatmapgl\",\"colorbar\":{\"outlinewidth\":0,\"ticks\":\"\"},\"colorscale\":[[0.0,\"#0d0887\"],[0.1111111111111111,\"#46039f\"],[0.2222222222222222,\"#7201a8\"],[0.3333333333333333,\"#9c179e\"],[0.4444444444444444,\"#bd3786\"],[0.5555555555555556,\"#d8576b\"],[0.6666666666666666,\"#ed7953\"],[0.7777777777777778,\"#fb9f3a\"],[0.8888888888888888,\"#fdca26\"],[1.0,\"#f0f921\"]]}],\"contourcarpet\":[{\"type\":\"contourcarpet\",\"colorbar\":{\"outlinewidth\":0,\"ticks\":\"\"}}],\"contour\":[{\"type\":\"contour\",\"colorbar\":{\"outlinewidth\":0,\"ticks\":\"\"},\"colorscale\":[[0.0,\"#0d0887\"],[0.1111111111111111,\"#46039f\"],[0.2222222222222222,\"#7201a8\"],[0.3333333333333333,\"#9c179e\"],[0.4444444444444444,\"#bd3786\"],[0.5555555555555556,\"#d8576b\"],[0.6666666666666666,\"#ed7953\"],[0.7777777777777778,\"#fb9f3a\"],[0.8888888888888888,\"#fdca26\"],[1.0,\"#f0f921\"]]}],\"surface\":[{\"type\":\"surface\",\"colorbar\":{\"outlinewidth\":0,\"ticks\":\"\"},\"colorscale\":[[0.0,\"#0d0887\"],[0.1111111111111111,\"#46039f\"],[0.2222222222222222,\"#7201a8\"],[0.3333333333333333,\"#9c179e\"],[0.4444444444444444,\"#bd3786\"],[0.5555555555555556,\"#d8576b\"],[0.6666666666666666,\"#ed7953\"],[0.7777777777777778,\"#fb9f3a\"],[0.8888888888888888,\"#fdca26\"],[1.0,\"#f0f921\"]]}],\"mesh3d\":[{\"type\":\"mesh3d\",\"colorbar\":{\"outlinewidth\":0,\"ticks\":\"\"}}],\"scatter\":[{\"fillpattern\":{\"fillmode\":\"overlay\",\"size\":10,\"solidity\":0.2},\"type\":\"scatter\"}],\"parcoords\":[{\"type\":\"parcoords\",\"line\":{\"colorbar\":{\"outlinewidth\":0,\"ticks\":\"\"}}}],\"scatterpolargl\":[{\"type\":\"scatterpolargl\",\"marker\":{\"colorbar\":{\"outlinewidth\":0,\"ticks\":\"\"}}}],\"bar\":[{\"error_x\":{\"color\":\"#2a3f5f\"},\"error_y\":{\"color\":\"#2a3f5f\"},\"marker\":{\"line\":{\"color\":\"#E5ECF6\",\"width\":0.5},\"pattern\":{\"fillmode\":\"overlay\",\"size\":10,\"solidity\":0.2}},\"type\":\"bar\"}],\"scattergeo\":[{\"type\":\"scattergeo\",\"marker\":{\"colorbar\":{\"outlinewidth\":0,\"ticks\":\"\"}}}],\"scatterpolar\":[{\"type\":\"scatterpolar\",\"marker\":{\"colorbar\":{\"outlinewidth\":0,\"ticks\":\"\"}}}],\"histogram\":[{\"marker\":{\"pattern\":{\"fillmode\":\"overlay\",\"size\":10,\"solidity\":0.2}},\"type\":\"histogram\"}],\"scattergl\":[{\"type\":\"scattergl\",\"marker\":{\"colorbar\":{\"outlinewidth\":0,\"ticks\":\"\"}}}],\"scatter3d\":[{\"type\":\"scatter3d\",\"line\":{\"colorbar\":{\"outlinewidth\":0,\"ticks\":\"\"}},\"marker\":{\"colorbar\":{\"outlinewidth\":0,\"ticks\":\"\"}}}],\"scattermapbox\":[{\"type\":\"scattermapbox\",\"marker\":{\"colorbar\":{\"outlinewidth\":0,\"ticks\":\"\"}}}],\"scatterternary\":[{\"type\":\"scatterternary\",\"marker\":{\"colorbar\":{\"outlinewidth\":0,\"ticks\":\"\"}}}],\"scattercarpet\":[{\"type\":\"scattercarpet\",\"marker\":{\"colorbar\":{\"outlinewidth\":0,\"ticks\":\"\"}}}],\"carpet\":[{\"aaxis\":{\"endlinecolor\":\"#2a3f5f\",\"gridcolor\":\"white\",\"linecolor\":\"white\",\"minorgridcolor\":\"white\",\"startlinecolor\":\"#2a3f5f\"},\"baxis\":{\"endlinecolor\":\"#2a3f5f\",\"gridcolor\":\"white\",\"linecolor\":\"white\",\"minorgridcolor\":\"white\",\"startlinecolor\":\"#2a3f5f\"},\"type\":\"carpet\"}],\"table\":[{\"cells\":{\"fill\":{\"color\":\"#EBF0F8\"},\"line\":{\"color\":\"white\"}},\"header\":{\"fill\":{\"color\":\"#C8D4E3\"},\"line\":{\"color\":\"white\"}},\"type\":\"table\"}],\"barpolar\":[{\"marker\":{\"line\":{\"color\":\"#E5ECF6\",\"width\":0.5},\"pattern\":{\"fillmode\":\"overlay\",\"size\":10,\"solidity\":0.2}},\"type\":\"barpolar\"}],\"pie\":[{\"automargin\":true,\"type\":\"pie\"}]},\"layout\":{\"autotypenumbers\":\"strict\",\"colorway\":[\"#636efa\",\"#EF553B\",\"#00cc96\",\"#ab63fa\",\"#FFA15A\",\"#19d3f3\",\"#FF6692\",\"#B6E880\",\"#FF97FF\",\"#FECB52\"],\"font\":{\"color\":\"#2a3f5f\"},\"hovermode\":\"closest\",\"hoverlabel\":{\"align\":\"left\"},\"paper_bgcolor\":\"white\",\"plot_bgcolor\":\"#E5ECF6\",\"polar\":{\"bgcolor\":\"#E5ECF6\",\"angularaxis\":{\"gridcolor\":\"white\",\"linecolor\":\"white\",\"ticks\":\"\"},\"radialaxis\":{\"gridcolor\":\"white\",\"linecolor\":\"white\",\"ticks\":\"\"}},\"ternary\":{\"bgcolor\":\"#E5ECF6\",\"aaxis\":{\"gridcolor\":\"white\",\"linecolor\":\"white\",\"ticks\":\"\"},\"baxis\":{\"gridcolor\":\"white\",\"linecolor\":\"white\",\"ticks\":\"\"},\"caxis\":{\"gridcolor\":\"white\",\"linecolor\":\"white\",\"ticks\":\"\"}},\"coloraxis\":{\"colorbar\":{\"outlinewidth\":0,\"ticks\":\"\"}},\"colorscale\":{\"sequential\":[[0.0,\"#0d0887\"],[0.1111111111111111,\"#46039f\"],[0.2222222222222222,\"#7201a8\"],[0.3333333333333333,\"#9c179e\"],[0.4444444444444444,\"#bd3786\"],[0.5555555555555556,\"#d8576b\"],[0.6666666666666666,\"#ed7953\"],[0.7777777777777778,\"#fb9f3a\"],[0.8888888888888888,\"#fdca26\"],[1.0,\"#f0f921\"]],\"sequentialminus\":[[0.0,\"#0d0887\"],[0.1111111111111111,\"#46039f\"],[0.2222222222222222,\"#7201a8\"],[0.3333333333333333,\"#9c179e\"],[0.4444444444444444,\"#bd3786\"],[0.5555555555555556,\"#d8576b\"],[0.6666666666666666,\"#ed7953\"],[0.7777777777777778,\"#fb9f3a\"],[0.8888888888888888,\"#fdca26\"],[1.0,\"#f0f921\"]],\"diverging\":[[0,\"#8e0152\"],[0.1,\"#c51b7d\"],[0.2,\"#de77ae\"],[0.3,\"#f1b6da\"],[0.4,\"#fde0ef\"],[0.5,\"#f7f7f7\"],[0.6,\"#e6f5d0\"],[0.7,\"#b8e186\"],[0.8,\"#7fbc41\"],[0.9,\"#4d9221\"],[1,\"#276419\"]]},\"xaxis\":{\"gridcolor\":\"white\",\"linecolor\":\"white\",\"ticks\":\"\",\"title\":{\"standoff\":15},\"zerolinecolor\":\"white\",\"automargin\":true,\"zerolinewidth\":2},\"yaxis\":{\"gridcolor\":\"white\",\"linecolor\":\"white\",\"ticks\":\"\",\"title\":{\"standoff\":15},\"zerolinecolor\":\"white\",\"automargin\":true,\"zerolinewidth\":2},\"scene\":{\"xaxis\":{\"backgroundcolor\":\"#E5ECF6\",\"gridcolor\":\"white\",\"linecolor\":\"white\",\"showbackground\":true,\"ticks\":\"\",\"zerolinecolor\":\"white\",\"gridwidth\":2},\"yaxis\":{\"backgroundcolor\":\"#E5ECF6\",\"gridcolor\":\"white\",\"linecolor\":\"white\",\"showbackground\":true,\"ticks\":\"\",\"zerolinecolor\":\"white\",\"gridwidth\":2},\"zaxis\":{\"backgroundcolor\":\"#E5ECF6\",\"gridcolor\":\"white\",\"linecolor\":\"white\",\"showbackground\":true,\"ticks\":\"\",\"zerolinecolor\":\"white\",\"gridwidth\":2}},\"shapedefaults\":{\"line\":{\"color\":\"#2a3f5f\"}},\"annotationdefaults\":{\"arrowcolor\":\"#2a3f5f\",\"arrowhead\":0,\"arrowwidth\":1},\"geo\":{\"bgcolor\":\"white\",\"landcolor\":\"#E5ECF6\",\"subunitcolor\":\"white\",\"showland\":true,\"showlakes\":true,\"lakecolor\":\"white\"},\"title\":{\"x\":0.05},\"mapbox\":{\"style\":\"light\"}}},\"xaxis\":{\"anchor\":\"y\",\"domain\":[0.0,1.0],\"title\":{\"text\":\"Income group\"}},\"yaxis\":{\"anchor\":\"x\",\"domain\":[0.0,1.0],\"title\":{\"text\":\"Operating Environment\"}},\"legend\":{\"tracegroupgap\":0},\"title\":{\"text\":\"Operating Environment by Income Groups\"},\"violinmode\":\"group\"},                        {\"responsive\": true}                    ).then(function(){\n",
       "                            \n",
       "var gd = document.getElementById('11f560f1-b6be-4fc0-bb01-d95a61c777b5');\n",
       "var x = new MutationObserver(function (mutations, observer) {{\n",
       "        var display = window.getComputedStyle(gd).display;\n",
       "        if (!display || display === 'none') {{\n",
       "            console.log([gd, 'removed!']);\n",
       "            Plotly.purge(gd);\n",
       "            observer.disconnect();\n",
       "        }}\n",
       "}});\n",
       "\n",
       "// Listen for the removal of the full notebook cells\n",
       "var notebookContainer = gd.closest('#notebook-container');\n",
       "if (notebookContainer) {{\n",
       "    x.observe(notebookContainer, {childList: true});\n",
       "}}\n",
       "\n",
       "// Listen for the clearing of the current output cell\n",
       "var outputEl = gd.closest('.output');\n",
       "if (outputEl) {{\n",
       "    x.observe(outputEl, {childList: true});\n",
       "}}\n",
       "\n",
       "                        })                };                });            </script>        </div>"
      ]
     },
     "metadata": {},
     "output_type": "display_data"
    }
   ],
   "source": [
    "fig = px.violin(ops_df, \n",
    "                y=\"Operating Environment\", \n",
    "                x=\"Income group\", \n",
    "                box=True, \n",
    "                points=\"all\", \n",
    "                title=\"Operating Environment by Income Groups\", \n",
    "                hover_data=ops_df.columns)\n",
    "fig.show()"
   ]
  },
  {
   "cell_type": "code",
   "execution_count": null,
   "id": "9a3943e8",
   "metadata": {
    "_kg_hide-input": true,
    "execution": {
     "iopub.execute_input": "2023-08-09T09:38:22.192737Z",
     "iopub.status.busy": "2023-08-09T09:38:22.192058Z",
     "iopub.status.idle": "2023-08-09T09:38:22.270658Z",
     "shell.execute_reply": "2023-08-09T09:38:22.269560Z"
    },
    "papermill": {
     "duration": 0.129213,
     "end_time": "2023-08-09T09:38:22.273146",
     "exception": false,
     "start_time": "2023-08-09T09:38:22.143933",
     "status": "completed"
    },
    "tags": []
   },
   "outputs": [
    {
     "data": {
      "text/html": [
       "<div>                            <div id=\"90920ba0-e87b-40aa-97f6-157d0f4d9689\" class=\"plotly-graph-div\" style=\"height:600px; width:100%;\"></div>            <script type=\"text/javascript\">                require([\"plotly\"], function(Plotly) {                    window.PLOTLYENV=window.PLOTLYENV || {};                                    if (document.getElementById(\"90920ba0-e87b-40aa-97f6-157d0f4d9689\")) {                    Plotly.newPlot(                        \"90920ba0-e87b-40aa-97f6-157d0f4d9689\",                        [{\"alignmentgroup\":\"True\",\"hovertemplate\":\"Ops_Environment_level=1 - Very high\\u003cbr\\u003eIncome group=%{x}\\u003cbr\\u003eCountry_count=%{y}\\u003cextra\\u003e\\u003c\\u002fextra\\u003e\",\"legendgroup\":\"1 - Very high\",\"marker\":{\"color\":\"rgb(95, 70, 144)\",\"pattern\":{\"shape\":\"\"}},\"name\":\"1 - Very high\",\"offsetgroup\":\"1 - Very high\",\"orientation\":\"v\",\"showlegend\":true,\"textposition\":\"auto\",\"x\":[\"Upper middle\",\"High\"],\"xaxis\":\"x\",\"y\":[2,15],\"yaxis\":\"y\",\"type\":\"bar\"},{\"alignmentgroup\":\"True\",\"hovertemplate\":\"Ops_Environment_level=2 - High\\u003cbr\\u003eIncome group=%{x}\\u003cbr\\u003eCountry_count=%{y}\\u003cextra\\u003e\\u003c\\u002fextra\\u003e\",\"legendgroup\":\"2 - High\",\"marker\":{\"color\":\"rgb(29, 105, 150)\",\"pattern\":{\"shape\":\"\"}},\"name\":\"2 - High\",\"offsetgroup\":\"2 - High\",\"orientation\":\"v\",\"showlegend\":true,\"textposition\":\"auto\",\"x\":[\"Lower middle\",\"Upper middle\",\"High\"],\"xaxis\":\"x\",\"y\":[3,4,19],\"yaxis\":\"y\",\"type\":\"bar\"},{\"alignmentgroup\":\"True\",\"hovertemplate\":\"Ops_Environment_level=3 - Moderate\\u003cbr\\u003eIncome group=%{x}\\u003cbr\\u003eCountry_count=%{y}\\u003cextra\\u003e\\u003c\\u002fextra\\u003e\",\"legendgroup\":\"3 - Moderate\",\"marker\":{\"color\":\"rgb(56, 166, 165)\",\"pattern\":{\"shape\":\"\"}},\"name\":\"3 - Moderate\",\"offsetgroup\":\"3 - Moderate\",\"orientation\":\"v\",\"showlegend\":true,\"textposition\":\"auto\",\"x\":[\"Lower middle\",\"Upper middle\",\"High\"],\"xaxis\":\"x\",\"y\":[2,3,8],\"yaxis\":\"y\",\"type\":\"bar\"},{\"alignmentgroup\":\"True\",\"hovertemplate\":\"Ops_Environment_level=4 - Low\\u003cbr\\u003eIncome group=%{x}\\u003cbr\\u003eCountry_count=%{y}\\u003cextra\\u003e\\u003c\\u002fextra\\u003e\",\"legendgroup\":\"4 - Low\",\"marker\":{\"color\":\"rgb(15, 133, 84)\",\"pattern\":{\"shape\":\"\"}},\"name\":\"4 - Low\",\"offsetgroup\":\"4 - Low\",\"orientation\":\"v\",\"showlegend\":true,\"textposition\":\"auto\",\"x\":[\"High\",\"Lower middle\"],\"xaxis\":\"x\",\"y\":[1,3],\"yaxis\":\"y\",\"type\":\"bar\"},{\"alignmentgroup\":\"True\",\"hovertemplate\":\"Ops_Environment_level=5 - Very low\\u003cbr\\u003eIncome group=%{x}\\u003cbr\\u003eCountry_count=%{y}\\u003cextra\\u003e\\u003c\\u002fextra\\u003e\",\"legendgroup\":\"5 - Very low\",\"marker\":{\"color\":\"rgb(115, 175, 72)\",\"pattern\":{\"shape\":\"\"}},\"name\":\"5 - Very low\",\"offsetgroup\":\"5 - Very low\",\"orientation\":\"v\",\"showlegend\":true,\"textposition\":\"auto\",\"x\":[\"Lower middle\"],\"xaxis\":\"x\",\"y\":[2],\"yaxis\":\"y\",\"type\":\"bar\"}],                        {\"template\":{\"data\":{\"histogram2dcontour\":[{\"type\":\"histogram2dcontour\",\"colorbar\":{\"outlinewidth\":0,\"ticks\":\"\"},\"colorscale\":[[0.0,\"#0d0887\"],[0.1111111111111111,\"#46039f\"],[0.2222222222222222,\"#7201a8\"],[0.3333333333333333,\"#9c179e\"],[0.4444444444444444,\"#bd3786\"],[0.5555555555555556,\"#d8576b\"],[0.6666666666666666,\"#ed7953\"],[0.7777777777777778,\"#fb9f3a\"],[0.8888888888888888,\"#fdca26\"],[1.0,\"#f0f921\"]]}],\"choropleth\":[{\"type\":\"choropleth\",\"colorbar\":{\"outlinewidth\":0,\"ticks\":\"\"}}],\"histogram2d\":[{\"type\":\"histogram2d\",\"colorbar\":{\"outlinewidth\":0,\"ticks\":\"\"},\"colorscale\":[[0.0,\"#0d0887\"],[0.1111111111111111,\"#46039f\"],[0.2222222222222222,\"#7201a8\"],[0.3333333333333333,\"#9c179e\"],[0.4444444444444444,\"#bd3786\"],[0.5555555555555556,\"#d8576b\"],[0.6666666666666666,\"#ed7953\"],[0.7777777777777778,\"#fb9f3a\"],[0.8888888888888888,\"#fdca26\"],[1.0,\"#f0f921\"]]}],\"heatmap\":[{\"type\":\"heatmap\",\"colorbar\":{\"outlinewidth\":0,\"ticks\":\"\"},\"colorscale\":[[0.0,\"#0d0887\"],[0.1111111111111111,\"#46039f\"],[0.2222222222222222,\"#7201a8\"],[0.3333333333333333,\"#9c179e\"],[0.4444444444444444,\"#bd3786\"],[0.5555555555555556,\"#d8576b\"],[0.6666666666666666,\"#ed7953\"],[0.7777777777777778,\"#fb9f3a\"],[0.8888888888888888,\"#fdca26\"],[1.0,\"#f0f921\"]]}],\"heatmapgl\":[{\"type\":\"heatmapgl\",\"colorbar\":{\"outlinewidth\":0,\"ticks\":\"\"},\"colorscale\":[[0.0,\"#0d0887\"],[0.1111111111111111,\"#46039f\"],[0.2222222222222222,\"#7201a8\"],[0.3333333333333333,\"#9c179e\"],[0.4444444444444444,\"#bd3786\"],[0.5555555555555556,\"#d8576b\"],[0.6666666666666666,\"#ed7953\"],[0.7777777777777778,\"#fb9f3a\"],[0.8888888888888888,\"#fdca26\"],[1.0,\"#f0f921\"]]}],\"contourcarpet\":[{\"type\":\"contourcarpet\",\"colorbar\":{\"outlinewidth\":0,\"ticks\":\"\"}}],\"contour\":[{\"type\":\"contour\",\"colorbar\":{\"outlinewidth\":0,\"ticks\":\"\"},\"colorscale\":[[0.0,\"#0d0887\"],[0.1111111111111111,\"#46039f\"],[0.2222222222222222,\"#7201a8\"],[0.3333333333333333,\"#9c179e\"],[0.4444444444444444,\"#bd3786\"],[0.5555555555555556,\"#d8576b\"],[0.6666666666666666,\"#ed7953\"],[0.7777777777777778,\"#fb9f3a\"],[0.8888888888888888,\"#fdca26\"],[1.0,\"#f0f921\"]]}],\"surface\":[{\"type\":\"surface\",\"colorbar\":{\"outlinewidth\":0,\"ticks\":\"\"},\"colorscale\":[[0.0,\"#0d0887\"],[0.1111111111111111,\"#46039f\"],[0.2222222222222222,\"#7201a8\"],[0.3333333333333333,\"#9c179e\"],[0.4444444444444444,\"#bd3786\"],[0.5555555555555556,\"#d8576b\"],[0.6666666666666666,\"#ed7953\"],[0.7777777777777778,\"#fb9f3a\"],[0.8888888888888888,\"#fdca26\"],[1.0,\"#f0f921\"]]}],\"mesh3d\":[{\"type\":\"mesh3d\",\"colorbar\":{\"outlinewidth\":0,\"ticks\":\"\"}}],\"scatter\":[{\"fillpattern\":{\"fillmode\":\"overlay\",\"size\":10,\"solidity\":0.2},\"type\":\"scatter\"}],\"parcoords\":[{\"type\":\"parcoords\",\"line\":{\"colorbar\":{\"outlinewidth\":0,\"ticks\":\"\"}}}],\"scatterpolargl\":[{\"type\":\"scatterpolargl\",\"marker\":{\"colorbar\":{\"outlinewidth\":0,\"ticks\":\"\"}}}],\"bar\":[{\"error_x\":{\"color\":\"#2a3f5f\"},\"error_y\":{\"color\":\"#2a3f5f\"},\"marker\":{\"line\":{\"color\":\"#E5ECF6\",\"width\":0.5},\"pattern\":{\"fillmode\":\"overlay\",\"size\":10,\"solidity\":0.2}},\"type\":\"bar\"}],\"scattergeo\":[{\"type\":\"scattergeo\",\"marker\":{\"colorbar\":{\"outlinewidth\":0,\"ticks\":\"\"}}}],\"scatterpolar\":[{\"type\":\"scatterpolar\",\"marker\":{\"colorbar\":{\"outlinewidth\":0,\"ticks\":\"\"}}}],\"histogram\":[{\"marker\":{\"pattern\":{\"fillmode\":\"overlay\",\"size\":10,\"solidity\":0.2}},\"type\":\"histogram\"}],\"scattergl\":[{\"type\":\"scattergl\",\"marker\":{\"colorbar\":{\"outlinewidth\":0,\"ticks\":\"\"}}}],\"scatter3d\":[{\"type\":\"scatter3d\",\"line\":{\"colorbar\":{\"outlinewidth\":0,\"ticks\":\"\"}},\"marker\":{\"colorbar\":{\"outlinewidth\":0,\"ticks\":\"\"}}}],\"scattermapbox\":[{\"type\":\"scattermapbox\",\"marker\":{\"colorbar\":{\"outlinewidth\":0,\"ticks\":\"\"}}}],\"scatterternary\":[{\"type\":\"scatterternary\",\"marker\":{\"colorbar\":{\"outlinewidth\":0,\"ticks\":\"\"}}}],\"scattercarpet\":[{\"type\":\"scattercarpet\",\"marker\":{\"colorbar\":{\"outlinewidth\":0,\"ticks\":\"\"}}}],\"carpet\":[{\"aaxis\":{\"endlinecolor\":\"#2a3f5f\",\"gridcolor\":\"white\",\"linecolor\":\"white\",\"minorgridcolor\":\"white\",\"startlinecolor\":\"#2a3f5f\"},\"baxis\":{\"endlinecolor\":\"#2a3f5f\",\"gridcolor\":\"white\",\"linecolor\":\"white\",\"minorgridcolor\":\"white\",\"startlinecolor\":\"#2a3f5f\"},\"type\":\"carpet\"}],\"table\":[{\"cells\":{\"fill\":{\"color\":\"#EBF0F8\"},\"line\":{\"color\":\"white\"}},\"header\":{\"fill\":{\"color\":\"#C8D4E3\"},\"line\":{\"color\":\"white\"}},\"type\":\"table\"}],\"barpolar\":[{\"marker\":{\"line\":{\"color\":\"#E5ECF6\",\"width\":0.5},\"pattern\":{\"fillmode\":\"overlay\",\"size\":10,\"solidity\":0.2}},\"type\":\"barpolar\"}],\"pie\":[{\"automargin\":true,\"type\":\"pie\"}]},\"layout\":{\"autotypenumbers\":\"strict\",\"colorway\":[\"#636efa\",\"#EF553B\",\"#00cc96\",\"#ab63fa\",\"#FFA15A\",\"#19d3f3\",\"#FF6692\",\"#B6E880\",\"#FF97FF\",\"#FECB52\"],\"font\":{\"color\":\"#2a3f5f\"},\"hovermode\":\"closest\",\"hoverlabel\":{\"align\":\"left\"},\"paper_bgcolor\":\"white\",\"plot_bgcolor\":\"#E5ECF6\",\"polar\":{\"bgcolor\":\"#E5ECF6\",\"angularaxis\":{\"gridcolor\":\"white\",\"linecolor\":\"white\",\"ticks\":\"\"},\"radialaxis\":{\"gridcolor\":\"white\",\"linecolor\":\"white\",\"ticks\":\"\"}},\"ternary\":{\"bgcolor\":\"#E5ECF6\",\"aaxis\":{\"gridcolor\":\"white\",\"linecolor\":\"white\",\"ticks\":\"\"},\"baxis\":{\"gridcolor\":\"white\",\"linecolor\":\"white\",\"ticks\":\"\"},\"caxis\":{\"gridcolor\":\"white\",\"linecolor\":\"white\",\"ticks\":\"\"}},\"coloraxis\":{\"colorbar\":{\"outlinewidth\":0,\"ticks\":\"\"}},\"colorscale\":{\"sequential\":[[0.0,\"#0d0887\"],[0.1111111111111111,\"#46039f\"],[0.2222222222222222,\"#7201a8\"],[0.3333333333333333,\"#9c179e\"],[0.4444444444444444,\"#bd3786\"],[0.5555555555555556,\"#d8576b\"],[0.6666666666666666,\"#ed7953\"],[0.7777777777777778,\"#fb9f3a\"],[0.8888888888888888,\"#fdca26\"],[1.0,\"#f0f921\"]],\"sequentialminus\":[[0.0,\"#0d0887\"],[0.1111111111111111,\"#46039f\"],[0.2222222222222222,\"#7201a8\"],[0.3333333333333333,\"#9c179e\"],[0.4444444444444444,\"#bd3786\"],[0.5555555555555556,\"#d8576b\"],[0.6666666666666666,\"#ed7953\"],[0.7777777777777778,\"#fb9f3a\"],[0.8888888888888888,\"#fdca26\"],[1.0,\"#f0f921\"]],\"diverging\":[[0,\"#8e0152\"],[0.1,\"#c51b7d\"],[0.2,\"#de77ae\"],[0.3,\"#f1b6da\"],[0.4,\"#fde0ef\"],[0.5,\"#f7f7f7\"],[0.6,\"#e6f5d0\"],[0.7,\"#b8e186\"],[0.8,\"#7fbc41\"],[0.9,\"#4d9221\"],[1,\"#276419\"]]},\"xaxis\":{\"gridcolor\":\"white\",\"linecolor\":\"white\",\"ticks\":\"\",\"title\":{\"standoff\":15},\"zerolinecolor\":\"white\",\"automargin\":true,\"zerolinewidth\":2},\"yaxis\":{\"gridcolor\":\"white\",\"linecolor\":\"white\",\"ticks\":\"\",\"title\":{\"standoff\":15},\"zerolinecolor\":\"white\",\"automargin\":true,\"zerolinewidth\":2},\"scene\":{\"xaxis\":{\"backgroundcolor\":\"#E5ECF6\",\"gridcolor\":\"white\",\"linecolor\":\"white\",\"showbackground\":true,\"ticks\":\"\",\"zerolinecolor\":\"white\",\"gridwidth\":2},\"yaxis\":{\"backgroundcolor\":\"#E5ECF6\",\"gridcolor\":\"white\",\"linecolor\":\"white\",\"showbackground\":true,\"ticks\":\"\",\"zerolinecolor\":\"white\",\"gridwidth\":2},\"zaxis\":{\"backgroundcolor\":\"#E5ECF6\",\"gridcolor\":\"white\",\"linecolor\":\"white\",\"showbackground\":true,\"ticks\":\"\",\"zerolinecolor\":\"white\",\"gridwidth\":2}},\"shapedefaults\":{\"line\":{\"color\":\"#2a3f5f\"}},\"annotationdefaults\":{\"arrowcolor\":\"#2a3f5f\",\"arrowhead\":0,\"arrowwidth\":1},\"geo\":{\"bgcolor\":\"white\",\"landcolor\":\"#E5ECF6\",\"subunitcolor\":\"white\",\"showland\":true,\"showlakes\":true,\"lakecolor\":\"white\"},\"title\":{\"x\":0.05},\"mapbox\":{\"style\":\"light\"}}},\"xaxis\":{\"anchor\":\"y\",\"domain\":[0.0,1.0],\"title\":{\"text\":\"Income group\"}},\"yaxis\":{\"anchor\":\"x\",\"domain\":[0.0,1.0],\"title\":{\"text\":\"Country_count\"}},\"legend\":{\"title\":{\"text\":\"Ops_Environment_level\"},\"tracegroupgap\":0},\"title\":{\"text\":\"Countries by Income Group and Operating Environment level\"},\"barmode\":\"relative\",\"height\":600},                        {\"responsive\": true}                    ).then(function(){\n",
       "                            \n",
       "var gd = document.getElementById('90920ba0-e87b-40aa-97f6-157d0f4d9689');\n",
       "var x = new MutationObserver(function (mutations, observer) {{\n",
       "        var display = window.getComputedStyle(gd).display;\n",
       "        if (!display || display === 'none') {{\n",
       "            console.log([gd, 'removed!']);\n",
       "            Plotly.purge(gd);\n",
       "            observer.disconnect();\n",
       "        }}\n",
       "}});\n",
       "\n",
       "// Listen for the removal of the full notebook cells\n",
       "var notebookContainer = gd.closest('#notebook-container');\n",
       "if (notebookContainer) {{\n",
       "    x.observe(notebookContainer, {childList: true});\n",
       "}}\n",
       "\n",
       "// Listen for the clearing of the current output cell\n",
       "var outputEl = gd.closest('.output');\n",
       "if (outputEl) {{\n",
       "    x.observe(outputEl, {childList: true});\n",
       "}}\n",
       "\n",
       "                        })                };                });            </script>        </div>"
      ]
     },
     "metadata": {},
     "output_type": "display_data"
    }
   ],
   "source": [
    "agg_data = ops_df.groupby(['Income group', 'Ops_Environment_level']).size().reset_index(name='Country_count')\n",
    "\n",
    "agg_data = agg_data.sort_values(by=[\"Ops_Environment_level\", \"Country_count\"])\n",
    "\n",
    "fig = px.bar(\n",
    "    agg_data, \n",
    "    x='Income group', \n",
    "    y='Country_count', \n",
    "    color='Ops_Environment_level', \n",
    "    title=\"Countries by Income Group and Operating Environment level\", \n",
    "    color_discrete_sequence=px.colors.qualitative.Prism,\n",
    "    height=600)\n",
    "fig.show()"
   ]
  },
  {
   "cell_type": "markdown",
   "id": "d5f05564",
   "metadata": {
    "papermill": {
     "duration": 0.046619,
     "end_time": "2023-08-09T09:38:22.366899",
     "exception": false,
     "start_time": "2023-08-09T09:38:22.320280",
     "status": "completed"
    },
    "tags": []
   },
   "source": [
    "## <div style=\"font-size:20px;text-align:center;color:black;border-bottom:5px #0026d6 solid;padding-bottom:3%\">Operating Environment by Political Regimes</div>"
   ]
  },
  {
   "cell_type": "code",
   "execution_count": null,
   "id": "cdfb3bf0",
   "metadata": {
    "_kg_hide-input": true,
    "execution": {
     "iopub.execute_input": "2023-08-09T09:38:22.463093Z",
     "iopub.status.busy": "2023-08-09T09:38:22.462210Z",
     "iopub.status.idle": "2023-08-09T09:38:22.523230Z",
     "shell.execute_reply": "2023-08-09T09:38:22.522224Z"
    },
    "papermill": {
     "duration": 0.111977,
     "end_time": "2023-08-09T09:38:22.525942",
     "exception": false,
     "start_time": "2023-08-09T09:38:22.413965",
     "status": "completed"
    },
    "tags": []
   },
   "outputs": [
    {
     "data": {
      "text/html": [
       "<div>                            <div id=\"f0bdf443-3482-4e6b-9d20-6049fab88a3e\" class=\"plotly-graph-div\" style=\"height:525px; width:100%;\"></div>            <script type=\"text/javascript\">                require([\"plotly\"], function(Plotly) {                    window.PLOTLYENV=window.PLOTLYENV || {};                                    if (document.getElementById(\"f0bdf443-3482-4e6b-9d20-6049fab88a3e\")) {                    Plotly.newPlot(                        \"f0bdf443-3482-4e6b-9d20-6049fab88a3e\",                        [{\"alignmentgroup\":\"True\",\"box\":{\"visible\":true},\"customdata\":[[\"United States of America\",\"Americas\",\"Power players\",\"High\",\"2 - High\"],[\"China\",\"Asia-Pacific\",\"Power players\",\"Upper middle\",\"1 - Very high\"],[\"United Kingdom\",\"Europe\",\"Traditional champions\",\"High\",\"2 - High\"],[\"Canada\",\"Americas\",\"Traditional champions\",\"High\",\"1 - Very high\"],[\"Israel\",\"Middle East\",\"Rising stars\",\"High\",\"1 - Very high\"],[\"Singapore\",\"Asia-Pacific\",\"Rising stars\",\"High\",\"3 - Moderate\"],[\"South Korea\",\"Asia-Pacific\",\"Rising stars\",\"High\",\"2 - High\"],[\"The Netherlands\",\"Europe\",\"Rising stars\",\"High\",\"1 - Very high\"],[\"Germany\",\"Europe\",\"Traditional champions\",\"High\",\"2 - High\"],[\"France\",\"Europe\",\"Traditional champions\",\"High\",\"1 - Very high\"],[\"Australia\",\"Asia-Pacific\",\"Rising stars\",\"High\",\"2 - High\"],[\"Ireland\",\"Europe\",\"Rising stars\",\"High\",\"2 - High\"],[\"Finland\",\"Europe\",\"Rising stars\",\"High\",\"2 - High\"],[\"Denmark\",\"Europe\",\"Rising stars\",\"High\",\"1 - Very high\"],[\"Luxembourg\",\"Europe\",\"Waking up\",\"High\",\"2 - High\"],[\"Japan\",\"Asia-Pacific\",\"Rising stars\",\"High\",\"3 - Moderate\"],[\"India\",\"Asia-Pacific\",\"Waking up\",\"Lower middle\",\"2 - High\"],[\"Switzerland\",\"Europe\",\"Rising stars\",\"High\",\"3 - Moderate\"],[\"Sweden\",\"Europe\",\"Waking up\",\"High\",\"2 - High\"],[\"Hong Kong\",\"Asia-Pacific\",\"Waking up\",\"High\",\"3 - Moderate\"],[\"Spain\",\"Europe\",\"Rising stars\",\"High\",\"2 - High\"],[\"Austria\",\"Europe\",\"Waking up\",\"High\",\"2 - High\"],[\"Estonia\",\"Europe\",\"Waking up\",\"High\",\"1 - Very high\"],[\"Taiwan\",\"Asia-Pacific\",\"Waking up\",\"High\",\"3 - Moderate\"],[\"Norway\",\"Europe\",\"Waking up\",\"High\",\"4 - Low\"],[\"Saudi Arabia\",\"Middle East\",\"Waking up\",\"High\",\"1 - Very high\"],[\"Belgium\",\"Europe\",\"Waking up\",\"High\",\"2 - High\"],[\"Poland\",\"Europe\",\"Waking up\",\"High\",\"1 - Very high\"],[\"Slovenia\",\"Europe\",\"Waking up\",\"High\",\"1 - Very high\"],[\"New Zealand\",\"Asia-Pacific\",\"Waking up\",\"High\",\"1 - Very high\"],[\"Italy\",\"Europe\",\"Waking up\",\"High\",\"1 - Very high\"],[\"Russia\",\"Europe\",\"Waking up\",\"Upper middle\",\"3 - Moderate\"],[\"Malta\",\"Europe\",\"Waking up\",\"High\",\"2 - High\"],[\"United Arab Emirates\",\"Middle East\",\"Waking up\",\"High\",\"2 - High\"],[\"Portugal\",\"Europe\",\"Waking up\",\"High\",\"1 - Very high\"],[\"Czech Republic\",\"Europe\",\"Waking up\",\"High\",\"2 - High\"],[\"Iceland\",\"Europe\",\"Waking up\",\"High\",\"3 - Moderate\"],[\"Lithuania\",\"Europe\",\"Waking up\",\"High\",\"1 - Very high\"],[\"Brazil\",\"Americas\",\"Waking up\",\"Upper middle\",\"2 - High\"],[\"Greece\",\"Europe\",\"Waking up\",\"High\",\"1 - Very high\"],[\"Slovakia\",\"Europe\",\"Waking up\",\"High\",\"1 - Very high\"],[\"Hungary\",\"Europe\",\"Waking up\",\"High\",\"3 - Moderate\"],[\"Malaysia\",\"Asia-Pacific\",\"Waking up\",\"Upper middle\",\"2 - High\"],[\"Mexico\",\"Americas\",\"Waking up\",\"Upper middle\",\"1 - Very high\"],[\"Chile\",\"Americas\",\"Waking up\",\"High\",\"3 - Moderate\"],[\"Argentina\",\"Americas\",\"Waking up\",\"Upper middle\",\"2 - High\"],[\"Qatar\",\"Middle East\",\"Waking up\",\"High\",\"2 - High\"],[\"Turkey\",\"Europe\",\"Waking up\",\"High\",\"2 - High\"],[\"Colombia\",\"Americas\",\"Waking up\",\"Upper middle\",\"2 - High\"],[\"Uruguay\",\"Americas\",\"Waking up\",\"High\",\"2 - High\"],[\"Bahrain\",\"Middle East\",\"Waking up\",\"High\",\"2 - High\"],[\"Vietnam\",\"Asia-Pacific\",\"Waking up\",\"Lower middle\",\"4 - Low\"],[\"Indonesia\",\"Asia-Pacific\",\"Waking up\",\"Lower middle\",\"3 - Moderate\"],[\"Tunisia\",\"Africa\",\"Waking up\",\"Lower middle\",\"2 - High\"],[\"South Africa\",\"Africa\",\"Waking up\",\"Upper middle\",\"3 - Moderate\"],[\"Morocco\",\"Africa\",\"Waking up\",\"Lower middle\",\"2 - High\"],[\"Armenia\",\"Europe\",\"Waking up\",\"Upper middle\",\"3 - Moderate\"],[\"Sri Lanka\",\"Asia-Pacific\",\"Nascent\",\"Lower middle\",\"4 - Low\"],[\"Egypt\",\"Middle East\",\"Nascent\",\"Lower middle\",\"5 - Very low\"],[\"Kenya\",\"Africa\",\"Nascent\",\"Lower middle\",\"4 - Low\"],[\"Nigeria\",\"Africa\",\"Nascent\",\"Lower middle\",\"3 - Moderate\"],[\"Pakistan\",\"Asia-Pacific\",\"Nascent\",\"Lower middle\",\"5 - Very low\"]],\"hovertemplate\":\"Political regime=%{x}\\u003cbr\\u003eOperating Environment=%{y}\\u003cbr\\u003eCountry=%{customdata[0]}\\u003cbr\\u003eRegion=%{customdata[1]}\\u003cbr\\u003eCluster=%{customdata[2]}\\u003cbr\\u003eIncome group=%{customdata[3]}\\u003cbr\\u003eOps_Environment_level=%{customdata[4]}\\u003cextra\\u003e\\u003c\\u002fextra\\u003e\",\"legendgroup\":\"\",\"marker\":{\"color\":\"#636efa\"},\"name\":\"\",\"offsetgroup\":\"\",\"orientation\":\"v\",\"points\":\"all\",\"scalegroup\":\"True\",\"showlegend\":false,\"x\":[\"Liberal democracy\",\"Closed autocracy\",\"Liberal democracy\",\"Liberal democracy\",\"Liberal democracy\",\"Electoral democracy\",\"Liberal democracy\",\"Liberal democracy\",\"Liberal democracy\",\"Liberal democracy\",\"Liberal democracy\",\"Liberal democracy\",\"Liberal democracy\",\"Liberal democracy\",\"Liberal democracy\",\"Liberal democracy\",\"Electoral autocracy\",\"Liberal democracy\",\"Liberal democracy\",\"Electoral democracy\",\"Liberal democracy\",\"Electoral democracy\",\"Liberal democracy\",\"Liberal democracy\",\"Liberal democracy\",\"Closed autocracy\",\"Liberal democracy\",\"Electoral democracy\",\"Electoral democracy\",\"Liberal democracy\",\"Liberal democracy\",\"Electoral autocracy\",\"Electoral democracy\",\"Closed autocracy\",\"Electoral democracy\",\"Electoral democracy\",\"Liberal democracy\",\"Electoral democracy\",\"Electoral democracy\",\"Liberal democracy\",\"Electoral democracy\",\"Electoral autocracy\",\"Electoral autocracy\",\"Electoral democracy\",\"Liberal democracy\",\"Electoral democracy\",\"Closed autocracy\",\"Electoral democracy\",\"Electoral democracy\",\"Liberal democracy\",\"Closed autocracy\",\"Closed autocracy\",\"Electoral democracy\",\"Electoral democracy\",\"Electoral democracy\",\"Closed autocracy\",\"Electoral democracy\",\"Electoral democracy\",\"Electoral autocracy\",\"Electoral autocracy\",\"Electoral autocracy\",\"Electoral autocracy\"],\"x0\":\" \",\"xaxis\":\"x\",\"y\":[64.56,91.57,74.65,93.94,82.44,43.15,68.86,88.05,70.22,80.02,61.23,70.15,78.76,85.39,66.96,57.53,77.3,44.14,66.77,59.5,75.36,76.3,88.67,56.67,36.65,100.0,64.08,99.56,94.55,90.35,83.25,52.85,70.96,72.12,80.66,76.97,41.19,80.67,72.82,83.58,88.71,58.01,73.24,97.03,56.73,75.95,62.58,64.34,62.37,70.75,60.9,37.61,51.18,62.32,58.43,60.17,58.4,35.79,0.0,29.84,50.1,12.48],\"y0\":\" \",\"yaxis\":\"y\",\"type\":\"violin\"}],                        {\"template\":{\"data\":{\"histogram2dcontour\":[{\"type\":\"histogram2dcontour\",\"colorbar\":{\"outlinewidth\":0,\"ticks\":\"\"},\"colorscale\":[[0.0,\"#0d0887\"],[0.1111111111111111,\"#46039f\"],[0.2222222222222222,\"#7201a8\"],[0.3333333333333333,\"#9c179e\"],[0.4444444444444444,\"#bd3786\"],[0.5555555555555556,\"#d8576b\"],[0.6666666666666666,\"#ed7953\"],[0.7777777777777778,\"#fb9f3a\"],[0.8888888888888888,\"#fdca26\"],[1.0,\"#f0f921\"]]}],\"choropleth\":[{\"type\":\"choropleth\",\"colorbar\":{\"outlinewidth\":0,\"ticks\":\"\"}}],\"histogram2d\":[{\"type\":\"histogram2d\",\"colorbar\":{\"outlinewidth\":0,\"ticks\":\"\"},\"colorscale\":[[0.0,\"#0d0887\"],[0.1111111111111111,\"#46039f\"],[0.2222222222222222,\"#7201a8\"],[0.3333333333333333,\"#9c179e\"],[0.4444444444444444,\"#bd3786\"],[0.5555555555555556,\"#d8576b\"],[0.6666666666666666,\"#ed7953\"],[0.7777777777777778,\"#fb9f3a\"],[0.8888888888888888,\"#fdca26\"],[1.0,\"#f0f921\"]]}],\"heatmap\":[{\"type\":\"heatmap\",\"colorbar\":{\"outlinewidth\":0,\"ticks\":\"\"},\"colorscale\":[[0.0,\"#0d0887\"],[0.1111111111111111,\"#46039f\"],[0.2222222222222222,\"#7201a8\"],[0.3333333333333333,\"#9c179e\"],[0.4444444444444444,\"#bd3786\"],[0.5555555555555556,\"#d8576b\"],[0.6666666666666666,\"#ed7953\"],[0.7777777777777778,\"#fb9f3a\"],[0.8888888888888888,\"#fdca26\"],[1.0,\"#f0f921\"]]}],\"heatmapgl\":[{\"type\":\"heatmapgl\",\"colorbar\":{\"outlinewidth\":0,\"ticks\":\"\"},\"colorscale\":[[0.0,\"#0d0887\"],[0.1111111111111111,\"#46039f\"],[0.2222222222222222,\"#7201a8\"],[0.3333333333333333,\"#9c179e\"],[0.4444444444444444,\"#bd3786\"],[0.5555555555555556,\"#d8576b\"],[0.6666666666666666,\"#ed7953\"],[0.7777777777777778,\"#fb9f3a\"],[0.8888888888888888,\"#fdca26\"],[1.0,\"#f0f921\"]]}],\"contourcarpet\":[{\"type\":\"contourcarpet\",\"colorbar\":{\"outlinewidth\":0,\"ticks\":\"\"}}],\"contour\":[{\"type\":\"contour\",\"colorbar\":{\"outlinewidth\":0,\"ticks\":\"\"},\"colorscale\":[[0.0,\"#0d0887\"],[0.1111111111111111,\"#46039f\"],[0.2222222222222222,\"#7201a8\"],[0.3333333333333333,\"#9c179e\"],[0.4444444444444444,\"#bd3786\"],[0.5555555555555556,\"#d8576b\"],[0.6666666666666666,\"#ed7953\"],[0.7777777777777778,\"#fb9f3a\"],[0.8888888888888888,\"#fdca26\"],[1.0,\"#f0f921\"]]}],\"surface\":[{\"type\":\"surface\",\"colorbar\":{\"outlinewidth\":0,\"ticks\":\"\"},\"colorscale\":[[0.0,\"#0d0887\"],[0.1111111111111111,\"#46039f\"],[0.2222222222222222,\"#7201a8\"],[0.3333333333333333,\"#9c179e\"],[0.4444444444444444,\"#bd3786\"],[0.5555555555555556,\"#d8576b\"],[0.6666666666666666,\"#ed7953\"],[0.7777777777777778,\"#fb9f3a\"],[0.8888888888888888,\"#fdca26\"],[1.0,\"#f0f921\"]]}],\"mesh3d\":[{\"type\":\"mesh3d\",\"colorbar\":{\"outlinewidth\":0,\"ticks\":\"\"}}],\"scatter\":[{\"fillpattern\":{\"fillmode\":\"overlay\",\"size\":10,\"solidity\":0.2},\"type\":\"scatter\"}],\"parcoords\":[{\"type\":\"parcoords\",\"line\":{\"colorbar\":{\"outlinewidth\":0,\"ticks\":\"\"}}}],\"scatterpolargl\":[{\"type\":\"scatterpolargl\",\"marker\":{\"colorbar\":{\"outlinewidth\":0,\"ticks\":\"\"}}}],\"bar\":[{\"error_x\":{\"color\":\"#2a3f5f\"},\"error_y\":{\"color\":\"#2a3f5f\"},\"marker\":{\"line\":{\"color\":\"#E5ECF6\",\"width\":0.5},\"pattern\":{\"fillmode\":\"overlay\",\"size\":10,\"solidity\":0.2}},\"type\":\"bar\"}],\"scattergeo\":[{\"type\":\"scattergeo\",\"marker\":{\"colorbar\":{\"outlinewidth\":0,\"ticks\":\"\"}}}],\"scatterpolar\":[{\"type\":\"scatterpolar\",\"marker\":{\"colorbar\":{\"outlinewidth\":0,\"ticks\":\"\"}}}],\"histogram\":[{\"marker\":{\"pattern\":{\"fillmode\":\"overlay\",\"size\":10,\"solidity\":0.2}},\"type\":\"histogram\"}],\"scattergl\":[{\"type\":\"scattergl\",\"marker\":{\"colorbar\":{\"outlinewidth\":0,\"ticks\":\"\"}}}],\"scatter3d\":[{\"type\":\"scatter3d\",\"line\":{\"colorbar\":{\"outlinewidth\":0,\"ticks\":\"\"}},\"marker\":{\"colorbar\":{\"outlinewidth\":0,\"ticks\":\"\"}}}],\"scattermapbox\":[{\"type\":\"scattermapbox\",\"marker\":{\"colorbar\":{\"outlinewidth\":0,\"ticks\":\"\"}}}],\"scatterternary\":[{\"type\":\"scatterternary\",\"marker\":{\"colorbar\":{\"outlinewidth\":0,\"ticks\":\"\"}}}],\"scattercarpet\":[{\"type\":\"scattercarpet\",\"marker\":{\"colorbar\":{\"outlinewidth\":0,\"ticks\":\"\"}}}],\"carpet\":[{\"aaxis\":{\"endlinecolor\":\"#2a3f5f\",\"gridcolor\":\"white\",\"linecolor\":\"white\",\"minorgridcolor\":\"white\",\"startlinecolor\":\"#2a3f5f\"},\"baxis\":{\"endlinecolor\":\"#2a3f5f\",\"gridcolor\":\"white\",\"linecolor\":\"white\",\"minorgridcolor\":\"white\",\"startlinecolor\":\"#2a3f5f\"},\"type\":\"carpet\"}],\"table\":[{\"cells\":{\"fill\":{\"color\":\"#EBF0F8\"},\"line\":{\"color\":\"white\"}},\"header\":{\"fill\":{\"color\":\"#C8D4E3\"},\"line\":{\"color\":\"white\"}},\"type\":\"table\"}],\"barpolar\":[{\"marker\":{\"line\":{\"color\":\"#E5ECF6\",\"width\":0.5},\"pattern\":{\"fillmode\":\"overlay\",\"size\":10,\"solidity\":0.2}},\"type\":\"barpolar\"}],\"pie\":[{\"automargin\":true,\"type\":\"pie\"}]},\"layout\":{\"autotypenumbers\":\"strict\",\"colorway\":[\"#636efa\",\"#EF553B\",\"#00cc96\",\"#ab63fa\",\"#FFA15A\",\"#19d3f3\",\"#FF6692\",\"#B6E880\",\"#FF97FF\",\"#FECB52\"],\"font\":{\"color\":\"#2a3f5f\"},\"hovermode\":\"closest\",\"hoverlabel\":{\"align\":\"left\"},\"paper_bgcolor\":\"white\",\"plot_bgcolor\":\"#E5ECF6\",\"polar\":{\"bgcolor\":\"#E5ECF6\",\"angularaxis\":{\"gridcolor\":\"white\",\"linecolor\":\"white\",\"ticks\":\"\"},\"radialaxis\":{\"gridcolor\":\"white\",\"linecolor\":\"white\",\"ticks\":\"\"}},\"ternary\":{\"bgcolor\":\"#E5ECF6\",\"aaxis\":{\"gridcolor\":\"white\",\"linecolor\":\"white\",\"ticks\":\"\"},\"baxis\":{\"gridcolor\":\"white\",\"linecolor\":\"white\",\"ticks\":\"\"},\"caxis\":{\"gridcolor\":\"white\",\"linecolor\":\"white\",\"ticks\":\"\"}},\"coloraxis\":{\"colorbar\":{\"outlinewidth\":0,\"ticks\":\"\"}},\"colorscale\":{\"sequential\":[[0.0,\"#0d0887\"],[0.1111111111111111,\"#46039f\"],[0.2222222222222222,\"#7201a8\"],[0.3333333333333333,\"#9c179e\"],[0.4444444444444444,\"#bd3786\"],[0.5555555555555556,\"#d8576b\"],[0.6666666666666666,\"#ed7953\"],[0.7777777777777778,\"#fb9f3a\"],[0.8888888888888888,\"#fdca26\"],[1.0,\"#f0f921\"]],\"sequentialminus\":[[0.0,\"#0d0887\"],[0.1111111111111111,\"#46039f\"],[0.2222222222222222,\"#7201a8\"],[0.3333333333333333,\"#9c179e\"],[0.4444444444444444,\"#bd3786\"],[0.5555555555555556,\"#d8576b\"],[0.6666666666666666,\"#ed7953\"],[0.7777777777777778,\"#fb9f3a\"],[0.8888888888888888,\"#fdca26\"],[1.0,\"#f0f921\"]],\"diverging\":[[0,\"#8e0152\"],[0.1,\"#c51b7d\"],[0.2,\"#de77ae\"],[0.3,\"#f1b6da\"],[0.4,\"#fde0ef\"],[0.5,\"#f7f7f7\"],[0.6,\"#e6f5d0\"],[0.7,\"#b8e186\"],[0.8,\"#7fbc41\"],[0.9,\"#4d9221\"],[1,\"#276419\"]]},\"xaxis\":{\"gridcolor\":\"white\",\"linecolor\":\"white\",\"ticks\":\"\",\"title\":{\"standoff\":15},\"zerolinecolor\":\"white\",\"automargin\":true,\"zerolinewidth\":2},\"yaxis\":{\"gridcolor\":\"white\",\"linecolor\":\"white\",\"ticks\":\"\",\"title\":{\"standoff\":15},\"zerolinecolor\":\"white\",\"automargin\":true,\"zerolinewidth\":2},\"scene\":{\"xaxis\":{\"backgroundcolor\":\"#E5ECF6\",\"gridcolor\":\"white\",\"linecolor\":\"white\",\"showbackground\":true,\"ticks\":\"\",\"zerolinecolor\":\"white\",\"gridwidth\":2},\"yaxis\":{\"backgroundcolor\":\"#E5ECF6\",\"gridcolor\":\"white\",\"linecolor\":\"white\",\"showbackground\":true,\"ticks\":\"\",\"zerolinecolor\":\"white\",\"gridwidth\":2},\"zaxis\":{\"backgroundcolor\":\"#E5ECF6\",\"gridcolor\":\"white\",\"linecolor\":\"white\",\"showbackground\":true,\"ticks\":\"\",\"zerolinecolor\":\"white\",\"gridwidth\":2}},\"shapedefaults\":{\"line\":{\"color\":\"#2a3f5f\"}},\"annotationdefaults\":{\"arrowcolor\":\"#2a3f5f\",\"arrowhead\":0,\"arrowwidth\":1},\"geo\":{\"bgcolor\":\"white\",\"landcolor\":\"#E5ECF6\",\"subunitcolor\":\"white\",\"showland\":true,\"showlakes\":true,\"lakecolor\":\"white\"},\"title\":{\"x\":0.05},\"mapbox\":{\"style\":\"light\"}}},\"xaxis\":{\"anchor\":\"y\",\"domain\":[0.0,1.0],\"title\":{\"text\":\"Political regime\"}},\"yaxis\":{\"anchor\":\"x\",\"domain\":[0.0,1.0],\"title\":{\"text\":\"Operating Environment\"}},\"legend\":{\"tracegroupgap\":0},\"title\":{\"text\":\"Operating Environment by Political Regimes\"},\"violinmode\":\"group\"},                        {\"responsive\": true}                    ).then(function(){\n",
       "                            \n",
       "var gd = document.getElementById('f0bdf443-3482-4e6b-9d20-6049fab88a3e');\n",
       "var x = new MutationObserver(function (mutations, observer) {{\n",
       "        var display = window.getComputedStyle(gd).display;\n",
       "        if (!display || display === 'none') {{\n",
       "            console.log([gd, 'removed!']);\n",
       "            Plotly.purge(gd);\n",
       "            observer.disconnect();\n",
       "        }}\n",
       "}});\n",
       "\n",
       "// Listen for the removal of the full notebook cells\n",
       "var notebookContainer = gd.closest('#notebook-container');\n",
       "if (notebookContainer) {{\n",
       "    x.observe(notebookContainer, {childList: true});\n",
       "}}\n",
       "\n",
       "// Listen for the clearing of the current output cell\n",
       "var outputEl = gd.closest('.output');\n",
       "if (outputEl) {{\n",
       "    x.observe(outputEl, {childList: true});\n",
       "}}\n",
       "\n",
       "                        })                };                });            </script>        </div>"
      ]
     },
     "metadata": {},
     "output_type": "display_data"
    }
   ],
   "source": [
    "fig = px.violin(ops_df, \n",
    "                y=\"Operating Environment\", \n",
    "                x=\"Political regime\", \n",
    "                box=True, \n",
    "                points=\"all\", \n",
    "                title=\"Operating Environment by Political Regimes\", \n",
    "                hover_data=ops_df.columns)\n",
    "fig.show()"
   ]
  },
  {
   "cell_type": "code",
   "execution_count": null,
   "id": "0a9df8ed",
   "metadata": {
    "_kg_hide-input": true,
    "execution": {
     "iopub.execute_input": "2023-08-09T09:38:22.624250Z",
     "iopub.status.busy": "2023-08-09T09:38:22.623326Z",
     "iopub.status.idle": "2023-08-09T09:38:22.701170Z",
     "shell.execute_reply": "2023-08-09T09:38:22.699943Z"
    },
    "papermill": {
     "duration": 0.12945,
     "end_time": "2023-08-09T09:38:22.703753",
     "exception": false,
     "start_time": "2023-08-09T09:38:22.574303",
     "status": "completed"
    },
    "tags": []
   },
   "outputs": [
    {
     "data": {
      "text/html": [
       "<div>                            <div id=\"cc47e369-8133-428f-b3a5-a382c13f77ac\" class=\"plotly-graph-div\" style=\"height:600px; width:100%;\"></div>            <script type=\"text/javascript\">                require([\"plotly\"], function(Plotly) {                    window.PLOTLYENV=window.PLOTLYENV || {};                                    if (document.getElementById(\"cc47e369-8133-428f-b3a5-a382c13f77ac\")) {                    Plotly.newPlot(                        \"cc47e369-8133-428f-b3a5-a382c13f77ac\",                        [{\"alignmentgroup\":\"True\",\"hovertemplate\":\"Ops_Environment_level=1 - Very high\\u003cbr\\u003ePolitical regime=%{x}\\u003cbr\\u003eCountry_count=%{y}\\u003cextra\\u003e\\u003c\\u002fextra\\u003e\",\"legendgroup\":\"1 - Very high\",\"marker\":{\"color\":\"rgb(95, 70, 144)\",\"pattern\":{\"shape\":\"\"}},\"name\":\"1 - Very high\",\"offsetgroup\":\"1 - Very high\",\"orientation\":\"v\",\"showlegend\":true,\"textposition\":\"auto\",\"x\":[\"Closed autocracy\",\"Electoral democracy\",\"Liberal democracy\"],\"xaxis\":\"x\",\"y\":[2,6,9],\"yaxis\":\"y\",\"type\":\"bar\"},{\"alignmentgroup\":\"True\",\"hovertemplate\":\"Ops_Environment_level=2 - High\\u003cbr\\u003ePolitical regime=%{x}\\u003cbr\\u003eCountry_count=%{y}\\u003cextra\\u003e\\u003c\\u002fextra\\u003e\",\"legendgroup\":\"2 - High\",\"marker\":{\"color\":\"rgb(29, 105, 150)\",\"pattern\":{\"shape\":\"\"}},\"name\":\"2 - High\",\"offsetgroup\":\"2 - High\",\"orientation\":\"v\",\"showlegend\":true,\"textposition\":\"auto\",\"x\":[\"Electoral autocracy\",\"Closed autocracy\",\"Electoral democracy\",\"Liberal democracy\"],\"xaxis\":\"x\",\"y\":[2,4,8,12],\"yaxis\":\"y\",\"type\":\"bar\"},{\"alignmentgroup\":\"True\",\"hovertemplate\":\"Ops_Environment_level=3 - Moderate\\u003cbr\\u003ePolitical regime=%{x}\\u003cbr\\u003eCountry_count=%{y}\\u003cextra\\u003e\\u003c\\u002fextra\\u003e\",\"legendgroup\":\"3 - Moderate\",\"marker\":{\"color\":\"rgb(56, 166, 165)\",\"pattern\":{\"shape\":\"\"}},\"name\":\"3 - Moderate\",\"offsetgroup\":\"3 - Moderate\",\"orientation\":\"v\",\"showlegend\":true,\"textposition\":\"auto\",\"x\":[\"Electoral autocracy\",\"Electoral democracy\",\"Liberal democracy\"],\"xaxis\":\"x\",\"y\":[3,5,5],\"yaxis\":\"y\",\"type\":\"bar\"},{\"alignmentgroup\":\"True\",\"hovertemplate\":\"Ops_Environment_level=4 - Low\\u003cbr\\u003ePolitical regime=%{x}\\u003cbr\\u003eCountry_count=%{y}\\u003cextra\\u003e\\u003c\\u002fextra\\u003e\",\"legendgroup\":\"4 - Low\",\"marker\":{\"color\":\"rgb(15, 133, 84)\",\"pattern\":{\"shape\":\"\"}},\"name\":\"4 - Low\",\"offsetgroup\":\"4 - Low\",\"orientation\":\"v\",\"showlegend\":true,\"textposition\":\"auto\",\"x\":[\"Closed autocracy\",\"Electoral autocracy\",\"Electoral democracy\",\"Liberal democracy\"],\"xaxis\":\"x\",\"y\":[1,1,1,1],\"yaxis\":\"y\",\"type\":\"bar\"},{\"alignmentgroup\":\"True\",\"hovertemplate\":\"Ops_Environment_level=5 - Very low\\u003cbr\\u003ePolitical regime=%{x}\\u003cbr\\u003eCountry_count=%{y}\\u003cextra\\u003e\\u003c\\u002fextra\\u003e\",\"legendgroup\":\"5 - Very low\",\"marker\":{\"color\":\"rgb(115, 175, 72)\",\"pattern\":{\"shape\":\"\"}},\"name\":\"5 - Very low\",\"offsetgroup\":\"5 - Very low\",\"orientation\":\"v\",\"showlegend\":true,\"textposition\":\"auto\",\"x\":[\"Electoral autocracy\"],\"xaxis\":\"x\",\"y\":[2],\"yaxis\":\"y\",\"type\":\"bar\"}],                        {\"template\":{\"data\":{\"histogram2dcontour\":[{\"type\":\"histogram2dcontour\",\"colorbar\":{\"outlinewidth\":0,\"ticks\":\"\"},\"colorscale\":[[0.0,\"#0d0887\"],[0.1111111111111111,\"#46039f\"],[0.2222222222222222,\"#7201a8\"],[0.3333333333333333,\"#9c179e\"],[0.4444444444444444,\"#bd3786\"],[0.5555555555555556,\"#d8576b\"],[0.6666666666666666,\"#ed7953\"],[0.7777777777777778,\"#fb9f3a\"],[0.8888888888888888,\"#fdca26\"],[1.0,\"#f0f921\"]]}],\"choropleth\":[{\"type\":\"choropleth\",\"colorbar\":{\"outlinewidth\":0,\"ticks\":\"\"}}],\"histogram2d\":[{\"type\":\"histogram2d\",\"colorbar\":{\"outlinewidth\":0,\"ticks\":\"\"},\"colorscale\":[[0.0,\"#0d0887\"],[0.1111111111111111,\"#46039f\"],[0.2222222222222222,\"#7201a8\"],[0.3333333333333333,\"#9c179e\"],[0.4444444444444444,\"#bd3786\"],[0.5555555555555556,\"#d8576b\"],[0.6666666666666666,\"#ed7953\"],[0.7777777777777778,\"#fb9f3a\"],[0.8888888888888888,\"#fdca26\"],[1.0,\"#f0f921\"]]}],\"heatmap\":[{\"type\":\"heatmap\",\"colorbar\":{\"outlinewidth\":0,\"ticks\":\"\"},\"colorscale\":[[0.0,\"#0d0887\"],[0.1111111111111111,\"#46039f\"],[0.2222222222222222,\"#7201a8\"],[0.3333333333333333,\"#9c179e\"],[0.4444444444444444,\"#bd3786\"],[0.5555555555555556,\"#d8576b\"],[0.6666666666666666,\"#ed7953\"],[0.7777777777777778,\"#fb9f3a\"],[0.8888888888888888,\"#fdca26\"],[1.0,\"#f0f921\"]]}],\"heatmapgl\":[{\"type\":\"heatmapgl\",\"colorbar\":{\"outlinewidth\":0,\"ticks\":\"\"},\"colorscale\":[[0.0,\"#0d0887\"],[0.1111111111111111,\"#46039f\"],[0.2222222222222222,\"#7201a8\"],[0.3333333333333333,\"#9c179e\"],[0.4444444444444444,\"#bd3786\"],[0.5555555555555556,\"#d8576b\"],[0.6666666666666666,\"#ed7953\"],[0.7777777777777778,\"#fb9f3a\"],[0.8888888888888888,\"#fdca26\"],[1.0,\"#f0f921\"]]}],\"contourcarpet\":[{\"type\":\"contourcarpet\",\"colorbar\":{\"outlinewidth\":0,\"ticks\":\"\"}}],\"contour\":[{\"type\":\"contour\",\"colorbar\":{\"outlinewidth\":0,\"ticks\":\"\"},\"colorscale\":[[0.0,\"#0d0887\"],[0.1111111111111111,\"#46039f\"],[0.2222222222222222,\"#7201a8\"],[0.3333333333333333,\"#9c179e\"],[0.4444444444444444,\"#bd3786\"],[0.5555555555555556,\"#d8576b\"],[0.6666666666666666,\"#ed7953\"],[0.7777777777777778,\"#fb9f3a\"],[0.8888888888888888,\"#fdca26\"],[1.0,\"#f0f921\"]]}],\"surface\":[{\"type\":\"surface\",\"colorbar\":{\"outlinewidth\":0,\"ticks\":\"\"},\"colorscale\":[[0.0,\"#0d0887\"],[0.1111111111111111,\"#46039f\"],[0.2222222222222222,\"#7201a8\"],[0.3333333333333333,\"#9c179e\"],[0.4444444444444444,\"#bd3786\"],[0.5555555555555556,\"#d8576b\"],[0.6666666666666666,\"#ed7953\"],[0.7777777777777778,\"#fb9f3a\"],[0.8888888888888888,\"#fdca26\"],[1.0,\"#f0f921\"]]}],\"mesh3d\":[{\"type\":\"mesh3d\",\"colorbar\":{\"outlinewidth\":0,\"ticks\":\"\"}}],\"scatter\":[{\"fillpattern\":{\"fillmode\":\"overlay\",\"size\":10,\"solidity\":0.2},\"type\":\"scatter\"}],\"parcoords\":[{\"type\":\"parcoords\",\"line\":{\"colorbar\":{\"outlinewidth\":0,\"ticks\":\"\"}}}],\"scatterpolargl\":[{\"type\":\"scatterpolargl\",\"marker\":{\"colorbar\":{\"outlinewidth\":0,\"ticks\":\"\"}}}],\"bar\":[{\"error_x\":{\"color\":\"#2a3f5f\"},\"error_y\":{\"color\":\"#2a3f5f\"},\"marker\":{\"line\":{\"color\":\"#E5ECF6\",\"width\":0.5},\"pattern\":{\"fillmode\":\"overlay\",\"size\":10,\"solidity\":0.2}},\"type\":\"bar\"}],\"scattergeo\":[{\"type\":\"scattergeo\",\"marker\":{\"colorbar\":{\"outlinewidth\":0,\"ticks\":\"\"}}}],\"scatterpolar\":[{\"type\":\"scatterpolar\",\"marker\":{\"colorbar\":{\"outlinewidth\":0,\"ticks\":\"\"}}}],\"histogram\":[{\"marker\":{\"pattern\":{\"fillmode\":\"overlay\",\"size\":10,\"solidity\":0.2}},\"type\":\"histogram\"}],\"scattergl\":[{\"type\":\"scattergl\",\"marker\":{\"colorbar\":{\"outlinewidth\":0,\"ticks\":\"\"}}}],\"scatter3d\":[{\"type\":\"scatter3d\",\"line\":{\"colorbar\":{\"outlinewidth\":0,\"ticks\":\"\"}},\"marker\":{\"colorbar\":{\"outlinewidth\":0,\"ticks\":\"\"}}}],\"scattermapbox\":[{\"type\":\"scattermapbox\",\"marker\":{\"colorbar\":{\"outlinewidth\":0,\"ticks\":\"\"}}}],\"scatterternary\":[{\"type\":\"scatterternary\",\"marker\":{\"colorbar\":{\"outlinewidth\":0,\"ticks\":\"\"}}}],\"scattercarpet\":[{\"type\":\"scattercarpet\",\"marker\":{\"colorbar\":{\"outlinewidth\":0,\"ticks\":\"\"}}}],\"carpet\":[{\"aaxis\":{\"endlinecolor\":\"#2a3f5f\",\"gridcolor\":\"white\",\"linecolor\":\"white\",\"minorgridcolor\":\"white\",\"startlinecolor\":\"#2a3f5f\"},\"baxis\":{\"endlinecolor\":\"#2a3f5f\",\"gridcolor\":\"white\",\"linecolor\":\"white\",\"minorgridcolor\":\"white\",\"startlinecolor\":\"#2a3f5f\"},\"type\":\"carpet\"}],\"table\":[{\"cells\":{\"fill\":{\"color\":\"#EBF0F8\"},\"line\":{\"color\":\"white\"}},\"header\":{\"fill\":{\"color\":\"#C8D4E3\"},\"line\":{\"color\":\"white\"}},\"type\":\"table\"}],\"barpolar\":[{\"marker\":{\"line\":{\"color\":\"#E5ECF6\",\"width\":0.5},\"pattern\":{\"fillmode\":\"overlay\",\"size\":10,\"solidity\":0.2}},\"type\":\"barpolar\"}],\"pie\":[{\"automargin\":true,\"type\":\"pie\"}]},\"layout\":{\"autotypenumbers\":\"strict\",\"colorway\":[\"#636efa\",\"#EF553B\",\"#00cc96\",\"#ab63fa\",\"#FFA15A\",\"#19d3f3\",\"#FF6692\",\"#B6E880\",\"#FF97FF\",\"#FECB52\"],\"font\":{\"color\":\"#2a3f5f\"},\"hovermode\":\"closest\",\"hoverlabel\":{\"align\":\"left\"},\"paper_bgcolor\":\"white\",\"plot_bgcolor\":\"#E5ECF6\",\"polar\":{\"bgcolor\":\"#E5ECF6\",\"angularaxis\":{\"gridcolor\":\"white\",\"linecolor\":\"white\",\"ticks\":\"\"},\"radialaxis\":{\"gridcolor\":\"white\",\"linecolor\":\"white\",\"ticks\":\"\"}},\"ternary\":{\"bgcolor\":\"#E5ECF6\",\"aaxis\":{\"gridcolor\":\"white\",\"linecolor\":\"white\",\"ticks\":\"\"},\"baxis\":{\"gridcolor\":\"white\",\"linecolor\":\"white\",\"ticks\":\"\"},\"caxis\":{\"gridcolor\":\"white\",\"linecolor\":\"white\",\"ticks\":\"\"}},\"coloraxis\":{\"colorbar\":{\"outlinewidth\":0,\"ticks\":\"\"}},\"colorscale\":{\"sequential\":[[0.0,\"#0d0887\"],[0.1111111111111111,\"#46039f\"],[0.2222222222222222,\"#7201a8\"],[0.3333333333333333,\"#9c179e\"],[0.4444444444444444,\"#bd3786\"],[0.5555555555555556,\"#d8576b\"],[0.6666666666666666,\"#ed7953\"],[0.7777777777777778,\"#fb9f3a\"],[0.8888888888888888,\"#fdca26\"],[1.0,\"#f0f921\"]],\"sequentialminus\":[[0.0,\"#0d0887\"],[0.1111111111111111,\"#46039f\"],[0.2222222222222222,\"#7201a8\"],[0.3333333333333333,\"#9c179e\"],[0.4444444444444444,\"#bd3786\"],[0.5555555555555556,\"#d8576b\"],[0.6666666666666666,\"#ed7953\"],[0.7777777777777778,\"#fb9f3a\"],[0.8888888888888888,\"#fdca26\"],[1.0,\"#f0f921\"]],\"diverging\":[[0,\"#8e0152\"],[0.1,\"#c51b7d\"],[0.2,\"#de77ae\"],[0.3,\"#f1b6da\"],[0.4,\"#fde0ef\"],[0.5,\"#f7f7f7\"],[0.6,\"#e6f5d0\"],[0.7,\"#b8e186\"],[0.8,\"#7fbc41\"],[0.9,\"#4d9221\"],[1,\"#276419\"]]},\"xaxis\":{\"gridcolor\":\"white\",\"linecolor\":\"white\",\"ticks\":\"\",\"title\":{\"standoff\":15},\"zerolinecolor\":\"white\",\"automargin\":true,\"zerolinewidth\":2},\"yaxis\":{\"gridcolor\":\"white\",\"linecolor\":\"white\",\"ticks\":\"\",\"title\":{\"standoff\":15},\"zerolinecolor\":\"white\",\"automargin\":true,\"zerolinewidth\":2},\"scene\":{\"xaxis\":{\"backgroundcolor\":\"#E5ECF6\",\"gridcolor\":\"white\",\"linecolor\":\"white\",\"showbackground\":true,\"ticks\":\"\",\"zerolinecolor\":\"white\",\"gridwidth\":2},\"yaxis\":{\"backgroundcolor\":\"#E5ECF6\",\"gridcolor\":\"white\",\"linecolor\":\"white\",\"showbackground\":true,\"ticks\":\"\",\"zerolinecolor\":\"white\",\"gridwidth\":2},\"zaxis\":{\"backgroundcolor\":\"#E5ECF6\",\"gridcolor\":\"white\",\"linecolor\":\"white\",\"showbackground\":true,\"ticks\":\"\",\"zerolinecolor\":\"white\",\"gridwidth\":2}},\"shapedefaults\":{\"line\":{\"color\":\"#2a3f5f\"}},\"annotationdefaults\":{\"arrowcolor\":\"#2a3f5f\",\"arrowhead\":0,\"arrowwidth\":1},\"geo\":{\"bgcolor\":\"white\",\"landcolor\":\"#E5ECF6\",\"subunitcolor\":\"white\",\"showland\":true,\"showlakes\":true,\"lakecolor\":\"white\"},\"title\":{\"x\":0.05},\"mapbox\":{\"style\":\"light\"}}},\"xaxis\":{\"anchor\":\"y\",\"domain\":[0.0,1.0],\"title\":{\"text\":\"Political regime\"}},\"yaxis\":{\"anchor\":\"x\",\"domain\":[0.0,1.0],\"title\":{\"text\":\"Country_count\"}},\"legend\":{\"title\":{\"text\":\"Ops_Environment_level\"},\"tracegroupgap\":0},\"title\":{\"text\":\"Countries by Political Regime and Operating Environment level\"},\"barmode\":\"relative\",\"height\":600},                        {\"responsive\": true}                    ).then(function(){\n",
       "                            \n",
       "var gd = document.getElementById('cc47e369-8133-428f-b3a5-a382c13f77ac');\n",
       "var x = new MutationObserver(function (mutations, observer) {{\n",
       "        var display = window.getComputedStyle(gd).display;\n",
       "        if (!display || display === 'none') {{\n",
       "            console.log([gd, 'removed!']);\n",
       "            Plotly.purge(gd);\n",
       "            observer.disconnect();\n",
       "        }}\n",
       "}});\n",
       "\n",
       "// Listen for the removal of the full notebook cells\n",
       "var notebookContainer = gd.closest('#notebook-container');\n",
       "if (notebookContainer) {{\n",
       "    x.observe(notebookContainer, {childList: true});\n",
       "}}\n",
       "\n",
       "// Listen for the clearing of the current output cell\n",
       "var outputEl = gd.closest('.output');\n",
       "if (outputEl) {{\n",
       "    x.observe(outputEl, {childList: true});\n",
       "}}\n",
       "\n",
       "                        })                };                });            </script>        </div>"
      ]
     },
     "metadata": {},
     "output_type": "display_data"
    }
   ],
   "source": [
    "agg_data = ops_df.groupby(['Political regime', 'Ops_Environment_level']).size().reset_index(name='Country_count')\n",
    "\n",
    "agg_data = agg_data.sort_values(by=[\"Ops_Environment_level\", \"Country_count\"])\n",
    "\n",
    "fig = px.bar(\n",
    "    agg_data, \n",
    "    x='Political regime', \n",
    "    y='Country_count', \n",
    "    color='Ops_Environment_level', \n",
    "    title=\"Countries by Political Regime and Operating Environment level\", \n",
    "    color_discrete_sequence=px.colors.qualitative.Prism,\n",
    "    height=600)\n",
    "fig.show()"
   ]
  },
  {
   "cell_type": "markdown",
   "id": "8a6e27f1",
   "metadata": {
    "papermill": {
     "duration": 0.046837,
     "end_time": "2023-08-09T09:38:22.798889",
     "exception": false,
     "start_time": "2023-08-09T09:38:22.752052",
     "status": "completed"
    },
    "tags": []
   },
   "source": [
    "## <div style=\"font-size:20px;text-align:center;color:black;border-bottom:5px #0026d6 solid;padding-bottom:3%\">Operating Environment: Geospacial view</div>"
   ]
  },
  {
   "cell_type": "code",
   "execution_count": null,
   "id": "cc40e82d",
   "metadata": {
    "_kg_hide-input": true,
    "execution": {
     "iopub.execute_input": "2023-08-09T09:38:22.896336Z",
     "iopub.status.busy": "2023-08-09T09:38:22.895260Z",
     "iopub.status.idle": "2023-08-09T09:38:22.989847Z",
     "shell.execute_reply": "2023-08-09T09:38:22.988943Z"
    },
    "papermill": {
     "duration": 0.145613,
     "end_time": "2023-08-09T09:38:22.991795",
     "exception": false,
     "start_time": "2023-08-09T09:38:22.846182",
     "status": "completed"
    },
    "tags": []
   },
   "outputs": [
    {
     "name": "stderr",
     "output_type": "stream",
     "text": [
      "/tmp/ipykernel_20/4202447978.py:14: SettingWithCopyWarning:\n",
      "\n",
      "\n",
      "A value is trying to be set on a copy of a slice from a DataFrame.\n",
      "Try using .loc[row_indexer,col_indexer] = value instead\n",
      "\n",
      "See the caveats in the documentation: https://pandas.pydata.org/pandas-docs/stable/user_guide/indexing.html#returning-a-view-versus-a-copy\n",
      "\n"
     ]
    },
    {
     "data": {
      "text/html": [
       "<div>                            <div id=\"85839290-511c-44e5-9875-5f3334ec5f98\" class=\"plotly-graph-div\" style=\"height:400px; width:800px;\"></div>            <script type=\"text/javascript\">                require([\"plotly\"], function(Plotly) {                    window.PLOTLYENV=window.PLOTLYENV || {};                                    if (document.getElementById(\"85839290-511c-44e5-9875-5f3334ec5f98\")) {                    Plotly.newPlot(                        \"85839290-511c-44e5-9875-5f3334ec5f98\",                        [{\"geo\":\"geo\",\"hovertemplate\":\"\\u003cb\\u003e%{hovertext}\\u003c\\u002fb\\u003e\\u003cbr\\u003e\\u003cbr\\u003eSize=%{marker.size}\\u003cbr\\u003eCountry=%{location}\\u003cbr\\u003eOperating Environment=%{marker.color}\\u003cextra\\u003e\\u003c\\u002fextra\\u003e\",\"hovertext\":[\"United States of America\",\"China\",\"United Kingdom\",\"Canada\",\"Israel\",\"Singapore\",\"South Korea\",\"The Netherlands\",\"Germany\",\"France\",\"Australia\",\"Ireland\",\"Finland\",\"Denmark\",\"Luxembourg\",\"Japan\",\"India\",\"Switzerland\",\"Sweden\",\"Hong Kong\",\"Spain\",\"Austria\",\"Estonia\",\"Taiwan\",\"Norway\",\"Saudi Arabia\",\"Belgium\",\"Poland\",\"Slovenia\",\"New Zealand\",\"Italy\",\"Russia\",\"Malta\",\"United Arab Emirates\",\"Portugal\",\"Czech Republic\",\"Iceland\",\"Lithuania\",\"Brazil\",\"Greece\",\"Slovakia\",\"Hungary\",\"Malaysia\",\"Mexico\",\"Chile\",\"Argentina\",\"Qatar\",\"Turkey\",\"Colombia\",\"Uruguay\",\"Bahrain\",\"Vietnam\",\"Indonesia\",\"Tunisia\",\"South Africa\",\"Morocco\",\"Armenia\",\"Sri Lanka\",\"Egypt\",\"Kenya\",\"Nigeria\",\"Pakistan\"],\"legendgroup\":\"\",\"locationmode\":\"country names\",\"locations\":[\"United States of America\",\"China\",\"United Kingdom\",\"Canada\",\"Israel\",\"Singapore\",\"South Korea\",\"The Netherlands\",\"Germany\",\"France\",\"Australia\",\"Ireland\",\"Finland\",\"Denmark\",\"Luxembourg\",\"Japan\",\"India\",\"Switzerland\",\"Sweden\",\"Hong Kong\",\"Spain\",\"Austria\",\"Estonia\",\"Taiwan\",\"Norway\",\"Saudi Arabia\",\"Belgium\",\"Poland\",\"Slovenia\",\"New Zealand\",\"Italy\",\"Russia\",\"Malta\",\"United Arab Emirates\",\"Portugal\",\"Czech Republic\",\"Iceland\",\"Lithuania\",\"Brazil\",\"Greece\",\"Slovakia\",\"Hungary\",\"Malaysia\",\"Mexico\",\"Chile\",\"Argentina\",\"Qatar\",\"Turkey\",\"Colombia\",\"Uruguay\",\"Bahrain\",\"Vietnam\",\"Indonesia\",\"Tunisia\",\"South Africa\",\"Morocco\",\"Armenia\",\"Sri Lanka\",\"Egypt\",\"Kenya\",\"Nigeria\",\"Pakistan\"],\"marker\":{\"color\":[64.56,91.57,74.65,93.94,82.44,43.15,68.86,88.05,70.22,80.02,61.23,70.15,78.76,85.39,66.96,57.53,77.3,44.14,66.77,59.5,75.36,76.3,88.67,56.67,36.65,100.0,64.08,99.56,94.55,90.35,83.25,52.85,70.96,72.12,80.66,76.97,41.19,80.67,72.82,83.58,88.71,58.01,73.24,97.03,56.73,75.95,62.58,64.34,62.37,70.75,60.9,37.61,51.18,62.32,58.43,60.17,58.4,35.79,0.0,29.84,50.1,12.48],\"coloraxis\":\"coloraxis\",\"size\":[0.05240267879304842,0.0735369758330127,0.06035007432780042,0.07537027035810918,0.06644295654871396,0.03532692423827528,0.055797302763209884,0.07080789001051174,0.056868557020704584,0.06455414601550222,0.04976587848155902,0.05681344693830091,0.06356930159601994,0.06874061745135517,0.054298773407378875,0.04682792277207928,0.062426918272639374,0.03612297138378674,0.05414879689026275,0.04839326001657319,0.06090693490352136,0.06164371021255338,0.07128912197360066,0.046143808514231124,0.03008455397751391,0.08004270767353636,0.05202302806715181,0.07970418884404078,0.07584158762129516,0.07259194260905746,0.06707436566432085,0.04309939926429567,0.057450963635676346,0.05836324329691498,0.06505401324867949,0.06216852741980406,0.03374904004637396,0.06506182169194928,0.05891335451183794,0.06733149216028525,0.07132016124604261,0.04720955057829627,0.05924327604063892,0.07775547857354476,0.04619155260590874,0.061369442407915205,0.050835689702495294,0.052228690101874316,0.05066934977458862,0.057285720550920315,0.04950419490308909,0.030860543605259326,0.041765549232467614,0.050629740951321923,0.04754335548037994,0.04892507570338245,0.047519515967976364,0.029388884893788103,0.0,0.02456252282825223,0.04090199132042574,0.010346292054144267],\"sizemode\":\"area\",\"sizeref\":0.00020010676918384089,\"symbol\":\"circle\"},\"mode\":\"markers\",\"name\":\"\",\"showlegend\":false,\"type\":\"scattergeo\"}],                        {\"template\":{\"data\":{\"barpolar\":[{\"marker\":{\"line\":{\"color\":\"white\",\"width\":0.5},\"pattern\":{\"fillmode\":\"overlay\",\"size\":10,\"solidity\":0.2}},\"type\":\"barpolar\"}],\"bar\":[{\"error_x\":{\"color\":\"#2a3f5f\"},\"error_y\":{\"color\":\"#2a3f5f\"},\"marker\":{\"line\":{\"color\":\"white\",\"width\":0.5},\"pattern\":{\"fillmode\":\"overlay\",\"size\":10,\"solidity\":0.2}},\"type\":\"bar\"}],\"carpet\":[{\"aaxis\":{\"endlinecolor\":\"#2a3f5f\",\"gridcolor\":\"#C8D4E3\",\"linecolor\":\"#C8D4E3\",\"minorgridcolor\":\"#C8D4E3\",\"startlinecolor\":\"#2a3f5f\"},\"baxis\":{\"endlinecolor\":\"#2a3f5f\",\"gridcolor\":\"#C8D4E3\",\"linecolor\":\"#C8D4E3\",\"minorgridcolor\":\"#C8D4E3\",\"startlinecolor\":\"#2a3f5f\"},\"type\":\"carpet\"}],\"choropleth\":[{\"colorbar\":{\"outlinewidth\":0,\"ticks\":\"\"},\"type\":\"choropleth\"}],\"contourcarpet\":[{\"colorbar\":{\"outlinewidth\":0,\"ticks\":\"\"},\"type\":\"contourcarpet\"}],\"contour\":[{\"colorbar\":{\"outlinewidth\":0,\"ticks\":\"\"},\"colorscale\":[[0.0,\"#0d0887\"],[0.1111111111111111,\"#46039f\"],[0.2222222222222222,\"#7201a8\"],[0.3333333333333333,\"#9c179e\"],[0.4444444444444444,\"#bd3786\"],[0.5555555555555556,\"#d8576b\"],[0.6666666666666666,\"#ed7953\"],[0.7777777777777778,\"#fb9f3a\"],[0.8888888888888888,\"#fdca26\"],[1.0,\"#f0f921\"]],\"type\":\"contour\"}],\"heatmapgl\":[{\"colorbar\":{\"outlinewidth\":0,\"ticks\":\"\"},\"colorscale\":[[0.0,\"#0d0887\"],[0.1111111111111111,\"#46039f\"],[0.2222222222222222,\"#7201a8\"],[0.3333333333333333,\"#9c179e\"],[0.4444444444444444,\"#bd3786\"],[0.5555555555555556,\"#d8576b\"],[0.6666666666666666,\"#ed7953\"],[0.7777777777777778,\"#fb9f3a\"],[0.8888888888888888,\"#fdca26\"],[1.0,\"#f0f921\"]],\"type\":\"heatmapgl\"}],\"heatmap\":[{\"colorbar\":{\"outlinewidth\":0,\"ticks\":\"\"},\"colorscale\":[[0.0,\"#0d0887\"],[0.1111111111111111,\"#46039f\"],[0.2222222222222222,\"#7201a8\"],[0.3333333333333333,\"#9c179e\"],[0.4444444444444444,\"#bd3786\"],[0.5555555555555556,\"#d8576b\"],[0.6666666666666666,\"#ed7953\"],[0.7777777777777778,\"#fb9f3a\"],[0.8888888888888888,\"#fdca26\"],[1.0,\"#f0f921\"]],\"type\":\"heatmap\"}],\"histogram2dcontour\":[{\"colorbar\":{\"outlinewidth\":0,\"ticks\":\"\"},\"colorscale\":[[0.0,\"#0d0887\"],[0.1111111111111111,\"#46039f\"],[0.2222222222222222,\"#7201a8\"],[0.3333333333333333,\"#9c179e\"],[0.4444444444444444,\"#bd3786\"],[0.5555555555555556,\"#d8576b\"],[0.6666666666666666,\"#ed7953\"],[0.7777777777777778,\"#fb9f3a\"],[0.8888888888888888,\"#fdca26\"],[1.0,\"#f0f921\"]],\"type\":\"histogram2dcontour\"}],\"histogram2d\":[{\"colorbar\":{\"outlinewidth\":0,\"ticks\":\"\"},\"colorscale\":[[0.0,\"#0d0887\"],[0.1111111111111111,\"#46039f\"],[0.2222222222222222,\"#7201a8\"],[0.3333333333333333,\"#9c179e\"],[0.4444444444444444,\"#bd3786\"],[0.5555555555555556,\"#d8576b\"],[0.6666666666666666,\"#ed7953\"],[0.7777777777777778,\"#fb9f3a\"],[0.8888888888888888,\"#fdca26\"],[1.0,\"#f0f921\"]],\"type\":\"histogram2d\"}],\"histogram\":[{\"marker\":{\"pattern\":{\"fillmode\":\"overlay\",\"size\":10,\"solidity\":0.2}},\"type\":\"histogram\"}],\"mesh3d\":[{\"colorbar\":{\"outlinewidth\":0,\"ticks\":\"\"},\"type\":\"mesh3d\"}],\"parcoords\":[{\"line\":{\"colorbar\":{\"outlinewidth\":0,\"ticks\":\"\"}},\"type\":\"parcoords\"}],\"pie\":[{\"automargin\":true,\"type\":\"pie\"}],\"scatter3d\":[{\"line\":{\"colorbar\":{\"outlinewidth\":0,\"ticks\":\"\"}},\"marker\":{\"colorbar\":{\"outlinewidth\":0,\"ticks\":\"\"}},\"type\":\"scatter3d\"}],\"scattercarpet\":[{\"marker\":{\"colorbar\":{\"outlinewidth\":0,\"ticks\":\"\"}},\"type\":\"scattercarpet\"}],\"scattergeo\":[{\"marker\":{\"colorbar\":{\"outlinewidth\":0,\"ticks\":\"\"}},\"type\":\"scattergeo\"}],\"scattergl\":[{\"marker\":{\"colorbar\":{\"outlinewidth\":0,\"ticks\":\"\"}},\"type\":\"scattergl\"}],\"scattermapbox\":[{\"marker\":{\"colorbar\":{\"outlinewidth\":0,\"ticks\":\"\"}},\"type\":\"scattermapbox\"}],\"scatterpolargl\":[{\"marker\":{\"colorbar\":{\"outlinewidth\":0,\"ticks\":\"\"}},\"type\":\"scatterpolargl\"}],\"scatterpolar\":[{\"marker\":{\"colorbar\":{\"outlinewidth\":0,\"ticks\":\"\"}},\"type\":\"scatterpolar\"}],\"scatter\":[{\"fillpattern\":{\"fillmode\":\"overlay\",\"size\":10,\"solidity\":0.2},\"type\":\"scatter\"}],\"scatterternary\":[{\"marker\":{\"colorbar\":{\"outlinewidth\":0,\"ticks\":\"\"}},\"type\":\"scatterternary\"}],\"surface\":[{\"colorbar\":{\"outlinewidth\":0,\"ticks\":\"\"},\"colorscale\":[[0.0,\"#0d0887\"],[0.1111111111111111,\"#46039f\"],[0.2222222222222222,\"#7201a8\"],[0.3333333333333333,\"#9c179e\"],[0.4444444444444444,\"#bd3786\"],[0.5555555555555556,\"#d8576b\"],[0.6666666666666666,\"#ed7953\"],[0.7777777777777778,\"#fb9f3a\"],[0.8888888888888888,\"#fdca26\"],[1.0,\"#f0f921\"]],\"type\":\"surface\"}],\"table\":[{\"cells\":{\"fill\":{\"color\":\"#EBF0F8\"},\"line\":{\"color\":\"white\"}},\"header\":{\"fill\":{\"color\":\"#C8D4E3\"},\"line\":{\"color\":\"white\"}},\"type\":\"table\"}]},\"layout\":{\"annotationdefaults\":{\"arrowcolor\":\"#2a3f5f\",\"arrowhead\":0,\"arrowwidth\":1},\"autotypenumbers\":\"strict\",\"coloraxis\":{\"colorbar\":{\"outlinewidth\":0,\"ticks\":\"\"}},\"colorscale\":{\"diverging\":[[0,\"#8e0152\"],[0.1,\"#c51b7d\"],[0.2,\"#de77ae\"],[0.3,\"#f1b6da\"],[0.4,\"#fde0ef\"],[0.5,\"#f7f7f7\"],[0.6,\"#e6f5d0\"],[0.7,\"#b8e186\"],[0.8,\"#7fbc41\"],[0.9,\"#4d9221\"],[1,\"#276419\"]],\"sequential\":[[0.0,\"#0d0887\"],[0.1111111111111111,\"#46039f\"],[0.2222222222222222,\"#7201a8\"],[0.3333333333333333,\"#9c179e\"],[0.4444444444444444,\"#bd3786\"],[0.5555555555555556,\"#d8576b\"],[0.6666666666666666,\"#ed7953\"],[0.7777777777777778,\"#fb9f3a\"],[0.8888888888888888,\"#fdca26\"],[1.0,\"#f0f921\"]],\"sequentialminus\":[[0.0,\"#0d0887\"],[0.1111111111111111,\"#46039f\"],[0.2222222222222222,\"#7201a8\"],[0.3333333333333333,\"#9c179e\"],[0.4444444444444444,\"#bd3786\"],[0.5555555555555556,\"#d8576b\"],[0.6666666666666666,\"#ed7953\"],[0.7777777777777778,\"#fb9f3a\"],[0.8888888888888888,\"#fdca26\"],[1.0,\"#f0f921\"]]},\"colorway\":[\"#636efa\",\"#EF553B\",\"#00cc96\",\"#ab63fa\",\"#FFA15A\",\"#19d3f3\",\"#FF6692\",\"#B6E880\",\"#FF97FF\",\"#FECB52\"],\"font\":{\"color\":\"#2a3f5f\"},\"geo\":{\"bgcolor\":\"white\",\"lakecolor\":\"white\",\"landcolor\":\"white\",\"showlakes\":true,\"showland\":true,\"subunitcolor\":\"#C8D4E3\"},\"hoverlabel\":{\"align\":\"left\"},\"hovermode\":\"closest\",\"mapbox\":{\"style\":\"light\"},\"paper_bgcolor\":\"white\",\"plot_bgcolor\":\"white\",\"polar\":{\"angularaxis\":{\"gridcolor\":\"#EBF0F8\",\"linecolor\":\"#EBF0F8\",\"ticks\":\"\"},\"bgcolor\":\"white\",\"radialaxis\":{\"gridcolor\":\"#EBF0F8\",\"linecolor\":\"#EBF0F8\",\"ticks\":\"\"}},\"scene\":{\"xaxis\":{\"backgroundcolor\":\"white\",\"gridcolor\":\"#DFE8F3\",\"gridwidth\":2,\"linecolor\":\"#EBF0F8\",\"showbackground\":true,\"ticks\":\"\",\"zerolinecolor\":\"#EBF0F8\"},\"yaxis\":{\"backgroundcolor\":\"white\",\"gridcolor\":\"#DFE8F3\",\"gridwidth\":2,\"linecolor\":\"#EBF0F8\",\"showbackground\":true,\"ticks\":\"\",\"zerolinecolor\":\"#EBF0F8\"},\"zaxis\":{\"backgroundcolor\":\"white\",\"gridcolor\":\"#DFE8F3\",\"gridwidth\":2,\"linecolor\":\"#EBF0F8\",\"showbackground\":true,\"ticks\":\"\",\"zerolinecolor\":\"#EBF0F8\"}},\"shapedefaults\":{\"line\":{\"color\":\"#2a3f5f\"}},\"ternary\":{\"aaxis\":{\"gridcolor\":\"#DFE8F3\",\"linecolor\":\"#A2B1C6\",\"ticks\":\"\"},\"baxis\":{\"gridcolor\":\"#DFE8F3\",\"linecolor\":\"#A2B1C6\",\"ticks\":\"\"},\"bgcolor\":\"white\",\"caxis\":{\"gridcolor\":\"#DFE8F3\",\"linecolor\":\"#A2B1C6\",\"ticks\":\"\"}},\"title\":{\"x\":0.05},\"xaxis\":{\"automargin\":true,\"gridcolor\":\"#EBF0F8\",\"linecolor\":\"#EBF0F8\",\"ticks\":\"\",\"title\":{\"standoff\":15},\"zerolinecolor\":\"#EBF0F8\",\"zerolinewidth\":2},\"yaxis\":{\"automargin\":true,\"gridcolor\":\"#EBF0F8\",\"linecolor\":\"#EBF0F8\",\"ticks\":\"\",\"title\":{\"standoff\":15},\"zerolinecolor\":\"#EBF0F8\",\"zerolinewidth\":2}}},\"geo\":{\"domain\":{\"x\":[0.0,1.0],\"y\":[0.0,1.0]},\"projection\":{\"type\":\"natural earth\"},\"center\":{}},\"coloraxis\":{\"colorbar\":{\"title\":{\"text\":\"Operating Environment\"}},\"colorscale\":[[0.0,\"rgb(217,30,30)\"],[0.25,\"rgb(242,143,56)\"],[0.5,\"rgb(242,211,56)\"],[0.75,\"rgb(10,136,186)\"],[1.0,\"rgb(12,51,131)\"]],\"cmin\":0,\"cmax\":100},\"legend\":{\"tracegroupgap\":0,\"itemsizing\":\"constant\"},\"title\":{\"text\":\"AI Operating Environment Across the Globe\"},\"margin\":{\"t\":40,\"b\":0,\"l\":5,\"r\":5},\"showlegend\":true,\"width\":800,\"height\":400,\"autosize\":false},                        {\"responsive\": true}                    ).then(function(){\n",
       "                            \n",
       "var gd = document.getElementById('85839290-511c-44e5-9875-5f3334ec5f98');\n",
       "var x = new MutationObserver(function (mutations, observer) {{\n",
       "        var display = window.getComputedStyle(gd).display;\n",
       "        if (!display || display === 'none') {{\n",
       "            console.log([gd, 'removed!']);\n",
       "            Plotly.purge(gd);\n",
       "            observer.disconnect();\n",
       "        }}\n",
       "}});\n",
       "\n",
       "// Listen for the removal of the full notebook cells\n",
       "var notebookContainer = gd.closest('#notebook-container');\n",
       "if (notebookContainer) {{\n",
       "    x.observe(notebookContainer, {childList: true});\n",
       "}}\n",
       "\n",
       "// Listen for the clearing of the current output cell\n",
       "var outputEl = gd.closest('.output');\n",
       "if (outputEl) {{\n",
       "    x.observe(outputEl, {childList: true});\n",
       "}}\n",
       "\n",
       "                        })                };                });            </script>        </div>"
      ]
     },
     "metadata": {},
     "output_type": "display_data"
    }
   ],
   "source": [
    "# set the size of the geo bubble\n",
    "def set_op_env_size(value):\n",
    "    '''\n",
    "    Takes the numeric value of a parameter to visualize on a map (Plotly Geo-Scatter plot)\n",
    "    Returns a number to indicate the size of a bubble for a country which numeric attribute value \n",
    "    was supplied as an input\n",
    "    '''\n",
    "    result = np.log(1+value/1200)\n",
    "\n",
    "    if result < 0:\n",
    "        result = 0.001\n",
    "    return result\n",
    "\n",
    "ops_df['Size'] = ops_df.apply(lambda x: set_op_env_size(x['Operating Environment']), axis=1)\n",
    "\n",
    "fig = px.scatter_geo(\n",
    "    ops_df, locations=\"Country\", locationmode='country names', \n",
    "    color=\"Operating Environment\", \n",
    "    size='Size', hover_name=\"Country\", \n",
    "    range_color= [0, 100], \n",
    "    projection=\"natural earth\",\n",
    "    title='AI Operating Environment Across the Globe', \n",
    "    color_continuous_scale=\"portland_r\")\n",
    "\n",
    "# Update visual layout\n",
    "fig.update_layout(\n",
    "    showlegend=True,\n",
    "    width=800,\n",
    "    height=400,\n",
    "    autosize=False,\n",
    "    margin=dict(t=40, b=0, l=5, r=5),\n",
    "    template=\"plotly_white\",\n",
    ")\n",
    "\n",
    "fig.show()"
   ]
  },
  {
   "cell_type": "code",
   "execution_count": null,
   "id": "5535fb8a",
   "metadata": {
    "_kg_hide-input": true,
    "execution": {
     "iopub.execute_input": "2023-08-09T09:38:23.095880Z",
     "iopub.status.busy": "2023-08-09T09:38:23.094902Z",
     "iopub.status.idle": "2023-08-09T09:38:23.109917Z",
     "shell.execute_reply": "2023-08-09T09:38:23.109117Z"
    },
    "papermill": {
     "duration": 0.071059,
     "end_time": "2023-08-09T09:38:23.112135",
     "exception": false,
     "start_time": "2023-08-09T09:38:23.041076",
     "status": "completed"
    },
    "tags": []
   },
   "outputs": [
    {
     "data": {
      "text/html": [
       "<style type=\"text/css\">\n",
       "#T_16a8d_row0_col1 {\n",
       "  background-color: #800000;\n",
       "  color: #f1f1f1;\n",
       "}\n",
       "#T_16a8d_row1_col1 {\n",
       "  background-color: #920000;\n",
       "  color: #f1f1f1;\n",
       "}\n",
       "#T_16a8d_row2_col1 {\n",
       "  background-color: #fe0000;\n",
       "  color: #f1f1f1;\n",
       "}\n",
       "#T_16a8d_row3_col1 {\n",
       "  background-color: #ffd1d1;\n",
       "  color: #000000;\n",
       "}\n",
       "#T_16a8d_row4_col1 {\n",
       "  background-color: #f9f9ff;\n",
       "  color: #000000;\n",
       "}\n",
       "#T_16a8d_row5_col1 {\n",
       "  background-color: #2d2dff;\n",
       "  color: #f1f1f1;\n",
       "}\n",
       "#T_16a8d_row6_col1 {\n",
       "  background-color: #0000d6;\n",
       "  color: #f1f1f1;\n",
       "}\n",
       "#T_16a8d_row7_col1 {\n",
       "  background-color: #000074;\n",
       "  color: #f1f1f1;\n",
       "}\n",
       "#T_16a8d_row8_col1 {\n",
       "  background-color: #000071;\n",
       "  color: #f1f1f1;\n",
       "}\n",
       "#T_16a8d_row9_col1 {\n",
       "  background-color: #00004c;\n",
       "  color: #f1f1f1;\n",
       "}\n",
       "</style>\n",
       "<table id=\"T_16a8d\">\n",
       "  <thead>\n",
       "    <tr>\n",
       "      <th class=\"blank level0\" >&nbsp;</th>\n",
       "      <th id=\"T_16a8d_level0_col0\" class=\"col_heading level0 col0\" >Country</th>\n",
       "      <th id=\"T_16a8d_level0_col1\" class=\"col_heading level0 col1\" >Operating Environment</th>\n",
       "    </tr>\n",
       "  </thead>\n",
       "  <tbody>\n",
       "    <tr>\n",
       "      <th id=\"T_16a8d_level0_row0\" class=\"row_heading level0 row0\" >25</th>\n",
       "      <td id=\"T_16a8d_row0_col0\" class=\"data row0 col0\" >Saudi Arabia</td>\n",
       "      <td id=\"T_16a8d_row0_col1\" class=\"data row0 col1\" >100.000000</td>\n",
       "    </tr>\n",
       "    <tr>\n",
       "      <th id=\"T_16a8d_level0_row1\" class=\"row_heading level0 row1\" >27</th>\n",
       "      <td id=\"T_16a8d_row1_col0\" class=\"data row1 col0\" >Poland</td>\n",
       "      <td id=\"T_16a8d_row1_col1\" class=\"data row1 col1\" >99.560000</td>\n",
       "    </tr>\n",
       "    <tr>\n",
       "      <th id=\"T_16a8d_level0_row2\" class=\"row_heading level0 row2\" >43</th>\n",
       "      <td id=\"T_16a8d_row2_col0\" class=\"data row2 col0\" >Mexico</td>\n",
       "      <td id=\"T_16a8d_row2_col1\" class=\"data row2 col1\" >97.030000</td>\n",
       "    </tr>\n",
       "    <tr>\n",
       "      <th id=\"T_16a8d_level0_row3\" class=\"row_heading level0 row3\" >28</th>\n",
       "      <td id=\"T_16a8d_row3_col0\" class=\"data row3 col0\" >Slovenia</td>\n",
       "      <td id=\"T_16a8d_row3_col1\" class=\"data row3 col1\" >94.550000</td>\n",
       "    </tr>\n",
       "    <tr>\n",
       "      <th id=\"T_16a8d_level0_row4\" class=\"row_heading level0 row4\" >3</th>\n",
       "      <td id=\"T_16a8d_row4_col0\" class=\"data row4 col0\" >Canada</td>\n",
       "      <td id=\"T_16a8d_row4_col1\" class=\"data row4 col1\" >93.940000</td>\n",
       "    </tr>\n",
       "    <tr>\n",
       "      <th id=\"T_16a8d_level0_row5\" class=\"row_heading level0 row5\" >1</th>\n",
       "      <td id=\"T_16a8d_row5_col0\" class=\"data row5 col0\" >China</td>\n",
       "      <td id=\"T_16a8d_row5_col1\" class=\"data row5 col1\" >91.570000</td>\n",
       "    </tr>\n",
       "    <tr>\n",
       "      <th id=\"T_16a8d_level0_row6\" class=\"row_heading level0 row6\" >29</th>\n",
       "      <td id=\"T_16a8d_row6_col0\" class=\"data row6 col0\" >New Zealand</td>\n",
       "      <td id=\"T_16a8d_row6_col1\" class=\"data row6 col1\" >90.350000</td>\n",
       "    </tr>\n",
       "    <tr>\n",
       "      <th id=\"T_16a8d_level0_row7\" class=\"row_heading level0 row7\" >40</th>\n",
       "      <td id=\"T_16a8d_row7_col0\" class=\"data row7 col0\" >Slovakia</td>\n",
       "      <td id=\"T_16a8d_row7_col1\" class=\"data row7 col1\" >88.710000</td>\n",
       "    </tr>\n",
       "    <tr>\n",
       "      <th id=\"T_16a8d_level0_row8\" class=\"row_heading level0 row8\" >22</th>\n",
       "      <td id=\"T_16a8d_row8_col0\" class=\"data row8 col0\" >Estonia</td>\n",
       "      <td id=\"T_16a8d_row8_col1\" class=\"data row8 col1\" >88.670000</td>\n",
       "    </tr>\n",
       "    <tr>\n",
       "      <th id=\"T_16a8d_level0_row9\" class=\"row_heading level0 row9\" >7</th>\n",
       "      <td id=\"T_16a8d_row9_col0\" class=\"data row9 col0\" >The Netherlands</td>\n",
       "      <td id=\"T_16a8d_row9_col1\" class=\"data row9 col1\" >88.050000</td>\n",
       "    </tr>\n",
       "  </tbody>\n",
       "</table>\n"
      ],
      "text/plain": [
       "<pandas.io.formats.style.Styler at 0x7e9abda5f8e0>"
      ]
     },
     "execution_count": 69,
     "metadata": {},
     "output_type": "execute_result"
    }
   ],
   "source": [
    "ops_df.sort_values('Operating Environment', \n",
    "                   ascending=False)[\n",
    "                        [ \n",
    "                          'Country',\n",
    "                          'Operating Environment'\n",
    "                        ]\n",
    "][:10].style.background_gradient(cmap='seismic')"
   ]
  },
  {
   "cell_type": "markdown",
   "id": "428ed91d",
   "metadata": {
    "papermill": {
     "duration": 0.04785,
     "end_time": "2023-08-09T09:38:23.219665",
     "exception": false,
     "start_time": "2023-08-09T09:38:23.171815",
     "status": "completed"
    },
    "tags": []
   },
   "source": [
    "# <div style=\"color:white;background-color:#1d1545;padding:3%;border-radius:50px 50px;font-size:1em;text-align:center\">References</div>\n",
    "\n",
    "- 'T-Minus AI': A look at the intersection of geopolitics and autonomy (Aug 17, 2020) - https://www.c4isrnet.com/opinion/2020/08/16/t-minus-ai-a-look-at-the-intersection-of-geopolitics-and-autonomy/\n",
    "- Artificial Intelligence and Great Power Competition (Mar 28, 2023) - https://www.cfr.org/podcasts/artificial-intelligence-and-great-power-competition-paul-scharre\n",
    "- AI is supposedly the new nuclear weapons — but how similar are they, really? (Jun 29, 2023) - https://www.vox.com/future-perfect/2023/6/29/23762219/ai-artificial-intelligence-new-nuclear-weapons-future\n",
    "- U.S.-China tech battle entering its ‘primetime’ — and generative A.I. could be the next frontier (Jun 22, 2023) - https://www.cnbc.com/2023/06/23/us-china-tech-war-why-generative-ai-could-be-the-next-battleground.html\n",
    "- MACHINE POLITICS: EUROPE AND THE AI REVOLUTION (Jul. 1, 2019) - https://www.jstor.org/stable/resrep21907  \n",
    "- Military Uses of AI: A Risk to International Stability? (Jan 1, 2021) - https://www.jstor.org/stable/resrep28649.5\n",
    "- Global AI Race: Dominant Players and Aspiring Challengers (Jun 26, 2023) - https://intersog.com/blog/ai-dominant-players-and-aspiring-challengers/\n",
    "- State of AI Report - https://stateof.ai"
   ]
  }
 ],
 "metadata": {
  "kernelspec": {
   "display_name": "Python 3",
   "language": "python",
   "name": "python3"
  },
  "language_info": {
   "codemirror_mode": {
    "name": "ipython",
    "version": 3
   },
   "file_extension": ".py",
   "mimetype": "text/x-python",
   "name": "python",
   "nbconvert_exporter": "python",
   "pygments_lexer": "ipython3",
   "version": "3.11.9"
  },
  "papermill": {
   "default_parameters": {},
   "duration": 30.248533,
   "end_time": "2023-08-09T09:38:24.391036",
   "environment_variables": {},
   "exception": null,
   "input_path": "__notebook__.ipynb",
   "output_path": "__notebook__.ipynb",
   "parameters": {},
   "start_time": "2023-08-09T09:37:54.142503",
   "version": "2.4.0"
  }
 },
 "nbformat": 4,
 "nbformat_minor": 5
}
